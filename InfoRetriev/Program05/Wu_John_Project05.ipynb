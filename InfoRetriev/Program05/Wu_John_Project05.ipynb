{
 "cells": [
  {
   "cell_type": "markdown",
   "metadata": {},
   "source": [
    "# Programming Assignment 05\n",
    "Student: John Wu"
   ]
  },
  {
   "cell_type": "code",
   "execution_count": 2,
   "metadata": {},
   "outputs": [],
   "source": [
    "import sys, os, nltk, string\n",
    "import numpy as np, tokenHelper as tkn\n",
    "from collections import Counter"
   ]
  },
  {
   "cell_type": "code",
   "execution_count": 3,
   "metadata": {},
   "outputs": [],
   "source": [
    "fName = os.path.join(os.getcwd(), '19991220-Excite-QueryLog.utf8.tsv')\n",
    "\n",
    "header = ['timestamp', 'userID', 'firstRank', 'query'] # variable names\n",
    "raw = np.genfromtxt(fName, delimiter='\\t', dtype=None, names=header, \n",
    "              comments=None, encoding='utf-8')\n",
    "qry = np.char.lower(raw['query'])"
   ]
  },
  {
   "cell_type": "markdown",
   "metadata": {},
   "source": [
    "## Simple Analysis"
   ]
  },
  {
   "cell_type": "markdown",
   "metadata": {},
   "source": [
    "### Q1. What is the average number of queries per user id?"
   ]
  },
  {
   "cell_type": "code",
   "execution_count": 9,
   "metadata": {},
   "outputs": [
    {
     "name": "stdout",
     "output_type": "stream",
     "text": [
      "On avg, 4.61 queries per user.\n"
     ]
    }
   ],
   "source": [
    "uid,uidInv = np.unique(raw['userID'], return_inverse=True)\n",
    "print('On average, %.2f queries per user.'%(len(raw)/len(uid)))"
   ]
  },
  {
   "cell_type": "markdown",
   "metadata": {},
   "source": [
    "### Q2. Report the mean and median query length in both words and characters.\n",
    "#### In Characters\n",
    "First, query length in characters is simple. One just needs to find the length of the query string and calculate based on that."
   ]
  },
  {
   "cell_type": "code",
   "execution_count": 35,
   "metadata": {},
   "outputs": [
    {
     "name": "stdout",
     "output_type": "stream",
     "text": [
      "Mean query length is 20.51 characters.\n",
      "Median query length is 17.00 characters.\n"
     ]
    }
   ],
   "source": [
    "tmp = np.char.count(qry, '') - 1\n",
    "print(\"Mean query length is %.2f characters.\"%np.mean(tmp))\n",
    "print(\"Median query length is %.2f characters.\"%np.median(tmp))"
   ]
  },
  {
   "cell_type": "markdown",
   "metadata": {},
   "source": [
    "### In Words\n",
    "For query lengths in words, it is slightly more complicated, as it would depend on tokenization process. We take a simple approach by:\n",
    "1. Splitting query by any consecutive whitespaces\n",
    "1. Strip all punctuation from individual tokens\n",
    "1. Count the token if it's alphanumeric\n",
    "\n",
    "The effect of this would be:\n",
    "1. Counts strings like *\"Chinese-American\"* as one word.\n",
    "1. Disregardes tokens like *\"--\"*, e.g. *\"Leave -- no, come back\" is* only 4 words.\n",
    "1. Mix of letters and numbers, e.g. `python3` and `8.8.8.8` would count as one word. "
   ]
  },
  {
   "cell_type": "code",
   "execution_count": 26,
   "metadata": {},
   "outputs": [
    {
     "name": "stdout",
     "output_type": "stream",
     "text": [
      "Mean query length is 3.12 words.\n",
      "Median query length is 2.00 words.\n"
     ]
    }
   ],
   "source": [
    "################################################################################\n",
    "f = lambda x: sum([s.strip(string.punctuation).isalnum() for s in x.split()])\n",
    "tmp = [f(x) for x in qry]\n",
    "print(\"Mean query length is %.2f words.\"%np.mean(tmp))\n",
    "print(\"Median query length is %.2f words.\"%np.median(tmp))"
   ]
  },
  {
   "cell_type": "markdown",
   "metadata": {},
   "source": [
    "## Q3. What percentage of queries are mixed case? All upper case? All lower case?\n",
    "### All upper case\n",
    "One can use the numpy chararray built-in method of `isupper`. Note: returns `False` on entirely non-alphabetic strings."
   ]
  },
  {
   "cell_type": "code",
   "execution_count": 38,
   "metadata": {},
   "outputs": [
    {
     "name": "stdout",
     "output_type": "stream",
     "text": [
      "4.38%\n"
     ]
    }
   ],
   "source": [
    "qUpper = np.char.isupper(raw['query'])\n",
    "print( '{:.2%}'.format(np.mean(qUpper)) )"
   ]
  },
  {
   "cell_type": "markdown",
   "metadata": {},
   "source": [
    "### All lower case\n",
    "Likewise, one can use the numpy chararray built-in method of `islower`. Note: returns `False` on entirely non-alphabetic strings."
   ]
  },
  {
   "cell_type": "code",
   "execution_count": 41,
   "metadata": {},
   "outputs": [
    {
     "name": "stdout",
     "output_type": "stream",
     "text": [
      "66.94%\n"
     ]
    }
   ],
   "source": [
    "qLower = np.char.islower(raw['query'])\n",
    "print( '{:.2%}'.format(np.mean(qLower)) )"
   ]
  },
  {
   "cell_type": "markdown",
   "metadata": {},
   "source": [
    "### Mixed case\n",
    "If a string is not lower or upper case, then it's mixed case. Also returns `False` for entirely non-alphabetic strings."
   ]
  },
  {
   "cell_type": "code",
   "execution_count": 44,
   "metadata": {},
   "outputs": [
    {
     "name": "stdout",
     "output_type": "stream",
     "text": [
      "28.68%\n"
     ]
    }
   ],
   "source": [
    "print( '{:.2%}'.format( np.mean(np.logical_and(~qLower,~qUpper)) ))"
   ]
  },
  {
   "cell_type": "markdown",
   "metadata": {},
   "source": [
    "## Q4. What percent of the time does a user request only the top 10 results?"
   ]
  },
  {
   "cell_type": "code",
   "execution_count": 49,
   "metadata": {},
   "outputs": [
    {
     "name": "stdout",
     "output_type": "stream",
     "text": [
      "77.54%\n"
     ]
    }
   ],
   "source": [
    "print('{:.2%}'.format(np.mean(raw['firstRank']==0)))"
   ]
  },
  {
   "cell_type": "markdown",
   "metadata": {},
   "source": [
    "## Q5. What percent of unique queries are in the form of an explicit question? What is the most common type of question?"
   ]
  },
  {
   "cell_type": "code",
   "execution_count": null,
   "metadata": {},
   "outputs": [],
   "source": []
  },
  {
   "cell_type": "markdown",
   "metadata": {},
   "source": [
    "## Q6. What are the 20-most common queries issued?\n",
    "We use the [`Counter`](https://docs.python.org/2/library/collections.html#collections.Counter) class to count and retrieve the 20-most commone quries. All queries are converted to lower case prior to counting"
   ]
  },
  {
   "cell_type": "code",
   "execution_count": 32,
   "metadata": {
    "scrolled": true
   },
   "outputs": [
    {
     "name": "stdout",
     "output_type": "stream",
     "text": [
      "01: sex\n",
      "02: yahoo\n",
      "03: internal site admin check from kho\n",
      "04: chat\n",
      "05: pokemon\n",
      "06: porn\n",
      "07: horoscopes\n",
      "08: britney spears\n",
      "09: mp3\n",
      "10: games\n",
      "11: weather\n",
      "12: hotmail\n",
      "13: maps\n",
      "14: sitescope test\n",
      "15: christmas\n",
      "16: www.yahoo.com\n",
      "17: yahoo.com\n",
      "18: ebay\n",
      "19: recipes\n",
      "20: horoscope\n"
     ]
    }
   ],
   "source": [
    "qryCount = Counter(qry)\n",
    "qs,n = zip(*qryCount.most_common(20))\n",
    "print('\\n'.join(['%02u: %s'%(n+1,x) for n,x in enumerate(qs)]))"
   ]
  },
  {
   "cell_type": "markdown",
   "metadata": {},
   "source": [
    "## Q7. What are the 20 most common non-stopwords appearing in queries?"
   ]
  },
  {
   "cell_type": "code",
   "execution_count": 5,
   "metadata": {},
   "outputs": [
    {
     "name": "stdout",
     "output_type": "stream",
     "text": [
      "01: find\n",
      "02: free\n",
      "03: pictures\n",
      "04: sex\n",
      "05: information\n",
      "06: christmas\n",
      "07: nude\n",
      "08: new\n",
      "09: pics\n",
      "10: buy\n",
      "11: online\n",
      "12: get\n",
      "13: web\n",
      "14: music\n",
      "15: women\n",
      "16: games\n",
      "17: porn\n",
      "18: cards\n",
      "19: stories\n",
      "20: site\n"
     ]
    }
   ],
   "source": [
    "wds = Counter()\n",
    "for n,txt in enumerate(qry):\n",
    "    wds.update(tkn.tokenizeNoPunctStopword(txt))\n",
    "wd,n = zip(*wds.most_common(20))\n",
    "print('\\n'.join(['%02u: %s'%(n+1,x) for n,x in enumerate(wd)]))"
   ]
  },
  {
   "cell_type": "markdown",
   "metadata": {},
   "source": [
    "## Q8. What percent of queries contain stopwords like ‘and’, ‘the’, ‘of’, ‘in’, ‘at’?"
   ]
  },
  {
   "cell_type": "code",
   "execution_count": 28,
   "metadata": {},
   "outputs": [
    {
     "name": "stdout",
     "output_type": "stream",
     "text": [
      "26.99%\n"
     ]
    }
   ],
   "source": [
    "stopWords = tkn.engStopWords\n",
    "hasStop = lambda txt: any(x in stopWords for \\\n",
    "                      x in tkn.tokenizeNoPunct(txt))\n",
    "print('{:.2%}'.format(np.mean([hasStop(q) for q in qry])))"
   ]
  },
  {
   "cell_type": "markdown",
   "metadata": {},
   "source": [
    "## Q9. What are the 10 most common non-stopwords appearing in queries that contain the word download?"
   ]
  },
  {
   "cell_type": "code",
   "execution_count": 33,
   "metadata": {},
   "outputs": [
    {
     "name": "stdout",
     "output_type": "stream",
     "text": [
      "01: free\n",
      "02: games\n",
      "03: mp3\n",
      "04: music\n",
      "05: find\n",
      "06: game\n",
      "07: software\n",
      "08: full\n",
      "09: windows\n",
      "10: songs\n"
     ]
    }
   ],
   "source": [
    "wds = Counter()\n",
    "for n,txt in enumerate(qry):\n",
    "    bags = tkn.tokenizeNoPunctStopword(txt)\n",
    "    if 'download' in bags:\n",
    "        wds.update(bags)\n",
    "wds.pop('download', None) # needs to remove 'download' from words\n",
    "wd,n = zip(*wds.most_common(10))\n",
    "print('\\n'.join(['%02u: %s'%(n+1,x) for n,x in enumerate(wd)]))"
   ]
  },
  {
   "cell_type": "markdown",
   "metadata": {},
   "source": [
    "## Q10. What percentage of queries were asked by only one user?"
   ]
  },
  {
   "cell_type": "code",
   "execution_count": 34,
   "metadata": {},
   "outputs": [
    {
     "name": "stdout",
     "output_type": "stream",
     "text": [
      "72.64%\n"
     ]
    }
   ],
   "source": [
    "oneUser = [1 if n==1 else 0 for q,n in qryCount.items()]\n",
    "print('{:.2%}'.format(np.mean(oneUser)))"
   ]
  },
  {
   "cell_type": "markdown",
   "metadata": {},
   "source": [
    "## Q11. Find 10 examples of misspelled words (but not 10 examples of the same misspelled word)"
   ]
  },
  {
   "cell_type": "code",
   "execution_count": null,
   "metadata": {},
   "outputs": [],
   "source": []
  },
  {
   "cell_type": "markdown",
   "metadata": {},
   "source": [
    "## Q12. Which occurs in queries more often \"Al Gore\" or \"Johns Hopkins\"? \"Johns Hopkins\" or \"John Hopkins\"?\n",
    "### Al Gore vs. Johns Hopkins"
   ]
  },
  {
   "cell_type": "code",
   "execution_count": 35,
   "metadata": {},
   "outputs": [
    {
     "name": "stdout",
     "output_type": "stream",
     "text": [
      "Al Gore\n"
     ]
    }
   ],
   "source": [
    "alGore = np.char.find(qry, 'al gore') >= 0\n",
    "JsHs = np.char.find(qry, 'johns hopkins') >= 0\n",
    "if np.sum(alGore) > np.sum(JsHs):\n",
    "    print( 'Al Gore' )\n",
    "else:\n",
    "    print( 'Johns Hopkins' )"
   ]
  },
  {
   "cell_type": "markdown",
   "metadata": {},
   "source": [
    "### Johns Hopkins vs. John Hopkins"
   ]
  },
  {
   "cell_type": "code",
   "execution_count": 36,
   "metadata": {},
   "outputs": [
    {
     "name": "stdout",
     "output_type": "stream",
     "text": [
      "Johns Hopkins\n"
     ]
    }
   ],
   "source": [
    "JHs = np.char.find(qry, 'john hopkins') >= 0\n",
    "if np.sum(JHs) > np.sum(JsHs):\n",
    "    print( 'John Hopkins' )\n",
    "else:\n",
    "    print( 'Johns Hopkins' )"
   ]
  },
  {
   "cell_type": "markdown",
   "metadata": {},
   "source": [
    "## Q13. How often do URLs appear in queries?"
   ]
  },
  {
   "cell_type": "code",
   "execution_count": null,
   "metadata": {},
   "outputs": [],
   "source": []
  },
  {
   "cell_type": "markdown",
   "metadata": {},
   "source": []
  },
  {
   "cell_type": "code",
   "execution_count": null,
   "metadata": {},
   "outputs": [],
   "source": []
  },
  {
   "cell_type": "code",
   "execution_count": 22,
   "metadata": {},
   "outputs": [
    {
     "data": {
      "text/plain": [
       "'################################################################################'"
      ]
     },
     "execution_count": 22,
     "metadata": {},
     "output_type": "execute_result"
    }
   ],
   "source": [
    "################################################################################"
   ]
  },
  {
   "cell_type": "markdown",
   "metadata": {},
   "source": [
    "````\n",
    "Simple Analysis (70 points)\n",
    "Please answer any ten of the following questions (Q1 to Q13).\n",
    "Q1. What is the average number of queries per user id?\n",
    "Q2. Report the mean and median query length in both words and characters.\n",
    "Q3. What percentage of queries are mixed case? All upper case? All lower case?\n",
    "Q4. What percent of the time does a user request only the top 10 results?\n",
    "Q5. What percent of unique queries are in the form of an explicit question (i.e., look for patterns such as starting with\n",
    "Wh-words, or ending with a '?' symbol). What is the most common type of question?\n",
    "Q6. What are the 20-most common queries issued?\n",
    "Q7. What are the 20 most common non-stopwords appearing in queries?\n",
    "Q8. What percent of queries contain stopwords like ‘and’, ‘the’, ‘of’, ‘in’, ‘at’?\n",
    "Q9. What are the 10 most common non-stopwords appearing in queries that contain the word download?\n",
    "Q10. What percentage of queries were asked by only one user?\n",
    "Q11. Find 10 examples of misspelled words (but not 10 examples of the same misspelled word)\n",
    "Q12. Which occurs in queries more often \"Al Gore\" or \"Johns Hopkins\"? \"Johns Hopkins\" or \"John Hopkins\"?\n",
    "Q13. How often do URLs appear in queries?\n",
    "Other Analysis (30 points)\n",
    "Answer any three of the following questions (Q14 to Q20).\n",
    "Q14. Estimate the percentage of queries that contain a person's name? (Or alternatively, a company name.)\n",
    "Q15. Can you find addresses, phone numbers, and other identifiers in the log file? Is it likely that this web query log\n",
    "puts anyone's privacy at risk? Justify your response.\n",
    "Q16. How often is search engine “query” syntax used, like phrases in quotes, Boolean operators, or ‘+’ or ‘-‘ signs?\n",
    "Q17. How often is a consecutive query a reformulation of the previous one? (Not the same query to greater depth.)\n",
    "Q18. How does query volume change throughout the day?\n",
    "Q19. What are the most popular websites mentioned in the queries?\n",
    "Q20. Estimate the percentage of queries that are about sports?\n",
    "````"
   ]
  }
 ],
 "metadata": {
  "kernelspec": {
   "display_name": "Python 3",
   "language": "python",
   "name": "python3"
  },
  "language_info": {
   "codemirror_mode": {
    "name": "ipython",
    "version": 3
   },
   "file_extension": ".py",
   "mimetype": "text/x-python",
   "name": "python",
   "nbconvert_exporter": "python",
   "pygments_lexer": "ipython3",
   "version": "3.7.0"
  }
 },
 "nbformat": 4,
 "nbformat_minor": 2
}
