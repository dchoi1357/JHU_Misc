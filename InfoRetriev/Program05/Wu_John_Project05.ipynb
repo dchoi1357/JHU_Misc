{
 "cells": [
  {
   "cell_type": "markdown",
   "metadata": {},
   "source": [
    "# Programming Assignment 05\n",
    "Student: John Wu"
   ]
  },
  {
   "cell_type": "code",
   "execution_count": 1,
   "metadata": {},
   "outputs": [],
   "source": [
    "import sys, os, nltk, string, csv, re\n",
    "import numpy as np, tokenHelper as tkn\n",
    "from collections import Counter"
   ]
  },
  {
   "cell_type": "code",
   "execution_count": 2,
   "metadata": {},
   "outputs": [],
   "source": [
    "# loading in data, cannot use numpy methods for csv due to memory constraint\n",
    "fName = os.path.join(os.getcwd(), '19991220-Excite-QueryLog.utf8.tsv')\n",
    "with open(fName, 'r', encoding='utf-8') as f:\n",
    "    reader = csv.reader(f, delimiter='\\t')\n",
    "    raw = list(reader)\n",
    "timestamp = np.array([int(x[0]) for x in raw])\n",
    "userID = np.array([x[1] for x in raw], dtype=np.str)\n",
    "firstRank = np.array([int(x[2]) for x in raw])\n",
    "query = [x[3] for x in raw]\n",
    "qry = [s.lower() for s in query]\n",
    "del raw, reader"
   ]
  },
  {
   "cell_type": "markdown",
   "metadata": {},
   "source": [
    "## Simple Analysis"
   ]
  },
  {
   "cell_type": "markdown",
   "metadata": {},
   "source": [
    "### Q1. What is the average number of queries per user id?"
   ]
  },
  {
   "cell_type": "code",
   "execution_count": 3,
   "metadata": {},
   "outputs": [
    {
     "name": "stdout",
     "output_type": "stream",
     "text": [
      "On average, 4.58 queries per user.\n"
     ]
    }
   ],
   "source": [
    "uid = np.unique(userID)\n",
    "print('On average, %.2f queries per user.'%(len(userID)/len(uid)))"
   ]
  },
  {
   "cell_type": "markdown",
   "metadata": {},
   "source": [
    "### Q2. Report the mean and median query length in both words and characters.\n",
    "#### In Characters\n",
    "First, query length in characters is simple. One just needs to find the length of the query string and calculate based on that."
   ]
  },
  {
   "cell_type": "code",
   "execution_count": 4,
   "metadata": {},
   "outputs": [
    {
     "name": "stdout",
     "output_type": "stream",
     "text": [
      "Mean query length is 20.94 characters.\n",
      "Median query length is 17.00 characters.\n"
     ]
    }
   ],
   "source": [
    "tmp = [len(x) for x in qry]\n",
    "print(\"Mean query length is %.2f characters.\"%np.mean(tmp))\n",
    "print(\"Median query length is %.2f characters.\"%np.median(tmp))"
   ]
  },
  {
   "cell_type": "markdown",
   "metadata": {},
   "source": [
    "#### In Words\n",
    "For query lengths in words, it is more complicated, as it would depend on tokenization process. We take a simple approach by:\n",
    "1. Splitting query by any consecutive whitespaces\n",
    "1. Strip all punctuation from individual tokens\n",
    "1. Count the token if it's alphanumeric\n",
    "\n",
    "The effect of this would be:\n",
    "1. Counts strings like *\"Chinese-American\"* as one word.\n",
    "1. Disregardes tokens like *\"--\"*, e.g. *\"Leave -- no, come back\" is* only 4 words.\n",
    "1. Mix of letters and numbers, e.g. `python3` and `8.8.8.8` would count as one word. "
   ]
  },
  {
   "cell_type": "code",
   "execution_count": 5,
   "metadata": {},
   "outputs": [
    {
     "name": "stdout",
     "output_type": "stream",
     "text": [
      "Mean query length is 3.19 words.\n",
      "Median query length is 2.00 words.\n"
     ]
    }
   ],
   "source": [
    "f = lambda x: sum([s.strip(string.punctuation).isalnum() for s in x.split()])\n",
    "tmp = [f(x) for x in qry]\n",
    "print(\"Mean query length is %.2f words.\"%np.mean(tmp))\n",
    "print(\"Median query length is %.2f words.\"%np.median(tmp))"
   ]
  },
  {
   "cell_type": "markdown",
   "metadata": {},
   "source": [
    "### Q3. What percentage of queries are mixed case? All upper case? All lower case?\n",
    "#### All upper case\n",
    "One can use the numpy chararray built-in method of `isupper`. Note: returns `False` on entirely non-alphabetic strings."
   ]
  },
  {
   "cell_type": "code",
   "execution_count": 6,
   "metadata": {},
   "outputs": [
    {
     "name": "stdout",
     "output_type": "stream",
     "text": [
      "4.38%\n"
     ]
    }
   ],
   "source": [
    "qUpper = np.array([s.isupper() for s in query])\n",
    "print( '{:.2%}'.format(np.mean(qUpper)) )"
   ]
  },
  {
   "cell_type": "markdown",
   "metadata": {},
   "source": [
    "#### All lower case\n",
    "Likewise, one can use the numpy chararray built-in method of `islower`. Note: returns `False` on entirely non-alphabetic strings."
   ]
  },
  {
   "cell_type": "code",
   "execution_count": 7,
   "metadata": {},
   "outputs": [
    {
     "name": "stdout",
     "output_type": "stream",
     "text": [
      "66.90%\n"
     ]
    }
   ],
   "source": [
    "qLower = np.array([s.islower() for s in query])\n",
    "print( '{:.2%}'.format(np.mean(qLower)) )"
   ]
  },
  {
   "cell_type": "markdown",
   "metadata": {},
   "source": [
    "#### Mixed case\n",
    "Unfortunately, one cannot simply assume that if a string is not upper nor lower-case, it is mixed case. For example, `'12345'.islower()` and `'12345'.isupper()` are both `False`, yet it should not be counted as mixed-case either, as it is entirely numeric.\n",
    "\n",
    "Therefore, we compare a string to both its upper and lower cased version. If they are not the same for both, it is mixed-case. This returns `False` on entirely non-alphabetic strings."
   ]
  },
  {
   "cell_type": "code",
   "execution_count": 8,
   "metadata": {},
   "outputs": [
    {
     "name": "stdout",
     "output_type": "stream",
     "text": [
      "28.62%\n"
     ]
    }
   ],
   "source": [
    "mixedCase = lambda s: s!=s.upper() and s!=s.lower()\n",
    "print( '{:.2%}'.format( np.mean([mixedCase(s) for s in query]) ))"
   ]
  },
  {
   "cell_type": "markdown",
   "metadata": {},
   "source": [
    "### Q4. What percent of the time does a user request only the top 10 results?\n",
    "Simply find the number of queries where first rank is 0"
   ]
  },
  {
   "cell_type": "code",
   "execution_count": 9,
   "metadata": {},
   "outputs": [
    {
     "name": "stdout",
     "output_type": "stream",
     "text": [
      "77.54%\n"
     ]
    }
   ],
   "source": [
    "print('{:.2%}'.format(np.mean(firstRank==0)))"
   ]
  },
  {
   "cell_type": "markdown",
   "metadata": {},
   "source": [
    "### Q6. What are the 20-most common queries issued?\n",
    "We use the [`Counter`](https://docs.python.org/2/library/collections.html#collections.Counter) class to count and retrieve the 20-most common quries. All queries are converted to lower case prior to counting."
   ]
  },
  {
   "cell_type": "code",
   "execution_count": 10,
   "metadata": {
    "scrolled": true
   },
   "outputs": [
    {
     "name": "stdout",
     "output_type": "stream",
     "text": [
      "01: sex\n",
      "02: yahoo\n",
      "03: internal site admin check from kho\n",
      "04: pokemon\n",
      "05: chat\n",
      "06: porn\n",
      "07: horoscopes\n",
      "08: britney spears\n",
      "09: mp3\n",
      "10: games\n",
      "11: hotmail\n",
      "12: weather\n",
      "13: maps\n",
      "14: sitescope test\n",
      "15: christmas\n",
      "16: www.yahoo.com\n",
      "17: yahoo.com\n",
      "18: ebay\n",
      "19: recipes\n",
      "20: horoscope\n"
     ]
    }
   ],
   "source": [
    "qryCount = Counter(qry)\n",
    "txt,n = zip(*qryCount.most_common(20))\n",
    "print('\\n'.join(['%02u: %s'%(n+1,x) for n,x in enumerate(txt)]))"
   ]
  },
  {
   "cell_type": "markdown",
   "metadata": {},
   "source": [
    "### Q5. What percent of unique queries are in the form of an explicit question? What is the most common type of question?\n",
    "This question can leverage the unique query counter built in Q6. According to [Interrogative word](https://en.wikipedia.org/wiki/Interrogative_word) on Wikipedia, a question can take two forms:\n",
    "1. Wh-questions\n",
    "   * Interrogative determiner: which, what\n",
    "   * Interrogative pro-form: who, whom, where, whence, when, how, why\n",
    "1. Yes-no questions\n",
    "   * Conjugation of \"be\", e.g. \"Are you hungry?\"\n",
    "   * Conjugation of \"do\", e.g. \"Do you want fries?\"\n",
    "   * Conjugation of auxiliary verb, e.g. can and should\n",
    "\n",
    "To solve this question, one can build regular expression for these questions forms. The regular expression requires the interrogative word to be the start of the query, or immediately follows a comma and a space or semicolon and a space. The regular expressions also require 2 or more combinations of space and one or more word characters, which is meant to eliminate erroneous matches like \"will smith\", \"can opener\", or \"do good\"."
   ]
  },
  {
   "cell_type": "code",
   "execution_count": 11,
   "metadata": {},
   "outputs": [],
   "source": [
    "################################################################################\n",
    "wh_det_re = re.compile(r\"(^|\\,\\w|\\;\\w)(which|what)(\\s\\w+){2,}\")\n",
    "wh_pro_re = re.compile(r\"(^|\\,\\w|\\;\\w)(who|whom|where|whence|\" + \\\n",
    "                    r\"when|how|why)(\\s\\w+){2,}\")\n",
    "yn_be_re = re.compile(r\"(^|\\,\\w|\\;\\w)(are(n't)?|is(n't)?|am)(\\s\\w+){2,}\")\n",
    "yn_do_re = re.compile(r\"(^|\\,\\w|\\;\\w)(do(es)?|did(n't)?)(\\s\\w+){2,}\")\n",
    "yn_aux_re = re.compile(r\"(^|\\,\\w|\\;\\w)(can('t)?|could('t)?|will|won't\" + \\\n",
    "                    r\"|would(n't)?|should(n't)?)(\\s\\w+){2,}\")\n",
    "rgxIdx = lambda qs,rgx: np.array([True if rgx.findall(q) else False for q in qs])"
   ]
  },
  {
   "cell_type": "code",
   "execution_count": 12,
   "metadata": {},
   "outputs": [
    {
     "name": "stdout",
     "output_type": "stream",
     "text": [
      "13.75%\n"
     ]
    }
   ],
   "source": [
    "wh_det = rgxIdx(qry,wh_det_re)\n",
    "wh_pro = rgxIdx(qry,wh_pro_re)\n",
    "yn_be = rgxIdx(qry,yn_be_re)\n",
    "yn_do = rgxIdx(qry,yn_do_re)\n",
    "yn_aux = rgxIdx(qry,yn_aux_re)\n",
    "questions = np.logical_or.reduce((wh_det, wh_pro, yn_be, yn_do, yn_aux))\n",
    "print('{:.2%}'.format( np.mean(questions) ))"
   ]
  },
  {
   "cell_type": "markdown",
   "metadata": {},
   "source": [
    "To find out which type of question is the most common, we simply find the largest sum in the boolean index of the various question types."
   ]
  },
  {
   "cell_type": "code",
   "execution_count": 13,
   "metadata": {},
   "outputs": [
    {
     "data": {
      "text/plain": [
       "'Interrogative pro-form'"
      ]
     },
     "execution_count": 13,
     "metadata": {},
     "output_type": "execute_result"
    }
   ],
   "source": [
    "nQs = np.sum(np.vstack((wh_det, wh_pro, yn_be,yn_do,yn_aux)).T, axis=0)\n",
    "['Interrogative determiner', 'Interrogative pro-form', \n",
    " 'Conjugation of \"be\"', 'Conjugation of \"do\"', \n",
    " 'Conjugation of auxiliary verb'][np.argmax(nQs)]"
   ]
  },
  {
   "cell_type": "markdown",
   "metadata": {},
   "source": [
    "### Q7. What are the 20 most common non-stopwords appearing in queries?\n",
    "For this question, we tokenize each query using NLTK module and remove the list of English stopwords as according to the NLTK module. The remaining terms are added to a [`Counter`](https://docs.python.org/2/library/collections.html#collections.Counter) and the 20 most common terms extracted."
   ]
  },
  {
   "cell_type": "code",
   "execution_count": 14,
   "metadata": {},
   "outputs": [
    {
     "name": "stdout",
     "output_type": "stream",
     "text": [
      "01: find\n",
      "02: free\n",
      "03: pictures\n",
      "04: sex\n",
      "05: information\n",
      "06: christmas\n",
      "07: nude\n",
      "08: 0\n",
      "09: new\n",
      "10: pics\n",
      "11: buy\n",
      "12: online\n",
      "13: get\n",
      "14: web\n",
      "15: music\n",
      "16: women\n",
      "17: games\n",
      "18: porn\n",
      "19: cards\n",
      "20: stories\n"
     ]
    }
   ],
   "source": [
    "wds = Counter()\n",
    "for n,txt in enumerate(qry):\n",
    "    wds.update(tkn.tokenizeNoPunctStopword(txt))\n",
    "txt,n = zip(*wds.most_common(20))\n",
    "print('\\n'.join(['%02u: %s'%(n+1,x) for n,x in enumerate(txt)]))"
   ]
  },
  {
   "cell_type": "markdown",
   "metadata": {},
   "source": [
    "### Q8. What percent of queries contain stopwords like ‘and’, ‘the’, ‘of’, ‘in’, ‘at’?\n",
    "For each query, we compare the set of tokens from the query with the set of stopwords. If the intersection of the two sets is not empty, the query is considered to contain stopwords."
   ]
  },
  {
   "cell_type": "code",
   "execution_count": 15,
   "metadata": {},
   "outputs": [
    {
     "name": "stdout",
     "output_type": "stream",
     "text": [
      "27.02%\n"
     ]
    }
   ],
   "source": [
    "stopWords = tkn.engStopWords\n",
    "hasStop = lambda txt: any(x in stopWords for \\\n",
    "                      x in tkn.tokenizeNoPunct(txt))\n",
    "print('{:.2%}'.format(np.mean([hasStop(q) for q in qry])))"
   ]
  },
  {
   "cell_type": "markdown",
   "metadata": {},
   "source": [
    "### Q9. What are the 10 most common non-stopwords appearing in queries that contain the word download?\n",
    "The process of this question is similar to that of Question 7. However, the terms are only added to Counter if the term download appears in the query. At the end of the processing, the term 'download' is removed from the Counter for obvious reasons."
   ]
  },
  {
   "cell_type": "code",
   "execution_count": 16,
   "metadata": {},
   "outputs": [
    {
     "name": "stdout",
     "output_type": "stream",
     "text": [
      "01: 0\n",
      "02: free\n",
      "03: games\n",
      "04: find\n",
      "05: mp3\n",
      "06: music\n",
      "07: game\n",
      "08: software\n",
      "09: 10\n",
      "10: full\n"
     ]
    }
   ],
   "source": [
    "downWds = Counter()\n",
    "for n,txt in enumerate(qry):\n",
    "    bags = tkn.tokenizeNoPunctStopword(txt)\n",
    "    if 'download' in bags:\n",
    "        downWds.update(bags)\n",
    "downWds.pop('download', None) # needs to remove 'download' from words\n",
    "txt,n = zip(*downWds.most_common(10))\n",
    "print('\\n'.join(['%02u: %s'%(n+1,x) for n,x in enumerate(txt)]))"
   ]
  },
  {
   "cell_type": "markdown",
   "metadata": {},
   "source": [
    "### Q10. What percentage of queries were asked by only one user?\n",
    "One cannot simply count the number of queries that only appears once, as it is possible that a query is asked by only one user but multiple times. Therefore, we need to get a unique set of query for each user and find the number of queries amongst all users that only appear once.\n",
    "\n",
    "To do this, we first find the index that would sort the user list of the data set. With this, we could figure out where in the sorted user index do the user ID change. With these endpoints, we could easily pick out the queries that belong to each user. By iterating the same for each user, we would add the set of deduplicated query list to a Counter, while adding the non-dedpulicated queries to another counter. At the end of all users, we take all queries that were only asked by user, and add up the total number of times times they appear out of all the queries.\n",
    "\n",
    "There seem to be a large number of users that search for the same query multiple times."
   ]
  },
  {
   "cell_type": "code",
   "execution_count": 17,
   "metadata": {},
   "outputs": [
    {
     "name": "stdout",
     "output_type": "stream",
     "text": [
      "51.96%\n"
     ]
    }
   ],
   "source": [
    "################################################################################\n",
    "def q10(): # encapsulate in function for cleaniness\n",
    "    qryAll = Counter() # counter for all queries, not user-unique\n",
    "    qryUnq = Counter() # counter for user-unique queries\n",
    "    srtUser = userID.argsort() # index to sort data by userIDs\n",
    "    userChng = np.where( userID[srtUser][:-1] !=  userID[srtUser][1:])[0]+1\n",
    "    userBeg = np.hstack((0,userChng))\n",
    "    userEnd = np.hstack((userChng-1,userID.shape[0]))\n",
    "\n",
    "    for beg,end in zip( userBeg, userEnd):\n",
    "        qryIdx = srtUser[beg:end]\n",
    "        userQueries = [qry[idx] for idx in qryIdx]\n",
    "        qryUnq.update(set(userQueries))\n",
    "        qryAll.update(userQueries)\n",
    "        \n",
    "    return np.sum([qryAll[q] for q,n in qryUnq.items() if n==1])\n",
    "print('{:.2%}'.format( q10()/len(userID) )) "
   ]
  },
  {
   "cell_type": "markdown",
   "metadata": {},
   "source": [
    "### Q11. Find 10 examples of misspelled words (but not 10 examples of the same misspelled word)\n",
    "We can leverage the counter that we built in Q7 for most common non-stopwords. However, this time we could look at \"words\" that appear only a few times and are fully alphabetic. "
   ]
  },
  {
   "cell_type": "code",
   "execution_count": 18,
   "metadata": {},
   "outputs": [
    {
     "name": "stdout",
     "output_type": "stream",
     "text": [
      "['workability', 'seyavash', 'ferdowsi', 'shahnameh', 'subalaksmi', 'molscript', 'assistanships', 'heliocopter', 'togepy', 'vanderheiden', 'vigalanty', 'cunei', 'shlomo', 'slonim', 'foutain', 'idhao', 'experinment', 'timbertop', 'scheidenhelm', 'abingdon', 'advest', 'nordan', 'behavoir', 'bricol', 'caracteristicas', 'impresoras', 'osservata', 'grantwriting', 'enalapril', 'backstreets', 'youngbloods', 'aweatpants', 'hause', 'achi', 'funhouse', 'joural', 'katt', 'lightbox', 'kahului', 'faffa', 'shofar', 'fictious', 'voyerismo', 'labrock', 'neuseeland', 'pinelander', 'batt', 'bilde', 'balsams', 'adrain']\n"
     ]
    }
   ],
   "source": [
    "mispel = [w for w,n in wds.items() if 2<=n<=3 and w.isalpha()]\n",
    "print(mispel[:50])"
   ]
  },
  {
   "cell_type": "markdown",
   "metadata": {},
   "source": [
    "Looking at the first 50 of these words, we find (with correct spelling in parenthesis): \n",
    "1. assistanships (assistantship)\n",
    "1. heliocopter (helicopter)\n",
    "1. togepy (togepi, a pokemon)\n",
    "1. vigalanty (vigilante)\n",
    "1. foutain (fountain)\n",
    "1. idhao (idaho)\n",
    "1. experinment (experiment)\n",
    "1. behavoir (behavior or behaviour)\n",
    "1. aweatpants (sweatpants)\n",
    "1. joural (journal)"
   ]
  },
  {
   "cell_type": "markdown",
   "metadata": {},
   "source": [
    "### Q12. Which occurs in queries more often \"Al Gore\" or \"Johns Hopkins\"? \"Johns Hopkins\" or \"John Hopkins\"?\n",
    "#### Al Gore vs. Johns Hopkins\n",
    "We can use the built-in string find function on lower case query for both \"al gore\" and \"johns hopkins\""
   ]
  },
  {
   "cell_type": "code",
   "execution_count": 19,
   "metadata": {},
   "outputs": [
    {
     "name": "stdout",
     "output_type": "stream",
     "text": [
      "Al Gore\n"
     ]
    }
   ],
   "source": [
    "alGore = [q.find('al gore') >= 0 for q in qry]\n",
    "JsHs = [q.find('johns hopkins') >= 0 for q in qry]\n",
    "if np.sum(alGore) > np.sum(JsHs):\n",
    "    print( 'Al Gore' )\n",
    "else:\n",
    "    print( 'Johns Hopkins' )"
   ]
  },
  {
   "cell_type": "markdown",
   "metadata": {},
   "source": [
    "#### Johns Hopkins vs. John Hopkins\n",
    "The same as the previous part."
   ]
  },
  {
   "cell_type": "code",
   "execution_count": 20,
   "metadata": {},
   "outputs": [
    {
     "name": "stdout",
     "output_type": "stream",
     "text": [
      "Johns Hopkins\n"
     ]
    }
   ],
   "source": [
    "JHs = [q.find('john hopkins') >= 0 for q in qry]\n",
    "if np.sum(JHs) > np.sum(JsHs):\n",
    "    print( 'John Hopkins' )\n",
    "else:\n",
    "    print( 'Johns Hopkins' )"
   ]
  },
  {
   "cell_type": "markdown",
   "metadata": {},
   "source": [
    "### Q13. How often do URLs appear in queries?\n",
    "As defined in [RFC 1738](https://tools.ietf.org/html/rfc1738), a URL has the following syntax: `scheme:[//authority]path[?query][#fragment]`, e.g. https:<nolink>//www.<nolink>google.com/, ftp://www.microsoft.com/, irc://chat.freenode.net/, etc. While the scheme could be any arbitrary protocol, we explicitly search for the following protocols: http, https, gopher, mailto, news, nntp, telnet, ftp, file.\n",
    "\n",
    "Many web users may only enter hostname of websites instead of the full URL (i.e. google.com instead of http:<nolink>//www.<nolink>google.com). However, such is not an URL, and would not be captured for this."
   ]
  },
  {
   "cell_type": "code",
   "execution_count": 21,
   "metadata": {},
   "outputs": [
    {
     "name": "stdout",
     "output_type": "stream",
     "text": [
      "0.29%\n"
     ]
    }
   ],
   "source": [
    "urlRE = re.compile(r'(https?://\\w+|mailto:\\w+|ftp://\\w+|irc://\\w+|file:\\w+' + \\\n",
    "                   r'|nntp://\\w|news://\\w|telnet://\\w)')\n",
    "urlFound = rgxIdx(qry, urlRE)\n",
    "print('{:.2%}'.format( np.mean(urlFound) )) "
   ]
  },
  {
   "cell_type": "markdown",
   "metadata": {},
   "source": [
    "## Other Analysis"
   ]
  },
  {
   "cell_type": "markdown",
   "metadata": {},
   "source": [
    "### Q16. How often is search engine “query” syntax used, like phrases in quotes, Boolean operators, or ‘+’ or ‘-‘ signs?\n",
    "For this question, we can use regular expression. The explanation for the three sets of expressions are as followed:\n",
    "* `\\\"\\S+(\\s+\\S+)+\\\"`: matches two or more non-whitespaced words separated by whitespace between two quotation marks, e.g. \"to be or not to be\", \"candy cane\", or \"master boot record, fdisk\"\n",
    "* `\\s[\\+-]\\w+`: matches plus or minus sign directly in front of a word, but has to be preceded by a word boundary. e.g. matches \"apple -fruits\" but not \"apple-fruits\"\n",
    "* `\\s(AND|OR|NOT|&|\\|)\\s`: matches the boolean operators of \"AND\", \"OR\", \"NOT\", \"&\", or \"|\", but requires the operator to be surrounded by whitespaces, e.g. matches \"apple AND computer\", but not \"appleANDcopmuter\""
   ]
  },
  {
   "cell_type": "code",
   "execution_count": 22,
   "metadata": {},
   "outputs": [
    {
     "name": "stdout",
     "output_type": "stream",
     "text": [
      "6.52%\n"
     ]
    }
   ],
   "source": [
    "quotedRE = re.compile(r'\\\"\\S+(\\s+\\S+)+\\\"')\n",
    "plusMinusRE = re.compile(r'\\b[\\+-]\\w+\\b')\n",
    "andOrRE = re.compile(r'\\s(AND|OR|NOT|&|\\|)\\s')\n",
    "seSyntax = rgxIdx(qry,quotedRE) | rgxIdx(qry,plusMinusRE) | rgxIdx(query,andOrRE)\n",
    "print('{:.2%}'.format( np.mean(seSyntax) )) "
   ]
  },
  {
   "cell_type": "markdown",
   "metadata": {},
   "source": [
    "### Q18. How does query volume change throughout the day?\n",
    "We can count the number of searches per each minute after 9:00AM. Some math is needed on the timestamp to calculate the number of minutes elapsed. Once the time stamp has been converted, a `Counter` can be used to count the number of searches for minute. "
   ]
  },
  {
   "cell_type": "code",
   "execution_count": 23,
   "metadata": {},
   "outputs": [],
   "source": [
    "%matplotlib inline\n",
    "import matplotlib.pyplot as plt\n",
    "import matplotlib\n",
    "matplotlib.rcParams['figure.figsize'] = (10,5)"
   ]
  },
  {
   "cell_type": "code",
   "execution_count": 24,
   "metadata": {},
   "outputs": [],
   "source": [
    "ts_min = np.mod(np.floor(timestamp/100),100).astype(int)\n",
    "ts_hr = np.floor(timestamp/10000).astype(int)-9\n",
    "ts_minFrom9 = ts_hr*60 + ts_min\n",
    "timeMinCount = Counter(ts_minFrom9)\n",
    "xPlt, yPlt = zip(*timeMinCount.items()) "
   ]
  },
  {
   "cell_type": "code",
   "execution_count": 27,
   "metadata": {},
   "outputs": [
    {
     "data": {
      "image/png": "[encoded data removed]",
      "text/plain": [
       "<Figure size 432x288 with 1 Axes>"
      ]
     },
     "metadata": {},
     "output_type": "display_data"
    }
   ],
   "source": [
    "plt.bar(xPlt, yPlt, width=1.0)\n",
    "plt.xlabel('Min after 09:00AM')\n",
    "plt.ylabel('Number of Searches')\n",
    "plt.grid(b=True, which='major', color='k', linestyle=':')\n",
    "plt.title('Search Volume by Min on 1999-12-20')\n",
    "plt.show()"
   ]
  },
  {
   "cell_type": "markdown",
   "metadata": {},
   "source": [
    "The above chart plots number of searches against number of minutes after 9:00AM. The activity starts off high, and decreases slightly throughout the day until 5:00PM, though not monotonically. There seem to be three large drops throughout the day, proceeded by large spikes. This likely has to do with data collection error."
   ]
  },
  {
   "cell_type": "markdown",
   "metadata": {},
   "source": [
    "### Q19. What are the most popular websites mentioned in the queries?\n",
    "We can use regular expression to search through the queries to match websites. This assumes that all website has the top-level domain name in either `.com`, `.org`, or `.net`, `.gov`, or `.edu`. While this is not comprehensive, it is a good estimate, as those TLD are by far the most popular."
   ]
  },
  {
   "cell_type": "code",
   "execution_count": 26,
   "metadata": {},
   "outputs": [
    {
     "name": "stdout",
     "output_type": "stream",
     "text": [
      "01: yahoo.com\n",
      "02: hotmail.com\n",
      "03: amazon.com\n",
      "04: aol.com\n",
      "05: excite.com\n",
      "06: bluemountain.com\n",
      "07: geocities.com\n",
      "08: ebay.com\n",
      "09: weather.com\n",
      "10: wwf.com\n",
      "11: nick.com\n",
      "12: nfl.com\n",
      "13: msn.com\n",
      "14: iwon.com\n",
      "15: sex.com\n",
      "16: pokemon.com\n",
      "17: pch.com\n",
      "18: gay.com\n",
      "19: playboy.com\n",
      "20: mtv.com\n"
     ]
    }
   ],
   "source": [
    "webRE = re.compile(r'\\w+\\.(com|org|net|gov|edu)\\b')\n",
    "siteCount = Counter()\n",
    "for q in qry:\n",
    "    siteCount.update([match.group() for match in webRE.finditer(q)])\n",
    "txt,n = zip(*siteCount.most_common(20))\n",
    "print('\\n'.join(['%02u: %s'%(n+1,x) for n,x in enumerate(txt)]))"
   ]
  }
 ],
 "metadata": {
  "kernelspec": {
   "display_name": "Python 3",
   "language": "python",
   "name": "python3"
  },
  "language_info": {
   "codemirror_mode": {
    "name": "ipython",
    "version": 3
   },
   "file_extension": ".py",
   "mimetype": "text/x-python",
   "name": "python",
   "nbconvert_exporter": "python",
   "pygments_lexer": "ipython3",
   "version": "3.6.5"
  }
 },
 "nbformat": 4,
 "nbformat_minor": 2
}
