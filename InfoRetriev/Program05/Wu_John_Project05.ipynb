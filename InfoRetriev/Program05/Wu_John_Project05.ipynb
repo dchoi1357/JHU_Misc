{
 "cells": [
  {
   "cell_type": "markdown",
   "metadata": {},
   "source": [
    "# Programming Assignment 05\n",
    "Student: John Wu"
   ]
  },
  {
   "cell_type": "code",
   "execution_count": 2,
   "metadata": {},
   "outputs": [],
   "source": [
    "import sys, os, nltk\n",
    "import numpy as np, tokenHelper as tkn"
   ]
  },
  {
   "cell_type": "code",
   "execution_count": 5,
   "metadata": {},
   "outputs": [],
   "source": [
    "fName = os.path.join(os.getcwd(), '19991220-Excite-QueryLog.utf8.tsv')\n",
    "\n",
    "header = ['timestamp', 'userID', 'firstRank', 'query'] # variable names\n",
    "raw = np.genfromtxt(fName, delimiter='\\t', dtype=None, names=header, \n",
    "              comments=None, encoding='utf-8')"
   ]
  },
  {
   "cell_type": "code",
   "execution_count": 22,
   "metadata": {},
   "outputs": [
    {
     "data": {
      "text/plain": [
       "4.607707030181962"
      ]
     },
     "execution_count": 22,
     "metadata": {},
     "output_type": "execute_result"
    }
   ],
   "source": [
    "len(raw)/len(np.unique(raw['userID']))"
   ]
  },
  {
   "cell_type": "markdown",
   "metadata": {},
   "source": [
    "## Simple Analysis"
   ]
  },
  {
   "cell_type": "markdown",
   "metadata": {},
   "source": [
    "**Q1. What is the average number of queries per user id?**"
   ]
  },
  {
   "cell_type": "code",
   "execution_count": 23,
   "metadata": {},
   "outputs": [
    {
     "name": "stdout",
     "output_type": "stream",
     "text": [
      "On avg, 4.61 queries per user.\n"
     ]
    }
   ],
   "source": [
    "print('On avg, %.2f queries per user.'%(len(raw)/len(np.unique(raw['userID']))))"
   ]
  },
  {
   "cell_type": "markdown",
   "metadata": {},
   "source": [
    "**Q2. Report the mean and median query length in both words and characters.**"
   ]
  },
  {
   "cell_type": "code",
   "execution_count": null,
   "metadata": {},
   "outputs": [],
   "source": [
    "################################################################################"
   ]
  },
  {
   "cell_type": "markdown",
   "metadata": {},
   "source": [
    "Simple Analysis (70 points)\n",
    "Please answer any ten of the following questions (Q1 to Q13).\n",
    "Q1. What is the average number of queries per user id?\n",
    "Q2. Report the mean and median query length in both words and characters.\n",
    "Q3. What percentage of queries are mixed case? All upper case? All lower case?\n",
    "Q4. What percent of the time does a user request only the top 10 results?\n",
    "Q5. What percent of unique queries are in the form of an explicit question (i.e., look for patterns such as starting with\n",
    "Wh-words, or ending with a '?' symbol). What is the most common type of question?\n",
    "Q6. What are the 20-most common queries issued?\n",
    "Q7. What are the 20 most common non-stopwords appearing in queries?\n",
    "Q8. What percent of queries contain stopwords like ‘and’, ‘the’, ‘of’, ‘in’, ‘at’?\n",
    "Q9. What are the 10 most common non-stopwords appearing in queries that contain the word download?\n",
    "Q10. What percentage of queries were asked by only one user?\n",
    "Q11. Find 10 examples of misspelled words (but not 10 examples of the same misspelled word)\n",
    "Q12. Which occurs in queries more often \"Al Gore\" or \"Johns Hopkins\"? \"Johns Hopkins\" or \"John Hopkins\"?\n",
    "Q13. How often do URLs appear in queries?\n",
    "Other Analysis (30 points)\n",
    "Answer any three of the following questions (Q14 to Q20).\n",
    "Q14. Estimate the percentage of queries that contain a person's name? (Or alternatively, a company name.)\n",
    "Q15. Can you find addresses, phone numbers, and other identifiers in the log file? Is it likely that this web query log\n",
    "puts anyone's privacy at risk? Justify your response.\n",
    "Q16. How often is search engine “query” syntax used, like phrases in quotes, Boolean operators, or ‘+’ or ‘-‘ signs?\n",
    "Q17. How often is a consecutive query a reformulation of the previous one? (Not the same query to greater depth.)\n",
    "Q18. How does query volume change throughout the day?\n",
    "Q19. What are the most popular websites mentioned in the queries?\n",
    "Q20. Estimate the percentage of queries that are about sports?"
   ]
  }
 ],
 "metadata": {
  "kernelspec": {
   "display_name": "Python 3",
   "language": "python",
   "name": "python3"
  },
  "language_info": {
   "codemirror_mode": {
    "name": "ipython",
    "version": 3
   },
   "file_extension": ".py",
   "mimetype": "text/x-python",
   "name": "python",
   "nbconvert_exporter": "python",
   "pygments_lexer": "ipython3",
   "version": "3.6.5"
  }
 },
 "nbformat": 4,
 "nbformat_minor": 2
}
