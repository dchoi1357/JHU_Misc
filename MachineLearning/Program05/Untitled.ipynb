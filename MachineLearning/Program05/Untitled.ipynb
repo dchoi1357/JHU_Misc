{
 "cells": [
  {
   "cell_type": "code",
   "execution_count": 1,
   "metadata": {},
   "outputs": [],
   "source": [
    "import numpy as np, pandas as pd"
   ]
  },
  {
   "cell_type": "code",
   "execution_count": null,
   "metadata": {},
   "outputs": [],
   "source": [
    "def logistic(x, theta):\n",
    "    return 1.0 / ( 1 + np.exp(-x * theta) )\n",
    "\n",
    "def logisticError(x, theta, y):\n",
    "    yhat = logistic(x, theta)\n",
    "    err = -(y.T*np.log(yhat) + (1-y).T*np.log(1-yhat)) / len(y)\n",
    "    return float(err), yhat\n",
    "    \n",
    "def updateTheta(a, yhat, y, x, th, errDiff):\n",
    "    d = ((yhat-y).T * x).T / len(y)\n",
    "    return th - (a*d)\n",
    "\n",
    "def makeIndepDepData(data):\n",
    "    y = data[:, -1] # actual\n",
    "    x = np.hstack((np.ones([data.shape[0],1]), data[:, :-1])) # put intercept\n",
    "    return x,y"
   ]
  },
  {
   "cell_type": "code",
   "execution_count": null,
   "metadata": {},
   "outputs": [],
   "source": [
    "def learn_model( data, alpha, eps, verbose=False):\n",
    "    x,y = makeIndepDepData(data)\n",
    "    theta = np.matrix(np.random.rand(x.shape[1],1)*2 - 1) # initialize Theta\n",
    "    lastErr = 0\n",
    "    err,yhat = logisticError(x, theta, y)\n",
    "\n",
    "    c = 0\n",
    "    while (abs(err-lastErr) > eps) and c<1e6:\n",
    "        if c % 1000 == 0 and verbose:\n",
    "            print('Iter #%u, error: %f'%(c,err))\n",
    "        theta = updateTheta(alpha, yhat, y, x, theta, err-lastErr)\n",
    "        lastErr = err\n",
    "        err,yhat = logisticError(x, theta, y)\n",
    "        if err > lastErr:\n",
    "            alpha /= 10\n",
    "        c += 1\n",
    "    \n",
    "    print('Final iteration #%u, error: %f' % (c-1,err) )\n",
    "    return theta\n",
    "\n",
    "\n",
    "train_data = generate_data( clean_data, 100, \"hills\")\n",
    "model = learn_model( train_data, 0.1, 1e-7, True)\n",
    "print('Coefficients: %s' % str(model.T))"
   ]
  }
 ],
 "metadata": {
  "kernelspec": {
   "display_name": "Python 3",
   "language": "python",
   "name": "python3"
  },
  "language_info": {
   "codemirror_mode": {
    "name": "ipython",
    "version": 3
   },
   "file_extension": ".py",
   "mimetype": "text/x-python",
   "name": "python",
   "nbconvert_exporter": "python",
   "pygments_lexer": "ipython3",
   "version": "3.7.0"
  }
 },
 "nbformat": 4,
 "nbformat_minor": 2
}
