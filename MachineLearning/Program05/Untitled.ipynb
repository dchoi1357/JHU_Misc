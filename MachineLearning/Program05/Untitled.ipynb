{
 "cells": [
  {
   "cell_type": "code",
   "execution_count": 1,
   "metadata": {},
   "outputs": [],
   "source": [
    "import numpy as np, pandas as pd\n",
    "import os\n",
    "from crossValidate import getXVFolds"
   ]
  },
  {
   "cell_type": "code",
   "execution_count": 79,
   "metadata": {},
   "outputs": [
    {
     "name": "stdout",
     "output_type": "stream",
     "text": [
      "[[1 4 3]\n",
      " [3 4 0]\n",
      " [4 1 4]\n",
      " [4 3 0]\n",
      " [4 4 0]\n",
      " [0 1 4]]\n",
      "[1 0 0 2 2 0]\n"
     ]
    },
    {
     "data": {
      "text/plain": [
       "array([17, 18,  3])"
      ]
     },
     "execution_count": 79,
     "metadata": {},
     "output_type": "execute_result"
    }
   ],
   "source": [
    "z = np.random.randint(5, size=[6,3])\n",
    "s = np.random.randint(3, size=6)\n",
    "print(z)\n",
    "print( s )\n",
    "\n",
    "s.dot(z)"
   ]
  },
  {
   "cell_type": "code",
   "execution_count": 72,
   "metadata": {},
   "outputs": [
    {
     "ename": "IndentationError",
     "evalue": "expected an indented block (<ipython-input-72-2983fc10bf15>, line 12)",
     "output_type": "error",
     "traceback": [
      "\u001b[1;36m  File \u001b[1;32m\"<ipython-input-72-2983fc10bf15>\"\u001b[1;36m, line \u001b[1;32m12\u001b[0m\n\u001b[1;33m    def sigmoid(x, wt):\u001b[0m\n\u001b[1;37m      ^\u001b[0m\n\u001b[1;31mIndentationError\u001b[0m\u001b[1;31m:\u001b[0m expected an indented block\n"
     ]
    }
   ],
   "source": [
    "def concateIntercept(x):\n",
    "    return np.hstack( [np.ones((x.shape[0],1), x.dtype), x] )\n",
    "\n",
    "################################################################################\n",
    "\n",
    "def softMax(x, wts):\n",
    "    pr = np.exp(x @ wts)\n",
    "    return pr / np.sum(pr,axis=1)[:,None]\n",
    "\n",
    "def crossEntNK(x, wts, y):\n",
    "    yhat = softMax(x, wts)\n",
    "    err = np.sum(y*np.log(yhat), axis=1).mean()\n",
    "    return err, yhat\n",
    "\n",
    "def updateWeightNK(eta, yhat, y, x, wt):\n",
    "    d = ((y - yhat).T @ x).T / len(y)\n",
    "    return wt + (eta*d)\n",
    "\n",
    "def sigmoid(x, wt):\n",
    "    return 1.0 / ( 1 + np.exp(-x @ wt) )\n",
    "\n",
    "def fitLogisticReg(x, y, eta, eps=1e-7, trace=False):\n",
    "    def crossEntropy(x, wt, y):\n",
    "        yhat = sigmoid(x, wt)\n",
    "        err = -np.mean(y*np.log(yhat) + (1-y)*np.log(1-yhat))\n",
    "        return err, yhat\n",
    "    \n",
    "    def updateWeight(eta, yhat, y, x, wt):\n",
    "        d = (y - yhat) @ x / len(y)\n",
    "        return wt + (eta*d)\n",
    "    \n",
    "    x = concateIntercept(x)\n",
    "    wt = np.random.rand(x.shape[1])/50 - 0.01 # initialize weights\n",
    "    lastErr = 0\n",
    "    err,yhat = crossEntropy(x, wt, y)\n",
    "\n",
    "    n = 0\n",
    "    while (abs(err-lastErr) > eps) and n < 1e6:\n",
    "        if n % 1000 == 0 and trace:\n",
    "            print('Iter #%u, error: %f'%(n,err))\n",
    "        wt = updateWeight(eta, yhat, y, x, wt)\n",
    "        lastErr = err\n",
    "        err,yhat = crossEntropy(x, wt, y)\n",
    "        if err > lastErr:\n",
    "            eta /= 10\n",
    "        n += 1\n",
    "    \n",
    "    print('Final iteration #%u, error: %f' % (n-1,err) )\n",
    "    return wt"
   ]
  },
  {
   "cell_type": "code",
   "execution_count": 38,
   "metadata": {},
   "outputs": [],
   "source": [
    "def discretizeMean(inDF, useMed=False):\n",
    "    outDF = pd.DataFrame()\n",
    "    if useMed:\n",
    "        thresh = inDF.median()\n",
    "    else:\n",
    "        thresh = inDF.mean()\n",
    "    for v in list(inDF): # loop over all columns\n",
    "        outDF[v] = (inDF[v] > thresh[v]) * 1\n",
    "    return outDF\n",
    "\n",
    "# generate one-hot coding for issues with lots of missing votes\n",
    "def oneHot(data, colNames):\n",
    "    outDF = pd.DataFrame()\n",
    "    for col in colNames:\n",
    "        x = data[col]\n",
    "        for val in x.unique():\n",
    "            suff = 'q' if val=='?' else str(val)\n",
    "            outDF[col+'_'+suff] = (x==val)*1\n",
    "    return outDF\n"
   ]
  },
  {
   "cell_type": "code",
   "execution_count": 19,
   "metadata": {},
   "outputs": [],
   "source": [
    "soyData = os.path.join('./data', 'soybean-small.data')\n",
    "soyNames = ['c%02d'%(n+1) for n in range(35)] + ['class']\n",
    "raw = pd.read_csv(soyData, names=soyNames)\n",
    "feats = np.array(soyNames)[raw.nunique()!=1] # remove feats with only 1 value\n",
    "raw = raw[feats]"
   ]
  },
  {
   "cell_type": "code",
   "execution_count": 46,
   "metadata": {},
   "outputs": [],
   "source": [
    "dataMat = oneHot(raw, raw.columns[1:-1])\n",
    "dataMat['class'] = raw['class']"
   ]
  },
  {
   "cell_type": "code",
   "execution_count": 51,
   "metadata": {},
   "outputs": [
    {
     "data": {
      "text/plain": [
       "c02_0    2\n",
       "c02_1    2\n",
       "c03_2    2\n",
       "c03_0    2\n",
       "c03_1    2\n",
       "c04_1    2\n",
       "c04_2    2\n",
       "c04_0    2\n",
       "c05_1    2\n",
       "c05_0    2\n",
       "c06_1    2\n",
       "c06_3    2\n",
       "c06_2    2\n",
       "c06_0    2\n",
       "c07_0    2\n",
       "c07_1    2\n",
       "c07_2    2\n",
       "c07_3    2\n",
       "c08_1    2\n",
       "c08_2    2\n",
       "c09_0    2\n",
       "c09_1    2\n",
       "c10_2    2\n",
       "c10_1    2\n",
       "c10_0    2\n",
       "c12_1    2\n",
       "c12_0    2\n",
       "c20_0    2\n",
       "c20_1    2\n",
       "c21_3    2\n",
       "c21_0    2\n",
       "c21_1    2\n",
       "c21_2    2\n",
       "c22_1    2\n",
       "c22_0    2\n",
       "c22_3    2\n",
       "c22_2    2\n",
       "c23_1    2\n",
       "c23_0    2\n",
       "c24_1    2\n",
       "c24_0    2\n",
       "c25_0    2\n",
       "c25_1    2\n",
       "c26_0    2\n",
       "c26_2    2\n",
       "c27_0    2\n",
       "c27_1    2\n",
       "c28_0    2\n",
       "c28_3    2\n",
       "c35_0    2\n",
       "c35_1    2\n",
       "class    4\n",
       "dtype: int64"
      ]
     },
     "execution_count": 51,
     "metadata": {},
     "output_type": "execute_result"
    }
   ],
   "source": [
    "dataMat.nunique()"
   ]
  },
  {
   "cell_type": "code",
   "execution_count": null,
   "metadata": {},
   "outputs": [],
   "source": [
    "vote84Data = os.path.join('./data', 'house-votes-84.data')\n",
    "vote84Names = ['party', 'infant', 'water', 'budget', 'doctorfee','salvador',\n",
    "              'religion', 'satellite', 'contras', 'missile', 'immigration',\n",
    "              'synfuels', 'education', 'superfund', 'crime', 'exports',\n",
    "              'ZAF']\n",
    "raw = pd.read_csv(vote84Data , names=vote84Names ) # read in vote file\n",
    "\n",
    "oneHotCols = pd.concat([oneHot(raw,'water'), oneHot(raw,'education'), \n",
    "                        oneHot(raw,'ZAF')], axis=1)\n",
    "\n",
    "# remove variables with completed one-hot coding from list of variables\n",
    "yesVars = np.setdiff1d(vote84Names[1:],['water','education','ZAF'])\n",
    "yesVote = raw.loc[:,yesVars] == 'y' # boolean for vote='yes' for rest of vars\n",
    "yesVote.columns = [s+'_y' for s in yesVote.columns]\n",
    "repub = raw.loc[:,['party']] == 'republican' # boolean for republicans\n",
    "voteData = pd.concat([yesVote,oneHotCols], axis=1) # concat two dataframes\n",
    "voteMat = voteData.values * 1 # give matrixs of 0 & 1 for calculation\n",
    "repubVec = repub.values.ravel() * 1 # vector of 0 & 1 for calculation"
   ]
  },
  {
   "cell_type": "code",
   "execution_count": null,
   "metadata": {},
   "outputs": [],
   "source": [
    "folds = getXVFolds(voteMat, repubVec, categorical=True)\n",
    "trainIdx = folds[0]\n",
    "testIdx = np.hstack(folds[1:])\n",
    "trainData,trainLabel = voteMat[trainIdx],repubVec[trainIdx]\n",
    "testData,testLabel = voteMat[testIdx],repubVec[testIdx]"
   ]
  },
  {
   "cell_type": "code",
   "execution_count": null,
   "metadata": {},
   "outputs": [],
   "source": [
    "wts = fitLogisticReg(trainData, trainLabel, 0.1, trace=True)"
   ]
  },
  {
   "cell_type": "code",
   "execution_count": null,
   "metadata": {},
   "outputs": [],
   "source": [
    "np.mean((sigmoid(concateIntercept(testData), wts)>0.5)*1==testLabel)"
   ]
  }
 ],
 "metadata": {
  "kernelspec": {
   "display_name": "Python 3",
   "language": "python",
   "name": "python3"
  },
  "language_info": {
   "codemirror_mode": {
    "name": "ipython",
    "version": 3
   },
   "file_extension": ".py",
   "mimetype": "text/x-python",
   "name": "python",
   "nbconvert_exporter": "python",
   "pygments_lexer": "ipython3",
   "version": "3.6.5"
  }
 },
 "nbformat": 4,
 "nbformat_minor": 2
}
