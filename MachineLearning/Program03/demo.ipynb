{
 "cells": [
  {
   "cell_type": "code",
   "execution_count": 1,
   "metadata": {},
   "outputs": [],
   "source": [
    "import numpy as np, pandas as pd\n",
    "from knn import KNN\n",
    "from functions import pairwiseDist, prepData\n",
    "from crossValidate import getCrossValidFolds, crossValidate, tuneK"
   ]
  },
  {
   "cell_type": "code",
   "execution_count": 2,
   "metadata": {},
   "outputs": [
    {
     "name": "stdout",
     "output_type": "stream",
     "text": [
      "[[ 8.06335802  8.79459343  8.76963618  9.29465774  8.92997581]\n",
      " [ 9.9184858   7.61793164  9.23081607  9.36492384  8.77674563]\n",
      " [10.02316492  8.38056287  7.34539767  9.06784205  8.09705132]\n",
      " [ 9.5233742   8.83421234  9.10407714  9.76824664  9.29688184]\n",
      " [ 9.82927137 10.06394666  7.8907739   8.52669928  8.30888134]\n",
      " [ 8.00145052  8.796619    7.56070801  9.91403493  9.05797927]\n",
      " [ 8.05809913  7.29344558  8.32922326  9.10898449  8.1581821 ]\n",
      " [ 8.38951846  7.88624261  7.59543005  7.41969884  9.63810988]\n",
      " [ 1.82686617  3.29748757 -0.23648518  3.01868301  2.84543287]\n",
      " [ 1.0776139   1.58739156  1.2758656   0.676572    2.67390846]\n",
      " [ 3.9132101   1.62309663  0.8653541   0.85284904  2.57726905]\n",
      " [ 1.6500064   1.51827155  3.00376464  0.79600888  1.82454938]\n",
      " [ 1.88355036  2.0226918   2.92494179  1.15258018  2.90053692]]\n",
      "['B' 'B' 'B' 'B' 'B' 'B' 'B' 'B' 'S' 'S' 'S' 'S' 'S']\n"
     ]
    }
   ],
   "source": [
    "testX = np.vstack([np.random.randn(8,5)+9, np.random.randn(5,5)+2])\n",
    "testY = np.array(['B']*8 + ['S']*5)\n",
    "testPred = np.vstack([np.random.randn(5,5)+9, np.random.randn(2,5)+2])\n",
    "print(testX)\n",
    "print(testY)"
   ]
  },
  {
   "cell_type": "code",
   "execution_count": 3,
   "metadata": {},
   "outputs": [
    {
     "data": {
      "text/plain": [
       "array(['B', 'B', 'B', 'B', 'B', 'S', 'S'], dtype='<U1')"
      ]
     },
     "execution_count": 3,
     "metadata": {},
     "output_type": "execute_result"
    }
   ],
   "source": [
    "KNN(testX, testY, testPred, 3, categorical=True)"
   ]
  },
  {
   "cell_type": "code",
   "execution_count": 4,
   "metadata": {},
   "outputs": [],
   "source": [
    "ecoliPD = './data/ecoli.data'\n",
    "ecoliVars = ['seq', 'mcg', 'gvh', 'lip', 'chg', 'aac', 'alm1', 'alm2', 'class']\n",
    "################################################################################\n",
    "ecoliMat,ecoliFeat,ecoliY = prepData(ecoliPD, ecoliVars, slice(1,-1), \"class\", r'\\s+')\n",
    "folds = getCrossValidFolds(ecoliMat, ecoliY, categorical=True)"
   ]
  },
  {
   "cell_type": "code",
   "execution_count": 5,
   "metadata": {},
   "outputs": [
    {
     "data": {
      "text/plain": [
       "[array([124,  23, 134, 113,  25, 140, 142,  24,  77,  18, 119,  26,  56,\n",
       "        128,  89, 136,  65, 114, 117,  98,  40, 120,   1,  95,  16,  10,\n",
       "         28,  21,  92, 166, 160, 198, 175, 155, 185, 157, 215, 212, 154,\n",
       "        174, 158, 202, 199, 167, 152, 223, 220, 237, 236, 248, 258, 252,\n",
       "        225, 241, 276, 277, 265, 264, 281, 297, 322, 299, 295, 309, 334,\n",
       "        321, 333, 317, 286, 302]),\n",
       " array([ 37,  39,  69,  60, 118, 123,  67, 122,  30, 100,   9,  32,  49,\n",
       "         85,  20,  70, 102, 132,  80,  82,  99,  14, 107,  62,  96,  33,\n",
       "        106, 129,  75, 203, 162, 189, 177, 200, 171, 218, 217, 161, 196,\n",
       "        153, 210, 172, 168, 186, 150, 222, 221, 226, 224, 239, 249, 227,\n",
       "        257, 245, 259, 261, 273, 269, 280, 294, 301, 318, 305, 289, 325,\n",
       "        292, 331, 296, 291, 315]),\n",
       " array([ 54,  50,  84,  19,  91,  74,  55,   2,  72, 116,  22,   7, 141,\n",
       "        131,  68,   5, 126,  57,  58, 110,  35,  47, 121, 127,  41,  61,\n",
       "        139,  12, 109, 205, 209, 219, 144, 149, 179, 148, 143, 170, 181,\n",
       "        187, 211, 147, 197, 208, 229, 255, 244, 247, 235, 256, 253, 275,\n",
       "        263, 274, 260, 279, 310, 326, 335, 288, 293, 312, 287, 323, 307,\n",
       "        311]),\n",
       " array([104,   4,  27,  52,  78,  66, 130,  53,  63,  94,  90,  86, 135,\n",
       "        115,  93,  88,  59, 133,  46, 108,  83,  64,  45,  51,  76, 103,\n",
       "          6,  87, 169, 151, 163, 213, 182, 159, 145, 173, 193, 146, 214,\n",
       "        192, 176, 183, 191, 250, 228, 254, 240, 242, 251, 232, 271, 266,\n",
       "        267, 272, 282, 327, 306, 300, 330, 290, 284, 316, 329, 320, 324]),\n",
       " array([ 11,  43,  31,  97, 111,  48, 101,  42,  44,  79,  71,  15, 112,\n",
       "          0,  17,  73,   3, 125,  29,  38,  81,   8,  36, 138,  13, 137,\n",
       "        105,  34, 188, 164, 180, 178, 194, 206, 165, 201, 184, 207, 195,\n",
       "        216, 204, 156, 190, 246, 234, 243, 230, 231, 238, 233, 278, 262,\n",
       "        270, 268, 283, 314, 298, 328, 308, 313, 332, 303, 319, 285, 304])]"
      ]
     },
     "execution_count": 5,
     "metadata": {},
     "output_type": "execute_result"
    }
   ],
   "source": [
    "folds"
   ]
  },
  {
   "cell_type": "code",
   "execution_count": 6,
   "metadata": {},
   "outputs": [
    {
     "name": "stdout",
     "output_type": "stream",
     "text": [
      "4\n"
     ]
    }
   ],
   "source": [
    "minK,errs = tuneK(ecoliMat, ecoliY, folds, categ=True)\n",
    "print(minK)"
   ]
  },
  {
   "cell_type": "code",
   "execution_count": 7,
   "metadata": {},
   "outputs": [
    {
     "data": {
      "text/plain": [
       "array([0.14285714, 0.18571429, 0.09090909, 0.15384615, 0.12307692])"
      ]
     },
     "execution_count": 7,
     "metadata": {},
     "output_type": "execute_result"
    }
   ],
   "source": [
    "crossValidate(ecoliMat, ecoliY, folds, minK, categ=True)"
   ]
  }
 ],
 "metadata": {
  "kernelspec": {
   "display_name": "Python 3",
   "language": "python",
   "name": "python3"
  },
  "language_info": {
   "codemirror_mode": {
    "name": "ipython",
    "version": 3
   },
   "file_extension": ".py",
   "mimetype": "text/x-python",
   "name": "python",
   "nbconvert_exporter": "python",
   "pygments_lexer": "ipython3",
   "version": "3.6.5"
  }
 },
 "nbformat": 4,
 "nbformat_minor": 2
}
