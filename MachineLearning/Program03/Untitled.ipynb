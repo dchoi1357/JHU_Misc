{
 "cells": [
  {
   "cell_type": "code",
   "execution_count": 1,
   "metadata": {},
   "outputs": [],
   "source": [
    "import numpy as np, pandas as pd\n"
   ]
  },
  {
   "cell_type": "code",
   "execution_count": 2,
   "metadata": {},
   "outputs": [],
   "source": [
    "def pairwiseDist(x, y=None):\n",
    "    if y is None:\n",
    "        y = x\n",
    "    return np.sum((x[:,None]-y)**2,axis=2)**0.5"
   ]
  },
  {
   "cell_type": "code",
   "execution_count": null,
   "metadata": {},
   "outputs": [],
   "source": [
    "def mostCommonElem(elems):\n",
    "    unq, unqCnt = np.unique(elems, return_counts=True)\n",
    "    maxIdx = np.where(unqCnt==np.max(unqCnt))\n",
    "    if len(maxIdx) > 1: # there's a tie\n",
    "\n",
    "################################################################################\n",
    "def KNN(trainX, trainY, testX, K, regression=False):\n",
    "    dists = pairwiseDist(testX,trainX) # all pairwise dist of two datasets\n",
    "    kIdx = np.argpartition(dists, K)[:,:K] # find idx of smallest K elements\n",
    "    neighbs = trainY[kIdx]\n",
    "    \n",
    "    testY = np.empty(testX.shape, trainY.dtype) # pre-allocate test data labels\n",
    "    if regression:\n",
    "        pass\n",
    "    else:\n",
    "        for n,knn in enumerate(neighbs):\n",
    "            testY[n] = mostCommonElem(knn)\n",
    "    \n",
    "    "
   ]
  },
  {
   "cell_type": "code",
   "execution_count": 42,
   "metadata": {},
   "outputs": [
    {
     "data": {
      "text/plain": [
       "array([[1208407136,        146, 1208407328,        146, 1208407184],\n",
       "       [       146,          0,          0,          0,          0],\n",
       "       [         0,          0,          0,          0, 1208406512],\n",
       "       [       146,          0,          0,          0,          0],\n",
       "       [         0,          0, 1208407424,        146,          0],\n",
       "       [         0,          0,          0, 1208407040,        146],\n",
       "       [1208407808,        146, 1208407472,        146,          0],\n",
       "       [         0,          0,          0, 1208407856,        146],\n",
       "       [         0,          0,          0,          0, 1208406320],\n",
       "       [       146,          0,          0,          0,          0],\n",
       "       [1208407760,        146, 1208407376,        146,          0],\n",
       "       [         0,          0,          0, 1208406848,        146],\n",
       "       [         0,          0,          0,          0,          0]])"
      ]
     },
     "execution_count": 42,
     "metadata": {},
     "output_type": "execute_result"
    }
   ],
   "source": [
    "np.empty(testX.shape, dtype=int)"
   ]
  },
  {
   "cell_type": "code",
   "execution_count": 20,
   "metadata": {},
   "outputs": [],
   "source": [
    "testX = np.vstack([np.random.randn(8,5)+9, np.random.randn(5,5)+2])\n",
    "testY = np.array(['B']*8 + ['S']*5)\n",
    "testPred = np.vstack([np.random.randn(2,5)+9, np.random.randn(2,5)+2])\n",
    "d = pairwiseDist(testPred, testX)"
   ]
  },
  {
   "cell_type": "code",
   "execution_count": 21,
   "metadata": {},
   "outputs": [
    {
     "data": {
      "text/plain": [
       "array([[ 1.38359908,  2.76655379,  1.84680373,  2.11989089,  1.58085558,\n",
       "         2.2267154 ,  1.84234042,  1.76268907, 16.64342548, 16.09662031,\n",
       "        14.6928764 , 15.04998073, 15.81889807],\n",
       "       [ 1.59203808,  1.73620462,  1.52847415,  1.91510187,  1.72709241,\n",
       "         1.24535541,  2.00042648,  1.83680441, 16.34601047, 15.5750117 ,\n",
       "        14.14526648, 14.6808198 , 15.29559435],\n",
       "       [17.15466327, 16.57381648, 16.26667696, 16.41192156, 17.53446897,\n",
       "        16.94620681, 16.53636849, 16.02875769,  2.35041518,  2.28435493,\n",
       "         3.06293502,  2.5858431 ,  2.60257134],\n",
       "       [18.16993491, 17.92905315, 17.47774017, 17.57867994, 18.58093978,\n",
       "        18.28943574, 17.66175795, 17.31161639,  2.35273622,  4.55587878,\n",
       "         4.79249561,  3.59293427,  3.9704747 ]])"
      ]
     },
     "execution_count": 21,
     "metadata": {},
     "output_type": "execute_result"
    }
   ],
   "source": [
    "d"
   ]
  },
  {
   "cell_type": "code",
   "execution_count": 39,
   "metadata": {},
   "outputs": [
    {
     "data": {
      "text/plain": [
       "array([[ 4,  0,  7],\n",
       "       [ 5,  2,  0],\n",
       "       [ 8,  9, 11],\n",
       "       [12, 11,  8]], dtype=int64)"
      ]
     },
     "execution_count": 39,
     "metadata": {},
     "output_type": "execute_result"
    }
   ],
   "source": [
    "z = np.argpartition(d, 3)[:,:3]\n",
    "z"
   ]
  },
  {
   "cell_type": "code",
   "execution_count": 40,
   "metadata": {},
   "outputs": [
    {
     "data": {
      "text/plain": [
       "array([['B', 'B', 'B'],\n",
       "       ['B', 'B', 'B'],\n",
       "       ['S', 'S', 'S'],\n",
       "       ['S', 'S', 'S']], dtype='<U1')"
      ]
     },
     "execution_count": 40,
     "metadata": {},
     "output_type": "execute_result"
    }
   ],
   "source": [
    "testY[z]"
   ]
  }
 ],
 "metadata": {
  "kernelspec": {
   "display_name": "Python 3",
   "language": "python",
   "name": "python3"
  },
  "language_info": {
   "codemirror_mode": {
    "name": "ipython",
    "version": 3
   },
   "file_extension": ".py",
   "mimetype": "text/x-python",
   "name": "python",
   "nbconvert_exporter": "python",
   "pygments_lexer": "ipython3",
   "version": "3.6.5"
  }
 },
 "nbformat": 4,
 "nbformat_minor": 2
}
