{
 "cells": [
  {
   "cell_type": "code",
   "execution_count": 1,
   "metadata": {},
   "outputs": [],
   "source": [
    "import numpy as np, pandas as pd"
   ]
  },
  {
   "cell_type": "code",
   "execution_count": 27,
   "metadata": {},
   "outputs": [],
   "source": [
    "def pairwiseDist(x, y=None):\n",
    "    if y is None:\n",
    "        y = x\n",
    "    return np.sum((x[:,None]-y)**2,axis=2)**0.5\n",
    "\n",
    "def prepData(dataPathDir, fieldNames, featSlices, sep=',', standardize=False):\n",
    "    raw = pd.read_csv(dataPathDir , sep=sep, names=fieldNames) # read dlm file\n",
    "    dataFeats = fieldNames[featSlices] # list of feature names\n",
    "    if standardize: # if choose to standardize data\n",
    "        meanVals = raw[dataFeats].mean().values # mean of all features\n",
    "        stdVals = raw[dataFeats].std().values # standard deviations\n",
    "        dataMat = (raw[dataFeats].values - meanVals) / stdVals # [x-E(x)]/S(X)\n",
    "    else:\n",
    "        dataMat = raw[dataFeats].values # original values\n",
    "    return dataMat,dataFeats,raw['class'].values"
   ]
  },
  {
   "cell_type": "code",
   "execution_count": 47,
   "metadata": {},
   "outputs": [],
   "source": [
    "################################################################################\n",
    "def getCrossValidFolds(dataMat, classVec, nFolds=5, stratify=False):\n",
    "    ''' Cut N-fold cross validation of the data set\n",
    "    '''\n",
    "    idx = np.arange(dataMat.shape[0]) # construct index of data rows\n",
    "    \n",
    "    if stratify:\n",
    "        unqs,unqInv = np.unique(classVec, return_inverse=True)\n",
    "        tmpHold = [None] * len(unqs)\n",
    "        for n,k in enumerate(unqs):\n",
    "            grpIdx = (unqInv==n) # idx of all elems in current class\n",
    "            tmpHold[n] = np.array_split(idx[grpIdx], nFolds) # split: N equals\n",
    "        chunks = [np.hstack(k) for k in zip(*tmpHold)] # concat sub chunks\n",
    "    else:\n",
    "        np.random.shuffle(idx) # random shuffle data\n",
    "        chunks = np.array_split(idx, nFolds) # split into N equal sized chunks\n",
    "\n",
    "    #trnIdx = np.hstack([chunks[x] for x in range(slices) if x != n])\n",
    "    #vldIdx = np.hstack([chunks[x] for x in range(slices) if x == n])\n",
    "    return chunks # return the prediction of the last fold"
   ]
  },
  {
   "cell_type": "code",
   "execution_count": 49,
   "metadata": {},
   "outputs": [],
   "source": [
    "ecoliPD = './data/ecoli.data'\n",
    "ecoliVars = ['seq', 'mcg', 'gvh', 'lip', 'chg', 'aac', 'alm1', 'alm2', 'class']\n",
    "################################################################################\n",
    "ecoliMat,ecoliFeat,ecoliY = prepData(ecoliPD, ecoliVars, slice(1,-1), '\\s+')\n",
    "folds = getCrossValidFolds(ecoliMat, ecoliY, stratify=True)"
   ]
  },
  {
   "cell_type": "code",
   "execution_count": 286,
   "metadata": {},
   "outputs": [],
   "source": [
    "def mostCommonElem(elems):\n",
    "    counts = dict() # dict to keep track of counts\n",
    "    for e in elems: # loop over array\n",
    "        counts[e] = counts.get(e,0) + 1 # increase count by 1 (def count of 0)\n",
    "    maxCount = -1\n",
    "    for e,ct in counts.items(): # loop over counts, set maxCount if count larger\n",
    "        maxCount = ct if ct > maxCount else maxCount\n",
    "    # get list of elems which has same count as maxCount (if multiple elems)\n",
    "    mostFreqElem = [e for e,ct in counts.items() if ct==maxCount]\n",
    "    return np.random.choice(mostFreqElem) # randomly choose one elemn from all\n",
    "\n",
    "def kMinValIdx(mat, k):\n",
    "    mat = np.copy(mat) # create copy of variable\n",
    "    idx = np.ones(d.shape,int).cumsum(axis=1)-1 # rows of idx: 0,1,...,nCol\n",
    "    \n",
    "    for it in range(k): # perform k bubbles to get k smallest\n",
    "        for col in range(mat.shape[1]-it-1):\n",
    "            toSwap = mat[:,col] < mat[:,col+1] # if elem smaller than next elem\n",
    "            # swap cols of data matrix and matrix of indices\n",
    "            mat[np.ix_(toSwap,[col,col+1])] = mat[np.ix_(toSwap,[col+1,col])]\n",
    "            idx[np.ix_(toSwap,[col,col+1])] = idx[np.ix_(toSwap,[col+1,col])]\n",
    "    return idx[:,-k:],mat[:,-k:] # return smallest elemenst per row and the idxs\n",
    "\n",
    "################################################################################\n",
    "def KNN(trainX, trainY, testX, K, regression=False):\n",
    "    dists = pairwiseDist(testX,trainX) # all pairwise dist of two datasets\n",
    "    knnIdx,_ = kMinValIdx(dists, K) # idx of K closest data pts in training set\n",
    "    knnLabels = trainY[knnIdx] # labels of these closest data points\n",
    "    \n",
    "    testY = np.empty(testX.shape, trainY.dtype) # pre-allocate test data labels\n",
    "    if regression: # regression, calculate mean\n",
    "        testY = knnLabl.mean(axis=1) # mean of k-closest label values\n",
    "    else: # classification, get most common class label\n",
    "        testY = np.array([mostCommonElem(lab) for lab in knnLabels])\n",
    "    return testY # return results"
   ]
  },
  {
   "cell_type": "code",
   "execution_count": null,
   "metadata": {},
   "outputs": [],
   "source": []
  },
  {
   "cell_type": "code",
   "execution_count": 282,
   "metadata": {},
   "outputs": [
    {
     "data": {
      "text/plain": [
       "array([[ 2.35968568,  2.64737534,  1.62612899,  2.21499893,  3.33869582,\n",
       "         3.47065923,  3.01280921,  3.09664356, 14.84349249, 18.52315473,\n",
       "        15.90429987, 15.71910361, 16.13707107],\n",
       "       [ 3.91166784,  1.47297886,  3.83122604,  4.40969213,  4.42262601,\n",
       "         2.53066954,  3.47358719,  2.7803554 , 12.29147976, 15.85377886,\n",
       "        13.14361229, 13.21176856, 13.30184389],\n",
       "       [ 2.18384144,  1.48345118,  1.50232591,  2.45115853,  2.49878792,\n",
       "         2.16701931,  2.48616783,  2.27381092, 14.22601711, 17.85282483,\n",
       "        15.18519974, 15.15361428, 15.44737518],\n",
       "       [ 2.93110888,  1.44298489,  2.18709245,  2.94293404,  3.39103615,\n",
       "         2.52378416,  2.72465258,  2.3079126 , 13.82707269, 17.45133668,\n",
       "        14.76625728, 14.76440045, 15.04431087],\n",
       "       [ 2.74992211,  1.39073655,  1.97807805,  2.77326018,  2.61970962,\n",
       "         1.85966333,  2.42844157,  2.01559566, 14.12705641, 17.70461843,\n",
       "        15.02076642, 15.06618522, 15.30803819],\n",
       "       [15.35694262, 13.83447439, 15.38715083, 16.73987943, 16.39318034,\n",
       "        14.82740797, 15.97372042, 15.25848178,  2.4469652 ,  3.39167596,\n",
       "         1.54834892,  2.1297434 ,  1.74784925],\n",
       "       [17.35765176, 16.0810481 , 17.49643321, 18.97665625, 18.56331302,\n",
       "        17.18585876, 18.35872267, 17.67790675,  2.8792128 ,  1.84046466,\n",
       "         2.18041959,  2.6540685 ,  2.71134127]])"
      ]
     },
     "execution_count": 282,
     "metadata": {},
     "output_type": "execute_result"
    }
   ],
   "source": [
    "testX = np.vstack([np.random.randn(8,5)+9, np.random.randn(5,5)+2])\n",
    "testY = np.array(['B']*8 + ['S']*5)\n",
    "testPred = np.vstack([np.random.randn(5,5)+9, np.random.randn(2,5)+2])\n",
    "pairwiseDist(testPred, testX)"
   ]
  },
  {
   "cell_type": "code",
   "execution_count": 287,
   "metadata": {},
   "outputs": [
    {
     "data": {
      "text/plain": [
       "array(['B', 'B', 'B', 'B', 'B', 'S', 'S'], dtype='<U1')"
      ]
     },
     "execution_count": 287,
     "metadata": {},
     "output_type": "execute_result"
    }
   ],
   "source": [
    "KNN(testX, testY, testPred, 9)"
   ]
  }
 ],
 "metadata": {
  "kernelspec": {
   "display_name": "Python 3",
   "language": "python",
   "name": "python3"
  },
  "language_info": {
   "codemirror_mode": {
    "name": "ipython",
    "version": 3
   },
   "file_extension": ".py",
   "mimetype": "text/x-python",
   "name": "python",
   "nbconvert_exporter": "python",
   "pygments_lexer": "ipython3",
   "version": "3.6.5"
  }
 },
 "nbformat": 4,
 "nbformat_minor": 2
}
