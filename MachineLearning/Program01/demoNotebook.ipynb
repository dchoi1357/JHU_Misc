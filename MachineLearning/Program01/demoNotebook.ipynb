{
 "cells": [
  {
   "cell_type": "code",
   "execution_count": 2,
   "metadata": {},
   "outputs": [],
   "source": [
    "import numpy as np\n",
    "import os\n",
    "import pandas as pd\n",
    "import functions.winnow as WN # import Winnow\n",
    "import functions.naiveBayes as NB # import Naive Bayes\n",
    "import functions.modeling as mdl # import modeling functions"
   ]
  },
  {
   "cell_type": "markdown",
   "metadata": {},
   "source": [
    "## Lecture Example of Winnow Algorithm ##"
   ]
  },
  {
   "cell_type": "code",
   "execution_count": 3,
   "metadata": {},
   "outputs": [
    {
     "name": "stdout",
     "output_type": "stream",
     "text": [
      "[[0 0 0]\n",
      " [0 0 1]\n",
      " [0 1 0]\n",
      " [0 1 1]\n",
      " [1 0 0]\n",
      " [1 0 1]\n",
      " [1 1 0]\n",
      " [1 1 1]]\n",
      "[0, 0, 0, 1, 0, 1, 0, 1]\n"
     ]
    }
   ],
   "source": [
    "testX = np.array([[0,0,0],[0,0,1],[0,1,0],[0,1,1],[1,0,0],[1,0,1],[1,1,0],[1,1,1]])\n",
    "testY = [0,0,0,1,0,1,0,1]\n",
    "print(testX)\n",
    "print(testY)"
   ]
  },
  {
   "cell_type": "code",
   "execution_count": 4,
   "metadata": {},
   "outputs": [
    {
     "name": "stdout",
     "output_type": "stream",
     "text": [
      "initial weights: [1. 1. 1.]\n",
      "[0] no update to weights\n",
      "[1] new weights: [1.  1.  0.5]\n",
      "[2] new weights: [1.  0.5 0.5]\n",
      "[3] no update to weights\n",
      "[4] new weights: [0.5 0.5 0.5]\n",
      "[5] no update to weights\n",
      "[6] new weights: [0.25 0.25 0.5 ]\n",
      "[7] no update to weights\n",
      "Final weights: [0.25 0.25 0.5 ]\n"
     ]
    },
    {
     "data": {
      "text/plain": [
       "array([0.25, 0.25, 0.5 ])"
      ]
     },
     "execution_count": 4,
     "metadata": {},
     "output_type": "execute_result"
    }
   ],
   "source": [
    "prm = {'theta':0.5, 'alpha': 2}\n",
    "WN.WinnowTrain(testX, testY, prm, True)"
   ]
  },
  {
   "cell_type": "markdown",
   "metadata": {},
   "source": [
    "## Lecture Example of Naive Bayes Algorithm"
   ]
  },
  {
   "cell_type": "code",
   "execution_count": 5,
   "metadata": {},
   "outputs": [
    {
     "name": "stdout",
     "output_type": "stream",
     "text": [
      "[[1 1 1 0 0]\n",
      " [0 1 1 1 0]\n",
      " [0 0 1 1 1]\n",
      " [1 0 0 1 0]\n",
      " [0 1 1 0 1]\n",
      " [0 1 0 1 0]\n",
      " [1 0 0 0 0]\n",
      " [0 1 0 0 0]\n",
      " [1 0 1 0 1]\n",
      " [0 1 0 1 0]]\n",
      "[0 0 0 0 0 1 1 1 1 1]\n"
     ]
    }
   ],
   "source": [
    "testX = np.array([[1,1,1,0,0], [0,1,1,1,0], [0,0,1,1,1], [1,0,0,1,0], \n",
    "                  [0,1,1,0,1], [0,1,0,1,0], [1,0,0,0,0], [0,1,0,0,0], \n",
    "                  [1,0,1,0,1], [0,1,0,1,0]])\n",
    "testY = np.array([0,0,0,0,0,1,1,1,1,1])\n",
    "print(testX)\n",
    "print(testY)"
   ]
  },
  {
   "cell_type": "code",
   "execution_count": 6,
   "metadata": {},
   "outputs": [
    {
     "name": "stdout",
     "output_type": "stream",
     "text": [
      "NB Probabilities of Classes:\n",
      "   Class  Uncond Pr\n",
      "0      0        0.5\n",
      "1      1        0.5\n",
      "\n",
      "NB Conditional Probabilities of Features:\n",
      "  features  [C=0,X=0]  [C=0,1=0]  [C=1,X=0]  [C=1,X=1]\n",
      "0       x1        0.6        0.4        0.6        0.4\n",
      "1       x2        0.4        0.6        0.4        0.6\n",
      "2       x3        0.2        0.8        0.8        0.2\n",
      "3       x4        0.4        0.6        0.6        0.4\n",
      "4       x5        0.6        0.4        0.8        0.2\n"
     ]
    }
   ],
   "source": [
    "probs = NB.NB_Train(testX, testY, False)\n",
    "names = ['x1', 'x2', 'x3', 'x4', 'x5']\n",
    "mdl.printNBmodel(probs, names)"
   ]
  }
 ],
 "metadata": {
  "kernelspec": {
   "display_name": "Python 3",
   "language": "python",
   "name": "python3"
  },
  "language_info": {
   "codemirror_mode": {
    "name": "ipython",
    "version": 3
   },
   "file_extension": ".py",
   "mimetype": "text/x-python",
   "name": "python",
   "nbconvert_exporter": "python",
   "pygments_lexer": "ipython3",
   "version": "3.6.5"
  }
 },
 "nbformat": 4,
 "nbformat_minor": 2
}
