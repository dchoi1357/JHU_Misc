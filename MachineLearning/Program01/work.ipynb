{
 "cells": [
  {
   "cell_type": "code",
   "execution_count": 1,
   "metadata": {},
   "outputs": [],
   "source": [
    "import numpy as np\n",
    "import os\n",
    "import pandas as pd\n",
    "import matplotlib.pyplot as plt"
   ]
  },
  {
   "cell_type": "code",
   "execution_count": 2,
   "metadata": {},
   "outputs": [],
   "source": [
    "dataDir = './data/'\n",
    "glassData = 'glass.txt'\n",
    "glassNames = ['id','RI','Na', 'Mg', 'Al', 'Si', 'K', 'Ca', 'Ba', 'Fe', 'type']\n",
    "vote84Data = os.path.join(dataDir, 'house-votes-84.data')\n",
    "vote84Names = ['class', 'infant', 'water', 'budget', 'doctorfee','salvador',\n",
    "              'religion', 'satellite', 'contras', 'missile', 'immigration',\n",
    "              'synfuels', 'education', 'superfund', 'crime', 'exports',\n",
    "              'ZAF']"
   ]
  },
  {
   "cell_type": "code",
   "execution_count": 3,
   "metadata": {},
   "outputs": [],
   "source": [
    "################################################################################\n",
    "raw = pd.read_csv(vote84Data , names=vote84Names ) # read in vote file\n",
    "# find the counts of unique values by all the variables \n",
    "z = raw.groupby('class').agg({i:'value_counts' for i in raw.columns[1:]})"
   ]
  },
  {
   "cell_type": "code",
   "execution_count": 4,
   "metadata": {},
   "outputs": [
    {
     "data": {
      "text/html": [
       "<div>\n",
       "<style scoped>\n",
       "    .dataframe tbody tr th:only-of-type {\n",
       "        vertical-align: middle;\n",
       "    }\n",
       "\n",
       "    .dataframe tbody tr th {\n",
       "        vertical-align: top;\n",
       "    }\n",
       "\n",
       "    .dataframe thead th {\n",
       "        text-align: right;\n",
       "    }\n",
       "</style>\n",
       "<table border=\"1\" class=\"dataframe\">\n",
       "  <thead>\n",
       "    <tr style=\"text-align: right;\">\n",
       "      <th></th>\n",
       "      <th></th>\n",
       "      <th>infant</th>\n",
       "      <th>water</th>\n",
       "      <th>budget</th>\n",
       "      <th>doctorfee</th>\n",
       "      <th>salvador</th>\n",
       "      <th>religion</th>\n",
       "      <th>satellite</th>\n",
       "      <th>contras</th>\n",
       "    </tr>\n",
       "  </thead>\n",
       "  <tbody>\n",
       "    <tr>\n",
       "      <th rowspan=\"3\" valign=\"top\">democrat</th>\n",
       "      <th>?</th>\n",
       "      <td>9</td>\n",
       "      <td>28</td>\n",
       "      <td>7</td>\n",
       "      <td>8</td>\n",
       "      <td>12</td>\n",
       "      <td>9</td>\n",
       "      <td>8</td>\n",
       "      <td>4</td>\n",
       "    </tr>\n",
       "    <tr>\n",
       "      <th>n</th>\n",
       "      <td>102</td>\n",
       "      <td>119</td>\n",
       "      <td>29</td>\n",
       "      <td>245</td>\n",
       "      <td>200</td>\n",
       "      <td>135</td>\n",
       "      <td>59</td>\n",
       "      <td>45</td>\n",
       "    </tr>\n",
       "    <tr>\n",
       "      <th>y</th>\n",
       "      <td>156</td>\n",
       "      <td>120</td>\n",
       "      <td>231</td>\n",
       "      <td>14</td>\n",
       "      <td>55</td>\n",
       "      <td>123</td>\n",
       "      <td>200</td>\n",
       "      <td>218</td>\n",
       "    </tr>\n",
       "    <tr>\n",
       "      <th rowspan=\"3\" valign=\"top\">republican</th>\n",
       "      <th>?</th>\n",
       "      <td>3</td>\n",
       "      <td>20</td>\n",
       "      <td>4</td>\n",
       "      <td>3</td>\n",
       "      <td>3</td>\n",
       "      <td>2</td>\n",
       "      <td>6</td>\n",
       "      <td>11</td>\n",
       "    </tr>\n",
       "    <tr>\n",
       "      <th>n</th>\n",
       "      <td>134</td>\n",
       "      <td>73</td>\n",
       "      <td>142</td>\n",
       "      <td>2</td>\n",
       "      <td>8</td>\n",
       "      <td>17</td>\n",
       "      <td>123</td>\n",
       "      <td>133</td>\n",
       "    </tr>\n",
       "    <tr>\n",
       "      <th>y</th>\n",
       "      <td>31</td>\n",
       "      <td>75</td>\n",
       "      <td>22</td>\n",
       "      <td>163</td>\n",
       "      <td>157</td>\n",
       "      <td>149</td>\n",
       "      <td>39</td>\n",
       "      <td>24</td>\n",
       "    </tr>\n",
       "  </tbody>\n",
       "</table>\n",
       "</div>"
      ],
      "text/plain": [
       "              infant  water  budget  doctorfee  salvador  religion  satellite  \\\n",
       "democrat   ?       9     28       7          8        12         9          8   \n",
       "           n     102    119      29        245       200       135         59   \n",
       "           y     156    120     231         14        55       123        200   \n",
       "republican ?       3     20       4          3         3         2          6   \n",
       "           n     134     73     142          2         8        17        123   \n",
       "           y      31     75      22        163       157       149         39   \n",
       "\n",
       "              contras  \n",
       "democrat   ?        4  \n",
       "           n       45  \n",
       "           y      218  \n",
       "republican ?       11  \n",
       "           n      133  \n",
       "           y       24  "
      ]
     },
     "execution_count": 4,
     "metadata": {},
     "output_type": "execute_result"
    }
   ],
   "source": [
    "z.iloc[:,:8]"
   ]
  },
  {
   "cell_type": "code",
   "execution_count": 5,
   "metadata": {},
   "outputs": [
    {
     "data": {
      "text/html": [
       "<div>\n",
       "<style scoped>\n",
       "    .dataframe tbody tr th:only-of-type {\n",
       "        vertical-align: middle;\n",
       "    }\n",
       "\n",
       "    .dataframe tbody tr th {\n",
       "        vertical-align: top;\n",
       "    }\n",
       "\n",
       "    .dataframe thead th {\n",
       "        text-align: right;\n",
       "    }\n",
       "</style>\n",
       "<table border=\"1\" class=\"dataframe\">\n",
       "  <thead>\n",
       "    <tr style=\"text-align: right;\">\n",
       "      <th></th>\n",
       "      <th></th>\n",
       "      <th>immigration</th>\n",
       "      <th>synfuels</th>\n",
       "      <th>education</th>\n",
       "      <th>superfund</th>\n",
       "      <th>crime</th>\n",
       "      <th>exports</th>\n",
       "      <th>ZAF</th>\n",
       "    </tr>\n",
       "  </thead>\n",
       "  <tbody>\n",
       "    <tr>\n",
       "      <th rowspan=\"3\" valign=\"top\">democrat</th>\n",
       "      <th>?</th>\n",
       "      <td>4</td>\n",
       "      <td>12</td>\n",
       "      <td>18</td>\n",
       "      <td>15</td>\n",
       "      <td>10</td>\n",
       "      <td>16</td>\n",
       "      <td>82</td>\n",
       "    </tr>\n",
       "    <tr>\n",
       "      <th>n</th>\n",
       "      <td>139</td>\n",
       "      <td>126</td>\n",
       "      <td>213</td>\n",
       "      <td>179</td>\n",
       "      <td>167</td>\n",
       "      <td>91</td>\n",
       "      <td>12</td>\n",
       "    </tr>\n",
       "    <tr>\n",
       "      <th>y</th>\n",
       "      <td>124</td>\n",
       "      <td>129</td>\n",
       "      <td>36</td>\n",
       "      <td>73</td>\n",
       "      <td>90</td>\n",
       "      <td>160</td>\n",
       "      <td>173</td>\n",
       "    </tr>\n",
       "    <tr>\n",
       "      <th rowspan=\"3\" valign=\"top\">republican</th>\n",
       "      <th>?</th>\n",
       "      <td>3</td>\n",
       "      <td>9</td>\n",
       "      <td>13</td>\n",
       "      <td>10</td>\n",
       "      <td>7</td>\n",
       "      <td>12</td>\n",
       "      <td>22</td>\n",
       "    </tr>\n",
       "    <tr>\n",
       "      <th>n</th>\n",
       "      <td>73</td>\n",
       "      <td>138</td>\n",
       "      <td>20</td>\n",
       "      <td>22</td>\n",
       "      <td>3</td>\n",
       "      <td>142</td>\n",
       "      <td>50</td>\n",
       "    </tr>\n",
       "    <tr>\n",
       "      <th>y</th>\n",
       "      <td>92</td>\n",
       "      <td>21</td>\n",
       "      <td>135</td>\n",
       "      <td>136</td>\n",
       "      <td>158</td>\n",
       "      <td>14</td>\n",
       "      <td>96</td>\n",
       "    </tr>\n",
       "  </tbody>\n",
       "</table>\n",
       "</div>"
      ],
      "text/plain": [
       "              immigration  synfuels  education  superfund  crime  exports  ZAF\n",
       "democrat   ?            4        12         18         15     10       16   82\n",
       "           n          139       126        213        179    167       91   12\n",
       "           y          124       129         36         73     90      160  173\n",
       "republican ?            3         9         13         10      7       12   22\n",
       "           n           73       138         20         22      3      142   50\n",
       "           y           92        21        135        136    158       14   96"
      ]
     },
     "execution_count": 5,
     "metadata": {},
     "output_type": "execute_result"
    }
   ],
   "source": [
    "z.iloc[:,9:]"
   ]
  },
  {
   "cell_type": "code",
   "execution_count": 6,
   "metadata": {},
   "outputs": [],
   "source": [
    "# generate one-hot coding for issues with lots of missing votes\n",
    "\n",
    "def oneHot(data, colName):\n",
    "    x = data.loc[:,colName]\n",
    "    oneHotMat = pd.concat([(x=='y'),(x=='n'),(x=='q')], axis=1)\n",
    "    oneHotMat.columns = [colName+'_'+suff for suff in ['y','n','q']]\n",
    "    return oneHotMat\n",
    "\n",
    "oneHotCols = pd.concat([oneHot(raw,'water'), oneHot(raw,'education'), \n",
    "                        oneHot(raw,'ZAF')], axis=1)"
   ]
  },
  {
   "cell_type": "code",
   "execution_count": 7,
   "metadata": {},
   "outputs": [],
   "source": [
    "# remove variables with completed one-hot coding from list of variables\n",
    "yesVars = np.setdiff1d(vote84Names[1:],['water','education','ZAF'])\n",
    "yesVote = raw.loc[:,yesVars] == 'y' # boolean for vote='yes' for rest of vars\n",
    "yesVote.columns = [s+'_y' for s in yesVote.columns]\n",
    "repub = raw.loc[:,['class']] == 'republican' # boolean for republicans\n",
    "voteData = pd.concat([yesVote,oneHotCols], axis=1) # concat two dataframes\n",
    "voteMat = voteData.values * 1 # give matrixs of 0 & 1 for calculation\n",
    "repubVec = repub.values.ravel() * 1 # vector of 0 & 1 for calculation"
   ]
  },
  {
   "cell_type": "code",
   "execution_count": 112,
   "metadata": {},
   "outputs": [],
   "source": [
    "def WinnowTrain(data, classVec, prm, trace=False):\n",
    "    wts = np.ones(data.shape[1]) # initialize weight vector\n",
    "    if trace: # print initial weights if trace is on\n",
    "        print('initial weights: %s'%wts) \n",
    "    for n,x in enumerate(data):\n",
    "        pred = wts.dot(x) > prm['theta'] # prediction is if f > theta\n",
    "        if pred != classVec[n]: # wrong prediction: promotion / demotion\n",
    "            mult = (pred==0)*prm['alpha'] + (pred==1)/prm['alpha'] \n",
    "            wts = (x==1)*wts*mult + (x==0)*wts # update weights\n",
    "            if trace: # print updated weights if its \n",
    "                print('[%d] new weights: %s'%(n,wts)) \n",
    "        else: # correct prediction, no update needed, only for tracing\n",
    "            if trace: # print that no update to weights\n",
    "                print('[%d] no update to weights'%n)\n",
    "    if trace: # print final weights for trace\n",
    "        print('Final weights: %s'%wts)\n",
    "    return wts\n",
    "\n",
    "def WinnowPred(data, wts, prm):\n",
    "    return (data.dot(wts) > prm['theta'])*1 # prediction: if f > theta\n",
    "\n",
    "def errRates(pred, actual):\n",
    "    return np.sum(actual!=pred)/pred.size # return error rate"
   ]
  },
  {
   "cell_type": "code",
   "execution_count": 204,
   "metadata": {},
   "outputs": [],
   "source": [
    "def condProb(data, add): # data assumed to be class-homogenous\n",
    "    condPr = np.zeros(data.shape[1]) # pre-allocate cond probilities\n",
    "    for n,x in enumerate(data.T): # loop over the columns of the data\n",
    "        condPr[n] = (sum(x==0)+add)/(len(x)+add) # laplace smooth if needed\n",
    "    return condPr\n",
    "\n",
    "################################################################################\n",
    "def NB_Train(data, classVec, smooth=True):\n",
    "    smoothAdd = smooth*1 # addition to num and denom for smoothing\n",
    "    \n",
    "    pr_C0 = sum(classVec==0)/len(classVec) # probability of class=0\n",
    "    condPr_C0 = condProb(data[classVec==0,], smoothAdd) # cond prob class=0\n",
    "    condPr_C1 = condProb(data[classVec==1,], smoothAdd) # cond prob class=1\n",
    "    return (pr_C0,condPr_C0,condPr_C1) # return class prob and cond probs\n",
    "\n",
    "def NB_pred(data, probs): # predicting based on conditional probs\n",
    "    pr_C0,condPr0_C0,condPr0_C1 = probs\n",
    "    xCondsC0 = (data==0)*condPr0_C0 + (data==1)*(1-condPr0_C0)\n",
    "    xCondsC1 = (data==0)*condPr0_C1 + (data==1)*(1-condPr0_C1)\n",
    "    PrX_C0 = np.cumprod(xCondsC0,1)[:,-1] * pr_C0\n",
    "    PrX_C1 = np.cumprod(xCondsC1,1)[:,-1] * (1-pr_C0)\n",
    "    return (PrX_C1>PrX_C0)*1"
   ]
  },
  {
   "cell_type": "code",
   "execution_count": 548,
   "metadata": {},
   "outputs": [],
   "source": [
    "def crossValidate(dataMat, classVec, hyPrm, trace=False):\n",
    "    slices = 10\n",
    "    idx = np.arange(dataMat.shape[0]) # construct index of data rows\n",
    "    np.random.shuffle(idx) # random shuffle data\n",
    "    chunks = np.array_split(idx, slices) # split into N equal sized chunks\n",
    "\n",
    "    errsWinnow = np.zeros(slices)  # pre-allocate Winnow errors for each fold\n",
    "    errsNB = np.zeros(slices) # pre-allocate NB errors for each fold\n",
    "    for n in range(slices): # loop over all slices\n",
    "        # get index and dataset for current fold of cross-validation\n",
    "        trnIdx = np.hstack([chunks[x] for x in range(slices) if x != n])\n",
    "        vldIdx = np.hstack([chunks[x] for x in range(slices) if x == n])\n",
    "        dataTrain,classTrain = dataMat[trnIdx,:],classVec[trnIdx] # training\n",
    "        dataVald,classVald = dataMat[vldIdx,:],classVec[vldIdx] # validation\n",
    "\n",
    "        # train and test Winnow algorithm\n",
    "        wts = WinnowTrain(dataTrain, classTrain, hyPrm, False)\n",
    "        pred = WinnowPred(dataVald, wts, hyPrm)\n",
    "        errsWinnow[n] = errRates(pred, classVald)\n",
    "        \n",
    "        # train and test Naive Bayes\n",
    "        probs = NB_Train(dataTrain, classTrain, smooth=True)\n",
    "        pred = NB_pred(dataVald, probs)\n",
    "        errsNB[n] = errRates(pred, classVald)\n",
    "\n",
    "    print('Average error rate for Winnow is %f.'%np.mean(errsWinnow))\n",
    "    print('Std Dev of error rate for Winnow is %f.'%np.std(errsWinnow))\n",
    "    print('Average error rate for NB is %f.'%np.mean(errsNB))\n",
    "    print('Std Dev of error rate for NB is %f.'%np.std(errsNB))\n",
    "    return pred\n",
    "################################################################################\n",
    "\n",
    "def estModels(dataMat, classVec, hyPrm, trace=False):\n",
    "    wts = WinnowTrain(dataMat, classVec, hyPrm, False)\n",
    "    probs = NB_Train(dataMat, classVec, smooth=True)\n",
    "    return wts,probs"
   ]
  },
  {
   "cell_type": "code",
   "execution_count": 554,
   "metadata": {
    "scrolled": true
   },
   "outputs": [
    {
     "name": "stdout",
     "output_type": "stream",
     "text": [
      "Average error rate for Winnow is 0.073837.\n",
      "Std Dev of error rate for Winnow is 0.051851.\n",
      "Average error rate for NB is 0.103383.\n",
      "Std Dev of error rate for NB is 0.029404.\n"
     ]
    },
    {
     "data": {
      "text/plain": [
       "(array([2.44140625e-04, 1.25000000e-01, 2.50000000e-01, 4.00000000e+00,\n",
       "        6.25000000e-02, 2.50000000e-01, 3.12500000e-02, 1.25000000e-01,\n",
       "        3.12500000e-02, 5.00000000e-01, 2.50000000e-01, 2.50000000e-01,\n",
       "        1.22070312e-04, 3.12500000e-02, 2.50000000e-01, 1.00000000e+00,\n",
       "        2.50000000e-01, 6.25000000e-02, 1.00000000e+00, 5.00000000e-01,\n",
       "        1.25000000e-01, 1.00000000e+00]),\n",
       " (0.6137931034482759,\n",
       "  array([0.1380597 , 0.18656716, 0.6641791 , 0.94776119, 0.40298507,\n",
       "         0.53731343, 0.41791045, 0.29850746, 0.54104478, 0.79477612,\n",
       "         0.25373134, 0.72761194, 0.51865672, 0.55223881, 0.55597015,\n",
       "         1.        , 0.86567164, 0.20522388, 1.        , 0.35447761,\n",
       "         0.95522388, 1.        ]),\n",
       "  array([0.86982249, 0.85798817, 0.06508876, 0.03550296, 0.91715976,\n",
       "         0.4556213 , 0.81656805, 0.88757396, 0.1183432 , 0.07100592,\n",
       "         0.76923077, 0.19526627, 0.87573964, 0.55621302, 0.56804734,\n",
       "         1.        , 0.20118343, 0.8816568 , 1.        , 0.43195266,\n",
       "         0.70414201, 1.        ])))"
      ]
     },
     "execution_count": 554,
     "metadata": {},
     "output_type": "execute_result"
    }
   ],
   "source": [
    "votePrm = {'theta': 0.5*6, 'alpha': 2} # hyper-parameters for vote data\n",
    "z = crossValidate(voteMat, repubVec, votePrm) # cross validation test\n",
    "estModels(voteMat,repubVec,votePrm)"
   ]
  },
  {
   "cell_type": "code",
   "execution_count": 314,
   "metadata": {},
   "outputs": [],
   "source": [
    "bc_WI_data = os.path.join(dataDir, 'breast-cancer-wisconsin.data')\n",
    "bc_WI_names = ['id', 'clumpThick', 'unifSize', 'unifShape', 'margAdhsn', \n",
    "               'epithSize', 'bareNuclei', 'blandChrom', 'normNucleo', \n",
    "               'mitoses', 'class']\n",
    "raw = pd.read_csv(bc_WI_data , names=bc_WI_names)  # read CSV file\n",
    "raw = raw.apply(pd.to_numeric, errors= 'coerce') # convert all to numeric\n",
    "bcFeats = bc_WI_names[1:-1] # list of feature variables"
   ]
  },
  {
   "cell_type": "code",
   "execution_count": 332,
   "metadata": {},
   "outputs": [],
   "source": [
    "meanVals = raw[bcFeats].mean() # mean value for every feature\n",
    "bcData = pd.DataFrame() # pre-allocate data frame for data\n",
    "for v in bcFeats: # create DF of features if they are > mean feat value\n",
    "    bcData[v] = raw[v] > meanVals[v]\n",
    "bcMat = bcData.values * 1 # feature vector of 0 & 1s\n",
    "malign = raw.loc[:,[\"class\"]]==4 # if case is malignant tumor\n",
    "malignVec = malign.values.ravel()*1 # class vectors of 0 & 1s"
   ]
  },
  {
   "cell_type": "code",
   "execution_count": 555,
   "metadata": {},
   "outputs": [
    {
     "name": "stdout",
     "output_type": "stream",
     "text": [
      "Average error rate for Winnow is 0.095776.\n",
      "Std Dev of error rate for Winnow is 0.043748.\n",
      "Average error rate for NB is 0.031511.\n",
      "Std Dev of error rate for NB is 0.017964.\n"
     ]
    },
    {
     "data": {
      "text/plain": [
       "(array([0.25   , 0.5    , 1.     , 0.125  , 0.03125, 0.5    , 0.5    ,\n",
       "        0.0625 , 0.5    ]),\n",
       " (0.6552217453505007,\n",
       "  array([0.76906318, 0.96949891, 0.95206972, 0.89978214, 0.95642702,\n",
       "         0.95206972, 0.95642702, 0.94335512, 0.97167756]),\n",
       "  array([0.1322314 , 0.15702479, 0.13636364, 0.2231405 , 0.28099174,\n",
       "         0.16942149, 0.19008264, 0.19834711, 0.55785124])))"
      ]
     },
     "execution_count": 555,
     "metadata": {},
     "output_type": "execute_result"
    }
   ],
   "source": [
    "brCanPrm = {'theta': 0.5*3, 'alpha': 2} # hyper-parameters for vote data\n",
    "z = crossValidate(bcMat, malignVec, brCanPrm)\n",
    "\n",
    "estModels(bcMat,malignVec,brCanPrm)"
   ]
  },
  {
   "cell_type": "code",
   "execution_count": 316,
   "metadata": {},
   "outputs": [
    {
     "data": {
      "text/html": [
       "<div>\n",
       "<style scoped>\n",
       "    .dataframe tbody tr th:only-of-type {\n",
       "        vertical-align: middle;\n",
       "    }\n",
       "\n",
       "    .dataframe tbody tr th {\n",
       "        vertical-align: top;\n",
       "    }\n",
       "\n",
       "    .dataframe thead th {\n",
       "        text-align: right;\n",
       "    }\n",
       "</style>\n",
       "<table border=\"1\" class=\"dataframe\">\n",
       "  <thead>\n",
       "    <tr style=\"text-align: right;\">\n",
       "      <th></th>\n",
       "      <th>clumpThick</th>\n",
       "      <th>unifSize</th>\n",
       "      <th>unifShape</th>\n",
       "      <th>margAdhsn</th>\n",
       "      <th>epithSize</th>\n",
       "      <th>bareNuclei</th>\n",
       "      <th>blandChrom</th>\n",
       "      <th>normNucleo</th>\n",
       "      <th>mitoses</th>\n",
       "    </tr>\n",
       "    <tr>\n",
       "      <th>class</th>\n",
       "      <th></th>\n",
       "      <th></th>\n",
       "      <th></th>\n",
       "      <th></th>\n",
       "      <th></th>\n",
       "      <th></th>\n",
       "      <th></th>\n",
       "      <th></th>\n",
       "      <th></th>\n",
       "    </tr>\n",
       "  </thead>\n",
       "  <tbody>\n",
       "    <tr>\n",
       "      <th>2</th>\n",
       "      <td>3</td>\n",
       "      <td>1</td>\n",
       "      <td>1</td>\n",
       "      <td>1</td>\n",
       "      <td>2</td>\n",
       "      <td>1.0</td>\n",
       "      <td>2</td>\n",
       "      <td>1</td>\n",
       "      <td>1</td>\n",
       "    </tr>\n",
       "    <tr>\n",
       "      <th>4</th>\n",
       "      <td>8</td>\n",
       "      <td>6</td>\n",
       "      <td>6</td>\n",
       "      <td>5</td>\n",
       "      <td>5</td>\n",
       "      <td>10.0</td>\n",
       "      <td>7</td>\n",
       "      <td>6</td>\n",
       "      <td>1</td>\n",
       "    </tr>\n",
       "  </tbody>\n",
       "</table>\n",
       "</div>"
      ],
      "text/plain": [
       "       clumpThick  unifSize  unifShape  margAdhsn  epithSize  bareNuclei  \\\n",
       "class                                                                      \n",
       "2               3         1          1          1          2         1.0   \n",
       "4               8         6          6          5          5        10.0   \n",
       "\n",
       "       blandChrom  normNucleo  mitoses  \n",
       "class                                   \n",
       "2               2           1        1  \n",
       "4               7           6        1  "
      ]
     },
     "execution_count": 316,
     "metadata": {},
     "output_type": "execute_result"
    }
   ],
   "source": [
    "raw.groupby('class')[bcFeats].median()"
   ]
  },
  {
   "cell_type": "code",
   "execution_count": 317,
   "metadata": {},
   "outputs": [
    {
     "data": {
      "text/html": [
       "<div>\n",
       "<style scoped>\n",
       "    .dataframe tbody tr th:only-of-type {\n",
       "        vertical-align: middle;\n",
       "    }\n",
       "\n",
       "    .dataframe tbody tr th {\n",
       "        vertical-align: top;\n",
       "    }\n",
       "\n",
       "    .dataframe thead th {\n",
       "        text-align: right;\n",
       "    }\n",
       "</style>\n",
       "<table border=\"1\" class=\"dataframe\">\n",
       "  <thead>\n",
       "    <tr style=\"text-align: right;\">\n",
       "      <th></th>\n",
       "      <th>clumpThick</th>\n",
       "      <th>unifSize</th>\n",
       "      <th>unifShape</th>\n",
       "      <th>margAdhsn</th>\n",
       "      <th>epithSize</th>\n",
       "      <th>bareNuclei</th>\n",
       "      <th>blandChrom</th>\n",
       "      <th>normNucleo</th>\n",
       "      <th>mitoses</th>\n",
       "    </tr>\n",
       "    <tr>\n",
       "      <th>class</th>\n",
       "      <th></th>\n",
       "      <th></th>\n",
       "      <th></th>\n",
       "      <th></th>\n",
       "      <th></th>\n",
       "      <th></th>\n",
       "      <th></th>\n",
       "      <th></th>\n",
       "      <th></th>\n",
       "    </tr>\n",
       "  </thead>\n",
       "  <tbody>\n",
       "    <tr>\n",
       "      <th>2</th>\n",
       "      <td>2.956332</td>\n",
       "      <td>1.325328</td>\n",
       "      <td>1.443231</td>\n",
       "      <td>1.364629</td>\n",
       "      <td>2.120087</td>\n",
       "      <td>1.346847</td>\n",
       "      <td>2.100437</td>\n",
       "      <td>1.290393</td>\n",
       "      <td>1.063319</td>\n",
       "    </tr>\n",
       "    <tr>\n",
       "      <th>4</th>\n",
       "      <td>7.195021</td>\n",
       "      <td>6.572614</td>\n",
       "      <td>6.560166</td>\n",
       "      <td>5.547718</td>\n",
       "      <td>5.298755</td>\n",
       "      <td>7.627615</td>\n",
       "      <td>5.979253</td>\n",
       "      <td>5.863071</td>\n",
       "      <td>2.589212</td>\n",
       "    </tr>\n",
       "  </tbody>\n",
       "</table>\n",
       "</div>"
      ],
      "text/plain": [
       "       clumpThick  unifSize  unifShape  margAdhsn  epithSize  bareNuclei  \\\n",
       "class                                                                      \n",
       "2        2.956332  1.325328   1.443231   1.364629   2.120087    1.346847   \n",
       "4        7.195021  6.572614   6.560166   5.547718   5.298755    7.627615   \n",
       "\n",
       "       blandChrom  normNucleo   mitoses  \n",
       "class                                    \n",
       "2        2.100437    1.290393  1.063319  \n",
       "4        5.979253    5.863071  2.589212  "
      ]
     },
     "execution_count": 317,
     "metadata": {},
     "output_type": "execute_result"
    }
   ],
   "source": [
    "raw.groupby('class')[bcFeats].mean()"
   ]
  },
  {
   "cell_type": "code",
   "execution_count": 427,
   "metadata": {},
   "outputs": [],
   "source": [
    "################################################################################\n",
    "irisFile = os.path.join(dataDir, 'iris.data')\n",
    "irisName = ['sepalLen', 'sepalWth', 'petalLen', 'petalWth', 'class']\n",
    "raw = pd.read_csv(irisFile , names=irisName)  # read CSV file"
   ]
  },
  {
   "cell_type": "code",
   "execution_count": 432,
   "metadata": {},
   "outputs": [],
   "source": [
    "irisFeats = irisName[:-1]\n",
    "meanVals = raw[irisFeat].mean() # mean value for every feature\n",
    "irisData = pd.DataFrame() # pre-allocate data frame for data\n",
    "for v in irisFeats: # create DF of features if they are > mean feat value\n",
    "    irisData[v] = raw[v] > meanVals[v]\n",
    "irisMat = irisData.values * 1 # feature vector of 0 & 1s\n",
    "setosa = raw.loc[:,[\"class\"]]=='Iris-setosa' # Iris-setosa class\n",
    "setosaVec = setosa.values.ravel()*1 # class vectors of 0 & 1s"
   ]
  },
  {
   "cell_type": "code",
   "execution_count": 556,
   "metadata": {},
   "outputs": [
    {
     "name": "stdout",
     "output_type": "stream",
     "text": [
      "Average error rate for Winnow is 0.240000.\n",
      "Std Dev of error rate for Winnow is 0.095219.\n",
      "Average error rate for NB is 0.040000.\n",
      "Std Dev of error rate for NB is 0.044222.\n"
     ]
    },
    {
     "data": {
      "text/plain": [
       "(array([0.125, 0.125, 0.125, 0.125]),\n",
       " (0.6666666666666666,\n",
       "  array([0.30693069, 0.75247525, 0.07920792, 0.10891089]),\n",
       "  array([1.        , 0.17647059, 1.        , 1.        ])))"
      ]
     },
     "execution_count": 556,
     "metadata": {},
     "output_type": "execute_result"
    }
   ],
   "source": [
    "irisPrm = {'theta': 0.5*1, 'alpha': 2} # hyper-parameters for vote data\n",
    "z = crossValidate(irisMat, setosaVec, irisPrm)\n",
    "estModels(irisMat,setosaVec,irisPrm)"
   ]
  },
  {
   "cell_type": "code",
   "execution_count": 387,
   "metadata": {},
   "outputs": [
    {
     "data": {
      "text/html": [
       "<div>\n",
       "<style scoped>\n",
       "    .dataframe tbody tr th:only-of-type {\n",
       "        vertical-align: middle;\n",
       "    }\n",
       "\n",
       "    .dataframe tbody tr th {\n",
       "        vertical-align: top;\n",
       "    }\n",
       "\n",
       "    .dataframe thead th {\n",
       "        text-align: right;\n",
       "    }\n",
       "</style>\n",
       "<table border=\"1\" class=\"dataframe\">\n",
       "  <thead>\n",
       "    <tr style=\"text-align: right;\">\n",
       "      <th></th>\n",
       "      <th>sepalLen</th>\n",
       "      <th>sepalWth</th>\n",
       "      <th>petalLen</th>\n",
       "      <th>petalWth</th>\n",
       "    </tr>\n",
       "    <tr>\n",
       "      <th>class</th>\n",
       "      <th></th>\n",
       "      <th></th>\n",
       "      <th></th>\n",
       "      <th></th>\n",
       "    </tr>\n",
       "  </thead>\n",
       "  <tbody>\n",
       "    <tr>\n",
       "      <th>Iris-setosa</th>\n",
       "      <td>5.006</td>\n",
       "      <td>3.418</td>\n",
       "      <td>1.464</td>\n",
       "      <td>0.244</td>\n",
       "    </tr>\n",
       "    <tr>\n",
       "      <th>Iris-versicolor</th>\n",
       "      <td>5.936</td>\n",
       "      <td>2.770</td>\n",
       "      <td>4.260</td>\n",
       "      <td>1.326</td>\n",
       "    </tr>\n",
       "    <tr>\n",
       "      <th>Iris-virginica</th>\n",
       "      <td>6.588</td>\n",
       "      <td>2.974</td>\n",
       "      <td>5.552</td>\n",
       "      <td>2.026</td>\n",
       "    </tr>\n",
       "  </tbody>\n",
       "</table>\n",
       "</div>"
      ],
      "text/plain": [
       "                 sepalLen  sepalWth  petalLen  petalWth\n",
       "class                                                  \n",
       "Iris-setosa         5.006     3.418     1.464     0.244\n",
       "Iris-versicolor     5.936     2.770     4.260     1.326\n",
       "Iris-virginica      6.588     2.974     5.552     2.026"
      ]
     },
     "execution_count": 387,
     "metadata": {},
     "output_type": "execute_result"
    }
   ],
   "source": [
    "raw.groupby('class').mean()"
   ]
  },
  {
   "cell_type": "code",
   "execution_count": null,
   "metadata": {},
   "outputs": [],
   "source": [
    "raw = raw.apply(pd.to_numeric, errors= 'coerce') # convert all to numeric\n",
    "bcFeats = bc_WI_names[1:-1] # list of feature variables"
   ]
  },
  {
   "cell_type": "code",
   "execution_count": null,
   "metadata": {},
   "outputs": [],
   "source": [
    "voteModel = pd.DataFrame(Winnow(voteMat, repubVec, modlPrm, False))\n",
    "voteModel.columns = ['weight']\n",
    "voteModel.index = voteData.columns"
   ]
  },
  {
   "cell_type": "code",
   "execution_count": null,
   "metadata": {},
   "outputs": [],
   "source": [
    "testX = np.array([[0,0,0],[0,0,1],[0,1,0],[0,1,1],[1,0,0],[1,0,1],[1,1,0],[1,1,1]])\n",
    "testY = [0,0,0,1,0,1,0,1]\n",
    "prm = {'theta':0.5, 'alpha': 2}\n",
    "Winnow(testX, testY, prm, True)"
   ]
  },
  {
   "cell_type": "code",
   "execution_count": 81,
   "metadata": {},
   "outputs": [],
   "source": [
    "testX = np.array([[1,1,1,0,0], [0,1,1,1,0], [0,0,1,1,1], [1,0,0,1,0], \n",
    "                  [0,1,1,0,1], [0,1,0,1,0], [1,0,0,0,0], [0,1,0,0,0], \n",
    "                  [1,0,1,0,1], [0,1,0,1,0]])\n",
    "testY = np.array([0,0,0,0,0,1,1,1,1,1])\n",
    "z = NB_Train(testX, testY, False)"
   ]
  },
  {
   "cell_type": "code",
   "execution_count": 379,
   "metadata": {},
   "outputs": [],
   "source": [
    "################################################################################\n",
    "raw = pd.read_csv( os.path.join(dataDir, glassData), names=glassNames )\n",
    "\n",
    "# adding some binary classes\n",
    "raw['window'] = raw['type'] < 5 # type 1-4 are windows\n",
    "raw['buildWin'] = raw['type'] < 3 # type 1 & 2 are building windows\n",
    "raw['floatProc'] = raw['type'].isin([1,3]) # 1 & 3 are float processed glass\n",
    "feature = ['RI','Na', 'Mg', 'Al', 'Si', 'K', 'Ca', 'Ba', 'Fe']"
   ]
  },
  {
   "cell_type": "code",
   "execution_count": 383,
   "metadata": {},
   "outputs": [
    {
     "data": {
      "text/plain": [
       "True     163\n",
       "False     51\n",
       "Name: window, dtype: int64"
      ]
     },
     "execution_count": 383,
     "metadata": {},
     "output_type": "execute_result"
    }
   ],
   "source": [
    "raw['window'].value_counts()"
   ]
  },
  {
   "cell_type": "code",
   "execution_count": 367,
   "metadata": {},
   "outputs": [
    {
     "data": {
      "text/html": [
       "<div>\n",
       "<style scoped>\n",
       "    .dataframe tbody tr th:only-of-type {\n",
       "        vertical-align: middle;\n",
       "    }\n",
       "\n",
       "    .dataframe tbody tr th {\n",
       "        vertical-align: top;\n",
       "    }\n",
       "\n",
       "    .dataframe thead th {\n",
       "        text-align: right;\n",
       "    }\n",
       "</style>\n",
       "<table border=\"1\" class=\"dataframe\">\n",
       "  <thead>\n",
       "    <tr style=\"text-align: right;\">\n",
       "      <th></th>\n",
       "      <th>RI</th>\n",
       "      <th>Na</th>\n",
       "      <th>Mg</th>\n",
       "      <th>Al</th>\n",
       "      <th>Si</th>\n",
       "      <th>K</th>\n",
       "      <th>Ca</th>\n",
       "      <th>Ba</th>\n",
       "      <th>Fe</th>\n",
       "    </tr>\n",
       "    <tr>\n",
       "      <th>window</th>\n",
       "      <th></th>\n",
       "      <th></th>\n",
       "      <th></th>\n",
       "      <th></th>\n",
       "      <th></th>\n",
       "      <th></th>\n",
       "      <th></th>\n",
       "      <th></th>\n",
       "      <th></th>\n",
       "    </tr>\n",
       "  </thead>\n",
       "  <tbody>\n",
       "    <tr>\n",
       "      <th>False</th>\n",
       "      <td>1.517638</td>\n",
       "      <td>14.066667</td>\n",
       "      <td>0.733725</td>\n",
       "      <td>1.966667</td>\n",
       "      <td>72.855490</td>\n",
       "      <td>0.559608</td>\n",
       "      <td>9.060196</td>\n",
       "      <td>0.639216</td>\n",
       "      <td>0.023137</td>\n",
       "    </tr>\n",
       "    <tr>\n",
       "      <th>True</th>\n",
       "      <td>1.518593</td>\n",
       "      <td>13.201718</td>\n",
       "      <td>3.294908</td>\n",
       "      <td>1.281656</td>\n",
       "      <td>72.586933</td>\n",
       "      <td>0.477485</td>\n",
       "      <td>8.924663</td>\n",
       "      <td>0.029816</td>\n",
       "      <td>0.067607</td>\n",
       "    </tr>\n",
       "  </tbody>\n",
       "</table>\n",
       "</div>"
      ],
      "text/plain": [
       "              RI         Na        Mg        Al         Si         K  \\\n",
       "window                                                                 \n",
       "False   1.517638  14.066667  0.733725  1.966667  72.855490  0.559608   \n",
       "True    1.518593  13.201718  3.294908  1.281656  72.586933  0.477485   \n",
       "\n",
       "              Ca        Ba        Fe  \n",
       "window                                \n",
       "False   9.060196  0.639216  0.023137  \n",
       "True    8.924663  0.029816  0.067607  "
      ]
     },
     "execution_count": 367,
     "metadata": {},
     "output_type": "execute_result"
    }
   ],
   "source": [
    "raw.groupby(['window'])[feature].mean()"
   ]
  },
  {
   "cell_type": "code",
   "execution_count": 374,
   "metadata": {},
   "outputs": [
    {
     "data": {
      "text/plain": [
       "(214, 14)"
      ]
     },
     "execution_count": 374,
     "metadata": {},
     "output_type": "execute_result"
    }
   ],
   "source": [
    "raw.shape"
   ]
  },
  {
   "cell_type": "code",
   "execution_count": 368,
   "metadata": {},
   "outputs": [
    {
     "data": {
      "text/plain": [
       "id           107.500000\n",
       "RI             1.518365\n",
       "Na            13.407850\n",
       "Mg             2.684533\n",
       "Al             1.444907\n",
       "Si            72.650935\n",
       "K              0.497056\n",
       "Ca             8.956963\n",
       "Ba             0.175047\n",
       "Fe             0.057009\n",
       "type           2.780374\n",
       "window         0.761682\n",
       "buildWin       0.682243\n",
       "floatProc      0.406542\n",
       "dtype: float64"
      ]
     },
     "execution_count": 368,
     "metadata": {},
     "output_type": "execute_result"
    }
   ],
   "source": [
    "raw.mean()"
   ]
  }
 ],
 "metadata": {
  "kernelspec": {
   "display_name": "Python 3",
   "language": "python",
   "name": "python3"
  },
  "language_info": {
   "codemirror_mode": {
    "name": "ipython",
    "version": 3
   },
   "file_extension": ".py",
   "mimetype": "text/x-python",
   "name": "python",
   "nbconvert_exporter": "python",
   "pygments_lexer": "ipython3",
   "version": "3.6.5"
  }
 },
 "nbformat": 4,
 "nbformat_minor": 2
}
