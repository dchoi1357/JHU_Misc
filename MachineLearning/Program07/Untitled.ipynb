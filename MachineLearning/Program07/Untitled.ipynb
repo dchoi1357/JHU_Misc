{
 "cells": [
  {
   "cell_type": "code",
   "execution_count": 2,
   "metadata": {},
   "outputs": [],
   "source": [
    "import sys, os\n",
    "import numpy as np"
   ]
  },
  {
   "cell_type": "code",
   "execution_count": 21,
   "metadata": {},
   "outputs": [],
   "source": [
    "accels = [1,0,-1]\n",
    "velocs = range(-5,6)\n",
    "actions = [(x,y) for y in accels for x in accels]\n",
    "states = [(x,y) for y in velocs for x in velocs]\n",
    "actsPrint = {(0,0): \"o\", (1,1): \"\\N{North East Arrow}\", \n",
    "             (1,0): \"\\N{Rightwards Arrow}\", (1,-1): \"\\N{South East Arrow}\",\n",
    "             (0,-1): \"\\N{Downwards Arrow}\", (-1,-1): \"\\N{South West Arrow}\",\n",
    "             (-1,0): \"\\N{Leftwards Arrow}\", (-1,1): \"\\N{North West Arrow}\",\n",
    "             (0,1): \"\\N{Upwards Arrow}\"}\n"
   ]
  },
  {
   "cell_type": "code",
   "execution_count": 32,
   "metadata": {},
   "outputs": [],
   "source": [
    "fPath = os.path.join('data','O-track.txt')\n",
    "with open(fPath, 'r') as f:\n",
    "    x = [[s for s in l.strip()] for l in f.readlines()]\n",
    "    x = np.array(x[1:]) # strip out lines with world size"
   ]
  },
  {
   "cell_type": "code",
   "execution_count": 34,
   "metadata": {},
   "outputs": [
    {
     "data": {
      "text/plain": [
       "'#'"
      ]
     },
     "execution_count": 34,
     "metadata": {},
     "output_type": "execute_result"
    }
   ],
   "source": []
  },
  {
   "cell_type": "code",
   "execution_count": 22,
   "metadata": {},
   "outputs": [
    {
     "data": {
      "text/plain": [
       "['↗', '↑', '↖', '→', 'o', '←', '↘', '↓', '↙']"
      ]
     },
     "execution_count": 22,
     "metadata": {},
     "output_type": "execute_result"
    }
   ],
   "source": [
    "[actsPrint[x] for x in actions]"
   ]
  }
 ],
 "metadata": {
  "kernelspec": {
   "display_name": "Python 3",
   "language": "python",
   "name": "python3"
  },
  "language_info": {
   "codemirror_mode": {
    "name": "ipython",
    "version": 3
   },
   "file_extension": ".py",
   "mimetype": "text/x-python",
   "name": "python",
   "nbconvert_exporter": "python",
   "pygments_lexer": "ipython3",
   "version": "3.7.0"
  }
 },
 "nbformat": 4,
 "nbformat_minor": 2
}
