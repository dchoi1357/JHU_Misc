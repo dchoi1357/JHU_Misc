{
 "cells": [
  {
   "cell_type": "code",
   "execution_count": 1,
   "metadata": {},
   "outputs": [],
   "source": [
    "import sys, os\n",
    "import numpy as np\n",
    "import itertools\n",
    "from Bresenham import getPath"
   ]
  },
  {
   "cell_type": "code",
   "execution_count": 2,
   "metadata": {},
   "outputs": [],
   "source": [
    "accelList = [1,0,-1]\n",
    "velocList = range(-5,6)\n",
    "accels = list(itertools.product(accelList,accelList))\n",
    "velocs = list(itertools.product(velocList,velocList))\n",
    "actsPrint = {(0,0): \"o\", (1,1): \"\\N{North East Arrow}\", \n",
    "             (1,0): \"\\N{Rightwards Arrow}\", (1,-1): \"\\N{South East Arrow}\",\n",
    "             (0,-1): \"\\N{Downwards Arrow}\", (-1,-1): \"\\N{South West Arrow}\",\n",
    "             (-1,0): \"\\N{Leftwards Arrow}\", (-1,1): \"\\N{North West Arrow}\",\n",
    "             (0,1): \"\\N{Upwards Arrow}\"}"
   ]
  },
  {
   "cell_type": "code",
   "execution_count": 165,
   "metadata": {},
   "outputs": [],
   "source": [
    "################################################################################\n",
    "def readTrackFile(file):\n",
    "    with open(file, 'r') as f:\n",
    "        raw = [[s for s in l.strip()] for l in f.readlines()]\n",
    "        track = np.array(raw[1:]) # strip out lines with world size\n",
    "\n",
    "    locs,goals,starts = set(),set(),set()\n",
    "    for x,y in itertools.product(range(track.shape[0]), range(track.shape[1])):\n",
    "        space = track[y,x] # current track space\n",
    "        if space == '#': # wall space, not valid state\n",
    "            continue\n",
    "        else:\n",
    "            locs.add( (x,y) ) # valid state of car\n",
    "            if space == 'S': # starting points\n",
    "                starts.add( (x,y) ) # add to list of starting locations\n",
    "            if space == 'F': # is finish line space\n",
    "                goals.add( (x,y) ) # add to list of goal locations\n",
    "\n",
    "    states = set((x,y,a,b) for (x,y),(a,b) in itertools.product(locs,velocs))\n",
    "    return states,goals,track,starts\n",
    "    \n",
    "fPath = os.path.join('data','O-track.txt')\n",
    "O_states,O_goals,O_track,O_starts = readTrackFile(fPath)"
   ]
  },
  {
   "cell_type": "code",
   "execution_count": 169,
   "metadata": {},
   "outputs": [],
   "source": [
    "################################################################################\n",
    "def transFromState(state,actions,track):\n",
    "    size = track.shape\n",
    "    x0, y0, vx0, vy0 = state\n",
    "    trans = dict()\n",
    "    #trans = list()\n",
    "    for ax,ay in actions: # loop through all possible accelerations\n",
    "        vx1 = min(max(vx0 + ax,-5),5) # updated velocity\n",
    "        vy1 = min(max(vy0 + ay,-5),5)\n",
    "        paths = getPath(x0, y0, vx1, vy1) # path car takes with velocity vec\n",
    "\n",
    "        r = -1 # default reward\n",
    "        x1, y1 = (x0,y0) # set to starting location\n",
    "        for xC,yC in paths: # x,y coordinate of every step in path\n",
    "            #if not (0<=xC<size[0]) or not (0<=yC<size[1]): # out of bound\n",
    "            #    break\n",
    "            if track[yC,xC] == '#': # run into wall\n",
    "                vx1, vy1 = (0,0)\n",
    "                break\n",
    "            if track[yC,xC] == 'F': # goes over finish line\n",
    "                x1, y1 = (xC,yC)\n",
    "                vx1, vy1 = (0,0)\n",
    "                r = 0\n",
    "                break\n",
    "            x1, y1 = (xC,yC) # update location to new place\n",
    "        #trans.append( ((ax,ay),(x1,y1,vx1,vy1),r) ) # new state after transition\n",
    "        trans[(ax,ay)] = ((x1,y1,vx1,vy1),r)  # new state after transition\n",
    "    \n",
    "    return trans\n",
    "################################################################################\n",
    "def getTransitions(states,accelerations,world):\n",
    "    Rs = dict()\n",
    "    for st in states:\n",
    "        if world[st[1],st[0]] == 'F': # is finish line\n",
    "            Rs[st] = [] # no valid transition from finish line\n",
    "        Rs[st] = transFromState(st,accelerations,world)\n",
    "    return Rs\n",
    "\n",
    "################################################################################\n",
    "def getVPolicyFromQ(Q, TRs):\n",
    "    acts = Q.keys()\n",
    "    pol = max(acts, key=(lambda k: Q[k])) # get the key with highest reward\n",
    "    return Q[pol], pol"
   ]
  },
  {
   "cell_type": "code",
   "execution_count": 185,
   "metadata": {},
   "outputs": [
    {
     "name": "stdout",
     "output_type": "stream",
     "text": [
      "[00000]: diff=1.000000\n",
      "[00010]: diff=0.348678\n",
      "[00020]: diff=0.121577\n",
      "[00030]: diff=0.004735\n",
      "[00040]: diff=0.000000\n",
      "Total iters: 46, max util diff = 0.000000\n"
     ]
    }
   ],
   "source": [
    "def calcQfromV(state, tr, V_0, failPr, gamma):\n",
    "    Q = {k:0 for k in tr} # initialize Q to all 0 for all actions\n",
    "    failSt = tr[(0,0)][0] # resultant state of a failed acceleration\n",
    "    \n",
    "    for accel,(newState,reward) in tr.items(): # loop over all transitions\n",
    "        tmp = (1-failPr)*V_0[newState] + failPr*V_0[failSt] # sum of pr*V\n",
    "        Q[accel] = reward + gamma * tmp # E[r|s,a] + gamma * sum(V)\n",
    "    return Q\n",
    "\n",
    "def maxDiffTwoVs(v1, v2):\n",
    "    pairedVals = zip(v1.values(), v2.values()) # get all values from both V vals\n",
    "    return max([abs(x-y) for x,y in pairedVals]) # return max diff of all pairs\n",
    "\n",
    "a,b,c = valueIteration(O_states, O_track, accels, trace=True)"
   ]
  },
  {
   "cell_type": "code",
   "execution_count": 187,
   "metadata": {},
   "outputs": [
    {
     "data": {
      "text/plain": [
       "(0, -1)"
      ]
     },
     "execution_count": 187,
     "metadata": {},
     "output_type": "execute_result"
    }
   ],
   "source": [
    "a[(2,10,0,0)]"
   ]
  },
  {
   "cell_type": "code",
   "execution_count": 184,
   "metadata": {},
   "outputs": [],
   "source": [
    "################################################################################\n",
    "def valueIteration(states, track, accels, gamma=0.9, eps=1e-9, pr_fail=0.2, trace=False):\n",
    "    TRs_all = getTransitions(states, accels, track) # all trans from all states\n",
    "    \n",
    "    Vs = {k:0 for k in states}\n",
    "    Qs = {k:None for k in states}\n",
    "    pols = dict()\n",
    "    \n",
    "    maxDiff, t = (float('inf'), 0) # convergence and loop counter\n",
    "    while (maxDiff>eps) and (t < 1e5): # max 1e5 iters if not converged\n",
    "        Vs_old = Vs.copy() # copy of Vs as old V values\n",
    "        for st in states: # loop over all states\n",
    "            Qs[st] = calcQfromV(st, TRs_all[st], Vs_old, pr_fail, gamma)\n",
    "            Vs[st],pols[st] = getVPolicyFromQ(Qs[st], TRs_all[st])\n",
    "        \n",
    "        maxDiff = maxDiffTwoVs(Vs, Vs_old)\n",
    "        if trace and (t % 10 == 0):\n",
    "            print('[%05d]: diff=%f'%(t,maxDiff))\n",
    "        t += 1\n",
    "        \n",
    "    if trace:\n",
    "        print('Total iters: %d, max util diff = %f'%(t,maxDiff))\n",
    "    return pols, t, maxDiff    "
   ]
  },
  {
   "cell_type": "code",
   "execution_count": 114,
   "metadata": {},
   "outputs": [
    {
     "data": {
      "text/plain": [
       "((1, 1), ((4, 14, 2, -1), -1))"
      ]
     },
     "execution_count": 114,
     "metadata": {},
     "output_type": "execute_result"
    }
   ],
   "source": [
    "TRs_all = getTransitions(O_states,accels,O_track)\n",
    "\n",
    "z = transFromState((2,15,1,-2),accels,track)\n",
    "list(z.items())[0]"
   ]
  }
 ],
 "metadata": {
  "kernelspec": {
   "display_name": "Python 3",
   "language": "python",
   "name": "python3"
  },
  "language_info": {
   "codemirror_mode": {
    "name": "ipython",
    "version": 3
   },
   "file_extension": ".py",
   "mimetype": "text/x-python",
   "name": "python",
   "nbconvert_exporter": "python",
   "pygments_lexer": "ipython3",
   "version": "3.6.5"
  }
 },
 "nbformat": 4,
 "nbformat_minor": 2
}
