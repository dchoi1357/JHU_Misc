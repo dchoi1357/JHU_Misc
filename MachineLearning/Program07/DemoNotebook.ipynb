{
 "cells": [
  {
   "cell_type": "code",
   "execution_count": 2,
   "metadata": {},
   "outputs": [],
   "source": [
    "import sys, os, itertools\n",
    "from utilities import readTrackFile, getTransitions\n",
    "from ValueIteration import valueIteration\n",
    "from QLearn import qLearning\n",
    "from evaluate import compPolicy, simulateRace, compNSteps\n",
    "import numpy as np"
   ]
  },
  {
   "cell_type": "code",
   "execution_count": 3,
   "metadata": {},
   "outputs": [],
   "source": [
    "accelList = [1,0,-1]\n",
    "velocList = range(-5,6)\n",
    "accels = list(itertools.product(accelList,accelList))\n",
    "velocs = list(itertools.product(velocList,velocList))"
   ]
  },
  {
   "cell_type": "code",
   "execution_count": 4,
   "metadata": {},
   "outputs": [],
   "source": [
    "fPath = os.path.join('data','R-track.txt')\n",
    "R_states,R_goals,R_track,R_starts = readTrackFile(fPath, velocs)\n",
    "R_TRs = getTransitions(R_states, accels, R_track, R_starts) # all trans from all states\n",
    "R_TRs_c = getTransitions(R_states, accels, R_track, R_starts, hardCrash=True)"
   ]
  },
  {
   "cell_type": "code",
   "execution_count": 5,
   "metadata": {},
   "outputs": [
    {
     "data": {
      "text/plain": [
       "{(1, 1): ((3, 5, 1, 1), -1),\n",
       " (1, 0): ((3, 4, 1, 0), -1),\n",
       " (1, -1): ((3, 3, 1, -1), -1),\n",
       " (0, 1): ((2, 5, 0, 1), -1),\n",
       " (0, 0): ((2, 4, 0, 0), -1),\n",
       " (0, -1): ((2, 4, 0, 0), -1),\n",
       " (-1, 1): ((2, 4, 0, 0), -1),\n",
       " (-1, 0): ((2, 4, 0, 0), -1),\n",
       " (-1, -1): ((2, 4, 0, 0), -1)}"
      ]
     },
     "execution_count": 5,
     "metadata": {},
     "output_type": "execute_result"
    }
   ],
   "source": [
    "R_TRs[(2,4,0,0)]"
   ]
  },
  {
   "cell_type": "code",
   "execution_count": 6,
   "metadata": {},
   "outputs": [
    {
     "data": {
      "text/plain": [
       "{(1, 1): ((3, 5, 1, 1), -1),\n",
       " (1, 0): ((3, 4, 1, 0), -1),\n",
       " (1, -1): ((3, 3, 1, -1), -1),\n",
       " (0, 1): ((2, 5, 0, 1), -1),\n",
       " (0, 0): ((2, 4, 0, 0), -1),\n",
       " (0, -1): ((4, 26, 0, 0), -1),\n",
       " (-1, 1): ((5, 26, 0, 0), -1),\n",
       " (-1, 0): ((3, 26, 0, 0), -1),\n",
       " (-1, -1): ((5, 26, 0, 0), -1)}"
      ]
     },
     "execution_count": 6,
     "metadata": {},
     "output_type": "execute_result"
    }
   ],
   "source": [
    "R_TRs_c[(2,4,0,0)]"
   ]
  },
  {
   "cell_type": "code",
   "execution_count": 8,
   "metadata": {},
   "outputs": [
    {
     "name": "stdout",
     "output_type": "stream",
     "text": [
      "##############################\n",
      "#########.............########\n",
      "#####.....................####\n",
      "###........................###\n",
      "##......##########.......#####\n",
      "##.....############.....######\n",
      "##.....##########.....########\n",
      "##.....########.....##########\n",
      "##.....#######.....###########\n",
      "##.....#####.....#############\n",
      "##.....###.....###############\n",
      "##.....#####.....#############\n",
      "#.....#######.....############\n",
      "#.....########.....###########\n",
      "#.....##########.....#########\n",
      "#.....#############.....######\n",
      "##.....##############.......##\n",
      "##.....################.....##\n",
      "##.....################.....##\n",
      "##.....################.....##\n",
      "##.....################.....##\n",
      "#.....#################.....##\n",
      "#.....#################.....##\n",
      "#.....#################.....##\n",
      "#.....##################.....#\n",
      "#.....##################.....#\n",
      "#SSSSS##################FFFFX#\n",
      "##############################\n",
      "x-vel=0, y-vel=0\n",
      "\n"
     ]
    }
   ],
   "source": [
    "simulateRace(R_track, R_TRs, R_starts, pol_VI, trace=True);"
   ]
  },
  {
   "cell_type": "code",
   "execution_count": 7,
   "metadata": {},
   "outputs": [
    {
     "name": "stdout",
     "output_type": "stream",
     "text": [
      "[00000]: diff=1.000000\n",
      "[00010]: diff=0.348678\n",
      "[00020]: diff=0.121577\n",
      "[00030]: diff=0.007830\n",
      "[00040]: diff=0.000002\n",
      "Total iters: 47, max util diff = 0.000000\n"
     ]
    }
   ],
   "source": [
    "pol_VI,b,c = valueIteration(R_states, R_TRs, trace=True)"
   ]
  },
  {
   "cell_type": "code",
   "execution_count": 11,
   "metadata": {},
   "outputs": [
    {
     "name": "stdout",
     "output_type": "stream",
     "text": [
      "##############################\n",
      "#########.............########\n",
      "#####.....................####\n",
      "###........................###\n",
      "##......##########.......#####\n",
      "##.....############.....######\n",
      "##.....##########.....########\n",
      "##.....########.....##########\n",
      "##.....#######.....###########\n",
      "##.....#####.....#############\n",
      "##.....###.....###############\n",
      "##.....#####.....#############\n",
      "#.....#######.....############\n",
      "#.....########.....###########\n",
      "#.....##########.....#########\n",
      "#.....#############.....######\n",
      "##.....##############.......##\n",
      "##.....################.....##\n",
      "##.....################.....##\n",
      "##.....################.....##\n",
      "##.....################.....##\n",
      "#.....#################.....##\n",
      "#.....#################.....##\n",
      "#.....#################.....##\n",
      "#.....##################.....#\n",
      "#.....##################.....#\n",
      "#SSSSS##################FFFFX#\n",
      "##############################\n",
      "x-vel=0, y-vel=0\n",
      "\n"
     ]
    }
   ],
   "source": [
    "simulateRace(R_track, R_TRs, R_starts, pol, trace=True);"
   ]
  },
  {
   "cell_type": "code",
   "execution_count": 9,
   "metadata": {},
   "outputs": [
    {
     "name": "stdout",
     "output_type": "stream",
     "text": [
      "[000000] Episode len = 1443\n",
      "[010000] Episode len = 5\n",
      "[020000] Episode len = 379\n",
      "[030000] Episode len = 35\n",
      "[040000] Episode len = 117\n",
      "[050000] Episode len = 193\n",
      "[060000] Episode len = 43\n",
      "[070000] Episode len = 100\n",
      "[080000] Episode len = 111\n",
      "[090000] Episode len = 158\n",
      "[099999] Last episode, len = 81\n"
     ]
    }
   ],
   "source": [
    "pol,ll,qq = qLearning(R_states, accels, R_track, R_TRs, nEpisodes=100000, trace=10000)"
   ]
  }
 ],
 "metadata": {
  "kernelspec": {
   "display_name": "Python 3",
   "language": "python",
   "name": "python3"
  },
  "language_info": {
   "codemirror_mode": {
    "name": "ipython",
    "version": 3
   },
   "file_extension": ".py",
   "mimetype": "text/x-python",
   "name": "python",
   "nbconvert_exporter": "python",
   "pygments_lexer": "ipython3",
   "version": "3.6.5"
  }
 },
 "nbformat": 4,
 "nbformat_minor": 2
}
