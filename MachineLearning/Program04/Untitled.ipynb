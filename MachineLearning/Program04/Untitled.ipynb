{
 "cells": [
  {
   "cell_type": "code",
   "execution_count": 1,
   "metadata": {},
   "outputs": [],
   "source": [
    "import numpy as np, pandas as pd"
   ]
  },
  {
   "cell_type": "code",
   "execution_count": 124,
   "metadata": {},
   "outputs": [],
   "source": [
    "################################################################################\n",
    "def prepData(dataPathDir, fieldNames, featSlices, labelName, sep=','):\n",
    "\traw = np.genfromtxt(dataPathDir, delimiter=sep, dtype=None,\n",
    "                        names=fieldNames, encoding='utf-8') # read dlm file\n",
    "\tif isinstance(featSlices, slice):\n",
    "\t\tdataFeats = fieldNames[featSlices] # list of feature names\n",
    "\telse:\n",
    "\t\tdataFeats = [fieldNames[i] for i in featSlices]\n",
    "\treturn raw[dataFeats],dataFeats,raw[labelName]\n",
    "\n",
    "def errRate(pred, actual, categorical=True):\n",
    "\tif categorical: # if categ., return classification err rate\n",
    "\t\treturn sum(pred!=actual) / pred.size\n",
    "\telse: # if numeric, return RMSE\n",
    "\t\treturn np.linalg.norm(pred-actual)/np.sqrt(pred.size)\n",
    "    \n",
    "def getXVFolds(dataMat, classVec, nFolds=5, categorical=False):\n",
    "\t''' Cut N-fold cross validation of the data set\n",
    "\tGiven a data matrix, a class vector, and the number of folds, the function\n",
    "\trandomly cuts a 5-fold cross validation. If the data is categorical, \n",
    "\tstratified sampling is used.\n",
    "\t'''\n",
    "\t\n",
    "\tidx = np.arange(dataMat.shape[0]) # construct index of data rows\n",
    "\tif categorical:\n",
    "\t\tunqs = np.unique(classVec)\n",
    "\t\ttmpHold = [None] * len(unqs)\n",
    "\t\tfor n,k in enumerate(unqs):\n",
    "\t\t\tgrpIdx = idx[classVec==k] # idx of all elems in current class\n",
    "\t\t\tnp.random.shuffle(grpIdx) # permutate idx for random selection\n",
    "\t\t\ttmpHold[n] = np.array_split(grpIdx, nFolds) # split: N equals\n",
    "\t\tchunks = [np.hstack(k) for k in zip(*tmpHold)] # concat sub chunks\n",
    "\telse:\n",
    "\t\tnp.random.shuffle(idx) # random shuffle data\n",
    "\t\tchunks = np.array_split(idx, nFolds) # split into N equal sized chunks\n",
    "\n",
    "\treturn chunks # return the indices for folds\n",
    "\n",
    "def splitData(data, labels):\n",
    "    x = getXVFolds(data, labels, nFolds=10, categorical=True)\n",
    "    pruneData,pruneLabel = data[x[0]], labels[x[0]]\n",
    "    xvSetIdx = np.hstack(x[1:]) # rest of the data\n",
    "    xvData,xvLabel = data[xvSetIdx], labels[xvSetIdx]\n",
    "    \n",
    "    xvFolds = getCrossValidFolds(xvData, xvLabel, categorical=True)\n",
    "    return (xvData,xvLabel),(xvFolds),(pruneData,pruneLabel)"
   ]
  },
  {
   "cell_type": "code",
   "execution_count": 134,
   "metadata": {},
   "outputs": [],
   "source": [
    "################################################################################\n",
    "carPath = './data/car.data'\n",
    "carNames = ['buying','maint','doors','persons','lug_boot','safety','accept']\n",
    "carData, carFeats, acceptVec = prepData(carPath, carNames, slice(-1), 'accept')"
   ]
  },
  {
   "cell_type": "code",
   "execution_count": 142,
   "metadata": {},
   "outputs": [],
   "source": [
    "(xvData,xvLabel),xvFolds,(prnData,prnLabel) = splitData(carData, acceptVec)\n",
    "vldData,vldLabel = xvData[xvFolds[0]],xvLabel[xvFolds[0]]\n",
    "tmpIdx = np.hstack(xvFolds[1:])\n",
    "trainData,trainLabel = xvData[tmpIdx],xvLabel[tmpIdx]"
   ]
  },
  {
   "cell_type": "code",
   "execution_count": 216,
   "metadata": {},
   "outputs": [
    {
     "name": "stdout",
     "output_type": "stream",
     "text": [
      "Attribute [safety]:\n",
      "    value = low, class: unacc\n",
      "    value = high, Attribute [persons]:\n",
      "        value = 4, Attribute [buying]:\n",
      "            value = med, Attribute [maint]:\n",
      "                value = low, Attribute [lug_boot]:\n",
      "                    value = big, class: vgood\n",
      "                    value = med, class: vgood\n",
      "                    value = small, class: good\n",
      "                value = high, class: acc\n",
      "                value = med, Attribute [lug_boot]:\n",
      "                    value = big, class: vgood\n",
      "                    value = med, Attribute [doors]:\n",
      "                        value = 2, class: acc\n",
      "                        value = 3, class: acc\n",
      "                        value = 5more, class: vgood\n",
      "                    value = small, class: acc\n",
      "                value = vhigh, class: acc\n",
      "            value = high, Attribute [maint]:\n",
      "                value = med, class: acc\n",
      "                value = high, class: acc\n",
      "                value = low, class: acc\n",
      "                value = vhigh, class: unacc\n",
      "            value = low, Attribute [maint]:\n",
      "                value = med, Attribute [lug_boot]:\n",
      "                    value = big, class: vgood\n",
      "                    value = med, Attribute [doors]:\n",
      "                        value = 4, class: vgood\n",
      "                        value = 3, class: good\n",
      "                    value = small, class: good\n",
      "                value = high, Attribute [lug_boot]:\n",
      "                    value = big, class: vgood\n",
      "                    value = med, Attribute [doors]:\n",
      "                        value = 2, class: acc\n",
      "                        value = 5more, class: vgood\n",
      "                    value = small, class: acc\n",
      "                value = low, Attribute [lug_boot]:\n",
      "                    value = big, class: vgood\n",
      "                    value = med, Attribute [doors]:\n",
      "                        value = 4, class: vgood\n",
      "                        value = 3, class: good\n",
      "                    value = small, class: good\n",
      "                value = vhigh, class: acc\n",
      "            value = vhigh, Attribute [maint]:\n",
      "                value = med, class: acc\n",
      "                value = high, class: unacc\n",
      "                value = low, class: acc\n",
      "                value = vhigh, class: unacc\n",
      "        value = more, Attribute [buying]:\n",
      "            value = med, Attribute [maint]:\n",
      "                value = low, Attribute [lug_boot]:\n",
      "                    value = big, class: vgood\n",
      "                    value = med, Attribute [doors]:\n",
      "                        value = 2, class: good\n",
      "                        value = 3, class: vgood\n",
      "                        value = 5more, class: vgood\n",
      "                    value = small, class: good\n",
      "                value = high, class: acc\n",
      "                value = med, Attribute [lug_boot]:\n",
      "                    value = big, class: vgood\n",
      "                    value = med, Attribute [doors]:\n",
      "                        value = 4, class: vgood\n",
      "                        value = 2, class: acc\n",
      "                        value = 3, class: vgood\n",
      "                        value = 5more, class: vgood\n",
      "                    value = small, Attribute [doors]:\n",
      "                        value = 4, class: acc\n",
      "                        value = 2, class: unacc\n",
      "                        value = 3, class: acc\n",
      "                        value = 5more, class: acc\n",
      "                value = vhigh, class: acc\n",
      "            value = high, Attribute [maint]:\n",
      "                value = med, class: acc\n",
      "                value = high, class: acc\n",
      "                value = low, class: acc\n",
      "                value = vhigh, class: unacc\n",
      "            value = low, Attribute [maint]:\n",
      "                value = low, Attribute [lug_boot]:\n",
      "                    value = big, class: vgood\n",
      "                    value = med, Attribute [doors]:\n",
      "                        value = 2, class: good\n",
      "                        value = 5more, class: vgood\n",
      "                    value = small, Attribute [doors]:\n",
      "                        value = 4, class: good\n",
      "                        value = 2, class: unacc\n",
      "                        value = 3, class: good\n",
      "                value = high, Attribute [lug_boot]:\n",
      "                    value = big, class: vgood\n",
      "                    value = med, Attribute [doors]:\n",
      "                        value = 2, class: acc\n",
      "                        value = 3, class: vgood\n",
      "                        value = 5more, class: vgood\n",
      "                    value = small, Attribute [doors]:\n",
      "                        value = 4, class: acc\n",
      "                        value = 2, class: unacc\n",
      "                        value = 3, class: acc\n",
      "                        value = 5more, class: acc\n",
      "                value = med, Attribute [lug_boot]:\n",
      "                    value = big, class: vgood\n",
      "                    value = med, class: good\n",
      "                    value = small, Attribute [doors]:\n",
      "                        value = 4, class: good\n",
      "                        value = 2, class: unacc\n",
      "                        value = 5more, class: good\n",
      "                value = vhigh, class: acc\n",
      "            value = vhigh, Attribute [maint]:\n",
      "                value = med, Attribute [doors]:\n",
      "                    value = 4, class: acc\n",
      "                    value = 2, Attribute [lug_boot]:\n",
      "                        value = med, class: acc\n",
      "                        value = small, class: unacc\n",
      "                    value = 3, class: acc\n",
      "                    value = 5more, class: acc\n",
      "                value = high, class: unacc\n",
      "                value = low, Attribute [lug_boot]:\n",
      "                    value = big, class: acc\n",
      "                    value = med, class: acc\n",
      "                    value = small, Attribute [doors]:\n",
      "                        value = 4, class: acc\n",
      "                        value = 2, class: unacc\n",
      "                        value = 5more, class: acc\n",
      "                value = vhigh, class: unacc\n",
      "        value = 2, class: unacc\n",
      "    value = med, Attribute [persons]:\n",
      "        value = 4, Attribute [buying]:\n",
      "            value = low, Attribute [lug_boot]:\n",
      "                value = big, Attribute [maint]:\n",
      "                    value = low, class: good\n",
      "                    value = high, class: acc\n",
      "                    value = med, class: good\n",
      "                    value = vhigh, class: acc\n",
      "                value = med, Attribute [maint]:\n",
      "                    value = low, Attribute [doors]:\n",
      "                        value = 2, class: acc\n",
      "                        value = 5more, class: good\n",
      "                    value = high, class: acc\n",
      "                    value = med, class: acc\n",
      "                    value = vhigh, class: acc\n",
      "                value = small, Attribute [maint]:\n",
      "                    value = low, class: acc\n",
      "                    value = high, class: acc\n",
      "                    value = med, class: acc\n",
      "                    value = vhigh, class: unacc\n",
      "            value = high, Attribute [lug_boot]:\n",
      "                value = big, Attribute [maint]:\n",
      "                    value = low, class: acc\n",
      "                    value = high, class: acc\n",
      "                    value = med, class: acc\n",
      "                    value = vhigh, class: unacc\n",
      "                value = med, Attribute [doors]:\n",
      "                    value = 4, class: acc\n",
      "                    value = 2, class: unacc\n",
      "                    value = 3, class: unacc\n",
      "                    value = 5more, class: acc\n",
      "                value = small, class: unacc\n",
      "            value = med, Attribute [maint]:\n",
      "                value = low, Attribute [lug_boot]:\n",
      "                    value = big, class: good\n",
      "                    value = med, Attribute [doors]:\n",
      "                        value = 4, class: good\n",
      "                        value = 3, class: acc\n",
      "                        value = 5more, class: good\n",
      "                    value = small, class: acc\n",
      "                value = high, Attribute [lug_boot]:\n",
      "                    value = big, class: acc\n",
      "                    value = med, Attribute [doors]:\n",
      "                        value = 4, class: acc\n",
      "                        value = 2, class: unacc\n",
      "                        value = 5more, class: acc\n",
      "                    value = small, class: unacc\n",
      "                value = med, class: acc\n",
      "                value = vhigh, Attribute [lug_boot]:\n",
      "                    value = big, class: acc\n",
      "                    value = med, Attribute [doors]:\n",
      "                        value = 4, class: acc\n",
      "                        value = 2, class: unacc\n",
      "                        value = 3, class: unacc\n",
      "                        value = 5more, class: acc\n",
      "                    value = small, class: unacc\n",
      "            value = vhigh, Attribute [lug_boot]:\n",
      "                value = big, Attribute [maint]:\n",
      "                    value = med, class: acc\n",
      "                    value = high, class: unacc\n",
      "                    value = low, class: acc\n",
      "                    value = vhigh, class: unacc\n",
      "                value = med, Attribute [maint]:\n",
      "                    value = low, class: unacc\n",
      "                    value = high, class: unacc\n",
      "                    value = med, Attribute [doors]:\n",
      "                        value = 4, class: acc\n",
      "                        value = 2, class: unacc\n",
      "                        value = 3, class: unacc\n",
      "                        value = 5more, class: acc\n",
      "                    value = vhigh, class: unacc\n",
      "                value = small, class: unacc\n",
      "        value = more, Attribute [lug_boot]:\n",
      "            value = big, Attribute [maint]:\n",
      "                value = low, Attribute [buying]:\n",
      "                    value = low, class: good\n",
      "                    value = high, class: acc\n",
      "                    value = med, class: good\n",
      "                    value = vhigh, class: acc\n",
      "                value = high, Attribute [buying]:\n",
      "                    value = med, class: acc\n",
      "                    value = high, class: acc\n",
      "                    value = low, class: acc\n",
      "                    value = vhigh, class: unacc\n",
      "                value = med, Attribute [buying]:\n",
      "                    value = low, class: good\n",
      "                    value = high, class: acc\n",
      "                    value = med, class: acc\n",
      "                    value = vhigh, class: acc\n",
      "                value = vhigh, Attribute [buying]:\n",
      "                    value = med, class: acc\n",
      "                    value = high, class: unacc\n",
      "                    value = low, class: acc\n",
      "                    value = vhigh, class: unacc\n",
      "            value = med, Attribute [buying]:\n",
      "                value = med, Attribute [maint]:\n",
      "                    value = low, Attribute [doors]:\n",
      "                        value = 4, class: good\n",
      "                        value = 2, class: acc\n",
      "                    value = high, class: acc\n",
      "                    value = med, class: acc\n",
      "                    value = vhigh, Attribute [doors]:\n",
      "                        value = 4, class: acc\n",
      "                        value = 2, class: unacc\n",
      "                        value = 3, class: acc\n",
      "                        value = 5more, class: acc\n",
      "                value = high, Attribute [maint]:\n",
      "                    value = med, Attribute [doors]:\n",
      "                        value = 4, class: acc\n",
      "                        value = 2, class: unacc\n",
      "                        value = 3, class: acc\n",
      "                        value = 5more, class: acc\n",
      "                    value = high, class: acc\n",
      "                    value = low, class: acc\n",
      "                    value = vhigh, class: unacc\n",
      "                value = low, Attribute [maint]:\n",
      "                    value = med, class: good\n",
      "                    value = high, class: acc\n",
      "                    value = low, class: good\n",
      "                    value = vhigh, class: acc\n",
      "                value = vhigh, Attribute [maint]:\n",
      "                    value = low, Attribute [doors]:\n",
      "                        value = 4, class: acc\n",
      "                        value = 2, class: unacc\n",
      "                        value = 3, class: acc\n",
      "                        value = 5more, class: acc\n",
      "                    value = high, class: unacc\n",
      "                    value = med, Attribute [doors]:\n",
      "                        value = 4, class: acc\n",
      "                        value = 2, class: unacc\n",
      "                        value = 3, class: acc\n",
      "                        value = 5more, class: acc\n",
      "                    value = vhigh, class: unacc\n",
      "            value = small, Attribute [buying]:\n",
      "                value = low, Attribute [maint]:\n",
      "                    value = med, Attribute [doors]:\n",
      "                        value = 2, class: unacc\n",
      "                        value = 3, class: acc\n",
      "                        value = 5more, class: acc\n",
      "                    value = high, Attribute [doors]:\n",
      "                        value = 2, class: unacc\n",
      "                        value = 3, class: acc\n",
      "                        value = 5more, class: acc\n",
      "                    value = low, class: acc\n",
      "                    value = vhigh, class: unacc\n",
      "                value = high, class: unacc\n",
      "                value = med, Attribute [maint]:\n",
      "                    value = med, class: acc\n",
      "                    value = high, class: unacc\n",
      "                    value = low, Attribute [doors]:\n",
      "                        value = 4, class: acc\n",
      "                        value = 2, class: unacc\n",
      "                        value = 3, class: acc\n",
      "                        value = 5more, class: acc\n",
      "                    value = vhigh, class: unacc\n",
      "                value = vhigh, class: unacc\n",
      "        value = 2, class: unacc\n",
      "\n"
     ]
    }
   ],
   "source": [
    "z = TrainDTree(trainData, trainLabel)\n",
    "z.combineChildNodes()\n",
    "print(z)"
   ]
  },
  {
   "cell_type": "code",
   "execution_count": 217,
   "metadata": {},
   "outputs": [
    {
     "data": {
      "text/plain": [
       "0.9038461538461539"
      ]
     },
     "execution_count": 217,
     "metadata": {},
     "output_type": "execute_result"
    }
   ],
   "source": [
    "pred = PredictDTree(z, vldData)\n",
    "np.mean(pred==vldLabel)"
   ]
  },
  {
   "cell_type": "code",
   "execution_count": 218,
   "metadata": {},
   "outputs": [
    {
     "data": {
      "text/plain": [
       "254"
      ]
     },
     "execution_count": 218,
     "metadata": {},
     "output_type": "execute_result"
    }
   ],
   "source": [
    "PruneDTree(z, prnData, prnLabel)\n",
    "len(z.__str__().split('\\n'))"
   ]
  },
  {
   "cell_type": "code",
   "execution_count": 219,
   "metadata": {},
   "outputs": [
    {
     "data": {
      "text/plain": [
       "0.8974358974358975"
      ]
     },
     "execution_count": 219,
     "metadata": {},
     "output_type": "execute_result"
    }
   ],
   "source": [
    "pred = PredictDTree(z, vldData)\n",
    "np.mean(pred==vldLabel)"
   ]
  },
  {
   "cell_type": "code",
   "execution_count": null,
   "metadata": {},
   "outputs": [],
   "source": [
    "list(zip(*np.unique(ringLabel, return_counts=True)))"
   ]
  },
  {
   "cell_type": "code",
   "execution_count": 212,
   "metadata": {},
   "outputs": [],
   "source": [
    "################################################################################\n",
    "class DTnode:\n",
    "    def __init__(self, attrib, splitPt=None, majority=None):\n",
    "        self.attrib = attrib\n",
    "        self.preEval = majority # early evaluation based on training majority\n",
    "        self.splitPoint = splitPt # if None, then categorical\n",
    "        self.children = dict()\n",
    "        self.nCorr = -1 # for storing error info for pruning\n",
    "\n",
    "    def addChild(self, node, val):\n",
    "        self.children[val] = node\n",
    "        \n",
    "    def isLeaf(self):\n",
    "        return len(self.children) == 0\n",
    "        \n",
    "    def getChild(self, val):\n",
    "        return self.children[val]\n",
    "    \n",
    "    def getValues(self):\n",
    "        return self.children.keys()\n",
    "    \n",
    "    def getChildCorrNum(self):\n",
    "        return [nd.nCorr for k,nd in self.children.items()]\n",
    "    \n",
    "    def makeLeafNode(self, attrib, nCorrPred=-1):\n",
    "        self.attrib = attrib\n",
    "        self.preEval = None\n",
    "        self.children = dict()\n",
    "        self.nCorr = nCorrPred\n",
    "    \n",
    "    def combineChildNodes(self):\n",
    "        if self.isLeaf():\n",
    "            return set([self.attrib])\n",
    "        subLabl = set()\n",
    "        for k,child in self.children.items(): # loop over all child nodes\n",
    "            subLabl.update( child.combineChildNodes() )\n",
    "        if len(subLabl) == 1: # only one class for all child nodes\n",
    "            self.makeLeafNode( next(iter(subLabl)) )\n",
    "        return subLabl\n",
    "\n",
    "    def __repre__(self):\n",
    "        if self.isLeaf():\n",
    "            childTxt = 'terminal'\n",
    "        else:\n",
    "            childTxt = 'child: ' + str(list(self.children.keys()))\n",
    "        return '[Node for %s, %s ]'%(self.attrib, childTxt)\n",
    "    \n",
    "    def toStr(self, level=0):\n",
    "        if self.isLeaf():\n",
    "            return 'class: %s\\n' % self.attrib\n",
    "        else:\n",
    "            ret = 'Attribute [' + self.attrib + \"]:\\n\"\n",
    "            nx = level + 1\n",
    "            for key in self.children:\n",
    "                if self.splitPoint is None: # categorical var\n",
    "                    txt = '= %s'%key\n",
    "                else: # numerical var\n",
    "                    txt = '%s %f'%(key,self.splitPoint)\n",
    "                ret += \" \"*nx*4 + 'value %s, '%txt \\\n",
    "                    + self.children[key].toStr(nx)\n",
    "            return ret\n",
    "    \n",
    "    def __str__(self):\n",
    "        return self.toStr()"
   ]
  },
  {
   "cell_type": "code",
   "execution_count": 4,
   "metadata": {},
   "outputs": [
    {
     "name": "stdout",
     "output_type": "stream",
     "text": [
      "Attribute [feat1]:\n",
      "    value < 2.450000, Attribute [feat2]:\n",
      "        value = a, class: class2\n",
      "        value = b, class: class2\n",
      "    value > 2.450000, class: class1\n",
      "\n",
      "Attribute [feat1]:\n",
      "    value < 2.450000, class: class2\n",
      "    value > 2.450000, class: class1\n",
      "\n"
     ]
    }
   ],
   "source": [
    "a = DTnode('feat1', 2.45)\n",
    "a.addChild(DTnode('feat2'), '<')\n",
    "a.addChild(DTnode('class1'), '>')\n",
    "a.getChild('<').addChild(DTnode('class2'), 'a')\n",
    "a.getChild('<').addChild(DTnode('class2'), 'b')\n",
    "print(a)\n",
    "\n",
    "a.combineChildNodes()\n",
    "print(a)"
   ]
  },
  {
   "cell_type": "code",
   "execution_count": 5,
   "metadata": {},
   "outputs": [],
   "source": [
    "def Entropy(array):\n",
    "    counts = np.unique(array, return_counts=True)[1]\n",
    "    probs = counts / counts.sum()\n",
    "    return -(probs*np.log2(probs)).sum()\n",
    "\n",
    "def IntInfo(counts):\n",
    "    s = sum(counts)\n",
    "    return -np.sum(np.log2(counts)*counts)/s + np.log2(s)\n",
    "\n",
    "################################################################################\n",
    "\n"
   ]
  },
  {
   "cell_type": "code",
   "execution_count": 6,
   "metadata": {},
   "outputs": [],
   "source": [
    "def getSplitPoints(data,labels):\n",
    "    srtIdx = np.argsort(data) # get sorted index for data vector\n",
    "    srtdData = data[srtIdx] # data in sorted order\n",
    "    midpoints = (srtdData[:-1] + srtdData[1:])/2 # midpoints between data pts\n",
    "    srtdLabls = labels[srtIdx] # rearrange labels by sorted data order\n",
    "    diffLabel = srtdLabls[:-1] != srtdLabls[1:] # find midpt where labels changed\n",
    "    return midpoints[diffLabel] # return midpts where labels are different\n",
    "\n",
    "def getBestSplitInfo(data, labels, splitPts):\n",
    "    bestEntropy = np.Inf\n",
    "    bestPoint = None\n",
    "    bestPr = -1\n",
    "    for n,pt in enumerate(splitPts):\n",
    "        LT = data < pt\n",
    "        prLT = sum(LT) / data.size\n",
    "        ent = prLT*Entropy(labels[LT]) + (1-prLT)*Entropy(labels[~LT])\n",
    "        if ent < bestEntropy:\n",
    "            bestEntropy = ent\n",
    "            bestPoint = pt\n",
    "            bestPr = prLT\n",
    "            \n",
    "    if (bestPr-0) < np.finfo(bestPr.dtype).eps: # if homogenous data, prob=0\n",
    "        intrInfo = 0\n",
    "    else:\n",
    "        intrInfo = -bestPr*np.log2(bestPr) - (1-bestPr)*np.log2(1-bestPr)\n",
    "    return bestEntropy,bestPoint,intrInfo\n",
    "\n",
    "################################################################################\n",
    "\n",
    "def SplitInfo(xs, ys):\n",
    "    if np.issubdtype(xs.dtype, np.number): # numeric features\n",
    "        splitPts = getSplitPoints(xs, ys)\n",
    "        meanEnt,splitPt,intrinsVal = getBestSplitInfo(xs, ys, splitPts)\n",
    "    else: # categorical features\n",
    "        vals, Ns = np.unique(xs, return_counts=True)\n",
    "        meanEnt = sum(Ns/len(ys) * [Entropy(ys[xs==v]) for v in vals])\n",
    "        intrinsVal = Entropy(xs)\n",
    "        splitPt = None\n",
    "    return meanEnt,intrinsVal,splitPt\n",
    "\n",
    "def selectBestFeature(data, labels, useRatio=True):\n",
    "    features = data.dtype.names\n",
    "    info = Entropy(labels)\n",
    "    gains = np.empty(len(features))\n",
    "    gainRatios = np.empty(len(features))\n",
    "    splitPts = [None] * len(features)\n",
    "    for n,feat in enumerate(features):\n",
    "        expEntropy,intrnVal,splitPts[n] = SplitInfo(data[feat], labels)\n",
    "        gains[n] = info-expEntropy\n",
    "        gainRatios[n] = gains[n] / (0.01+intrnVal if useRatio else 1)\n",
    "        #print(\"%s exp ent: %f\"%(feat,gainRatios[n]))\n",
    "    maxN = np.argmax(gainRatios)\n",
    "    return features[maxN],gainRatios[maxN],splitPts[maxN],gains[maxN]"
   ]
  },
  {
   "cell_type": "code",
   "execution_count": 210,
   "metadata": {},
   "outputs": [],
   "source": [
    "################################################################################\n",
    "def TrainDTree(allData, allLabels, minGain=0):\n",
    "    def c4_5(idx, featureSet, defLabel):\n",
    "        if sum(idx) == 0:# empty data, class = default label\n",
    "            return DTnode(defLabel)\n",
    "        data,labels = allData[idx][list(featureSet)],allLabels[idx]\n",
    "        \n",
    "        (values,counts) = np.unique(labels, return_counts=True)\n",
    "        majority = str(values[np.argmax(counts)]) # get majority class as default\n",
    "        if len(counts)==1 or not featureSet: # homogenous or no attribs\n",
    "            return DTnode(majority)\n",
    "        \n",
    "        bestFeat,gainRatio,splitPt,gain = selectBestFeature(data,labels)\n",
    "        #print('GainR=%f, Gain=%f'%(gainRatio,gain))\n",
    "        if gain < minGain: # early stopping if gain < defined thresh\n",
    "            return DTnode(majority)\n",
    "        \n",
    "        featSubset = featureSet - set([bestFeat])\n",
    "        node = DTnode(bestFeat, splitPt, majority)\n",
    "        if splitPt is None: # no split point, categorical feature\n",
    "            for val in set(data[bestFeat]):\n",
    "                subIdx = idx[data[bestFeat] == val]\n",
    "                child = c4_5(subIdx, featSubset, majority)\n",
    "                node.addChild(child, val)\n",
    "        else: # numerical feature, 2 child nodes\n",
    "            lessThan = data[bestFeat] < splitPt\n",
    "            child = c4_5(idx[lessThan], featSubset, majority)\n",
    "            node.addChild(child, '<')\n",
    "            child = c4_5(idx[~lessThan], featSubset, majority)\n",
    "            node.addChild(child, '>=')\n",
    "        return node\n",
    "################################################################################\n",
    "\n",
    "    uniqLabels,uniqCounts = np.unique(allLabels, return_counts=True)\n",
    "    labelMajority = uniqLabels[np.argmax(uniqCounts)]\n",
    "    allFeatures = set(allData.dtype.names) # set of all features\n",
    "    allIdx = np.arange(allData.size) # numeric idx of all rows\n",
    "    return c4_5(allIdx, allFeatures, labelMajority) # root of DTree"
   ]
  },
  {
   "cell_type": "code",
   "execution_count": 8,
   "metadata": {},
   "outputs": [],
   "source": [
    "################################################################################\n",
    "abalonePath = './data/abalone.data'\n",
    "abaloneNames = ['sex', 'length', 'diameter', 'height', 'wholeHt',\n",
    "                'shuckWt', 'visceraWt', 'shellWt', 'rings']\n",
    "abaloneData, abaloneFeats, ringVec = prepData(abalonePath,\n",
    "                                              abaloneNames, slice(-1),'rings')\n",
    "ringLabel = ringVec.astype(str)\n",
    "ringLabel[ringVec<=5] = '<5'\n",
    "ringLabel[ringVec>=16] = '16+'"
   ]
  },
  {
   "cell_type": "code",
   "execution_count": 11,
   "metadata": {},
   "outputs": [
    {
     "data": {
      "text/plain": [
       "(1000,)"
      ]
     },
     "execution_count": 11,
     "metadata": {},
     "output_type": "execute_result"
    }
   ],
   "source": [
    "testData = abaloneData[np.arange(1000)]\n",
    "testLabel = ringLabel[np.arange(1000)]"
   ]
  },
  {
   "cell_type": "code",
   "execution_count": 153,
   "metadata": {},
   "outputs": [
    {
     "name": "stdout",
     "output_type": "stream",
     "text": [
      "Attribute [Outlook]:\n",
      "    value = Rainy, Attribute [Windy]:\n",
      "        value = True, class: N\n",
      "        value = False, class: P\n",
      "    value = Sunny, Attribute [Humidity]:\n",
      "        value = Normal, class: P\n",
      "        value = High, class: N\n",
      "    value = Overcast, class: P\n",
      "\n"
     ]
    }
   ],
   "source": [
    "testTree = TrainDTree(testData, testLabel)\n",
    "print(testTree)"
   ]
  },
  {
   "cell_type": "code",
   "execution_count": 11,
   "metadata": {},
   "outputs": [
    {
     "data": {
      "text/plain": [
       "{'divide': 'warn', 'over': 'warn', 'under': 'ignore', 'invalid': 'warn'}"
      ]
     },
     "execution_count": 11,
     "metadata": {},
     "output_type": "execute_result"
    }
   ],
   "source": [
    "np.seterr(all='raise')"
   ]
  },
  {
   "cell_type": "code",
   "execution_count": 215,
   "metadata": {},
   "outputs": [],
   "source": [
    "def PredictDTree(tree, data):\n",
    "    def classify(node, idx):\n",
    "        ndData = data[idx] # portion of data for this node\n",
    "        if node.isLeaf():\n",
    "            result[idx] = node.attrib\n",
    "            return\n",
    "        else:\n",
    "            feat = node.attrib\n",
    "            if node.splitPoint is None: # categorical\n",
    "                for k in node.getValues():\n",
    "                    subIdx = idx[ ndData[feat]==k ]\n",
    "                    classify(node.getChild(k), subIdx)\n",
    "            else: # numeric\n",
    "                lessThan = ndData[feat]<node.splitPoint\n",
    "                classify(node.getChild('<'), idx[lessThan])\n",
    "                classify(node.getChild('>='), idx[~lessThan])\n",
    "            return\n",
    "\n",
    "    allIdx = np.arange(data.size)\n",
    "    result = np.empty(data.size, object)\n",
    "    classify(tree, allIdx)\n",
    "    return result"
   ]
  },
  {
   "cell_type": "code",
   "execution_count": 214,
   "metadata": {},
   "outputs": [],
   "source": [
    "################################################################################    \n",
    "def PruneDTree(tree, data, actuals):\n",
    "    def prune(node, idx):\n",
    "        ndData,ndActs = data[idx],actuals[idx] # data and labels for the node\n",
    "        if node.isLeaf():\n",
    "            node.nCorr = sum(node.attrib==ndActs) # save nCorrect preds\n",
    "            return\n",
    "        else:\n",
    "            feat = node.attrib\n",
    "            if node.splitPoint is None: # categorical\n",
    "                for k in node.getValues():\n",
    "                    subIdx = idx[ ndData[feat]==k ]\n",
    "                    prune(node.getChild(k), subIdx)\n",
    "            else: # numeric\n",
    "                lessThan = ndData[feat]<node.splitPoint\n",
    "                prune(node.getChild('<'), idx[lessThan])\n",
    "                prune(node.getChild('>='), idx[~lessThan])\n",
    "            \n",
    "            node.nCorr = sum(node.getChildCorrNum()) # sum childNodes error nums\n",
    "            nCorrNaive = sum(ndActs==node.preEval) # nCorr using label majority\n",
    "            if nCorrNaive > node.nCorr: # if majority class is better than C4.5\n",
    "                node.makeLeafNode(node.preEval, nCorrNaive)\n",
    "            return\n",
    "                \n",
    "################################################################################    \n",
    "    allIdx = np.arange(data.size)\n",
    "    prune(tree, allIdx)\n",
    "    return"
   ]
  },
  {
   "cell_type": "code",
   "execution_count": 63,
   "metadata": {},
   "outputs": [
    {
     "data": {
      "text/plain": [
       "(0.8464393446710154, 4.5, 1.0)"
      ]
     },
     "execution_count": 63,
     "metadata": {},
     "output_type": "execute_result"
    }
   ],
   "source": [
    "x = np.array(range(10))\n",
    "y = np.array(['A', 'B', 'A', 'A', 'A', 'B', 'A', 'B', 'B', 'A'])\n",
    "\n",
    "getBestSplitInfo(x,y, getSplitPts(x,y))\n"
   ]
  },
  {
   "cell_type": "code",
   "execution_count": 53,
   "metadata": {},
   "outputs": [
    {
     "data": {
      "text/plain": [
       "[10, 10, 20, 10, 20, 20, 20, 30, 30, 50, 40, 40]"
      ]
     },
     "execution_count": 53,
     "metadata": {},
     "output_type": "execute_result"
    }
   ],
   "source": [
    "a = np.array( [10,10,20,10,20,20,20,30, 30,50,40,40] )\n",
    "aCounts = np.unique(a,return_counts=True)[1]\n",
    "z"
   ]
  },
  {
   "cell_type": "code",
   "execution_count": 14,
   "metadata": {},
   "outputs": [
    {
     "data": {
      "text/plain": [
       "('Outlook', 0.24674981977443933, None, 0.24674981977443933)"
      ]
     },
     "execution_count": 14,
     "metadata": {},
     "output_type": "execute_result"
    }
   ],
   "source": [
    "raw = np.array([('Sunny', 'Hot', 'High', 'False', 'N'),\n",
    "                ('Sunny', 'Hot', 'High', 'True', 'N'),\n",
    "                ('Overcast', 'Hot', 'High', 'False', 'P'), \n",
    "                ('Rainy', 'Mild', 'High', 'False', 'P'), \n",
    "                ('Rainy', 'Cool', 'Normal', 'False', 'P'), \n",
    "                ('Rainy', 'Cool', 'Normal', 'True', 'N'), \n",
    "                ('Overcast', 'Cool', 'Normal', 'True', 'P'), \n",
    "                ('Sunny', 'Mild', 'High', 'False', 'N'), \n",
    "                ('Sunny', 'Cool', 'Normal', 'False', 'P'), \n",
    "                ('Rainy', 'Mild', 'Normal', 'False', 'P'), \n",
    "                ('Sunny', 'Mild', 'Normal', 'True', 'P'),\n",
    "                ('Overcast', 'Mild', 'High', 'True', 'P'),\n",
    "                ('Overcast', 'Hot', 'Normal', 'False', 'P'), \n",
    "                ('Rainy', 'Mild', 'High', 'True', 'N')],\n",
    "               dtype=[('Outlook','U8'), ('Temperature','U4'), ('Humidity','U6'),\n",
    "                      ('Windy','U5'), ('Class','U1')]\n",
    "            )\n",
    "testData = raw[['Outlook','Temperature','Humidity','Windy']]\n",
    "testLabel = raw['Class']\n",
    "\n",
    "SplitInfo(testData['Temperature'], testLabel)\n",
    "selectBestFeature(testData, testLabel, useRatio=False)"
   ]
  },
  {
   "cell_type": "code",
   "execution_count": 16,
   "metadata": {},
   "outputs": [
    {
     "name": "stdout",
     "output_type": "stream",
     "text": [
      "Attribute [Outlook]:\n",
      "    value = Sunny, Attribute [Humidity]:\n",
      "        value = High, class: N\n",
      "        value = Normal, class: P\n",
      "    value = Rainy, Attribute [Windy]:\n",
      "        value = False, class: P\n",
      "        value = True, class: N\n",
      "    value = Overcast, class: P\n",
      "\n"
     ]
    }
   ],
   "source": [
    "testTree = TrainDTree(testData,testLabel)\n",
    "print(testTree)"
   ]
  },
  {
   "cell_type": "code",
   "execution_count": 17,
   "metadata": {},
   "outputs": [],
   "source": [
    "val = np.array([('Sunny', 'Hot', 'High', 'False', 'N'),\n",
    "                ('Sunny', 'Hot', 'High', 'True', 'P'),\n",
    "                ('Overcast', 'Hot', 'High', 'False', 'P'), \n",
    "                ('Rainy', 'Mild', 'High', 'False', 'P')],\n",
    "               dtype=[('Outlook','U8'), ('Temperature','U4'), ('Humidity','U6'),\n",
    "                      ('Windy','U5'), ('Class','U1')]\n",
    "            )\n",
    "valData = val[['Outlook','Temperature','Humidity','Windy']]\n",
    "valAct = val['Class']"
   ]
  },
  {
   "cell_type": "code",
   "execution_count": 22,
   "metadata": {},
   "outputs": [],
   "source": [
    "pred = PredictDTree(testTree, valData)"
   ]
  },
  {
   "cell_type": "code",
   "execution_count": 2,
   "metadata": {},
   "outputs": [
    {
     "ename": "NameError",
     "evalue": "name 'np' is not defined",
     "output_type": "error",
     "traceback": [
      "\u001b[1;31m---------------------------------------------------------------------------\u001b[0m",
      "\u001b[1;31mNameError\u001b[0m                                 Traceback (most recent call last)",
      "\u001b[1;32m<ipython-input-2-90a59bea44ad>\u001b[0m in \u001b[0;36m<module>\u001b[1;34m()\u001b[0m\n\u001b[1;32m----> 1\u001b[1;33m \u001b[0mnp\u001b[0m\u001b[1;33m.\u001b[0m\u001b[0mfabs\u001b[0m\u001b[1;33m(\u001b[0m\u001b[1;33m-\u001b[0m\u001b[1;36m2\u001b[0m\u001b[1;33m)\u001b[0m\u001b[1;33m\u001b[0m\u001b[0m\n\u001b[0m",
      "\u001b[1;31mNameError\u001b[0m: name 'np' is not defined"
     ]
    }
   ],
   "source": [
    "np.fabs(-2)"
   ]
  }
 ],
 "metadata": {
  "kernelspec": {
   "display_name": "Python 3",
   "language": "python",
   "name": "python3"
  },
  "language_info": {
   "codemirror_mode": {
    "name": "ipython",
    "version": 3
   },
   "file_extension": ".py",
   "mimetype": "text/x-python",
   "name": "python",
   "nbconvert_exporter": "python",
   "pygments_lexer": "ipython3",
   "version": "3.6.5"
  }
 },
 "nbformat": 4,
 "nbformat_minor": 2
}
