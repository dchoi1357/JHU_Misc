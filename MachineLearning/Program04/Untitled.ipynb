{
 "cells": [
  {
   "cell_type": "code",
   "execution_count": 4,
   "metadata": {},
   "outputs": [],
   "source": [
    "import numpy as np, pandas as pd"
   ]
  },
  {
   "cell_type": "code",
   "execution_count": 6,
   "metadata": {},
   "outputs": [],
   "source": [
    "################################################################################\n",
    "def prepData(dataPathDir, fieldNames, featSlices, labelName, \n",
    "\t\t\t sep=',', transf=None):\n",
    "\traw = np.genfromtxt(dataPathDir, delimiter=sep, dtype=None,\n",
    "                        names=fieldNames, encoding='utf-8') # read dlm file\n",
    "\tif isinstance(featSlices, slice):\n",
    "\t\tdataFeats = fieldNames[featSlices] # list of feature names\n",
    "\telse:\n",
    "\t\tdataFeats = [fieldNames[i] for i in featSlices]\n",
    "\treturn raw[dataFeats],dataFeats,raw[labelName]\n",
    "\n",
    "def errRate(pred, actual, categorical=True):\n",
    "\tif categorical: # if categ., return classification err rate\n",
    "\t\treturn sum(pred!=actual) / pred.size\n",
    "\telse: # if numeric, return RMSE\n",
    "\t\treturn np.linalg.norm(pred-actual)/np.sqrt(pred.size)\n",
    "    \n",
    "def getCrossValidFolds(dataMat, classVec, nFolds=5, categorical=False):\n",
    "\t''' Cut N-fold cross validation of the data set\n",
    "\tGiven a data matrix, a class vector, and the number of folds, the function\n",
    "\trandomly cuts a 5-fold cross validation. If the data is categorical, \n",
    "\tstratified sampling is used.\n",
    "\t'''\n",
    "\t\n",
    "\tidx = np.arange(dataMat.shape[0]) # construct index of data rows\n",
    "\tif categorical:\n",
    "\t\tunqs = np.unique(classVec)\n",
    "\t\ttmpHold = [None] * len(unqs)\n",
    "\t\tfor n,k in enumerate(unqs):\n",
    "\t\t\tgrpIdx = idx[classVec==k] # idx of all elems in current class\n",
    "\t\t\tnp.random.shuffle(grpIdx) # permutate idx for random selection\n",
    "\t\t\ttmpHold[n] = np.array_split(grpIdx, nFolds) # split: N equals\n",
    "\t\tchunks = [np.hstack(k) for k in zip(*tmpHold)] # concat sub chunks\n",
    "\telse:\n",
    "\t\tnp.random.shuffle(idx) # random shuffle data\n",
    "\t\tchunks = np.array_split(idx, nFolds) # split into N equal sized chunks\n",
    "\n",
    "\treturn chunks # return the indices for folds"
   ]
  },
  {
   "cell_type": "code",
   "execution_count": 91,
   "metadata": {},
   "outputs": [
    {
     "data": {
      "text/plain": [
       "[('10', 634),\n",
       " ('11', 487),\n",
       " ('12', 267),\n",
       " ('13', 203),\n",
       " ('14', 126),\n",
       " ('15', 103),\n",
       " ('16+', 261),\n",
       " ('6', 259),\n",
       " ('7', 391),\n",
       " ('8', 568),\n",
       " ('9', 689),\n",
       " ('<5', 189)]"
      ]
     },
     "execution_count": 91,
     "metadata": {},
     "output_type": "execute_result"
    }
   ],
   "source": [
    "list(zip(*np.unique(ringLabel, return_counts=True)))"
   ]
  },
  {
   "cell_type": "code",
   "execution_count": 71,
   "metadata": {},
   "outputs": [
    {
     "data": {
      "text/plain": [
       "array([('M', 0.455, 0.365, 0.095, 0.514 , 0.2245, 0.101 , 0.15 ),\n",
       "       ('M', 0.35 , 0.265, 0.09 , 0.2255, 0.0995, 0.0485, 0.07 ),\n",
       "       ('F', 0.53 , 0.42 , 0.135, 0.677 , 0.2565, 0.1415, 0.21 ), ...,\n",
       "       ('M', 0.6  , 0.475, 0.205, 1.176 , 0.5255, 0.2875, 0.308),\n",
       "       ('F', 0.625, 0.485, 0.15 , 1.0945, 0.531 , 0.261 , 0.296),\n",
       "       ('M', 0.71 , 0.555, 0.195, 1.9485, 0.9455, 0.3765, 0.495)],\n",
       "      dtype=[('sex', '<U1'), ('length', '<f8'), ('diameter', '<f8'), ('height', '<f8'), ('wholeHt', '<f8'), ('shuckWt', '<f8'), ('visceraWt', '<f8'), ('shellWt', '<f8')])"
      ]
     },
     "execution_count": 71,
     "metadata": {},
     "output_type": "execute_result"
    }
   ],
   "source": [
    "z = np.genfromtxt(abalonePath, delimiter=',', dtype=None, names=abaloneNames, encoding='utf-8')\n",
    "z[abaloneFeats]"
   ]
  },
  {
   "cell_type": "code",
   "execution_count": 13,
   "metadata": {},
   "outputs": [],
   "source": [
    "class DTnode:\n",
    "    def __init__(self, attrib, compare=0):\n",
    "        self.attrib = attrib\n",
    "        self.isLeaf = True\n",
    "        self.compareTo = compare\n",
    "        self.children = dict()\n",
    "\n",
    "    def addChild(self, node, val):\n",
    "        self.isLeaf = False\n",
    "        self.children[val] = node\n",
    "        \n",
    "    def getChild(self, val):\n",
    "        return self.children[val]\n",
    "    \n",
    "    def getValues(self):\n",
    "        return self.children.keys()\n",
    "\n",
    "    def __repre__(self):\n",
    "        if self.isLeaf:\n",
    "            childTxt = 'terminal'\n",
    "        else:\n",
    "            childTxt = 'child: ' + str(list(self.children.keys()))\n",
    "        return '[Node for %s, %s ]'%(self.attrib, childTxt)\n",
    "    \n",
    "    def toStr(nd, level=0):\n",
    "        if nd.isLeaf:\n",
    "            return 'class: %s\\n' % nd.attrib\n",
    "        else:\n",
    "            ret = 'Attribute [' + nd.attrib + \"]:\\n\"\n",
    "            nx = level + 1\n",
    "            for key in nd.children:\n",
    "                ret += \" \"*nx*2 + 'value %s, '%key \\\n",
    "                    + toStr(nd.children[key],nx)\n",
    "            return ret\n",
    "    \n",
    "    def __str__(self):\n",
    "        return toStr(self)\n",
    "        "
   ]
  },
  {
   "cell_type": "code",
   "execution_count": 21,
   "metadata": {},
   "outputs": [],
   "source": [
    "def Entropy(array):\n",
    "    counts = np.unique(array, return_counts=True)[1]\n",
    "    probs = counts / counts.sum()\n",
    "    return -(probs*np.log2(probs)).sum()\n",
    "\n",
    "def IntInfo(counts):\n",
    "    s = sum(counts)\n",
    "    return -np.sum(np.log2(counts)*counts)/s + np.log2(s)\n",
    "\n",
    "################################################################################\n",
    "\n"
   ]
  },
  {
   "cell_type": "code",
   "execution_count": 7,
   "metadata": {},
   "outputs": [],
   "source": [
    "################################################################################\n",
    "abalonePath = './data/abalone.data'\n",
    "abaloneNames = ['sex', 'length', 'diameter', 'height', 'wholeHt',\n",
    "                'shuckWt', 'visceraWt', 'shellWt', 'rings']\n",
    "abaloneData, abaloneFeats, ringVec = prepData(abalonePath,\n",
    "                                              abaloneNames, slice(-1),'rings')\n",
    "ringLabel = ringVec.astype(str)\n",
    "ringLabel[ringVec<=5] = '<5'\n",
    "ringLabel[ringVec>=16] = '16+'"
   ]
  },
  {
   "cell_type": "code",
   "execution_count": 27,
   "metadata": {},
   "outputs": [
    {
     "data": {
      "text/plain": [
       "2"
      ]
     },
     "execution_count": 27,
     "metadata": {},
     "output_type": "execute_result"
    }
   ],
   "source": [
    "a = np.array([True, False, False, True])\n",
    "sum(a)"
   ]
  },
  {
   "cell_type": "code",
   "execution_count": 50,
   "metadata": {},
   "outputs": [],
   "source": [
    "def getSplitPts(data,labels):\n",
    "    srtIdx = np.argsort(data) # get sorted index for data vector\n",
    "    srtdData = data[srtIdx] # data in sorted order\n",
    "    midpoints = (srtdData[:-1] + srtdData[1:])/2 # midpoints between data pts\n",
    "    srtdLabls = labels[srtIdx] # rearrange labels by sorted data order\n",
    "    diffLabel = srtdLabls[:-1] != srtdLabls[1:] # find midpt where labels changed\n",
    "    return midpoints[diffLabel] # return midpts where labels are different\n",
    "\n",
    "def getBestSplitInfo(data, labels, splitPts):\n",
    "    bestEntropy = np.Inf\n",
    "    bestPoint = None\n",
    "    bestPr = -1\n",
    "    for n,pt in enumerate(splitPts):\n",
    "        LT = data < pt\n",
    "        prLT = sum(LT) / data.size\n",
    "        ent = prLT*Entropy(labels[LT]) + (1-prLT)*Entropy(labels[~LT])\n",
    "        if ent < bestEntropy:\n",
    "            bestEntropy = thisEnt\n",
    "            bestPoint = pt\n",
    "            bestPr = prLT\n",
    "    intrInfo = -bestPr*np.log2(bestPr) - (1-bestPr)*np.log2(1-bestPr)\n",
    "    return bestEntropy,bestPoint,intrInfo\n",
    "\n",
    "def SplitInfo(xs, ys):\n",
    "    if np.issubdtype(xs.dtype, np.number): # numeric features\n",
    "        splitPts = getSplitPoints(xs, ys)\n",
    "        meanEnt,splitPt,intrinInfo = getBestSplitInfo(xs, ys, splitPts)\n",
    "    else: # categorical features\n",
    "        vals, Ns = np.unique(xs, return_counts=True)\n",
    "        meanEnt = sum(Ns/len(ys) * [Entropy(ys[xs==v]) for v in vals])\n",
    "        intrinsInfo = Entropy(xs)\n",
    "        splitPt = None\n",
    "    return meanEnt,intrinsInfo,splitPt\n",
    "\n"
   ]
  },
  {
   "cell_type": "code",
   "execution_count": 53,
   "metadata": {},
   "outputs": [
    {
     "data": {
      "text/plain": [
       "[10, 10, 20, 10, 20, 20, 20, 30, 30, 50, 40, 40]"
      ]
     },
     "execution_count": 53,
     "metadata": {},
     "output_type": "execute_result"
    }
   ],
   "source": [
    "a = np.array( [10,10,20,10,20,20,20,30, 30,50,40,40] )\n",
    "aCounts = np.unique(a,return_counts=True)[1]\n",
    "z"
   ]
  },
  {
   "cell_type": "code",
   "execution_count": 52,
   "metadata": {},
   "outputs": [
    {
     "data": {
      "text/plain": [
       "array([ 100,  100,  400,  100,  400,  400,  400,  900,  900, 2500, 1600,\n",
       "       1600])"
      ]
     },
     "execution_count": 52,
     "metadata": {},
     "output_type": "execute_result"
    }
   ],
   "source": [
    "np.array(z) * z"
   ]
  },
  {
   "cell_type": "code",
   "execution_count": 53,
   "metadata": {},
   "outputs": [
    {
     "name": "stdout",
     "output_type": "stream",
     "text": [
      "[(0.1409071979108386, 10), (0.22956749465992676, 10), (0.24396124711773237, 20), (0.2848779032897587, 10), (0.43729318365272074, 20), (0.5744742472226008, 20), (0.7917719120373218, 20), (0.8103201792707221, 30), (0.8234293458874453, 30), (0.8484049041354896, 50), (0.9442117713873419, 40), (0.993248981122507, 40)]\n"
     ]
    },
    {
     "data": {
      "text/plain": [
       "array([0.23676437, 0.26441958, 0.36108554, 0.80104605, 0.83591713,\n",
       "       0.89630834])"
      ]
     },
     "execution_count": 53,
     "metadata": {},
     "output_type": "execute_result"
    }
   ],
   "source": [
    "x = np.random.rand(len(a))\n",
    "x.sort()\n",
    "print(list(zip(x,a)))\n",
    "\n",
    "getSplitPts(x,a)"
   ]
  }
 ],
 "metadata": {
  "kernelspec": {
   "display_name": "Python 3",
   "language": "python",
   "name": "python3"
  },
  "language_info": {
   "codemirror_mode": {
    "name": "ipython",
    "version": 3
   },
   "file_extension": ".py",
   "mimetype": "text/x-python",
   "name": "python",
   "nbconvert_exporter": "python",
   "pygments_lexer": "ipython3",
   "version": "3.7.0"
  }
 },
 "nbformat": 4,
 "nbformat_minor": 2
}
