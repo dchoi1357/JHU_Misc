{
 "cells": [
  {
   "cell_type": "code",
   "execution_count": 2,
   "metadata": {},
   "outputs": [],
   "source": [
    "import numpy as np\n",
    "from functions import prepData, splitData\n",
    "from crossValidation import crossValidate"
   ]
  },
  {
   "cell_type": "code",
   "execution_count": 3,
   "metadata": {},
   "outputs": [
    {
     "data": {
      "text/plain": [
       "(array([0.09615385, 0.13141026, 0.09967846, 0.11935484, 0.14239482]),\n",
       " array([0.08653846, 0.12179487, 0.10289389, 0.11935484, 0.10355987]))"
      ]
     },
     "execution_count": 3,
     "metadata": {},
     "output_type": "execute_result"
    }
   ],
   "source": [
    "carPath = './data/car.data'\n",
    "carNames = ['buying','maint','doors','persons','lug_boot','safety','accept']\n",
    "carData, carFeats, acceptVec = prepData(carPath, carNames, slice(-1), 'accept')\n",
    "\n",
    "(xvData,xvLabel),xvFolds,pruningSet = splitData(carData, acceptVec)\n",
    "crossValidate(xvData, xvLabel, pruningSet, xvFolds)"
   ]
  },
  {
   "cell_type": "code",
   "execution_count": 4,
   "metadata": {},
   "outputs": [
    {
     "data": {
      "text/plain": [
       "(array([0.16666667, 0.23809524, 0.17142857, 0.25714286, 0.17142857]),\n",
       " array([0.16666667, 0.21428571, 0.17142857, 0.25714286, 0.17142857]))"
      ]
     },
     "execution_count": 4,
     "metadata": {},
     "output_type": "execute_result"
    }
   ],
   "source": [
    "segPD = './data/segmentation.data'\n",
    "segVars = ['class', 'centCol', 'centRow', 'pixelCount', 'slDensity5', \n",
    "            'slDensity2', 'vedgeMean', 'vegdeSD', 'hedgeMean', 'hedgeSD',\n",
    "            'intenseMean', 'rawredMean', 'rawblueMean', 'rawgreenMean',\n",
    "             'exredMean', 'exblueMean', 'exgreenMean', 'valueMean', \n",
    "             'saturateMean', 'hueMean']\n",
    "segFeatIdx = [1,2] + list(range(4,19))\n",
    "segData, segFeats, segClass = prepData(segPD, segVars, segFeatIdx, 'class')\n",
    "\n",
    "(xvData,xvLabel),xvFolds,pruningSet = splitData(segData, segClass)\n",
    "crossValidate(xvData, xvLabel, pruningSet, xvFolds)"
   ]
  }
 ],
 "metadata": {
  "kernelspec": {
   "display_name": "Python 3",
   "language": "python",
   "name": "python3"
  },
  "language_info": {
   "codemirror_mode": {
    "name": "ipython",
    "version": 3
   },
   "file_extension": ".py",
   "mimetype": "text/x-python",
   "name": "python",
   "nbconvert_exporter": "python",
   "pygments_lexer": "ipython3",
   "version": "3.7.0"
  }
 },
 "nbformat": 4,
 "nbformat_minor": 2
}
