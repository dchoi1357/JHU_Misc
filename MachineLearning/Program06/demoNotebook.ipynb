{
 "cells": [
  {
   "cell_type": "code",
   "execution_count": 1,
   "metadata": {},
   "outputs": [],
   "source": [
    "import os\n",
    "import numpy as np, pandas as pd\n",
    "from utilities import errRate, normalizeDF, makeClassMat\n",
    "from crossValidate import getXVFolds\n",
    "from NN_0hidd import train_0hidd, pred_0hidd\n",
    "from NN_1hidd import train_1hidd, pred_1hidd\n",
    "from NN_2hidd import train_2hidd, pred_2hidd"
   ]
  },
  {
   "cell_type": "markdown",
   "metadata": {},
   "source": [
    "## Data Processing\n",
    "Read in data, make class and data matrix"
   ]
  },
  {
   "cell_type": "code",
   "execution_count": 2,
   "metadata": {},
   "outputs": [],
   "source": [
    "irisFile = os.path.join('./data/', 'iris.data')\n",
    "irisName = ['sepalLen', 'sepalWth', 'petalLen', 'petalWth', 'class']\n",
    "raw = pd.read_csv(irisFile , names=irisName)  # read CSV file\n",
    "irisTypes = makeClassMat(raw['class'])\n",
    "irisMat = normalizeDF(raw[irisName[:-1]])"
   ]
  },
  {
   "cell_type": "markdown",
   "metadata": {},
   "source": [
    "Divide into 5 folds, take first fold as validation set"
   ]
  },
  {
   "cell_type": "code",
   "execution_count": 3,
   "metadata": {},
   "outputs": [],
   "source": [
    "folds = getXVFolds(irisMat, irisTypes, categorical=True)\n",
    "testIdx = folds[0]\n",
    "trainIdx = np.hstack(folds[1:])\n",
    "trainData,trainLabel = irisMat[trainIdx],irisTypes[trainIdx]\n",
    "testData,testLabel = irisMat[testIdx],irisTypes[testIdx]"
   ]
  },
  {
   "cell_type": "markdown",
   "metadata": {},
   "source": [
    "## Running of Code\n",
    "Train ANN with 0 hidden layer"
   ]
  },
  {
   "cell_type": "code",
   "execution_count": 4,
   "metadata": {},
   "outputs": [
    {
     "name": "stdout",
     "output_type": "stream",
     "text": [
      "Iter #0, error: 1.100000\n",
      "Iter #1000, error: 0.077195\n",
      "Iter #2000, error: 0.074071\n",
      "Iter #3000, error: 0.071967\n",
      "Iter #4000, error: 0.070330\n",
      "Iter #5000, error: 0.068967\n",
      "Final iteration #5236, error: 0.068674\n"
     ]
    },
    {
     "data": {
      "text/plain": [
       "array([[ -5.6942328 ,   4.49853209,   1.19843556],\n",
       "       [  9.72297539,  -0.78865438,  -8.92922946],\n",
       "       [-12.58891082,  -4.04418473,  16.6382307 ],\n",
       "       [-13.2506071 ,  -5.35664863,  18.59728981],\n",
       "       [ 10.1280379 ,   7.19002939, -17.31746141]])"
      ]
     },
     "execution_count": 4,
     "metadata": {},
     "output_type": "execute_result"
    }
   ],
   "source": [
    "wt,nn,err = train_0hidd(trainData, trainLabel, 3, trace=True)\n",
    "wt"
   ]
  },
  {
   "cell_type": "code",
   "execution_count": 5,
   "metadata": {},
   "outputs": [
    {
     "data": {
      "text/plain": [
       "array([0, 0, 0, 0, 0, 0, 0, 0, 0, 0, 1, 1, 1, 1, 1, 1, 1, 1, 1, 1, 2, 2,\n",
       "       2, 2, 2, 2, 2, 2, 2, 2], dtype=int64)"
      ]
     },
     "execution_count": 5,
     "metadata": {},
     "output_type": "execute_result"
    }
   ],
   "source": [
    "pred_0hidd(testData,wt)"
   ]
  },
  {
   "cell_type": "markdown",
   "metadata": {},
   "source": [
    "Train ANN with 1 hidden layer, 6 hidden nodes"
   ]
  },
  {
   "cell_type": "code",
   "execution_count": 6,
   "metadata": {},
   "outputs": [
    {
     "name": "stdout",
     "output_type": "stream",
     "text": [
      "Iter #0, error: 1.098656\n",
      "Final iteration #77, error: 0.084693\n"
     ]
    },
    {
     "data": {
      "text/plain": [
       "(array([[ 3.39946821,  1.43693911, -4.8517327 ],\n",
       "        [ 3.38667926,  1.44652756, -4.8291338 ],\n",
       "        [ 4.23751856,  0.61234309, -4.84981597],\n",
       "        [ 3.37093923,  1.43517644, -4.81730686],\n",
       "        [ 3.66773783,  1.22155865, -4.89855163],\n",
       "        [ 3.69408356,  1.20485458, -4.89824446],\n",
       "        [-8.09398293,  1.34879755,  6.74629599]]),\n",
       " array([[ 0.20109822,  0.13904523, -0.50936452,  0.06329672,  0.09296411,\n",
       "          0.06047301],\n",
       "        [ 2.2496062 ,  2.16082656,  2.41422178,  2.09220257,  2.44651798,\n",
       "          2.44483627],\n",
       "        [-4.20285544, -4.19437932, -4.1194513 , -4.20236567, -4.18932368,\n",
       "         -4.1881499 ],\n",
       "        [-4.99484476, -4.99662405, -4.78648785, -5.0023661 , -4.95953702,\n",
       "         -4.9517947 ],\n",
       "        [ 3.59990776,  3.67856307,  2.32044529,  3.74999984,  3.14000649,\n",
       "          3.11061889]]))"
      ]
     },
     "execution_count": 6,
     "metadata": {},
     "output_type": "execute_result"
    }
   ],
   "source": [
    "wt,nn,err = train_1hidd(trainData, trainLabel, 3, 6, trace=True)\n",
    "wt"
   ]
  },
  {
   "cell_type": "code",
   "execution_count": 7,
   "metadata": {},
   "outputs": [
    {
     "data": {
      "text/plain": [
       "array([0, 0, 0, 0, 0, 0, 0, 0, 0, 0, 1, 1, 1, 1, 1, 1, 1, 1, 1, 1, 2, 2,\n",
       "       2, 2, 2, 2, 2, 2, 2, 2], dtype=int64)"
      ]
     },
     "execution_count": 7,
     "metadata": {},
     "output_type": "execute_result"
    }
   ],
   "source": [
    "pred_1hidd(testData, *wt)"
   ]
  },
  {
   "cell_type": "markdown",
   "metadata": {},
   "source": [
    "Train ANN with 2 hidden layers, 6 hidden nodes"
   ]
  },
  {
   "cell_type": "code",
   "execution_count": 8,
   "metadata": {},
   "outputs": [
    {
     "name": "stdout",
     "output_type": "stream",
     "text": [
      "Iter #0, error: 1.098623\n",
      "Final iteration #460, error: 0.110257\n"
     ]
    },
    {
     "data": {
      "text/plain": [
       "(array([[ 3.1559778 ,  0.58015468, -3.72698151],\n",
       "        [ 3.1405011 ,  0.64824879, -3.79388671],\n",
       "        [ 3.12434116,  0.71947282, -3.83342899],\n",
       "        [ 3.14612629,  0.63151857, -3.77019148],\n",
       "        [ 3.13592933,  0.61105403, -3.75340837],\n",
       "        [ 3.11293331,  0.75888943, -3.87005971],\n",
       "        [-7.45065638,  1.63969413,  5.80544548]]),\n",
       " array([[-1.38929367, -1.37375315, -1.36188621, -1.3778579 , -1.36916782,\n",
       "         -1.35915481],\n",
       "        [-1.36584352, -1.35227229, -1.33296925, -1.35567808, -1.35295028,\n",
       "         -1.33396916],\n",
       "        [-1.35433581, -1.34642938, -1.33856839, -1.34640019, -1.35020981,\n",
       "         -1.33080123],\n",
       "        [-1.35355727, -1.3399568 , -1.34365598, -1.35007723, -1.35834743,\n",
       "         -1.33499585],\n",
       "        [-1.37661697, -1.38140718, -1.36436972, -1.36905369, -1.37111592,\n",
       "         -1.36425528],\n",
       "        [-1.34436539, -1.34240832, -1.33378241, -1.34778974, -1.3405863 ,\n",
       "         -1.32515109],\n",
       "        [ 2.14674973,  2.23066801,  2.30025807,  2.20535088,  2.18150372,\n",
       "          2.34942899]]),\n",
       " array([[-0.2587815 , -0.25511346, -0.237243  , -0.24875788, -0.25740154,\n",
       "         -0.24378322],\n",
       "        [-1.49607189, -1.47471229, -1.4750669 , -1.48122569, -1.49262953,\n",
       "         -1.47151772],\n",
       "        [ 2.14977375,  2.13211135,  2.10984415,  2.12641066,  2.14142665,\n",
       "          2.1178662 ],\n",
       "        [ 2.81083179,  2.77559504,  2.78056841,  2.77484346,  2.81634221,\n",
       "          2.76348783],\n",
       "        [-2.57311224, -2.54033656, -2.54105522, -2.5357446 , -2.57506792,\n",
       "         -2.52846553]]))"
      ]
     },
     "execution_count": 8,
     "metadata": {},
     "output_type": "execute_result"
    }
   ],
   "source": [
    "wt,nn,err = train_2hidd(trainData, trainLabel, 2, 6, trace=True)\n",
    "wt"
   ]
  },
  {
   "cell_type": "code",
   "execution_count": 9,
   "metadata": {},
   "outputs": [
    {
     "data": {
      "text/plain": [
       "array([0, 0, 0, 0, 0, 0, 0, 0, 0, 0, 1, 1, 1, 1, 1, 1, 1, 1, 1, 1, 2, 2,\n",
       "       2, 2, 2, 2, 2, 2, 2, 2], dtype=int64)"
      ]
     },
     "execution_count": 9,
     "metadata": {},
     "output_type": "execute_result"
    }
   ],
   "source": [
    "pred_2hidd(testData, *wt)"
   ]
  },
  {
   "cell_type": "code",
   "execution_count": 17,
   "metadata": {},
   "outputs": [
    {
     "data": {
      "text/plain": [
       "False"
      ]
     },
     "execution_count": 17,
     "metadata": {},
     "output_type": "execute_result"
    }
   ],
   "source": [
    "int('0') > 9"
   ]
  }
 ],
 "metadata": {
  "kernelspec": {
   "display_name": "Python 3",
   "language": "python",
   "name": "python3"
  },
  "language_info": {
   "codemirror_mode": {
    "name": "ipython",
    "version": 3
   },
   "file_extension": ".py",
   "mimetype": "text/x-python",
   "name": "python",
   "nbconvert_exporter": "python",
   "pygments_lexer": "ipython3",
   "version": "3.6.5"
  }
 },
 "nbformat": 4,
 "nbformat_minor": 2
}
