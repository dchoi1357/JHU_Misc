{
 "cells": [
  {
   "cell_type": "code",
   "execution_count": 51,
   "metadata": {},
   "outputs": [],
   "source": [
    "import numpy as np, pandas as pd\n",
    "from utilities import discretizeMean, oneHot, normalizeDF, makeClassMat"
   ]
  },
  {
   "cell_type": "code",
   "execution_count": 45,
   "metadata": {},
   "outputs": [],
   "source": [
    "def concateIntercept(x):\n",
    "    ''' Concatenate Intercept term to input by adding a column of ones to the\n",
    "    right of the inut data. This is useful for training ANN bias.\n",
    "    '''\n",
    "    return np.hstack( [x, np.ones((x.shape[0],1), x.dtype)] )\n",
    "\n",
    "def sigmoid(x):\n",
    "    ''' Sigmoid function\n",
    "    '''\n",
    "    return 1.0 / ( 1 + np.exp(-x) )\n",
    "\n",
    "def softMax(x):\n",
    "    ''' Calculate normalized exponential function for weights and input matrix.\n",
    "    Returns the normalized exponential probabilities for each classes.\n",
    "    '''\n",
    "    pr = np.exp(x) # matrix multiply of x and weight\n",
    "    return pr / np.sum(pr,axis=1)[:,None]\n",
    "\n",
    "def crossEntNK(yhat, y):\n",
    "    ''' Cross Entropy function. Used as the error for multi-class ANN.\n",
    "    Calculate error across classes for all data points, and return mean err.\n",
    "    '''\n",
    "    return np.sum(-y*np.log(yhat), axis=1).mean() # avg error over all points"
   ]
  },
  {
   "cell_type": "code",
   "execution_count": 33,
   "metadata": {},
   "outputs": [
    {
     "name": "stdout",
     "output_type": "stream",
     "text": [
      "[[0 3 1]\n",
      " [2 1 1]\n",
      " [0 0 1]\n",
      " [2 4 1]\n",
      " [1 2 1]\n",
      " [1 3 1]\n",
      " [2 3 1]\n",
      " [3 0 1]]\n",
      "[[0.56853127 1.62237228 0.5644002  0.36286161]\n",
      " [0.33597739 0.81734471 1.16691202 0.35401111]\n",
      " [1.05721528 0.53668889 0.58430757 0.56719117]]\n"
     ]
    }
   ],
   "source": [
    "# K=4, D=3, N=8\n",
    "x = np.random.randint(5, size=[8,2])\n",
    "x = concateIntercept(x)\n",
    "wt = np.random.rand(3,4)*2\n",
    "print(x)\n",
    "print(wt)"
   ]
  },
  {
   "cell_type": "code",
   "execution_count": 44,
   "metadata": {},
   "outputs": [
    {
     "data": {
      "text/plain": [
       "array([[0.08545191, 0.21519172, 0.64409739, 0.05525898],\n",
       "       [0.09306425, 0.7364292 , 0.1320334 , 0.03847314],\n",
       "       [0.35335603, 0.20996687, 0.22020709, 0.21647001],\n",
       "       [0.01918195, 0.64328922, 0.3291581 , 0.00837073],\n",
       "       [0.10809414, 0.48253421, 0.35348217, 0.05588948],\n",
       "       [0.06151205, 0.44436648, 0.46173825, 0.03238322],\n",
       "       [0.03375255, 0.69946356, 0.25231799, 0.0144659 ],\n",
       "       [0.06260476, 0.878168  , 0.03853398, 0.02069326]])"
      ]
     },
     "execution_count": 44,
     "metadata": {},
     "output_type": "execute_result"
    }
   ],
   "source": [
    "train_0hidd(x, y)"
   ]
  }
 ],
 "metadata": {
  "kernelspec": {
   "display_name": "Python 3",
   "language": "python",
   "name": "python3"
  },
  "language_info": {
   "codemirror_mode": {
    "name": "ipython",
    "version": 3
   },
   "file_extension": ".py",
   "mimetype": "text/x-python",
   "name": "python",
   "nbconvert_exporter": "python",
   "pygments_lexer": "ipython3",
   "version": "3.6.5"
  }
 },
 "nbformat": 4,
 "nbformat_minor": 2
}
