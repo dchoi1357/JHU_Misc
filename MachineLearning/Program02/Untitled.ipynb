{
 "cells": [
  {
   "cell_type": "code",
   "execution_count": 567,
   "metadata": {},
   "outputs": [],
   "source": [
    "import numpy as np\n",
    "import pandas as pd\n",
    "import os\n",
    "from scipy.spatial import distance\n",
    "from itertools import product as binCombo"
   ]
  },
  {
   "cell_type": "code",
   "execution_count": 2,
   "metadata": {},
   "outputs": [],
   "source": [
    "def pairwiseDist(x, y=None):\n",
    "    if y is None:\n",
    "        y = x\n",
    "    return np.sum((x[:,None]-y)**2,axis=2)**0.5"
   ]
  },
  {
   "cell_type": "code",
   "execution_count": 457,
   "metadata": {},
   "outputs": [],
   "source": [
    "def SelectBestFeature(dataMat, selected, Nk, dists):\n",
    "    # get list of index of currently unselected features\n",
    "    unselect = np.where(~np.isin(np.arange(dataMat.shape[1]),selected))[0]\n",
    "    bestCoeff = -1-1e-9 # worst possible coefficient value is -1\n",
    "    for n,j in enumerate(unselect): # loop over unselected features\n",
    "        testSet = np.hstack([selected,j]) # add curr feature to selected ones\n",
    "        means,labels = kMeans(dataMat[:,testSet], Nk) # cluster w/ test features\n",
    "        coeff = Silhouette(dataMat,labels,dists).mean() # mean silhouette coeff\n",
    "        #print((coeff,bestCoeff))\n",
    "        if coeff > bestCoeff: # if this feature produce better coeff\n",
    "            bestCoeff = coeff # record new best coeff\n",
    "            outs = (j,coeff,means,labels) # record output variables\n",
    "    #print(unselect)\n",
    "    return outs # output: the feature, best coeff, means, and labels\n",
    "################################################################################\n",
    "\n",
    "def ForwardSelect(data, k, trace=False):\n",
    "    selected = np.zeros(0, int) # idx of selected features, start w/ empty\n",
    "    baseCoeff = -1-1e-9 # -1 is worst possible performance\n",
    "    dM = pairwiseDist(data) # pre-calc distance matrix for memoization\n",
    "    \n",
    "    converged,nRound = False,1\n",
    "    while not converged: # loop until convergence\n",
    "        bestFeat,bestCoeff,means,labels = SelectBestFeature(data,selected,k,dM) \n",
    "        if bestCoeff <= baseCoeff: # if new feature doesn't improve performance\n",
    "            converged = True\n",
    "        else: # if new feature improves performance\n",
    "            selected = np.hstack([selected,bestFeat]) # add feature to selection\n",
    "            baseCoeff = bestCoeff # set new coeff as baseline performance\n",
    "            outs = (means,labels) # save output vars\n",
    "            if len(selected) == data.shape[1]: \n",
    "                converged = True # algo converged if all features selected\n",
    "        if trace: # print iteration info if requesed\n",
    "            tmplate = \"[%02d] Best coeff=%f, set:%s\"\n",
    "            print( tmplate%(nRound,bestCoeff,str(selected)) )\n",
    "        nRound += 1\n",
    "    return (selected,)+outs # return selected features, means, cluster labels"
   ]
  },
  {
   "cell_type": "code",
   "execution_count": 603,
   "metadata": {},
   "outputs": [
    {
     "data": {
      "text/plain": [
       "(array([0, 3], dtype=int64),)"
      ]
     },
     "execution_count": 603,
     "metadata": {},
     "output_type": "execute_result"
    }
   ],
   "source": [
    "np.where(np.array([True,False,False,True]))"
   ]
  },
  {
   "cell_type": "code",
   "execution_count": 529,
   "metadata": {},
   "outputs": [
    {
     "data": {
      "text/plain": [
       "array([[4.9, 4.9, 3. , 4.9, 4.7],\n",
       "       [4.7, 3.2, 4.7, 4.6, 4.6]])"
      ]
     },
     "execution_count": 529,
     "metadata": {},
     "output_type": "execute_result"
    }
   ],
   "source": [
    "np.empty([10,2,5])[0]"
   ]
  },
  {
   "cell_type": "code",
   "execution_count": 504,
   "metadata": {},
   "outputs": [
    {
     "data": {
      "text/plain": [
       "array([[0, 0, 0],\n",
       "       [0, 0, 1],\n",
       "       [0, 1, 0],\n",
       "       [0, 1, 1],\n",
       "       [1, 0, 0],\n",
       "       [1, 0, 1],\n",
       "       [1, 1, 0],\n",
       "       [1, 1, 1]])"
      ]
     },
     "execution_count": 504,
     "metadata": {},
     "output_type": "execute_result"
    }
   ],
   "source": [
    "np.array(list(itertools.product([0, 1], repeat=3)))"
   ]
  },
  {
   "cell_type": "code",
   "execution_count": 668,
   "metadata": {},
   "outputs": [],
   "source": [
    "def initMeans(data, n, algo=1):\n",
    "    gen = np.random.RandomState() # use independent stream for reproducibility\n",
    "    gen.seed(42) # set initial seed\n",
    "    \n",
    "    if algo==1: # choose n random points\n",
    "        idx = gen.choice(range(data.shape[0]), n, False) # no replace\n",
    "        out = data[idx,]\n",
    "    if algo==2: # random means points (0,1)\n",
    "        out = gen.random([n,data.shape[1]])\n",
    "    if algo==3: # always take first n point as centroid\n",
    "        out = data[:n,]\n",
    "    return out\n",
    "\n",
    "def shortestCentroid(centr, mat):\n",
    "    tmpDist = pairwiseDist(centr,mat) # dist between means and all data pts\n",
    "    return tmpDist.argmin(axis=0) # find group where distance is smallest\n",
    "\n",
    "def updateMeans(data, means):\n",
    "    ## Assign each pt to the mean for which it has the shortest distance\n",
    "    tmpDist = pairwiseDist(means,data) # dist between means and all data pts\n",
    "    minClus = tmpDist.argmin(axis=0) # find group where distance is smallest\n",
    "\n",
    "    ## Calculate new means to be centroid of all the points in the group\n",
    "    newMeans = np.zeros([len(means),data.shape[1]]) # new mean points\n",
    "    for n,x in enumerate(means): # loop over all clusters\n",
    "        tmp = np.vstack( (data[minClus==n,],x) ) # concat data pt and centroid\n",
    "        newMeans[n] = tmp.mean(axis=0) # new mean = centroid of all pts \n",
    "    \n",
    "    return newMeans,minClus\n",
    "\n",
    "################################################################################\n",
    "def kMeans(data, k, trace=False, initAlgo=1):\n",
    "    means = initMeans(data, k, initAlgo) # initialize mean points\n",
    "    converged = False\n",
    "    while not converged:\n",
    "        newMeans,grpIdx = updateMeans(data, means)\n",
    "        converged = np.allclose(means,newMeans)\n",
    "        if trace:\n",
    "            print(means)\n",
    "        means = newMeans\n",
    "        \n",
    "    return means,grpIdx # return final centroids and labels"
   ]
  },
  {
   "cell_type": "code",
   "execution_count": 112,
   "metadata": {},
   "outputs": [
    {
     "data": {
      "text/plain": [
       "(array([[13.33333333, 14.        , 14.        , 13.        ],\n",
       "        [11.        , 12.5       , 10.375     , 11.875     ],\n",
       "        [10.        , 11.        , 14.        , 12.        ]]),\n",
       " array([0, 1, 2, 1, 1, 1, 1, 1, 0, 1], dtype=int64))"
      ]
     },
     "execution_count": 112,
     "metadata": {},
     "output_type": "execute_result"
    }
   ],
   "source": [
    "updateMeans(x, x[:3])"
   ]
  },
  {
   "cell_type": "code",
   "execution_count": 113,
   "metadata": {},
   "outputs": [
    {
     "name": "stdout",
     "output_type": "stream",
     "text": [
      "[[0.37447605 0.12174801 0.34172695 0.38724677]\n",
      " [0.29682263 0.21363869 0.96782684 0.33721441]]\n",
      "[[2.34361901 2.530437   0.08543174 1.59681169]\n",
      " [6.73871237 7.95631326 7.38710149 7.6854008 ]]\n",
      "[[2.34361901 2.530437   0.08543174 1.59681169]\n",
      " [6.73871237 7.95631326 7.38710149 7.6854008 ]]\n",
      "[[ 1.57669264  2.68458518  1.55322107  2.23607379]\n",
      " [11.06715567 12.17784666 11.12610014 11.6986728 ]]\n",
      "[[ 1.57669264  2.68458518  1.55322107  2.23607379]\n",
      " [11.06715567 12.17784666 11.12610014 11.6986728 ]]\n",
      "[[ 1.50697206  2.69859865  1.68665646  2.29418853]\n",
      " [11.46065052 12.56162242 11.4660091  12.06351571]]\n",
      "[[ 1.50697206  2.69859865  1.68665646  2.29418853]\n",
      " [11.46065052 12.56162242 11.4660091  12.06351571]]\n",
      "[[ 1.50063382  2.6998726   1.69878695  2.29947168]\n",
      " [11.49642277 12.59651113 11.49690992 12.09668325]]\n",
      "[[ 1.50063382  2.6998726   1.69878695  2.29947168]\n",
      " [11.49642277 12.59651113 11.49690992 12.09668325]]\n",
      "[[ 1.50005762  2.69998842  1.69988972  2.29995197]\n",
      " [11.4996748  12.59968283 11.49971908 12.09969848]]\n",
      "[[ 1.50005762  2.69998842  1.69988972  2.29995197]\n",
      " [11.4996748  12.59968283 11.49971908 12.09969848]]\n",
      "[[ 1.50000524  2.69999895  1.69998997  2.29999563]\n",
      " [11.49997044 12.59997117 11.49997446 12.09997259]]\n",
      "[[ 1.50000524  2.69999895  1.69998997  2.29999563]\n",
      " [11.49997044 12.59997117 11.49997446 12.09997259]]\n",
      "[[ 1.50000048  2.6999999   1.69999909  2.2999996 ]\n",
      " [11.49999731 12.59999738 11.49999768 12.09999751]]\n"
     ]
    },
    {
     "data": {
      "text/plain": [
       "(array([[ 1.50000048,  2.6999999 ,  1.69999909,  2.2999996 ],\n",
       "        [11.49999731, 12.59999738, 11.49999768, 12.09999751]]),\n",
       " array([1, 1, 1, 1, 1, 1, 1, 1, 1, 1, 0, 0, 0, 0, 0, 0, 0, 0, 0, 0],\n",
       "       dtype=int64))"
      ]
     },
     "execution_count": 113,
     "metadata": {},
     "output_type": "execute_result"
    }
   ],
   "source": []
  },
  {
   "cell_type": "code",
   "execution_count": 5,
   "metadata": {},
   "outputs": [],
   "source": [
    "################################################################################\n",
    "def Silhouette(data, labels, distMat=None):\n",
    "    if distMat is None:\n",
    "        distMat = pairwiseDist(data) # calc pairwise dist if not provided\n",
    "    grpIdx = pd.Series(labels).groupby(labels).groups.items() # idx for each grp\n",
    "    \n",
    "    aVals = np.zeros(data.shape[0]) # pre-allocate a and b-values for data\n",
    "    bVals = np.zeros(data.shape[0])\n",
    "    for grp,idx in grpIdx: # loop over all groups\n",
    "        aVals[idx] = distMat[np.ix_(idx,idx)].mean(axis=1) # a's for curr grp\n",
    "        \n",
    "        # loop over all groups that's not the current gruop\n",
    "        tmp = np.zeros([len(grpIdx)-1,len(idx)]) # tmp for all b's for curr grp\n",
    "        for n,(_,outIdx) in enumerate([x for x in grpIdx if x[0]!=grp]):\n",
    "            # calculate mean dist of points within cluster to out of cluster\n",
    "            tmp[n,] = distMat[np.ix_(idx,outIdx)].mean(axis=1) \n",
    "        bVals[idx] = tmp.min(axis=0) # pick min b of all out-groups\n",
    "\n",
    "    return (bVals-aVals)/np.maximum(aVals,bVals) # return silhouette coeff"
   ]
  },
  {
   "cell_type": "code",
   "execution_count": 651,
   "metadata": {},
   "outputs": [
    {
     "name": "stdout",
     "output_type": "stream",
     "text": [
      "[01] Best coeff=0.118785, set:[3]\n",
      "[02] Best coeff=0.119855, set:[3 5]\n",
      "[03] Best coeff=0.128725, set:[3 5 4]\n",
      "[04] Best coeff=0.130233, set:[3 5 4 0]\n",
      "[05] Best coeff=0.127747, set:[3 5 4 0]\n"
     ]
    },
    {
     "data": {
      "text/plain": [
       "(array([3, 5, 4, 0], dtype=int64),\n",
       " array([[3.15789472, 3.39473683, 6.89473678, 5.57894738],\n",
       "        [5.08064516, 5.5967742 , 2.4516129 , 3.64516129]]),\n",
       " array([1, 0, 1, 1, 1, 1, 1, 0, 0, 0, 0, 1, 1, 0, 0, 1, 1, 1, 0, 1, 0, 0,\n",
       "        1, 1, 0, 0, 1, 1, 1, 1, 1, 0, 1, 0, 1, 1, 0, 1, 0, 0, 1, 1, 1, 0,\n",
       "        1, 0, 1, 0, 1, 1, 1, 0, 1, 1, 1, 1, 0, 0, 0, 1, 1, 0, 0, 1, 1, 1,\n",
       "        0, 1, 0, 1, 0, 1, 1, 1, 1, 1, 1, 1, 1, 1, 0, 1, 0, 1, 0, 0, 1, 0,\n",
       "        0, 1, 1, 1, 1, 0, 0, 1, 1, 0, 1, 1], dtype=int64))"
      ]
     },
     "execution_count": 651,
     "metadata": {},
     "output_type": "execute_result"
    }
   ],
   "source": [
    "testData = np.random.randint(0,10,[100,8])\n",
    "\n",
    "ForwardSelect(testData, 2, trace=True)"
   ]
  },
  {
   "cell_type": "code",
   "execution_count": 543,
   "metadata": {},
   "outputs": [],
   "source": [
    "def printResults(outputLoad, featNames):\n",
    "    selected,centroids,labels = outputLoad[:3]\n",
    "    counts = np.zeros(len(centroids))\n",
    "    for cl in labels:\n",
    "        counts[cl] += 1\n",
    "    \n",
    "    out = pd.DataFrame(np.vstack([centroids.T,counts]))\n",
    "    selectedFeats = [featNames[n] for n in selected] + ['Counts']\n",
    "    out = out.rename(index={n:x for n,x in enumerate(selectedFeats)})\n",
    "    print(\"Features and cluster centroids\")\n",
    "    print(out)"
   ]
  },
  {
   "cell_type": "code",
   "execution_count": 496,
   "metadata": {},
   "outputs": [],
   "source": [
    "def prepData(dataPathDir, fieldNames, featSlices):\n",
    "    raw = pd.read_csv(dataPathDir , names=fieldNames)  # read CSV file\n",
    "    dataFeats = fieldNames[featSlices] # list of feature names\n",
    "    meanVals = raw[dataFeats].mean().values # mean of all features\n",
    "    #dataMat = raw[dataFeats].values/meanVals # standardized array of vals\n",
    "    dataMat = raw[dataFeats].values # standardized array of vals\n",
    "    nK = len(raw['class'].unique()) # number of classes\n",
    "    return dataMat,dataFeats,nK,meanVals"
   ]
  },
  {
   "cell_type": "code",
   "execution_count": 722,
   "metadata": {},
   "outputs": [],
   "source": [
    "irisData = os.path.join('./data/', 'iris.data')\n",
    "irisName = ['sepalLen', 'sepalWth', 'petalLen', 'petalWth', 'class']\n",
    "#raw = pd.read_csv(irisFile , names=irisName)  # read CSV file\n",
    "#irisFeats = irisName[:-1]\n",
    "#irisMat = raw[irisFeats].values\n",
    "#irisK = len(raw['class'].unique())\n",
    "\n",
    "irisMat,irisFeats,irisK,irisMeans = prepData(irisData,irisName,slice(0,-1))"
   ]
  },
  {
   "cell_type": "code",
   "execution_count": 727,
   "metadata": {},
   "outputs": [
    {
     "name": "stdout",
     "output_type": "stream",
     "text": [
      "[01] Best coeff=0.554728, set:[2]\n",
      "[02] Best coeff=0.556750, set:[2 1]\n",
      "[03] Best coeff=0.556793, set:[2 1 0]\n",
      "[04] Best coeff=0.561486, set:[2 1 0 3]\n",
      "\n",
      "Features and cluster centroids\n",
      "                  0       1          2\n",
      "petalLen   4.393548   1.464   5.742105\n",
      "sepalWth   2.748387   3.418   3.073684\n",
      "sepalLen   5.901613   5.006   6.850000\n",
      "petalWth   1.433871   0.244   2.071053\n",
      "Counts    62.000000  50.000  38.000000\n"
     ]
    }
   ],
   "source": [
    "irisOut = ForwardSelect(irisMat, irisK, trace=True)\n",
    "print()\n",
    "printResults(irisOut, irisFeats)"
   ]
  },
  {
   "cell_type": "code",
   "execution_count": 673,
   "metadata": {},
   "outputs": [
    {
     "name": "stdout",
     "output_type": "stream",
     "text": [
      "Best coeff: 0.561486\n",
      "Features and cluster centroids\n",
      "                  0       1          2\n",
      "sepalLen   5.901613   5.006   6.850000\n",
      "sepalWth   2.748387   3.418   3.073684\n",
      "petalLen   4.393548   1.464   5.742105\n",
      "petalWth   1.433871   0.244   2.071053\n",
      "Counts    62.000000  50.000  38.000000\n"
     ]
    }
   ],
   "source": [
    "irisBrute = BruteForceSelect(irisMat, irisK)\n",
    "print(\"Best coeff: %f\"%irisBrute[-1])\n",
    "printResults(irisBrute, irisFeats)"
   ]
  },
  {
   "cell_type": "code",
   "execution_count": null,
   "metadata": {},
   "outputs": [],
   "source": [
    "################################################################################\n",
    "def BruteForceSelect(data, k):\n",
    "    if data.shape[1] > 15: # error out if no hope of algorithm finishing\n",
    "        raise ValueError(\"Too many combinations to try.\")\n",
    "    \n",
    "    # get all binary combination of features (e.g. whether to include)\n",
    "    combos = np.array( list(binCombo([True,False],repeat=data.shape[1])) )\n",
    "    combos = combos[(combos==True).any(axis=1)] # remove combo w/ no features\n",
    "    \n",
    "    dist = pairwiseDist(data) # pre-calc distance matrix for memoization\n",
    "    coeffs = np.empty(combos.shape[0]) # store Silhouette coeff of combos\n",
    "    means = [None]*combos.shape[0] # store centroids of all combos\n",
    "    groups = [None]*combos.shape[0] # to store labels of all combinations\n",
    "    \n",
    "    for n,featIdx in enumerate(combos):\n",
    "        means[n],groups[n] = kMeans(data[:,featIdx], k) # cluster w/ features\n",
    "        coeffs[n] = Silhouette(data,groups[n],dist).mean() # mean coeffs\n",
    "    \n",
    "    idx = np.argmax(coeffs) \n",
    "    return np.where(combos[idx])[0],means[idx],groups[idx],coeffs[idx]"
   ]
  },
  {
   "cell_type": "code",
   "execution_count": 665,
   "metadata": {},
   "outputs": [],
   "source": [
    "glassData = os.path.join('./data/', 'glass.data')\n",
    "glassNames = ['id','RI','Na', 'Mg', 'Al', 'Si', 'K', 'Ca', 'Ba', 'Fe', 'class']\n",
    "#raw = pd.read_csv(glassData , names=glassNames)  # read CSV file\n",
    "\n",
    "#glassFeats = glassNames[1:-1] # list of feature names\n",
    "#glassMat = raw[glassFeats].values # 2d-array of feature values\n",
    "#glassK = len(raw['class'].unique()) # number of classes\n",
    "\n",
    "glassMat,glassFeats,glassK,glassMeans = prepData(glassData,glassNames,slice(1,-1))"
   ]
  },
  {
   "cell_type": "code",
   "execution_count": 674,
   "metadata": {},
   "outputs": [
    {
     "name": "stdout",
     "output_type": "stream",
     "text": [
      "[01] Best coeff=0.280280, set:[5]\n",
      "[02] Best coeff=0.350447, set:[5 2]\n",
      "[03] Best coeff=0.383476, set:[5 2 3]\n",
      "[04] Best coeff=0.409510, set:[5 2 3 7]\n",
      "[05] Best coeff=0.409510, set:[5 2 3 7]\n",
      "Features and cluster centroids\n",
      "                0             1          2             3          4        5\n",
      "K         0.58272  1.052174e-01   0.117308  6.209999e+00   0.485000   0.3455\n",
      "Mg        3.49720  1.581473e-22   3.731154  1.690569e-09   2.122778   0.1060\n",
      "Al        1.38616  2.263043e+00   0.802692  3.030000e+00   1.775556   1.2500\n",
      "Ba        0.01984  1.219565e+00   0.005769  2.221190e-09   0.376667   0.0000\n",
      "Counts  125.00000  2.300000e+01  26.000000  2.000000e+00  18.000000  20.0000\n"
     ]
    }
   ],
   "source": [
    "glassOut = ForwardSelect(glassMat, glassK, trace=True)\n",
    "printResults(glassOut, glassFeats)"
   ]
  },
  {
   "cell_type": "code",
   "execution_count": 675,
   "metadata": {
    "scrolled": true
   },
   "outputs": [
    {
     "name": "stdout",
     "output_type": "stream",
     "text": [
      "Best coeff: 0.483080\n",
      "Features and cluster centroids\n",
      "                 0          1          2          3             4          5\n",
      "RI        1.517430   1.516997   1.521391   1.514567  1.513837e+00   1.528267\n",
      "Na       13.117287  14.604231  13.596429  14.755714  1.334334e+01  11.867143\n",
      "Al        1.358062   2.163462   1.145952   1.650000  3.186662e+00   1.218571\n",
      "Si       72.805659  73.031538  72.208095  73.004286  7.035667e+01  71.672857\n",
      "K         0.571550   0.028462   0.241667   0.841429  4.699986e+00   0.251429\n",
      "Ca        8.438992   8.829615  10.291667   6.624286  6.586663e+00  14.315714\n",
      "Fe        0.062016   0.015000   0.065000   0.017143  9.295126e-17   0.137143\n",
      "Counts  129.000000  26.000000  42.000000   7.000000  3.000000e+00   7.000000\n"
     ]
    }
   ],
   "source": [
    "glassBrute = BruteForceSelect(glassMat, glassK)\n",
    "print(\"Best coeff: %f\"%glassBrute[-1])\n",
    "printResults(glassBrute, glassFeats)"
   ]
  },
  {
   "cell_type": "code",
   "execution_count": 497,
   "metadata": {},
   "outputs": [],
   "source": [
    "spamData = os.path.join('./data/', 'spambase.data')\n",
    "spamNames = ['make', 'address', 'all', '3d', 'our', 'over', 'remove',\n",
    "\t'internet', 'order', 'mail', 'receive', 'will', 'people', 'report',\n",
    "\t'addresses', 'free', 'business', 'email', 'you', 'credit', 'your', 'font',\n",
    "\t'0', 'money', 'hp', 'hpl', 'george', '650', 'lab', 'labs', 'telnet', '857',\n",
    "\t'data', '415', '85', 'technology', '1999', 'parts', 'pm', 'direct', 'cs',\n",
    "\t'meeting', 'original', 'project', 're', 'edu', 'table', 'conference',\n",
    "\t'semicolon', 'paren', 'bracket', 'exclaim', 'dollar', 'pound', 'capsAvg',\n",
    "\t'capsMax', 'capsTotal', 'class']\n",
    "#raw = pd.read_csv(spamData , names=spamNames)  # read CSV file\n",
    "\n",
    "#spamFeats = spamNames[:-1] # list of feature names\n",
    "#spamMat = raw[spamFeats].values # 2d-array of feature values\n",
    "#spamK = len(raw['class'].unique()) # number of classes\n",
    "\n",
    "spamMat,spamFeats,spamK,spamMeans = prepData(spamData,spamNames,slice(-1))"
   ]
  },
  {
   "cell_type": "code",
   "execution_count": 705,
   "metadata": {
    "scrolled": true
   },
   "outputs": [
    {
     "name": "stdout",
     "output_type": "stream",
     "text": [
      "[01] Best coeff=0.842031, set:[56]\n",
      "[02] Best coeff=0.847709, set:[56 55]\n",
      "[03] Best coeff=0.847709, set:[56 55]\n",
      "Features and cluster centroids\n",
      "                     0            1\n",
      "capsTotal   178.854717  2148.131147\n",
      "capsMax      32.760845   398.803279\n",
      "Counts     4357.000000   244.000000\n"
     ]
    }
   ],
   "source": [
    "spamOut = ForwardSelect(spamMat, spamK, trace=True) # run algorithm\n",
    "printResults(spamOut, spamFeats)"
   ]
  },
  {
   "cell_type": "code",
   "execution_count": 746,
   "metadata": {},
   "outputs": [],
   "source": [
    "################################################################################\n",
    "def evalFitness(dataMat, k, pop, preEval, dist): # eval fitness of individuals\n",
    "    fitness = np.empty(pop.shape[0]) # store fitness of individuals\n",
    "    for n,indv in enumerate(pop): # loop over populations one by one\n",
    "        gene = ''.join(['1' if x else '0' for x in indv]) # string repr of DNA\n",
    "        if gene in preEval: # combo of features previously evaluated\n",
    "            fitness[n] = preEval[gene] # recall from dict\n",
    "        else: # never evaluated before\n",
    "            means,labels = kMeans(dataMat[:,indv], k) # cluster w/ features\n",
    "            fitness[n] = Silhouette(dataMat,labels,dist).mean()+1 # fit > 0\n",
    "            preEval[gene] = fitness[n] # store into dict for memoization\n",
    "    return fitness,preEval\n",
    "\n",
    "def crossOver(pop, parentIdx):\n",
    "    popN = pop.shape[0]\n",
    "    idxDad = parentIdx[:len(parentIdx)//2] # first half of selected\n",
    "    idxMom = parentIdx[len(parentIdx)//2:] # second half of selected\n",
    "    breakPts = np.random.randint(1,pop.shape[1],popN//2) # x-over points\n",
    "    \n",
    "    out = np.empty(pop.shape, bool) # pre-allocate array for next gen\n",
    "    for n,(d,m) in enumerate(zip(idxDad,idxMom)): # loop over parents and cross\n",
    "        out[n] = np.hstack([ pop[d,:breakPts[n]],pop[m,breakPts[n]:] ])\n",
    "        out[popN-n-1] = np.hstack([ pop[m,:breakPts[n]],pop[d,breakPts[n]:] ])\n",
    "    out = minOneFeature(out)\n",
    "    return out\n",
    "\n",
    "def selectParents(fitness, popSize):\n",
    "    cumFit = np.cumsum((fitness+1)**3)\n",
    "    probVec = cumFit/cumFit[-1] # cum array of normalized fitness\n",
    "    rands = np.random.rand(popSize) # uniform random between 0,1\n",
    "    outInd = np.searchsorted(probVec, rands) # higher prob of select high fitness\n",
    "    return outInd\n",
    "\n",
    "def mutate(pop, prob):\n",
    "    toMutate = np.where(np.random.rand(pop.shape[0])<prob)[0] # idx of pop to mutate\n",
    "    mutatePts = np.random.randint(0,pop.shape[1],len(toMutate)) # where to mutate\n",
    "    for idx,n in zip(toMutate,mutatePts): # mutate selected individuals\n",
    "        pop[idx,n] = ~pop[idx,n] # flip the selection bit\n",
    "    pop = minOneFeature(pop) # all individuals must have 1 feature chosen\n",
    "    return pop\n",
    "\n",
    "def minOneFeature(pop): \n",
    "    noFeatIdx = pop.sum(axis=1)==0 # data pts with no features selected\n",
    "    for n in np.where(noFeatIdx)[0]: # loop over all data with no features\n",
    "        pop[n, np.random.randint(pop.shape[1])] = True # randomly select 1\n",
    "    return pop\n",
    "    \n",
    "################################################################################\n",
    "def geneticAlgoSelect(data, k, prm, trace=False):\n",
    "    pop = np.random.rand(prm['popSize'],data.shape[1]) < prm['onProb']\n",
    "    pop = minOneFeature(pop) # at least 1 feature must be selected\n",
    "    memo = dict() # dict of result for memoization\n",
    "    dMat = pairwiseDist(data) # pre-calc distance matrix for memoization\n",
    "    \n",
    "    baseFit = 0 # worst possible fitenss score\n",
    "    converged,gen,stagnGens = False,1,0 # initialize loop vars\n",
    "    while not converged: # loop until GA has converged\n",
    "        #print(np.asanyarray(pop,int))\n",
    "        fit,memo = evalFitness(data, k, pop, memo, dMat) # evaluate fitness\n",
    "        bestIdx = np.argmax(fit) # keep track of best indiviaul\n",
    "        bestFit,bestIndv = fit[bestIdx],pop[bestIdx] # best fit and features\n",
    "        #print((bestFit,np.where(bestIndv)[0]))\n",
    "\n",
    "        if (bestFit-baseFit < prm['minImprove']) and stagnGens>prm['stagnLim']:\n",
    "            converged = True\n",
    "            out = baseFit-1,np.where(baseIndv)[0] # silhouette coeff and list\n",
    "        else: # not converged, selection + crossover + mutation\n",
    "            if (bestFit-baseFit < prm['minImprove']):\n",
    "                stagnGens += 1\n",
    "            else:\n",
    "                baseFit,baseIndv = bestFit,bestIndv # record long-run best\n",
    "            parentInd = selectParents(fit, pop.shape[0]) # select parents\n",
    "            pop = crossOver(pop, parentInd) # cross-over to get next gen\n",
    "            pop = mutate(pop,prm['mutateProb']) # mutate\n",
    "\n",
    "        if trace:\n",
    "            print('Generation %d: best fitness = %.10f'%(gen,bestFit))\n",
    "            print('\\tBest set: %s'%str(np.where(bestIndv)[0]))\n",
    "        gen += 1\n",
    "    return out"
   ]
  },
  {
   "cell_type": "code",
   "execution_count": 759,
   "metadata": {},
   "outputs": [
    {
     "name": "stdout",
     "output_type": "stream",
     "text": [
      "Generation 1: best fitness = 1.3957205447\n",
      "\tBest set: [1 6 8]\n",
      "Generation 2: best fitness = 1.3504467709\n",
      "\tBest set: [2 5]\n",
      "Generation 3: best fitness = 1.3504467709\n",
      "\tBest set: [2 5]\n",
      "Generation 4: best fitness = 1.3504467709\n",
      "\tBest set: [2 5]\n",
      "Generation 5: best fitness = 1.3957205447\n",
      "\tBest set: [1 6]\n",
      "Generation 6: best fitness = 1.4304823898\n",
      "\tBest set: [3 5 6 7 8]\n",
      "Generation 7: best fitness = 1.4304823898\n",
      "\tBest set: [3 5 6 7]\n",
      "Best coeff: 0.430482\n",
      "Features and cluster centroids\n",
      "                 0          1             2       3             4          5\n",
      "Al        1.349259   2.301667  1.103611e+00   1.898  2.568333e+00   1.278889\n",
      "K         0.555926   0.137778  2.052778e-01   0.031  3.121667e+00   0.267778\n",
      "Ca        8.408741   9.082778  1.029333e+01   8.516  6.241667e+00  13.883333\n",
      "Ba        0.010667   0.501111  2.077491e-15   1.595  1.316667e+00   0.350000\n",
      "Fe        0.061407   0.051111  5.222222e-02   0.015  2.564399e-10   0.106667\n",
      "Counts  135.000000  18.000000  3.600000e+01  10.000  6.000000e+00   9.000000\n"
     ]
    }
   ],
   "source": [
    "################################################################################\n",
    "glassPrm = {'popSize':50, 'minImprove':0.01, 'mutateProb':0.1, 'onProb':0.1,\n",
    "          'stagnLim': 3}\n",
    "out = geneticAlgoSelect(glassMat, glassK, glassPrm, trace=True)\n",
    "print(\"Best coeff: %f\"%out[0])\n",
    "out2 = kMeans(glassMat[:,out[1]], glassK)\n",
    "printResults((out[1],out2[0],out2[1]), glassFeats)"
   ]
  },
  {
   "cell_type": "code",
   "execution_count": 761,
   "metadata": {},
   "outputs": [
    {
     "name": "stdout",
     "output_type": "stream",
     "text": [
      "Generation 1: best fitness = 1.8420312611\n",
      "\tBest set: [23 27 29 42 46 56]\n",
      "Generation 2: best fitness = 1.8420312611\n",
      "\tBest set: [ 3 32 56]\n",
      "Generation 3: best fitness = 1.8477090602\n",
      "\tBest set: [21 27 48 55 56]\n",
      "Generation 4: best fitness = 1.8477090602\n",
      "\tBest set: [ 6 18 19 21 27 48 55 56]\n",
      "Generation 5: best fitness = 1.8420312611\n",
      "\tBest set: [ 2 27 56]\n",
      "Generation 6: best fitness = 1.8477090602\n",
      "\tBest set: [55 56]\n"
     ]
    },
    {
     "data": {
      "text/plain": [
       "(0.8420312611053309, array([23, 27, 29, 42, 46, 56], dtype=int64))"
      ]
     },
     "execution_count": 761,
     "metadata": {},
     "output_type": "execute_result"
    }
   ],
   "source": [
    "################################################################################\n",
    "spamPrm = {'popSize':100, 'minImprove':0.01, 'mutateProb':0.05, 'onProb':0.05,\n",
    "          'stagnLim': 3}\n",
    "geneticAlgoSelect(spamMat, spamK, spamPrm, trace=True)"
   ]
  },
  {
   "cell_type": "code",
   "execution_count": 721,
   "metadata": {},
   "outputs": [
    {
     "name": "stdout",
     "output_type": "stream",
     "text": [
      "[2 2 2 1 1 1 2 1 2 1 2 1 1 2 2]\n",
      "[-0.1704883  -0.14702439 -0.1482036   0.21342786  0.20650958  0.22240796\n",
      " -0.15010846  0.21393639 -0.17083812  0.22790979  0.14201912 -0.11624433\n",
      " -0.1109911   0.13400671  0.1363605 ]\n"
     ]
    }
   ],
   "source": [
    "testY_bad = np.random.randint(1,3,15)\n",
    "print(testY_bad)\n",
    "print(Silhouette(testX,testY_bad))"
   ]
  },
  {
   "cell_type": "code",
   "execution_count": 695,
   "metadata": {},
   "outputs": [
    {
     "name": "stdout",
     "output_type": "stream",
     "text": [
      "[[ 1.09358709  1.03347603  1.0959687 ]\n",
      " [10.01969228 10.06036641 10.00798611]\n",
      " [11.03935893 11.06572294 11.04024076]\n",
      " [11.0749028  10.05744201 11.00251991]\n",
      " [ 2.04587169  2.01376558  1.02323262]\n",
      " [ 1.54765144  1.59813284  1.55391589]\n",
      " [12.01736099 12.07408518 12.0918329 ]]\n",
      "[0.95669206 0.88681422 0.93194897 0.92324479 0.95426446 0.96528731\n",
      " 0.89463319]\n",
      "[ 0.3415154  -0.16742914  0.34283323 -0.24885527 -0.29067762  0.33595025\n",
      "  0.39107926]\n"
     ]
    }
   ],
   "source": [
    "testX = np.array([[1,1,1],[10,10,10],[11,11,11],[11,10,11],\n",
    "                  [2,2,1],[1.5,1.5,1.5],[12,12,12]]) + np.random.random([7,3])/10\n",
    "testY = np.array([1,2,2,2,1,1,2])\n",
    "testY_bad = np.array([2,2,1,2,1,2,1])\n",
    "print(testX)\n",
    "\n",
    "print(Silhouette(testX,testY))\n",
    "print(Silhouette(testX,testY_bad))"
   ]
  },
  {
   "cell_type": "code",
   "execution_count": 732,
   "metadata": {},
   "outputs": [
    {
     "name": "stdout",
     "output_type": "stream",
     "text": [
      "[[3.17723658e-312 3.17723102e-312 4.32700440e+006 ... 7.20032292e+003\n",
      "  8.18615233e+006 5.17169939e+005]\n",
      " [2.12735983e+004 2.11072850e-002 3.26206935e+005 ... 1.86151549e+003\n",
      "  1.47507910e+002 4.20613426e+003]\n",
      " [2.21577266e+004 1.28018552e+004 1.27361870e+004 ... 6.75922867e+005\n",
      "  3.11974936e+003 2.29007389e+003]\n",
      " ...\n",
      " [0.00000000e+000 0.00000000e+000 0.00000000e+000 ... 0.00000000e+000\n",
      "  0.00000000e+000 0.00000000e+000]\n",
      " [0.00000000e+000 0.00000000e+000 0.00000000e+000 ... 0.00000000e+000\n",
      "  0.00000000e+000 0.00000000e+000]\n",
      " [0.00000000e+000 0.00000000e+000 0.00000000e+000 ... 0.00000000e+000\n",
      "  0.00000000e+000 0.00000000e+000]]\n"
     ]
    }
   ],
   "source": [
    "print(np.empty([1000,50]))"
   ]
  },
  {
   "cell_type": "markdown",
   "metadata": {},
   "source": [
    "## Sources\n",
    "\n",
    "- [A Modified k-means Algorithm to Avoid Empty Clusters](http://citeseerx.ist.psu.edu/viewdoc/download?doi=10.1.1.379.3148&rep=rep1&type=pdf)"
   ]
  }
 ],
 "metadata": {
  "kernelspec": {
   "display_name": "Python 3",
   "language": "python",
   "name": "python3"
  },
  "language_info": {
   "codemirror_mode": {
    "name": "ipython",
    "version": 3
   },
   "file_extension": ".py",
   "mimetype": "text/x-python",
   "name": "python",
   "nbconvert_exporter": "python",
   "pygments_lexer": "ipython3",
   "version": "3.6.5"
  }
 },
 "nbformat": 4,
 "nbformat_minor": 2
}
