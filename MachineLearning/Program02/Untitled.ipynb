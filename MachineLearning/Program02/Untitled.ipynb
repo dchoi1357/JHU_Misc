{
 "cells": [
  {
   "cell_type": "code",
   "execution_count": 1,
   "metadata": {},
   "outputs": [],
   "source": [
    "import numpy as np\n",
    "import pandas as pd"
   ]
  },
  {
   "cell_type": "code",
   "execution_count": 2,
   "metadata": {},
   "outputs": [],
   "source": [
    "x = np.random.randint(5, size=[10,4]) +10\n",
    "y = np.random.randint(5, size=[10,4])"
   ]
  },
  {
   "cell_type": "code",
   "execution_count": 3,
   "metadata": {},
   "outputs": [],
   "source": [
    "def pairwiseDist(x, y=None):\n",
    "    if y is None:\n",
    "        y = x\n",
    "    return np.sum((x[:,None]-y)**2,axis=2)**0.5\n",
    "\n",
    "def arrayDist(x,y):\n",
    "    return np.sum((x-y)**2,axis=1)**0.5\n",
    "\n",
    "def errRates(pred, actual):\n",
    "    return (actual!=pred).sum() / pred.size # return error rate"
   ]
  },
  {
   "cell_type": "code",
   "execution_count": 49,
   "metadata": {},
   "outputs": [
    {
     "data": {
      "text/plain": [
       "array([[ 0.        ,  4.24264069,  4.12310563,  3.31662479,  5.09901951,\n",
       "         4.24264069,  4.        ,  3.74165739,  3.16227766,  4.24264069],\n",
       "       [ 4.24264069,  0.        ,  1.        ,  1.73205081,  4.47213595,\n",
       "         3.74165739,  4.24264069,  2.        ,  2.44948974,  0.        ],\n",
       "       [ 4.12310563,  1.        ,  0.        ,  1.41421356,  3.87298335,\n",
       "         3.        ,  4.58257569,  2.64575131,  3.        ,  1.        ]])"
      ]
     },
     "execution_count": 49,
     "metadata": {},
     "output_type": "execute_result"
    }
   ],
   "source": [
    "pairwiseDist(x[:3], x)"
   ]
  },
  {
   "cell_type": "code",
   "execution_count": 43,
   "metadata": {
    "collapsed": true
   },
   "outputs": [],
   "source": [
    "def initMeans(data, n, algo=1):\n",
    "    if algo==1: # choose n random points\n",
    "        idx = np.random.choice(range(data.shape[0]), n, False) # no replace\n",
    "        out = data[idx,]\n",
    "    if algo==2: # random means points (0,1)\n",
    "        out = np.random.random([n,data.shape[1]])\n",
    "        \n",
    "    return out\n",
    "\n",
    "def updateMeans(data, means, k):\n",
    "    ## Assign each pt to the mean for which it has the shortest distance\n",
    "    tmpDist = pairwiseDist(means,data) # dist between means and all data pts\n",
    "    #print(tmpDist)\n",
    "    minDist = tmpDist.argmin(axis=0) # group where data pt has min distance\n",
    "\n",
    "    ## Calculate new means to be centroid of all the points in the group\n",
    "    newMeans = np.zeros([k,data.shape[1]]) # new mean points\n",
    "    for n,x in enumerate(means): # loop over all clusters\n",
    "        tmp = np.vstack( (data[minDist==n,],x) ) # concat data pt and centroid\n",
    "        newMeans[n] = tmp.mean(axis=0) # new mean = centroid of all pts \n",
    "    \n",
    "    return newMeans,minDist\n",
    "\n",
    "################################################################################\n",
    "\n",
    "def kMeans(data, k, trace=False, initAlgo=1):\n",
    "    means = initMeans(data, k, initAlgo) # initialize mean points\n",
    "    for n in range(5):\n",
    "        if trace:\n",
    "            print(means)\n",
    "        means,grpIdx = updateMeans(data, means, k)\n",
    "    return means,grpIdx # return final centroids and labels"
   ]
  },
  {
   "cell_type": "code",
   "execution_count": 40,
   "metadata": {},
   "outputs": [
    {
     "name": "stdout",
     "output_type": "stream",
     "text": [
      "[[ 0.          4.24264069  4.12310563  3.31662479  5.09901951  4.24264069\n",
      "   4.          3.74165739  3.16227766  4.24264069]\n",
      " [ 4.24264069  0.          1.          1.73205081  4.47213595  3.74165739\n",
      "   4.24264069  2.          2.44948974  0.        ]\n",
      " [ 4.12310563  1.          0.          1.41421356  3.87298335  3.\n",
      "   4.58257569  2.64575131  3.          1.        ]]\n",
      "[[ 0.          4.24264069  4.12310563  3.31662479  5.09901951  4.24264069\n",
      "   4.          3.74165739  3.16227766  4.24264069]\n",
      " [ 4.24264069  0.          1.          1.73205081  4.47213595  3.74165739\n",
      "   4.24264069  2.          2.44948974  0.        ]\n",
      " [ 4.12310563  1.          0.          1.41421356  3.87298335  3.\n",
      "   4.58257569  2.64575131  3.          1.        ]]\n"
     ]
    },
    {
     "data": {
      "text/plain": [
       "(array([[ 11.66666667,  12.66666667,  13.33333333,  12.66666667],\n",
       "        [ 11.4       ,  11.2       ,  10.6       ,  13.4       ],\n",
       "        [ 11.8       ,  10.8       ,  10.6       ,  11.2       ]]),\n",
       " array([0, 1, 2, 2, 2, 2, 0, 1, 1, 1]))"
      ]
     },
     "execution_count": 40,
     "metadata": {},
     "output_type": "execute_result"
    }
   ],
   "source": [
    "updateMeans(x, x[:3], 3)"
   ]
  },
  {
   "cell_type": "code",
   "execution_count": 47,
   "metadata": {},
   "outputs": [
    {
     "name": "stdout",
     "output_type": "stream",
     "text": [
      "[[ 0.46323279  0.51412241  0.93678707  0.29727731]\n",
      " [ 0.12199274  0.58031046  0.15226517  0.46345296]]\n",
      "[[ 7.35906849  7.13967347  7.38537706  7.51651541]\n",
      " [ 1.28049819  0.89507761  0.03806629  2.36586324]]\n",
      "[[ 11.39627895  11.01269759  10.8532161   11.95604686]\n",
      " [  1.84368165   1.62682524   1.82164239   2.03326029]]\n",
      "[[ 11.76329809  11.36479069  11.16847419  12.35964062]\n",
      " [  1.89488015   1.69334775   1.98378567   2.00302366]]\n",
      "[[ 11.79666346  11.39679915  11.19713402  12.39633097]\n",
      " [  1.89953456   1.69939525   1.99852597   2.00027488]]\n"
     ]
    },
    {
     "data": {
      "text/plain": [
       "array([[ 11.79969668,  11.39970901,  11.19973946,  12.39966645],\n",
       "       [  1.89995769,   1.69994502,   1.999866  ,   2.00002499]])"
      ]
     },
     "execution_count": 47,
     "metadata": {},
     "output_type": "execute_result"
    }
   ],
   "source": [
    "z = np.vstack([x,y])\n",
    "\n",
    "kMeans(z, 2, True, 2)"
   ]
  },
  {
   "cell_type": "code",
   "execution_count": null,
   "metadata": {
    "collapsed": true
   },
   "outputs": [],
   "source": []
  },
  {
   "cell_type": "code",
   "execution_count": null,
   "metadata": {
    "collapsed": true
   },
   "outputs": [],
   "source": [
    "def ForSelect(data, classVec):\n",
    "    k = len(np.unique(classVec))\n",
    "    err = np.Infinity # largest error possible\n",
    "    \n",
    "    while "
   ]
  },
  {
   "cell_type": "code",
   "execution_count": 50,
   "metadata": {},
   "outputs": [],
   "source": [
    "def Silhouette(data, labels):\n",
    "    nData = data.shape[0]\n",
    "    \n",
    "    ################################################################################\n",
    "    uniqKs,invIdx = np.unique(labels, return_inverse=True) # unique K and inv indx\n",
    "    allDists = pairwiseDist(data) # pre-calc all pairwise dist for memoization\n",
    "    grpIdx = pd.Series(labels).groupby(labels).groups.items() # idx for each group\n",
    "    \n",
    "    aVals,bVals = np.zeros(nData),np.zeros(nData) # pre-allocate a's and b's\n",
    "    for grp,idx in grpIdx: # loop over all groups\n",
    "        aVals[idx] = allDists[idx,idx].mean(axis=0) # a's for all data pts in class\n",
    "        \n",
    "        # loop over all groups that's not the current gruop\n",
    "        tmp = np.zeros([len(idx),len(grpIdx)-1]) # tmp for all b's for curr grp\n",
    "        for n,(_,outIdx) in enumerate([x for x in grpIdx if x[0]!=grp]):\n",
    "            tmp[n,] = allDists[idx,outIdx].mean(axis=0) # mean dist of out-group\n",
    "        print(tmp)\n",
    "        print(idx)\n",
    "        bVals[idx] = np.min(tmp, axis=1)\n",
    "        \n",
    "    return (bVals-aVals)/np.maximum(aVals,bVals) # calc and return silhouette coeff\n"
   ]
  },
  {
   "cell_type": "code",
   "execution_count": 57,
   "metadata": {},
   "outputs": [
    {
     "name": "stdout",
     "output_type": "stream",
     "text": [
      "[[ 1.08099425  1.022068    1.0644936 ]\n",
      " [10.08191943 10.04202835 10.05573231]\n",
      " [11.02779647 11.08240859 11.04466729]\n",
      " [ 2.0020292   2.09433134  1.0456484 ]\n",
      " [ 1.5609202   1.54609669  1.5181049 ]\n",
      " [12.06231991 12.07028084 12.05602924]]\n"
     ]
    }
   ],
   "source": [
    "testX = np.array([[1,1,1],[10,10,10],[11,11,11],\n",
    "                  [2,2,1],[1.5,1.5,1.5],[12,12,12]]) + np.random.random([6,3])/10\n",
    "testY = np.array([1,2,2,1,1,2])\n",
    "print(testX)"
   ]
  },
  {
   "cell_type": "code",
   "execution_count": 58,
   "metadata": {},
   "outputs": [
    {
     "name": "stdout",
     "output_type": "stream",
     "text": [
      "[[16.67073956]\n",
      " [ 0.        ]\n",
      " [ 0.        ]]\n",
      "Int64Index([0, 3, 4], dtype='int64')\n",
      "[[16.67073956]\n",
      " [ 0.        ]\n",
      " [ 0.        ]]\n",
      "Int64Index([1, 2, 5], dtype='int64')\n"
     ]
    },
    {
     "name": "stderr",
     "output_type": "stream",
     "text": [
      "C:\\ProgramData\\Anaconda3\\lib\\site-packages\\ipykernel_launcher.py:21: RuntimeWarning: invalid value encountered in true_divide\n"
     ]
    },
    {
     "data": {
      "text/plain": [
       "array([ 1.,  1., nan, nan, nan, nan])"
      ]
     },
     "execution_count": 58,
     "metadata": {},
     "output_type": "execute_result"
    }
   ],
   "source": [
    "Silhouette(testX,testY)"
   ]
  },
  {
   "cell_type": "code",
   "execution_count": 55,
   "metadata": {},
   "outputs": [
    {
     "data": {
      "text/plain": [
       "array([[0.04017776, 0.06630331, 0.09935284, 0.09698802],\n",
       "       [0.06445735, 0.05550504, 0.0328987 , 0.08139582],\n",
       "       [0.01785217, 0.02968005, 0.02322455, 0.00259945],\n",
       "       [0.04867259, 0.07075442, 0.05013823, 0.02000517],\n",
       "       [0.09423152, 0.03031394, 0.09158001, 0.01274519]])"
      ]
     },
     "execution_count": 55,
     "metadata": {},
     "output_type": "execute_result"
    }
   ],
   "source": [
    "np.random.random([5,4])/10"
   ]
  },
  {
   "cell_type": "markdown",
   "metadata": {},
   "source": [
    "## Sources\n",
    "\n",
    "- [A Modified k-means Algorithm to Avoid Empty Clusters](http://citeseerx.ist.psu.edu/viewdoc/download?doi=10.1.1.379.3148&rep=rep1&type=pdf)"
   ]
  }
 ],
 "metadata": {
  "kernelspec": {
   "display_name": "Python 3",
   "language": "python",
   "name": "python3"
  },
  "language_info": {
   "codemirror_mode": {
    "name": "ipython",
    "version": 3
   },
   "file_extension": ".py",
   "mimetype": "text/x-python",
   "name": "python",
   "nbconvert_exporter": "python",
   "pygments_lexer": "ipython3",
   "version": "3.7.0"
  }
 },
 "nbformat": 4,
 "nbformat_minor": 2
}
