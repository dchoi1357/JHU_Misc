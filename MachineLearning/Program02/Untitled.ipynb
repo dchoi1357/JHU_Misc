{
 "cells": [
  {
   "cell_type": "code",
   "execution_count": 1,
   "metadata": {
    "collapsed": true
   },
   "outputs": [],
   "source": [
    "import numpy as np\n",
    "import pandas as pd"
   ]
  },
  {
   "cell_type": "code",
   "execution_count": 9,
   "metadata": {
    "collapsed": true
   },
   "outputs": [],
   "source": [
    "x = np.random.randint(5, size=[10,4])\n",
    "y = np.random.randint(5, size=[10,4])"
   ]
  },
  {
   "cell_type": "code",
   "execution_count": 26,
   "metadata": {},
   "outputs": [],
   "source": [
    "def initMeans(data, n, algo=1):\n",
    "    if algo==1: # choose n random points\n",
    "        idx = np.random.choice(range(data.shape[0]), n, False) # no replace\n",
    "        out = data[idx,]\n",
    "    if algo==2: # random means points (0,1)\n",
    "        out = np.random.random([n,data.shape[1]])\n",
    "        \n",
    "    return out\n",
    "\n",
    "################################################################################\n",
    "def arrayDist(x,y):\n",
    "    return np.sum((x-y)**2,axis=1)**0.5"
   ]
  },
  {
   "cell_type": "code",
   "execution_count": 57,
   "metadata": {},
   "outputs": [],
   "source": [
    "def updateMeans(data, means):\n",
    "    k = means.shape[0] # number of groups\n",
    "    \n",
    "    ## Assign each pt to the mean for which it has the shortest distance\n",
    "    tmpDist = np.zeros([k, data.shape[0]]) # temp array for storing distances\n",
    "    for n,x in enumerate(means): # loop over all data points\n",
    "        tmpDist[n] = arrayDist(x,data) # distance from this mean to all pts\n",
    "    print(tmpDist)\n",
    "    minDist = tmpDist.argmin(axis=0) # group where data pt has min distance\n",
    "\n",
    "    ## Calculate new means to be centroid of all the points in the group\n",
    "    newMeans = np.zeros([k,data.shape[1]]) # new mean points\n",
    "    for n,x in enumerate(means): # loop over all clusters\n",
    "        tmp = np.vstack((data[minDist==n,],x)) # concat data pt and centroid\n",
    "        newMeans[n] = tmp.mean(axis=0) # new mean = centroid of all pts \n",
    "    \n",
    "    return newMeans,minDist\n",
    "\n",
    "def kMeans(data, k, trace=False, initAlgo=1):\n",
    "    means = initMeans(data, k, initAlgo) # initialize mean points\n",
    "    for n in range(5):\n",
    "        if trace:\n",
    "            print(means)\n",
    "        means,grpIdx = updateMeans(data, means)\n",
    "    return means # return final centroids"
   ]
  },
  {
   "cell_type": "code",
   "execution_count": 58,
   "metadata": {},
   "outputs": [
    {
     "name": "stdout",
     "output_type": "stream",
     "text": [
      "[[ 0.96608571  0.62364099  0.42399635  0.56558157]\n",
      " [ 0.55761653  0.26217732  0.72365564  0.65842646]]\n",
      "[[ 21.94949902  19.79832029  20.89403435  21.98218816  22.4447161\n",
      "   23.83391611   4.26721389   3.72618271   4.28255502   3.25154043\n",
      "    2.2804982    2.97256578]\n",
      " [ 22.06984427  19.96661342  21.01524614  22.15814153  22.72147357\n",
      "   23.97780621   4.65642383   3.32330911   4.69032363   3.52337043\n",
      "    2.72470087   2.77878546]]\n",
      "[[ 7.17873506  7.14760373  6.94763603  7.05141651]\n",
      " [ 0.51920551  0.42072577  2.24121855  1.88614215]]\n",
      "[[  9.3843156    7.0640714    8.2654777    9.43954574   9.93937965\n",
      "   11.09051283   9.40574186  11.60259808  10.07823462   9.69306772\n",
      "   11.27402218  10.81990931]\n",
      " [ 20.56552683  18.55092367  19.50542853  20.75835488  21.58711048\n",
      "   22.49948034   4.45072799   1.50433146   4.75197474   2.95289661\n",
      "    3.11815388   1.07491157]]\n",
      "[[ 10.59696215  10.44965768  10.99251943  11.2930595 ]\n",
      " [  1.78845793   1.91724654   2.03445979   1.69802031]]\n",
      "[[  3.08146958   1.42948086   2.16204022   3.32754366   4.55433972\n",
      "    3.6917336   16.91521202  18.81877135  17.54167942  17.21443898\n",
      "   18.77500763  18.21095919]\n",
      " [ 19.49062312  17.38795396  18.42634595  19.59285267  20.10775675\n",
      "   21.40919845   2.50880768   3.08250467   2.94790716   1.25182328\n",
      "    2.06925507   1.57685343]]\n",
      "[[ 11.08528031  10.92137967  11.57035992  11.8990085 ]\n",
      " [  1.9697797    2.13103522   2.00492283   1.67114576]]\n",
      "[[  2.75092356   2.12202813   2.20881436   3.03668417   4.34609214\n",
      "    2.70202319  17.99048163  19.86966016  18.61331369  18.29056946\n",
      "   19.84935594  19.27662034]\n",
      " [ 19.34876955  17.23402256  18.28453686  19.43715025  19.90355917\n",
      "   21.2639654    2.23715088   3.3432582    2.71056001   1.08935459\n",
      "    2.03615917   1.82154798]]\n",
      "[[ 11.15504004  10.98876852  11.65290856  11.98557264]\n",
      " [  1.99568281   2.16157646   2.00070326   1.66730654]]\n",
      "[[  2.73530479   2.2459064    2.25782849   3.02435628   4.33744794\n",
      "    2.56644821  18.14411788  20.02002234  18.76646367  18.44432006\n",
      "   20.00286621  19.42896864]\n",
      " [ 19.32875839  17.21230024  18.26454689  19.41514223  19.87454615\n",
      "   21.24344487   2.19857968   3.38080294   2.67738038   1.07025483\n",
      "    2.03460661   1.85739685]]\n"
     ]
    },
    {
     "data": {
      "text/plain": [
       "array([[ 11.16500572,  10.9983955 ,  11.66470122,  11.99793895],\n",
       "       [  1.99938326,   2.16593949,   2.00010047,   1.66675808]])"
      ]
     },
     "execution_count": 58,
     "metadata": {},
     "output_type": "execute_result"
    }
   ],
   "source": [
    "x = np.random.randint(5, size=[6,4]) +10 \n",
    "y = np.random.randint(5, size=[6,4])\n",
    "\n",
    "z = np.vstack([x,y])\n",
    "\n",
    "kMeans(z, 2, True, 2)"
   ]
  },
  {
   "cell_type": "code",
   "execution_count": null,
   "metadata": {
    "collapsed": true
   },
   "outputs": [],
   "source": [
    "def ForSelect(data, classVec):\n",
    "    k = len(np.unique(classVec))\n",
    "    err = np.Infinity # largest error possible\n",
    "    \n",
    "    while "
   ]
  },
  {
   "cell_type": "code",
   "execution_count": 11,
   "metadata": {},
   "outputs": [
    {
     "data": {
      "text/plain": [
       "array([[12,  0,  8,  9],\n",
       "       [ 0,  3, 16, 12],\n",
       "       [12,  1,  8,  6],\n",
       "       [ 0,  4,  4,  0],\n",
       "       [12,  4,  0,  0],\n",
       "       [ 9,  4,  4,  9]])"
      ]
     },
     "execution_count": 11,
     "metadata": {},
     "output_type": "execute_result"
    }
   ],
   "source": [
    "y*x[1,]"
   ]
  },
  {
   "cell_type": "markdown",
   "metadata": {},
   "source": [
    "## Sources\n",
    "\n",
    "- [A Modified k-means Algorithm to Avoid Empty Clusters](http://citeseerx.ist.psu.edu/viewdoc/download?doi=10.1.1.379.3148&rep=rep1&type=pdf)"
   ]
  }
 ],
 "metadata": {
  "kernelspec": {
   "display_name": "Python 3",
   "language": "python",
   "name": "python3"
  },
  "language_info": {
   "codemirror_mode": {
    "name": "ipython",
    "version": 3
   },
   "file_extension": ".py",
   "mimetype": "text/x-python",
   "name": "python",
   "nbconvert_exporter": "python",
   "pygments_lexer": "ipython3",
   "version": "3.6.3"
  }
 },
 "nbformat": 4,
 "nbformat_minor": 2
}
