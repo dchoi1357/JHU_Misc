{
 "cells": [
  {
   "cell_type": "code",
   "execution_count": 1,
   "metadata": {},
   "outputs": [],
   "source": [
    "import numpy as np\n",
    "import pandas as pd\n",
    "import os"
   ]
  },
  {
   "cell_type": "code",
   "execution_count": 4,
   "metadata": {},
   "outputs": [],
   "source": [
    "x = np.random.randint(5, size=[10,4]) +10\n",
    "y = np.random.randint(5, size=[10,4])"
   ]
  },
  {
   "cell_type": "code",
   "execution_count": 2,
   "metadata": {},
   "outputs": [],
   "source": [
    "def pairwiseDist(x, y=None):\n",
    "    if y is None:\n",
    "        y = x\n",
    "    return np.sum((x[:,None]-y)**2,axis=2)**0.5\n",
    "\n",
    "def arrayDist(x,y):\n",
    "    return np.sum((x-y)**2,axis=1)**0.5\n",
    "\n",
    "def errRates(pred, actual):\n",
    "    return (actual!=pred).sum() / pred.size # return error rate"
   ]
  },
  {
   "cell_type": "code",
   "execution_count": 57,
   "metadata": {},
   "outputs": [],
   "source": [
    "def initMeans(data, n, algo=1):\n",
    "    if algo==1: # choose n random points\n",
    "        idx = np.random.choice(range(data.shape[0]), n, False) # no replace\n",
    "        out = data[idx,]\n",
    "    if algo==2: # random means points (0,1)\n",
    "        out = np.random.random([n,data.shape[1]])\n",
    "    if algo==3: # always take first n point as centroid\n",
    "        out = data[:n,]\n",
    "    return out\n",
    "\n",
    "def shortestCentroid(centr, mat):\n",
    "    tmpDist = pairwiseDist(centr,mat) # dist between means and all data pts\n",
    "    return tmpDist.argmin(axis=0) # find group where distance is smallest\n",
    "\n",
    "def updateMeans(data, means):\n",
    "    ## Assign each pt to the mean for which it has the shortest distance\n",
    "    tmpDist = pairwiseDist(means,data) # dist between means and all data pts\n",
    "    minDist = tmpDist.argmin(axis=0) # find group where distance is smallest\n",
    "\n",
    "    ## Calculate new means to be centroid of all the points in the group\n",
    "    newMeans = np.zeros([len(means),data.shape[1]]) # new mean points\n",
    "    for n,x in enumerate(means): # loop over all clusters\n",
    "        tmp = np.vstack( (data[minDist==n,],x) ) # concat data pt and centroid\n",
    "        newMeans[n] = tmp.mean(axis=0) # new mean = centroid of all pts \n",
    "    \n",
    "    return newMeans,minDist\n",
    "\n",
    "################################################################################\n",
    "def kMeans(data, k, trace=False, initAlgo=1):\n",
    "    means = initMeans(data, k, initAlgo) # initialize mean points\n",
    "    converged = False\n",
    "    while not converged:\n",
    "        newMeans,grpIdx = updateMeans(data, means)\n",
    "        converged = np.allclose(means,newMeans)\n",
    "        if trace:\n",
    "            print(means)\n",
    "        means = newMeans\n",
    "        \n",
    "    return means,grpIdx # return final centroids and labels"
   ]
  },
  {
   "cell_type": "code",
   "execution_count": 112,
   "metadata": {},
   "outputs": [
    {
     "data": {
      "text/plain": [
       "(array([[13.33333333, 14.        , 14.        , 13.        ],\n",
       "        [11.        , 12.5       , 10.375     , 11.875     ],\n",
       "        [10.        , 11.        , 14.        , 12.        ]]),\n",
       " array([0, 1, 2, 1, 1, 1, 1, 1, 0, 1], dtype=int64))"
      ]
     },
     "execution_count": 112,
     "metadata": {},
     "output_type": "execute_result"
    }
   ],
   "source": [
    "updateMeans(x, x[:3])"
   ]
  },
  {
   "cell_type": "code",
   "execution_count": 113,
   "metadata": {},
   "outputs": [
    {
     "name": "stdout",
     "output_type": "stream",
     "text": [
      "[[0.37447605 0.12174801 0.34172695 0.38724677]\n",
      " [0.29682263 0.21363869 0.96782684 0.33721441]]\n",
      "[[2.34361901 2.530437   0.08543174 1.59681169]\n",
      " [6.73871237 7.95631326 7.38710149 7.6854008 ]]\n",
      "[[2.34361901 2.530437   0.08543174 1.59681169]\n",
      " [6.73871237 7.95631326 7.38710149 7.6854008 ]]\n",
      "[[ 1.57669264  2.68458518  1.55322107  2.23607379]\n",
      " [11.06715567 12.17784666 11.12610014 11.6986728 ]]\n",
      "[[ 1.57669264  2.68458518  1.55322107  2.23607379]\n",
      " [11.06715567 12.17784666 11.12610014 11.6986728 ]]\n",
      "[[ 1.50697206  2.69859865  1.68665646  2.29418853]\n",
      " [11.46065052 12.56162242 11.4660091  12.06351571]]\n",
      "[[ 1.50697206  2.69859865  1.68665646  2.29418853]\n",
      " [11.46065052 12.56162242 11.4660091  12.06351571]]\n",
      "[[ 1.50063382  2.6998726   1.69878695  2.29947168]\n",
      " [11.49642277 12.59651113 11.49690992 12.09668325]]\n",
      "[[ 1.50063382  2.6998726   1.69878695  2.29947168]\n",
      " [11.49642277 12.59651113 11.49690992 12.09668325]]\n",
      "[[ 1.50005762  2.69998842  1.69988972  2.29995197]\n",
      " [11.4996748  12.59968283 11.49971908 12.09969848]]\n",
      "[[ 1.50005762  2.69998842  1.69988972  2.29995197]\n",
      " [11.4996748  12.59968283 11.49971908 12.09969848]]\n",
      "[[ 1.50000524  2.69999895  1.69998997  2.29999563]\n",
      " [11.49997044 12.59997117 11.49997446 12.09997259]]\n",
      "[[ 1.50000524  2.69999895  1.69998997  2.29999563]\n",
      " [11.49997044 12.59997117 11.49997446 12.09997259]]\n",
      "[[ 1.50000048  2.6999999   1.69999909  2.2999996 ]\n",
      " [11.49999731 12.59999738 11.49999768 12.09999751]]\n"
     ]
    },
    {
     "data": {
      "text/plain": [
       "(array([[ 1.50000048,  2.6999999 ,  1.69999909,  2.2999996 ],\n",
       "        [11.49999731, 12.59999738, 11.49999768, 12.09999751]]),\n",
       " array([1, 1, 1, 1, 1, 1, 1, 1, 1, 1, 0, 0, 0, 0, 0, 0, 0, 0, 0, 0],\n",
       "       dtype=int64))"
      ]
     },
     "execution_count": 113,
     "metadata": {},
     "output_type": "execute_result"
    }
   ],
   "source": [
    "z = np.vstack([x,y])\n",
    "\n",
    "kMeans(z, 2, True, 2)"
   ]
  },
  {
   "cell_type": "code",
   "execution_count": 23,
   "metadata": {},
   "outputs": [],
   "source": [
    "def SelectBestFeature(dataMat, selected, Nk, dists):\n",
    "    # get list of index of currently unselected features\n",
    "    unselect = np.where(~np.isin(np.arange(dataMat.shape[1]),selected))[0]\n",
    "    bestCoeff = -1-1e-9 # worst possible coefficient value is -1\n",
    "    for n,j in enumerate(unselect): # loop over unselected features\n",
    "        testSet = np.hstack([selected,j]) # add curr feature to selected ones\n",
    "        means,labels = kMeans(dataMat[:,testSet], Nk) # cluster w/ test features\n",
    "        coeff = Silhouette(dataMat,labels,dists).mean() # mean silhouette coeff\n",
    "        #print((coeff,bestCoeff))\n",
    "        if coeff > bestCoeff: # if this feature produce better coeff\n",
    "            bestCoeff = coeff # record new best coeff\n",
    "            outs = (j,coeff,means,labels) # record output variables\n",
    "    #print(unselect)\n",
    "    return outs # output: the feature, best coeff, means, and labels\n",
    "################################################################################\n",
    "\n",
    "def ForwardSelect(data, k):\n",
    "    selected = np.zeros(0, int) # idx of selected features, start w/ empty\n",
    "    baseCoeff = -1-1e-9 # -1 is worst possible performance\n",
    "    dM = pairwiseDist(data) # pre-calc distance matrix for memoization\n",
    "    \n",
    "    converged = False    \n",
    "    while not converged: # loop until convergence\n",
    "        bestFeat,bestCoeff,means,labels = SelectBestFeature(data,selected,k,dM) \n",
    "        if bestCoeff <= baseCoeff: # if new feature doesn't improve performance\n",
    "            converged = True\n",
    "        else: # if new feature improves performance\n",
    "            print(bestCoeff-baseCoeff)\n",
    "            selected = np.hstack([selected,bestFeat]) # add feature to selection\n",
    "            baseCoeff = bestCoeff # set new coeff as baseline performance\n",
    "            outs = (means,labels) # save output vars\n",
    "            if len(selected) == data.shape[1]: \n",
    "                converged = True # algo converged if all features selected\n",
    "    return (selected,)+outs # return selected features, means, cluster labels"
   ]
  },
  {
   "cell_type": "code",
   "execution_count": 336,
   "metadata": {},
   "outputs": [
    {
     "name": "stdout",
     "output_type": "stream",
     "text": [
      "1.1044337798534718\n",
      "0.0027974021309899316\n"
     ]
    },
    {
     "data": {
      "text/plain": [
       "(array([3, 4], dtype=int64), array([[2.03225794, 4.59677437],\n",
       "        [7.39473531, 3.02631531]]), array([1, 0, 1, 0, 0, 0, 0, 1, 1, 0, 0, 0, 1, 0, 0, 1, 1, 0, 1, 1, 0, 1,\n",
       "        0, 0, 0, 0, 0, 1, 0, 0, 0, 1, 1, 0, 0, 1, 0, 1, 0, 0, 0, 0, 0, 0,\n",
       "        1, 0, 1, 0, 1, 0, 0, 0, 0, 0, 0, 0, 0, 0, 1, 1, 0, 1, 0, 0, 1, 1,\n",
       "        1, 1, 1, 0, 0, 1, 1, 1, 0, 0, 1, 1, 1, 1, 0, 0, 0, 0, 0, 0, 0, 1,\n",
       "        1, 0, 0, 1, 0, 0, 0, 0, 1, 0, 1, 0], dtype=int64))"
      ]
     },
     "execution_count": 336,
     "metadata": {},
     "output_type": "execute_result"
    }
   ],
   "source": [
    "testData = np.random.randint(0,10,[100,8])\n",
    "\n",
    "ForwardSelect(testData,2)"
   ]
  },
  {
   "cell_type": "code",
   "execution_count": 24,
   "metadata": {},
   "outputs": [],
   "source": [
    "################################################################################\n",
    "def Silhouette(data, labels, distMat=None):\n",
    "    if distMat is None:\n",
    "        distMat = pairwiseDist(data) # calc pairwise dist if not provided\n",
    "    grpIdx = pd.Series(labels).groupby(labels).groups.items() # idx for each grp\n",
    "    \n",
    "    aVals = np.zeros(data.shape[0]) # pre-allocate a and b-values for data\n",
    "    bVals = np.zeros(data.shape[0])\n",
    "    for grp,idx in grpIdx: # loop over all groups\n",
    "        aVals[idx] = distMat[np.ix_(idx,idx)].mean(axis=1) # a's for curr grp\n",
    "        \n",
    "        # loop over all groups that's not the current gruop\n",
    "        tmp = np.zeros([len(grpIdx)-1,len(idx)]) # tmp for all b's for curr grp\n",
    "        for n,(_,outIdx) in enumerate([x for x in grpIdx if x[0]!=grp]):\n",
    "            # calculate mean dist of points within cluster to out of cluster\n",
    "            tmp[n,] = distMat[np.ix_(idx,outIdx)].mean(axis=1) \n",
    "        #print(tmp.shape)\n",
    "        #print(idx.shape)\n",
    "        bVals[idx] = tmp.min(axis=0) # pick min b of all out-groups\n",
    "\n",
    "    return (bVals-aVals)/np.maximum(aVals,bVals) # return silhouette coeff"
   ]
  },
  {
   "cell_type": "code",
   "execution_count": 422,
   "metadata": {},
   "outputs": [
    {
     "name": "stdout",
     "output_type": "stream",
     "text": [
      "1.218264548496111\n",
      "0.10202167454565866\n",
      "0.011917492844527922\n",
      "0.0915066380507315\n",
      "0.010737041792362234\n",
      "0.013112969092185567\n"
     ]
    },
    {
     "data": {
      "text/plain": [
       "(array([5, 4, 7, 6, 3, 2], dtype=int64),\n",
       " array([[2.44444449e-01, 7.25177778e+01, 1.74999996e-01, 1.25800000e+01,\n",
       "         1.30888889e+00, 1.69444481e-01],\n",
       "        [1.65925926e-01, 7.17748148e+01, 2.96296296e-02, 9.58481481e+00,\n",
       "         8.69259259e-01, 3.69074074e+00],\n",
       "        [3.33999997e-01, 7.21999999e+01, 1.96666675e-01, 9.68799987e+00,\n",
       "         1.65866667e+00, 1.97333337e+00],\n",
       "        [5.66260163e-01, 7.28155285e+01, 5.20325203e-03, 8.38772358e+00,\n",
       "         1.37284553e+00, 3.50658537e+00],\n",
       "        [3.46399994e+00, 7.10260000e+01, 1.00399998e+00, 6.19600003e+00,\n",
       "         2.71799998e+00, 1.82800003e+00],\n",
       "        [2.11923077e-01, 7.34469231e+01, 9.57692308e-01, 8.59884615e+00,\n",
       "         2.10961538e+00, 6.69230771e-02]]),\n",
       " array([1, 3, 3, 3, 3, 3, 3, 3, 3, 3, 3, 3, 3, 3, 3, 3, 3, 1, 1, 3, 3, 1,\n",
       "        3, 3, 3, 3, 3, 3, 3, 3, 3, 3, 3, 3, 3, 3, 1, 3, 1, 1, 3, 3, 3, 1,\n",
       "        3, 1, 3, 1, 1, 3, 1, 3, 3, 3, 3, 3, 3, 3, 3, 3, 3, 1, 1, 1, 1, 1,\n",
       "        1, 1, 1, 1, 3, 3, 3, 3, 3, 3, 3, 3, 3, 3, 3, 3, 3, 3, 3, 3, 3, 3,\n",
       "        3, 3, 3, 3, 3, 3, 3, 3, 1, 3, 3, 3, 3, 2, 3, 1, 1, 0, 0, 0, 0, 0,\n",
       "        0, 0, 0, 3, 3, 3, 3, 3, 3, 3, 3, 3, 3, 3, 3, 3, 3, 2, 2, 2, 0, 0,\n",
       "        3, 3, 3, 3, 3, 3, 3, 3, 3, 3, 3, 3, 3, 3, 3, 3, 3, 3, 3, 1, 3, 3,\n",
       "        3, 3, 3, 1, 3, 3, 3, 3, 1, 4, 2, 2, 0, 0, 5, 0, 0, 4, 4, 0, 2, 0,\n",
       "        2, 2, 2, 2, 5, 2, 0, 0, 5, 4, 4, 3, 2, 2, 2, 5, 5, 5, 5, 5, 5, 5,\n",
       "        5, 5, 5, 5, 5, 5, 5, 5, 5, 5, 5, 5, 5, 5, 5, 5], dtype=int64))"
      ]
     },
     "execution_count": 422,
     "metadata": {},
     "output_type": "execute_result"
    }
   ],
   "source": [
    "pairwiseDist(spamMat[]"
   ]
  },
  {
   "cell_type": "code",
   "execution_count": 25,
   "metadata": {},
   "outputs": [],
   "source": [
    "irisFile = os.path.join('./data/', 'iris.data')\n",
    "irisName = ['sepalLen', 'sepalWth', 'petalLen', 'petalWth', 'class']\n",
    "raw = pd.read_csv(irisFile , names=irisName)  # read CSV file\n",
    "irisFeats = irisName[:-1]\n",
    "irisMat = raw[irisFeats].values\n",
    "irisK = len(raw['class'].unique())"
   ]
  },
  {
   "cell_type": "code",
   "execution_count": 32,
   "metadata": {},
   "outputs": [
    {
     "name": "stdout",
     "output_type": "stream",
     "text": [
      "1.5547284946256994\n",
      "0.002021954381113966\n"
     ]
    },
    {
     "data": {
      "text/plain": [
       "(array([2, 1], dtype=int64), array([[1.464     , 3.418     ],\n",
       "        [4.40000004, 2.75396827],\n",
       "        [5.76756793, 3.07297301]]), array([0, 0, 0, 0, 0, 0, 0, 0, 0, 0, 0, 0, 0, 0, 0, 0, 0, 0, 0, 0, 0, 0,\n",
       "        0, 0, 0, 0, 0, 0, 0, 0, 0, 0, 0, 0, 0, 0, 0, 0, 0, 0, 0, 0, 0, 0,\n",
       "        0, 0, 0, 0, 0, 0, 1, 1, 1, 1, 1, 1, 1, 1, 1, 1, 1, 1, 1, 1, 1, 1,\n",
       "        1, 1, 1, 1, 1, 1, 1, 1, 1, 1, 1, 1, 1, 1, 1, 1, 1, 1, 1, 1, 1, 1,\n",
       "        1, 1, 1, 1, 1, 1, 1, 1, 1, 1, 1, 1, 2, 1, 2, 2, 2, 2, 1, 2, 2, 2,\n",
       "        2, 2, 2, 1, 1, 2, 2, 2, 2, 1, 2, 1, 2, 1, 2, 2, 1, 1, 2, 2, 2, 2,\n",
       "        2, 1, 2, 2, 2, 2, 1, 2, 2, 2, 1, 2, 2, 2, 1, 2, 2, 2], dtype=int64))"
      ]
     },
     "execution_count": 32,
     "metadata": {},
     "output_type": "execute_result"
    }
   ],
   "source": [
    "ForwardSelect(irisMat, irisK)"
   ]
  },
  {
   "cell_type": "code",
   "execution_count": 33,
   "metadata": {},
   "outputs": [],
   "source": [
    "glassData = os.path.join('./data/', 'glass.data')\n",
    "glassNames = ['id','RI','Na', 'Mg', 'Al', 'Si', 'K', 'Ca', 'Ba', 'Fe', 'class']\n",
    "raw = pd.read_csv(glassData , names=glassNames)  # read CSV file\n",
    "\n",
    "glassFeats = glassNames[1:-1] # list of feature names\n",
    "glassMat = raw[glassFeats].values # 2d-array of feature values\n",
    "glassK = len(raw['class'].unique()) # number of classes"
   ]
  },
  {
   "cell_type": "code",
   "execution_count": 35,
   "metadata": {},
   "outputs": [
    {
     "name": "stdout",
     "output_type": "stream",
     "text": [
      "1.280279874484533\n",
      "0.08921012138212236\n",
      "0.009817673937100979\n"
     ]
    },
    {
     "data": {
      "text/plain": [
       "(array([5, 3, 2], dtype=int64), array([[0.11730769, 0.80269231, 3.73115385],\n",
       "        [0.65064516, 2.21      , 0.        ],\n",
       "        [0.39541667, 1.51833333, 2.28708333],\n",
       "        [0.5746087 , 1.38417391, 3.54991304],\n",
       "        [0.11285714, 1.04285714, 0.15142857],\n",
       "        [1.49999787, 2.40249904, 3.05749732]]), array([0, 3, 3, 3, 3, 3, 3, 3, 3, 3, 3, 3, 3, 3, 3, 3, 3, 0, 0, 3, 3, 0,\n",
       "        3, 3, 3, 3, 3, 3, 3, 3, 3, 3, 3, 3, 3, 3, 3, 3, 0, 0, 3, 3, 3, 0,\n",
       "        3, 3, 3, 0, 0, 3, 0, 3, 2, 2, 2, 2, 3, 3, 3, 3, 0, 3, 0, 0, 0, 0,\n",
       "        0, 0, 0, 0, 3, 3, 3, 3, 3, 3, 3, 3, 3, 3, 3, 3, 3, 3, 5, 3, 3, 3,\n",
       "        3, 3, 3, 3, 3, 3, 3, 3, 3, 3, 2, 3, 2, 2, 2, 0, 2, 1, 1, 4, 4, 4,\n",
       "        4, 4, 4, 3, 3, 3, 3, 3, 3, 3, 3, 3, 3, 3, 3, 3, 3, 2, 2, 2, 4, 4,\n",
       "        3, 3, 3, 3, 3, 3, 3, 3, 3, 3, 3, 3, 3, 3, 0, 3, 3, 3, 3, 0, 0, 3,\n",
       "        3, 3, 3, 0, 3, 3, 3, 0, 0, 5, 2, 2, 2, 1, 1, 1, 4, 1, 1, 4, 2, 4,\n",
       "        2, 2, 2, 2, 2, 4, 1, 4, 4, 5, 5, 3, 2, 2, 2, 1, 1, 1, 1, 1, 1, 1,\n",
       "        1, 1, 1, 1, 1, 1, 1, 1, 1, 1, 1, 1, 1, 1, 1, 1], dtype=int64))"
      ]
     },
     "execution_count": 35,
     "metadata": {},
     "output_type": "execute_result"
    }
   ],
   "source": [
    "ForwardSelect(glassMat, glassK)"
   ]
  },
  {
   "cell_type": "code",
   "execution_count": 36,
   "metadata": {},
   "outputs": [],
   "source": [
    "spamData = os.path.join('./data/', 'spambase.data')\n",
    "spamNames = ['make', 'address', 'all', '3d', 'our', 'over', 'remove',\n",
    "\t'internet', 'order', 'mail', 'receive', 'will', 'people', 'report',\n",
    "\t'addresses', 'free', 'business', 'email', 'you', 'credit', 'your', 'font',\n",
    "\t'0', 'money', 'hp', 'hpl', 'george', '650', 'lab', 'labs', 'telnet', '857',\n",
    "\t'data', '415', '85', 'technology', '1999', 'parts', 'pm', 'direct', 'cs',\n",
    "\t'meeting', 'original', 'project', 're', 'edu', 'table', 'conference',\n",
    "\t'semicolon', 'paren', 'bracket', 'exclaim', 'dollar', 'pound', 'capsAvg',\n",
    "\t'capsMax', 'capsTotal', 'class']\n",
    "raw = pd.read_csv(spamData , names=spamNames)  # read CSV file\n",
    "\n",
    "spamFeats = spamNames[:-1] # list of feature names\n",
    "spamMat = raw[spamFeats].values # 2d-array of feature values\n",
    "spamK = len(raw['class'].unique()) # number of classes"
   ]
  },
  {
   "cell_type": "code",
   "execution_count": 38,
   "metadata": {},
   "outputs": [
    {
     "name": "stdout",
     "output_type": "stream",
     "text": [
      "1.842031262105331\n",
      "0.02755507341246377\n"
     ]
    },
    {
     "data": {
      "text/plain": [
       "(array([56, 20], dtype=int64), array([[2.82540152e+03, 8.86363638e-01],\n",
       "        [2.08203401e+02, 8.07498322e-01]]), array([1, 1, 0, ..., 1, 1, 1], dtype=int64))"
      ]
     },
     "execution_count": 38,
     "metadata": {},
     "output_type": "execute_result"
    }
   ],
   "source": [
    "ForwardSelect(spamMat, spamK) # run algorithm"
   ]
  },
  {
   "cell_type": "code",
   "execution_count": 39,
   "metadata": {},
   "outputs": [
    {
     "data": {
      "text/plain": [
       "(4601, 57)"
      ]
     },
     "execution_count": 39,
     "metadata": {},
     "output_type": "execute_result"
    }
   ],
   "source": [
    "spamMat.shape"
   ]
  },
  {
   "cell_type": "code",
   "execution_count": 64,
   "metadata": {},
   "outputs": [],
   "source": [
    "################################################################################\n",
    "def evalFitness(dataMat, k, pop, preEval, dist): # eval fitness of individuals\n",
    "    fitness = np.empty(pop.shape[0]) # store fitness of individuals\n",
    "    for n,indv in enumerate(pop): # loop over populations one by one\n",
    "        gene = ''.join(['1' if x else '0' for x in indv]) # string repr of DNA\n",
    "        if gene in preEval: # combo of features previously evaluated\n",
    "            fitness[n] = preEval[gene] # recall from dict\n",
    "        else: # never evaluated before\n",
    "            means,labels = kMeans(dataMat[:,indv], k) # cluster w/ features\n",
    "            fitness[n] = Silhouette(dataMat,labels,dist).mean()+1 # fit > 0\n",
    "            preEval[gene] = fitness[n] # store into dict for memoization\n",
    "    return fitness,preEval\n",
    "\n",
    "def crossOver(pop, parentIdx):\n",
    "    idxDad = parentIdx[:len(parentIdx)//2] # first half of selected\n",
    "    idxMom = parentIdx[len(parentIdx)//2:] # second half of selected\n",
    "    \n",
    "    breakPts = np.random.randint(1,pop.shape[1],pop.shape[0]//2) # x-over points\n",
    "    \n",
    "    out = np.empty(pop.shape, bool) # pre-allocate array for next gen\n",
    "    for n,(d,m) in enumerate(zip(idxDad,idxMom)):\n",
    "        out[n] = np.hstack([ pop[d,:breakPts[n]],pop[m,breakPts[n]:] ])\n",
    "        out[n+len(pop)] = np.hstack([ pop[m,:breakPts[n]],pop[d,breakPts[n]:] ])\n",
    "    return out\n",
    "\n",
    "def selectParents(fitness, popSize):\n",
    "    cumFit = np.cumsum(fitness)/np.sum(fitness) # cum array of normalized fitness\n",
    "    rands = np.random.rand(popSize) # uniform random between 0,1\n",
    "    outInd = np.searchsorted(cumFit, rands) # higher prob of select high fitness\n",
    "    return outInd\n",
    "\n",
    "def mutate(pop, prob):\n",
    "    toMutate = np.where(np.random.rand(pop.shape[0])<prob) # idx of pop to mutate\n",
    "    mutatePts = np.random.randint(0,pop.shape[1],len(toMutate)) # where to mutate\n",
    "    for idx,n in zip(toMutate,mutatePts): # mutate selected individuals\n",
    "        pop[idx,n] = ~pop[idx,n] # flip the selection bit\n",
    "    return pop\n",
    "\n",
    "def geneticAlgoSelect(data, k, prm):\n",
    "    pop = np.random.rand(prm['popSize'],data.shape[1]) > 0.5 # random init pop\n",
    "    memo = dict() # dict of result for memoization\n",
    "    dMat = pairwiseDist(data) # pre-calc distance matrix for memoization\n",
    "    \n",
    "    baseFitness = 0 # worst possible fitenss score\n",
    "    converged = False\n",
    "    while not converged: # loop until GA has converged\n",
    "        fit,memo = evalFitness(data, k, pop, memo, dMat) # evaluate fitness\n",
    "        bestIdx = np.argmax(fit) # keep track of best indiviaul\n",
    "        bestFit,bestIndv = fit[bestIdx],pop[bestIdx] # best fit and features\n",
    "        \n",
    "        if bestFit-baseFitness < prm['minImprove']: # min improvement required\n",
    "            converged = True\n",
    "            out = bestFit-1,np.where(bestIndv) # silhouette coeff and list\n",
    "        else: # not converged, selection + crossover + mutation\n",
    "            parentInd = selectParents(fit, pop.shape[0]) # select parents\n",
    "            pop = crossOver(pop, parentInd) # cross-over to get next gen\n",
    "            pop = mutate(pop,prm['mutateProb'])\n",
    "    return out"
   ]
  },
  {
   "cell_type": "code",
   "execution_count": 65,
   "metadata": {},
   "outputs": [
    {
     "ename": "IndexError",
     "evalue": "index 100 is out of bounds for axis 0 with size 100",
     "output_type": "error",
     "traceback": [
      "\u001b[1;31m---------------------------------------------------------------------------\u001b[0m",
      "\u001b[1;31mIndexError\u001b[0m                                Traceback (most recent call last)",
      "\u001b[1;32m<ipython-input-65-e27e25d90fdb>\u001b[0m in \u001b[0;36m<module>\u001b[1;34m()\u001b[0m\n\u001b[0;32m      1\u001b[0m \u001b[0mspamPrm\u001b[0m \u001b[1;33m=\u001b[0m \u001b[1;33m{\u001b[0m\u001b[1;34m'popSize'\u001b[0m\u001b[1;33m:\u001b[0m\u001b[1;36m100\u001b[0m\u001b[1;33m,\u001b[0m \u001b[1;34m'minImprove'\u001b[0m\u001b[1;33m:\u001b[0m\u001b[1;36m0.02\u001b[0m\u001b[1;33m,\u001b[0m \u001b[1;34m'mutateProb'\u001b[0m\u001b[1;33m:\u001b[0m\u001b[1;36m0.05\u001b[0m\u001b[1;33m}\u001b[0m\u001b[1;33m\u001b[0m\u001b[0m\n\u001b[1;32m----> 2\u001b[1;33m \u001b[0mgeneticAlgoSelect\u001b[0m\u001b[1;33m(\u001b[0m\u001b[0mspamMat\u001b[0m\u001b[1;33m,\u001b[0m \u001b[0mspamK\u001b[0m\u001b[1;33m,\u001b[0m \u001b[0mspamPrm\u001b[0m\u001b[1;33m)\u001b[0m\u001b[1;33m\u001b[0m\u001b[0m\n\u001b[0m",
      "\u001b[1;32m<ipython-input-64-23da2dadc4c4>\u001b[0m in \u001b[0;36mgeneticAlgoSelect\u001b[1;34m(data, k, prm)\u001b[0m\n\u001b[0;32m     54\u001b[0m         \u001b[1;32melse\u001b[0m\u001b[1;33m:\u001b[0m \u001b[1;31m# not converged, selection + crossover + mutation\u001b[0m\u001b[1;33m\u001b[0m\u001b[0m\n\u001b[0;32m     55\u001b[0m             \u001b[0mparentInd\u001b[0m \u001b[1;33m=\u001b[0m \u001b[0mselectParents\u001b[0m\u001b[1;33m(\u001b[0m\u001b[0mfit\u001b[0m\u001b[1;33m,\u001b[0m \u001b[0mpop\u001b[0m\u001b[1;33m.\u001b[0m\u001b[0mshape\u001b[0m\u001b[1;33m[\u001b[0m\u001b[1;36m0\u001b[0m\u001b[1;33m]\u001b[0m\u001b[1;33m)\u001b[0m \u001b[1;31m# select parents\u001b[0m\u001b[1;33m\u001b[0m\u001b[0m\n\u001b[1;32m---> 56\u001b[1;33m             \u001b[0mpop\u001b[0m \u001b[1;33m=\u001b[0m \u001b[0mcrossOver\u001b[0m\u001b[1;33m(\u001b[0m\u001b[0mpop\u001b[0m\u001b[1;33m,\u001b[0m \u001b[0mparentInd\u001b[0m\u001b[1;33m)\u001b[0m \u001b[1;31m# cross-over to get next gen\u001b[0m\u001b[1;33m\u001b[0m\u001b[0m\n\u001b[0m\u001b[0;32m     57\u001b[0m             \u001b[0mpop\u001b[0m \u001b[1;33m=\u001b[0m \u001b[0mmutate\u001b[0m\u001b[1;33m(\u001b[0m\u001b[0mpop\u001b[0m\u001b[1;33m,\u001b[0m\u001b[0mprm\u001b[0m\u001b[1;33m[\u001b[0m\u001b[1;34m'mutateProb'\u001b[0m\u001b[1;33m]\u001b[0m\u001b[1;33m)\u001b[0m\u001b[1;33m\u001b[0m\u001b[0m\n\u001b[0;32m     58\u001b[0m     \u001b[1;32mreturn\u001b[0m \u001b[0mout\u001b[0m\u001b[1;33m\u001b[0m\u001b[0m\n",
      "\u001b[1;32m<ipython-input-64-23da2dadc4c4>\u001b[0m in \u001b[0;36mcrossOver\u001b[1;34m(pop, parentIdx)\u001b[0m\n\u001b[0;32m     21\u001b[0m     \u001b[1;32mfor\u001b[0m \u001b[0mn\u001b[0m\u001b[1;33m,\u001b[0m\u001b[1;33m(\u001b[0m\u001b[0md\u001b[0m\u001b[1;33m,\u001b[0m\u001b[0mm\u001b[0m\u001b[1;33m)\u001b[0m \u001b[1;32min\u001b[0m \u001b[0menumerate\u001b[0m\u001b[1;33m(\u001b[0m\u001b[0mzip\u001b[0m\u001b[1;33m(\u001b[0m\u001b[0midxDad\u001b[0m\u001b[1;33m,\u001b[0m\u001b[0midxMom\u001b[0m\u001b[1;33m)\u001b[0m\u001b[1;33m)\u001b[0m\u001b[1;33m:\u001b[0m\u001b[1;33m\u001b[0m\u001b[0m\n\u001b[0;32m     22\u001b[0m         \u001b[0mout\u001b[0m\u001b[1;33m[\u001b[0m\u001b[0mn\u001b[0m\u001b[1;33m]\u001b[0m \u001b[1;33m=\u001b[0m \u001b[0mnp\u001b[0m\u001b[1;33m.\u001b[0m\u001b[0mhstack\u001b[0m\u001b[1;33m(\u001b[0m\u001b[1;33m[\u001b[0m \u001b[0mpop\u001b[0m\u001b[1;33m[\u001b[0m\u001b[0md\u001b[0m\u001b[1;33m,\u001b[0m\u001b[1;33m:\u001b[0m\u001b[0mbreakPts\u001b[0m\u001b[1;33m[\u001b[0m\u001b[0mn\u001b[0m\u001b[1;33m]\u001b[0m\u001b[1;33m]\u001b[0m\u001b[1;33m,\u001b[0m\u001b[0mpop\u001b[0m\u001b[1;33m[\u001b[0m\u001b[0mm\u001b[0m\u001b[1;33m,\u001b[0m\u001b[0mbreakPts\u001b[0m\u001b[1;33m[\u001b[0m\u001b[0mn\u001b[0m\u001b[1;33m]\u001b[0m\u001b[1;33m:\u001b[0m\u001b[1;33m]\u001b[0m \u001b[1;33m]\u001b[0m\u001b[1;33m)\u001b[0m\u001b[1;33m\u001b[0m\u001b[0m\n\u001b[1;32m---> 23\u001b[1;33m         \u001b[0mout\u001b[0m\u001b[1;33m[\u001b[0m\u001b[0mn\u001b[0m\u001b[1;33m+\u001b[0m\u001b[0mlen\u001b[0m\u001b[1;33m(\u001b[0m\u001b[0mpop\u001b[0m\u001b[1;33m)\u001b[0m\u001b[1;33m]\u001b[0m \u001b[1;33m=\u001b[0m \u001b[0mnp\u001b[0m\u001b[1;33m.\u001b[0m\u001b[0mhstack\u001b[0m\u001b[1;33m(\u001b[0m\u001b[1;33m[\u001b[0m \u001b[0mpop\u001b[0m\u001b[1;33m[\u001b[0m\u001b[0mm\u001b[0m\u001b[1;33m,\u001b[0m\u001b[1;33m:\u001b[0m\u001b[0mbreakPts\u001b[0m\u001b[1;33m[\u001b[0m\u001b[0mn\u001b[0m\u001b[1;33m]\u001b[0m\u001b[1;33m]\u001b[0m\u001b[1;33m,\u001b[0m\u001b[0mpop\u001b[0m\u001b[1;33m[\u001b[0m\u001b[0md\u001b[0m\u001b[1;33m,\u001b[0m\u001b[0mbreakPts\u001b[0m\u001b[1;33m[\u001b[0m\u001b[0mn\u001b[0m\u001b[1;33m]\u001b[0m\u001b[1;33m:\u001b[0m\u001b[1;33m]\u001b[0m \u001b[1;33m]\u001b[0m\u001b[1;33m)\u001b[0m\u001b[1;33m\u001b[0m\u001b[0m\n\u001b[0m\u001b[0;32m     24\u001b[0m     \u001b[1;32mreturn\u001b[0m \u001b[0mout\u001b[0m\u001b[1;33m\u001b[0m\u001b[0m\n\u001b[0;32m     25\u001b[0m \u001b[1;33m\u001b[0m\u001b[0m\n",
      "\u001b[1;31mIndexError\u001b[0m: index 100 is out of bounds for axis 0 with size 100"
     ]
    }
   ],
   "source": [
    "spamPrm = {'popSize':100, 'minImprove':0.02, 'mutateProb':0.05}\n",
    "geneticAlgoSelect(spamMat, spamK, spamPrm)"
   ]
  },
  {
   "cell_type": "code",
   "execution_count": 47,
   "metadata": {},
   "outputs": [
    {
     "data": {
      "text/plain": [
       "array([[False, False,  True, ..., False,  True,  True],\n",
       "       [False,  True, False, ...,  True, False,  True],\n",
       "       [ True, False,  True, ..., False,  True,  True],\n",
       "       ...,\n",
       "       [False, False, False, ...,  True, False,  True],\n",
       "       [ True, False, False, ..., False, False, False],\n",
       "       [False,  True,  True, ..., False, False, False]])"
      ]
     },
     "execution_count": 47,
     "metadata": {},
     "output_type": "execute_result"
    }
   ],
   "source": [
    "np.random.rand(100,57) > 0.5"
   ]
  },
  {
   "cell_type": "code",
   "execution_count": 40,
   "metadata": {},
   "outputs": [
    {
     "name": "stdout",
     "output_type": "stream",
     "text": [
      "[[ 1.04915121  1.07765959  1.04720735]\n",
      " [10.09038171 10.01132724 10.05882021]\n",
      " [11.05405553 11.03845812 11.07578113]\n",
      " [11.08976924 10.03406745 11.01091978]\n",
      " [ 2.04331281  2.00951885  1.06552362]\n",
      " [ 1.59479717  1.51716246  1.55381817]\n",
      " [12.07416047 12.05564935 12.02936141]]\n",
      "[0.95676181 0.88977003 0.93290523 0.92456144 0.95460956 0.96544999\n",
      " 0.89585935]\n",
      "[ 0.34018504 -0.1717065   0.34488496 -0.24973533 -0.29011733  0.33463491\n",
      "  0.39248036]\n"
     ]
    }
   ],
   "source": [
    "testX = np.array([[1,1,1],[10,10,10],[11,11,11],[11,10,11],\n",
    "                  [2,2,1],[1.5,1.5,1.5],[12,12,12]]) + np.random.random([7,3])/10\n",
    "testY = np.array([1,2,2,2,1,1,2])\n",
    "testY_bad = np.array([2,2,1,2,1,2,1])\n",
    "print(testX)\n",
    "\n",
    "print(Silhouette(testX,testY))\n",
    "print(Silhouette(testX,testY_bad))"
   ]
  },
  {
   "cell_type": "markdown",
   "metadata": {},
   "source": [
    "## Sources\n",
    "\n",
    "- [A Modified k-means Algorithm to Avoid Empty Clusters](http://citeseerx.ist.psu.edu/viewdoc/download?doi=10.1.1.379.3148&rep=rep1&type=pdf)"
   ]
  }
 ],
 "metadata": {
  "kernelspec": {
   "display_name": "Python 3",
   "language": "python",
   "name": "python3"
  },
  "language_info": {
   "codemirror_mode": {
    "name": "ipython",
    "version": 3
   },
   "file_extension": ".py",
   "mimetype": "text/x-python",
   "name": "python",
   "nbconvert_exporter": "python",
   "pygments_lexer": "ipython3",
   "version": "3.7.0"
  }
 },
 "nbformat": 4,
 "nbformat_minor": 2
}
