{
 "cells": [
  {
   "cell_type": "code",
   "execution_count": null,
   "metadata": {},
   "outputs": [],
   "source": [
    "import os\n",
    "import numpy as np, pandas as pd\n",
    "from kmeans import kMeans\n",
    "from geneticAlgorithm import geneticAlgoSelect\n",
    "from functions import Silhouette, pairwiseDist,prepData,printResults"
   ]
  },
  {
   "cell_type": "markdown",
   "metadata": {},
   "source": [
    "## Demo of Silhouette Coefficients \n",
    "Good grouping:"
   ]
  },
  {
   "cell_type": "code",
   "execution_count": null,
   "metadata": {},
   "outputs": [],
   "source": [
    "testX = np.vstack((np.random.random([10,10])*2+10, # center around 11\n",
    "                  np.random.random([5,10])*2+1)) # center around 2\n",
    "testY_good = np.array([1]*10 + [2]*5)\n",
    "print(testX)\n",
    "print(testY_good)\n",
    "print(Silhouette(testX,testY_good))"
   ]
  },
  {
   "cell_type": "markdown",
   "metadata": {},
   "source": [
    "Bad Grouping:"
   ]
  },
  {
   "cell_type": "code",
   "execution_count": null,
   "metadata": {},
   "outputs": [],
   "source": [
    "testY_bad = np.random.randint(1,3,15) # randomly generate groups\n",
    "print(testY_bad)\n",
    "print(Silhouette(testX,testY_bad))"
   ]
  },
  {
   "cell_type": "markdown",
   "metadata": {},
   "source": [
    "## Demo of K-Means"
   ]
  },
  {
   "cell_type": "code",
   "execution_count": null,
   "metadata": {},
   "outputs": [],
   "source": [
    "kMeans(testX, 2, True, initAlgo=2)"
   ]
  },
  {
   "cell_type": "markdown",
   "metadata": {},
   "source": [
    "## Genetic Algorithm Selection Demo"
   ]
  },
  {
   "cell_type": "code",
   "execution_count": null,
   "metadata": {},
   "outputs": [],
   "source": [
    "## Load data\n",
    "glassData = os.path.join('./data/', 'glass.data')\n",
    "glassNames = ['id','RI','Na', 'Mg', 'Al', 'Si', 'K', 'Ca', 'Ba', 'Fe', 'class']\n",
    "glassMat,glassFeats,glassK,glassMeans = prepData(glassData,glassNames,slice(1,-1))"
   ]
  },
  {
   "cell_type": "code",
   "execution_count": null,
   "metadata": {},
   "outputs": [],
   "source": [
    "glassPrm = {'popSize':50, 'minImprove':0.01, 'mutateProb':0.1, 'onProb':0.1,\n",
    "          'stagnLim': 3}\n",
    "out = geneticAlgoSelect(glassMat, glassK, glassPrm, trace=True)\n",
    "print(\"Best coeff: %f\"%out[0])\n",
    "out2 = kMeans(glassMat[:,out[1]], glassK)\n",
    "printResults((out[1],out2[0],out2[1]), glassFeats)"
   ]
  },
  {
   "cell_type": "code",
   "execution_count": null,
   "metadata": {},
   "outputs": [],
   "source": [
    "spamData = os.path.join('./data/', 'spambase.data')\n",
    "spamNames = ['make', 'address', 'all', '3d', 'our', 'over', 'remove',\n",
    "\t'internet', 'order', 'mail', 'receive', 'will', 'people', 'report',\n",
    "\t'addresses', 'free', 'business', 'email', 'you', 'credit', 'your', 'font',\n",
    "\t'0', 'money', 'hp', 'hpl', 'george', '650', 'lab', 'labs', 'telnet', '857',\n",
    "\t'data', '415', '85', 'technology', '1999', 'parts', 'pm', 'direct', 'cs',\n",
    "\t'meeting', 'original', 'project', 're', 'edu', 'table', 'conference',\n",
    "\t'semicolon', 'paren', 'bracket', 'exclaim', 'dollar', 'pound', 'capsAvg',\n",
    "\t'capsMax', 'capsTotal', 'class']\n",
    "spamMat,spamFeats,spamK,spamMeans = prepData(spamData,spamNames,slice(-1))"
   ]
  },
  {
   "cell_type": "code",
   "execution_count": null,
   "metadata": {},
   "outputs": [],
   "source": [
    "spamPrm = {'popSize':100, 'minImprove':0.01, 'mutateProb':0.05, 'onProb':0.05,\n",
    "          'stagnLim': 3}\n",
    "out = geneticAlgoSelect(spamMat, spamK, spamPrm, trace=True)\n",
    "print(\"Best coeff: %f\"%out[0])\n",
    "out2 = kMeans(spamMat[:,out[1]], spamK)\n",
    "printResults((out[1],out2[0],out2[1]), spamFeats)"
   ]
  }
 ],
 "metadata": {
  "kernelspec": {
   "display_name": "Python 3",
   "language": "python",
   "name": "python3"
  },
  "language_info": {
   "codemirror_mode": {
    "name": "ipython",
    "version": 3
   },
   "file_extension": ".py",
   "mimetype": "text/x-python",
   "name": "python",
   "nbconvert_exporter": "python",
   "pygments_lexer": "ipython3",
   "version": "3.6.5"
  }
 },
 "nbformat": 4,
 "nbformat_minor": 2
}
