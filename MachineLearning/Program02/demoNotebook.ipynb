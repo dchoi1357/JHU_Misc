{
 "cells": [
  {
   "cell_type": "code",
   "execution_count": 1,
   "metadata": {},
   "outputs": [],
   "source": [
    "import os\n",
    "import numpy as np, pandas as pd\n",
    "from kmeans import kMeans\n",
    "from geneticAlgorithm import geneticAlgoSelect\n",
    "from functions import Silhouette, pairwiseDist,prepData,printResults"
   ]
  },
  {
   "cell_type": "markdown",
   "metadata": {},
   "source": [
    "## Demo of Silhouette Coefficients \n",
    "Good grouping:"
   ]
  },
  {
   "cell_type": "code",
   "execution_count": 2,
   "metadata": {},
   "outputs": [
    {
     "name": "stdout",
     "output_type": "stream",
     "text": [
      "[[10.96005431 10.05623629 10.43671211 10.99260141 10.33610321 11.03506016\n",
      "  10.10151861 11.90763509 10.15305178 11.71353649]\n",
      " [11.90987118 10.38196872 10.77858371 10.56866381 10.18197088 10.86943699\n",
      "  11.91679383 10.73463274 11.82252443 11.06522282]\n",
      " [10.59487343 11.5968444  10.72679695 10.74766561 11.94535337 11.04809606\n",
      "  10.93591857 11.47281318 10.21192972 10.37238787]\n",
      " [10.40401873 10.77623294 11.92175193 11.66430007 10.85698505 11.63040303\n",
      "  10.18478435 10.11952904 10.33676399 11.21437842]\n",
      " [11.85013128 11.66352128 10.50835579 11.80708931 10.89600354 11.29491977\n",
      "  10.32827046 10.58460029 11.5537624  10.26024315]\n",
      " [10.93774379 11.93994413 10.08866117 10.02508459 10.70410744 11.53241552\n",
      "  10.53947126 11.94888381 11.15629039 11.88551583]\n",
      " [11.72296169 10.7313729  10.04011087 11.23620166 10.31198613 10.0838416\n",
      "  10.70265162 10.33778304 10.80801518 10.44802794]\n",
      " [11.13619376 10.51792928 10.5045847  10.29171729 10.47167603 10.91079723\n",
      "  10.47953035 10.19702372 11.48334779 11.33116233]\n",
      " [10.70928422 10.43456917 11.96172806 10.10504771 11.78332199 10.63976368\n",
      "  10.51804252 10.39195629 11.66149582 10.60726443]\n",
      " [11.49767855 11.25194561 11.36749845 10.37260628 10.63362089 10.98799037\n",
      "  10.98097843 10.00719573 11.18014288 10.42485988]\n",
      " [ 1.60336766  2.63684231  2.00693308  1.75918172  1.02847464  1.77117698\n",
      "   2.70293803  1.86883479  1.01987935  2.7307451 ]\n",
      " [ 2.21260552  1.80124993  1.49921137  2.61436525  1.72536203  2.58180463\n",
      "   2.60021032  1.70067816  1.20554688  2.00834278]\n",
      " [ 2.42149179  2.66145223  2.13755615  2.83352677  2.65337305  1.44667327\n",
      "   1.00356956  2.38285456  2.00347423  1.35568451]\n",
      " [ 2.79347721  1.06672715  2.01772602  1.64408162  2.58492566  1.56819536\n",
      "   1.29678363  2.26187899  1.18249704  1.71195675]\n",
      " [ 2.73173483  2.13842338  1.96791363  1.32718192  1.77620612  2.17819599\n",
      "   2.0470992   2.01227306  1.2988594   1.27600852]]\n",
      "[1 1 1 1 1 1 1 1 1 1 2 2 2 2 2]\n",
      "[0.9074576  0.91580018 0.91293557 0.90936757 0.91797419 0.90755275\n",
      " 0.91690629 0.92741016 0.91144654 0.92701875 0.92605851 0.93656975\n",
      " 0.92405095 0.93382259 0.94237965]\n"
     ]
    }
   ],
   "source": [
    "testX = np.vstack((np.random.random([10,10])*2+10, # center around 11\n",
    "                  np.random.random([5,10])*2+1)) # center around 2\n",
    "testY_good = np.array([1]*10 + [2]*5)\n",
    "print(testX)\n",
    "print(testY_good)\n",
    "print(Silhouette(testX,testY_good))"
   ]
  },
  {
   "cell_type": "markdown",
   "metadata": {},
   "source": [
    "Bad Grouping:"
   ]
  },
  {
   "cell_type": "code",
   "execution_count": 3,
   "metadata": {},
   "outputs": [
    {
     "name": "stdout",
     "output_type": "stream",
     "text": [
      "[2 1 1 2 1 1 1 1 2 1 2 2 2 2 2]\n",
      "[-0.84542212  0.88812992  0.8738713  -0.841805    0.89037426  0.87171431\n",
      "  0.88954117  0.89778848 -0.85210595  0.89944284  0.58093422  0.58749991\n",
      "  0.57985857  0.58623764  0.5908527 ]\n"
     ]
    }
   ],
   "source": [
    "testY_bad = np.random.randint(1,3,15) # randomly generate groups\n",
    "print(testY_bad)\n",
    "print(Silhouette(testX,testY_bad))"
   ]
  },
  {
   "cell_type": "markdown",
   "metadata": {},
   "source": [
    "## Demo of K-Means"
   ]
  },
  {
   "cell_type": "code",
   "execution_count": 4,
   "metadata": {},
   "outputs": [
    {
     "name": "stdout",
     "output_type": "stream",
     "text": [
      "[[0.37454012 0.95071431 0.73199394 0.59865848 0.15601864 0.15599452\n",
      "  0.05808361 0.86617615 0.60111501 0.70807258]\n",
      " [0.02058449 0.96990985 0.83244264 0.21233911 0.18182497 0.18340451\n",
      "  0.30424224 0.52475643 0.43194502 0.29122914]]\n",
      "[[7.74125175 7.53787338 7.41850737 7.41174834 7.37784304 7.48342282\n",
      "  7.27479027 7.42467179 7.35491852 7.44458809]\n",
      " [0.02058449 0.96990985 0.83244264 0.21233911 0.18182497 0.18340451\n",
      "  0.30424224 0.52475643 0.43194502 0.29122914]]\n",
      "[[10.86036934 10.62622164 10.52302646 10.47479328 10.49990651 10.68328611\n",
      "  10.36025002 10.46606588 10.70202208 10.61519884]\n",
      " [ 1.96387692  1.87910081  1.74363048  1.7317794   1.65836108  1.62157512\n",
      "   1.6591405   1.79187933  1.19036699  1.5623278 ]]\n",
      "[[11.14392548 10.90698058 10.80525547 10.75325191 10.78373046 10.97418278\n",
      "  10.64074637 10.74255625 11.00630422 10.90343618]\n",
      " [ 2.28775899  2.03063263  1.89549512  1.98501945  1.90445043  1.86127022\n",
      "   1.88495688  2.00306648  1.31677065  1.77417758]]\n",
      "[[11.16970331 10.93250412 10.83091265 10.77856633 10.80953264 11.00062793\n",
      "  10.66624603 10.76769174 11.03396624 10.92963958]\n",
      " [ 2.34173933  2.05588794  1.9208059   2.02722612  1.94546532  1.90121941\n",
      "   1.92259294  2.03826434  1.33783792  1.80948587]]\n",
      "[[11.17204675 10.93482444 10.83324513 10.78086764 10.81187829 11.00303203\n",
      "  10.66856418 10.76997679 11.03648096 10.9320217 ]\n",
      " [ 2.35073606  2.06009716  1.92502436  2.03426057  1.95230114  1.9078776\n",
      "   1.92886562  2.04413065  1.34134914  1.81537059]]\n",
      "[[11.17225979 10.93503538 10.83345717 10.78107685 10.81209153 11.00325059\n",
      "  10.66877493 10.77018452 11.03670958 10.93223826]\n",
      " [ 2.35223551  2.06079869  1.92572743  2.03543298  1.95344044  1.9089873\n",
      "   1.92991106  2.04510837  1.34193434  1.81635137]]\n",
      "[[11.17227916 10.93505455 10.83347645 10.78109587 10.81211091 11.00327046\n",
      "  10.66879408 10.7702034  11.03673036 10.93225795]\n",
      " [ 2.35248542  2.06091562  1.92584461  2.03562838  1.95363032  1.90917225\n",
      "   1.9300853   2.04527132  1.34203187  1.81651484]]\n",
      "[[11.17228092 10.9350563  10.8334782  10.7810976  10.81211268 11.00327226\n",
      "  10.66879583 10.77020512 11.03673225 10.93225974]\n",
      " [ 2.35252707  2.0609351   1.92586414  2.03566094  1.95366197  1.90920308\n",
      "   1.93011434  2.04529848  1.34204813  1.81654208]]\n"
     ]
    },
    {
     "data": {
      "text/plain": [
       "(array([[11.17228108, 10.93505646, 10.83347836, 10.78109776, 10.81211284,\n",
       "         11.00327243, 10.66879598, 10.77020528, 11.03673242, 10.9322599 ],\n",
       "        [ 2.35253401,  2.06093835,  1.9258674 ,  2.03566637,  1.95366725,\n",
       "          1.90920822,  1.93011918,  2.04530301,  1.34205084,  1.81654662]]),\n",
       " array([0, 0, 0, 0, 0, 0, 0, 0, 0, 0, 1, 1, 1, 1, 1], dtype=int64))"
      ]
     },
     "execution_count": 4,
     "metadata": {},
     "output_type": "execute_result"
    }
   ],
   "source": [
    "kMeans(testX, 2, True, initAlgo=2)"
   ]
  },
  {
   "cell_type": "markdown",
   "metadata": {},
   "source": [
    "## Genetic Algorithm Selection Demo"
   ]
  },
  {
   "cell_type": "code",
   "execution_count": 5,
   "metadata": {},
   "outputs": [],
   "source": [
    "## Load data\n",
    "glassData = os.path.join('./data/', 'glass.data')\n",
    "glassNames = ['id','RI','Na', 'Mg', 'Al', 'Si', 'K', 'Ca', 'Ba', 'Fe', 'class']\n",
    "glassMat,glassFeats,glassK,glassMeans = prepData(glassData,glassNames,slice(1,-1))"
   ]
  },
  {
   "cell_type": "code",
   "execution_count": 6,
   "metadata": {},
   "outputs": [
    {
     "name": "stdout",
     "output_type": "stream",
     "text": [
      "Generation 1: best fitness = 1.4200162806\n",
      "\tBest set: [1 4 5 6]\n",
      "Generation 2: best fitness = 1.4200162806\n",
      "\tBest set: [1 4 5 6]\n",
      "Generation 3: best fitness = 1.4200162806\n",
      "\tBest set: [1 4 5 6]\n",
      "Generation 4: best fitness = 1.4200162806\n",
      "\tBest set: [1 4 5 6]\n",
      "Generation 5: best fitness = 1.4200162806\n",
      "\tBest set: [1 4 5 6]\n",
      "Generation 6: best fitness = 1.4595424823\n",
      "\tBest set: [1 2 4 5 6]\n",
      "Generation 7: best fitness = 1.4595424823\n",
      "\tBest set: [1 2 4 5 6]\n",
      "Best coeff: 0.459542\n",
      "Features and cluster centroids\n",
      "                 0          1          2          3          4             5\n",
      "Na       13.112562  13.133529  13.861579  14.674615  13.608001  1.186714e+01\n",
      "Mg        3.505702   0.572941   3.345263   0.165385   1.828001  1.401454e-09\n",
      "Si       72.837355  73.068235  71.811053  73.313846  71.026001  7.167286e+01\n",
      "K         0.567686   0.501765   0.216579   0.070769   3.463998  2.514286e-01\n",
      "Ca        8.384711  11.005294   9.496579   8.580385   6.196001  1.431571e+01\n",
      "Counts  121.000000  17.000000  38.000000  26.000000   5.000000  7.000000e+00\n"
     ]
    }
   ],
   "source": [
    "glassPrm = {'popSize':50, 'minImprove':0.01, 'mutateProb':0.1, 'onProb':0.1,\n",
    "          'stagnLim': 3}\n",
    "out = geneticAlgoSelect(glassMat, glassK, glassPrm, trace=True)\n",
    "print(\"Best coeff: %f\"%out[0])\n",
    "out2 = kMeans(glassMat[:,out[1]], glassK)\n",
    "printResults((out[1],out2[0],out2[1]), glassFeats)"
   ]
  },
  {
   "cell_type": "code",
   "execution_count": 10,
   "metadata": {},
   "outputs": [],
   "source": [
    "spamData = os.path.join('./data/', 'spambase.data')\n",
    "spamNames = ['make', 'address', 'all', '3d', 'our', 'over', 'remove',\n",
    "\t'internet', 'order', 'mail', 'receive', 'will', 'people', 'report',\n",
    "\t'addresses', 'free', 'business', 'email', 'you', 'credit', 'your', 'font',\n",
    "\t'0', 'money', 'hp', 'hpl', 'george', '650', 'lab', 'labs', 'telnet', '857',\n",
    "\t'data', '415', '85', 'technology', '1999', 'parts', 'pm', 'direct', 'cs',\n",
    "\t'meeting', 'original', 'project', 're', 'edu', 'table', 'conference',\n",
    "\t'semicolon', 'paren', 'bracket', 'exclaim', 'dollar', 'pound', 'capsAvg',\n",
    "\t'capsMax', 'capsTotal', 'class']\n",
    "spamMat,spamFeats,spamK,spamMeans = prepData(spamData,spamNames,slice(-4))"
   ]
  },
  {
   "cell_type": "code",
   "execution_count": 12,
   "metadata": {},
   "outputs": [
    {
     "name": "stdout",
     "output_type": "stream",
     "text": [
      "Generation 1: best fitness = 1.8106858311\n",
      "\tBest set: [3 5 8]\n",
      "Generation 2: best fitness = 1.8106858311\n",
      "\tBest set: [3 5 8]\n",
      "Generation 3: best fitness = 1.8106858311\n",
      "\tBest set: [3 5 8]\n",
      "Generation 4: best fitness = 1.8106858311\n",
      "\tBest set: [3 5 8]\n",
      "Generation 5: best fitness = 1.8106858311\n",
      "\tBest set: [3 5 8]\n",
      "Generation 6: best fitness = 1.8106858311\n",
      "\tBest set: [3 5 8]\n",
      "Best coeff: 0.810686\n",
      "Features and cluster centroids\n",
      "                   0            1\n",
      "3d      3.364000e+01     0.014266\n",
      "over    6.269728e-10     0.096047\n",
      "order   1.268288e-09     0.090205\n",
      "Counts  7.000000e+00  4594.000000\n"
     ]
    }
   ],
   "source": [
    "spamPrm = {'popSize':200, 'minImprove':0.01, 'mutateProb':0.05, 'onProb':0.10,\n",
    "          'stagnLim': 3}\n",
    "out = geneticAlgoSelect(spamMat, spamK, spamPrm, trace=True)\n",
    "print(\"Best coeff: %f\"%out[0])\n",
    "out2 = kMeans(spamMat[:,out[1]], spamK)\n",
    "printResults((out[1],out2[0],out2[1]), spamFeats)"
   ]
  }
 ],
 "metadata": {
  "kernelspec": {
   "display_name": "Python 3",
   "language": "python",
   "name": "python3"
  },
  "language_info": {
   "codemirror_mode": {
    "name": "ipython",
    "version": 3
   },
   "file_extension": ".py",
   "mimetype": "text/x-python",
   "name": "python",
   "nbconvert_exporter": "python",
   "pygments_lexer": "ipython3",
   "version": "3.6.5"
  }
 },
 "nbformat": 4,
 "nbformat_minor": 2
}
