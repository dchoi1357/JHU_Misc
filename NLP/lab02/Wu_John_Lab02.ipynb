{
 "cells": [
  {
   "cell_type": "markdown",
   "metadata": {},
   "source": [
    "# Lab 2: Language Models\n",
    "\n",
    "Student: John Wu\n",
    "\n",
    "__Summary__"
   ]
  },
  {
   "cell_type": "code",
   "execution_count": 1,
   "metadata": {},
   "outputs": [],
   "source": [
    "import charlm as clm\n",
    "import math"
   ]
  },
  {
   "cell_type": "markdown",
   "metadata": {},
   "source": [
    "## (a) Simple Character LM\n",
    "\n",
    "train language model"
   ]
  },
  {
   "cell_type": "code",
   "execution_count": 2,
   "metadata": {},
   "outputs": [],
   "source": [
    "mdl = clm.train_char_lm('./data/subtitles.txt', order=4)"
   ]
  },
  {
   "cell_type": "markdown",
   "metadata": {},
   "source": [
    "Continuations for `itte`"
   ]
  },
  {
   "cell_type": "code",
   "execution_count": 3,
   "metadata": {},
   "outputs": [
    {
     "name": "stdout",
     "output_type": "stream",
     "text": [
      "[('n', 0.30644454186760195),\n",
      " ('r', 0.28233231039017975),\n",
      " ('d', 0.2770714598860149),\n",
      " ('e', 0.11047786058746165),\n",
      " (' ', 0.007452871547566856),\n",
      " ('s', 0.0070144673388864535),\n",
      " ('.', 0.003068829460762823),\n",
      " ('l', 0.0021920210434020165),\n",
      " (',', 0.0017536168347216134),\n",
      " ('\\n', 0.00043840420868040335),\n",
      " ('!', 0.00043840420868040335),\n",
      " (\"'\", 0.00043840420868040335),\n",
      " ('k', 0.00043840420868040335),\n",
      " ('t', 0.00043840420868040335)]\n"
     ]
    }
   ],
   "source": [
    "clm.print_probs(mdl, 'itte')"
   ]
  },
  {
   "cell_type": "markdown",
   "metadata": {},
   "source": [
    "Continuations for `supe`"
   ]
  },
  {
   "cell_type": "code",
   "execution_count": 4,
   "metadata": {},
   "outputs": [
    {
     "name": "stdout",
     "output_type": "stream",
     "text": [
      "[('r', 0.9992144540455616), ('s', 0.0007855459544383347)]\n"
     ]
    }
   ],
   "source": [
    "clm.print_probs(mdl, 'supe')"
   ]
  },
  {
   "cell_type": "markdown",
   "metadata": {},
   "source": [
    "Continuations for `ther`"
   ]
  },
  {
   "cell_type": "code",
   "execution_count": 5,
   "metadata": {},
   "outputs": [
    {
     "name": "stdout",
     "output_type": "stream",
     "text": [
      "[('e', 0.41045090602612727),\n",
      " (' ', 0.3175606525796159),\n",
      " ('.', 0.10865089398591295),\n",
      " (',', 0.038119318523869725),\n",
      " ('s', 0.03071458671964361),\n",
      " (\"'\", 0.022394798627415568),\n",
      " ('?', 0.02027572090783216),\n",
      " ('i', 0.008295707663596412),\n",
      " ('!', 0.007489013304436819),\n",
      " ('w', 0.00744085244717356),\n",
      " ('f', 0.006983324303172596),\n",
      " ('a', 0.005911745229065077),\n",
      " ('-', 0.003383300222743965),\n",
      " ('\\n', 0.0029498525073746312),\n",
      " ('n', 0.002925772078743002),\n",
      " ('m', 0.0018662332189512973),\n",
      " ('l', 0.0010354584311600746),\n",
      " ('h', 0.0009752573595810005),\n",
      " ('\"', 0.0006260911444223707),\n",
      " ('t', 0.00046956835831677806),\n",
      " (':', 0.00025284450063211124),\n",
      " ('b', 0.00018060321473722233),\n",
      " ('y', 0.0001685630004214075),\n",
      " (']', 0.00015652278610559268),\n",
      " (')', 0.0001083619288423334),\n",
      " ('o', 9.632171452651857e-05),\n",
      " ('/', 6.0201071579074104e-05),\n",
      " (';', 6.0201071579074104e-05),\n",
      " ('g', 6.0201071579074104e-05),\n",
      " ('´', 6.0201071579074104e-05),\n",
      " ('j', 4.816085726325929e-05),\n",
      " ('c', 3.6120642947444464e-05),\n",
      " ('\\xa0', 3.6120642947444464e-05),\n",
      " ('[', 2.4080428631629644e-05),\n",
      " ('*', 1.2040214315814822e-05),\n",
      " ('4', 1.2040214315814822e-05),\n",
      " ('F', 1.2040214315814822e-05),\n",
      " ('J', 1.2040214315814822e-05),\n",
      " ('X', 1.2040214315814822e-05),\n",
      " ('d', 1.2040214315814822e-05),\n",
      " ('p', 1.2040214315814822e-05),\n",
      " ('v', 1.2040214315814822e-05),\n",
      " ('}', 1.2040214315814822e-05),\n",
      " ('¡', 1.2040214315814822e-05),\n",
      " ('\\xad', 1.2040214315814822e-05)]\n"
     ]
    }
   ],
   "source": [
    "clm.print_probs(mdl, 'ther')"
   ]
  },
  {
   "cell_type": "markdown",
   "metadata": {},
   "source": [
    "Random Sentences"
   ]
  },
  {
   "cell_type": "code",
   "execution_count": 6,
   "metadata": {},
   "outputs": [
    {
     "name": "stdout",
     "output_type": "stream",
     "text": [
      "It is guard, Jacob?\n",
      "Chambal ran operate?\n",
      "But Nikki and check the house it is tha\n",
      "\n",
      "No. Hello\n",
      "Must've a hits he idea took by across-dried even then?\n",
      "I doned.\n",
      "- Just\n",
      "\n",
      "We'll have time waltzers... and your bettest because of the on concluded kill ho\n",
      "\n"
     ]
    }
   ],
   "source": [
    "print(clm.generate_text(mdl, 4, 80) + '\\n')\n",
    "print(clm.generate_text(mdl, 4, 80) + '\\n')\n",
    "print(clm.generate_text(mdl, 4, 80) + '\\n')"
   ]
  },
  {
   "cell_type": "markdown",
   "metadata": {},
   "source": [
    "## (b) Calculate Perplexity"
   ]
  },
  {
   "cell_type": "code",
   "execution_count": 7,
   "metadata": {},
   "outputs": [
    {
     "name": "stdout",
     "output_type": "stream",
     "text": [
      "7.160948621456589\n"
     ]
    }
   ],
   "source": [
    "sent = 'The car eats forks and knives'\n",
    "print(clm.perplexity(sent, mdl, 4))"
   ]
  },
  {
   "cell_type": "code",
   "execution_count": 8,
   "metadata": {
    "scrolled": true
   },
   "outputs": [
    {
     "name": "stdout",
     "output_type": "stream",
     "text": [
      "inf\n"
     ]
    }
   ],
   "source": [
    "sent = 'The yob eats forks and knives'\n",
    "print(clm.perplexity(sent, mdl, 4))"
   ]
  },
  {
   "cell_type": "code",
   "execution_count": 9,
   "metadata": {
    "scrolled": true
   },
   "outputs": [
    {
     "name": "stdout",
     "output_type": "stream",
     "text": [
      "4.606972940490917\n"
     ]
    }
   ],
   "source": [
    "sent = 'The student loves homework'\n",
    "print(clm.perplexity(sent, mdl, 4))"
   ]
  },
  {
   "cell_type": "code",
   "execution_count": 10,
   "metadata": {},
   "outputs": [
    {
     "name": "stdout",
     "output_type": "stream",
     "text": [
      "3.7112360009044503\n"
     ]
    }
   ],
   "source": [
    "sent = 'It is raining in London'\n",
    "print(clm.perplexity(sent, mdl, 4))"
   ]
  },
  {
   "cell_type": "code",
   "execution_count": 11,
   "metadata": {},
   "outputs": [
    {
     "name": "stdout",
     "output_type": "stream",
     "text": [
      "inf\n"
     ]
    }
   ],
   "source": [
    "sent = 'asdfjkl; qwerty'\n",
    "print(clm.perplexity(sent, mdl, 4))"
   ]
  },
  {
   "cell_type": "markdown",
   "metadata": {},
   "source": [
    "## (c) Naive smoothing"
   ]
  },
  {
   "cell_type": "code",
   "execution_count": 12,
   "metadata": {},
   "outputs": [
    {
     "name": "stdout",
     "output_type": "stream",
     "text": [
      "7.160948621456589\n"
     ]
    }
   ],
   "source": [
    "sent = 'The car eats forks and knives'\n",
    "print(clm.smoothed_perplexity(sent, mdl, 4))"
   ]
  },
  {
   "cell_type": "code",
   "execution_count": 13,
   "metadata": {
    "scrolled": true
   },
   "outputs": [
    {
     "name": "stdout",
     "output_type": "stream",
     "text": [
      "49.00672281265043\n"
     ]
    }
   ],
   "source": [
    "sent = 'The yob eats forks and knives'\n",
    "print(clm.smoothed_perplexity(sent, mdl, 4))"
   ]
  },
  {
   "cell_type": "code",
   "execution_count": 14,
   "metadata": {
    "scrolled": true
   },
   "outputs": [
    {
     "name": "stdout",
     "output_type": "stream",
     "text": [
      "4.606972940490917\n"
     ]
    }
   ],
   "source": [
    "sent = 'The student loves homework'\n",
    "print(clm.smoothed_perplexity(sent, mdl, 4))"
   ]
  },
  {
   "cell_type": "code",
   "execution_count": 15,
   "metadata": {},
   "outputs": [
    {
     "name": "stdout",
     "output_type": "stream",
     "text": [
      "3.7112360009044503\n"
     ]
    }
   ],
   "source": [
    "sent = 'It is raining in London'\n",
    "print(clm.smoothed_perplexity(sent, mdl, 4))"
   ]
  },
  {
   "cell_type": "code",
   "execution_count": 16,
   "metadata": {},
   "outputs": [
    {
     "name": "stdout",
     "output_type": "stream",
     "text": [
      "2344635.520980603\n"
     ]
    }
   ],
   "source": [
    "sent = 'asdfjkl; qwerty'\n",
    "print(clm.smoothed_perplexity(sent, mdl, 4))"
   ]
  },
  {
   "cell_type": "markdown",
   "metadata": {},
   "source": [
    "## (d) Language identification\n",
    "\n",
    "list of languages"
   ]
  },
  {
   "cell_type": "code",
   "execution_count": 77,
   "metadata": {},
   "outputs": [],
   "source": [
    "LANGUAGES = ['fr', 'de', 'da', 'en', 'it', 'nl']\n",
    "filePat = './data/%s.train.txt'\n",
    "\n",
    "with open('./data/test.txt', 'r') as f:\n",
    "    testData = [l.split('\\t') for l in f.read().splitlines()]\n",
    "\n",
    "def trainCharLM(order=0):\n",
    "    lms = dict()\n",
    "    for l in LANGUAGES:\n",
    "        lms[l] = clm.train_char_lm(filePat%l, order)\n",
    "    return lms\n",
    "\n",
    "def langID(txt, lms, order):\n",
    "    scores = dict()\n",
    "    for l in LANGUAGES:\n",
    "        scores[l] = clm.smoothed_perplexity(txt, lms[l], order)\n",
    "    return min(scores, key=scores.get)\n",
    "\n",
    "def assessLM(lms, order):\n",
    "    accuracy = {l:[0,0] for l in LANGUAGES}\n",
    "    for lang, txt in testData:\n",
    "        accuracy[lang][1] += 1\n",
    "        pred = langID(txt, lms, order)\n",
    "        if pred == lang:\n",
    "            accuracy[lang][0] += 1\n",
    "    \n",
    "    for lang,(num,denom) in accuracy.items():\n",
    "        print('%s: %u correct out of %u -- %.1f%%' % \n",
    "              (lang,num,denom,num/denom*100))\n"
   ]
  },
  {
   "cell_type": "markdown",
   "metadata": {},
   "source": [
    "__Unigram models__"
   ]
  },
  {
   "cell_type": "code",
   "execution_count": 78,
   "metadata": {},
   "outputs": [
    {
     "name": "stdout",
     "output_type": "stream",
     "text": [
      "fr: 194 correct out of 200 -- 97.0%\n",
      "de: 178 correct out of 200 -- 89.0%\n",
      "da: 187 correct out of 200 -- 93.5%\n",
      "en: 187 correct out of 200 -- 93.5%\n",
      "it: 188 correct out of 200 -- 94.0%\n",
      "nl: 177 correct out of 200 -- 88.5%\n"
     ]
    }
   ],
   "source": [
    "u_lms = trainCharLM(0)\n",
    "assessLM(u_lms, 0)"
   ]
  },
  {
   "cell_type": "markdown",
   "metadata": {},
   "source": [
    "__Bi-gram models__"
   ]
  },
  {
   "cell_type": "code",
   "execution_count": 79,
   "metadata": {},
   "outputs": [
    {
     "name": "stdout",
     "output_type": "stream",
     "text": [
      "fr: 196 correct out of 200 -- 98.0%\n",
      "de: 198 correct out of 200 -- 99.0%\n",
      "da: 198 correct out of 200 -- 99.0%\n",
      "en: 200 correct out of 200 -- 100.0%\n",
      "it: 200 correct out of 200 -- 100.0%\n",
      "nl: 198 correct out of 200 -- 99.0%\n"
     ]
    }
   ],
   "source": [
    "bi_lms = trainCharLM(1)\n",
    "assessLM(bi_lms, 1)"
   ]
  },
  {
   "cell_type": "markdown",
   "metadata": {},
   "source": [
    "__4-gram models__"
   ]
  },
  {
   "cell_type": "code",
   "execution_count": 80,
   "metadata": {},
   "outputs": [
    {
     "name": "stdout",
     "output_type": "stream",
     "text": [
      "fr: 199 correct out of 200 -- 99.5%\n",
      "de: 199 correct out of 200 -- 99.5%\n",
      "da: 198 correct out of 200 -- 99.0%\n",
      "en: 200 correct out of 200 -- 100.0%\n",
      "it: 200 correct out of 200 -- 100.0%\n",
      "nl: 199 correct out of 200 -- 99.5%\n"
     ]
    }
   ],
   "source": [
    "four_lms = trainCharLM(3)\n",
    "assessLM(four_lms, 3)"
   ]
  }
 ],
 "metadata": {
  "kernelspec": {
   "display_name": "Environment (conda_jwu)",
   "language": "python",
   "name": "conda_jwu"
  },
  "language_info": {
   "codemirror_mode": {
    "name": "ipython",
    "version": 3
   },
   "file_extension": ".py",
   "mimetype": "text/x-python",
   "name": "python",
   "nbconvert_exporter": "python",
   "pygments_lexer": "ipython3",
   "version": "3.7.4"
  }
 },
 "nbformat": 4,
 "nbformat_minor": 2
}
