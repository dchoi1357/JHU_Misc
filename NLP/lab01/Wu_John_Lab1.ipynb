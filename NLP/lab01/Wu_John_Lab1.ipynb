{
 "cells": [
  {
   "cell_type": "markdown",
   "metadata": {},
   "source": [
    "# Lab 1\n",
    "Student: **John Wu**"
   ]
  },
  {
   "cell_type": "code",
   "execution_count": 1,
   "metadata": {},
   "outputs": [],
   "source": [
    "import sys, re, numpy as np\n",
    "import matplotlib.pyplot as plt\n",
    "from collections import Counter"
   ]
  },
  {
   "cell_type": "markdown",
   "metadata": {},
   "source": [
    "Read in files. The tokens.txt is read in as one blob of text. The sentences.txt is read in as a list where each element is each line in the file."
   ]
  },
  {
   "cell_type": "code",
   "execution_count": 2,
   "metadata": {},
   "outputs": [],
   "source": [
    "sentFile = './data/sentences.txt'\n",
    "tokFile = './data/tokens.txt'\n",
    "\n",
    "with open(tokFile) as f:\n",
    "    tokBlob = f.read() # read entire blob\n",
    "\n",
    "with open(sentFile) as f:\n",
    "    sentLines = f.read().splitlines() # read entire blob"
   ]
  },
  {
   "cell_type": "markdown",
   "metadata": {},
   "source": [
    "## (a) Tokenization"
   ]
  },
  {
   "cell_type": "markdown",
   "metadata": {},
   "source": [
    "__Description of Processing__\n",
    "\n",
    "Use regular expressions in an attempt to match patterns of tokens in the input file. The regex will match the following items (in order of priority):\n",
    "* Various contractions ending in a period captured as one token (e.g. Dr., Mr., St.)\n",
    "* Twitter-like hashtags beginning with pound sign and alphanumeric characters\n",
    "* dollar amounts in the form of `$2.534` or `$5`\n",
    "* E-mail addresses in the form of alphanumerics@alphanumerics.alphanumerics\n",
    "* Acronym in the form of `A.B.C.D.E.` up to an arbitrary amount\n",
    "* Consecutive alphanumeric characters (e.g. `[a-zA-Z0-9_]`)\n",
    "* Alphanumeric characters surrounding period, comma, colon, apostrophe, slashes, and hyphen (e.g. `I'm`, `do-rag`, `will.i.am`, `AC/DC`, and `www.ab-inbev.com` each as as one token)\n",
    "* Consecutive punctuations including the following: `[].,;:\"'?()-_`, to match single and multi-character punctuations (e.g. ellipsis and em-dashes), as well as emoticons, such as `:(`.\n",
    "\n",
    "At the end of the tokenization, all tokens are converted to lower case."
   ]
  },
  {
   "cell_type": "code",
   "execution_count": 3,
   "metadata": {},
   "outputs": [],
   "source": [
    "pat = r''' Dr\\. | Mr\\. | Mrs\\. | Ms\\. | St\\. | Mt\\. # matches various contractions\n",
    "    | \\#\\w+                                         # matches hashtags like on Twitter\n",
    "    | \\$\\d+(?:\\.\\d+)                                # matches dollar decimals\n",
    "    | \\w+\\@\\w+\\.\\w+                                 # matches e-mails\n",
    "    | \\w(?:\\.\\w)+\\.                                 # matches acronyms\n",
    "    | \\w+(?:[/\\.,’:\\'—-]\\w+)*%*                     # general match\n",
    "    | [*[\\]!<>=^{}|&.,;:?()_\\\"\\'\\-]+                # consecutive punctuations\n",
    "    '''\n",
    "tokenizer = re.compile(pat, flags=re.I|re.X)\n",
    "\n",
    "def tokenize(txt):\n",
    "    return [s.lower() for s in tokenizer.findall(txt)]\n",
    "\n",
    "################################################################################\n",
    "#tokenize.findall('adg 23:245 I\\'m groot, U.S.A. 2*3 HIV+ #abc, 12.4% 4534=4534 A&W')"
   ]
  },
  {
   "cell_type": "markdown",
   "metadata": {},
   "source": [
    "__Errors and Undesirable Results__\n",
    "\n",
    "Initially, I separated the file with strings of whitespaces and also captured all punctuations separately. However, this lead to cases where words with punctuation within it (such as URL and hyphenated words) were split up as separate tokens. I added regex to capture for single punctuation being surrounded by alphanumeric strings as one token. The list of punctuation to be included in this scheme was discovered via trail and error. I initially started with just hypens and periods, but found special cases like colon (for timestamps like `12:45`), slashes, and apostrophes. Further complicating this is that sometimes single quotes are used as apostrophes, as em-dashes used for hyphens.\n",
    "\n",
    "The next thing I noticed was that e-mails would be captured as two tokens before and after the at sign, so a case for e-mail was added. With this, I also added special cases for Twitter-like hashtags as well as dollar amounts to the case of $2.53. Lastly, I also noticed that several contractions like \"Dr.\" would be tokenized as 'Dr' and '.', so I added a list of special cases for common contractions. Noticing that sometimes acronyms may have a period at the end, I also added a special case for them.\n",
    "\n",
    "Unfortunately, despite all the work, many undesirable results still may remain. For example, for tokens using symbols like \"HIV+\" or other currencies like \"¥400\", the tokenizer will still fail. Moreover, there are many possible contractions that I had not taken care of, such as \"Sgt.\", \"Fr.\", or \"Ct.\". It also cannot distinguish between the last period of an acronym vs. an actual period.\n"
   ]
  },
  {
   "cell_type": "markdown",
   "metadata": {},
   "source": [
    "__Demonstration of Results__\n",
    "\n",
    "The first ten sentences (manually counted) are shown below:"
   ]
  },
  {
   "cell_type": "code",
   "execution_count": 4,
   "metadata": {},
   "outputs": [
    {
     "name": "stdout",
     "output_type": "stream",
     "text": [
      "\"Russian for plastic bag is полиэтиленовый пакет. 7.3 out of 10 statistics is made up. I do not like green eggs and ham.I do\\nnot like them Sam-I-Am. Dr. Mulholland lives on Mulholland Dr. in Hollywood. 1, 2, 3... slashdot.com has some interesting\\narticles. I'm going to update my resumé. J.H.U. has a great la-crosse team. Born in the U.S. of A. \"\n"
     ]
    }
   ],
   "source": [
    "print(repr(tokBlob[:345]))"
   ]
  },
  {
   "cell_type": "markdown",
   "metadata": {},
   "source": [
    "The result of tokenization are presented below"
   ]
  },
  {
   "cell_type": "code",
   "execution_count": 5,
   "metadata": {},
   "outputs": [
    {
     "name": "stdout",
     "output_type": "stream",
     "text": [
      "['russian', 'for', 'plastic', 'bag', 'is', 'полиэтиленовый', 'пакет', '.', '7.3', 'out', 'of', '10', 'statistics', 'is', 'made', 'up', '.', 'i', 'do', 'not', 'like', 'green', 'eggs', 'and', 'ham.i', 'do', 'not', 'like', 'them', 'sam-i-am', '.', 'dr.', 'mulholland', 'lives', 'on', 'mulholland', 'dr.', 'in', 'hollywood', '.', '1', ',', '2', ',', '3', '...', 'slashdot.com', 'has', 'some', 'interesting', 'articles', '.', \"i'm\", 'going', 'to', 'update', 'my', 'resumé', '.', 'j.h.u.', 'has', 'a', 'great', 'la-crosse', 'team', '.', 'born', 'in', 'the', 'u.s.', 'of', 'a', '.']\n"
     ]
    }
   ],
   "source": [
    "print(tokenize(tokBlob[:345]))"
   ]
  },
  {
   "cell_type": "markdown",
   "metadata": {},
   "source": [
    "## (b) Corpus Statistics\n",
    "\n",
    "Processing tokens"
   ]
  },
  {
   "cell_type": "code",
   "execution_count": 6,
   "metadata": {},
   "outputs": [],
   "source": [
    "vocabs = Counter(tokenize(tokBlob)) # counter is set with counts"
   ]
  },
  {
   "cell_type": "markdown",
   "metadata": {},
   "source": [
    "__Basic Statistics__"
   ]
  },
  {
   "cell_type": "code",
   "execution_count": 7,
   "metadata": {},
   "outputs": [
    {
     "name": "stdout",
     "output_type": "stream",
     "text": [
      "Number of lines: 944802\n",
      "Vocabulary size: 396931\n",
      "Collection size: 22233607\n"
     ]
    }
   ],
   "source": [
    "print('Number of lines: %d'%tokBlob.count('\\n'))\n",
    "print('Vocabulary size: %d'%len(vocabs))\n",
    "print('Collection size: %d'%sum(vocabs.values()))"
   ]
  },
  {
   "cell_type": "markdown",
   "metadata": {},
   "source": [
    "__Most common types__\n",
    "\n",
    "List of most common types at rank 1-100"
   ]
  },
  {
   "cell_type": "code",
   "execution_count": 8,
   "metadata": {},
   "outputs": [
    {
     "name": "stdout",
     "output_type": "stream",
     "text": [
      "1: the    \t51: up\n",
      "2: .    \t52: when\n",
      "3: ,    \t53: her\n",
      "4: to    \t54: there\n",
      "5: and    \t55: can\n",
      "6: of    \t56: also\n",
      "7: a    \t57: out\n",
      "8: in    \t58: would\n",
      "9: for    \t59: people\n",
      "10: is    \t60: new\n",
      "11: that    \t61: if\n",
      "12: on    \t62: which\n",
      "13: with    \t63: so\n",
      "14: was    \t64: what\n",
      "15: at    \t65: time\n",
      "16: it    \t66: your\n",
      "17: as    \t67: after\n",
      "18: be    \t68: its\n",
      "19: are    \t69: my\n",
      "20: i    \t70: two\n",
      "21: he    \t71: )\n",
      "22: said    \t72: ?\n",
      "23: this    \t73: first\n",
      "24: have    \t74: some\n",
      "25: from    \t75: just\n",
      "26: by    \t76: do\n",
      "27: will    \t77: no\n",
      "28: we    \t78: year\n",
      "29: \"    \t79: other\n",
      "30: has    \t80: years\n",
      "31: you    \t81: than\n",
      "32: but    \t82: like\n",
      "33: not    \t83: them\n",
      "34: they    \t84: over\n",
      "35: an    \t85: into\n",
      "36: his    \t86: get\n",
      "37: :    \t87: ,\"\n",
      "38: their    \t88: now\n",
      "39: or    \t89: only\n",
      "40: who    \t90: last\n",
      "41: more    \t91: many\n",
      "42: all    \t92: school\n",
      "43: one    \t93: how\n",
      "44: (    \t94: us\n",
      "45: about    \t95: .\"\n",
      "46: were    \t96: state\n",
      "47: she    \t97: because\n",
      "48: had    \t98: could\n",
      "49: been    \t99: most\n",
      "50: our    \t100: these\n"
     ]
    }
   ],
   "source": [
    "tmp = vocabs.most_common(10000)\n",
    "for n in range(50):\n",
    "    print('%d: %s    \\t%d: %s'%(n+1,tmp[n][0],n+51,tmp[n+50][0]))"
   ]
  },
  {
   "cell_type": "markdown",
   "metadata": {},
   "source": [
    "Most common at 500, 1000, 5000, and 10000"
   ]
  },
  {
   "cell_type": "code",
   "execution_count": 9,
   "metadata": {},
   "outputs": [
    {
     "name": "stdout",
     "output_type": "stream",
     "text": [
      "500: makes\n",
      "1000: trade\n",
      "5000: valid\n",
      "10000: .;\n"
     ]
    }
   ],
   "source": [
    "print('500: %s'%tmp[499][0])\n",
    "print('1000: %s'%tmp[999][0])\n",
    "print('5000: %s'%tmp[4999][0])\n",
    "print('10000: %s'%tmp[9999][0])"
   ]
  },
  {
   "cell_type": "markdown",
   "metadata": {},
   "source": [
    "__Hapex legomena__\n"
   ]
  },
  {
   "cell_type": "code",
   "execution_count": 10,
   "metadata": {},
   "outputs": [
    {
     "name": "stdout",
     "output_type": "stream",
     "text": [
      "239422 words or 60.32% of vocab.\n"
     ]
    }
   ],
   "source": [
    "tmp = [s for s,c in vocabs.items() if c==1]\n",
    "print('%d words or %.2f%% of vocab.'%(len(tmp),len(tmp)/len(vocabs)*100))"
   ]
  },
  {
   "cell_type": "markdown",
   "metadata": {},
   "source": [
    "## (c) Zipf's Law"
   ]
  },
  {
   "cell_type": "code",
   "execution_count": 11,
   "metadata": {},
   "outputs": [],
   "source": [
    "tmp = vocabs.most_common(len(vocabs))\n",
    "plotY = np.log(np.array([c for s,c in tmp]))\n",
    "plotX = np.log(np.arange(len(vocabs))+1)"
   ]
  },
  {
   "cell_type": "code",
   "execution_count": 12,
   "metadata": {},
   "outputs": [
    {
     "data": {
      "image/png": "[encoded data removed]",
      "text/plain": [
       "<Figure size 432x288 with 1 Axes>"
      ]
     },
     "metadata": {
      "needs_background": "light"
     },
     "output_type": "display_data"
    }
   ],
   "source": [
    "plt.scatter(plotX, plotY, s=1)\n",
    "plt.title(\"Zipf's Law - tokens.txt\")\n",
    "plt.xlabel('log(rank)')\n",
    "plt.ylabel('log(frequency)')\n",
    "plt.show()"
   ]
  },
  {
   "cell_type": "markdown",
   "metadata": {},
   "source": [
    "Based on visual examination, the corpus as tokenized by my tokenizer somewhat follows Zipf's Law, as the plot is generally inversely proportional between log of frequency and log of rank. However, the anonmalies at the very high and the very low ranks are apparent, and the fact that there seem to be an inflection point at the middle of the distribution. With these, it is unlikely that the data would pass something like a chi-square test for Zipf's distribution. It seems that this empirical distribution is piece-wise linear with a spline at around rank 1100 ($~e^7$) or so."
   ]
  },
  {
   "cell_type": "markdown",
   "metadata": {},
   "source": [
    "## (d) Sentence Boundary Detection\n",
    "\n",
    "The sentence ending is detected via regular expression. The regular expression looks for the following pattern:\n",
    "1. alphanumeric character or close quotation mark followed by any number of consecutive sentence terminator (`!?.`)\n",
    "1. any number of white spaces followed by an optional close quotation\n",
    "1. a capital letter preceded by an optional open quotation mark\n",
    "\n",
    "If such pattern is found, it is deemed a sentence ending. Alternatively, the end of a line is also deemed as a sentence ending."
   ]
  },
  {
   "cell_type": "code",
   "execution_count": 13,
   "metadata": {},
   "outputs": [],
   "source": [
    "sentEnd = re.compile('([\\w+\\\"\\'”’][!?.]+[”\\\"]?)(\\s+)([“\\\"]?[A-Z])|$')"
   ]
  },
  {
   "cell_type": "code",
   "execution_count": 14,
   "metadata": {},
   "outputs": [],
   "source": [
    "def getSentenceEnds(txt):\n",
    "    endings = []\n",
    "    for m in sentEnd.finditer(txt):\n",
    "        if m.end(2) == -1: # matches end of line\n",
    "            endings.append(m.start(0)-1) # append end of line\n",
    "        else: # matches period and start of new sentence\n",
    "            endings.append(m.start(2)-1) # append start of 2nd token)\n",
    "    return ' '.join(str(x) for x in [len(endings)] + endings)\n",
    "\n",
    "with open('./jwu74.txt', 'w') as f:\n",
    "    for s in sentLines:\n",
    "        f.write(getSentenceEnds(s)+'\\n')"
   ]
  },
  {
   "cell_type": "markdown",
   "metadata": {},
   "source": [
    "To evaluate the effectiveness, I checked the results of my program on selected lines. It seems that the results are correct for  all the lines I reviewed. However, I know for a fact that it would produce false positives for abbreviations like Dr. and Mr., as they are followed by white space with a capital letter. I would estimate the accuracy to be in the high 90's."
   ]
  },
  {
   "cell_type": "markdown",
   "metadata": {},
   "source": [
    "## (e) NLTK\n",
    "\n",
    "__Comparison of Tokenization__"
   ]
  },
  {
   "cell_type": "code",
   "execution_count": 15,
   "metadata": {},
   "outputs": [
    {
     "name": "stdout",
     "output_type": "stream",
     "text": [
      "['Russian', 'for', 'plastic', 'bag', 'is', 'полиэтиленовый', 'пакет', '.', '7.3', 'out', 'of', '10', 'statistics', 'is', 'made', 'up', '.', 'I', 'do', 'not', 'like', 'green', 'eggs', 'and', 'ham.I', 'do', 'not', 'like', 'them', 'Sam-I-Am', '.', 'Dr.', 'Mulholland', 'lives', 'on', 'Mulholland', 'Dr.', 'in', 'Hollywood', '.', '1', ',', '2', ',', '3', '...', 'slashdot.com', 'has', 'some', 'interesting', 'articles', '.', 'I', \"'m\", 'going', 'to', 'update', 'my', 'resumé', '.', 'J.H.U', '.', 'has', 'a', 'great', 'la-crosse', 'team', '.', 'Born', 'in', 'the', 'U.S.', 'of', 'A', '.']\n"
     ]
    }
   ],
   "source": [
    "import nltk\n",
    "print(nltk.word_tokenize(tokBlob[:345]))"
   ]
  },
  {
   "cell_type": "code",
   "execution_count": 16,
   "metadata": {},
   "outputs": [
    {
     "name": "stdout",
     "output_type": "stream",
     "text": [
      "['I', 'march', 'to', 'see', 'Dr.', 'March', 'because', 'my', 'blood', \"'s\", 'B-', '#', 'transfusion']\n"
     ]
    }
   ],
   "source": [
    "print(nltk.word_tokenize(\"I march to see Dr. March because my blood's B- #transfusion\"))"
   ]
  },
  {
   "cell_type": "markdown",
   "metadata": {},
   "source": [
    "The tokenization of NLTK is largely similar to mine. The most singificant difference is that it does not fold the cases of the token, and it breaks up contractions (e.g. `I'm` -> `I` `'m` and `It's` -> `It` `'s`). Furthermore, it does not attempt to capture acronyms with periods at the end. NLTK also tokenizes consecutive punctuation marks into separate tokens, except for cases of period, where they are tokenized together. NLTK also captures common abbreviations and tokenize the period at the end of the abbreviation together with the word (e.g. `Dr.`). It also seem to tokenize more corner cases correctly, for example things like `B-`, `HIV+`, etc."
   ]
  },
  {
   "cell_type": "markdown",
   "metadata": {},
   "source": [
    "__Comparison of Sentence Segmentation__"
   ]
  },
  {
   "cell_type": "code",
   "execution_count": 17,
   "metadata": {},
   "outputs": [
    {
     "name": "stdout",
     "output_type": "stream",
     "text": [
      "['There was a bigger discrepancy this year but nevertheless there was always a reduction in the results of the English students,\" Tremblay said.', 'GALLOWAY: You did these amazing films in the 70s, just extraordinary films, and what’s been great for me is getting to see them again.']\n",
      "[('d.', ' ', 'G'), ('', '', '')]\n"
     ]
    }
   ],
   "source": [
    "print(nltk.sent_tokenize(sentLines[20]))\n",
    "print(sentEnd.findall(sentLines[20]))"
   ]
  },
  {
   "cell_type": "code",
   "execution_count": 18,
   "metadata": {},
   "outputs": [
    {
     "name": "stdout",
     "output_type": "stream",
     "text": [
      "['\"Anybody who thinks we\\'re going to go to Pluto and find cold, dead rock is in for a rude awakening,\" said Bill McKinnon, a co-investigator for the New Horizons mission.', 'But the continued glut is starting to discourage that strategy.', \"Community experts are involved in the process, too, making sure programs are lined up to meet the newcomers' needs.\"]\n",
      "[('n.', ' ', 'B'), ('y.', ' ', 'C'), ('', '', '')]\n"
     ]
    }
   ],
   "source": [
    "print(nltk.sent_tokenize(sentLines[1920]))\n",
    "print(sentEnd.findall(sentLines[1920]))"
   ]
  },
  {
   "cell_type": "code",
   "execution_count": 19,
   "metadata": {},
   "outputs": [
    {
     "data": {
      "text/plain": [
       "['The best is Dr. Smith, who has 30 years of experience?!',\n",
       " 'He is also very kind... Not to mention hard-working']"
      ]
     },
     "execution_count": 19,
     "metadata": {},
     "output_type": "execute_result"
    }
   ],
   "source": [
    "s = \"The best is Dr. Smith, who has 30 years of experience?! He is also very kind... Not to mention hard-working\"\n",
    "nltk.sent_tokenize(s)"
   ]
  },
  {
   "cell_type": "code",
   "execution_count": 20,
   "metadata": {},
   "outputs": [
    {
     "data": {
      "text/plain": [
       "[('r.', ' ', 'S'), ('e?!', ' ', 'H'), ('d...', ' ', 'N'), ('', '', '')]"
      ]
     },
     "execution_count": 20,
     "metadata": {},
     "output_type": "execute_result"
    }
   ],
   "source": [
    "sentEnd.findall(s)"
   ]
  },
  {
   "cell_type": "markdown",
   "metadata": {},
   "source": [
    "The sentence segmenter from NLTK seems to be producing largely the same result out of spot check of a few sentences. The only major difference is that NLTK catches more exceptions like \"Dr.\" and does not tokenize ellipses as the end of a sentence."
   ]
  }
 ],
 "metadata": {
  "kernelspec": {
   "display_name": "Environment (conda_jwu)",
   "language": "python",
   "name": "conda_jwu"
  },
  "language_info": {
   "codemirror_mode": {
    "name": "ipython",
    "version": 3
   },
   "file_extension": ".py",
   "mimetype": "text/x-python",
   "name": "python",
   "nbconvert_exporter": "python",
   "pygments_lexer": "ipython3",
   "version": "3.7.4"
  }
 },
 "nbformat": 4,
 "nbformat_minor": 2
}
