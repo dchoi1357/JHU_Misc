{
 "cells": [
  {
   "cell_type": "markdown",
   "metadata": {},
   "source": [
    "# Lab 1\n",
    "Student: **John Wu**"
   ]
  },
  {
   "cell_type": "code",
   "execution_count": 1,
   "metadata": {},
   "outputs": [],
   "source": [
    "import sys, re, numpy as np\n",
    "import matplotlib.pyplot as plt\n",
    "from collections import Counter"
   ]
  },
  {
   "cell_type": "markdown",
   "metadata": {},
   "source": [
    "Read in files"
   ]
  },
  {
   "cell_type": "code",
   "execution_count": 47,
   "metadata": {},
   "outputs": [],
   "source": [
    "sentFile = './data/sentences.txt'\n",
    "tokFile = './data/tokens.txt'\n",
    "\n",
    "with open(tokFile) as f:\n",
    "    tokBlob = f.read() # read entire blob\n",
    "\n",
    "with open(sentFile) as f:\n",
    "    sentLines = f.read().splitlines() # read entire blob"
   ]
  },
  {
   "cell_type": "markdown",
   "metadata": {},
   "source": [
    "## (a) Tokenization"
   ]
  },
  {
   "cell_type": "markdown",
   "metadata": {},
   "source": [
    "__Description of Processing__\n",
    "\n",
    "Use regular expressions in an attempt to match patterns of tokens in the input file. The regex will match the following items (in order of priority):\n",
    "* Various contractions ending in a period captured as one token (e.g. Dr., Mr., St.)\n",
    "* Twitter-like hashtags beginning with pound sign and alphanumeric characters\n",
    "* dollar amounts in the form of `$2.534` or `$5`\n",
    "* E-mail addresses in the form of alphanumerics@alphanumerics.alphanumerics\n",
    "* Acronym in the form of `A.B.C.D.E.` up to an arbitrary amount\n",
    "* Consecutive alphanumeric characters (e.g. `[a-zA-Z0-9_]`)\n",
    "* Alphanumeric characters surrounding period, comma, colon, apostrophe, slashes, and hyphen (e.g. `I'm`, `do-rag`, `will.i.am`, `AC/DC`, and `www.ab-inbev.com` each as as one token)\n",
    "* Consecutive punctuations including the following: `[].,;:\"'?()-_`, to match single and multi-character punctuations (e.g. ellipsis and em-dashes), as well as emoticons, such as `:(`."
   ]
  },
  {
   "cell_type": "code",
   "execution_count": 3,
   "metadata": {},
   "outputs": [],
   "source": [
    "pat = r''' Dr\\. | Mr\\. | Mrs\\. | Ms\\. | St\\. | Mt\\. # matches various contractions\n",
    "    | \\#\\w+                                         # matches hashtags like on Twitter\n",
    "    | \\$\\d+(?:\\.\\d+)                                # matches dollar decimals\n",
    "    | \\w+\\@\\w+\\.\\w+                                 # matches e-mails\n",
    "    | \\w(?:\\.\\w)+\\.                                 # matches acronyms\n",
    "    | \\w+(?:[/\\.,’:\\'—-]\\w+)*%*                     # general match\n",
    "    | [*[\\]!<>=^{}|&.,;:?()_\\\"\\'\\-]+                # consecutive punctuations\n",
    "    '''\n",
    "tokenize = re.compile(pat, flags=re.I|re.X)\n",
    "\n",
    "################################################################################\n",
    "#tokenize.findall('adg 23:245 I\\'m groot, U.S.A. 2*3 HIV+ #abc, 12.4% 4534=4534 A&W')"
   ]
  },
  {
   "cell_type": "markdown",
   "metadata": {},
   "source": [
    "__Errors and Undesirable Results__\n",
    "\n",
    "Initially, I separated the file with strings of whitespaces and also captured all punctuations separately. However, this lead to cases where words with punctuation within it (such as URL and hyphenated words) were split up as separate tokens. I added regex to capture for single punctuation being surrounded by alphanumeric strings as one token. The list of punctuation to be included in this scheme was discovered via trail and error. I initially started with just hypens and periods, but found special cases like colon (for timestamps like `12:45`), slashes, and apostrophes. Further complicating this is that sometimes single quotes are used as apostrophes, as em-dashes used for hyphens.\n",
    "\n",
    "The next thing I noticed was that e-mails would be captured as two tokens before and after the at sign, so a case for e-mail was added. With this, I also added special cases for Twitter-like hashtags as well as dollar amounts to the case of $2.53. Lastly, I also noticed that several contractions like \"Dr.\" would be tokenized as 'Dr' and '.', so I added a list of special cases for common contractions. Noticing that sometimes acronyms may have a period at the end, I also added a special case for them.\n",
    "\n",
    "Unfortunately, despite all the work, many undesirable results still may remain. For example, for tokens using symbols like \"HIV+\" or other currencies like \"¥400\", the tokenizer will still fail. Moreover, there are many possible contractions that I had not taken care of, such as \"Sgt.\", \"Fr.\", or \"Ct.\". It also cannot distinguish between the last period of an acronym vs. an actual period.\n"
   ]
  },
  {
   "cell_type": "markdown",
   "metadata": {},
   "source": [
    "__Demonstration of Results__\n",
    "\n",
    "The first ten sentences (manually counted) are shown below:"
   ]
  },
  {
   "cell_type": "code",
   "execution_count": 4,
   "metadata": {},
   "outputs": [
    {
     "name": "stdout",
     "output_type": "stream",
     "text": [
      "\"Russian for plastic bag is полиэтиленовый пакет. 7.3 out of 10 statistics is made up. I do not like green eggs and ham.I do\\nnot like them Sam-I-Am. Dr. Mulholland lives on Mulholland Dr. in Hollywood. 1, 2, 3... slashdot.com has some interesting\\narticles. I'm going to update my resumé. J.H.U. has a great la-crosse team. Born in the U.S. of A. \"\n"
     ]
    }
   ],
   "source": [
    "print(repr(tokBlob[:345]))"
   ]
  },
  {
   "cell_type": "markdown",
   "metadata": {},
   "source": [
    "The result of tokenization are presented below"
   ]
  },
  {
   "cell_type": "code",
   "execution_count": 5,
   "metadata": {},
   "outputs": [
    {
     "name": "stdout",
     "output_type": "stream",
     "text": [
      "['Russian', 'for', 'plastic', 'bag', 'is', 'полиэтиленовый', 'пакет', '.', '7.3', 'out', 'of', '10', 'statistics', 'is', 'made', 'up', '.', 'I', 'do', 'not', 'like', 'green', 'eggs', 'and', 'ham.I', 'do', 'not', 'like', 'them', 'Sam-I-Am', '.', 'Dr.', 'Mulholland', 'lives', 'on', 'Mulholland', 'Dr.', 'in', 'Hollywood', '.', '1', ',', '2', ',', '3', '...', 'slashdot.com', 'has', 'some', 'interesting', 'articles', '.', \"I'm\", 'going', 'to', 'update', 'my', 'resumé', '.', 'J.H.U.', 'has', 'a', 'great', 'la-crosse', 'team', '.', 'Born', 'in', 'the', 'U.S.', 'of', 'A', '.']\n"
     ]
    }
   ],
   "source": [
    "print(tokenize.findall(tokBlob[:345]))"
   ]
  },
  {
   "cell_type": "markdown",
   "metadata": {},
   "source": [
    "## (b) Corpus Statistics\n",
    "\n",
    "Processing tokens"
   ]
  },
  {
   "cell_type": "code",
   "execution_count": 6,
   "metadata": {},
   "outputs": [],
   "source": [
    "vocabs = Counter(tokenize.findall(tokBlob)) # counter is set with counts"
   ]
  },
  {
   "cell_type": "markdown",
   "metadata": {},
   "source": [
    "Number of lines processed"
   ]
  },
  {
   "cell_type": "code",
   "execution_count": 7,
   "metadata": {},
   "outputs": [
    {
     "data": {
      "text/plain": [
       "944802"
      ]
     },
     "execution_count": 7,
     "metadata": {},
     "output_type": "execute_result"
    }
   ],
   "source": [
    "tokBlob.count('\\n')"
   ]
  },
  {
   "cell_type": "markdown",
   "metadata": {},
   "source": [
    "Vocabulary Size"
   ]
  },
  {
   "cell_type": "code",
   "execution_count": 8,
   "metadata": {},
   "outputs": [
    {
     "data": {
      "text/plain": [
       "449548"
      ]
     },
     "execution_count": 8,
     "metadata": {},
     "output_type": "execute_result"
    }
   ],
   "source": [
    "len(vocabs)"
   ]
  },
  {
   "cell_type": "markdown",
   "metadata": {},
   "source": [
    "Collection Size"
   ]
  },
  {
   "cell_type": "code",
   "execution_count": 9,
   "metadata": {},
   "outputs": [
    {
     "data": {
      "text/plain": [
       "22233607"
      ]
     },
     "execution_count": 9,
     "metadata": {},
     "output_type": "execute_result"
    }
   ],
   "source": [
    "sum(vocabs.values())"
   ]
  },
  {
   "cell_type": "markdown",
   "metadata": {},
   "source": [
    "__Most common types__\n",
    "\n",
    "List of most common types at rank 1-100"
   ]
  },
  {
   "cell_type": "code",
   "execution_count": 10,
   "metadata": {},
   "outputs": [
    {
     "name": "stdout",
     "output_type": "stream",
     "text": [
      "1: the\n",
      "2: .\n",
      "3: ,\n",
      "4: to\n",
      "5: and\n",
      "6: of\n",
      "7: a\n",
      "8: in\n",
      "9: for\n",
      "10: is\n",
      "11: that\n",
      "12: on\n",
      "13: The\n",
      "14: with\n",
      "15: was\n",
      "16: at\n",
      "17: be\n",
      "18: as\n",
      "19: I\n",
      "20: are\n",
      "21: it\n",
      "22: said\n",
      "23: have\n",
      "24: from\n",
      "25: by\n",
      "26: will\n",
      "27: \"\n",
      "28: has\n",
      "29: this\n",
      "30: he\n",
      "31: not\n",
      "32: an\n",
      "33: :\n",
      "34: his\n",
      "35: you\n",
      "36: their\n",
      "37: or\n",
      "38: they\n",
      "39: but\n",
      "40: we\n",
      "41: who\n",
      "42: more\n",
      "43: (\n",
      "44: about\n",
      "45: were\n",
      "46: all\n",
      "47: had\n",
      "48: been\n",
      "49: one\n",
      "50: up\n",
      "51: can\n",
      "52: out\n",
      "53: her\n",
      "54: also\n",
      "55: would\n",
      "56: our\n",
      "57: which\n",
      "58: people\n",
      "59: time\n",
      "60: when\n",
      "61: she\n",
      "62: )\n",
      "63: its\n",
      "64: ?\n",
      "65: We\n",
      "66: He\n",
      "67: your\n",
      "68: It\n",
      "69: there\n",
      "70: than\n",
      "71: years\n",
      "72: so\n",
      "73: two\n",
      "74: what\n",
      "75: them\n",
      "76: In\n",
      "77: year\n",
      "78: just\n",
      "79: into\n",
      "80: other\n",
      "81: like\n",
      "82: do\n",
      "83: new\n",
      "84: first\n",
      "85: A\n",
      "86: my\n",
      "87: over\n",
      "88: some\n",
      "89: after\n",
      "90: This\n",
      "91: if\n",
      "92: get\n",
      "93: ,\"\n",
      "94: no\n",
      "95: only\n",
      "96: .\"\n",
      "97: But\n",
      "98: last\n",
      "99: could\n",
      "100: many\n"
     ]
    }
   ],
   "source": [
    "tmp = vocabs.most_common(10000)\n",
    "for n in range(100):\n",
    "    print('%d: %s'%(n+1,tmp[n][0]))"
   ]
  },
  {
   "cell_type": "markdown",
   "metadata": {},
   "source": [
    "Most common at 500, 1000, 5000, and 10000"
   ]
  },
  {
   "cell_type": "code",
   "execution_count": 11,
   "metadata": {},
   "outputs": [
    {
     "name": "stdout",
     "output_type": "stream",
     "text": [
      "500: 6\n",
      "1000: organization\n",
      "5000: elite\n",
      "10000: Fayetteville\n"
     ]
    }
   ],
   "source": [
    "print('500: %s'%tmp[499][0])\n",
    "print('1000: %s'%tmp[999][0])\n",
    "print('5000: %s'%tmp[4999][0])\n",
    "print('10000: %s'%tmp[9999][0])"
   ]
  },
  {
   "cell_type": "markdown",
   "metadata": {},
   "source": [
    "__Hapex legomena__\n"
   ]
  },
  {
   "cell_type": "code",
   "execution_count": 12,
   "metadata": {},
   "outputs": [
    {
     "name": "stdout",
     "output_type": "stream",
     "text": [
      "267240 words or 59.45% of vocab.\n"
     ]
    }
   ],
   "source": [
    "tmp = [s for s,c in vocabs.items() if c==1]\n",
    "print('%d words or %.2f%% of vocab.'%(len(tmp),len(tmp)/len(vocabs)*100))"
   ]
  },
  {
   "cell_type": "markdown",
   "metadata": {},
   "source": [
    "## (c) Zipf's Law"
   ]
  },
  {
   "cell_type": "code",
   "execution_count": 29,
   "metadata": {},
   "outputs": [],
   "source": [
    "tmp = vocabs.most_common(len(vocabs))\n",
    "plotY = np.log(np.array([c for s,c in tmp]))\n",
    "plotX = np.log(np.arange(len(vocabs))+1)"
   ]
  },
  {
   "cell_type": "code",
   "execution_count": 32,
   "metadata": {},
   "outputs": [
    {
     "data": {
      "image/png": "[encoded data removed]",
      "text/plain": [
       "<Figure size 432x288 with 1 Axes>"
      ]
     },
     "metadata": {
      "needs_background": "light"
     },
     "output_type": "display_data"
    }
   ],
   "source": [
    "plt.scatter(plotX, plotY, s=1)\n",
    "plt.title(\"Zipf's Law - tokens.txt\")\n",
    "plt.xlabel('log(rank)')\n",
    "plt.ylabel('log(frequency)')\n",
    "plt.show()"
   ]
  },
  {
   "cell_type": "markdown",
   "metadata": {},
   "source": [
    "Based on visual examination, the corpus as tokenized by my tokenizer somewhat follows Zipf's Law, as the plot is generally inversely proportional between log of frequency and log of rank. However, there are anonmalies at the very high and the very low ranks are apparent, and the fact that there seem to be an inflection point at the middle of the distribution. With these, it is unlikely that the data would pass something like a chi-square test for Zipf's distribution. It seems that this empirical distribution is piece-wise linear with a spline at around rank 1100 ($~e^7$) or so."
   ]
  },
  {
   "cell_type": "code",
   "execution_count": 48,
   "metadata": {},
   "outputs": [
    {
     "data": {
      "text/plain": [
       "\"Don't sweat the small stuff. Last fall, it hired de Nysschen, one of the industry’s most prominent leaders, who helped lead Audi of America to sales heights before Nissan chose him to lead its Infiniti division from offices in Hong Kong.\""
      ]
     },
     "execution_count": 48,
     "metadata": {},
     "output_type": "execute_result"
    }
   ],
   "source": [
    "sentLines[0]"
   ]
  }
 ],
 "metadata": {
  "kernelspec": {
   "display_name": "Environment (conda_jwu)",
   "language": "python",
   "name": "conda_jwu"
  },
  "language_info": {
   "codemirror_mode": {
    "name": "ipython",
    "version": 3
   },
   "file_extension": ".py",
   "mimetype": "text/x-python",
   "name": "python",
   "nbconvert_exporter": "python",
   "pygments_lexer": "ipython3",
   "version": "3.7.4"
  }
 },
 "nbformat": 4,
 "nbformat_minor": 2
}
