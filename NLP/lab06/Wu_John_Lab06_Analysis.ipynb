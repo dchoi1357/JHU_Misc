{
 "cells": [
  {
   "cell_type": "code",
   "execution_count": 1,
   "metadata": {},
   "outputs": [],
   "source": [
    "import os, re\n",
    "import numpy as np, pandas as pd\n",
    "import matplotlib.pyplot as plt\n",
    "%matplotlib inline"
   ]
  },
  {
   "cell_type": "code",
   "execution_count": 3,
   "metadata": {},
   "outputs": [],
   "source": [
    "################################################################################\n",
    "inFilePath = './tagger_outputs/part09.log'\n",
    "with open(inFilePath, 'r') as f:\n",
    "    raw = pd.Series(f.read().split('\\n')) # read file, each row = line"
   ]
  },
  {
   "cell_type": "markdown",
   "metadata": {},
   "source": [
    "Get series of diminishing losses across epochs by using regular expression to parse through the log and extracting Loss numbers on test data set"
   ]
  },
  {
   "cell_type": "code",
   "execution_count": 4,
   "metadata": {},
   "outputs": [],
   "source": [
    "lossRE = re.compile(r'\\(loss: (\\d+\\.\\d+).+') # RE to capture loss value as text\n",
    "tmp = raw.str.extract(lossRE)[0] # extract loss values as string\n",
    "loss = tmp.dropna().values.astype(np.float) # drop NA, convert string to flaot"
   ]
  },
  {
   "cell_type": "code",
   "execution_count": 5,
   "metadata": {},
   "outputs": [
    {
     "data": {
      "image/png": "[encoded data removed]",
      "text/plain": [
       "<Figure size 432x288 with 1 Axes>"
      ]
     },
     "metadata": {
      "needs_background": "light"
     },
     "output_type": "display_data"
    }
   ],
   "source": [
    "plt.plot(range(1,31), loss)\n",
    "plt.title('Loss Across Training Epochs')\n",
    "plt.xlabel('Training Epochs')\n",
    "plt.ylabel('Loss Value')\n",
    "plt.show()"
   ]
  },
  {
   "cell_type": "code",
   "execution_count": 42,
   "metadata": {},
   "outputs": [
    {
     "data": {
      "text/plain": [
       "'TEST : total : test_f1: 0.9061 test_rec: 0.9065 test_pre: 0.9057 test_acc: 0.9797 | '"
      ]
     },
     "execution_count": 42,
     "metadata": {},
     "output_type": "execute_result"
    }
   ],
   "source": [
    "raw[raw.str.contains('TEST : total')].tail(1).values[0]"
   ]
  },
  {
   "cell_type": "code",
   "execution_count": 64,
   "metadata": {},
   "outputs": [],
   "source": [
    "################################################################################\n",
    "ts = re.compile(r'TEST : (\\w+).+(\\d\\.\\d+).+?(\\d\\.\\d+).+?(\\d\\.\\d+).+(\\d\\.\\d+)')\n",
    "def getBestTestPerf(set):\n",
    "    found = raw.str.contains('TEST : '+set) # pick all lines contain test info\n",
    "    m = ts.match(raw[found].tail(1).values[0]) # get stats from last test line\n",
    "    out =  {'type':m[1], 'f1':float(m[2]), 'rec':float(m[3]), 'prec':float(m[4])}\n",
    "    #return (m[1], float(m[2]), float(m[3]), float(m[4]))\n",
    "    return out"
   ]
  },
  {
   "cell_type": "code",
   "execution_count": 65,
   "metadata": {},
   "outputs": [
    {
     "data": {
      "text/plain": [
       "{'type': 'total', 'f1': 0.9061, 'rec': 0.9065, 'prec': 0.9057}"
      ]
     },
     "execution_count": 65,
     "metadata": {},
     "output_type": "execute_result"
    }
   ],
   "source": [
    "getBestTestPerf('total')"
   ]
  },
  {
   "cell_type": "code",
   "execution_count": 23,
   "metadata": {},
   "outputs": [
    {
     "data": {
      "text/plain": [
       "('I-ORG', 0.0221, 0.012, 0.1389)"
      ]
     },
     "execution_count": 23,
     "metadata": {},
     "output_type": "execute_result"
    }
   ],
   "source": [
    "getTestPerf(s)"
   ]
  },
  {
   "cell_type": "code",
   "execution_count": 62,
   "metadata": {},
   "outputs": [
    {
     "data": {
      "text/plain": [
       "<re.Match object; span=(0, 81), match='TEST : total : test_f1: 0.9061 test_rec: 0.9065 t>"
      ]
     },
     "execution_count": 62,
     "metadata": {},
     "output_type": "execute_result"
    }
   ],
   "source": [
    "s = \"TEST : total : test_f1: 0.9061 test_rec: 0.9065 test_pre: 0.9057 test_acc: 0.9797 | \"\n",
    "ts.match(s)"
   ]
  }
 ],
 "metadata": {
  "kernelspec": {
   "display_name": "Python 3",
   "language": "python",
   "name": "python3"
  },
  "language_info": {
   "codemirror_mode": {
    "name": "ipython",
    "version": 3
   },
   "file_extension": ".py",
   "mimetype": "text/x-python",
   "name": "python",
   "nbconvert_exporter": "python",
   "pygments_lexer": "ipython3",
   "version": "3.7.4"
  }
 },
 "nbformat": 4,
 "nbformat_minor": 2
}
