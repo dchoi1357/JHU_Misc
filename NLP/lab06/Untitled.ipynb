{
 "cells": [
  {
   "cell_type": "code",
   "execution_count": 84,
   "metadata": {},
   "outputs": [],
   "source": [
    "import os, re\n",
    "import numpy as np, pandas as pd\n",
    "import matplotlib.pyplot as plt\n",
    "%matplotlib inline"
   ]
  },
  {
   "cell_type": "code",
   "execution_count": 94,
   "metadata": {},
   "outputs": [],
   "source": [
    "################################################################################\n",
    "inFilePath = './outputs/part09.log'\n",
    "with open(inFilePath, 'r') as f:\n",
    "    raw = pd.Series(f.read().split('\\n')) # read file, each row = line"
   ]
  },
  {
   "cell_type": "markdown",
   "metadata": {},
   "source": [
    "Get series of diminishing losses across epochs by using regular expression to parse through the log and extracting Loss numbers on test data set"
   ]
  },
  {
   "cell_type": "code",
   "execution_count": 77,
   "metadata": {},
   "outputs": [],
   "source": [
    "lossRE = re.compile(r'\\(loss: (\\d+\\.\\d+).+') # RE to capture loss value as text\n",
    "tmp = raw.str.extract(lossRE)[0] # extract loss values as string\n",
    "loss = tmp.dropna().values.astype(np.float) # drop NA, convert string to flaot"
   ]
  },
  {
   "cell_type": "code",
   "execution_count": null,
   "metadata": {},
   "outputs": [],
   "source": [
    "plt.plot(range(1,31), loss)\n",
    "plt.title('Loss Across Training Epochs')\n",
    "plt.xlabel('Training Epochs')\n",
    "plt.ylabel('Loss Value')\n",
    "plt.show()"
   ]
  },
  {
   "cell_type": "code",
   "execution_count": 103,
   "metadata": {},
   "outputs": [
    {
     "data": {
      "text/plain": [
       "17"
      ]
     },
     "execution_count": 103,
     "metadata": {},
     "output_type": "execute_result"
    }
   ],
   "source": [
    "np.sum(raw.str.find('TEST : total')>=0)"
   ]
  },
  {
   "cell_type": "code",
   "execution_count": 53,
   "metadata": {},
   "outputs": [
    {
     "data": {
      "text/plain": [
       "'I-ORG'"
      ]
     },
     "execution_count": 53,
     "metadata": {},
     "output_type": "execute_result"
    }
   ],
   "source": [
    "s = \"TEST : I-ORG : test_f1: 0.0221 test_rec: 0.0120 test_pre: 0.1389 test_acc: 0.0000 | {'O': 633, 'I-PER': 143, 'B-PER': 26, 'B-LOC': 22, 'I-LOC': 1}\"\n",
    "\n",
    "t = re.compile(r'(\\w+) : (\\w\\-\\w+).+?(\\d\\.\\d+).+?(\\d\\.\\d+).+?(\\d\\.\\d+).+(\\d\\.\\d+)')\n",
    "t.match(s).group(2)"
   ]
  }
 ],
 "metadata": {
  "kernelspec": {
   "display_name": "Environment (conda_jwu)",
   "language": "python",
   "name": "conda_jwu"
  },
  "language_info": {
   "codemirror_mode": {
    "name": "ipython",
    "version": 3
   },
   "file_extension": ".py",
   "mimetype": "text/x-python",
   "name": "python",
   "nbconvert_exporter": "python",
   "pygments_lexer": "ipython3",
   "version": "3.7.4"
  }
 },
 "nbformat": 4,
 "nbformat_minor": 2
}
