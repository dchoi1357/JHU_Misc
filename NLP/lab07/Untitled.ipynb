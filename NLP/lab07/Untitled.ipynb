{
 "cells": [
  {
   "cell_type": "code",
   "execution_count": 1,
   "metadata": {},
   "outputs": [],
   "source": [
    "import spacy, re, dateutil.parser\n",
    "import numpy as np"
   ]
  },
  {
   "cell_type": "code",
   "execution_count": 2,
   "metadata": {},
   "outputs": [],
   "source": [
    "nlp = spacy.load(\"en_core_web_md\")"
   ]
  },
  {
   "cell_type": "code",
   "execution_count": 3,
   "metadata": {},
   "outputs": [],
   "source": [
    "tagCap = re.compile(r'<P ID=(\\d+)>\\s+(.+?)\\s?</P>', re.DOTALL)\n",
    "\n",
    "def readFile(filePath):\n",
    "    with open(filePath, 'r', encoding='utf-8') as fh:\n",
    "        matches = tagCap.findall(fh.read())\n",
    "        ids,txts = zip(*matches)\n",
    "        ids = [int(s) for s in ids]\n",
    "        return ids, txts"
   ]
  },
  {
   "cell_type": "code",
   "execution_count": 4,
   "metadata": {},
   "outputs": [],
   "source": [
    "trIDs, trTxts = readFile('data/obits.train.txt')\n",
    "testIDs, testTxts = readFile('data/obits.test.txt')"
   ]
  },
  {
   "cell_type": "code",
   "execution_count": 165,
   "metadata": {},
   "outputs": [],
   "source": [
    "trDocs = [nlp(txt) for txt in trTxts]"
   ]
  },
  {
   "cell_type": "code",
   "execution_count": 134,
   "metadata": {},
   "outputs": [
    {
     "data": {
      "text/plain": [
       "'Helen S. Aigen'"
      ]
     },
     "execution_count": 134,
     "metadata": {},
     "output_type": "execute_result"
    }
   ],
   "source": [
    "################################################################################\n",
    "def extractName(doc):\n",
    "    sent = next(doc.sents) # get first sentence of document\n",
    "    for n,tk in enumerate(sent): # loop over tokens of first sentence\n",
    "        if (tk.is_digit or tk.shape_[0]=='x' or \n",
    "                tk.is_punct and not (tk.is_left_punct or tk.is_right_punct)):\n",
    "            break\n",
    "    if doc[n-1].is_punct: # if span ends with punctuation, reduce span by 1\n",
    "        n -= 1\n",
    "    nameSpan = doc[:n]\n",
    "    \n",
    "    # see if any PERSON entity was matched in span\n",
    "    if 'PERSON' not in set([tk.ent_type_ for tk in nameSpan]): # no PERSON\n",
    "        for e in trDocs[12].ents: # loop over all extracted entities\n",
    "            if e.label_ == 'PERSON': # find first PERSON entity\n",
    "                nameSpan = e # set that entity to the name\n",
    "                break\n",
    "    return nameSpan.text\n",
    "\n",
    "extractName(trDocs[3])"
   ]
  },
  {
   "cell_type": "code",
   "execution_count": 150,
   "metadata": {},
   "outputs": [],
   "source": [
    "################################################################################\n",
    "def isMan(tokens):\n",
    "    tokens = [tk.lower_ for tk in tokens]\n",
    "    female = sum([tk=='her' or tk=='she' for tk in tokens])\n",
    "    male = sum([tk=='his' or tk=='he' for tk in tokens])\n",
    "    return male >= female"
   ]
  },
  {
   "cell_type": "code",
   "execution_count": 151,
   "metadata": {},
   "outputs": [
    {
     "data": {
      "text/plain": [
       "False"
      ]
     },
     "execution_count": 151,
     "metadata": {},
     "output_type": "execute_result"
    }
   ],
   "source": [
    "isMan(trDocs[14])"
   ]
  },
  {
   "cell_type": "code",
   "execution_count": 295,
   "metadata": {},
   "outputs": [
    {
     "data": {
      "text/plain": [
       "(80, 96)"
      ]
     },
     "execution_count": 295,
     "metadata": {},
     "output_type": "execute_result"
    }
   ],
   "source": [
    "ageMatch = spacy.matcher.Matcher(nlp.vocab)\n",
    "ageMatch.add(\"age\", None, [{\"TEXT\": {\"REGEX\": \"^(1?\\d\\d)$\"}}])\n",
    "def getAgeDoc(doc):\n",
    "    matches = ageMatch(doc)\n",
    "    numPos = [(int(doc[m[1]:m[2]].text),m[1]) for m in matches]\n",
    "    return max(numPos, key=lambda x: x[0])\n",
    "\n",
    "getAgeDoc(trDocs[12])"
   ]
  },
  {
   "cell_type": "code",
   "execution_count": 234,
   "metadata": {},
   "outputs": [
    {
     "data": {
      "text/plain": [
       "(80, 483)"
      ]
     },
     "execution_count": 234,
     "metadata": {},
     "output_type": "execute_result"
    }
   ],
   "source": [
    "# ageRe = re.compile(r'\\b(1?\\d\\d)(?:th|st|er|rd)?\\b') # match digits for age\n",
    "ageRe = re.compile(r'\\b(1?\\d\\d)\\b') # match digits for age\n",
    "def getAgeRegex(doc):\n",
    "    mt = ageRe.finditer(doc.text)\n",
    "    numPos = [(int(tk[0]),tk.span()[0]) for tk in mt]\n",
    "    return max(numPos, key=lambda x: x[0])\n",
    "\n",
    "getAgeRegex(trDocs[12])"
   ]
  },
  {
   "cell_type": "code",
   "execution_count": 376,
   "metadata": {},
   "outputs": [
    {
     "data": {
      "text/plain": [
       "'Robert W. Rudd'"
      ]
     },
     "execution_count": 376,
     "metadata": {},
     "output_type": "execute_result"
    }
   ],
   "source": [
    "# patterns like: survivors including his wife..., greatly missed by her husband...,\n",
    "# predeceased by ...\n",
    "# since many obits describe deceased as great husband/wife, must use gender to \n",
    "# distinguish descriptor of the deceased vs the spouse. Also gender is easy to find\n",
    "\n",
    "def findSpouseName(doc, male=True):\n",
    "    if male: \n",
    "        spouseRe = re.compile(r'(?:wife|spous|partner)', re.I)\n",
    "    else:\n",
    "        spouseRe = re.compile(r'(?:husband|spous|partner)', re.I)\n",
    "    \n",
    "    mt = spouseRe.search(doc.text) # assume first match is good\n",
    "    if not mt: # if no match, assumes no spouse can be found\n",
    "        return None\n",
    "    \n",
    "    for tk in doc: # loop over tokens, find 1st token after end of reged match\n",
    "        if tk.idx >= mt.span()[1]: # if token char-idx after end of regex match\n",
    "            span = doc.char_span(tk.idx, len(doc.text)) # rest of doc as span\n",
    "            break\n",
    "    \n",
    "    for et in span.ents:\n",
    "        if et.label_ == 'PERSON':\n",
    "            return et.text\n",
    "    return None\n",
    "\n",
    "findSpouseName(trDocs[13], isMan(trDocs[13]))"
   ]
  },
  {
   "cell_type": "code",
   "execution_count": 270,
   "metadata": {},
   "outputs": [
    {
     "data": {
      "text/plain": [
       "409"
      ]
     },
     "execution_count": 270,
     "metadata": {},
     "output_type": "execute_result"
    }
   ],
   "source": [
    "bdayRe = re.compile(r'')"
   ]
  },
  {
   "cell_type": "code",
   "execution_count": 375,
   "metadata": {},
   "outputs": [],
   "source": [
    "################################################################################\n",
    "bdayMatch = spacy.matcher.Matcher(nlp.vocab)\n",
    "bdayMatch.add(\"bday\", None, [{\"LOWER\":\"born\"}])\n",
    "def findBirthdate(doc):\n",
    "    matchSent = doc[bdayMatch(doc)[0][1]].sent # assume 1st match is good\n",
    "    spanBeg,spanEnd = matchSent.start, matchSent.end\n",
    "    for n in range(2):\n",
    "        spanEnd = doc[spanEnd].sent.end\n",
    "        \n",
    "    for et in doc[spanBeg:spanEnd].ents:\n",
    "        if et.label_ == 'DATE' and re.findall(r'\\d\\d\\d\\d', et.text):\n",
    "            return et.text\n",
    "    return None\n",
    "\n",
    "findBirthdate(trDocs[13])"
   ]
  },
  {
   "cell_type": "code",
   "execution_count": 362,
   "metadata": {},
   "outputs": [
    {
     "data": {
      "text/plain": [
       "['2019']"
      ]
     },
     "execution_count": 362,
     "metadata": {},
     "output_type": "execute_result"
    }
   ],
   "source": [
    "re.findall(r'\\d\\d\\d\\d', 'April 24, 2019')"
   ]
  },
  {
   "cell_type": "code",
   "execution_count": 310,
   "metadata": {},
   "outputs": [
    {
     "ename": "TypeError",
     "evalue": "list indices must be integers or slices, not tuple",
     "output_type": "error",
     "traceback": [
      "\u001b[1;31m---------------------------------------------------------------------------\u001b[0m",
      "\u001b[1;31mTypeError\u001b[0m                                 Traceback (most recent call last)",
      "\u001b[1;32m<ipython-input-310-89dbaefab914>\u001b[0m in \u001b[0;36m<module>\u001b[1;34m\u001b[0m\n\u001b[1;32m----> 1\u001b[1;33m \u001b[0mtrDocs\u001b[0m\u001b[1;33m[\u001b[0m\u001b[0mtrDocs\u001b[0m\u001b[1;33m[\u001b[0m\u001b[1;36m0\u001b[0m\u001b[1;33m]\u001b[0m\u001b[1;33m[\u001b[0m\u001b[1;36m23\u001b[0m\u001b[1;33m]\u001b[0m\u001b[1;33m.\u001b[0m\u001b[0msent\u001b[0m\u001b[1;33m.\u001b[0m\u001b[0mend\u001b[0m\u001b[1;33m+\u001b[0m\u001b[1;36m1\u001b[0m\u001b[1;33m,\u001b[0m\u001b[1;33m]\u001b[0m\u001b[1;33m\u001b[0m\u001b[1;33m\u001b[0m\u001b[0m\n\u001b[0m",
      "\u001b[1;31mTypeError\u001b[0m: list indices must be integers or slices, not tuple"
     ]
    }
   ],
   "source": [
    "trDocs[trDocs[0][23].sent.end+1,]"
   ]
  },
  {
   "cell_type": "code",
   "execution_count": 377,
   "metadata": {},
   "outputs": [],
   "source": [
    "# spacy.displacy.render(trDocs[3], style='ent')"
   ]
  },
  {
   "cell_type": "code",
   "execution_count": 8,
   "metadata": {},
   "outputs": [
    {
     "data": {
      "text/plain": [
       "datetime.datetime(2018, 9, 30, 0, 0)"
      ]
     },
     "execution_count": 8,
     "metadata": {},
     "output_type": "execute_result"
    }
   ],
   "source": [
    "dateutil.parser.parse('September 30, 2018')"
   ]
  },
  {
   "cell_type": "code",
   "execution_count": 6,
   "metadata": {},
   "outputs": [],
   "source": [
    "# def writeConllInput(outFile, txtLists):\n",
    "#     with open(outFile, 'w', encoding='utf-8') as fh:\n",
    "#         for txt in txtLists: # loop over documents\n",
    "#             doc = nlp(txt) # analyze doc\n",
    "#             fh.write('-DOCSTART- -X- -X- O\\n\\n')\n",
    "#             for st in doc.sents: # loop over sentence\n",
    "#                 fh.writelines([tk.text+'   \\n' if tk.text!='\\n' \n",
    "#                                else tk.text for tk in st])\n",
    "#             fh.write('\\n')\n",
    "\n",
    "# writeConllInput('data/obits.train.conll', trTxts)\n",
    "# writeConllInput('data/obits.test.conll', testTxts)"
   ]
  }
 ],
 "metadata": {
  "kernelspec": {
   "display_name": "Python 3",
   "language": "python",
   "name": "python3"
  },
  "language_info": {
   "codemirror_mode": {
    "name": "ipython",
    "version": 3
   },
   "file_extension": ".py",
   "mimetype": "text/x-python",
   "name": "python",
   "nbconvert_exporter": "python",
   "pygments_lexer": "ipython3",
   "version": "3.7.4"
  }
 },
 "nbformat": 4,
 "nbformat_minor": 2
}
