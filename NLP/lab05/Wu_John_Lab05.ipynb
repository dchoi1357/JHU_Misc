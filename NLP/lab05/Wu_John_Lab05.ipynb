{
 "cells": [
  {
   "cell_type": "markdown",
   "metadata": {},
   "source": [
    "# Lab 05\n",
    "\n",
    "Student: John Wu"
   ]
  },
  {
   "cell_type": "code",
   "execution_count": 1,
   "metadata": {},
   "outputs": [],
   "source": [
    "import nltk, sys, gensim, unicodedata\n",
    "from gensim.models import Word2Vec, KeyedVectors\n",
    "import numpy as np\n",
    "from sklearn.decomposition import PCA\n",
    "import matplotlib.pyplot as plt\n",
    "%matplotlib inline"
   ]
  },
  {
   "cell_type": "markdown",
   "metadata": {},
   "source": [
    "## Analysis of small.txt file\n",
    "\n",
    "The file contains sentences delimited by line breaks. However, the sentences need to be tokenized first before it can be processed. To do this, we use the [Tok-Tok](https://github.com/jonsafari/tok-tok) tokenizer, which is fast (though simple) tokenizer of sentences that work on different Romance languages.\n",
    "\n",
    "Since we need to remove puncutations as well, a function is implemented to check if the token is of length 1, and if it is, the [unicode category](https://unicodebook.readthedocs.io/unicode.html#categories) of the token is of punctuation or symbol (or `P` and `S`)."
   ]
  },
  {
   "cell_type": "code",
   "execution_count": 2,
   "metadata": {},
   "outputs": [],
   "source": [
    "punctCatgs = {'P', 'S'}\n",
    "def isPunct(tkn): # if length=1 and in unicode punctuation and symbol cateogry\n",
    "    return len(tkn) == 1 and unicodedata.category(tkn)[0] in punctCatgs\n",
    "\n",
    "toktok = nltk.toktok.ToktokTokenizer() # instantiate TokTok tokenizer\n",
    "def tokSentNoPunc(txt): # sentence tokenizer\n",
    "    return [t for t in toktok.tokenize(txt) if not isPunct(t)]"
   ]
  },
  {
   "cell_type": "markdown",
   "metadata": {},
   "source": [
    "The file is read in as unicode since there are presence of non-ASCII punctuations and letter. We also convert all text to lower case. The code below reads the file and print out a sample of the tokenized result."
   ]
  },
  {
   "cell_type": "code",
   "execution_count": 3,
   "metadata": {},
   "outputs": [
    {
     "name": "stdout",
     "output_type": "stream",
     "text": [
      "[['eds', 'shareholders', 'to', 'receive', '25.00', 'per', 'share', 'in', 'cash', 'for', 'each', 'eds', 'share'], ['the', 'developer', 'have', 'to', 'present', 'the', 'contract', 'to', 'the', 'bank', 'in', 'order', 'to', 'release', 'the', 'funds'], ['we', 're', 'now', 'examining', 'what', 'role', 'the', 'united', 'nations', 'can', 'play', 'in', 'resolution', 'of', 'this', 'conflict', 'he', 'said.', 'our', 'ambassador', 'to', 'the', 'united', 'nations', 'has', 'begun', 'consultations', 'in', 'this', 'regard'], ['from', 'his', 'remark', 'we', 'can', 'understand', 'that', 'in', 'the', 'private', 'talks', 'in', 'deauville', 'and', 'the', 'discussions', 'before', 'deauville', 'the', 'russians', 'tried', 'to', 'blame', 'romania', 'for', 'the', 'transdniester', 'impasse']]\n"
     ]
    }
   ],
   "source": [
    "def readFileAndTokenize(filePath):\n",
    "    with open(filePath, 'r', encoding='utf-8') as f: # open as unicode\n",
    "        return [tokSentNoPunc(l.casefold()) for l in f] # read lines and tokenize\n",
    "\n",
    "sents = readFileAndTokenize('./data/small.txt')\n",
    "print(sents[100:104])"
   ]
  },
  {
   "cell_type": "markdown",
   "metadata": {},
   "source": [
    "__Build a word2vec model__\n",
    "\n",
    "Using the gensim library, a 100-dimension word2vec model is built and word embeddings calculated."
   ]
  },
  {
   "cell_type": "code",
   "execution_count": 4,
   "metadata": {},
   "outputs": [],
   "source": [
    "mdl = Word2Vec(sents, size=100, window=5, min_count=2, sg=1, negative=8)"
   ]
  },
  {
   "cell_type": "markdown",
   "metadata": {},
   "source": [
    "To create a visualization of embedding vectors, we get the first two principal components of several terms."
   ]
  },
  {
   "cell_type": "code",
   "execution_count": 8,
   "metadata": {},
   "outputs": [],
   "source": [
    "wrds = ['cat', 'dog', 'truck', 'train', 'two', 'three', 'four', \n",
    "        'paris', 'istanbul', 'moscow', 'france', 'turkey', 'russia', ]\n",
    "v = np.vstack([mdl.wv[s] for s in wrds]).T # stack vectors from all words\n",
    "pc2 = PCA(n_components=2) # model for PC1 and PC2\n",
    "pc2.fit(v); # get the PCs"
   ]
  },
  {
   "cell_type": "markdown",
   "metadata": {},
   "source": [
    "We plot the PC1 on x-axis, PC2 on y-axis, along with text annotation of the data points."
   ]
  },
  {
   "cell_type": "code",
   "execution_count": 9,
   "metadata": {},
   "outputs": [
    {
     "data": {
      "image/png": "[encoded data removed]",
      "text/plain": [
       "<Figure size 432x288 with 1 Axes>"
      ]
     },
     "metadata": {
      "needs_background": "light"
     },
     "output_type": "display_data"
    }
   ],
   "source": [
    "plt.scatter(pc2.components_[0], pc2.components_[1])\n",
    "for n,w in enumerate(wrds):\n",
    "    plt.text(pc2.components_[0,n], pc2.components_[1,n], w)\n",
    "plt.show()"
   ]
  },
  {
   "cell_type": "markdown",
   "metadata": {},
   "source": [
    "The related words are grouped together generally. For exampe, `two`, `three`, `four` are together on the upper right corner. `train` and `truck` are next to each other, as are `cat` and `dog`. The vector of `russia` - `moscow` is similar to `france` - `paris`"
   ]
  },
  {
   "cell_type": "markdown",
   "metadata": {},
   "source": [
    "## Google News Pre-trained Embeddings\n",
    "\n",
    "Below, we read in a pre-trained Google News embeddings file"
   ]
  },
  {
   "cell_type": "code",
   "execution_count": 10,
   "metadata": {},
   "outputs": [],
   "source": [
    "googFile = './data/GoogleNews-vectors-negative300.bin'\n",
    "googMdl = KeyedVectors.load_word2vec_format(googFile, binary=True)"
   ]
  },
  {
   "cell_type": "markdown",
   "metadata": {},
   "source": [
    "### 6.1 Most similar words to several words"
   ]
  },
  {
   "cell_type": "code",
   "execution_count": 11,
   "metadata": {},
   "outputs": [
    {
     "data": {
      "text/plain": [
       "[('wines', 0.8619791269302368),\n",
       " ('chardonnay', 0.7595281004905701),\n",
       " ('pinot_noir', 0.7584253549575806),\n",
       " ('sparkling_wine', 0.7562699317932129),\n",
       " ('sparkling_wines', 0.7555115222930908),\n",
       " ('pinot', 0.742101788520813),\n",
       " ('rosé', 0.7397210597991943),\n",
       " ('vino', 0.7260570526123047),\n",
       " ('merlot', 0.7179162502288818),\n",
       " ('Pinot_Noir', 0.7176920175552368)]"
      ]
     },
     "execution_count": 11,
     "metadata": {},
     "output_type": "execute_result"
    }
   ],
   "source": [
    "googMdl.most_similar('wine')"
   ]
  },
  {
   "cell_type": "code",
   "execution_count": 12,
   "metadata": {},
   "outputs": [
    {
     "data": {
      "text/plain": [
       "[('interesting', 0.762306809425354),\n",
       " ('intriguing', 0.7245113849639893),\n",
       " ('enlightening', 0.6644250750541687),\n",
       " ('captivating', 0.6459898352622986),\n",
       " ('facinating', 0.641668438911438),\n",
       " ('riveting', 0.6324825286865234),\n",
       " ('instructive', 0.6210989356040955),\n",
       " ('endlessly_fascinating', 0.6188612580299377),\n",
       " ('revelatory', 0.6170244216918945),\n",
       " ('engrossing', 0.6126049757003784)]"
      ]
     },
     "execution_count": 12,
     "metadata": {},
     "output_type": "execute_result"
    }
   ],
   "source": [
    "googMdl.most_similar('fascinating')"
   ]
  },
  {
   "cell_type": "code",
   "execution_count": 13,
   "metadata": {},
   "outputs": [
    {
     "data": {
      "text/plain": [
       "[('cultivating', 0.7274794578552246),\n",
       " ('cultivated', 0.6766660213470459),\n",
       " ('nurture', 0.6695472002029419),\n",
       " ('cultivates', 0.6159787178039551),\n",
       " ('develop', 0.6053071022033691),\n",
       " ('Cultivate', 0.5910323858261108),\n",
       " ('Cultivating', 0.5667836666107178),\n",
       " ('nuture', 0.5440778732299805),\n",
       " ('nourish', 0.5328434109687805),\n",
       " ('grow', 0.5282535552978516)]"
      ]
     },
     "execution_count": 13,
     "metadata": {},
     "output_type": "execute_result"
    }
   ],
   "source": [
    "googMdl.most_similar('cultivate')"
   ]
  },
  {
   "cell_type": "markdown",
   "metadata": {},
   "source": [
    "In general, the result are as expected. Similar terms to \"wine\" are largely types of wines. Linguistically, one would expect the types of wines to be used in similar context as the generic word wine. \n",
    "\n",
    "For the term \"fascinating\", the most similar terms are all synonyms of the original term. One interesting result is that one of the terms is a typographical error \"facinating\". However, this also makes sense because one would expect a typo to be used in similar manners as the original term.\n",
    "\n",
    "For "
   ]
  },
  {
   "cell_type": "markdown",
   "metadata": {},
   "source": [
    "### Intuition of Similarity/Distance\n",
    "\n",
    "In the following section, we explore the similarity scores for a few sets of words."
   ]
  },
  {
   "cell_type": "code",
   "execution_count": 15,
   "metadata": {},
   "outputs": [
    {
     "data": {
      "text/plain": [
       "array([0.20985174, 0.6231039 , 0.8943766 ], dtype=float32)"
      ]
     },
     "execution_count": 15,
     "metadata": {},
     "output_type": "execute_result"
    }
   ],
   "source": [
    "googMdl.distances('mother', ['father', 'teacher', 'ocean'])"
   ]
  },
  {
   "cell_type": "code",
   "execution_count": 26,
   "metadata": {},
   "outputs": [
    {
     "data": {
      "text/plain": [
       "array([0.49617392, 0.44819546, 0.7123459 , 0.78796744], dtype=float32)"
      ]
     },
     "execution_count": 26,
     "metadata": {},
     "output_type": "execute_result"
    }
   ],
   "source": [
    "googMdl.distances('Vietnam', ['Thailand', 'China', 'Egypt', 'Spain'])"
   ]
  },
  {
   "cell_type": "code",
   "execution_count": 29,
   "metadata": {},
   "outputs": [
    {
     "data": {
      "text/plain": [
       "array([0.33986348, 0.5947554 , 0.91249037], dtype=float32)"
      ]
     },
     "execution_count": 29,
     "metadata": {},
     "output_type": "execute_result"
    }
   ],
   "source": [
    "googMdl.distances('beef', ['pork', 'rice', 'water'])"
   ]
  },
  {
   "cell_type": "markdown",
   "metadata": {},
   "source": [
    "The results for these three sets of words are as expected. \"Mother\" should be used in a more similar context as \"father\" vs. \"teacher\" or largely unrelated \"ocean\". When comparing Vietnam to other country names, it is closest to Thailand, followed by China, Egypt and then Spain. In this case, the similarity follows geographical (and also cultural) distribution of the countries. For the word \"beef\", it's more similar to \"pork\" than \"rice\" and \"water\". As one would expect pork to be used in the same manner as beef, since they are both meat and possible substitute. On the other hand, \"beef\" sometimes can be with \"rice\" to describe a meal. "
   ]
  },
  {
   "cell_type": "markdown",
   "metadata": {},
   "source": [
    "### Analogies\n",
    "\n",
    "With `most_similar_cosmul` function, we could complete analogies in the form of x:y::a:b. For example, puppies:dog::cat:kittens"
   ]
  },
  {
   "cell_type": "code",
   "execution_count": 30,
   "metadata": {},
   "outputs": [
    {
     "data": {
      "text/plain": [
       "[('kittens', 0.9692491292953491)]"
      ]
     },
     "execution_count": 30,
     "metadata": {},
     "output_type": "execute_result"
    }
   ],
   "source": [
    "googMdl.most_similar_cosmul(['puppies', 'cat'], ['dog'], 1)"
   ]
  },
  {
   "cell_type": "markdown",
   "metadata": {},
   "source": [
    "The following are some more examples of analogies"
   ]
  },
  {
   "cell_type": "code",
   "execution_count": 17,
   "metadata": {},
   "outputs": [
    {
     "data": {
      "text/plain": [
       "[('listen', 0.915989875793457)]"
      ]
     },
     "execution_count": 17,
     "metadata": {},
     "output_type": "execute_result"
    }
   ],
   "source": [
    "googMdl.most_similar_cosmul(['read', 'music'], ['book'], 1)"
   ]
  },
  {
   "cell_type": "code",
   "execution_count": 18,
   "metadata": {},
   "outputs": [
    {
     "data": {
      "text/plain": [
       "[('cold', 0.8846044540405273)]"
      ]
     },
     "execution_count": 18,
     "metadata": {},
     "output_type": "execute_result"
    }
   ],
   "source": [
    "googMdl.most_similar_cosmul(['hot', 'winter'], ['summer'], 1)"
   ]
  },
  {
   "cell_type": "code",
   "execution_count": 23,
   "metadata": {},
   "outputs": [
    {
     "name": "stdout",
     "output_type": "stream",
     "text": [
      "[0.28120732 0.26688498 0.88406587]\n",
      "1.5743394\n",
      "1.7342917\n"
     ]
    }
   ],
   "source": [
    "print(googMdl.distances('small', ['tiny', 'large', 'ice']))\n",
    "print(np.linalg.norm(googMdl['large'] - googMdl['small']))\n",
    "print(np.linalg.norm(googMdl['tiny'] - googMdl['small']))"
   ]
  },
  {
   "cell_type": "code",
   "execution_count": null,
   "metadata": {},
   "outputs": [],
   "source": [
    "del googMdl"
   ]
  },
  {
   "cell_type": "markdown",
   "metadata": {},
   "source": [
    "## Word Embedding for Translations\n",
    "\n",
    "Read in text files for both languages and tokenize them using Tok-Tok. "
   ]
  },
  {
   "cell_type": "code",
   "execution_count": null,
   "metadata": {},
   "outputs": [],
   "source": [
    "engSents = readFileAndTokenize('./data/eng.txt')\n",
    "spaSents = readFileAndTokenize('./data/spa.txt')"
   ]
  },
  {
   "cell_type": "markdown",
   "metadata": {},
   "source": [
    "Training models and saving results"
   ]
  },
  {
   "cell_type": "code",
   "execution_count": null,
   "metadata": {},
   "outputs": [],
   "source": [
    "engModel = Word2Vec(engSents, size=100, window=5, min_count=2, sg=1, negative=8)\n",
    "spaModel = Word2Vec(spaSents, size=100, window=5, min_count=2, sg=1, negative=8)"
   ]
  },
  {
   "cell_type": "code",
   "execution_count": null,
   "metadata": {},
   "outputs": [],
   "source": [
    "engModel.wv.save_word2vec_format('eng.w2v.model')\n",
    "spaModel.wv.save_word2vec_format('spa.w2v.model')"
   ]
  },
  {
   "cell_type": "markdown",
   "metadata": {},
   "source": [
    "Run vecmap code to learn bilingual projections"
   ]
  },
  {
   "cell_type": "code",
   "execution_count": null,
   "metadata": {},
   "outputs": [],
   "source": [
    "%run ./vecmap/map_embeddings.py --supervised data/es-en.train.txt \\ \n",
    "    spa.w2v.model eng.w2v.model spa_mapped.emb eng_mapped.emb "
   ]
  },
  {
   "cell_type": "markdown",
   "metadata": {},
   "source": [
    "Load the bilingual embeddings"
   ]
  },
  {
   "cell_type": "code",
   "execution_count": null,
   "metadata": {},
   "outputs": [],
   "source": [
    "spa2eng = gensim.models.KeyedVectors.load_word2vec_format('spa_mapped.emb')\n",
    "eng2spa = gensim.models.KeyedVectors.load_word2vec_format('eng_mapped.emb') "
   ]
  },
  {
   "cell_type": "markdown",
   "metadata": {},
   "source": [
    "Test out the various translations by displaying the corresponding word."
   ]
  },
  {
   "cell_type": "code",
   "execution_count": 31,
   "metadata": {},
   "outputs": [],
   "source": [
    "def printTranslation(words, engInput=False):\n",
    "    if isinstance(words, str):\n",
    "        words = [words]\n",
    "    for w in words:\n",
    "        if engInput:\n",
    "            trans = eng2spa.similar_by_vector(spa2eng[w])[0]\n",
    "            print(\"Sp: %s = En: %s, (%f)\" % (w, trans[0], trans[1]))\n",
    "        else:\n",
    "            trans = spa2eng.similar_by_vector(eng2spa[w])[0]\n",
    "            print(\"En: %s = Sp: %s, (%f)\" % (w, trans[0], trans[1]))"
   ]
  },
  {
   "cell_type": "code",
   "execution_count": null,
   "metadata": {},
   "outputs": [],
   "source": [
    "l = ['playa', 'villa', 'perros', 'naufragio', 'islas', 'cantar', \n",
    "     'calles', 'naranjas', 'bomberos', 'escalera', 'nadó','frontera',\n",
    "     'pasaporte', 'fábrica']\n",
    "printTranslation(l)"
   ]
  },
  {
   "cell_type": "code",
   "execution_count": null,
   "metadata": {},
   "outputs": [],
   "source": [
    "l2 = ['jugar', 'juego', 'juegas', 'juega', 'jugamos', 'juegan']\n",
    "printTranslation(l2)"
   ]
  },
  {
   "cell_type": "code",
   "execution_count": null,
   "metadata": {},
   "outputs": [],
   "source": [
    "l3 = ['europeo', 'español', 'cubano', 'ecuatoriano', 'francés', 'alemán', \n",
    "      'chino', 'japonés', 'americano', 'estadounidense',  'egipcio',\n",
    "      'turco', 'nigeriano']\n",
    "printTranslation(l3)"
   ]
  }
 ],
 "metadata": {
  "kernelspec": {
   "display_name": "Python 3",
   "language": "python",
   "name": "python3"
  },
  "language_info": {
   "codemirror_mode": {
    "name": "ipython",
    "version": 3
   },
   "file_extension": ".py",
   "mimetype": "text/x-python",
   "name": "python",
   "nbconvert_exporter": "python",
   "pygments_lexer": "ipython3",
   "version": "3.6.5"
  }
 },
 "nbformat": 4,
 "nbformat_minor": 2
}
