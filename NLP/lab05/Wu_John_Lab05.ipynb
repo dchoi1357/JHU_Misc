{
 "cells": [
  {
   "cell_type": "code",
   "execution_count": 157,
   "metadata": {},
   "outputs": [],
   "source": [
    "import nltk, sys, string, gensim, unicodedata, re\n",
    "from gensim.models import Word2Vec, KeyedVectors\n",
    "import numpy as np\n",
    "from sklearn.decomposition import PCA\n",
    "import matplotlib.pyplot as plt\n",
    "%matplotlib inline"
   ]
  },
  {
   "cell_type": "code",
   "execution_count": null,
   "metadata": {},
   "outputs": [],
   "source": []
  },
  {
   "cell_type": "markdown",
   "metadata": {},
   "source": [
    "## Analysis of small.txt file"
   ]
  },
  {
   "cell_type": "code",
   "execution_count": 78,
   "metadata": {},
   "outputs": [],
   "source": [
    "punctCatgs = {'P', 'S'}\n",
    "def isPunct(tkn):\n",
    "    if len(tkn) > 2:\n",
    "        return False\n",
    "    elif len(tkn) == 1 and unicodedata.category(tkn)[0] in punctCatgs:\n",
    "        return True\n",
    "    elif len(tkn) == 2 and (tkn==\"``\" or tkn==\"''\"):\n",
    "        return True\n",
    "    else:\n",
    "        return False\n",
    "\n",
    "def tokenize(txt):\n",
    "    s = {'P', 'S'}\n",
    "    tkns = nltk.word_tokenize(txt.casefold())\n",
    "    return [t for t in tkns if not isPunct(t)]"
   ]
  },
  {
   "cell_type": "code",
   "execution_count": 79,
   "metadata": {},
   "outputs": [
    {
     "name": "stdout",
     "output_type": "stream",
     "text": [
      "[['eds', 'shareholders', 'to', 'receive', '25.00', 'per', 'share', 'in', 'cash', 'for', 'each', 'eds', 'share'], ['the', 'developer', 'have', 'to', 'present', 'the', 'contract', 'to', 'the', 'bank', 'in', 'order', 'to', 'release', 'the', 'funds'], ['we', \"'re\", 'now', 'examining', 'what', 'role', 'the', 'united', 'nations', 'can', 'play', 'in', 'resolution', 'of', 'this', 'conflict', 'he', 'said', 'our', 'ambassador', 'to', 'the', 'united', 'nations', 'has', 'begun', 'consultations', 'in', 'this', 'regard'], ['from', 'his', 'remark', 'we', 'can', 'understand', 'that', 'in', 'the', 'private', 'talks', 'in', 'deauville', 'and', 'the', 'discussions', 'before', 'deauville', 'the', 'russians', 'tried', 'to', 'blame', 'romania', 'for', 'the', 'transdniester', 'impasse']]\n"
     ]
    }
   ],
   "source": [
    "with open('./data/small.txt', 'r', encoding='utf-8') as f:\n",
    "    sents = [tokenize(line) for line in f.read().split('\\n')]\n",
    "\n",
    "print(sents[100:104])"
   ]
  },
  {
   "cell_type": "markdown",
   "metadata": {},
   "source": [
    "Build a word2vec model"
   ]
  },
  {
   "cell_type": "code",
   "execution_count": 143,
   "metadata": {},
   "outputs": [],
   "source": [
    "mdl = Word2Vec(sentences=sents, size=100, window=5, min_count=2, sg=1, negative=8)"
   ]
  },
  {
   "cell_type": "markdown",
   "metadata": {},
   "source": [
    "Get the first two principal components of several terms"
   ]
  },
  {
   "cell_type": "code",
   "execution_count": 148,
   "metadata": {},
   "outputs": [],
   "source": [
    "wrds = ['paris', 'istanbul', 'moscow', 'france', 'turkey', 'russia', 'cat', \n",
    "        'dog', 'truck', 'train', 'two', 'three', 'four']\n",
    "v = np.vstack([mdl.wv[s] for s in wrds]).T\n",
    "pc2 = PCA(n_components=2)\n",
    "pc2.fit(v);"
   ]
  },
  {
   "cell_type": "markdown",
   "metadata": {},
   "source": [
    "Plot the PC1 and PC2 along with text annotation"
   ]
  },
  {
   "cell_type": "code",
   "execution_count": 146,
   "metadata": {},
   "outputs": [
    {
     "data": {
      "image/png": "[encoded data removed]",
      "text/plain": [
       "<Figure size 432x288 with 1 Axes>"
      ]
     },
     "metadata": {
      "needs_background": "light"
     },
     "output_type": "display_data"
    }
   ],
   "source": [
    "plt.scatter(pc2.components_[0], pc2.components_[1])\n",
    "for n,w in enumerate(wrds):\n",
    "    plt.text(pc2.components_[0,n], pc2.components_[1,n], w)\n",
    "plt.show()"
   ]
  },
  {
   "cell_type": "code",
   "execution_count": null,
   "metadata": {},
   "outputs": [],
   "source": [
    "################################################################################"
   ]
  },
  {
   "cell_type": "markdown",
   "metadata": {},
   "source": [
    "## Google News Pre-trained Embeddings"
   ]
  },
  {
   "cell_type": "code",
   "execution_count": 158,
   "metadata": {},
   "outputs": [],
   "source": [
    "googFile = './data/GoogleNews-vectors-negative300.bin'\n",
    "googMdl = KeyedVectors.load_word2vec_format(googFile, binary=True)"
   ]
  },
  {
   "cell_type": "code",
   "execution_count": 172,
   "metadata": {},
   "outputs": [
    {
     "data": {
      "text/plain": [
       "[('interesting', 0.762306809425354),\n",
       " ('intriguing', 0.7245113849639893),\n",
       " ('enlightening', 0.6644250750541687),\n",
       " ('captivating', 0.6459898352622986),\n",
       " ('facinating', 0.641668438911438),\n",
       " ('riveting', 0.6324825286865234),\n",
       " ('instructive', 0.6210989356040955),\n",
       " ('endlessly_fascinating', 0.6188612580299377),\n",
       " ('revelatory', 0.6170244216918945),\n",
       " ('engrossing', 0.6126049757003784)]"
      ]
     },
     "execution_count": 172,
     "metadata": {},
     "output_type": "execute_result"
    }
   ],
   "source": [
    "googMdl.most_similar('fascinating')"
   ]
  },
  {
   "cell_type": "code",
   "execution_count": 173,
   "metadata": {},
   "outputs": [
    {
     "data": {
      "text/plain": [
       "[('cultivating', 0.7274794578552246),\n",
       " ('cultivated', 0.6766660213470459),\n",
       " ('nurture', 0.6695472002029419),\n",
       " ('cultivates', 0.6159787178039551),\n",
       " ('develop', 0.6053071022033691),\n",
       " ('Cultivate', 0.5910323858261108),\n",
       " ('Cultivating', 0.5667836666107178),\n",
       " ('nuture', 0.5440778732299805),\n",
       " ('nourish', 0.5328434109687805),\n",
       " ('grow', 0.5282535552978516)]"
      ]
     },
     "execution_count": 173,
     "metadata": {},
     "output_type": "execute_result"
    }
   ],
   "source": [
    "googMdl.most_similar('cultivate')"
   ]
  },
  {
   "cell_type": "code",
   "execution_count": 176,
   "metadata": {},
   "outputs": [
    {
     "data": {
      "text/plain": [
       "array([0.78796744, 0.49617392, 0.7123459 ], dtype=float32)"
      ]
     },
     "execution_count": 176,
     "metadata": {},
     "output_type": "execute_result"
    }
   ],
   "source": [
    "googMdl.distances('Vietnam', ['Spain', 'China', 'Egypt'])"
   ]
  },
  {
   "cell_type": "code",
   "execution_count": 177,
   "metadata": {},
   "outputs": [
    {
     "data": {
      "text/plain": [
       "array([0.20985174, 0.6231039 , 0.8943766 ], dtype=float32)"
      ]
     },
     "execution_count": 177,
     "metadata": {},
     "output_type": "execute_result"
    }
   ],
   "source": [
    "googMdl.distances('mother', ['father', 'teacher', 'ocean'])"
   ]
  },
  {
   "cell_type": "code",
   "execution_count": 182,
   "metadata": {},
   "outputs": [
    {
     "data": {
      "text/plain": [
       "[('kittens', 0.9692491292953491)]"
      ]
     },
     "execution_count": 182,
     "metadata": {},
     "output_type": "execute_result"
    }
   ],
   "source": [
    "googMdl.most_similar_cosmul(['puppies', 'cat'], ['dog'], 1)"
   ]
  },
  {
   "cell_type": "code",
   "execution_count": 189,
   "metadata": {},
   "outputs": [
    {
     "data": {
      "text/plain": [
       "[('listen', 0.915989875793457)]"
      ]
     },
     "execution_count": 189,
     "metadata": {},
     "output_type": "execute_result"
    }
   ],
   "source": [
    "googMdl.most_similar_cosmul(['read', 'music'], ['book'], 1)"
   ]
  },
  {
   "cell_type": "code",
   "execution_count": 190,
   "metadata": {},
   "outputs": [
    {
     "data": {
      "text/plain": [
       "[('cold', 0.8846044540405273)]"
      ]
     },
     "execution_count": 190,
     "metadata": {},
     "output_type": "execute_result"
    }
   ],
   "source": [
    "googMdl.most_similar_cosmul(['hot', 'winter'], ['summer'], 1)"
   ]
  },
  {
   "cell_type": "code",
   "execution_count": 217,
   "metadata": {},
   "outputs": [
    {
     "data": {
      "text/plain": [
       "array([0.28120732, 0.26688498, 0.88406587], dtype=float32)"
      ]
     },
     "execution_count": 217,
     "metadata": {},
     "output_type": "execute_result"
    }
   ],
   "source": [
    "googMdl.distances('small', ['tiny', 'large', 'ice'])"
   ]
  },
  {
   "cell_type": "code",
   "execution_count": 218,
   "metadata": {},
   "outputs": [],
   "source": [
    "del googMdl"
   ]
  },
  {
   "cell_type": "markdown",
   "metadata": {},
   "source": [
    "## Word Embedding for Translations"
   ]
  },
  {
   "cell_type": "code",
   "execution_count": 220,
   "metadata": {},
   "outputs": [
    {
     "data": {
      "text/plain": [
       "[['ask',\n",
       "  'truman',\n",
       "  'burbank',\n",
       "  'an',\n",
       "  'ordinary',\n",
       "  'person',\n",
       "  'who',\n",
       "  'has',\n",
       "  'accidentally',\n",
       "  'learned',\n",
       "  'that',\n",
       "  'his',\n",
       "  'life',\n",
       "  'is',\n",
       "  'a',\n",
       "  'popular',\n",
       "  'tv',\n",
       "  'show'],\n",
       " ['he',\n",
       "  \"'s\",\n",
       "  'fighting',\n",
       "  'at',\n",
       "  'a',\n",
       "  'weight',\n",
       "  'he',\n",
       "  \"'s\",\n",
       "  'comfortable',\n",
       "  'at'],\n",
       " ['he',\n",
       "  'is',\n",
       "  'far',\n",
       "  'better',\n",
       "  'in',\n",
       "  'his',\n",
       "  'ironic',\n",
       "  'comments',\n",
       "  'on',\n",
       "  'war',\n",
       "  'like',\n",
       "  \"'my\",\n",
       "  'sweet',\n",
       "  'old',\n",
       "  'etcetera',\n",
       "  'and',\n",
       "  \"'plato\",\n",
       "  'told/him',\n",
       "  'and',\n",
       "  'in',\n",
       "  'his',\n",
       "  'ability',\n",
       "  'to',\n",
       "  'catch',\n",
       "  'the',\n",
       "  'flavour',\n",
       "  'of',\n",
       "  'low-life',\n",
       "  'speech',\n",
       "  'as',\n",
       "  'in',\n",
       "  \"'yguduh\"],\n",
       " ['our',\n",
       "  'strong',\n",
       "  'team',\n",
       "  'performed',\n",
       "  'extremely',\n",
       "  'well',\n",
       "  'in',\n",
       "  'safety',\n",
       "  'environmental',\n",
       "  'protection',\n",
       "  'production',\n",
       "  'and',\n",
       "  'product',\n",
       "  'sales'],\n",
       " ['a',\n",
       "  'western',\n",
       "  'theologian',\n",
       "  'has',\n",
       "  'said',\n",
       "  'that',\n",
       "  'we',\n",
       "  'may',\n",
       "  'proclaim',\n",
       "  'the',\n",
       "  'whole',\n",
       "  'truth',\n",
       "  'of',\n",
       "  'orthodoxy',\n",
       "  'and',\n",
       "  'at',\n",
       "  'the',\n",
       "  'same',\n",
       "  'time',\n",
       "  'deface',\n",
       "  'it',\n",
       "  'give',\n",
       "  'it',\n",
       "  'the',\n",
       "  'lie',\n",
       "  'by',\n",
       "  'the',\n",
       "  'way',\n",
       "  'in',\n",
       "  'which',\n",
       "  'we',\n",
       "  'live',\n",
       "  'showing',\n",
       "  'with',\n",
       "  'our',\n",
       "  'life',\n",
       "  'that',\n",
       "  'all',\n",
       "  'these',\n",
       "  'were',\n",
       "  'words',\n",
       "  'but',\n",
       "  'not',\n",
       "  'reality'],\n",
       " ['in',\n",
       "  'contrast',\n",
       "  'only',\n",
       "  '12',\n",
       "  'cases',\n",
       "  'of',\n",
       "  'active',\n",
       "  'tuberculosis',\n",
       "  'have',\n",
       "  'been',\n",
       "  'registered',\n",
       "  'among',\n",
       "  'the',\n",
       "  '30,000',\n",
       "  'native',\n",
       "  'children',\n",
       "  'in',\n",
       "  'the',\n",
       "  'city'],\n",
       " ['in',\n",
       "  'the',\n",
       "  'meantime',\n",
       "  'she',\n",
       "  'has',\n",
       "  'been',\n",
       "  'policy',\n",
       "  'director',\n",
       "  'for',\n",
       "  'the',\n",
       "  'democratic',\n",
       "  'national',\n",
       "  'committee',\n",
       "  'has',\n",
       "  'run',\n",
       "  'a',\n",
       "  'program',\n",
       "  'to',\n",
       "  'help',\n",
       "  'women',\n",
       "  'get',\n",
       "  'jobs',\n",
       "  'in',\n",
       "  'the',\n",
       "  'construction',\n",
       "  'industry',\n",
       "  'and',\n",
       "  'has',\n",
       "  'been',\n",
       "  'a',\n",
       "  'communications',\n",
       "  'director',\n",
       "  'for',\n",
       "  'the',\n",
       "  'bricklayers',\n",
       "  'union'],\n",
       " ['in',\n",
       "  'belarus',\n",
       "  'loans',\n",
       "  'for',\n",
       "  'real',\n",
       "  'estate',\n",
       "  'have',\n",
       "  'become',\n",
       "  'more',\n",
       "  'in',\n",
       "  'demand',\n",
       "  'than',\n",
       "  'the',\n",
       "  'consumer',\n",
       "  'ones',\n",
       "  'director',\n",
       "  'of',\n",
       "  'consumer',\n",
       "  'lending',\n",
       "  'of',\n",
       "  'belarusbank',\n",
       "  'viktor',\n",
       "  'ageev',\n",
       "  'told',\n",
       "  'to',\n",
       "  'reporters',\n",
       "  'on',\n",
       "  'february',\n",
       "  '17'],\n",
       " ['i',\n",
       "  'saw',\n",
       "  'the',\n",
       "  'books',\n",
       "  'but',\n",
       "  'was',\n",
       "  'not',\n",
       "  'at',\n",
       "  'all',\n",
       "  'concerned',\n",
       "  'with',\n",
       "  'their',\n",
       "  'positions',\n",
       "  'in',\n",
       "  'space'],\n",
       " ['if',\n",
       "  'you',\n",
       "  'calculate',\n",
       "  'the',\n",
       "  'distance',\n",
       "  'this',\n",
       "  'covered',\n",
       "  'you',\n",
       "  'can',\n",
       "  'see',\n",
       "  'just',\n",
       "  'how',\n",
       "  'valuable',\n",
       "  'they',\n",
       "  'were',\n",
       "  'to',\n",
       "  'the',\n",
       "  'bedouin',\n",
       "  'and',\n",
       "  'why',\n",
       "  'they',\n",
       "  'earned',\n",
       "  'their',\n",
       "  'name']]"
      ]
     },
     "execution_count": 220,
     "metadata": {},
     "output_type": "execute_result"
    }
   ],
   "source": [
    "sents[:10]"
   ]
  }
 ],
 "metadata": {
  "kernelspec": {
   "display_name": "Python 3",
   "language": "python",
   "name": "python3"
  },
  "language_info": {
   "codemirror_mode": {
    "name": "ipython",
    "version": 3
   },
   "file_extension": ".py",
   "mimetype": "text/x-python",
   "name": "python",
   "nbconvert_exporter": "python",
   "pygments_lexer": "ipython3",
   "version": "3.6.5"
  }
 },
 "nbformat": 4,
 "nbformat_minor": 2
}
