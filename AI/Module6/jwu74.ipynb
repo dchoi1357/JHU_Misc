{
 "cells": [
  {
   "cell_type": "markdown",
   "metadata": {},
   "source": [
    "# Module 6 - Programming Assignment\n",
    "\n",
    "## Directions\n",
    "\n",
    "There are general instructions on Blackboard and in the Syllabus for Programming Assignments. This Notebook also has instructions specific to this assignment. Read all the instructions carefully and make sure you understand them. Please ask questions on the discussion boards or email me at `EN605.445@gmail.com` if you do not understand something.\n",
    "\n",
    "<div style=\"background: mistyrose; color: firebrick; border: 2px solid darkred; padding: 5px; margin: 10px;\">\n",
    "You must follow the directions *exactly* or you will get a 0 on the assignment.\n",
    "</div>\n",
    "\n",
    "You must submit a zip file of your assignment and associated files (if there are any) to Blackboard. The zip file will be named after you JHED ID: `<jhed_id>.zip`. It will not include any other information. Inside this zip file should be the following directory structure:\n",
    "\n",
    "```\n",
    "<jhed_id>\n",
    "    |\n",
    "    +--module-02-programming.ipynb\n",
    "    +--module-02-programming.html\n",
    "    +--(any other files)\n",
    "```\n",
    "\n",
    "For example, do not name  your directory `programming_assignment_01` and do not name your directory `smith122_pr1` or any else. It must be only your JHED ID."
   ]
  },
  {
   "cell_type": "markdown",
   "metadata": {},
   "source": [
    "# Unification\n",
    "\n",
    "This is actually Part I of a two part assignment. Next week, you'll implement a Forward Planner. In order to do that, however, you need to have a unifier. It is important to note that you *only* need to implement a unifier. Although the module talked about resolution, you do not need to implement anything like \"standardizing apart\". From the unifier's point of view, that should already have been done.\n",
    "\n",
    "Unification is simply the *syntactic* balancing of expressions. There are only 3 kinds of expressions: constants, lists and (logic) variables. Constants and lists are only equal to each other if they're exactly the same thing or can be made to be the same thing by *binding* a value to a variable.\n",
    "\n",
    "## S-Expressions\n",
    "\n",
    "With that out of the way, we need a language with which to express our constants, variables and predicates and that language will be based on s-expressions.\n",
    "\n",
    "**constants** - There are two types of constants, values and predicates. Values should start with an uppercase letter. Fred is a constant value, so is Barney and Food. Predicates are named using lowercase letters. loves is a predicate and so is hates. This is only a convention. Secret: your code does not need to treat these two types of constants differently.\n",
    "\n",
    "**variables** - these are named using lowercase letters but always start with a question mark. ?x is a variable and so is ?yum. This is not a convention.\n",
    "\n",
    "**expressions (lists)** - these use the S-expression syntax a la LISP. (loves Fred Wilma) is an expression as is (friend-of Barney Fred) and (loves ?x ?y).\n",
    "\n",
    "## Parsing"
   ]
  },
  {
   "cell_type": "code",
   "execution_count": 1,
   "metadata": {
    "collapsed": true
   },
   "outputs": [],
   "source": [
    "import tokenize\n",
    "import cStringIO"
   ]
  },
  {
   "cell_type": "markdown",
   "metadata": {},
   "source": [
    "This uses the above libraries to build a Lisp structure based on atoms. It is adapted from [simple iterator parser](http://effbot.org/zone/simple-iterator-parser.htm). The first function is the `atom` function."
   ]
  },
  {
   "cell_type": "code",
   "execution_count": 2,
   "metadata": {
    "collapsed": true
   },
   "outputs": [],
   "source": [
    "def atom( next, token):\n",
    "    if token[ 1] == '(':\n",
    "        out = []\n",
    "        token = next()\n",
    "        while token[ 1] != ')':\n",
    "            out.append( atom( next, token))\n",
    "            token = next()\n",
    "            if token[ 1] == ' ':\n",
    "                token = next()\n",
    "        return out\n",
    "    elif token[ 1] == '?':\n",
    "        token = next()\n",
    "        return \"?\" + token[ 1]\n",
    "    else:\n",
    "        return token[ 1]"
   ]
  },
  {
   "cell_type": "markdown",
   "metadata": {},
   "source": [
    "The next function is the actual `parse` function:"
   ]
  },
  {
   "cell_type": "code",
   "execution_count": 3,
   "metadata": {
    "collapsed": true
   },
   "outputs": [],
   "source": [
    "def parse( exp):\n",
    "    src = cStringIO.StringIO( exp).readline\n",
    "    tokens = tokenize.generate_tokens( src)\n",
    "    return atom( tokens.next, tokens.next())"
   ]
  },
  {
   "cell_type": "markdown",
   "metadata": {},
   "source": [
    "From a Python perspective, we want to turn something like \"(loves Fred ?x)\" to [\"loves\" \"Fred\" \"?x\"] and then work with the second representation as a list of strings. The strings then have the syntactic meaning we gave them previously."
   ]
  },
  {
   "cell_type": "code",
   "execution_count": 4,
   "metadata": {},
   "outputs": [
    {
     "data": {
      "text/plain": [
       "'Fred'"
      ]
     },
     "execution_count": 4,
     "metadata": {},
     "output_type": "execute_result"
    }
   ],
   "source": [
    "parse(\"Fred\")"
   ]
  },
  {
   "cell_type": "code",
   "execution_count": 5,
   "metadata": {},
   "outputs": [
    {
     "data": {
      "text/plain": [
       "'?x'"
      ]
     },
     "execution_count": 5,
     "metadata": {},
     "output_type": "execute_result"
    }
   ],
   "source": [
    "parse( \"?x\")"
   ]
  },
  {
   "cell_type": "code",
   "execution_count": 6,
   "metadata": {},
   "outputs": [
    {
     "data": {
      "text/plain": [
       "['loves', 'Fred', '?x']"
      ]
     },
     "execution_count": 6,
     "metadata": {},
     "output_type": "execute_result"
    }
   ],
   "source": [
    "parse( \"(loves Fred ?x)\")"
   ]
  },
  {
   "cell_type": "code",
   "execution_count": 7,
   "metadata": {},
   "outputs": [
    {
     "data": {
      "text/plain": [
       "['father', '-', 'of', 'Barney', ['son', '-', 'of', 'Barney']]"
      ]
     },
     "execution_count": 7,
     "metadata": {},
     "output_type": "execute_result"
    }
   ],
   "source": [
    "parse( \"(father-of Barney (son-of Barney))\")"
   ]
  },
  {
   "cell_type": "markdown",
   "metadata": {},
   "source": [
    "## Unifier\n",
    "\n",
    "Now that that's out of the way, here is the imperative pseudocode for unification. This is a classic recursive program with a number of base cases. Students for some reason don't like it, try the algorithm in the book, can't get it to work and then come back to this pseudocode.\n",
    "\n",
    "Work through the algorithm by hand with your Self-Check examples if you need to but I'd suggest sticking with this implementation. It does work.\n",
    "\n",
    "Here is imperative pseudocode for the algorithm:\n",
    "\n",
    "```\n",
    "def unification( exp1, exp2):\n",
    "    # base cases\n",
    "    if exp1 and exp2 are constants or the empty list:\n",
    "        if exp1 = exp2 then return {}\n",
    "        else return FAIL\n",
    "    if exp1 is a variable:\n",
    "        if exp1 occurs in exp2 then return FAIL\n",
    "        else return {exp1/exp2}\n",
    "    if exp2 is a variable:\n",
    "        if exp2 occurs in exp1 then return FAIL\n",
    "        else return {exp2/exp1}\n",
    "\n",
    "    # inductive step\n",
    "    first1 = first element of exp1\n",
    "    first2 = first element of exp2\n",
    "    result1 = unification( first1, first2)\n",
    "    if result1 = FAIL then return FAIL\n",
    "    apply result1 to rest of exp1 and exp2\n",
    "    result2 = unification( rest of exp1, rest of exp2)\n",
    "    if result2 = FAIL then return FAIL\n",
    "    return composition of result1 and result2\n",
    "```\n",
    "\n",
    "`unification` can return None (if unification completely fails), {} (the empty substitution list) or a substitution list that has variables as keys and substituted values as values, like {\"?x\": \"Fred\"}. Note that the middle case sometimes confuses people...\"Sam\" unifying with \"Sam\" is not a failure so you return {} because there were no variables so there were no substitutions.\n",
    "\n",
    "If you think of a typical database table, there is a column, row and value. This Tuple is a *relation* and in some uses of unification, the \"thing\" in the first spot...\"love\" above is called the relation. If you have a table of users with user_id, username and the value then the relation is:\n",
    "\n",
    "`(login ?user_id ?username)`\n",
    "\n",
    "*most* of the time, the relation name is specified. But it's not impossible for the relation name to be represented by a variable:\n",
    "\n",
    "`(?relation 12345 \"smooth_operator\")`\n",
    "\n",
    "Your code should handle this case (the pseudocode does handle this case so all  you have to do is not futz with it).\n",
    "\n",
    "Our type system is very simple. We can get by with just a few boolean functions. The first tests to see if an expression is a variable."
   ]
  },
  {
   "cell_type": "code",
   "execution_count": 8,
   "metadata": {
    "collapsed": true
   },
   "outputs": [],
   "source": [
    "def is_variable( exp):\n",
    "    return isinstance( exp, str) and exp[ 0] == \"?\""
   ]
  },
  {
   "cell_type": "code",
   "execution_count": 9,
   "metadata": {},
   "outputs": [
    {
     "data": {
      "text/plain": [
       "False"
      ]
     },
     "execution_count": 9,
     "metadata": {},
     "output_type": "execute_result"
    }
   ],
   "source": [
    "is_variable( \"Fred\")"
   ]
  },
  {
   "cell_type": "code",
   "execution_count": 10,
   "metadata": {},
   "outputs": [
    {
     "data": {
      "text/plain": [
       "True"
      ]
     },
     "execution_count": 10,
     "metadata": {},
     "output_type": "execute_result"
    }
   ],
   "source": [
    "is_variable( \"?fred\")"
   ]
  },
  {
   "cell_type": "markdown",
   "metadata": {},
   "source": [
    "The second tests to see if an expression is a constant:"
   ]
  },
  {
   "cell_type": "code",
   "execution_count": 11,
   "metadata": {
    "collapsed": true
   },
   "outputs": [],
   "source": [
    "def is_constant( exp):\n",
    "    return isinstance( exp, str) and not is_variable( exp)"
   ]
  },
  {
   "cell_type": "code",
   "execution_count": 12,
   "metadata": {},
   "outputs": [
    {
     "data": {
      "text/plain": [
       "True"
      ]
     },
     "execution_count": 12,
     "metadata": {},
     "output_type": "execute_result"
    }
   ],
   "source": [
    "is_constant( \"Fred\")"
   ]
  },
  {
   "cell_type": "code",
   "execution_count": 13,
   "metadata": {},
   "outputs": [
    {
     "data": {
      "text/plain": [
       "False"
      ]
     },
     "execution_count": 13,
     "metadata": {},
     "output_type": "execute_result"
    }
   ],
   "source": [
    "is_constant( \"?fred\")"
   ]
  },
  {
   "cell_type": "code",
   "execution_count": 14,
   "metadata": {},
   "outputs": [
    {
     "data": {
      "text/plain": [
       "False"
      ]
     },
     "execution_count": 14,
     "metadata": {},
     "output_type": "execute_result"
    }
   ],
   "source": [
    "is_constant( [\"loves\", \"Fred\", \"?wife\"])"
   ]
  },
  {
   "cell_type": "markdown",
   "metadata": {},
   "source": [
    "It might also be useful to know that:\n",
    "\n",
    "<code>\n",
    "type( \"a\")\n",
    "&lt;type 'str'>\n",
    "type( \"a\") == str\n",
    "True\n",
    "type( \"a\") == list\n",
    "False\n",
    "type( [\"a\"]) == list\n",
    "True\n",
    "</code>\n",
    "\n",
    "You need to write the `unification` function described above. It should work with two expressions of the type returned by `parse`. See `unify` for how it will be called. It should return the result of unification for the two expressions as detailed above and in the book. It does not have to make all the necessary substitions (for example, if ?y is bound to ?x and 1 is bound to ?y, ?x doesn't have to be replaced everywhere with 1. It's enough to return {\"?x\":\"?y\", \"?y\":1}. You'll need to fix this next week.)\n",
    "\n",
    "-----"
   ]
  },
  {
   "cell_type": "markdown",
   "metadata": {},
   "source": [
    "Helper 1 documentation here."
   ]
  },
  {
   "cell_type": "code",
   "execution_count": 15,
   "metadata": {
    "collapsed": true
   },
   "outputs": [],
   "source": [
    "def helper1():\n",
    "    pass"
   ]
  },
  {
   "cell_type": "markdown",
   "metadata": {},
   "source": [
    "-----\n",
    "(you can just overwrite that one and add as many others as you need). Remember to follow the **Guidelines**.\n"
   ]
  },
  {
   "cell_type": "code",
   "execution_count": 16,
   "metadata": {
    "collapsed": true
   },
   "outputs": [],
   "source": [
    "def unification( list_expression1, list_expression2):\n",
    "    pass"
   ]
  },
  {
   "cell_type": "code",
   "execution_count": 17,
   "metadata": {},
   "outputs": [],
   "source": [
    "def unify( s_expression1, s_expression2):\n",
    "    return unification( parse( s_expression1), parse( s_expression2))"
   ]
  },
  {
   "cell_type": "markdown",
   "metadata": {},
   "source": [
    "Using `unify`, solve the problems in the self-check. **Important** use `unify` **not** `unification`. Do one expression per cell:"
   ]
  },
  {
   "cell_type": "code",
   "execution_count": null,
   "metadata": {
    "collapsed": true
   },
   "outputs": [],
   "source": []
  }
 ],
 "metadata": {
  "kernelspec": {
   "display_name": "Python 2",
   "language": "python",
   "name": "python2"
  },
  "language_info": {
   "codemirror_mode": {
    "name": "ipython",
    "version": 2
   },
   "file_extension": ".py",
   "mimetype": "text/x-python",
   "name": "python",
   "nbconvert_exporter": "python",
   "pygments_lexer": "ipython2",
   "version": "2.7.13"
  }
 },
 "nbformat": 4,
 "nbformat_minor": 1
}
