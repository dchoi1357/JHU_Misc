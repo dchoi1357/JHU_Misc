{
 "cells": [
  {
   "cell_type": "markdown",
   "metadata": {},
   "source": [
    "# Module 1 - Programming Assignment\n",
    "\n",
    "## Directions\n",
    "\n",
    "There are general instructions on Blackboard and in the Syllabus for Programming Assignments. This Notebook also has instructions specific to this assignment. Read all the instructions carefully and make sure you understand them. Please ask questions on the discussion boards or email me at `EN605.445@gmail.com` if you do not understand something.\n",
    "\n",
    "<div style=\"background: mistyrose; color: firebrick; border: 2px solid darkred; padding: 5px; margin: 10px;\">\n",
    "You must follow the directions *exactly* or you will get a 0 on the assignment.\n",
    "</div>\n",
    "\n",
    "You must submit a zip file of your assignment and associated files (if there are any) to Blackboard. The zip file will be named after you JHED ID: `<jhed_id>.zip`. It will not include any other information. Inside this zip file should be the following directory structure:\n",
    "\n",
    "```\n",
    "<jhed_id>\n",
    "    |\n",
    "    +--module-01-programming.ipynb\n",
    "    +--module-01-programming.html\n",
    "    +--(any other files)\n",
    "```\n",
    "\n",
    "For example, do not name  your directory `programming_assignment_01` and do not name your directory `smith122_pr1` or any else. It must be only your JHED ID. Make sure you submit both an .ipynb and .html version of your *completed* notebook. You can generate the HTML version using:\n",
    "\n",
    "> ipython nbconvert [notebookname].ipynb\n",
    "\n",
    "or use the File menu."
   ]
  },
  {
   "cell_type": "markdown",
   "metadata": {},
   "source": [
    "Add any additional standard library imports you need here:"
   ]
  },
  {
   "cell_type": "code",
   "execution_count": 1,
   "metadata": {
    "collapsed": true
   },
   "outputs": [],
   "source": [
    "import copy, bisect"
   ]
  },
  {
   "cell_type": "markdown",
   "metadata": {},
   "source": [
    "# State Space Search with A* Search\n",
    "\n",
    "You are going to implement the A\\* Search algorithm for navigation problems.\n",
    "\n",
    "\n",
    "## Motivation\n",
    "\n",
    "Search is often used for path-finding in video games. Although the characters in a video game often move in continuous spaces,\n",
    "it is trivial to layout a \"waypoint\" system as a kind of navigation grid over the continuous space. Then if the character needs\n",
    "to get from Point A to Point B, it does a line of sight (LOS) scan to find the nearest waypoint (let's call it Waypoint A) and\n",
    "finds the nearest, LOS waypoint to Point B (let's call it Waypoint B). The agent then does a A* search for Waypoint B from Waypoint A to find the shortest path. The entire path is thus Point A to Waypoint A to Waypoint B to Point B.\n",
    "\n",
    "We're going to simplify the problem by working in a grid world. The symbols that form the grid have a special meaning as they\n",
    "specify the type of the terrain and the cost to enter a grid cell with that type of terrain:\n",
    "\n",
    "```\n",
    "token   terrain    cost \n",
    ".       plains     1\n",
    "*       forest     3\n",
    "#       hills      5\n",
    "~       swamp      7\n",
    "x       mountains  impassible\n",
    "```\n",
    "\n",
    "We can think of the raw format of the map as being something like:\n",
    "\n",
    "```\n",
    "....*..\n",
    "...***.\n",
    ".###...\n",
    "..##...\n",
    "..#..**\n",
    "....***\n",
    ".......\n",
    "```"
   ]
  },
  {
   "cell_type": "markdown",
   "metadata": {},
   "source": [
    "## The World\n",
    "\n",
    "Given a map like the one above, we can easily represent each row as a `List` and the entire map as `List of Lists`:"
   ]
  },
  {
   "cell_type": "code",
   "execution_count": 2,
   "metadata": {
    "collapsed": false
   },
   "outputs": [],
   "source": [
    "full_world = [\n",
    "  ['.', '.', '.', '.', '.', '*', '*', '*', '*', '*', '*', '*', '*', '*', '*', '.', '.', '.', '.', '.', '.', '.', '.', '.', '.', '.', '.'], \n",
    "  ['.', '.', '.', '.', '.', '.', '.', '*', '*', '*', '*', '*', '*', '*', '*', '*', '.', '.', 'x', 'x', 'x', 'x', 'x', 'x', 'x', '.', '.'], \n",
    "  ['.', '.', '.', '.', 'x', 'x', '*', '*', '*', '*', '*', '*', '*', '*', '*', '*', '*', 'x', 'x', 'x', '#', '#', '#', 'x', 'x', '#', '#'], \n",
    "  ['.', '.', '.', '.', '#', 'x', 'x', 'x', '*', '*', '*', '*', '~', '~', '*', '*', '*', '*', '*', '.', '.', '#', '#', 'x', 'x', '#', '.'], \n",
    "  ['.', '.', '.', '#', '#', 'x', 'x', '*', '*', '.', '.', '~', '~', '~', '~', '*', '*', '*', '.', '.', '.', '#', 'x', 'x', 'x', '#', '.'], \n",
    "  ['.', '#', '#', '#', 'x', 'x', '#', '#', '.', '.', '.', '.', '~', '~', '~', '~', '~', '.', '.', '.', '.', '.', '#', 'x', '#', '.', '.'], \n",
    "  ['.', '#', '#', 'x', 'x', '#', '#', '.', '.', '.', '.', '#', 'x', 'x', 'x', '~', '~', '~', '.', '.', '.', '.', '.', '#', '.', '.', '.'], \n",
    "  ['.', '.', '#', '#', '#', '#', '#', '.', '.', '.', '.', '.', '.', '#', 'x', 'x', 'x', '~', '~', '~', '.', '.', '#', '#', '#', '.', '.'], \n",
    "  ['.', '.', '.', '#', '#', '#', '.', '.', '.', '.', '.', '.', '#', '#', 'x', 'x', '.', '~', '~', '.', '.', '#', '#', '#', '.', '.', '.'], \n",
    "  ['.', '.', '.', '~', '~', '~', '.', '.', '#', '#', '#', 'x', 'x', 'x', 'x', '.', '.', '.', '~', '.', '#', '#', '#', '.', '.', '.', '.'], \n",
    "  ['.', '.', '~', '~', '~', '~', '~', '.', '#', '#', 'x', 'x', 'x', '#', '.', '.', '.', '.', '.', '#', 'x', 'x', 'x', '#', '.', '.', '.'], \n",
    "  ['.', '~', '~', '~', '~', '~', '.', '.', '#', 'x', 'x', '#', '.', '.', '.', '.', '~', '~', '.', '.', '#', 'x', 'x', '#', '.', '.', '.'], \n",
    "  ['~', '~', '~', '~', '~', '.', '.', '#', '#', 'x', 'x', '#', '.', '~', '~', '~', '~', '.', '.', '.', '#', 'x', '#', '.', '.', '.', '.'], \n",
    "  ['.', '~', '~', '~', '~', '.', '.', '#', '*', '*', '#', '.', '.', '.', '.', '~', '~', '~', '~', '.', '.', '#', '.', '.', '.', '.', '.'], \n",
    "  ['.', '.', '.', '.', 'x', '.', '.', '*', '*', '*', '*', '#', '#', '#', '#', '.', '~', '~', '~', '.', '.', '#', 'x', '#', '.', '.', '.'], \n",
    "  ['.', '.', '.', 'x', 'x', 'x', '*', '*', '*', '*', '*', '*', 'x', 'x', 'x', '#', '#', '.', '~', '.', '#', 'x', 'x', '#', '.', '.', '.'], \n",
    "  ['.', '.', 'x', 'x', '*', '*', '*', '*', '*', '*', '*', '*', '*', '*', 'x', 'x', 'x', '.', '.', 'x', 'x', 'x', '.', '.', '.', '.', '.'], \n",
    "  ['.', '.', '.', 'x', 'x', '*', '*', '*', '*', '*', '*', '*', '*', '*', '*', '*', 'x', 'x', 'x', 'x', '.', '.', '.', '.', '.', '.', '.'], \n",
    "  ['.', '.', '.', 'x', 'x', 'x', '*', '*', '*', '*', '*', '*', '*', '*', '.', '.', '.', '#', '#', '.', '.', '.', '.', '.', '.', '.', '.'], \n",
    "  ['.', '.', '.', '.', 'x', 'x', 'x', '*', '*', '*', '*', '*', '*', '.', '.', '.', '.', '.', '.', '.', '.', '.', '.', '~', '~', '~', '~'], \n",
    "  ['.', '.', '#', '#', '#', '#', 'x', 'x', '*', '*', '*', '*', '*', '.', 'x', '.', '.', '.', '.', '.', '~', '~', '~', '~', '~', '~', '~'], \n",
    "  ['.', '.', '.', '.', '#', '#', '#', 'x', 'x', 'x', '*', '*', 'x', 'x', '.', '.', '.', '.', '.', '.', '~', '~', '~', '~', '~', '~', '~'], \n",
    "  ['.', '.', '.', '.', '.', '.', '#', '#', '#', 'x', 'x', 'x', 'x', '.', '.', '.', '.', '#', '#', '.', '.', '~', '~', '~', '~', '~', '~'], \n",
    "  ['.', '#', '#', '.', '.', '#', '#', '#', '#', '#', '.', '.', '.', '.', '.', '#', '#', 'x', 'x', '#', '#', '.', '~', '~', '~', '~', '~'], \n",
    "  ['#', 'x', '#', '#', '#', '#', '.', '.', '.', '.', '.', 'x', 'x', 'x', '#', '#', 'x', 'x', '.', 'x', 'x', '#', '#', '~', '~', '~', '~'], \n",
    "  ['#', 'x', 'x', 'x', '#', '.', '.', '.', '.', '.', '#', '#', 'x', 'x', 'x', 'x', '#', '#', '#', '#', 'x', 'x', 'x', '~', '~', '~', '~'], \n",
    "  ['#', '#', '.', '.', '.', '.', '.', '.', '.', '.', '.', '.', '#', '#', '#', '#', '#', '.', '.', '.', '.', '#', '#', '#', '.', '.', '.']]"
   ]
  },
  {
   "cell_type": "markdown",
   "metadata": {},
   "source": [
    "<div style=\"background: khaki; color: darkgoldenrod; border: 2px solid goldenrod; padding: 5px; margin: 10px;\">\n",
    "<strong>Warning</strong>\n",
    "</div>\n",
    "\n",
    "One implication of this representation is that (x, y) is world[ y][ x] so that (3, 2) is world[ 2][ 3] and world[ 7][ 9] is (9, 7).\n",
    "\n",
    "It is often easier to begin your programming by operating on test input that has an obvious solution. If we had a small 7x7 world with the following characteristics, what do you expect the policy would be?"
   ]
  },
  {
   "cell_type": "code",
   "execution_count": 3,
   "metadata": {
    "collapsed": false
   },
   "outputs": [],
   "source": [
    "test_world = [\n",
    "  ['.', '*', 'x', '*', '*', '*', '*'],\n",
    "  ['.', '*', '*', '*', '*', '*', '*'],\n",
    "  ['.', '*', '*', '*', '*', '*', '*'],\n",
    "  ['.', '.', '.', '.', '.', '.', '.'],\n",
    "  ['*', '*', '*', '*', '*', '*', '.'],\n",
    "  ['*', '*', '*', '*', '*', '*', '.'],\n",
    "  ['*', '*', '*', '*', '*', '*', '.'],\n",
    "]\n",
    "test_world2 = [\n",
    "  ['.', '.', '.', '~', '~', '~', '*'],\n",
    "  ['.', '*', '.', '~', '.', '.', '.'],\n",
    "  ['.', '*', '.', '~', '.', '~', '.'],\n",
    "  ['.', '*', '.', '.', '.', '~', '.'],\n",
    "  ['*', '*', '*', '~', '~', '~', '.'],\n",
    "  ['*', '*', '*', '~', '~', '~', '.'],\n",
    "  ['*', '*', '*', '*', '*', '*', '.'],\n",
    "]"
   ]
  },
  {
   "cell_type": "markdown",
   "metadata": {},
   "source": [
    "**Answer**:  \n",
    "In the first test world, one would expect the algorithm to traverse across the route through the plains. Not only is the plains the least costly terrain to traverse, the route also provides the shortest distance between starting point and the goal. It is trivially provable that all else equal, the Manhattan distance is the least amount of cost that one route could possibly take.\n",
    "\n",
    "In the second world, one would expect the algorithm to still stay with the route on the plains that traverse through the swamp. In this case, since swamplands have a very high traversal cost, despite the route through the plains not having a Manhattan-distance, it is still preferrable."
   ]
  },
  {
   "cell_type": "markdown",
   "metadata": {},
   "source": [
    "## States and State Representation\n",
    "\n",
    "The canonical pieces of a State Space Search problem are the States, Actions, Transitions and Costs. \n",
    "\n",
    "We'll start with the state representation. For the navigation problem, a state is the current position of the agent, `(x,y)`. The entire set of possible states is implicitly represented by the world map."
   ]
  },
  {
   "cell_type": "markdown",
   "metadata": {},
   "source": [
    "## Actions and Transitions\n",
    "\n",
    "Next we need to specify the actions. In general, there are a number of different possible action sets in such a world. The agent might be constrained to move north/south/east/west or diagonal moves might be permitted as well (or really anything). When combined with the set of States, the *permissible* actions forms the Transition set.\n",
    "\n",
    "Rather than enumerate the Transition set directly, for this problem it's easier to calculate the available actions and transitions on the fly. This can be done by specifying a *movement model* as offsets to the current state and then checking to see which of the potential successor states are actually permitted. This can be done in the successor function mentioned in the pseudocode.\n",
    "\n",
    "One such example of a movement model is shown below."
   ]
  },
  {
   "cell_type": "code",
   "execution_count": 4,
   "metadata": {
    "collapsed": true
   },
   "outputs": [],
   "source": [
    "cardinal_moves = [(0,-1), (1,0), (0,1), (-1,0)]"
   ]
  },
  {
   "cell_type": "markdown",
   "metadata": {},
   "source": [
    "## Costs\n",
    "\n",
    "We can encode the costs described above in a `Dict`:"
   ]
  },
  {
   "cell_type": "code",
   "execution_count": 5,
   "metadata": {
    "collapsed": false
   },
   "outputs": [],
   "source": [
    "costs = { '.': 1, '*': 3, '#': 5, '~': 7}"
   ]
  },
  {
   "cell_type": "markdown",
   "metadata": {},
   "source": [
    "## A\\* Search Implementation\n",
    "\n",
    "As Python is an interpreted language, you're going to need to insert all of your helper functions *before* the actual `a_star_search` function implementation. Put those implementations here, along with their documentation. There should be one Markdown cell for the documentation, followed by one Codecell for the implementation. I've included two to get you started.\n",
    "\n",
    "-----"
   ]
  },
  {
   "cell_type": "markdown",
   "metadata": {},
   "source": [
    "**Successor Function**  \n",
    "The successor functions takes three inputs:  \n",
    "* _loc_: the location in the world for which the successor locations are to be generated. It is represented as a tuple of two integers, which can be considered as a coordinate\n",
    "* _world_: the world in which the algorithm operates in\n",
    "* _explored_: either set or list of coordinates which had been explored already\n",
    "\n",
    "The function returns the four directional successors to the location specified subject to the following three criteria:\n",
    "1. The successor locations are within bound of the world (i.e. cannot generate negative coordinates or coordinates which is greater than the vertical or horizontal length of the world\n",
    "1. The terrain as indicated has to be traversable (i.e. cannot be mountains, or x)\n",
    "1. The locations have not been explored (i.e. not in the `explored` argument)\n",
    "\n",
    "Along with the coordinates of the successor locations, the movements used to get to these locations are also returned as a tuple of two lists, locations and movements. Note that the `movement` is returned as cartesian (x,y) offsets instead of list indices like the coordinate locations are"
   ]
  },
  {
   "cell_type": "code",
   "execution_count": 6,
   "metadata": {
    "collapsed": false
   },
   "outputs": [],
   "source": [
    "def successors(loc, world, explored):\n",
    "    newLocs = list()\n",
    "    moves = list()\n",
    "    for n in range( len(cardinal_moves) ):\n",
    "        m = cardinal_moves[n]\n",
    "        x = (m[1]+loc[0],m[0]+loc[1])\n",
    "        if (0<=x[0]<len(world) and 0<=x[1]<len(world[x[0]])) and \\\n",
    "                (world[x[0]][x[1]] != 'x') and (x not in explored) :\n",
    "            newLocs.append(x)\n",
    "            moves.append(m)\n",
    "    return( (newLocs, moves) )"
   ]
  },
  {
   "cell_type": "markdown",
   "metadata": {},
   "source": [
    "**Frontier Class**  \n",
    "The class implments the Frontier used in A\\* search. The frontier is a priority queue as according to the cost. Instead of using Python's built-in PriorityQueue class, the programmer implements his own since the built-in class does not allow efficient checking of queue membership nor removal of a specific member without dequeueing. \n",
    "\n",
    "The class contains four lists and one integer representing the number of nodes currently stored. The lists hold the information about the nodes yet to be expanded. The four lists specifically hold the:\n",
    "1. estimated cost of going from the node to the goal, i.e. f(n)\n",
    "1. geographic coordinate point\n",
    "1. the movements that lead from the starting point to the current node\n",
    "1. path-cost of arriving at the current nodes, i.e. g(n)\n",
    "\n",
    "In addition to the standard `get`, `put`, `empty` function that one would expect with a priority queue, the **`Frontier`** class extends the `put` function to incorporate the following capability:\n",
    "* Check if the inserted node already exist on the node\n",
    "  * if exists on frontier at a lower cost, ignore the insertion\n",
    "  * if exists on frontier at a higher cost, replace the node with the lower cost\n",
    "\n",
    "The object ensure that the node with the least amount of f(n) are stored at the front of the node, such that `get` could be performed in constant time. This is accomplished through using the `bisect` module which searches a sorted list using binary search in O(lg n) time, and insert the node right in front of the left most node whose cost ≥ the inserted cost."
   ]
  },
  {
   "cell_type": "code",
   "execution_count": 7,
   "metadata": {
    "collapsed": false
   },
   "outputs": [],
   "source": [
    "class Frontier:\n",
    "    def __init__(self): # object to contain all costs and locations in world\n",
    "        (self.costs, self.points, self.moves, self.gs) = ([], [], [], []) # empty lists\n",
    "        self.N = 0 # number of elements\n",
    "\n",
    "    def empty(self):\n",
    "        return self.N == 0\n",
    "\n",
    "    def put(self, cost, pt, mv, g):\n",
    "        try: # first find if pt already exist on frontier\n",
    "            ind = self.points.index(pt)\n",
    "        except ValueError: # if pt is not on the list\n",
    "            ind = -1\n",
    "\n",
    "        if ind >= 0: # if already on list\n",
    "            if cost < self.costs[ind]: # if lower cost, remove existing, and add later\n",
    "                self.N -= 1\n",
    "                del self.costs[ind]\n",
    "                del self.points[ind]\n",
    "                del self.moves[ind]\n",
    "                del self.gs[ind]\n",
    "            else: # if lower cost already on list, do nothing\n",
    "                return            \n",
    "\n",
    "        # add to appropriate location based on cost\n",
    "        ind = bisect.bisect_left(self.costs, cost) # find leftmost value >= cost\n",
    "        self.N += 1\n",
    "        self.costs.insert(ind, cost)\n",
    "        self.points.insert(ind, pt)\n",
    "        self.moves.insert(ind, mv)\n",
    "        self.gs.insert(ind, g)\n",
    "\n",
    "    # Dequeue the node with the smallest cost, which should be at the front of lists\n",
    "    def get(self):\n",
    "        if self.N == 0: # error, cannot get element when queue is empty\n",
    "            raise IndexError('Frontier is empty')\n",
    "        out = (self.costs[0], self.points[0], self.moves[0], self.gs[0])\n",
    "        self.N -= 1\n",
    "        self.costs = self.costs[1:] # remove first element (lowest cost)\n",
    "        self.points = self.points[1:]\n",
    "        self.moves = self.moves[1:]\n",
    "        self.gs = self.gs[1:]\n",
    "        return out\n",
    "    \n",
    "    def __repr__(self): # String representation of the frontier queue\n",
    "        s = ''\n",
    "        for n in range(self.N):\n",
    "            s += repr(self.costs[n]) + ':' + repr(self.points[n]) + ', '\n",
    "        s = 'len=' + str(self.N) + ' [' + s[:-2] + ']'\n",
    "        return s"
   ]
  },
  {
   "cell_type": "markdown",
   "metadata": {},
   "source": [
    "(you can just overwrite that one and add as many others as you need). Remember to follow the **Guidelines**.\n",
    "\n",
    "\n",
    "-----"
   ]
  },
  {
   "cell_type": "markdown",
   "metadata": {},
   "source": [
    "**a_star_search**\n",
    "\n",
    "The `a_star_search` function uses the A\\* Search algorithm to solve a navigational problem for an agent in a grid world. It calculates a path from the start state to the goal state and returns the actions required to get from the start to the goal.\n",
    "\n",
    "* **world** is the starting state representation for a navigation problem.\n",
    "* **start** is the starting location, `(x, y)`.\n",
    "* **goal** is the desired end position, `(x, y)`.\n",
    "* **costs** is a `Dict` of costs for each type of terrain.\n",
    "* **moves** is the legal movement model expressed in offsets.\n",
    "* **heuristic** is a heuristic function that returns an estimate of the total cost $f(x)$ from the start to the goal through the current node, $x$. The heuristic function might change with the movement model.\n",
    "\n",
    "\n",
    "The function returns the offsets needed to get from start state to the goal as a `List`. For example, for the test world:\n",
    "\n",
    "```\n",
    "  ['.', '*', '*', '*', '*', '*', '*'],\n",
    "  ['.', '*', '*', '*', '*', '*', '*'],\n",
    "  ['.', '*', '*', '*', '*', '*', '*'],\n",
    "  ['.', '.', '.', '.', '.', '.', '.'],\n",
    "  ['*', '*', '*', '*', '*', '*', '.'],\n",
    "  ['*', '*', '*', '*', '*', '*', '.'],\n",
    "  ['*', '*', '*', '*', '*', '*', '.'],\n",
    "\n",
    "```\n",
    "\n",
    "it would return:\n",
    "\n",
    "`[(0,1), (0,1), (0,1), (1,0), (1,0), (1,0), (1,0), (1,0), (1,0), (0,1), (0,1), (0,1)]`\n",
    "\n",
    "Do not make unwarranted assumptions. For example, do not assume the starting point is always `(0, 0)` or that the goal is always in the lower right hand corner. Do not make any assumptions about the movement model beyond the requirement that they be offsets (it could be offets of 2!).\n",
    "\n",
    "---"
   ]
  },
  {
   "cell_type": "markdown",
   "metadata": {},
   "source": [
    "**A\\* Search Algorithm**  \n",
    "The function takes six inputs:\n",
    "1. _world_: The world for which the algorithm finds the optimal route\n",
    "1. _start_: The coordinate point of the starting location\n",
    "1. _goal_: The coordinate point of the ending location\n",
    "1. _costs_: dictionary of costs associated with traversing various terrains\n",
    "1. _moves_: List of valid movement sets\n",
    "1. _heuristic_: The heuristic function used to estimate cost of arriving at goal from a node\n",
    "\n",
    "The implementation is based on the algorithm on p. 84 or fig. 3.14 in the textbook. It iteratively explores nodes from the starting point, adding the path-cost and the heuristic cost as the priority into the frontier, which then are used to discover the optimal route. "
   ]
  },
  {
   "cell_type": "code",
   "execution_count": 8,
   "metadata": {
    "collapsed": false
   },
   "outputs": [],
   "source": [
    "def a_star_search( world, start, goal, costs, moves, heuristic):\n",
    "    frontier = Frontier() # priority queue for frontier to pull out lowest eval\n",
    "    explored = set() # explored location, set for quick lookup\n",
    "\n",
    "    frontier.put(0, start, [], 0)\n",
    "    while not frontier.empty(): # repeat until no more nodes on frontier\n",
    "        (c, x, m, g0) = frontier.get() # get node with smallest cost\n",
    "        if x == goal:\n",
    "            return m # return if node is the goal\n",
    "        explored.add(x)\n",
    "        (pts, moves) = successors(x, world, explored)\n",
    "        for n,p in enumerate(pts): # iterates through successor nodes\n",
    "            if p not in explored: # only unexplored nodes\n",
    "                g = g0 + costs[world[p[0]][p[1]]]\n",
    "                f = g + heuristic(p, goal)\n",
    "                frontier.put(f, p, m+[moves[n]], g)\n",
    "\n",
    "    return None # failed"
   ]
  },
  {
   "cell_type": "markdown",
   "metadata": {},
   "source": [
    "**pretty_print_solution**\n",
    "\n",
    "The `pretty_print_solution` function prints an ASCII representation of the solution generated by the `a_star_search`. For example, for the test world, it would take the `world` and `path` and print:\n",
    "\n",
    "```\n",
    "v******\n",
    "v******\n",
    "v******\n",
    ">>>>>>v\n",
    "******v\n",
    "******v\n",
    "******G\n",
    "```\n",
    "\n",
    "using `v`, `^`, `>`, `<` to represent actions and `G` to represent the goal. (Note the format of the output...there are no spaces, commas, or extraneous characters).\n"
   ]
  },
  {
   "cell_type": "markdown",
   "metadata": {},
   "source": [
    "**Pretty Print Solution Function**  \n",
    "The function takes three inputs:\n",
    "1. _world_: the world for which the route and terrain are to be printed\n",
    "1. _path_: list of cartesian offsets that encodes the route taken\n",
    "1. _start_: The starting point of the route\n",
    "\n",
    "With the above three parameters, the goal location is trivially determined. The function first makes a deep-copy of the input world so as to not modify the original terrain. The movements are represented as ASCII directional arrows, which is encoded in a dictionary indexed by the cartesian offset tuple.\n",
    "\n",
    "The algorithm replaces the input world encoded by list of list of characters by iteratively applying the offset to the starting point coordinate and overwriting the terrain symbols with the movement directional arrows. The algorithm prints a G at the end point, which is presumed to be the goal."
   ]
  },
  {
   "cell_type": "code",
   "execution_count": 9,
   "metadata": {
    "collapsed": false
   },
   "outputs": [],
   "source": [
    "def pretty_print_solution(world, path, start):\n",
    "    x = start\n",
    "    world = copy.deepcopy(world) # deep-copy world to keep input world the same as it is\n",
    "    movements = {(0,1):'v', (1,0):'>', (0,-1):'^', (-1,0):'<'} # representations of moves\n",
    "    for p in path: # loop over all movements\n",
    "        world[x[0]][x[1]] = movements[p] # Change the graphics\n",
    "        x = (x[0]+p[1], x[1]+p[0]) # move \n",
    "    world[x[0]][x[1]] = 'G' # mark the end point as goal\n",
    "    \n",
    "    for r in world: # loop over rows of the world to print\n",
    "        print('\\t' + ''.join(r)) # prints each row"
   ]
  },
  {
   "cell_type": "markdown",
   "metadata": {},
   "source": [
    "Execute `a_star_search` and `print_path` for the `test_world` and the `real_world`."
   ]
  },
  {
   "cell_type": "markdown",
   "metadata": {},
   "source": [
    "**Heuristic Function**  \n",
    "The Heuristic function used in this case is the Manhattan distance. Mathematically, for two points a and b\n",
    "$$a=(a_{x},a_{y}), b=(b_{x},b_{y})$$\n",
    "The Manhattan distance is \n",
    "$$D_{Manhattan}=\\left | a_{x}-b_{x} \\right | + \\left | a_{y}-b_{y} \\right |$$\n",
    "\n",
    "This Manhattan distance satisfies both admissability and monotonicity requirement of a heuristic function. The Manhattan distance measures the shortest possible traversal assuming all terrains encountered are plains. In reality, there would be harder terrains, which means the heuristic will never overestimate the actual cost. With Manhattan distance the triangle inequality is satisfied as the distance is equal to the two sides of the triangle. This means this particular heuristic function would work in A\\* search."
   ]
  },
  {
   "cell_type": "code",
   "execution_count": 10,
   "metadata": {
    "collapsed": true
   },
   "outputs": [],
   "source": [
    "def heuristic(loc, goal):\n",
    "    return( abs(goal[0]-loc[0]) + abs(goal[1]-loc[1]) )"
   ]
  },
  {
   "cell_type": "code",
   "execution_count": 11,
   "metadata": {
    "collapsed": false
   },
   "outputs": [
    {
     "name": "stdout",
     "output_type": "stream",
     "text": [
      "[(0, 1), (0, 1), (0, 1), (1, 0), (1, 0), (1, 0), (1, 0), (1, 0), (1, 0), (0, 1), (0, 1), (0, 1)]\n"
     ]
    }
   ],
   "source": [
    "test_path = a_star_search( test_world, (0, 0), (6, 6), costs, cardinal_moves, heuristic)\n",
    "print test_path"
   ]
  },
  {
   "cell_type": "code",
   "execution_count": 12,
   "metadata": {
    "collapsed": false
   },
   "outputs": [
    {
     "name": "stdout",
     "output_type": "stream",
     "text": [
      "\tv*x****\n",
      "\tv******\n",
      "\tv******\n",
      "\t>>>>>>v\n",
      "\t******v\n",
      "\t******v\n",
      "\t******G\n"
     ]
    }
   ],
   "source": [
    "pretty_print_solution( test_world, test_path, (0, 0))"
   ]
  },
  {
   "cell_type": "code",
   "execution_count": 13,
   "metadata": {
    "collapsed": false
   },
   "outputs": [
    {
     "name": "stdout",
     "output_type": "stream",
     "text": [
      "[(1, 0), (1, 0), (0, 1), (0, 1), (0, 1), (1, 0), (1, 0), (0, -1), (0, -1), (1, 0), (1, 0), (0, 1), (0, 1), (0, 1), (0, 1), (0, 1)]\n"
     ]
    }
   ],
   "source": [
    "test_path2 = a_star_search( test_world2, (0, 0), (6, 6), costs, cardinal_moves, heuristic)\n",
    "print test_path2"
   ]
  },
  {
   "cell_type": "code",
   "execution_count": 14,
   "metadata": {
    "collapsed": false
   },
   "outputs": [
    {
     "name": "stdout",
     "output_type": "stream",
     "text": [
      "\t>>v~~~*\n",
      "\t.*v~>>v\n",
      "\t.*v~^~v\n",
      "\t.*>>^~v\n",
      "\t***~~~v\n",
      "\t***~~~v\n",
      "\t******G\n"
     ]
    }
   ],
   "source": [
    "pretty_print_solution( test_world2, test_path2, (0, 0))"
   ]
  },
  {
   "cell_type": "code",
   "execution_count": 15,
   "metadata": {
    "collapsed": false
   },
   "outputs": [
    {
     "name": "stdout",
     "output_type": "stream",
     "text": [
      "[(0, 1), (0, 1), (0, 1), (0, 1), (0, 1), (0, 1), (0, 1), (0, 1), (0, 1), (0, 1), (0, 1), (0, 1), (0, 1), (0, 1), (0, 1), (0, 1), (0, 1), (0, 1), (0, 1), (0, 1), (0, 1), (0, 1), (1, 0), (1, 0), (1, 0), (0, 1), (1, 0), (0, 1), (0, 1), (0, 1), (1, 0), (1, 0), (1, 0), (1, 0), (1, 0), (1, 0), (1, 0), (1, 0), (1, 0), (1, 0), (1, 0), (1, 0), (1, 0), (1, 0), (1, 0), (1, 0), (1, 0), (1, 0), (1, 0), (1, 0), (1, 0), (1, 0)]\n"
     ]
    }
   ],
   "source": [
    "full_path = a_star_search( full_world, (0, 0), (26, 26), costs, cardinal_moves, heuristic)\n",
    "print full_path"
   ]
  },
  {
   "cell_type": "code",
   "execution_count": 16,
   "metadata": {
    "collapsed": false
   },
   "outputs": [
    {
     "name": "stdout",
     "output_type": "stream",
     "text": [
      "\tv....**********............\n",
      "\tv......*********..xxxxxxx..\n",
      "\tv...xx***********xxx###xx##\n",
      "\tv...#xxx****~~*****..##xx#.\n",
      "\tv..##xx**..~~~~***...#xxx#.\n",
      "\tv###xx##....~~~~~.....#x#..\n",
      "\tv##xx##....#xxx~~~.....#...\n",
      "\tv.#####......#xxx~~~..###..\n",
      "\tv..###......##xx.~~..###...\n",
      "\tv..~~~..###xxxx...~.###....\n",
      "\tv.~~~~~.##xxx#.....#xxx#...\n",
      "\tv~~~~~..#xx#....~~..#xx#...\n",
      "\tv~~~~..##xx#.~~~~...#x#....\n",
      "\tv~~~~..#**#....~~~~..#.....\n",
      "\tv...x..****####.~~~..#x#...\n",
      "\tv..xxx******xxx##.~.#xx#...\n",
      "\tv.xx**********xxx..xxx.....\n",
      "\tv..xx***********xxxx.......\n",
      "\tv..xxx********...##........\n",
      "\tv...xxx******..........~~~~\n",
      "\tv.####xx*****.x.....~~~~~~~\n",
      "\tv...###xxx**xx......~~~~~~~\n",
      "\t>>>v..###xxxx....##..~~~~~~\n",
      "\t.##>v#####.....##xx##.~~~~~\n",
      "\t#x##v#.....xxx##xx.xx##~~~~\n",
      "\t#xxxv.....##xxxx####xxx~~~~\n",
      "\t##..>>>>>>>>>>>>>>>>>>>>>>G\n"
     ]
    }
   ],
   "source": [
    "pretty_print_solution( full_world, full_path, (0, 0))"
   ]
  },
  {
   "cell_type": "markdown",
   "metadata": {},
   "source": [
    "# Advanced/Future Work"
   ]
  },
  {
   "cell_type": "markdown",
   "metadata": {},
   "source": [
    "*This section is not required but it is well worth your time to think about the task*\n",
    "\n",
    "Write a *general* `state_space_search` function that could solve any state space search problem using Depth First Search. One possible implementation would be to write `state_space_search` as a general higher order function that took problem specific functions for `is_goal`, `successors` and `path`. You would need a general way of dealing with states, perhaps as a `Tuple` representing the raw state and metadata: `(<state>, <metadata>)`."
   ]
  },
  {
   "cell_type": "code",
   "execution_count": null,
   "metadata": {
    "collapsed": false
   },
   "outputs": [],
   "source": []
  }
 ],
 "metadata": {
  "kernelspec": {
   "display_name": "Python 2",
   "language": "python",
   "name": "python2"
  },
  "language_info": {
   "codemirror_mode": {
    "name": "ipython",
    "version": 2
   },
   "file_extension": ".py",
   "mimetype": "text/x-python",
   "name": "python",
   "nbconvert_exporter": "python",
   "pygments_lexer": "ipython2",
   "version": "2.7.12"
  }
 },
 "nbformat": 4,
 "nbformat_minor": 0
}
