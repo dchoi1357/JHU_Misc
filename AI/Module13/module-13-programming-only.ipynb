{
 "cells": [
  {
   "cell_type": "markdown",
   "metadata": {},
   "source": [
    "# Module 13 - Programming Assignment\n",
    "\n",
    "## Directions\n",
    "\n",
    "There are general instructions on Blackboard and in the Syllabus for Programming Assignments. This Notebook also has instructions specific to this assignment. Read all the instructions carefully and make sure you understand them. Please ask questions on the discussion boards or email me at `EN605.445@gmail.com` if you do not understand something.\n",
    "\n",
    "<div style=\"background: mistyrose; color: firebrick; border: 2px solid darkred; padding: 5px; margin: 10px;\">\n",
    "You must follow the directions *exactly* or you will get a 0 on the assignment.\n",
    "</div>\n",
    "\n",
    "You must submit a zip file of your assignment and associated files (if there are any) to Blackboard. The zip file will be named after you JHED ID: `<jhed_id>.zip`. It will not include any other information. Inside this zip file should be the following directory structure:\n",
    "\n",
    "```\n",
    "<jhed_id>\n",
    "    |\n",
    "    +--module-01-programming.ipynb\n",
    "    +--module-01-programming.html\n",
    "    +--(any other files)\n",
    "```\n",
    "\n",
    "For example, do not name  your directory `programming_assignment_01` and do not name your directory `smith122_pr1` or any else. It must be only your JHED ID. Make sure you submit both an .ipynb and .html version of your *completed* notebook. You can generate the HTML version using:\n",
    "\n",
    "> ipython nbconvert [notebookname].ipynb\n",
    "\n",
    "or use the File menu."
   ]
  },
  {
   "cell_type": "code",
   "execution_count": 1,
   "metadata": {
    "collapsed": true
   },
   "outputs": [],
   "source": [
    "%matplotlib inline\n",
    "import numpy as np\n",
    "import matplotlib.pyplot as plt"
   ]
  },
  {
   "cell_type": "markdown",
   "metadata": {},
   "source": [
    "## k Nearest Neighbors and Model Evaluation\n",
    "\n",
    "You must complete the 4 following tasks:\n",
    "\n",
    "1. Implement k-Nearest Neighbor *regression* as described in the Module.\n",
    "2. Use validation curves as described in Module 9 to determine the best value of k trying values of 1 to 10. (You don't need to use odd values for regression). For this you can simply split the data randomly into a training and a test set with a 67/33 split.\n",
    "3. Use learning curves as described in Module 9 to determine if your model could use more data.\n",
    "    For this you can simply split the data randomly into a training and a test set with a 67/33 split. Use the best k from part 2.\n",
    "4. Use 10-fold cross-validation to establish confidence bounds on your model's performance. Calculate the mean (average) MSE (which sounds funny, I know) and the standard deviation. \n",
    "\n",
    "Additionally, because you can't be *wrong* with the k = 1 in the training data, your curves will look a little funky initially.\n",
    "\n",
    "As before make sure you actually plot curves and that everything is labeled. Each chart from part #2 and #3 has *two* curves. Please review the comments to Module 9 if you're not sure why.\n",
    "\n",
    "Use the data in concrete_compressive_strength.csv for this assignment obtainable at [UCI ML Repository - Concrete Compressive Strength](https://archive.ics.uci.edu/ml/datasets/Concrete+Compressive+Strength).\n",
    "\n",
    "Because the data is always the model, for knn, you simply need a function `knn` that will take the data, a value for k, and a List of instances and return a List of predictions (in this case, we're doing regression...you don't have to write a version of `knn` that would do either).\n",
    "\n",
    "As before there's a lot of infrastructure involved and the specific names I leave up to you as long as you clearly indicate your answers to 1-4 above.\n",
    "\n",
    "-----"
   ]
  },
  {
   "cell_type": "code",
   "execution_count": 2,
   "metadata": {
    "collapsed": true
   },
   "outputs": [],
   "source": [
    "def randomizedSplit(d, classVar, pct):\n",
    "    cols = [v for v in d.dtype.names if v != classVar] + [classVar]\n",
    "    d = d[cols]\n",
    "    d = np.array(d.tolist())\n",
    "\n",
    "    idx = range(d.shape[0])\n",
    "    np.random.shuffle(idx)\n",
    "    split = int(np.floor(d.shape[0] * pct))\n",
    "    return d[:split], d[split:]\n",
    "\n",
    "def standardize(inD, classVar):\n",
    "    d = np.copy(inD)\n",
    "    for v in d.dtype.names:\n",
    "        if v == classVar: # do not standardize class variable\n",
    "            continue\n",
    "        d[v] = (d[v] - np.mean(d[v])) / np.std(d[v])\n",
    "\n",
    "    return d\n",
    "\n",
    "def plotRMSE(hyperParm, data, labels=('','')):\n",
    "    plt.plot(hyperParm, data, label='RMSE')\n",
    "    plt.legend(loc=0)\n",
    "    plt.axis([0, max(hyperParm), -0, 20])\n",
    "    plt.ylabel(labels[1])\n",
    "    plt.xlabel(labels[0])\n",
    "    plt.show()\n",
    "    return"
   ]
  },
  {
   "cell_type": "code",
   "execution_count": 3,
   "metadata": {
    "collapsed": false
   },
   "outputs": [],
   "source": [
    "raw = np.recfromcsv('Concrete_Data.csv', delimiter=',')\n",
    "data = standardize(raw, 'strength')\n",
    "(train, test) = randomizedSplit(data, 'strength', 0.67)"
   ]
  },
  {
   "cell_type": "code",
   "execution_count": 4,
   "metadata": {
    "collapsed": false
   },
   "outputs": [],
   "source": [
    "def D(r1, r2):\n",
    "    return np.sqrt(np.sum((r1-r2)**2, axis=1))\n",
    "\n",
    "def KNN(data, toClass, k, majority=False):\n",
    "    pred = np.zeros(toClass.shape[0])\n",
    "    \n",
    "    for n,t in enumerate(toClass):\n",
    "        dist = D(t[:-1], data[:,:-1])\n",
    "        kInd = np.argpartition(dist, k)[:k]\n",
    "        knn, kDist = data[:,-1][kInd], dist[kInd]\n",
    "        \n",
    "        if not majority:\n",
    "            pred[n] = np.average(knn, weights=1/(1e-9 + kDist) )\n",
    "        else:\n",
    "            k, kN = np.unique(knn, return_counts=True)\n",
    "            maxInd = np.argwhere(kN==np.amax(kN))\n",
    "            if len(maxInd) > 1:\n",
    "                maxInd = np.random.choice(maxInd, 1)\n",
    "            pred[n] = k[maxInd]\n",
    "\n",
    "    return pred, np.linalg.norm(pred-toClass[:,-1])/np.sqrt(pred.size)"
   ]
  },
  {
   "cell_type": "code",
   "execution_count": 5,
   "metadata": {
    "collapsed": false
   },
   "outputs": [
    {
     "data": {
      "image/png": "[encoded data removed]",
      "text/plain": [
       "<matplotlib.figure.Figure at 0x7f482405c590>"
      ]
     },
     "metadata": {},
     "output_type": "display_data"
    }
   ],
   "source": [
    "kList = range(1,16)\n",
    "rmseVal = np.array([KNN(train,test, k)[1] for k in kList])\n",
    "plotRMSE(kList, rmseVal, ('k','RMSE'))"
   ]
  },
  {
   "cell_type": "markdown",
   "metadata": {},
   "source": [
    "While the RMSE is non-increasing wrt k, the marginal improvement is insignificant where k>7. Therefore k=7 is the best hyperparameter."
   ]
  },
  {
   "cell_type": "code",
   "execution_count": 6,
   "metadata": {
    "collapsed": false
   },
   "outputs": [
    {
     "data": {
      "image/png": "[encoded data removed]",
      "text/plain": [
       "<matplotlib.figure.Figure at 0x7f480209fdd0>"
      ]
     },
     "metadata": {},
     "output_type": "display_data"
    }
   ],
   "source": [
    "kOpt = 7\n",
    "dsetSize = (np.arange(10)+1.0)/10\n",
    "rmseLearn = np.zeros(len(dsetSize))\n",
    "for n,s in enumerate(dsetSize):\n",
    "    idx = np.random.choice(train.shape[0], int(s*train.shape[0]) )\n",
    "    _, rmseLearn[n] = KNN(train[idx,:], test, kOpt)\n",
    "    \n",
    "plotRMSE(dsetSize, rmseLearn, ('Portion of Training Set Used','RMSE'))"
   ]
  },
  {
   "cell_type": "code",
   "execution_count": 7,
   "metadata": {
    "collapsed": false
   },
   "outputs": [
    {
     "name": "stdout",
     "output_type": "stream",
     "text": [
      "Average RMSE is 13.285392.\n",
      "Std Dev of RMSE is 0.973718.\n"
     ]
    }
   ],
   "source": [
    "slices = 10\n",
    "whole = np.array(data.tolist())\n",
    "rmseCross = np.zeros(len(dsetSize))\n",
    "idx = np.arange(whole.shape[0])\n",
    "np.random.shuffle(idx)\n",
    "chunks = np.array_split(idx, slices)\n",
    "\n",
    "for n in range(slices):\n",
    "    selected = np.hstack([chunks[x] for x in range(slices) if x != n])\n",
    "    nonselect = np.hstack([chunks[x] for x in range(slices) if x == n])\n",
    "    _, rmseCross[n] = KNN(whole[selected,:], whole[nonselect,:], kOpt)\n",
    "\n",
    "print('Average RMSE is %f.'%np.mean(rmseCross))\n",
    "print('Std Dev of RMSE is %f.'%np.std(rmseCross))"
   ]
  }
 ],
 "metadata": {
  "kernelspec": {
   "display_name": "Python 2",
   "language": "python",
   "name": "python2"
  },
  "language_info": {
   "codemirror_mode": {
    "name": "ipython",
    "version": 2
   },
   "file_extension": ".py",
   "mimetype": "text/x-python",
   "name": "python",
   "nbconvert_exporter": "python",
   "pygments_lexer": "ipython2",
   "version": "2.7.12"
  }
 },
 "nbformat": 4,
 "nbformat_minor": 0
}
