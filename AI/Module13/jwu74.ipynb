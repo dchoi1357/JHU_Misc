{
 "cells": [
  {
   "cell_type": "markdown",
   "metadata": {},
   "source": [
    "# Module 13 - Programming Assignment\n",
    "\n",
    "## Directions\n",
    "\n",
    "There are general instructions on Blackboard and in the Syllabus for Programming Assignments. This Notebook also has instructions specific to this assignment. Read all the instructions carefully and make sure you understand them. Please ask questions on the discussion boards or email me at `EN605.445@gmail.com` if you do not understand something.\n",
    "\n",
    "<div style=\"background: mistyrose; color: firebrick; border: 2px solid darkred; padding: 5px; margin: 10px;\">\n",
    "You must follow the directions *exactly* or you will get a 0 on the assignment.\n",
    "</div>\n",
    "\n",
    "You must submit a zip file of your assignment and associated files (if there are any) to Blackboard. The zip file will be named after you JHED ID: `<jhed_id>.zip`. It will not include any other information. Inside this zip file should be the following directory structure:\n",
    "\n",
    "```\n",
    "<jhed_id>\n",
    "    |\n",
    "    +--module-01-programming.ipynb\n",
    "    +--module-01-programming.html\n",
    "    +--(any other files)\n",
    "```\n",
    "\n",
    "For example, do not name  your directory `programming_assignment_01` and do not name your directory `smith122_pr1` or any else. It must be only your JHED ID. Make sure you submit both an .ipynb and .html version of your *completed* notebook. You can generate the HTML version using:\n",
    "\n",
    "> ipython nbconvert [notebookname].ipynb\n",
    "\n",
    "or use the File menu."
   ]
  },
  {
   "cell_type": "code",
   "execution_count": 1,
   "metadata": {
    "collapsed": true
   },
   "outputs": [],
   "source": [
    "%matplotlib inline\n",
    "import numpy as np\n",
    "import matplotlib.pyplot as plt\n",
    "import csv"
   ]
  },
  {
   "cell_type": "markdown",
   "metadata": {},
   "source": [
    "## k Nearest Neighbors and Model Evaluation\n",
    "\n",
    "You must complete the 4 following tasks:\n",
    "\n",
    "1. Implement k-Nearest Neighbor *regression* as described in the Module.\n",
    "2. Use validation curves as described in Module 9 to determine the best value of k trying values of 1 to 10. (You don't need to use odd values for regression). For this you can simply split the data randomly into a training and a test set with a 67/33 split.\n",
    "3. Use learning curves as described in Module 9 to determine if your model could use more data.\n",
    "    For this you can simply split the data randomly into a training and a test set with a 67/33 split. Use the best k from part 2.\n",
    "4. Use 10-fold cross-validation to establish confidence bounds on your model's performance. Calculate the mean (average) MSE (which sounds funny, I know) and the standard deviation. \n",
    "\n",
    "Additionally, because you can't be *wrong* with the k = 1 in the training data, your curves will look a little funky initially.\n",
    "\n",
    "As before make sure you actually plot curves and that everything is labeled. Each chart from part #2 and #3 has *two* curves. Please review the comments to Module 9 if you're not sure why.\n",
    "\n",
    "Use the data in concrete_compressive_strength.csv for this assignment obtainable at [UCI ML Repository - Concrete Compressive Strength](https://archive.ics.uci.edu/ml/datasets/Concrete+Compressive+Strength).\n",
    "\n",
    "Because the data is always the model, for knn, you simply need a function `knn` that will take the data, a value for k, and a List of instances and return a List of predictions (in this case, we're doing regression...you don't have to write a version of `knn` that would do either).\n",
    "\n",
    "As before there's a lot of infrastructure involved and the specific names I leave up to you as long as you clearly indicate your answers to 1-4 above.\n",
    "\n",
    "-----"
   ]
  },
  {
   "cell_type": "markdown",
   "metadata": {},
   "source": [
    "## Helper Functions ##\n",
    "\n",
    "**standardize(inD, classVar)**  \n",
    "The function takes an input of a numpy recarray and a string indicating the variable which carries the class variable. It makes a deep copy of the input recarray and standardize all variable values except the class variable with: $$z_i = \\frac{x_i - \\bar{x}}{s_x}$$ where $z$ is the standardized value, $\\bar{x}$ is the sample mean of $x$ ,and $s_x$ is the sample standard deviation of $x$.\n",
    "\n",
    "**randomizedSplit(d, classVar, pct)**  \n",
    "The function randomly shuffle the input recarray and split it into two numpy ndarrays containing the data of the parameter recarray. The column as indicated by the `classVar` parameter will be placed as the right-most column. The `pct` parameter determines what percentage of data goes to the first element of the output tuple, and the remaining to the second element (rounded to the nearest integer).\n",
    "\n",
    "**plotRMSE(hyperParm, data, axisLabels=('',''))**  \n",
    "The function plots the RMSE against an array as the `hyperParm` parameter. It is used to plot the validation and learning curve. A parameter signifying the legend of the plot is required. An optional input of `axisLabel` must have at least two elements where the first element will be graphed as the label of x axis and the second for y axis."
   ]
  },
  {
   "cell_type": "code",
   "execution_count": 2,
   "metadata": {
    "collapsed": false
   },
   "outputs": [],
   "source": [
    "def standardize(inD, classVar):\n",
    "    d = np.copy(inD)\n",
    "    for v in d.dtype.names:\n",
    "        if v == classVar: # do not standardize class variable\n",
    "            continue\n",
    "        d[v] = (d[v] - np.mean(d[v])) / np.std(d[v])\n",
    "    return d\n",
    "\n",
    "def randomizedSplit(d, classVar, pct):\n",
    "    cols = [v for v in d.dtype.names if v != classVar] + [classVar]\n",
    "    d = d[cols]\n",
    "    d = np.array(d.tolist())\n",
    "\n",
    "    idx = range(d.shape[0])\n",
    "    np.random.shuffle(idx)\n",
    "    split = int(round(d.shape[0] * pct))\n",
    "    return d[idx[:split]], d[idx[split:]]\n",
    "\n",
    "def plotRMSE(hyperParm, data, legends, axisLabels=('','')):\n",
    "    if data.ndim == 1:\n",
    "        data = np.expand_dims(data, axis=0)\n",
    "    \n",
    "    for n in range(data.shape[0]):\n",
    "        plt.plot(hyperParm, data[n,:], label=legends[n])\n",
    "    plt.legend(loc=0)\n",
    "    plt.axis([0, max(hyperParm), -0, 20])\n",
    "    plt.ylabel(axisLabels[1])\n",
    "    plt.xlabel(axisLabels[0])\n",
    "    plt.grid(b=True, which='major', color='k', linestyle=':')\n",
    "    plt.show()\n",
    "    return\n",
    "\n",
    "def D(r1, r2):\n",
    "    return np.sqrt(np.sum((r1-r2)**2, axis=1))"
   ]
  },
  {
   "cell_type": "markdown",
   "metadata": {},
   "source": [
    "### Reading and splitting data ###\n",
    "The data is read by the numpy function `recfromcsv` which reads a CSV file and naming the columns using the column headers. The data is standardized (except the class variable `strength`, and split into two numpy arrays where 67% goes to the training set and the rest to the testing set."
   ]
  },
  {
   "cell_type": "code",
   "execution_count": 3,
   "metadata": {
    "collapsed": false
   },
   "outputs": [],
   "source": [
    "raw = np.recfromcsv('Concrete_Data.csv', delimiter=',', dtype='f8')\n",
    "data = standardize(raw, 'strength')\n",
    "(train, test) = randomizedSplit(data, 'strength', 0.67)"
   ]
  },
  {
   "cell_type": "markdown",
   "metadata": {},
   "source": [
    "### K-Nearest Neighber Algorithm ###\n",
    "**KNN(`data`, `toClass`, `k`, `majority=False`)**  \n",
    "The function performs the main K-Nearest Neighbor algorithm. The function takes two numpy arrays: `data` is the training data used for classification purpose, and `toClass` is the data that the user wish to be classified. The third parameter, `majority`, is optional and when True, the algorithm takes the plurality of neighbor data point's classes by frequency. Otherwise, the algorithm returns a weighted average of all neighboring class values.\n",
    "\n",
    "The function loops through the `toClass` array row by row (each row is a data point), calculates the euclidian distance of the current row against all rows of the training data (via vectorized numpy code), and takes the the `k` points with the smallest distance. For average of all k neighbor classes, the function uses the resulting distance as weight, where the predicted class $\\hat{k}$ is calculated as:\n",
    "\n",
    "$$\\hat{k} = \\sum_i^k{w_i x_i}, \\quad w_i=\\frac{1}{\\epsilon + d_i}$$\n",
    "\n",
    "where $d_i$ is the distance of the neighbor from the record to be classified. This gives more weighting to records in training data which are the closest to the record to be classified.\n",
    "\n",
    "**evalKNN(pred, actual, numeric=True)**  \n",
    "The function evaluates the predicted class against the actual class by either \n",
    "1. for numeric class, calculates the root mean-square error via: \n",
    "$$RMSE = \\sqrt{\\frac{1}{n}\\sum_i^n{(\\hat{k}-k)^2}}$$\n",
    "1. for categorical class variable, calculates the error rate via:\n",
    "$$\\frac{1}{n}\\sum_{i}^{n}{I_{k_i\\ne\\hat{k_i}}(i\\in x)}$$"
   ]
  },
  {
   "cell_type": "code",
   "execution_count": 4,
   "metadata": {
    "collapsed": false
   },
   "outputs": [],
   "source": [
    "def KNN(data, toClass, k, majority=False):\n",
    "    pred = np.zeros(toClass.shape[0])\n",
    "    \n",
    "    for n,t in enumerate(toClass):\n",
    "        dist = np.sqrt(np.sum((t[:-1]-data[:,:-1])**2, axis=1))\n",
    "        kInd = np.argpartition(dist, k)[:k]\n",
    "        knn, kDist = data[kInd,-1], dist[kInd]\n",
    "        \n",
    "        if not majority:\n",
    "            pred[n] = np.average(knn, weights=1/(1e-9 + kDist) )\n",
    "        else:\n",
    "            k, kN = np.unique(knn, return_counts=True)\n",
    "            maxInd = np.argwhere(kN==np.amax(kN))\n",
    "            if len(maxInd) > 1:\n",
    "                maxInd = np.random.choice(maxInd, 1)\n",
    "            pred[n] = k[maxInd]\n",
    "\n",
    "    return pred\n",
    "\n",
    "def evalKNN(pred, actual, numeric=True):\n",
    "    if numeric:\n",
    "        return np.linalg.norm(pred-actual)/np.sqrt(pred.size)\n",
    "    else:\n",
    "        return np.sum(pred==actual) / pred.size"
   ]
  },
  {
   "cell_type": "markdown",
   "metadata": {},
   "source": [
    "### Validation Curve ###\n",
    "The following code uses k from 1 to 15 and plots the validation curve of k against RMSE. While the RMSE is non-increasing wrt k, the marginal improvement is insignificant where k>8. Therefore k=8 is the best hyperparameter."
   ]
  },
  {
   "cell_type": "code",
   "execution_count": 5,
   "metadata": {
    "collapsed": false
   },
   "outputs": [
    {
     "name": "stdout",
     "output_type": "stream",
     "text": [
      "The k value with the lowest RMSE is 6\n"
     ]
    },
    {
     "data": {
      "image/png": "[encoded data removed]",
      "text/plain": [
       "<matplotlib.figure.Figure at 0x7fa45da362d0>"
      ]
     },
     "metadata": {},
     "output_type": "display_data"
    }
   ],
   "source": [
    "kList = range(1,16)\n",
    "rmseVal = np.zeros([2,len(kList)])\n",
    "for n,k in enumerate(kList):\n",
    "    pred = KNN(train, test, k)\n",
    "    rmseVal[0,n] = evalKNN(pred, test[:,-1])\n",
    "    pred = KNN(train, train, k)\n",
    "    rmseVal[1,n] = evalKNN(pred, train[:,-1])\n",
    "\n",
    "kOpt = kList[np.argmin(rmseVal[0])]\n",
    "print('The k value with the lowest RMSE is %u' %kOpt)\n",
    "plotRMSE(kList, rmseVal, ['Testing', 'Training'], ('k','RMSE'))"
   ]
  },
  {
   "cell_type": "markdown",
   "metadata": {},
   "source": [
    "---\n",
    "### Learning Curve###\n",
    "\n",
    "The following code calculates the RMSE necessary to plot a learning curve based on proportion of available training data used. The training data used is randomly assigned according to the proportion."
   ]
  },
  {
   "cell_type": "code",
   "execution_count": 6,
   "metadata": {
    "collapsed": false
   },
   "outputs": [
    {
     "data": {
      "image/png": "[encoded data removed]",
      "text/plain": [
       "<matplotlib.figure.Figure at 0x7fa45da3ecd0>"
      ]
     },
     "metadata": {},
     "output_type": "display_data"
    }
   ],
   "source": [
    "dsetSize = (np.arange(10)+1.0)/10\n",
    "rmseLearn = np.zeros([2,len(dsetSize)])\n",
    "for n,s in enumerate(dsetSize):\n",
    "    idx = np.random.choice(train.shape[0], \\\n",
    "                           int(round(s*train.shape[0])) , replace=False)\n",
    "    pred = KNN(train[idx,:], test, kOpt)\n",
    "    rmseLearn[0,n] = evalKNN(pred, test[:,-1])\n",
    "    \n",
    "    pred = KNN(train[idx,:], train[idx,:], kOpt)\n",
    "    rmseLearn[1,n] = evalKNN(pred, train[idx,:][:,-1])\n",
    "    \n",
    "plotRMSE(dsetSize, rmseLearn, ['Testing', 'Training'], \\\n",
    "         ('Proportion of Training Set Used','RMSE'))"
   ]
  },
  {
   "cell_type": "markdown",
   "metadata": {},
   "source": [
    "### 10-fold cross-validation ###\n",
    "The code splits the entirety of the shuffled data set into ten equally-sized chunks. Then it performs 10-fold leave-one out validation by using nine folds to train and the tenth for classification and evaluation. The average RMSE and the standard deviation is calculated."
   ]
  },
  {
   "cell_type": "code",
   "execution_count": 7,
   "metadata": {
    "collapsed": false
   },
   "outputs": [
    {
     "name": "stdout",
     "output_type": "stream",
     "text": [
      "Average RMSE is 7.629606.\n",
      "Std Dev of RMSE is 0.718746.\n"
     ]
    }
   ],
   "source": [
    "slices = 10\n",
    "whole = np.array(data.tolist())\n",
    "rmseCross = np.zeros(len(dsetSize))\n",
    "idx = np.arange(whole.shape[0])\n",
    "np.random.shuffle(idx)\n",
    "chunks = np.array_split(idx, slices)\n",
    "\n",
    "for n in range(slices):\n",
    "    selected = np.hstack([chunks[x] for x in range(slices) if x != n])\n",
    "    nonselect = np.hstack([chunks[x] for x in range(slices) if x == n])\n",
    "    pred = KNN(whole[selected,:], whole[nonselect,:], kOpt)\n",
    "    rmseCross[n] = evalKNN(pred, whole[nonselect,-1])\n",
    "\n",
    "print('Average RMSE is %f.'%np.mean(rmseCross))\n",
    "print('Std Dev of RMSE is %f.'%np.std(rmseCross))"
   ]
  }
 ],
 "metadata": {
  "kernelspec": {
   "display_name": "Python 2",
   "language": "python",
   "name": "python2"
  },
  "language_info": {
   "codemirror_mode": {
    "name": "ipython",
    "version": 2
   },
   "file_extension": ".py",
   "mimetype": "text/x-python",
   "name": "python",
   "nbconvert_exporter": "python",
   "pygments_lexer": "ipython2",
   "version": "2.7.12"
  }
 },
 "nbformat": 4,
 "nbformat_minor": 0
}
