{
 "cells": [
  {
   "cell_type": "code",
   "execution_count": 1,
   "metadata": {
    "collapsed": false
   },
   "outputs": [],
   "source": [
    "%matplotlib inline"
   ]
  },
  {
   "cell_type": "markdown",
   "metadata": {},
   "source": [
    "# Module 8 - Programming Assignment (Summer)\n",
    "\n",
    "## Directions\n",
    "\n",
    "There are general instructions on Blackboard and in the Syllabus for Programming Assignments. This Notebook also has instructions specific to this assignment. Read all the instructions carefully and make sure you understand them. Please ask questions on the discussion boards or email me at `EN605.445@gmail.com` if you do not understand something.\n",
    "\n",
    "<div style=\"background: mistyrose; color: firebrick; border: 2px solid darkred; padding: 5px; margin: 10px;\">\n",
    "You must follow the directions *exactly* or you will get a 0 on the assignment.\n",
    "</div>\n",
    "\n",
    "You must submit *only* your IPython notebook to Blackboard. It should be cleanly executed and named:\n",
    "\n",
    "```\n",
    "<jhed_id>.ipynb\n",
    "```\n",
    "\n",
    "An HTML version of the notebook will be generated and graded and the notebook will be used only for reference. To see what the HTML version of your notebook will look like, apply the following command:\n",
    "\n",
    "> ipython nbconvert <jhed_id>.ipynb\n",
    "\n",
    "or use the File menu."
   ]
  },
  {
   "cell_type": "markdown",
   "metadata": {},
   "source": [
    "# The Problem\n",
    "\n",
    "When we last left our agent in Module 4, it was wandering around a world filled with plains, forests, swamps, hills and mountains. This presupposes a map with known terrain:\n",
    "\n",
    "```\n",
    "......\n",
    "...**.\n",
    "...***\n",
    "..^...\n",
    "..~^..\n",
    "```\n",
    "\n",
    "but what if all we know is that we have some area of interest, that we've reduced to a GPS grid:\n",
    "\n",
    "```\n",
    "??????\n",
    "??????\n",
    "??????\n",
    "??????\n",
    "??????\n",
    "```\n",
    "\n",
    "and the agent has to determine what kind of terrain is to the left, front and right of it?\n",
    "\n",
    "Assuming the agent has a very simple visual sensor that constructs a 4x4 grayscale image for each of the three directions, it might it could see something like this:"
   ]
  },
  {
   "cell_type": "code",
   "execution_count": 2,
   "metadata": {
    "collapsed": false
   },
   "outputs": [
    {
     "data": {
      "image/png": "[encoded data removed]",
      "text/plain": [
       "<matplotlib.figure.Figure at 0x7efec2f352d0>"
      ]
     },
     "metadata": {},
     "output_type": "display_data"
    }
   ],
   "source": [
    "import numpy as np\n",
    "import matplotlib.pyplot as plt\n",
    "import random\n",
    "from IPython.display import HTML, display\n",
    "\n",
    "plain =  [0.0, 0.0, 0.0, 0.0,0.0, 0.0, 0.0, 0.0,0.0, 0.0, 0.0, 0.0,1.0, 1.0, 1.0, 1.0]\n",
    "forest = [0.0, 1.0, 0.0, 0.0,1.0, 1.0, 1.0, 0.0,1.0, 1.0, 1.0, 1.0,0.0, 1.0, 0.0, 0.0]\n",
    "hills =  [0.0, 0.0, 0.0, 0.0,0.0, 0.0, 1.0, 0.0,0.0, 1.0, 1.0, 1.0,1.0, 1.0, 1.0, 1.0]\n",
    "swamp =  [0.0, 0.0, 0.0, 0.0,0.0, 0.0, 0.0, 0.0,1.0, 0.0, 1.0, 0.0,1.0, 1.0, 1.0, 1.0]\n",
    "\n",
    "figure = plt.figure(figsize=(20,6))\n",
    "\n",
    "axes = figure.add_subplot(1, 3, 1)\n",
    "pixels = np.array([255 - p * 255 for p in plain], dtype='uint8')\n",
    "pixels = pixels.reshape((4, 4))\n",
    "axes.set_title( \"Left Camera\")\n",
    "axes.imshow(pixels, cmap='gray', interpolation='none')\n",
    "\n",
    "axes = figure.add_subplot(1, 3, 2)\n",
    "pixels = np.array([255 - p * 255 for p in forest], dtype='uint8')\n",
    "pixels = pixels.reshape((4, 4))\n",
    "axes.set_title( \"Front Camera\")\n",
    "axes.imshow(pixels, cmap='gray', interpolation='none')\n",
    "\n",
    "axes = figure.add_subplot(1, 3, 3)\n",
    "pixels = np.array([255 - p * 255 for p in hills], dtype='uint8')\n",
    "pixels = pixels.reshape((4, 4))\n",
    "axes.set_title( \"Right Camera\")\n",
    "axes.imshow(pixels, cmap='gray', interpolation='none')\n",
    "\n",
    "plt.show()\n",
    "plt.close()"
   ]
  },
  {
   "cell_type": "markdown",
   "metadata": {},
   "source": [
    "which would be plains, forest and hills respectively.\n",
    "\n",
    "## The Assignment\n",
    "\n",
    "For this programming assignment your tasks are:\n",
    "\n",
    "1. Write a logistic regression that simply determines if something is a hill or not (two class problem). \n",
    "2. You will also evaluate that logistic regression by generating a *confusion matrix*.\n",
    "\n",
    "For a starting point, you can refer to **module-8-pseudocode.pdf** and the Self-Check."
   ]
  },
  {
   "cell_type": "markdown",
   "metadata": {},
   "source": [
    "## Data\n",
    "\n",
    "We have clean examples of the different types of terrain but based on the location, the registration can be a bit off for some of the types and the visual sensor is often blurry.\n",
    "\n",
    "Here are the clean examples with different registrations: "
   ]
  },
  {
   "cell_type": "code",
   "execution_count": 3,
   "metadata": {
    "collapsed": true
   },
   "outputs": [],
   "source": [
    "clean_data = {\n",
    "    \"plains\": [\n",
    "        [0.0, 0.0, 0.0, 0.0, 0.0, 0.0, 0.0, 0.0, 0.0, 0.0, 0.0, 0.0, 1.0, 1.0, 1.0, 1.0, \"plains\"]\n",
    "    ],\n",
    "    \"forest\": [\n",
    "        [0.0, 1.0, 0.0, 0.0, 1.0, 1.0, 1.0, 0.0, 1.0, 1.0, 1.0, 1.0, 0.0, 1.0, 0.0, 0.0, \"forest\"],\n",
    "        [0.0, 0.0, 1.0, 0.0, 0.0, 1.0, 1.0, 1.0, 1.0, 1.0, 1.0, 1.0, 0.0, 0.0, 1.0, 0.0, \"forest\"],\n",
    "        [1.0, 0.0, 0.0, 0.0, 1.0, 1.0, 0.0, 0.0, 1.0, 1.0, 1.0, 0.0, 1.0, 0.0, 0.0, 0.0, \"forest\"],\n",
    "        [0.0, 0.0, 0.0, 1.0, 0.0, 0.0, 1.0, 1.0, 0.0, 1.0, 1.0, 1.0, 0.0, 0.0, 0.0, 1.0, \"forest\"]\n",
    "    ],\n",
    "    \"hills\": [\n",
    "        [0.0, 0.0, 0.0, 0.0, 0.0, 0.0, 1.0, 0.0, 0.0, 1.0, 1.0, 1.0, 1.0, 1.0, 1.0, 1.0, \"hills\"],\n",
    "        [0.0, 0.0, 0.0, 0.0, 0.0, 1.0, 0.0, 0.0, 1.0, 1.0, 1.0, 0.0, 1.0, 1.0, 1.0, 1.0, \"hills\"],\n",
    "        [0.0, 0.0, 0.0, 0.0, 1.0, 0.0, 0.0, 0.0, 1.0, 1.0, 0.0, 0.0, 1.0, 1.0, 1.0, 0.0, \"hills\"],\n",
    "        [0.0, 0.0, 0.0, 0.0, 0.0, 0.0, 0.0, 1.0, 0.0, 0.0, 1.0, 1.0, 0.0, 1.0, 1.0, 1.0, \"hills\"]\n",
    "    ],\n",
    "    \"swamp\": [\n",
    "        [0.0, 0.0, 0.0, 0.0, 0.0, 0.0, 0.0, 0.0, 1.0, 0.0, 1.0, 0.0, 1.0, 1.0, 1.0, 1.0, \"swamp\"],\n",
    "        [0.0, 0.0, 0.0, 0.0, 0.0, 0.0, 0.0, 0.0, 0.0, 1.0, 0.0, 1.0, 1.0, 1.0, 1.0, 1.0, \"swamp\"]        \n",
    "    ]\n",
    "}"
   ]
  },
  {
   "cell_type": "markdown",
   "metadata": {},
   "source": [
    "Let's create a function that allows us to view any of these:"
   ]
  },
  {
   "cell_type": "code",
   "execution_count": 4,
   "metadata": {
    "collapsed": true
   },
   "outputs": [],
   "source": [
    "def view_sensor_image( data):\n",
    "    figure = plt.figure(figsize=(4,4))\n",
    "    axes = figure.add_subplot(1, 1, 1)\n",
    "    pixels = np.array([255 - p * 255 for p in data[:-1]], dtype='uint8')\n",
    "    pixels = pixels.reshape((4, 4))\n",
    "    axes.set_title( \"Left Camera:\" + data[-1])\n",
    "    axes.imshow(pixels, cmap='gray', interpolation='none')\n",
    "    plt.show()\n",
    "    plt.close()"
   ]
  },
  {
   "cell_type": "markdown",
   "metadata": {},
   "source": [
    "\"I think that I shall never see a thing so lovely as a tree.\""
   ]
  },
  {
   "cell_type": "code",
   "execution_count": 5,
   "metadata": {
    "collapsed": false
   },
   "outputs": [
    {
     "data": {
      "image/png": "[encoded data removed]",
      "text/plain": [
       "<matplotlib.figure.Figure at 0x7efec2e538d0>"
      ]
     },
     "metadata": {},
     "output_type": "display_data"
    }
   ],
   "source": [
    "view_sensor_image( clean_data[ \"forest\"][0])"
   ]
  },
  {
   "cell_type": "code",
   "execution_count": 6,
   "metadata": {
    "collapsed": false
   },
   "outputs": [
    {
     "data": {
      "image/png": "[encoded data removed]",
      "text/plain": [
       "<matplotlib.figure.Figure at 0x7efec2d06990>"
      ]
     },
     "metadata": {},
     "output_type": "display_data"
    }
   ],
   "source": [
    "view_sensor_image( clean_data[\"swamp\"][0])"
   ]
  },
  {
   "cell_type": "markdown",
   "metadata": {},
   "source": [
    "The data that comes in, however, is noisy. The values are never exactly 0 and 1. In order to mimic this we need a `blur` function.\n",
    "\n",
    "We will assume that noise is normally distributed. For values that should be 0, the noisy values are distributed $N(0.10, 0.05)$. For values should be 1, the noisy values are distributed $N(0.9, 0.10)$."
   ]
  },
  {
   "cell_type": "code",
   "execution_count": 7,
   "metadata": {
    "collapsed": true
   },
   "outputs": [],
   "source": [
    "def blur( data):\n",
    "    def apply_noise( value):\n",
    "        if value < 0.5:\n",
    "            v = random.gauss( 0.10, 0.05)\n",
    "            if v < 0.0:\n",
    "                return 0.0\n",
    "            if v > 0.75:\n",
    "                return 0.75\n",
    "            return v\n",
    "        else:\n",
    "            v = random.gauss( 0.90, 0.10)\n",
    "            if v < 0.25:\n",
    "                return 0.25\n",
    "            if v > 1.00:\n",
    "                return 1.00\n",
    "            return v\n",
    "    noisy_readings = [apply_noise( v) for v in data[0:-1]]\n",
    "    return noisy_readings + [data[-1]]"
   ]
  },
  {
   "cell_type": "markdown",
   "metadata": {},
   "source": [
    "We can see how this affects what the agent *actually* sees."
   ]
  },
  {
   "cell_type": "code",
   "execution_count": 8,
   "metadata": {
    "collapsed": false
   },
   "outputs": [
    {
     "data": {
      "image/png": "[encoded data removed]",
      "text/plain": [
       "<matplotlib.figure.Figure at 0x7efec2c4c950>"
      ]
     },
     "metadata": {},
     "output_type": "display_data"
    }
   ],
   "source": [
    "view_sensor_image( blur( clean_data[\"swamp\"][0]))"
   ]
  },
  {
   "cell_type": "markdown",
   "metadata": {},
   "source": [
    "You are going to want to write four (4) functions:\n",
    "\n",
    "1. `generate_data`\n",
    "2. `learn_model`\n",
    "3. `apply_model`\n",
    "4. `calculate_confusion_matrix`\n",
    "\n",
    "\n",
    "### `generate_data`\n",
    "\n",
    "With the clean examples and the `blur` function, we have an unlimited amount of data for training and testing our classifier, a logistic regression that determines if a sensor image is hills (1) or not (0).\n",
    "\n",
    "In classification, there is a general problem called the \"unbalanced class problem\". In general, we want our training data to have the same number of classes, in this case \"hills\" and \"not hills\". This means you should probably generate training data with, say, 100 hills and then 100 of all the other types of terrain combined.\n",
    "\n",
    "When you send your data to the actual `learn_model` function, it will need to have all the String labels transformed to 0 or 1 appropriately. Remember, you also need to set $x_0$ = 1.0; *where* you do that is up to you but you need to be consistent (if you do it in `generate_data` then don't also do it in `learn_model` or `apply_model`.\n",
    "\n",
    "You can make `generate_data` as sophisticated as you like. But it should at least take n and a label so that:\n",
    "\n",
    "`generate_data( clean_data, 100, \"hills\")`\n",
    "\n",
    "generates 100 hills, 100 not hills and has transformed the String labels into 1 and 0, respectively.\n",
    "\n",
    "### `learn_model`\n",
    "\n",
    "`learn_model` is the function that takes in training data and actually learns the logistic regression model. If you're up to it, you can implement a vectorized version using Numpy but you might start with the loopy version first.\n",
    "\n",
    "*In the lecture, I mentioned that you usually should mean normalize your data but you don't need to do that in this case because the data is already on the range 0-1.*\n",
    "\n",
    "I should also mention that gradient descent is not the usual approach to linear|logistic regression because the error function actually has an *exact* solution. However, in the case of large data sets, the exact solution often fails and in any case, the use of gradient descent will prepare you for neural networks next week.\n",
    "\n",
    "When verbose is True, you should print out the error so you can see that it is getting smaller. \n",
    "\n",
    "When developing your algorithm, you need to watch the error so you'll set verbose=True to start. You should print it out every iteration and make sure it is declining. You'll have to experiment with both epsilon and alpha; and it doesn't hurt to make alpha adaptive (if the error increases, make alpha = alpha / 10).\n",
    "\n",
    "When you know that your algorithm is working, change your code so that the error is printed out only every 1,000 iterations (it takes a lot of iterations for this problem to converge, depending on your parameter values--start early).\n",
    "\n",
    "`learn_model` returns the List of Thetas.\n",
    "\n",
    "### `apply_model`\n",
    "\n",
    "`apply_model` takes a List of Thetas (the model) and either labeled or unlabeled data. If the data is unlabeled, it will return predictions for each observation as a Tuple of the inferred value (0 or 1) and the actual probability (so something like (1, 0.73) or (0, 0.19).\n",
    "\n",
    "If the data is labeled, you will return a Tuple of the actual value (0 or 1) and the predicted value (0 or 1). In this case, you return a List of something like [(0, 1), (1, 1), (0, 0), (1, 0)].\n",
    "\n",
    "### `calculate_confusion_matrix`\n",
    "\n",
    "The `calculate_confusion_matrix` takes the results of `apply_model` when labeled=True and prints a nice HTML version of a confusion matrix and include statistics for error rate, true positive rate and true negative rate.\n",
    "\n",
    "\n",
    "**As always when working with Lists or Lists of Lists, be very careful when you are modifying these items in place that this is what you intend (and not to be modifying a copy)**"
   ]
  },
  {
   "cell_type": "markdown",
   "metadata": {},
   "source": [
    "---\n",
    "\n",
    "## Helper functions\n",
    "\n",
    "**logistic(x, theta)**  \n",
    "Given a matrix x and a vector $\\theta$, calculate the logistic function:  \n",
    "$$ \\hat{y}= \\frac{1}{1+e^{-\\mathbf{x} \\mathbf{\\theta}}} $$\n",
    "\n",
    "**logisticError(x, theta, y)**  \n",
    "Calculate the error of the logistic regression given a matrix of `x`, a vector of $\\theta$, and actual value `y`. \n",
    "$$Err(\\mathbf{x},\\mathbf{\\theta},\\mathbf{y})=-\\frac{1}{n}\\sum_i\ty_i\tlog(\\hat{y_i}) + (1\t- y_i)log(1\t- \\hat{y_i})$$\n",
    "\n",
    "**updateTheta(a, yhat, y, x, th, errDiff)**  \n",
    "Update the $\\theta$ based on $\\hat{y}$ and $\\alpha$, using the equation  \n",
    "$$\\frac{\\partial J}{\\partial \\theta_j} = \\frac{1}{n}\\sum_i(\\hat{y_i}  - y_i)x_{ij}$$\n",
    "$$\\theta_{t+1} = \\theta_{t} - \\alpha \\cdot \\frac{\\partial J}{\\partial \\theta_j}$$\n",
    "\n",
    "**makeIndepDepData(data)**  \n",
    "Given a matrix of input data of dimension i x j, where the first j-1 columns are the independent variables, and column j is the actual, the function outputs matrix of the first j-1 columns prepended with a vertical vector of ones (for the intercept), and the y."
   ]
  },
  {
   "cell_type": "code",
   "execution_count": 9,
   "metadata": {
    "collapsed": true
   },
   "outputs": [],
   "source": [
    "def logistic(x, theta):\n",
    "    return 1.0 / ( 1 + np.exp(-x * theta) )\n",
    "\n",
    "def logisticError(x, theta, y):\n",
    "    yhat = logistic(x, theta)\n",
    "    err = -(y.T*np.log(yhat) + (1-y).T*np.log(1-yhat)) / len(y)\n",
    "    return float(err), yhat\n",
    "    \n",
    "def updateTheta(a, yhat, y, x, th, errDiff):\n",
    "    d = ((yhat-y).T * x).T / len(y)\n",
    "    return th - (a*d)\n",
    "\n",
    "def makeIndepDepData(data):\n",
    "    y = data[:, -1] # actual\n",
    "    x = np.hstack((np.ones([data.shape[0],1]), data[:, :-1])) # put intercept\n",
    "    return x,y"
   ]
  },
  {
   "cell_type": "markdown",
   "metadata": {},
   "source": [
    "---\n",
    "\n",
    "## Main Functions"
   ]
  },
  {
   "cell_type": "markdown",
   "metadata": {},
   "source": [
    "Use `generate_data` to generate 10 blurred \"hills\" examples with balanced (same number of) \"non hills\" examples to see that the function is working.\n",
    "\n",
    "**generate_data( data, n, label)**  \n",
    "Generate n blurred data points of the `label` category by choosing instances of data points within that category, as well as n random blurred data points instances that belongs to other categories."
   ]
  },
  {
   "cell_type": "code",
   "execution_count": 10,
   "metadata": {
    "collapsed": false
   },
   "outputs": [
    {
     "name": "stdout",
     "output_type": "stream",
     "text": [
      "[[ 0.          0.17146271  0.10637145  0.01514782  0.01838531  0.79727449\n",
      "   0.06485791  0.13057679  1.          0.95043011  0.97706854  0.0680517\n",
      "   0.88850549  1.          0.79890813  1.          1.        ]]\n",
      "[[ 0.07334794  0.05365704  0.15780845  0.16127618  0.21795331  0.82052463\n",
      "   0.06905308  0.0548153   0.95064927  1.          0.835222    0.05477571\n",
      "   0.78332465  0.98219075  0.827884    1.          1.        ]]\n",
      "[[ 0.1332295   0.05762474  0.07618189  0.10515962  0.08506358  0.06741011\n",
      "   0.83497855  0.01237306  0.          1.          0.91064092  0.98260701\n",
      "   0.88640081  0.89979134  0.85683882  0.98477143  1.        ]]\n",
      "[[ 0.13942781  0.10076149  0.12382258  0.13156366  0.0653928   0.04687145\n",
      "   0.11304692  0.92648591  0.11881225  0.16545565  0.8332642   0.81762471\n",
      "   0.05978606  0.89064336  0.78728366  0.8889499   1.        ]]\n",
      "[[ 0.19621836  0.00728214  0.11568984  0.11950618  0.08453366  0.82343186\n",
      "   0.12237476  0.11121595  0.89297145  0.56709981  0.83686324  0.12652874\n",
      "   0.80518255  0.7870836   0.88078913  0.737367    1.        ]]\n",
      "[[ 0.00639171  0.22878544  0.05186283  0.08500583  0.          0.14545862\n",
      "   0.0764469   0.82257119  0.09099479  0.06271175  1.          0.88040522\n",
      "   0.03252836  0.79725746  0.68949851  0.87876521  1.        ]]\n",
      "[[ 0.04526583  0.11603028  0.11902098  0.07954908  0.95001183  0.21382912\n",
      "   0.18428171  0.09971263  1.          0.9222126   0.08597066  0.00905729\n",
      "   0.90491125  0.93078344  0.76564702  0.02576723  1.        ]]\n",
      "[[ 0.1013166   0.03491488  0.1141814   0.14573752  0.11921803  0.86631231\n",
      "   0.19006941  0.08992611  0.94760546  0.81582278  0.79076627  0.07219374\n",
      "   0.83141594  0.8897021   0.82754135  0.84830823  1.        ]]\n",
      "[[ 0.06957085  0.0671093   0.07669527  0.13851753  0.10886434  0.08636481\n",
      "   0.93375639  0.06392006  0.09547465  0.96745007  0.98926275  0.88043758\n",
      "   0.81152445  0.77222985  0.89595339  0.82188974  1.        ]]\n",
      "[[ 0.18615484  0.13029641  0.          0.20421687  0.7983444   0.15385344\n",
      "   0.09699968  0.09875667  1.          0.9820427   0.10949935  0.07137114\n",
      "   0.91036564  0.99489485  0.94556139  0.09665575  1.        ]]\n",
      "[[ 0.11277926  0.09369956  0.05928025  0.17236457  0.05987684  0.0862544\n",
      "   0.          0.08010118  0.9089482   0.1498335   0.94940619  0.14526007\n",
      "   0.78304409  0.8966623   0.97676026  0.93312092  0.        ]]\n",
      "[[ 0.12088006  0.02177918  0.13642796  0.05024047  0.08158284  0.01571876\n",
      "   0.14584778  0.07952874  0.16417967  0.91542405  0.16501774  0.88925988\n",
      "   1.          0.93749594  1.          1.          0.        ]]\n",
      "[[ 0.15841312  0.26336062  0.04071918  0.13504982  0.16510423  0.08278992\n",
      "   0.06844662  0.11347183  0.13124093  0.10405471  0.2151993   0.08373878\n",
      "   0.87015648  1.          0.7912174   0.91891454  0.        ]]\n",
      "[[ 0.14368004  0.11285699  1.          0.10503523  0.          0.92630766\n",
      "   0.79768989  0.89461759  0.9823131   0.98403439  0.84361671  0.87790764\n",
      "   0.07465473  0.13277771  0.86977411  0.11500333  0.        ]]\n",
      "[[ 0.12647638  1.          0.15593328  0.06361496  1.          0.94491163\n",
      "   0.87563448  0.11800568  0.98605054  0.83283494  0.82302817  0.84295481\n",
      "   0.13381471  1.          0.08968838  0.09268275  0.        ]]\n",
      "[[ 0.09697665  0.09193933  0.14433379  0.07679253  0.20171182  0.15567741\n",
      "   0.09524112  0.14069241  1.          0.14634669  0.85288225  0.13194606\n",
      "   0.94610745  0.97784442  1.          0.97615161  0.        ]]\n",
      "[[ 0.12738021  0.07169805  0.21975412  0.1529465   0.21957079  0.03107334\n",
      "   0.13117123  0.19233852  0.11557575  0.94928791  0.04501947  0.89537041\n",
      "   0.81740213  0.84156135  0.90962082  1.          0.        ]]\n",
      "[[ 0.0202321   0.21050079  0.1713225   0.06815078  0.          0.13632866\n",
      "   0.15666753  0.1066478   0.1335537   0.11610179  0.18243812  0.07603404\n",
      "   0.91313771  0.81693813  0.97494243  1.          0.        ]]\n",
      "[[ 0.20317867  0.09987497  0.08062614  0.10071119  0.06385026  0.15547423\n",
      "   0.06866527  0.          0.14898721  0.17440907  0.11060737  0.15368761\n",
      "   0.87332065  0.77762932  0.82576048  0.90007691  0.        ]]\n",
      "[[ 0.11028721  0.09473231  0.15851217  0.07553424  0.13042443  0.12924661\n",
      "   0.11352353  0.11977342  0.68355455  0.13631042  0.90265367  0.05683048\n",
      "   0.86847243  0.75564779  0.8014683   0.86999965  0.        ]]\n"
     ]
    }
   ],
   "source": [
    "def generate_data( data, n, label):\n",
    "    outK = [k for k in data.keys() if k!=label]\n",
    "    inPts = [blur(data[label][random.randrange(len(data[label]))])[:-1] + [1] \\\n",
    "             for x in xrange(n)]\n",
    "    outPts = list()\n",
    "    for x in xrange(n):\n",
    "        tp = random.sample(outK, 1)[0]\n",
    "        outPts.append(blur(data[tp][random.randrange(len(data[tp]))][:-1]+[0]))\n",
    "    return np.matrix(inPts + outPts)\n",
    "\n",
    "results = generate_data( clean_data, 10, \"hills\")\n",
    "for result in results:\n",
    "    print result"
   ]
  },
  {
   "cell_type": "markdown",
   "metadata": {},
   "source": [
    "Use `learn_model` to learn a logistic regression model for classifying sensor images as \"hills\" or \"not hills\". Use your `generate_data` function to generate a training set with 100 hills examples. **Set Verbose to True**\n",
    "\n",
    "**learn_model( data, alpha, eps, verbose=False)**  \n",
    "Using gradient descent, fit a logistic regression to the input data by adjusting the parameters to find one that minimizes the error as calculated `logisticError()`. The algorithm runs until the successive differences between the errors of the iteration is less than `eps` in the parameter. Each iteration updates the $\\theta$ according to the derivative. When the error difference increases, the alpha gets divided by 10. The algorithm goes for 1 million iterations before stopping, even though when the error difference has not reached epsilon yet."
   ]
  },
  {
   "cell_type": "code",
   "execution_count": 11,
   "metadata": {
    "collapsed": false,
    "scrolled": false
   },
   "outputs": [
    {
     "name": "stdout",
     "output_type": "stream",
     "text": [
      "Iter #0, error: 1.385071\n",
      "Iter #1000, error: 0.386077\n",
      "Iter #2000, error: 0.282118\n",
      "Iter #3000, error: 0.228899\n",
      "Iter #4000, error: 0.195539\n",
      "Iter #5000, error: 0.172378\n",
      "Iter #6000, error: 0.155238\n",
      "Iter #7000, error: 0.141975\n",
      "Iter #8000, error: 0.131366\n",
      "Iter #9000, error: 0.122658\n",
      "Iter #10000, error: 0.115361\n",
      "Iter #11000, error: 0.109143\n",
      "Iter #12000, error: 0.103770\n",
      "Iter #13000, error: 0.099070\n",
      "Iter #14000, error: 0.094919\n",
      "Iter #15000, error: 0.091220\n",
      "Iter #16000, error: 0.087898\n",
      "Iter #17000, error: 0.084894\n",
      "Iter #18000, error: 0.082163\n",
      "Iter #19000, error: 0.079665\n",
      "Iter #20000, error: 0.077371\n",
      "Iter #21000, error: 0.075254\n",
      "Iter #22000, error: 0.073293\n",
      "Iter #23000, error: 0.071471\n",
      "Iter #24000, error: 0.069771\n",
      "Iter #25000, error: 0.068181\n",
      "Iter #26000, error: 0.066690\n",
      "Iter #27000, error: 0.065288\n",
      "Iter #28000, error: 0.063966\n",
      "Iter #29000, error: 0.062718\n",
      "Iter #30000, error: 0.061537\n",
      "Iter #31000, error: 0.060416\n",
      "Iter #32000, error: 0.059352\n",
      "Iter #33000, error: 0.058340\n",
      "Iter #34000, error: 0.057375\n",
      "Iter #35000, error: 0.056454\n",
      "Iter #36000, error: 0.055574\n",
      "Iter #37000, error: 0.054731\n",
      "Iter #38000, error: 0.053925\n",
      "Iter #39000, error: 0.053151\n",
      "Iter #40000, error: 0.052407\n",
      "Iter #41000, error: 0.051693\n",
      "Iter #42000, error: 0.051005\n",
      "Iter #43000, error: 0.050343\n",
      "Iter #44000, error: 0.049705\n",
      "Iter #45000, error: 0.049089\n",
      "Iter #46000, error: 0.048494\n",
      "Iter #47000, error: 0.047919\n",
      "Iter #48000, error: 0.047363\n",
      "Iter #49000, error: 0.046825\n",
      "Iter #50000, error: 0.046304\n",
      "Iter #51000, error: 0.045799\n",
      "Iter #52000, error: 0.045309\n",
      "Iter #53000, error: 0.044834\n",
      "Iter #54000, error: 0.044372\n",
      "Iter #55000, error: 0.043924\n",
      "Iter #56000, error: 0.043488\n",
      "Iter #57000, error: 0.043064\n",
      "Iter #58000, error: 0.042652\n",
      "Iter #59000, error: 0.042251\n",
      "Iter #60000, error: 0.041860\n",
      "Iter #61000, error: 0.041479\n",
      "Iter #62000, error: 0.041107\n",
      "Iter #63000, error: 0.040745\n",
      "Iter #64000, error: 0.040392\n",
      "Iter #65000, error: 0.040047\n",
      "Iter #66000, error: 0.039710\n",
      "Iter #67000, error: 0.039381\n",
      "Iter #68000, error: 0.039059\n",
      "Iter #69000, error: 0.038745\n",
      "Iter #70000, error: 0.038438\n",
      "Iter #71000, error: 0.038137\n",
      "Iter #72000, error: 0.037843\n",
      "Iter #73000, error: 0.037556\n",
      "Iter #74000, error: 0.037274\n",
      "Iter #75000, error: 0.036998\n",
      "Iter #76000, error: 0.036727\n",
      "Iter #77000, error: 0.036462\n",
      "Iter #78000, error: 0.036203\n",
      "Iter #79000, error: 0.035948\n",
      "Iter #80000, error: 0.035699\n",
      "Iter #81000, error: 0.035454\n",
      "Iter #82000, error: 0.035213\n",
      "Iter #83000, error: 0.034977\n",
      "Iter #84000, error: 0.034746\n",
      "Iter #85000, error: 0.034519\n",
      "Iter #86000, error: 0.034295\n",
      "Iter #87000, error: 0.034076\n",
      "Iter #88000, error: 0.033861\n",
      "Iter #89000, error: 0.033649\n",
      "Iter #90000, error: 0.033441\n",
      "Iter #91000, error: 0.033236\n",
      "Iter #92000, error: 0.033035\n",
      "Iter #93000, error: 0.032837\n",
      "Iter #94000, error: 0.032642\n",
      "Iter #95000, error: 0.032451\n",
      "Iter #96000, error: 0.032262\n",
      "Iter #97000, error: 0.032077\n",
      "Iter #98000, error: 0.031894\n",
      "Iter #99000, error: 0.031715\n",
      "Iter #100000, error: 0.031538\n",
      "Iter #101000, error: 0.031363\n",
      "Iter #102000, error: 0.031192\n",
      "Iter #103000, error: 0.031022\n",
      "Iter #104000, error: 0.030856\n",
      "Iter #105000, error: 0.030692\n",
      "Iter #106000, error: 0.030530\n",
      "Iter #107000, error: 0.030370\n",
      "Iter #108000, error: 0.030213\n",
      "Iter #109000, error: 0.030058\n",
      "Iter #110000, error: 0.029905\n",
      "Iter #111000, error: 0.029754\n",
      "Iter #112000, error: 0.029605\n",
      "Iter #113000, error: 0.029459\n",
      "Iter #114000, error: 0.029314\n",
      "Iter #115000, error: 0.029171\n",
      "Iter #116000, error: 0.029030\n",
      "Iter #117000, error: 0.028891\n",
      "Iter #118000, error: 0.028753\n",
      "Iter #119000, error: 0.028618\n",
      "Iter #120000, error: 0.028484\n",
      "Iter #121000, error: 0.028352\n",
      "Iter #122000, error: 0.028221\n",
      "Iter #123000, error: 0.028092\n",
      "Iter #124000, error: 0.027965\n",
      "Iter #125000, error: 0.027839\n",
      "Iter #126000, error: 0.027715\n",
      "Iter #127000, error: 0.027592\n",
      "Iter #128000, error: 0.027471\n",
      "Iter #129000, error: 0.027351\n",
      "Iter #130000, error: 0.027232\n",
      "Iter #131000, error: 0.027115\n",
      "Iter #132000, error: 0.026999\n",
      "Iter #133000, error: 0.026885\n",
      "Iter #134000, error: 0.026772\n",
      "Iter #135000, error: 0.026660\n",
      "Iter #136000, error: 0.026549\n",
      "Iter #137000, error: 0.026440\n",
      "Iter #138000, error: 0.026331\n",
      "Iter #139000, error: 0.026224\n",
      "Iter #140000, error: 0.026118\n",
      "Iter #141000, error: 0.026014\n",
      "Iter #142000, error: 0.025910\n",
      "Iter #143000, error: 0.025807\n",
      "Iter #144000, error: 0.025706\n",
      "Final iteration #144873, error: 0.025618\n",
      "Coefficients: [[-24.09470249  -4.88015142 -12.55933931 -16.33960013  -4.62665811\n",
      "   11.99216486   0.38914398  -0.29608194   7.84164005  -8.36653918\n",
      "   13.80113058  14.26223403  -9.26765208  -6.49264754   8.07664596\n",
      "   18.40072225  -2.27092885]]\n"
     ]
    }
   ],
   "source": [
    "def learn_model( data, alpha, eps, verbose=False):\n",
    "    x,y = makeIndepDepData(data)\n",
    "    theta = np.matrix(np.random.rand(x.shape[1],1)) # initialize Theta\n",
    "    lastErr = 0\n",
    "    err,yhat = logisticError(x, theta, y)\n",
    "\n",
    "    c = 0\n",
    "    while (abs(err-lastErr) > eps) and c<1e6:\n",
    "        if c % 1000 == 0 and verbose:\n",
    "            print('Iter #%u, error: %f'%(c,err))\n",
    "        theta = updateTheta(alpha, yhat, y, x, theta, err-lastErr)\n",
    "        lastErr = err\n",
    "        err,yhat = logisticError(x, theta, y)\n",
    "        if err > lastErr:\n",
    "            alpha /= 10\n",
    "        c += 1\n",
    "    \n",
    "    print('Final iteration #%u, error: %f' % (c-1,err) )\n",
    "    print('Coefficients: %s' % str(theta.T))\n",
    "    return theta\n",
    "\n",
    "\n",
    "train_data = generate_data( clean_data, 100, \"hills\")\n",
    "model = learn_model( train_data, 0.1, 1e-7, True)"
   ]
  },
  {
   "cell_type": "markdown",
   "metadata": {},
   "source": [
    "Use `generate_data` to generate 100 blurred \"hills\" examples with balanced \"non hills\" examples and use this as your test data. Set labeled=True and generate results to use in `calculate_confusion_matrix`. Print out the first 10 results, one per line.\n",
    "\n",
    "**apply_model( model, test_data, labeled=False)**  \n",
    "Given a list of $\\theta$, calculate the predicted $\\hat{y}$ from the input data. If `labeled` is false, it returns tuples of predicated true/false as well as the actual probability. If not labeled, then return tuples of actual true/false and predicted true/false."
   ]
  },
  {
   "cell_type": "code",
   "execution_count": 12,
   "metadata": {
    "collapsed": false
   },
   "outputs": [
    {
     "name": "stdout",
     "output_type": "stream",
     "text": [
      "(1, 1)\n",
      "(1, 1)\n",
      "(1, 1)\n",
      "(1, 1)\n",
      "(1, 1)\n",
      "(1, 1)\n",
      "(1, 1)\n",
      "(1, 1)\n",
      "(1, 1)\n",
      "(1, 1)\n"
     ]
    }
   ],
   "source": [
    "test_data = generate_data( clean_data, 100, \"hills\")\n",
    "\n",
    "def apply_model( model, test_data, labeled=False):\n",
    "    x,y = makeIndepDepData(test_data)\n",
    "    yhat = logistic(x, model).T.tolist()[0]\n",
    "    pred = [1 if n > 0.5 else 0 for n in yhat]\n",
    "    if labeled:\n",
    "        return zip([int(round(n)) for n in y.T.tolist()[0]], pred)\n",
    "    else:\n",
    "        return zip(pred, yhat)\n",
    "\n",
    "results = apply_model( model, test_data, True)\n",
    "for n in range(10):\n",
    "    print results[n]"
   ]
  },
  {
   "cell_type": "markdown",
   "metadata": {},
   "source": [
    "Using the results above, show your confusion matrix for your model.\n",
    "\n",
    "**calculate_confusion_matrix(results)**  \n",
    "Given a labeled result from `apply_model(...)`, prints an html table of confusion matrix. Also prints out the error rate, true positive rate, and true negative rate."
   ]
  },
  {
   "cell_type": "code",
   "execution_count": 13,
   "metadata": {
    "collapsed": false
   },
   "outputs": [
    {
     "name": "stdout",
     "output_type": "stream",
     "text": [
      "\n"
     ]
    },
    {
     "data": {
      "text/html": [
       "<table><tr><td>n = 200</td><td>Pred: False</td><td>Pred: True</td></tr><tr><td>Actual: False</td><td>98</td><td>2</td></tr><tr><td>Actual: True</td><td>2</td><td>98</td></tr></table>"
      ],
      "text/plain": [
       "<IPython.core.display.HTML object>"
      ]
     },
     "metadata": {},
     "output_type": "display_data"
    },
    {
     "name": "stdout",
     "output_type": "stream",
     "text": [
      "Error rate: 2.0%\n",
      "True positive rate: 98.0%\n",
      "True negative rate: 98.0%\n"
     ]
    }
   ],
   "source": [
    "def calculate_confusion_matrix( results):\n",
    "    h = [[0,0], [0,0]]\n",
    "    for act,pred in results:\n",
    "        h[act][pred] += 1\n",
    "    t = [['n = %u'%len(results), 'Pred: False', 'Pred: True'],\n",
    "         ['Actual: False'] + h[0], ['Actual: True'] + h[1]]\n",
    "    s = '<table>%s</table>'%''.join(['<tr>%s</tr>'% ''.join(\n",
    "                ['<td>%s</td>'%str(x) for x in row]) for row in t])\n",
    "    print('')\n",
    "    display(HTML(s))\n",
    "\n",
    "    errRate = (h[0][1] + h[1][0] + 0.0) / len(results) * 100\n",
    "    tpRate = h[1][1] / (h[1][0] + h[1][1] + 0.0) * 100\n",
    "    tnRate = h[0][0] / (h[0][0] + h[0][1] + 0.0) * 100\n",
    "    print('Error rate: %.1f%%' % errRate)\n",
    "    print('True positive rate: %.1f%%' % tpRate)\n",
    "    print('True negative rate: %.1f%%' % tnRate)\n",
    "\n",
    "calculate_confusion_matrix(results)"
   ]
  }
 ],
 "metadata": {
  "kernelspec": {
   "display_name": "Python 2",
   "language": "python",
   "name": "python2"
  },
  "language_info": {
   "codemirror_mode": {
    "name": "ipython",
    "version": 2
   },
   "file_extension": ".py",
   "mimetype": "text/x-python",
   "name": "python",
   "nbconvert_exporter": "python",
   "pygments_lexer": "ipython2",
   "version": "2.7.12"
  }
 },
 "nbformat": 4,
 "nbformat_minor": 1
}
