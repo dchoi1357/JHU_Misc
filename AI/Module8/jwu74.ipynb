{
 "cells": [
  {
   "cell_type": "code",
   "execution_count": 1,
   "metadata": {
    "collapsed": false
   },
   "outputs": [],
   "source": [
    "%matplotlib inline"
   ]
  },
  {
   "cell_type": "markdown",
   "metadata": {},
   "source": [
    "# Module 8 - Programming Assignment (Summer)\n",
    "\n",
    "## Directions\n",
    "\n",
    "There are general instructions on Blackboard and in the Syllabus for Programming Assignments. This Notebook also has instructions specific to this assignment. Read all the instructions carefully and make sure you understand them. Please ask questions on the discussion boards or email me at `EN605.445@gmail.com` if you do not understand something.\n",
    "\n",
    "<div style=\"background: mistyrose; color: firebrick; border: 2px solid darkred; padding: 5px; margin: 10px;\">\n",
    "You must follow the directions *exactly* or you will get a 0 on the assignment.\n",
    "</div>\n",
    "\n",
    "You must submit *only* your IPython notebook to Blackboard. It should be cleanly executed and named:\n",
    "\n",
    "```\n",
    "<jhed_id>.ipynb\n",
    "```\n",
    "\n",
    "An HTML version of the notebook will be generated and graded and the notebook will be used only for reference. To see what the HTML version of your notebook will look like, apply the following command:\n",
    "\n",
    "> ipython nbconvert <jhed_id>.ipynb\n",
    "\n",
    "or use the File menu."
   ]
  },
  {
   "cell_type": "markdown",
   "metadata": {},
   "source": [
    "# The Problem\n",
    "\n",
    "When we last left our agent in Module 4, it was wandering around a world filled with plains, forests, swamps, hills and mountains. This presupposes a map with known terrain:\n",
    "\n",
    "```\n",
    "......\n",
    "...**.\n",
    "...***\n",
    "..^...\n",
    "..~^..\n",
    "```\n",
    "\n",
    "but what if all we know is that we have some area of interest, that we've reduced to a GPS grid:\n",
    "\n",
    "```\n",
    "??????\n",
    "??????\n",
    "??????\n",
    "??????\n",
    "??????\n",
    "```\n",
    "\n",
    "and the agent has to determine what kind of terrain is to the left, front and right of it?\n",
    "\n",
    "Assuming the agent has a very simple visual sensor that constructs a 4x4 grayscale image for each of the three directions, it might it could see something like this:"
   ]
  },
  {
   "cell_type": "code",
   "execution_count": 2,
   "metadata": {
    "collapsed": false
   },
   "outputs": [
    {
     "data": {
      "image/png": "[encoded data removed]",
      "text/plain": [
       "<matplotlib.figure.Figure at 0x7fa8da5ba210>"
      ]
     },
     "metadata": {},
     "output_type": "display_data"
    }
   ],
   "source": [
    "import numpy as np\n",
    "import matplotlib.pyplot as plt\n",
    "import random\n",
    "from IPython.display import HTML, display\n",
    "\n",
    "plain =  [0.0, 0.0, 0.0, 0.0,0.0, 0.0, 0.0, 0.0,0.0, 0.0, 0.0, 0.0,1.0, 1.0, 1.0, 1.0]\n",
    "forest = [0.0, 1.0, 0.0, 0.0,1.0, 1.0, 1.0, 0.0,1.0, 1.0, 1.0, 1.0,0.0, 1.0, 0.0, 0.0]\n",
    "hills =  [0.0, 0.0, 0.0, 0.0,0.0, 0.0, 1.0, 0.0,0.0, 1.0, 1.0, 1.0,1.0, 1.0, 1.0, 1.0]\n",
    "swamp =  [0.0, 0.0, 0.0, 0.0,0.0, 0.0, 0.0, 0.0,1.0, 0.0, 1.0, 0.0,1.0, 1.0, 1.0, 1.0]\n",
    "\n",
    "figure = plt.figure(figsize=(20,6))\n",
    "\n",
    "axes = figure.add_subplot(1, 3, 1)\n",
    "pixels = np.array([255 - p * 255 for p in plain], dtype='uint8')\n",
    "pixels = pixels.reshape((4, 4))\n",
    "axes.set_title( \"Left Camera\")\n",
    "axes.imshow(pixels, cmap='gray', interpolation='none')\n",
    "\n",
    "axes = figure.add_subplot(1, 3, 2)\n",
    "pixels = np.array([255 - p * 255 for p in forest], dtype='uint8')\n",
    "pixels = pixels.reshape((4, 4))\n",
    "axes.set_title( \"Front Camera\")\n",
    "axes.imshow(pixels, cmap='gray', interpolation='none')\n",
    "\n",
    "axes = figure.add_subplot(1, 3, 3)\n",
    "pixels = np.array([255 - p * 255 for p in hills], dtype='uint8')\n",
    "pixels = pixels.reshape((4, 4))\n",
    "axes.set_title( \"Right Camera\")\n",
    "axes.imshow(pixels, cmap='gray', interpolation='none')\n",
    "\n",
    "plt.show()\n",
    "plt.close()"
   ]
  },
  {
   "cell_type": "markdown",
   "metadata": {},
   "source": [
    "which would be plains, forest and hills respectively.\n",
    "\n",
    "## The Assignment\n",
    "\n",
    "For this programming assignment your tasks are:\n",
    "\n",
    "1. Write a logistic regression that simply determines if something is a hill or not (two class problem). \n",
    "2. You will also evaluate that logistic regression by generating a *confusion matrix*.\n",
    "\n",
    "For a starting point, you can refer to **module-8-pseudocode.pdf** and the Self-Check."
   ]
  },
  {
   "cell_type": "markdown",
   "metadata": {},
   "source": [
    "## Data\n",
    "\n",
    "We have clean examples of the different types of terrain but based on the location, the registration can be a bit off for some of the types and the visual sensor is often blurry.\n",
    "\n",
    "Here are the clean examples with different registrations: "
   ]
  },
  {
   "cell_type": "code",
   "execution_count": 3,
   "metadata": {
    "collapsed": true
   },
   "outputs": [],
   "source": [
    "clean_data = {\n",
    "    \"plains\": [\n",
    "        [0.0, 0.0, 0.0, 0.0, 0.0, 0.0, 0.0, 0.0, 0.0, 0.0, 0.0, 0.0, 1.0, 1.0, 1.0, 1.0, \"plains\"]\n",
    "    ],\n",
    "    \"forest\": [\n",
    "        [0.0, 1.0, 0.0, 0.0, 1.0, 1.0, 1.0, 0.0, 1.0, 1.0, 1.0, 1.0, 0.0, 1.0, 0.0, 0.0, \"forest\"],\n",
    "        [0.0, 0.0, 1.0, 0.0, 0.0, 1.0, 1.0, 1.0, 1.0, 1.0, 1.0, 1.0, 0.0, 0.0, 1.0, 0.0, \"forest\"],\n",
    "        [1.0, 0.0, 0.0, 0.0, 1.0, 1.0, 0.0, 0.0, 1.0, 1.0, 1.0, 0.0, 1.0, 0.0, 0.0, 0.0, \"forest\"],\n",
    "        [0.0, 0.0, 0.0, 1.0, 0.0, 0.0, 1.0, 1.0, 0.0, 1.0, 1.0, 1.0, 0.0, 0.0, 0.0, 1.0, \"forest\"]\n",
    "    ],\n",
    "    \"hills\": [\n",
    "        [0.0, 0.0, 0.0, 0.0, 0.0, 0.0, 1.0, 0.0, 0.0, 1.0, 1.0, 1.0, 1.0, 1.0, 1.0, 1.0, \"hills\"],\n",
    "        [0.0, 0.0, 0.0, 0.0, 0.0, 1.0, 0.0, 0.0, 1.0, 1.0, 1.0, 0.0, 1.0, 1.0, 1.0, 1.0, \"hills\"],\n",
    "        [0.0, 0.0, 0.0, 0.0, 1.0, 0.0, 0.0, 0.0, 1.0, 1.0, 0.0, 0.0, 1.0, 1.0, 1.0, 0.0, \"hills\"],\n",
    "        [0.0, 0.0, 0.0, 0.0, 0.0, 0.0, 0.0, 1.0, 0.0, 0.0, 1.0, 1.0, 0.0, 1.0, 1.0, 1.0, \"hills\"]\n",
    "    ],\n",
    "    \"swamp\": [\n",
    "        [0.0, 0.0, 0.0, 0.0, 0.0, 0.0, 0.0, 0.0, 1.0, 0.0, 1.0, 0.0, 1.0, 1.0, 1.0, 1.0, \"swamp\"],\n",
    "        [0.0, 0.0, 0.0, 0.0, 0.0, 0.0, 0.0, 0.0, 0.0, 1.0, 0.0, 1.0, 1.0, 1.0, 1.0, 1.0, \"swamp\"]        \n",
    "    ]\n",
    "}"
   ]
  },
  {
   "cell_type": "markdown",
   "metadata": {},
   "source": [
    "Let's create a function that allows us to view any of these:"
   ]
  },
  {
   "cell_type": "code",
   "execution_count": 4,
   "metadata": {
    "collapsed": true
   },
   "outputs": [],
   "source": [
    "def view_sensor_image( data):\n",
    "    figure = plt.figure(figsize=(4,4))\n",
    "    axes = figure.add_subplot(1, 1, 1)\n",
    "    pixels = np.array([255 - p * 255 for p in data[:-1]], dtype='uint8')\n",
    "    pixels = pixels.reshape((4, 4))\n",
    "    axes.set_title( \"Left Camera:\" + data[-1])\n",
    "    axes.imshow(pixels, cmap='gray', interpolation='none')\n",
    "    plt.show()\n",
    "    plt.close()"
   ]
  },
  {
   "cell_type": "markdown",
   "metadata": {},
   "source": [
    "\"I think that I shall never see a thing so lovely as a tree.\""
   ]
  },
  {
   "cell_type": "code",
   "execution_count": 5,
   "metadata": {
    "collapsed": false
   },
   "outputs": [
    {
     "data": {
      "image/png": "[encoded data removed]",
      "text/plain": [
       "<matplotlib.figure.Figure at 0x7fa8da56ed50>"
      ]
     },
     "metadata": {},
     "output_type": "display_data"
    }
   ],
   "source": [
    "view_sensor_image( clean_data[ \"forest\"][0])"
   ]
  },
  {
   "cell_type": "code",
   "execution_count": 6,
   "metadata": {
    "collapsed": false
   },
   "outputs": [
    {
     "data": {
      "image/png": "[encoded data removed]",
      "text/plain": [
       "<matplotlib.figure.Figure at 0x7fa8da38e590>"
      ]
     },
     "metadata": {},
     "output_type": "display_data"
    }
   ],
   "source": [
    "view_sensor_image( clean_data[\"swamp\"][0])"
   ]
  },
  {
   "cell_type": "markdown",
   "metadata": {},
   "source": [
    "The data that comes in, however, is noisy. The values are never exactly 0 and 1. In order to mimic this we need a `blur` function.\n",
    "\n",
    "We will assume that noise is normally distributed. For values that should be 0, the noisy values are distributed $N(0.10, 0.05)$. For values should be 1, the noisy values are distributed $N(0.9, 0.10)$."
   ]
  },
  {
   "cell_type": "code",
   "execution_count": 7,
   "metadata": {
    "collapsed": true
   },
   "outputs": [],
   "source": [
    "def blur( data):\n",
    "    def apply_noise( value):\n",
    "        if value < 0.5:\n",
    "            v = random.gauss( 0.10, 0.05)\n",
    "            if v < 0.0:\n",
    "                return 0.0\n",
    "            if v > 0.75:\n",
    "                return 0.75\n",
    "            return v\n",
    "        else:\n",
    "            v = random.gauss( 0.90, 0.10)\n",
    "            if v < 0.25:\n",
    "                return 0.25\n",
    "            if v > 1.00:\n",
    "                return 1.00\n",
    "            return v\n",
    "    noisy_readings = [apply_noise( v) for v in data[0:-1]]\n",
    "    return noisy_readings + [data[-1]]"
   ]
  },
  {
   "cell_type": "markdown",
   "metadata": {},
   "source": [
    "We can see how this affects what the agent *actually* sees."
   ]
  },
  {
   "cell_type": "code",
   "execution_count": 8,
   "metadata": {
    "collapsed": false
   },
   "outputs": [
    {
     "data": {
      "image/png": "[encoded data removed]",
      "text/plain": [
       "<matplotlib.figure.Figure at 0x7fa8da2fd050>"
      ]
     },
     "metadata": {},
     "output_type": "display_data"
    }
   ],
   "source": [
    "view_sensor_image( blur( clean_data[\"swamp\"][0]))"
   ]
  },
  {
   "cell_type": "markdown",
   "metadata": {},
   "source": [
    "You are going to want to write four (4) functions:\n",
    "\n",
    "1. `generate_data`\n",
    "2. `learn_model`\n",
    "3. `apply_model`\n",
    "4. `calculate_confusion_matrix`\n",
    "\n",
    "\n",
    "### `generate_data`\n",
    "\n",
    "With the clean examples and the `blur` function, we have an unlimited amount of data for training and testing our classifier, a logistic regression that determines if a sensor image is hills (1) or not (0).\n",
    "\n",
    "In classification, there is a general problem called the \"unbalanced class problem\". In general, we want our training data to have the same number of classes, in this case \"hills\" and \"not hills\". This means you should probably generate training data with, say, 100 hills and then 100 of all the other types of terrain combined.\n",
    "\n",
    "When you send your data to the actual `learn_model` function, it will need to have all the String labels transformed to 0 or 1 appropriately. Remember, you also need to set $x_0$ = 1.0; *where* you do that is up to you but you need to be consistent (if you do it in `generate_data` then don't also do it in `learn_model` or `apply_model`.\n",
    "\n",
    "You can make `generate_data` as sophisticated as you like. But it should at least take n and a label so that:\n",
    "\n",
    "`generate_data( clean_data, 100, \"hills\")`\n",
    "\n",
    "generates 100 hills, 100 not hills and has transformed the String labels into 1 and 0, respectively.\n",
    "\n",
    "### `learn_model`\n",
    "\n",
    "`learn_model` is the function that takes in training data and actually learns the logistic regression model. If you're up to it, you can implement a vectorized version using Numpy but you might start with the loopy version first.\n",
    "\n",
    "*In the lecture, I mentioned that you usually should mean normalize your data but you don't need to do that in this case because the data is already on the range 0-1.*\n",
    "\n",
    "I should also mention that gradient descent is not the usual approach to linear|logistic regression because the error function actually has an *exact* solution. However, in the case of large data sets, the exact solution often fails and in any case, the use of gradient descent will prepare you for neural networks next week.\n",
    "\n",
    "When verbose is True, you should print out the error so you can see that it is getting smaller. \n",
    "\n",
    "When developing your algorithm, you need to watch the error so you'll set verbose=True to start. You should print it out every iteration and make sure it is declining. You'll have to experiment with both epsilon and alpha; and it doesn't hurt to make alpha adaptive (if the error increases, make alpha = alpha / 10).\n",
    "\n",
    "When you know that your algorithm is working, change your code so that the error is printed out only every 1,000 iterations (it takes a lot of iterations for this problem to converge, depending on your parameter values--start early).\n",
    "\n",
    "`learn_model` returns the List of Thetas.\n",
    "\n",
    "### `apply_model`\n",
    "\n",
    "`apply_model` takes a List of Thetas (the model) and either labeled or unlabeled data. If the data is unlabeled, it will return predictions for each observation as a Tuple of the inferred value (0 or 1) and the actual probability (so something like (1, 0.73) or (0, 0.19).\n",
    "\n",
    "If the data is labeled, you will return a Tuple of the actual value (0 or 1) and the predicted value (0 or 1). In this case, you return a List of something like [(0, 1), (1, 1), (0, 0), (1, 0)].\n",
    "\n",
    "### `calculate_confusion_matrix`\n",
    "\n",
    "The `calculate_confusion_matrix` takes the results of `apply_model` when labeled=True and prints a nice HTML version of a confusion matrix and include statistics for error rate, true positive rate and true negative rate.\n",
    "\n",
    "\n",
    "**As always when working with Lists or Lists of Lists, be very careful when you are modifying these items in place that this is what you intend (and not to be modifying a copy)**"
   ]
  },
  {
   "cell_type": "markdown",
   "metadata": {},
   "source": [
    "---\n",
    "\n",
    "## Helper functions\n",
    "\n",
    "**logistic(x, theta)**  \n",
    "Given a matrix x and a vector $\\theta$, calculate the logistic function:  \n",
    "$$ \\hat{y}= \\frac{1}{1+e^{-\\mathbf{x} \\mathbf{\\theta}}} $$\n",
    "\n",
    "**logisticError(x, theta, y)**  \n",
    "Calculate the error of the logistic regression given a matrix of `x`, a vector of $\\theta$, and actual value `y`. \n",
    "$$Err(\\mathbf{x},\\mathbf{\\theta},\\mathbf{y})=-\\frac{1}{n}\\sum_i\ty_i\tlog(\\hat{y_i}) + (1\t- y_i)log(1\t- \\hat{y_i})$$\n",
    "\n",
    "**updateTheta(a, yhat, y, x, th, errDiff)**  \n",
    "Update the $\\theta$ based on $\\hat{y}$ and $\\alpha$, using the equation  \n",
    "$$\\frac{\\partial J}{\\partial \\theta_j} = \\frac{1}{n}\\sum_i(\\hat{y_i}  - y_i)x_{ij}$$\n",
    "$$\\theta_{t+1} = \\theta_{t} - \\alpha \\cdot \\frac{\\partial J}{\\partial \\theta_j}$$\n",
    "\n",
    "**makeIndepDepData(data)**  \n",
    "Given a matrix of input data of dimension i x j, where the first j-1 columns are the independent variables, and column j is the actual, the function outputs matrix of the first j-1 columns prepended with a vertical vector of ones (for the intercept), and the y."
   ]
  },
  {
   "cell_type": "code",
   "execution_count": 9,
   "metadata": {
    "collapsed": true
   },
   "outputs": [],
   "source": [
    "def logistic(x, theta):\n",
    "    return 1.0 / ( 1 + np.exp(-x * theta) )\n",
    "\n",
    "def logisticError(x, theta, y):\n",
    "    yhat = logistic(x, theta)\n",
    "    err = -(y.T*np.log(yhat) + (1-y).T*np.log(1-yhat)) / len(y)\n",
    "    return float(err), yhat\n",
    "    \n",
    "def updateTheta(a, yhat, y, x, th, errDiff):\n",
    "    d = ((yhat-y).T * x).T / len(y)\n",
    "    return th - (a*d)\n",
    "\n",
    "def makeIndepDepData(data):\n",
    "    y = data[:, -1] # actual\n",
    "    x = np.hstack((np.ones([data.shape[0],1]), data[:, :-1])) # put intercept\n",
    "    return x,y"
   ]
  },
  {
   "cell_type": "markdown",
   "metadata": {},
   "source": [
    "---\n",
    "\n",
    "## Main Functions"
   ]
  },
  {
   "cell_type": "markdown",
   "metadata": {},
   "source": [
    "Use `generate_data` to generate 10 blurred \"hills\" examples with balanced (same number of) \"non hills\" examples to see that the function is working.\n",
    "\n",
    "**generate_data( data, n, label)**  \n",
    "Generate n blurred data points of the `label` category by choosing instances of data points within that category, as well as n random blurred data points instances that belongs to other categories."
   ]
  },
  {
   "cell_type": "code",
   "execution_count": 10,
   "metadata": {
    "collapsed": false
   },
   "outputs": [
    {
     "name": "stdout",
     "output_type": "stream",
     "text": [
      "[[ 0.08731651  0.0505202   0.07619707  0.08236752  0.79914745  0.00474615\n",
      "   0.15698505  0.          1.          0.76797444  0.10398175  0.05563647\n",
      "   0.78682329  0.79653567  0.81610468  0.          1.        ]]\n",
      "[[ 0.10103887  0.24382532  0.24940478  0.          0.14865041  0.0514791\n",
      "   0.18392428  0.87411931  0.05292577  0.12048494  0.81414433  1.\n",
      "   0.07915609  0.98832496  0.92873397  1.          1.        ]]\n",
      "[[ 0.07015915  0.1139605   0.08960397  0.07292385  0.85012616  0.09187963\n",
      "   0.11206344  0.10653738  1.          0.94672532  0.19302728  0.04079778\n",
      "   0.8451583   0.8853945   0.79370163  0.14827317  1.        ]]\n",
      "[[ 0.11595066  0.11474867  0.08959103  0.10938086  0.65021176  0.13143131\n",
      "   0.14299451  0.12796575  0.84034716  0.78610757  0.06522828  0.08959229\n",
      "   1.          0.94167786  0.8486392   0.14852446  1.        ]]\n",
      "[[ 0.05774576  0.13826855  0.06022984  0.10829191  0.03154508  0.08280032\n",
      "   0.87676756  0.14665612  0.0880687   0.72283627  0.73685619  0.84361909\n",
      "   0.75094203  0.93062365  0.97787952  0.96041496  1.        ]]\n",
      "[[ 0.16059336  0.0160275   0.02863782  0.09852763  0.05773888  0.14379171\n",
      "   0.82713513  0.1641782   0.00669284  0.72831036  0.91494365  0.80220717\n",
      "   0.85481101  1.          1.          0.83843701  1.        ]]\n",
      "[[ 0.11517137  0.03633664  0.02039258  0.17274845  0.08080478  0.11272661\n",
      "   0.13406671  1.          0.15498497  0.10018065  1.          1.\n",
      "   0.04333733  0.91363916  0.9434716   1.          1.        ]]\n",
      "[[ 0.04235648  0.12490482  0.12528145  0.07301195  0.04716268  0.1418848\n",
      "   0.09896753  0.95628128  0.08809925  0.02558658  1.          0.82041057\n",
      "   0.08111865  0.86367574  0.64360082  0.88096988  1.        ]]\n",
      "[[ 0.07969864  0.17080686  0.14412485  0.07443118  0.07793478  0.93493688\n",
      "   0.05488434  0.12939057  0.99584519  0.88095865  0.80738122  0.06966839\n",
      "   0.88769645  0.8722556   0.86528182  0.87804604  1.        ]]\n",
      "[[ 0.08920331  0.13272106  0.13989609  0.05119994  0.05829754  0.0604333\n",
      "   0.87775476  0.08864681  0.1608376   0.80373635  0.93390915  0.68645026\n",
      "   1.          1.          0.84259628  1.          1.        ]]\n",
      "[[ 0.05611873  0.12559562  0.10254594  0.1396824   0.05295244  0.14624701\n",
      "   0.11122824  0.15915205  0.16867954  1.          0.06399788  0.81986994\n",
      "   0.87068013  0.77953773  0.87610206  0.88316985  0.        ]]\n",
      "[[ 0.11746643  0.14156051  0.84173129  0.09991237  0.09489259  0.89361083\n",
      "   1.          0.74053186  0.91754361  0.96941892  0.92229997  0.94199643\n",
      "   0.10901376  0.06568656  0.70416494  0.08464789  0.        ]]\n",
      "[[ 0.03742424  0.10971704  0.19201001  0.14115231  0.11076549  0.1650644\n",
      "   0.15674003  0.1175542   0.10066395  0.74444222  0.16544895  0.77885332\n",
      "   0.69580305  0.85682085  0.88616795  1.          0.        ]]\n",
      "[[ 0.15372577  0.          0.10012194  0.15319037  0.17728158  0.07884937\n",
      "   0.0565012   0.06117188  0.15195297  0.11477634  0.09325091  0.17858103\n",
      "   0.93507817  0.87946469  0.96178487  0.96282009  0.        ]]\n",
      "[[ 0.09938574  0.01570233  0.07849265  0.09226139  0.10853342  0.10525269\n",
      "   0.0066485   0.07222785  0.054353    0.08603681  0.13847877  0.06928409\n",
      "   0.89285156  1.          0.84280917  0.80982141  0.        ]]\n",
      "[[ 0.79095752  0.15565757  0.15755438  0.08764565  0.94819991  0.74402071\n",
      "   0.00667396  0.09985431  0.92497139  0.71068506  0.94137874  0.08444102\n",
      "   0.97628274  0.13278951  0.1578192   0.09528572  0.        ]]\n",
      "[[ 0.05296236  0.10035355  0.          0.12217694  0.09317214  0.12173809\n",
      "   0.17130996  0.06587867  0.12933119  0.08566191  0.16177866  0.09520538\n",
      "   1.          0.93368799  0.87199305  1.          0.        ]]\n",
      "[[ 0.09191656  0.05814628  0.13803287  0.10346016  0.09315216  0.09505744\n",
      "   0.09777903  0.17705672  0.81573736  0.13384638  0.82183839  0.09799739\n",
      "   1.          0.96691225  0.86781773  0.81130055  0.        ]]\n",
      "[[ 0.04492945  0.13913346  0.83579827  0.0761291   0.00850274  0.93189033\n",
      "   0.77263752  0.9071088   1.          0.9579761   0.79670115  0.80257155\n",
      "   0.118205    0.23007256  1.          0.10274282  0.        ]]\n",
      "[[ 0.09314262  0.04352999  0.16381527  0.09893651  0.04459812  0.09482827\n",
      "   0.04657739  0.08734953  0.11783126  0.91192328  0.10348375  0.96106005\n",
      "   1.          0.91426309  0.91460364  0.69838326  0.        ]]\n"
     ]
    }
   ],
   "source": [
    "def generate_data( data, n, label):\n",
    "    outK = [k for k in data.keys() if k!=label]\n",
    "    inPts = [blur(data[label][random.randrange(len(data[label]))])[:-1] + [1] \\\n",
    "             for x in xrange(n)]\n",
    "    outPts = list()\n",
    "    for x in xrange(n):\n",
    "        tp = random.sample(outK, 1)[0]\n",
    "        outPts.append(blur(data[tp][random.randrange(len(data[tp]))][:-1]+[0]))\n",
    "    return np.matrix(inPts + outPts)\n",
    "\n",
    "results = generate_data( clean_data, 10, \"hills\")\n",
    "for result in results:\n",
    "    print result"
   ]
  },
  {
   "cell_type": "markdown",
   "metadata": {},
   "source": [
    "Use `learn_model` to learn a logistic regression model for classifying sensor images as \"hills\" or \"not hills\". Use your `generate_data` function to generate a training set with 100 hills examples. **Set Verbose to True**\n",
    "\n",
    "**learn_model( data, alpha, eps, verbose=False)**  \n",
    "Using gradient descent, fit a logistic regression to the input data by adjusting the parameters to find one that minimizes the error as calculated `logisticError()`. The algorithm runs until the successive differences between the errors of the iteration is less than `eps` in the parameter. Each iteration updates the $\\theta$ according to the derivative. When the error difference increases, the alpha gets divided by 10. The algorithm goes for 1 million iterations before stopping, even though when the error difference has not reached epsilon yet."
   ]
  },
  {
   "cell_type": "code",
   "execution_count": 11,
   "metadata": {
    "collapsed": false,
    "scrolled": false
   },
   "outputs": [
    {
     "name": "stdout",
     "output_type": "stream",
     "text": [
      "Iter #0, error: 1.467644\n",
      "Iter #1000, error: 0.334720\n",
      "Iter #2000, error: 0.236415\n",
      "Iter #3000, error: 0.187936\n",
      "Iter #4000, error: 0.158580\n",
      "Iter #5000, error: 0.138699\n",
      "Iter #6000, error: 0.124235\n",
      "Iter #7000, error: 0.113174\n",
      "Iter #8000, error: 0.104398\n",
      "Iter #9000, error: 0.097235\n",
      "Iter #10000, error: 0.091258\n",
      "Iter #11000, error: 0.086178\n",
      "Iter #12000, error: 0.081797\n",
      "Iter #13000, error: 0.077971\n",
      "Iter #14000, error: 0.074594\n",
      "Iter #15000, error: 0.071587\n",
      "Iter #16000, error: 0.068888\n",
      "Iter #17000, error: 0.066448\n",
      "Iter #18000, error: 0.064229\n",
      "Iter #19000, error: 0.062201\n",
      "Iter #20000, error: 0.060338\n",
      "Iter #21000, error: 0.058619\n",
      "Iter #22000, error: 0.057027\n",
      "Iter #23000, error: 0.055547\n",
      "Iter #24000, error: 0.054167\n",
      "Iter #25000, error: 0.052877\n",
      "Iter #26000, error: 0.051667\n",
      "Iter #27000, error: 0.050529\n",
      "Iter #28000, error: 0.049457\n",
      "Iter #29000, error: 0.048444\n",
      "Iter #30000, error: 0.047486\n",
      "Iter #31000, error: 0.046577\n",
      "Iter #32000, error: 0.045715\n",
      "Iter #33000, error: 0.044894\n",
      "Iter #34000, error: 0.044112\n",
      "Iter #35000, error: 0.043366\n",
      "Iter #36000, error: 0.042653\n",
      "Iter #37000, error: 0.041971\n",
      "Iter #38000, error: 0.041318\n",
      "Iter #39000, error: 0.040691\n",
      "Iter #40000, error: 0.040090\n",
      "Iter #41000, error: 0.039512\n",
      "Iter #42000, error: 0.038956\n",
      "Iter #43000, error: 0.038421\n",
      "Iter #44000, error: 0.037905\n",
      "Iter #45000, error: 0.037407\n",
      "Iter #46000, error: 0.036927\n",
      "Iter #47000, error: 0.036463\n",
      "Iter #48000, error: 0.036014\n",
      "Iter #49000, error: 0.035580\n",
      "Iter #50000, error: 0.035160\n",
      "Iter #51000, error: 0.034752\n",
      "Iter #52000, error: 0.034358\n",
      "Iter #53000, error: 0.033975\n",
      "Iter #54000, error: 0.033603\n",
      "Iter #55000, error: 0.033242\n",
      "Iter #56000, error: 0.032891\n",
      "Iter #57000, error: 0.032550\n",
      "Iter #58000, error: 0.032218\n",
      "Iter #59000, error: 0.031895\n",
      "Iter #60000, error: 0.031581\n",
      "Iter #61000, error: 0.031274\n",
      "Iter #62000, error: 0.030976\n",
      "Iter #63000, error: 0.030685\n",
      "Iter #64000, error: 0.030401\n",
      "Iter #65000, error: 0.030124\n",
      "Iter #66000, error: 0.029854\n",
      "Iter #67000, error: 0.029590\n",
      "Iter #68000, error: 0.029332\n",
      "Iter #69000, error: 0.029080\n",
      "Iter #70000, error: 0.028833\n",
      "Iter #71000, error: 0.028592\n",
      "Iter #72000, error: 0.028357\n",
      "Iter #73000, error: 0.028126\n",
      "Iter #74000, error: 0.027900\n",
      "Iter #75000, error: 0.027679\n",
      "Iter #76000, error: 0.027463\n",
      "Iter #77000, error: 0.027251\n",
      "Iter #78000, error: 0.027043\n",
      "Iter #79000, error: 0.026840\n",
      "Iter #80000, error: 0.026640\n",
      "Iter #81000, error: 0.026444\n",
      "Iter #82000, error: 0.026252\n",
      "Iter #83000, error: 0.026064\n",
      "Iter #84000, error: 0.025879\n",
      "Iter #85000, error: 0.025697\n",
      "Iter #86000, error: 0.025519\n",
      "Iter #87000, error: 0.025344\n",
      "Iter #88000, error: 0.025172\n",
      "Iter #89000, error: 0.025003\n",
      "Iter #90000, error: 0.024837\n",
      "Iter #91000, error: 0.024673\n",
      "Iter #92000, error: 0.024513\n",
      "Iter #93000, error: 0.024355\n",
      "Iter #94000, error: 0.024200\n",
      "Iter #95000, error: 0.024047\n",
      "Iter #96000, error: 0.023897\n",
      "Iter #97000, error: 0.023749\n",
      "Iter #98000, error: 0.023604\n",
      "Iter #99000, error: 0.023461\n",
      "Iter #100000, error: 0.023320\n",
      "Iter #101000, error: 0.023181\n",
      "Iter #102000, error: 0.023045\n",
      "Iter #103000, error: 0.022910\n",
      "Iter #104000, error: 0.022777\n",
      "Iter #105000, error: 0.022647\n",
      "Iter #106000, error: 0.022518\n",
      "Iter #107000, error: 0.022391\n",
      "Iter #108000, error: 0.022266\n",
      "Iter #109000, error: 0.022143\n",
      "Iter #110000, error: 0.022021\n",
      "Iter #111000, error: 0.021902\n",
      "Iter #112000, error: 0.021783\n",
      "Iter #113000, error: 0.021667\n",
      "Iter #114000, error: 0.021552\n",
      "Iter #115000, error: 0.021438\n",
      "Iter #116000, error: 0.021326\n",
      "Iter #117000, error: 0.021216\n",
      "Iter #118000, error: 0.021107\n",
      "Iter #119000, error: 0.020999\n",
      "Iter #120000, error: 0.020893\n",
      "Iter #121000, error: 0.020788\n",
      "Iter #122000, error: 0.020685\n",
      "Iter #123000, error: 0.020582\n",
      "Iter #124000, error: 0.020481\n",
      "Final iteration #124306, error: 0.020451\n",
      "Coefficients: [[-12.37798077  -6.21254089 -16.57969758 -12.19066391 -10.47755006\n",
      "    8.51360216  -1.38730774  -0.15767959   4.52219207  -9.32978305\n",
      "   15.72118712  12.1850601   -9.79275218 -10.25315853   9.47040296\n",
      "   12.73959733  -4.42141861]]\n"
     ]
    }
   ],
   "source": [
    "def learn_model( data, alpha, eps, verbose=False):\n",
    "    x,y = makeIndepDepData(data)\n",
    "    theta = np.matrix(np.random.rand(x.shape[1],1)*2 - 1) # initialize Theta\n",
    "    lastErr = 0\n",
    "    err,yhat = logisticError(x, theta, y)\n",
    "\n",
    "    c = 0\n",
    "    while (abs(err-lastErr) > eps) and c<1e6:\n",
    "        if c % 1000 == 0 and verbose:\n",
    "            print('Iter #%u, error: %f'%(c,err))\n",
    "        theta = updateTheta(alpha, yhat, y, x, theta, err-lastErr)\n",
    "        lastErr = err\n",
    "        err,yhat = logisticError(x, theta, y)\n",
    "        if err > lastErr:\n",
    "            alpha /= 10\n",
    "        c += 1\n",
    "    \n",
    "    print('Final iteration #%u, error: %f' % (c-1,err) )\n",
    "    return theta\n",
    "\n",
    "\n",
    "train_data = generate_data( clean_data, 100, \"hills\")\n",
    "model = learn_model( train_data, 0.1, 1e-7, True)\n",
    "print('Coefficients: %s' % str(model.T))"
   ]
  },
  {
   "cell_type": "markdown",
   "metadata": {},
   "source": [
    "Use `generate_data` to generate 100 blurred \"hills\" examples with balanced \"non hills\" examples and use this as your test data. Set labeled=True and generate results to use in `calculate_confusion_matrix`. Print out the first 10 results, one per line.\n",
    "\n",
    "**apply_model( model, test_data, labeled=False)**  \n",
    "Given a list of $\\theta$, calculate the predicted $\\hat{y}$ from the input data. If `labeled` is false, it returns tuples of predicated true/false as well as the actual probability. If not labeled, then return tuples of actual true/false and predicted true/false."
   ]
  },
  {
   "cell_type": "code",
   "execution_count": 12,
   "metadata": {
    "collapsed": false
   },
   "outputs": [
    {
     "name": "stdout",
     "output_type": "stream",
     "text": [
      "(1, 1)\n",
      "(1, 1)\n",
      "(1, 1)\n",
      "(1, 1)\n",
      "(1, 1)\n",
      "(1, 1)\n",
      "(1, 1)\n",
      "(1, 1)\n",
      "(1, 1)\n",
      "(1, 1)\n"
     ]
    }
   ],
   "source": [
    "test_data = generate_data( clean_data, 100, \"hills\")\n",
    "\n",
    "def apply_model( model, test_data, labeled=False):\n",
    "    x,y = makeIndepDepData(test_data)\n",
    "    yhat = logistic(x, model).T.tolist()[0]\n",
    "    pred = [1 if n > 0.5 else 0 for n in yhat]\n",
    "    if labeled:\n",
    "        return zip([int(round(n)) for n in y.T.tolist()[0]], pred)\n",
    "    else:\n",
    "        return zip(pred, yhat)\n",
    "\n",
    "results = apply_model( model, test_data, True)\n",
    "for n in range(10):\n",
    "    print results[n]"
   ]
  },
  {
   "cell_type": "markdown",
   "metadata": {},
   "source": [
    "Using the results above, show your confusion matrix for your model.\n",
    "\n",
    "**calculate_confusion_matrix(results)**  \n",
    "Given a labeled result from `apply_model(...)`, prints an html table of confusion matrix. Also prints out the error rate, true positive rate, and true negative rate."
   ]
  },
  {
   "cell_type": "code",
   "execution_count": 13,
   "metadata": {
    "collapsed": false
   },
   "outputs": [
    {
     "name": "stdout",
     "output_type": "stream",
     "text": [
      "\n"
     ]
    },
    {
     "data": {
      "text/html": [
       "<table><tr><td>n = 200</td><td>Pred: False</td><td>Pred: True</td></tr><tr><td>Actual: False</td><td>98</td><td>2</td></tr><tr><td>Actual: True</td><td>3</td><td>97</td></tr></table>"
      ],
      "text/plain": [
       "<IPython.core.display.HTML object>"
      ]
     },
     "metadata": {},
     "output_type": "display_data"
    },
    {
     "name": "stdout",
     "output_type": "stream",
     "text": [
      "Error rate: 2.5%\n",
      "True positive rate: 97.0%\n",
      "True negative rate: 98.0%\n"
     ]
    }
   ],
   "source": [
    "def calculate_confusion_matrix( results):\n",
    "    h = [[0,0], [0,0]]\n",
    "    for act,pred in results:\n",
    "        h[act][pred] += 1\n",
    "    t = [['n = %u'%len(results), 'Pred: False', 'Pred: True'],\n",
    "         ['Actual: False'] + h[0], ['Actual: True'] + h[1]]\n",
    "    s = '<table>%s</table>'%''.join(['<tr>%s</tr>'% ''.join(\n",
    "                ['<td>%s</td>'%str(x) for x in row]) for row in t])\n",
    "    print('')\n",
    "    display(HTML(s))\n",
    "\n",
    "    errRate = (h[0][1] + h[1][0] + 0.0) / len(results) * 100\n",
    "    tpRate = h[1][1] / (h[1][0] + h[1][1] + 0.0) * 100\n",
    "    tnRate = h[0][0] / (h[0][0] + h[0][1] + 0.0) * 100\n",
    "    print('Error rate: %.1f%%' % errRate)\n",
    "    print('True positive rate: %.1f%%' % tpRate)\n",
    "    print('True negative rate: %.1f%%' % tnRate)\n",
    "\n",
    "calculate_confusion_matrix(results)"
   ]
  }
 ],
 "metadata": {
  "kernelspec": {
   "display_name": "Python 2",
   "language": "python",
   "name": "python2"
  },
  "language_info": {
   "codemirror_mode": {
    "name": "ipython",
    "version": 2
   },
   "file_extension": ".py",
   "mimetype": "text/x-python",
   "name": "python",
   "nbconvert_exporter": "python",
   "pygments_lexer": "ipython2",
   "version": "2.7.12"
  }
 },
 "nbformat": 4,
 "nbformat_minor": 1
}
