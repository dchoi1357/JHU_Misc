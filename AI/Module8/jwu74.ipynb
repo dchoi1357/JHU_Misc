{
 "cells": [
  {
   "cell_type": "code",
   "execution_count": 1,
   "metadata": {
    "collapsed": false
   },
   "outputs": [],
   "source": [
    "%matplotlib inline"
   ]
  },
  {
   "cell_type": "markdown",
   "metadata": {},
   "source": [
    "# Module 8 - Programming Assignment (Summer)\n",
    "\n",
    "## Directions\n",
    "\n",
    "There are general instructions on Blackboard and in the Syllabus for Programming Assignments. This Notebook also has instructions specific to this assignment. Read all the instructions carefully and make sure you understand them. Please ask questions on the discussion boards or email me at `EN605.445@gmail.com` if you do not understand something.\n",
    "\n",
    "<div style=\"background: mistyrose; color: firebrick; border: 2px solid darkred; padding: 5px; margin: 10px;\">\n",
    "You must follow the directions *exactly* or you will get a 0 on the assignment.\n",
    "</div>\n",
    "\n",
    "You must submit *only* your IPython notebook to Blackboard. It should be cleanly executed and named:\n",
    "\n",
    "```\n",
    "<jhed_id>.ipynb\n",
    "```\n",
    "\n",
    "An HTML version of the notebook will be generated and graded and the notebook will be used only for reference. To see what the HTML version of your notebook will look like, apply the following command:\n",
    "\n",
    "> ipython nbconvert <jhed_id>.ipynb\n",
    "\n",
    "or use the File menu."
   ]
  },
  {
   "cell_type": "markdown",
   "metadata": {},
   "source": [
    "# The Problem\n",
    "\n",
    "When we last left our agent in Module 4, it was wandering around a world filled with plains, forests, swamps, hills and mountains. This presupposes a map with known terrain:\n",
    "\n",
    "```\n",
    "......\n",
    "...**.\n",
    "...***\n",
    "..^...\n",
    "..~^..\n",
    "```\n",
    "\n",
    "but what if all we know is that we have some area of interest, that we've reduced to a GPS grid:\n",
    "\n",
    "```\n",
    "??????\n",
    "??????\n",
    "??????\n",
    "??????\n",
    "??????\n",
    "```\n",
    "\n",
    "and the agent has to determine what kind of terrain is to the left, front and right of it?\n",
    "\n",
    "Assuming the agent has a very simple visual sensor that constructs a 4x4 grayscale image for each of the three directions, it might it could see something like this:"
   ]
  },
  {
   "cell_type": "code",
   "execution_count": 2,
   "metadata": {
    "collapsed": false
   },
   "outputs": [
    {
     "data": {
      "image/png": "[encoded data removed]",
      "text/plain": [
       "<matplotlib.figure.Figure at 0x7fe737bea210>"
      ]
     },
     "metadata": {},
     "output_type": "display_data"
    }
   ],
   "source": [
    "import numpy as np\n",
    "import matplotlib.pyplot as plt\n",
    "import random, math\n",
    "from IPython.display import HTML, display\n",
    "\n",
    "plain =  [0.0, 0.0, 0.0, 0.0,0.0, 0.0, 0.0, 0.0,0.0, 0.0, 0.0, 0.0,1.0, 1.0, 1.0, 1.0]\n",
    "forest = [0.0, 1.0, 0.0, 0.0,1.0, 1.0, 1.0, 0.0,1.0, 1.0, 1.0, 1.0,0.0, 1.0, 0.0, 0.0]\n",
    "hills =  [0.0, 0.0, 0.0, 0.0,0.0, 0.0, 1.0, 0.0,0.0, 1.0, 1.0, 1.0,1.0, 1.0, 1.0, 1.0]\n",
    "swamp =  [0.0, 0.0, 0.0, 0.0,0.0, 0.0, 0.0, 0.0,1.0, 0.0, 1.0, 0.0,1.0, 1.0, 1.0, 1.0]\n",
    "\n",
    "figure = plt.figure(figsize=(20,6))\n",
    "\n",
    "axes = figure.add_subplot(1, 3, 1)\n",
    "pixels = np.array([255 - p * 255 for p in plain], dtype='uint8')\n",
    "pixels = pixels.reshape((4, 4))\n",
    "axes.set_title( \"Left Camera\")\n",
    "axes.imshow(pixels, cmap='gray', interpolation='none')\n",
    "\n",
    "axes = figure.add_subplot(1, 3, 2)\n",
    "pixels = np.array([255 - p * 255 for p in forest], dtype='uint8')\n",
    "pixels = pixels.reshape((4, 4))\n",
    "axes.set_title( \"Front Camera\")\n",
    "axes.imshow(pixels, cmap='gray', interpolation='none')\n",
    "\n",
    "axes = figure.add_subplot(1, 3, 3)\n",
    "pixels = np.array([255 - p * 255 for p in hills], dtype='uint8')\n",
    "pixels = pixels.reshape((4, 4))\n",
    "axes.set_title( \"Right Camera\")\n",
    "axes.imshow(pixels, cmap='gray', interpolation='none')\n",
    "\n",
    "plt.show()\n",
    "plt.close()"
   ]
  },
  {
   "cell_type": "markdown",
   "metadata": {},
   "source": [
    "which would be plains, forest and hills respectively.\n",
    "\n",
    "## The Assignment\n",
    "\n",
    "For this programming assignment your tasks are:\n",
    "\n",
    "1. Write a logistic regression that simply determines if something is a hill or not (two class problem). \n",
    "2. You will also evaluate that logistic regression by generating a *confusion matrix*.\n",
    "\n",
    "For a starting point, you can refer to **module-8-pseudocode.pdf** and the Self-Check."
   ]
  },
  {
   "cell_type": "markdown",
   "metadata": {},
   "source": [
    "## Data\n",
    "\n",
    "We have clean examples of the different types of terrain but based on the location, the registration can be a bit off for some of the types and the visual sensor is often blurry.\n",
    "\n",
    "Here are the clean examples with different registrations: "
   ]
  },
  {
   "cell_type": "code",
   "execution_count": 3,
   "metadata": {
    "collapsed": true
   },
   "outputs": [],
   "source": [
    "clean_data = {\n",
    "    \"plains\": [\n",
    "        [0.0, 0.0, 0.0, 0.0, 0.0, 0.0, 0.0, 0.0, 0.0, 0.0, 0.0, 0.0, 1.0, 1.0, 1.0, 1.0, \"plains\"]\n",
    "    ],\n",
    "    \"forest\": [\n",
    "        [0.0, 1.0, 0.0, 0.0, 1.0, 1.0, 1.0, 0.0, 1.0, 1.0, 1.0, 1.0, 0.0, 1.0, 0.0, 0.0, \"forest\"],\n",
    "        [0.0, 0.0, 1.0, 0.0, 0.0, 1.0, 1.0, 1.0, 1.0, 1.0, 1.0, 1.0, 0.0, 0.0, 1.0, 0.0, \"forest\"],\n",
    "        [1.0, 0.0, 0.0, 0.0, 1.0, 1.0, 0.0, 0.0, 1.0, 1.0, 1.0, 0.0, 1.0, 0.0, 0.0, 0.0, \"forest\"],\n",
    "        [0.0, 0.0, 0.0, 1.0, 0.0, 0.0, 1.0, 1.0, 0.0, 1.0, 1.0, 1.0, 0.0, 0.0, 0.0, 1.0, \"forest\"]\n",
    "    ],\n",
    "    \"hills\": [\n",
    "        [0.0, 0.0, 0.0, 0.0, 0.0, 0.0, 1.0, 0.0, 0.0, 1.0, 1.0, 1.0, 1.0, 1.0, 1.0, 1.0, \"hills\"],\n",
    "        [0.0, 0.0, 0.0, 0.0, 0.0, 1.0, 0.0, 0.0, 1.0, 1.0, 1.0, 0.0, 1.0, 1.0, 1.0, 1.0, \"hills\"],\n",
    "        [0.0, 0.0, 0.0, 0.0, 1.0, 0.0, 0.0, 0.0, 1.0, 1.0, 0.0, 0.0, 1.0, 1.0, 1.0, 0.0, \"hills\"],\n",
    "        [0.0, 0.0, 0.0, 0.0, 0.0, 0.0, 0.0, 1.0, 0.0, 0.0, 1.0, 1.0, 0.0, 1.0, 1.0, 1.0, \"hills\"]\n",
    "    ],\n",
    "    \"swamp\": [\n",
    "        [0.0, 0.0, 0.0, 0.0, 0.0, 0.0, 0.0, 0.0, 1.0, 0.0, 1.0, 0.0, 1.0, 1.0, 1.0, 1.0, \"swamp\"],\n",
    "        [0.0, 0.0, 0.0, 0.0, 0.0, 0.0, 0.0, 0.0, 0.0, 1.0, 0.0, 1.0, 1.0, 1.0, 1.0, 1.0, \"swamp\"]        \n",
    "    ]\n",
    "}"
   ]
  },
  {
   "cell_type": "markdown",
   "metadata": {},
   "source": [
    "Let's create a function that allows us to view any of these:"
   ]
  },
  {
   "cell_type": "code",
   "execution_count": 4,
   "metadata": {
    "collapsed": true
   },
   "outputs": [],
   "source": [
    "def view_sensor_image( data):\n",
    "    figure = plt.figure(figsize=(4,4))\n",
    "    axes = figure.add_subplot(1, 1, 1)\n",
    "    pixels = np.array([255 - p * 255 for p in data[:-1]], dtype='uint8')\n",
    "    pixels = pixels.reshape((4, 4))\n",
    "    axes.set_title( \"Left Camera:\" + data[-1])\n",
    "    axes.imshow(pixels, cmap='gray', interpolation='none')\n",
    "    plt.show()\n",
    "    plt.close()"
   ]
  },
  {
   "cell_type": "markdown",
   "metadata": {},
   "source": [
    "\"I think that I shall never see a thing so lovely as a tree.\""
   ]
  },
  {
   "cell_type": "code",
   "execution_count": 5,
   "metadata": {
    "collapsed": false
   },
   "outputs": [
    {
     "data": {
      "image/png": "[encoded data removed]",
      "text/plain": [
       "<matplotlib.figure.Figure at 0x7fe737b09f90>"
      ]
     },
     "metadata": {},
     "output_type": "display_data"
    }
   ],
   "source": [
    "view_sensor_image( clean_data[ \"forest\"][0])"
   ]
  },
  {
   "cell_type": "code",
   "execution_count": 6,
   "metadata": {
    "collapsed": false
   },
   "outputs": [
    {
     "data": {
      "image/png": "[encoded data removed]",
      "text/plain": [
       "<matplotlib.figure.Figure at 0x7fe7379c70d0>"
      ]
     },
     "metadata": {},
     "output_type": "display_data"
    }
   ],
   "source": [
    "view_sensor_image( clean_data[\"swamp\"][0])"
   ]
  },
  {
   "cell_type": "markdown",
   "metadata": {},
   "source": [
    "The data that comes in, however, is noisy. The values are never exactly 0 and 1. In order to mimic this we need a `blur` function.\n",
    "\n",
    "We will assume that noise is normally distributed. For values that should be 0, the noisy values are distributed $N(0.10, 0.05)$. For values should be 1, the noisy values are distributed $N(0.9, 0.10)$."
   ]
  },
  {
   "cell_type": "code",
   "execution_count": 7,
   "metadata": {
    "collapsed": true
   },
   "outputs": [],
   "source": [
    "def blur( data):\n",
    "    def apply_noise( value):\n",
    "        if value < 0.5:\n",
    "            v = random.gauss( 0.10, 0.05)\n",
    "            if v < 0.0:\n",
    "                return 0.0\n",
    "            if v > 0.75:\n",
    "                return 0.75\n",
    "            return v\n",
    "        else:\n",
    "            v = random.gauss( 0.90, 0.10)\n",
    "            if v < 0.25:\n",
    "                return 0.25\n",
    "            if v > 1.00:\n",
    "                return 1.00\n",
    "            return v\n",
    "    noisy_readings = [apply_noise( v) for v in data[0:-1]]\n",
    "    return noisy_readings + [data[-1]]"
   ]
  },
  {
   "cell_type": "markdown",
   "metadata": {},
   "source": [
    "We can see how this affects what the agent *actually* sees."
   ]
  },
  {
   "cell_type": "code",
   "execution_count": 8,
   "metadata": {
    "collapsed": false
   },
   "outputs": [
    {
     "data": {
      "image/png": "[encoded data removed]",
      "text/plain": [
       "<matplotlib.figure.Figure at 0x7fe737a15450>"
      ]
     },
     "metadata": {},
     "output_type": "display_data"
    }
   ],
   "source": [
    "view_sensor_image( blur( clean_data[\"swamp\"][0]))"
   ]
  },
  {
   "cell_type": "markdown",
   "metadata": {},
   "source": [
    "You are going to want to write four (4) functions:\n",
    "\n",
    "1. `generate_data`\n",
    "2. `learn_model`\n",
    "3. `apply_model`\n",
    "4. `calculate_confusion_matrix`\n",
    "\n",
    "\n",
    "### `generate_data`\n",
    "\n",
    "With the clean examples and the `blur` function, we have an unlimited amount of data for training and testing our classifier, a logistic regression that determines if a sensor image is hills (1) or not (0).\n",
    "\n",
    "In classification, there is a general problem called the \"unbalanced class problem\". In general, we want our training data to have the same number of classes, in this case \"hills\" and \"not hills\". This means you should probably generate training data with, say, 100 hills and then 100 of all the other types of terrain combined.\n",
    "\n",
    "When you send your data to the actual `learn_model` function, it will need to have all the String labels transformed to 0 or 1 appropriately. Remember, you also need to set $x_0$ = 1.0; *where* you do that is up to you but you need to be consistent (if you do it in `generate_data` then don't also do it in `learn_model` or `apply_model`.\n",
    "\n",
    "You can make `generate_data` as sophisticated as you like. But it should at least take n and a label so that:\n",
    "\n",
    "`generate_data( clean_data, 100, \"hills\")`\n",
    "\n",
    "generates 100 hills, 100 not hills and has transformed the String labels into 1 and 0, respectively.\n",
    "\n",
    "### `learn_model`\n",
    "\n",
    "`learn_model` is the function that takes in training data and actually learns the logistic regression model. If you're up to it, you can implement a vectorized version using Numpy but you might start with the loopy version first.\n",
    "\n",
    "*In the lecture, I mentioned that you usually should mean normalize your data but you don't need to do that in this case because the data is already on the range 0-1.*\n",
    "\n",
    "I should also mention that gradient descent is not the usual approach to linear|logistic regression because the error function actually has an *exact* solution. However, in the case of large data sets, the exact solution often fails and in any case, the use of gradient descent will prepare you for neural networks next week.\n",
    "\n",
    "When verbose is True, you should print out the error so you can see that it is getting smaller. \n",
    "\n",
    "When developing your algorithm, you need to watch the error so you'll set verbose=True to start. You should print it out every iteration and make sure it is declining. You'll have to experiment with both epsilon and alpha; and it doesn't hurt to make alpha adaptive (if the error increases, make alpha = alpha / 10).\n",
    "\n",
    "When you know that your algorithm is working, change your code so that the error is printed out only every 1,000 iterations (it takes a lot of iterations for this problem to converge, depending on your parameter values--start early).\n",
    "\n",
    "`learn_model` returns the List of Thetas.\n",
    "\n",
    "### `apply_model`\n",
    "\n",
    "`apply_model` takes a List of Thetas (the model) and either labeled or unlabeled data. If the data is unlabeled, it will return predictions for each observation as a Tuple of the inferred value (0 or 1) and the actual probability (so something like (1, 0.73) or (0, 0.19).\n",
    "\n",
    "If the data is labeled, you will return a Tuple of the actual value (0 or 1) and the predicted value (0 or 1). In this case, you return a List of something like [(0, 1), (1, 1), (0, 0), (1, 0)].\n",
    "\n",
    "### `calculate_confusion_matrix`\n",
    "\n",
    "The `calculate_confusion_matrix` takes the results of `apply_model` when labeled=True and prints a nice HTML version of a confusion matrix and include statistics for error rate, true positive rate and true negative rate.\n",
    "\n",
    "\n",
    "**As always when working with Lists or Lists of Lists, be very careful when you are modifying these items in place that this is what you intend (and not to be modifying a copy)**"
   ]
  },
  {
   "cell_type": "markdown",
   "metadata": {},
   "source": [
    "---\n",
    "\n",
    "## Helper functions\n",
    "\n",
    "**logistic(x, theta)**  \n",
    "Given a matrix x and a vector $\\theta$, calculate the logistic function:  \n",
    "$$ \\hat{y}= \\frac{1}{1+e^{-\\mathbf{x} \\mathbf{\\theta}}} $$\n",
    "\n",
    "**logisticError(x, theta, y)**  \n",
    "Calculate the error of the logistic regression given a matrix of `x`, a vector of $\\theta$, and actual value `y`. \n",
    "$$Err(\\mathbf{x},\\mathbf{\\theta},\\mathbf{y})=-\\frac{1}{n}\\sum_i\ty_i\tlog(\\hat{y_i}) + (1\t- y_i)log(1\t- \\hat{y_i})$$\n",
    "\n",
    "**updateTheta(a, yhat, y, x, th, errDiff)**  \n",
    "Update the $\\theta$ based on $\\hat{y}$ and $\\alpha$, using the equation  \n",
    "$$\\frac{\\partial J}{\\partial \\theta_j} = \\frac{1}{n}\\sum_i(\\hat{y_i}  - y_i)x_{ij}$$\n",
    "$$\\theta_{t+1} = \\theta_{t} - \\alpha \\cdot \\frac{\\partial J}{\\partial \\theta_j}$$\n",
    "\n",
    "**makeIndepDepData(data)**  \n",
    "Given a matrix of input data of dimension i x j, where the first j-1 columns are the independent variables, and column j is the actual, the function outputs matrix of the first j-1 columns prepended with a vertical vector of ones (for the intercept), and the y."
   ]
  },
  {
   "cell_type": "code",
   "execution_count": 9,
   "metadata": {
    "collapsed": false
   },
   "outputs": [],
   "source": [
    "def logistic(x, beta):\n",
    "    xbeta = [sum([xi*Bi for xi,Bi in zip(n,beta)]) for n in x]\n",
    "    return [1.0 / (1 + math.exp(-n)) for n in xbeta]\n",
    "\n",
    "################################################################################\n",
    "def logisticError(x, theta, y):\n",
    "    yhat = logistic(x, theta)\n",
    "    e = [yi*math.log(yHi) + (1-yi)*math.log(1-yHi) for yi,yHi in zip(y,yhat)]\n",
    "    return -sum(e)/len(e), yhat\n",
    "    \n",
    "def updateTheta(a, yhat, y, x, th, errDiff):\n",
    "    d = [0 for xx in y]\n",
    "    e = [yHi-yi for yHi,yi in zip(yhat,y)]    \n",
    "    dMat = [[ej*xij for xij in xj] for ej,xj in zip(e,x)]\n",
    "    d = [sum([dd[i] for dd in dMat])/len(y) for i in range(len(x[0]))]\n",
    "    \n",
    "    return [tHj - (a*dj) for tHj,dj in zip(th,d)]\n",
    "\n",
    "def makeIndepDepData(data):\n",
    "    x = [[1] + d[:-1] for d in data]\n",
    "    y = [d[-1] for d in data]\n",
    "    return x,y"
   ]
  },
  {
   "cell_type": "markdown",
   "metadata": {},
   "source": [
    "---\n",
    "\n",
    "## Main Functions"
   ]
  },
  {
   "cell_type": "markdown",
   "metadata": {},
   "source": [
    "Use `generate_data` to generate 10 blurred \"hills\" examples with balanced (same number of) \"non hills\" examples to see that the function is working.\n",
    "\n",
    "**generate_data( data, n, label)**  \n",
    "Generate n blurred data points of the `label` category by choosing instances of data points within that category, as well as n random blurred data points instances that belongs to other categories."
   ]
  },
  {
   "cell_type": "code",
   "execution_count": 10,
   "metadata": {
    "collapsed": false
   },
   "outputs": [
    {
     "name": "stdout",
     "output_type": "stream",
     "text": [
      "['0.165', '0.019209', '0.15426', '0.090246', '0.048995', '0.10095', '0.11043', '0.86349', '0.1211', '0.18517', '0.91435', '0.92341', '0.1777', '0.9857', '0.86768', '1', '1']\n",
      "['0.1185', '0.069004', '0.071652', '0.13758', '0.12143', '0.019913', '0.11242', '0.95113', '0.081767', '0', '0.90001', '0.99336', '0.093588', '0.82476', '0.97279', '0.80282', '1']\n",
      "['0.11541', '0.17301', '0.085161', '0.093355', '0.12517', '0.12439', '0.84935', '0.11385', '0.12379', '0.86129', '0.93266', '1', '1', '0.82651', '0.79003', '0.93947', '1']\n",
      "['0.10099', '0.10107', '0.12331', '0.18214', '0', '0.17397', '0.78121', '0.043599', '0.099743', '0.8296', '0.93054', '0.6755', '0.82318', '0.80135', '0.99716', '0.94802', '1']\n",
      "['0.13505', '0', '0.12173', '0.14292', '0.11169', '0.16031', '0.94923', '0.092742', '0.03872', '0.92934', '0.92973', '0.86644', '1', '0.80339', '0.98179', '1', '1']\n",
      "['0.18651', '0.095897', '0.13828', '0.095902', '0.93926', '0.22267', '0.095197', '0.11811', '0.9296', '0.964', '0.12937', '0.14262', '0.94979', '0.95118', '0.91214', '0.091284', '1']\n",
      "['0.1133', '0.11673', '0.12627', '0.12392', '0.049327', '0.10473', '0.11991', '0.77235', '0.16845', '0.15308', '0.82905', '0.9189', '0.11572', '1', '0.88751', '0.86144', '1']\n",
      "['0.12523', '0.16063', '0.040323', '0.21579', '0.088772', '0.029923', '0.15612', '1', '0.11868', '0.080624', '0.92386', '1', '0.071135', '0.67429', '0.914', '0.96417', '1']\n",
      "['0.18523', '0.1272', '0.10411', '0.14191', '0.11197', '0.19056', '0.88005', '0.13448', '0.1773', '1', '1', '0.93001', '0.90049', '0.87645', '0.96082', '0.78509', '1']\n",
      "['0.071937', '0.12066', '0.12707', '0.093966', '0.79392', '0.12052', '0.05779', '0.089439', '1', '0.79929', '0.10213', '0.040839', '0.7923', '0.94113', '0.91476', '0.11726', '1']\n",
      "['0.11744', '0.082084', '0.082562', '0.11628', '0.023426', '0.060702', '0.13172', '0.11673', '0.046151', '0.078502', '0.1036', '0.15035', '0.99199', '0.86088', '0.93274', '0.91538', '0']\n",
      "['0.11766', '0.043106', '0.13502', '0.18844', '0.13329', '0.052895', '0.007198', '0.15306', '0.85827', '0.080677', '0.90312', '0.12013', '0.80679', '0.89174', '0.82409', '1', '0']\n",
      "['0.049134', '0.025447', '0.1462', '0.13712', '0.054013', '0.026164', '0.092363', '0.098112', '0.96776', '0.11226', '1', '0.16141', '0.89941', '0.9148', '0.92528', '0.84464', '0']\n",
      "['0', '0.096084', '0.11262', '0.05972', '0.087581', '0.14203', '0.1037', '0.080161', '0.0056364', '1', '0.10253', '0.8397', '0.97669', '0.88316', '0.85193', '0.8385', '0']\n",
      "['0.23139', '0.123', '0.89181', '0.16755', '0.1443', '0.91146', '0.75792', '1', '0.87837', '0.80706', '0.969', '0.97764', '0.099372', '0.11071', '0.94177', '0.15095', '0']\n",
      "['0.16685', '0.085044', '0.020036', '0.047016', '0.0522', '0.09055', '0.057294', '0.20935', '0.86417', '0.11052', '0.89678', '0.0057125', '0.73168', '0.88454', '0.91564', '0.92441', '0']\n",
      "['0.08781', '0.094749', '0.12571', '0.90772', '0.10459', '0.08742', '0.80673', '0.94666', '0.051826', '0.88415', '0.93', '1', '0.18824', '0.10704', '0.034896', '0.78079', '0']\n",
      "['0.068235', '0.087128', '0.074954', '1', '0.084591', '0.15553', '0.83759', '0.80972', '0.10422', '0.71136', '0.86681', '0.74181', '0.04605', '0.15417', '0.023864', '0.88359', '0']\n",
      "['0.072544', '0.14056', '0.11806', '0.6145', '0.10077', '0.15968', '0.92091', '0.89634', '0.10704', '1', '0.90354', '0.94507', '0.15373', '0.14867', '0.10513', '0.92317', '0']\n",
      "['0', '0.027128', '0.073726', '0.13642', '0', '0.039439', '0.16625', '0.088025', '0.070634', '0.091714', '0.090037', '0.089584', '1', '0.96779', '0.91926', '0.92648', '0']\n"
     ]
    }
   ],
   "source": [
    "def generate_data( data, n, label):\n",
    "    outK = [k for k in data.keys() if k!=label]\n",
    "    inPts = [blur(data[label][random.randrange(len(data[label]))])[:-1] + [1] \\\n",
    "             for x in xrange(n)]\n",
    "    outPts = list()\n",
    "    for x in xrange(n):\n",
    "        tp = random.sample(outK, 1)[0]\n",
    "        outPts.append(blur(data[tp][random.randrange(len(data[tp]))][:-1]+[0]))\n",
    "    return inPts + outPts\n",
    "\n",
    "results = generate_data( clean_data, 10, \"hills\")\n",
    "for result in results:\n",
    "    print [\"{0:0.5g}\".format(i) for i in result]"
   ]
  },
  {
   "cell_type": "markdown",
   "metadata": {},
   "source": [
    "Use `learn_model` to learn a logistic regression model for classifying sensor images as \"hills\" or \"not hills\". Use your `generate_data` function to generate a training set with 100 hills examples. **Set Verbose to True**\n",
    "\n",
    "**learn_model( data, alpha, eps, verbose=False)**  \n",
    "Using gradient descent, fit a logistic regression to the input data by adjusting the parameters to find one that minimizes the error as calculated `logisticError()`. The algorithm runs until the successive differences between the errors of the iteration is less than `eps` in the parameter. Each iteration updates the $\\theta$ according to the derivative. When the error difference increases, the alpha gets divided by 10. The algorithm goes for 1 million iterations before stopping, even though when the error difference has not reached epsilon yet."
   ]
  },
  {
   "cell_type": "code",
   "execution_count": 11,
   "metadata": {
    "collapsed": false,
    "scrolled": false
   },
   "outputs": [
    {
     "name": "stdout",
     "output_type": "stream",
     "text": [
      "Iter #0, error: 1.044651\n",
      "Iter #1000, error: 0.363056\n",
      "Iter #2000, error: 0.264144\n",
      "Iter #3000, error: 0.213503\n",
      "Iter #4000, error: 0.181954\n",
      "Iter #5000, error: 0.160155\n",
      "Iter #6000, error: 0.144076\n",
      "Iter #7000, error: 0.131662\n",
      "Iter #8000, error: 0.121750\n",
      "Iter #9000, error: 0.113626\n",
      "Iter #10000, error: 0.106829\n",
      "Iter #11000, error: 0.101044\n",
      "Iter #12000, error: 0.096052\n",
      "Iter #13000, error: 0.091692\n",
      "Iter #14000, error: 0.087845\n",
      "Iter #15000, error: 0.084422\n",
      "Iter #16000, error: 0.081352\n",
      "Iter #17000, error: 0.078580\n",
      "Iter #18000, error: 0.076062\n",
      "Iter #19000, error: 0.073763\n",
      "Iter #20000, error: 0.071653\n",
      "Iter #21000, error: 0.069709\n",
      "Iter #22000, error: 0.067910\n",
      "Iter #23000, error: 0.066239\n",
      "Iter #24000, error: 0.064683\n",
      "Iter #25000, error: 0.063229\n",
      "Iter #26000, error: 0.061867\n",
      "Iter #27000, error: 0.060587\n",
      "Iter #28000, error: 0.059382\n",
      "Iter #29000, error: 0.058244\n",
      "Iter #30000, error: 0.057168\n",
      "Iter #31000, error: 0.056149\n",
      "Iter #32000, error: 0.055181\n",
      "Iter #33000, error: 0.054261\n",
      "Iter #34000, error: 0.053385\n",
      "Iter #35000, error: 0.052549\n",
      "Iter #36000, error: 0.051751\n",
      "Iter #37000, error: 0.050987\n",
      "Iter #38000, error: 0.050256\n",
      "Iter #39000, error: 0.049555\n",
      "Iter #40000, error: 0.048882\n",
      "Iter #41000, error: 0.048236\n",
      "Iter #42000, error: 0.047614\n",
      "Iter #43000, error: 0.047015\n",
      "Iter #44000, error: 0.046438\n",
      "Iter #45000, error: 0.045881\n",
      "Iter #46000, error: 0.045344\n",
      "Iter #47000, error: 0.044824\n",
      "Iter #48000, error: 0.044322\n",
      "Iter #49000, error: 0.043836\n",
      "Iter #50000, error: 0.043366\n",
      "Iter #51000, error: 0.042910\n",
      "Iter #52000, error: 0.042468\n",
      "Iter #53000, error: 0.042039\n",
      "Iter #54000, error: 0.041622\n",
      "Iter #55000, error: 0.041218\n",
      "Iter #56000, error: 0.040825\n",
      "Iter #57000, error: 0.040442\n",
      "Iter #58000, error: 0.040070\n",
      "Iter #59000, error: 0.039708\n",
      "Iter #60000, error: 0.039356\n",
      "Iter #61000, error: 0.039012\n",
      "Iter #62000, error: 0.038677\n",
      "Iter #63000, error: 0.038350\n",
      "Iter #64000, error: 0.038031\n",
      "Iter #65000, error: 0.037720\n",
      "Iter #66000, error: 0.037416\n",
      "Iter #67000, error: 0.037119\n",
      "Iter #68000, error: 0.036829\n",
      "Iter #69000, error: 0.036545\n",
      "Iter #70000, error: 0.036268\n",
      "Iter #71000, error: 0.035997\n",
      "Iter #72000, error: 0.035731\n",
      "Iter #73000, error: 0.035471\n",
      "Iter #74000, error: 0.035217\n",
      "Iter #75000, error: 0.034968\n",
      "Iter #76000, error: 0.034723\n",
      "Iter #77000, error: 0.034484\n",
      "Iter #78000, error: 0.034249\n",
      "Iter #79000, error: 0.034019\n",
      "Iter #80000, error: 0.033793\n",
      "Iter #81000, error: 0.033572\n",
      "Iter #82000, error: 0.033355\n",
      "Iter #83000, error: 0.033141\n",
      "Iter #84000, error: 0.032932\n",
      "Iter #85000, error: 0.032726\n",
      "Iter #86000, error: 0.032524\n",
      "Iter #87000, error: 0.032325\n",
      "Iter #88000, error: 0.032130\n",
      "Iter #89000, error: 0.031938\n",
      "Iter #90000, error: 0.031750\n",
      "Iter #91000, error: 0.031564\n",
      "Iter #92000, error: 0.031382\n",
      "Iter #93000, error: 0.031202\n",
      "Iter #94000, error: 0.031026\n",
      "Iter #95000, error: 0.030852\n",
      "Iter #96000, error: 0.030681\n",
      "Iter #97000, error: 0.030513\n",
      "Iter #98000, error: 0.030347\n",
      "Iter #99000, error: 0.030184\n",
      "Iter #100000, error: 0.030023\n",
      "Iter #101000, error: 0.029865\n",
      "Iter #102000, error: 0.029709\n",
      "Iter #103000, error: 0.029555\n",
      "Iter #104000, error: 0.029403\n",
      "Iter #105000, error: 0.029254\n",
      "Iter #106000, error: 0.029107\n",
      "Iter #107000, error: 0.028961\n",
      "Iter #108000, error: 0.028818\n",
      "Iter #109000, error: 0.028677\n",
      "Iter #110000, error: 0.028538\n",
      "Iter #111000, error: 0.028400\n",
      "Iter #112000, error: 0.028265\n",
      "Iter #113000, error: 0.028131\n",
      "Iter #114000, error: 0.027999\n",
      "Iter #115000, error: 0.027868\n",
      "Iter #116000, error: 0.027740\n",
      "Iter #117000, error: 0.027612\n",
      "Iter #118000, error: 0.027487\n",
      "Iter #119000, error: 0.027363\n",
      "Iter #120000, error: 0.027241\n",
      "Iter #121000, error: 0.027120\n",
      "Iter #122000, error: 0.027001\n",
      "Iter #123000, error: 0.026883\n",
      "Iter #124000, error: 0.026766\n",
      "Iter #125000, error: 0.026651\n",
      "Iter #126000, error: 0.026537\n",
      "Iter #127000, error: 0.026425\n",
      "Iter #128000, error: 0.026313\n",
      "Iter #129000, error: 0.026204\n",
      "Iter #130000, error: 0.026095\n",
      "Iter #131000, error: 0.025987\n",
      "Iter #132000, error: 0.025881\n",
      "Iter #133000, error: 0.025776\n",
      "Iter #134000, error: 0.025672\n",
      "Iter #135000, error: 0.025570\n",
      "Iter #136000, error: 0.025468\n",
      "Iter #137000, error: 0.025367\n",
      "Final iteration #137008, error: 0.025366\n",
      "Coefficients: [-15.892972766578197, -6.112934470003568, -16.184604301187097, -18.07645807583095, -8.298408178705623, 7.488454860467905, 2.396122430415923, 2.2811211744460254, 10.663971441577972, -9.337033849895082, 14.081247982912737, 11.55654605368065, -10.8448151711147, -7.8729890499978, 12.915317493695351, 11.046327185678498, -4.741833814156054]\n"
     ]
    }
   ],
   "source": [
    "def learn_model( data, alpha, eps, verbose=False):\n",
    "    x,y = makeIndepDepData(data)\n",
    "    theta = [random.random()*2-1 for n in data[0]] # initialize Theta\n",
    "    lastErr = 0\n",
    "    err,yhat = logisticError(x, theta, y)\n",
    "\n",
    "    c = 0\n",
    "    while (abs(err-lastErr) > eps) and c<1e6:\n",
    "        if c % 1000 == 0 and verbose:\n",
    "            print('Iter #%u, error: %f'%(c,err))\n",
    "        theta = updateTheta(alpha, yhat, y, x, theta, err-lastErr)\n",
    "        lastErr = err\n",
    "        err,yhat = logisticError(x, theta, y)\n",
    "        if err > lastErr:\n",
    "            alpha /= 10\n",
    "        c += 1\n",
    "    \n",
    "    print('Final iteration #%u, error: %f' % (c-1,err) )\n",
    "    print('Coefficients: %s' % str(theta))\n",
    "    return theta\n",
    "\n",
    "\n",
    "train_data = generate_data( clean_data, 100, \"hills\")\n",
    "model = learn_model( train_data, 0.1, 1e-7, True)"
   ]
  },
  {
   "cell_type": "markdown",
   "metadata": {},
   "source": [
    "Use `generate_data` to generate 100 blurred \"hills\" examples with balanced \"non hills\" examples and use this as your test data. Set labeled=True and generate results to use in `calculate_confusion_matrix`. Print out the first 10 results, one per line.\n",
    "\n",
    "**apply_model( model, test_data, labeled=False)**  \n",
    "Given a list of $\\theta$, calculate the predicted $\\hat{y}$ from the input data. If `labeled` is false, it returns tuples of predicated true/false as well as the actual probability. If not labeled, then return tuples of actual true/false and predicted true/false."
   ]
  },
  {
   "cell_type": "code",
   "execution_count": 12,
   "metadata": {
    "collapsed": false
   },
   "outputs": [
    {
     "name": "stdout",
     "output_type": "stream",
     "text": [
      "(1, 1)\n",
      "(1, 1)\n",
      "(1, 1)\n",
      "(1, 1)\n",
      "(1, 1)\n",
      "(1, 1)\n",
      "(1, 1)\n",
      "(1, 1)\n",
      "(1, 1)\n",
      "(1, 1)\n"
     ]
    }
   ],
   "source": [
    "test_data = generate_data( clean_data, 100, \"hills\")\n",
    "\n",
    "def apply_model( model, test_data, labeled=False):\n",
    "    x,y = makeIndepDepData(test_data)\n",
    "    yhat = logistic(x, model)\n",
    "    pred = [1 if n > 0.5 else 0 for n in yhat]\n",
    "    if labeled:\n",
    "        return zip([int(round(n)) for n in y], pred)\n",
    "    else:\n",
    "        return zip(pred, yhat)\n",
    "\n",
    "results = apply_model( model, test_data, True)\n",
    "for n in range(10):\n",
    "    print results[n]"
   ]
  },
  {
   "cell_type": "markdown",
   "metadata": {},
   "source": [
    "Using the results above, show your confusion matrix for your model.\n",
    "\n",
    "**calculate_confusion_matrix(results)**  \n",
    "Given a labeled result from `apply_model(...)`, prints an html table of confusion matrix. Also prints out the error rate, true positive rate, and true negative rate."
   ]
  },
  {
   "cell_type": "code",
   "execution_count": 13,
   "metadata": {
    "collapsed": false
   },
   "outputs": [
    {
     "name": "stdout",
     "output_type": "stream",
     "text": [
      "\n"
     ]
    },
    {
     "data": {
      "text/html": [
       "<table><tr><td>n = 200</td><td>Pred: False</td><td>Pred: True</td></tr><tr><td>Actual: False</td><td>97</td><td>3</td></tr><tr><td>Actual: True</td><td>2</td><td>98</td></tr></table>"
      ],
      "text/plain": [
       "<IPython.core.display.HTML object>"
      ]
     },
     "metadata": {},
     "output_type": "display_data"
    },
    {
     "name": "stdout",
     "output_type": "stream",
     "text": [
      "Error rate: 2.5%\n",
      "True positive rate: 98.0%\n",
      "True negative rate: 97.0%\n"
     ]
    }
   ],
   "source": [
    "def calculate_confusion_matrix( results):\n",
    "    h = [[0,0], [0,0]]\n",
    "    for act,pred in results:\n",
    "        h[act][pred] += 1\n",
    "    t = [['n = %u'%len(results), 'Pred: False', 'Pred: True'],\n",
    "         ['Actual: False'] + h[0], ['Actual: True'] + h[1]]\n",
    "    s = '<table>%s</table>'%''.join(['<tr>%s</tr>'% ''.join(\n",
    "                ['<td>%s</td>'%str(x) for x in row]) for row in t])\n",
    "    print('')\n",
    "    display(HTML(s))\n",
    "\n",
    "    errRate = (h[0][1] + h[1][0] + 0.0) / len(results) * 100\n",
    "    tpRate = h[1][1] / (h[1][0] + h[1][1] + 0.0) * 100\n",
    "    tnRate = h[0][0] / (h[0][0] + h[0][1] + 0.0) * 100\n",
    "    print('Error rate: %.1f%%' % errRate)\n",
    "    print('True positive rate: %.1f%%' % tpRate)\n",
    "    print('True negative rate: %.1f%%' % tnRate)\n",
    "\n",
    "calculate_confusion_matrix(results)"
   ]
  }
 ],
 "metadata": {
  "kernelspec": {
   "display_name": "Python 2",
   "language": "python",
   "name": "python2"
  },
  "language_info": {
   "codemirror_mode": {
    "name": "ipython",
    "version": 2
   },
   "file_extension": ".py",
   "mimetype": "text/x-python",
   "name": "python",
   "nbconvert_exporter": "python",
   "pygments_lexer": "ipython2",
   "version": "2.7.12"
  }
 },
 "nbformat": 4,
 "nbformat_minor": 1
}
