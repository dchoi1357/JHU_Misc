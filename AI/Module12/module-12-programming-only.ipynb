{
 "cells": [
  {
   "cell_type": "markdown",
   "metadata": {},
   "source": [
    "# Module 12 - Programming Assignment\n",
    "\n",
    "## Directions\n",
    "\n",
    "There are general instructions on Blackboard and in the Syllabus for Programming Assignments. This Notebook also has instructions specific to this assignment. Read all the instructions carefully and make sure you understand them. Please ask questions on the discussion boards or email me at `EN605.445@gmail.com` if you do not understand something.\n",
    "\n",
    "<div style=\"background: mistyrose; color: firebrick; border: 2px solid darkred; padding: 5px; margin: 10px;\">\n",
    "You must follow the directions *exactly* or you will get a 0 on the assignment.\n",
    "</div>\n",
    "\n",
    "You must submit a zip file of your assignment and associated files (if there are any) to Blackboard. The zip file will be named after you JHED ID: `<jhed_id>.zip`. It will not include any other information. Inside this zip file should be the following directory structure:\n",
    "\n",
    "```\n",
    "<jhed_id>\n",
    "    |\n",
    "    +--module-01-programming.ipynb\n",
    "    +--module-01-programming.html\n",
    "    +--(any other files)\n",
    "```\n",
    "\n",
    "For example, do not name  your directory `programming_assignment_01` and do not name your directory `smith122_pr1` or any else. It must be only your JHED ID. Make sure you submit both an .ipynb and .html version of your *completed* notebook. You can generate the HTML version using:\n",
    "\n",
    "> ipython nbconvert [notebookname].ipynb\n",
    "\n",
    "or use the File menu."
   ]
  },
  {
   "cell_type": "code",
   "execution_count": 1,
   "metadata": {
    "collapsed": true
   },
   "outputs": [],
   "source": [
    "from __future__ import division\n",
    "import numpy as np\n",
    "import csv"
   ]
  },
  {
   "cell_type": "markdown",
   "metadata": {},
   "source": [
    "## Naive Bayes Classifier\n",
    "\n",
    "In this assignment you will be using the mushroom data from the Decision Tree module:\n",
    "\n",
    "http://archive.ics.uci.edu/ml/datasets/Mushroom\n",
    "\n",
    "The assignment is to write a program that will learn and apply a Naive Bayes Classifier for this problem. You'll first need to calculate all of the necessary probabilities (don't forget to use +1 smoothing) using a `learn` function. You'll then need to have a `classify` function that takes your probabilities, a List of instances (possibly a list of 1) and returns a List of Tuples. Each Tuple is a class and the *normalized* probability of that class. The List should be sorted so that the probabilities are in descending order. For example,\n",
    "\n",
    "```\n",
    "[(\"e\", 0.98), (\"p\", 0.02)]\n",
    "```\n",
    "\n",
    "when calculating the error rate of your classifier, you should pick the class with the highest probability (the first one in the list).\n",
    "\n",
    "As a reminder, the Naive Bayes Classifier generates the un-normalized probabilities from the numerator of Bayes Rule:\n",
    "\n",
    "$$P(C|A) \\propto P(A|C)P(C)$$\n",
    "\n",
    "where C is the class and A are the attributes (data). Since the normalizer of Bayes Rule is the *sum* of all possible numerators and you have to calculate them all, the normalizer is just the sum of the probabilities.\n",
    "\n",
    "You'll also need an `evaluate` function as before. You should use the $error\\_rate$ again.\n",
    "\n",
    "Use the same testing procedure as last time, on two randomized subsets of the data:\n",
    "\n",
    "1. learn the probabilities for set 1\n",
    "2. classify set 2\n",
    "3. evaluate the predictions\n",
    "4. learn the probabilities for set 2\n",
    "5. classify set 1\n",
    "6. evalute the the predictions\n",
    "7. average the classification error.\n",
    "\n",
    "-----"
   ]
  },
  {
   "cell_type": "markdown",
   "metadata": {},
   "source": [
    "### Encoding Metadata###"
   ]
  },
  {
   "cell_type": "code",
   "execution_count": 135,
   "metadata": {
    "collapsed": true
   },
   "outputs": [],
   "source": [
    "featureVals = {\n",
    "    \"cap-shape\": set([\"b\",\"c\",\"x\",\"f\",\"k\",\"s\"]),\n",
    "    \"cap-surface\": set([\"f\",\"g\",\"y\",\"s\"]),\n",
    "    \"cap-color\": set([\"n\",\"b\",\"c\",\"g\",\"r\",\"p\",\"u\",\"e\",\"w\",\"y\"]),\n",
    "    \"bruises\": set([\"t\",\"f\"]),\n",
    "    \"odor\": set([\"a\",\"l\",\"c\",\"y\",\"f\",\"m\",\"n\",\"p\",\"s\"]),\n",
    "    \"gill-attachment\": set([\"a\",\"d\",\"f\",\"n\"]),\n",
    "    \"gill-spacing\": set([\"c\",\"w\",\"d\"]),\n",
    "    \"gill-size\": set([\"b\",\"n\"]),\n",
    "    \"gill-color\": set([\"k\",\"n\",\"b\",\"h\",\"g\",\"r\",\"o\",\"p\",\"u\",\"e\",\"w\",\"y\"]),\n",
    "    \"stalk-shape\": set([\"e\",\"t\"]),\n",
    "    \"stalk-root\": set([\"b\",\"c\",\"u\",\"e\",\"z\",\"r\",\"?\"]),\n",
    "    \"stalk-surface-above-ring\": set([\"f\",\"y\",\"k\",\"s\"]),\n",
    "    \"stalk-surface-below-ring\": set([\"f\",\"y\",\"k\",\"s\"]),\n",
    "    \"stalk-color-above-ring\": set([\"n\",\"b\",\"c\",\"g\",\"o\",\"p\",\"e\",\"w\",\"y\"]),\n",
    "    \"stalk-color-below-ring\": set([\"n\",\"b\",\"c\",\"g\",\"o\",\"p\",\"e\",\"w\",\"y\"]),\n",
    "    \"veil-type\": set([\"p\",\"u\"]),\n",
    "    \"veil-color\": set([\"n\",\"o\",\"w\",\"y\"]),\n",
    "    \"ring-number\": set([\"n\",\"o\",\"t\"]),\n",
    "    \"ring-type\": set([\"c\",\"e\",\"f\",\"l\",\"n\",\"p\",\"s\",\"z\"]),\n",
    "    \"spore-print-color\": set([\"k\",\"n\",\"b\",\"h\",\"r\",\"o\",\"u\",\"w\",\"y\"]),\n",
    "    \"population\": set([\"a\",\"c\",\"n\",\"s\",\"v\",\"y\"]),\n",
    "    \"habitat\": set([\"g\",\"l\",\"m\",\"p\",\"u\",\"w\",\"d\"])\n",
    "}\n",
    "\n",
    "headers = ['class', 'cap-shape', 'cap-surface', 'cap-color' , 'bruises', 'odor', \n",
    "           'gill-attachment' , 'gill-spacing', 'gill-size', 'gill-color' , 'stalk-shape',\n",
    "           'stalk-root', 'stalk-surface-above-ring' , 'stalk-surface-below-ring',\n",
    "           'stalk-color-above-ring', 'stalk-color-below-ring' , 'veil-type', 'veil-color',\n",
    "           'ring-number' , 'ring-type', 'spore-print-color', 'population', 'habitat']"
   ]
  },
  {
   "cell_type": "markdown",
   "metadata": {},
   "source": [
    "### Reading in Data ###"
   ]
  },
  {
   "cell_type": "code",
   "execution_count": 125,
   "metadata": {
    "collapsed": false
   },
   "outputs": [],
   "source": [
    "def readCSV(filePath):\n",
    "    with open(filePath, 'rt') as f:\n",
    "        reader = csv.reader(f)\n",
    "        l = list(reader)\n",
    "    return l\n",
    "\n",
    "raw = np.rec.fromrecords( readCSV('agaricus-lepiota.data') , names=headers)\n",
    "\n",
    "idx = range(raw.size)\n",
    "np.random.shuffle(idx) # shuffle the indices\n",
    "data1 = raw[ idx[:int(np.floor(raw.size/2))] ] # first half of data\n",
    "data2 = raw[ idx[int(np.floor(raw.size/2)):] ] # second half of data"
   ]
  },
  {
   "cell_type": "code",
   "execution_count": 126,
   "metadata": {
    "collapsed": false
   },
   "outputs": [],
   "source": [
    "def countProb(pr):\n",
    "    return (pr + 1) / (np.sum(pr)+1)"
   ]
  },
  {
   "cell_type": "code",
   "execution_count": 137,
   "metadata": {
    "collapsed": false
   },
   "outputs": [],
   "source": [
    "def learn(data):\n",
    "    pr = dict()\n",
    "    classes,classN = np.unique(data['class'], return_counts=True )\n",
    "    for x,c in enumerate(classes):\n",
    "        idx = data['class']==c;\n",
    "        pr[c] = condProb(data[idx], np.sum(idx))\n",
    "        \n",
    "    return pr\n",
    "\n",
    "################################################################################\n",
    "def condProb(data, N): # the data is assumed to be class-homogenous\n",
    "    features = set(headers) - set(['class'])\n",
    "    condPr = dict()\n",
    "    for f in features:\n",
    "        try:\n",
    "            tmp = dict([(v,1/(N+1)) for v in featureVals[f]]) # initialize base\n",
    "        except KeyError:\n",
    "            print( repr([(v,1/(N+1)) for v in featureVals[f]]) )\n",
    "            raise\n",
    "        vals, vN = np.unique(data[f], return_counts=True)\n",
    "        vPr = (vN+1) / (N+1)\n",
    "        for i,v in enumerate(vals):\n",
    "            tmp[v] = vPr[i]\n",
    "        \n",
    "        condPr[f] = tmp\n",
    "        \n",
    "    return condPr\n",
    "    \n",
    "    \n",
    "x = learn(data1)"
   ]
  },
  {
   "cell_type": "markdown",
   "metadata": {},
   "source": [
    "-----\n",
    "\n",
    "Put your main function calls here."
   ]
  },
  {
   "cell_type": "code",
   "execution_count": 120,
   "metadata": {
    "collapsed": false
   },
   "outputs": [
    {
     "data": {
      "text/plain": [
       "1.012422360248447"
      ]
     },
     "execution_count": 120,
     "metadata": {},
     "output_type": "execute_result"
    }
   ],
   "source": [
    "sum(countProb(np.array([40, 100, 20])))"
   ]
  }
 ],
 "metadata": {
  "kernelspec": {
   "display_name": "Python 2",
   "language": "python",
   "name": "python2"
  },
  "language_info": {
   "codemirror_mode": {
    "name": "ipython",
    "version": 2
   },
   "file_extension": ".py",
   "mimetype": "text/x-python",
   "name": "python",
   "nbconvert_exporter": "python",
   "pygments_lexer": "ipython2",
   "version": "2.7.12"
  }
 },
 "nbformat": 4,
 "nbformat_minor": 0
}
