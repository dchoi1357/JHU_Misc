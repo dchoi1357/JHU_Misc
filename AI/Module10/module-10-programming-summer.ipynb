{
 "cells": [
  {
   "cell_type": "code",
   "execution_count": 1,
   "metadata": {
    "collapsed": true
   },
   "outputs": [],
   "source": [
    "%matplotlib inline"
   ]
  },
  {
   "cell_type": "markdown",
   "metadata": {},
   "source": [
    "# Module 10 - Programming Assignment (Summer)\n",
    "\n",
    "## Directions\n",
    "\n",
    "There are general instructions on Blackboard and in the Syllabus for Programming Assignments. This Notebook also has instructions specific to this assignment. Read all the instructions carefully and make sure you understand them. Please ask questions on the discussion boards or email me at `EN605.445@gmail.com` if you do not understand something.\n",
    "\n",
    "<div style=\"background: mistyrose; color: firebrick; border: 2px solid darkred; padding: 5px; margin: 10px;\">\n",
    "You must follow the directions *exactly* or you will get a 0 on the assignment.\n",
    "</div>\n",
    "\n",
    "You must submit *only* your IPython notebook to Blackboard. It should be cleanly executed and named:\n",
    "\n",
    "```\n",
    "<jhed_id>.ipynb\n",
    "```\n",
    "\n",
    "An HTML version of the notebook will be generated and graded and the notebook will be used only for reference. To see what the HTML version of your notebook will look like, apply the following command:\n",
    "\n",
    "> ipython nbconvert <jhed_id>.ipynb\n",
    "\n",
    "or use the File menu."
   ]
  },
  {
   "cell_type": "markdown",
   "metadata": {},
   "source": [
    "# The Problem\n",
    "\n",
    "Last week we left our agent with a simple logistic regression that it could use to classify a picture from its cheap visual \"sensor\" as hills or not hills. We *could* make a logistic regression for each train type (hills/not hills, plains/not plains, swamp/not swamp, forest/not forest) and pick the one with the largest probability but that's exactly the kind of a problem a Multi-Layer Perceptron (MLP) Artificial Neural Network (ANN) was designed to solve.\n",
    "\n",
    "Here are the \"pure\" images again:"
   ]
  },
  {
   "cell_type": "code",
   "execution_count": 2,
   "metadata": {
    "collapsed": false
   },
   "outputs": [
    {
     "data": {
      "image/png": "[encoded data removed]",
      "text/plain": [
       "<matplotlib.figure.Figure at 0x7ff644631210>"
      ]
     },
     "metadata": {},
     "output_type": "display_data"
    }
   ],
   "source": [
    "import numpy as np\n",
    "import matplotlib.pyplot as plt\n",
    "import random, math\n",
    "\n",
    "plain =  [0.0, 0.0, 0.0, 0.0,0.0, 0.0, 0.0, 0.0,0.0, 0.0, 0.0, 0.0,1.0, 1.0, 1.0, 1.0]\n",
    "forest = [0.0, 1.0, 0.0, 0.0,1.0, 1.0, 1.0, 0.0,1.0, 1.0, 1.0, 1.0,0.0, 1.0, 0.0, 0.0]\n",
    "hills =  [0.0, 0.0, 0.0, 0.0,0.0, 0.0, 1.0, 0.0,0.0, 1.0, 1.0, 1.0,1.0, 1.0, 1.0, 1.0]\n",
    "swamp =  [0.0, 0.0, 0.0, 0.0,0.0, 0.0, 0.0, 0.0,1.0, 0.0, 1.0, 0.0,1.0, 1.0, 1.0, 1.0]\n",
    "\n",
    "figure = plt.figure(figsize=(20,6))\n",
    "\n",
    "axes = figure.add_subplot(1, 3, 1)\n",
    "pixels = np.array([255 - p * 255 for p in plain], dtype='uint8')\n",
    "pixels = pixels.reshape((4, 4))\n",
    "axes.set_title( \"Left Camera\")\n",
    "axes.imshow(pixels, cmap='gray', interpolation='None')\n",
    "\n",
    "axes = figure.add_subplot(1, 3, 2)\n",
    "pixels = np.array([255 - p * 255 for p in forest], dtype='uint8')\n",
    "pixels = pixels.reshape((4, 4))\n",
    "axes.set_title( \"Front Camera\")\n",
    "axes.imshow(pixels, cmap='gray', interpolation='None')\n",
    "\n",
    "axes = figure.add_subplot(1, 3, 3)\n",
    "pixels = np.array([255 - p * 255 for p in hills], dtype='uint8')\n",
    "pixels = pixels.reshape((4, 4))\n",
    "axes.set_title( \"Right Camera\")\n",
    "axes.imshow(pixels, cmap='gray', interpolation='None')\n",
    "\n",
    "plt.show()\n",
    "plt.close()"
   ]
  },
  {
   "cell_type": "markdown",
   "metadata": {},
   "source": [
    "which would be plains, forest and hills respectively.\n",
    "\n",
    "## The Assignment\n",
    "\n",
    "For this programming assignment your tasks are:\n",
    "\n",
    "1. Write an ANN regression that simply determines what kind of terrain it is. This is a multi-class problem.\n",
    "2. You will also evaluate your model for at least 3 different numbers of nodes in the hidden layer (2, 4, 8) and determine which one has the lowest *error rate*.\n",
    "\n",
    "For a starting point, you can refer to **module-10-pseudocode.pdf** and the Self-Check."
   ]
  },
  {
   "cell_type": "markdown",
   "metadata": {},
   "source": [
    "## Data\n",
    "\n",
    "As before, we have clean examples of the different types of terrain but based on the location, the registration can be a bit off for some of the types and the visual sensor is often blurry.\n",
    "\n",
    "Here are the clean examples with different registrations: "
   ]
  },
  {
   "cell_type": "code",
   "execution_count": 3,
   "metadata": {
    "collapsed": true
   },
   "outputs": [],
   "source": [
    "clean_data = {\n",
    "    \"plains\": [\n",
    "        [0.0, 0.0, 0.0, 0.0, 0.0, 0.0, 0.0, 0.0, 0.0, 0.0, 0.0, 0.0, 1.0, 1.0, 1.0, 1.0, \"plains\"]\n",
    "    ],\n",
    "    \"forest\": [\n",
    "        [0.0, 1.0, 0.0, 0.0, 1.0, 1.0, 1.0, 0.0, 1.0, 1.0, 1.0, 1.0, 0.0, 1.0, 0.0, 0.0, \"forest\"],\n",
    "        [0.0, 0.0, 1.0, 0.0, 0.0, 1.0, 1.0, 1.0, 1.0, 1.0, 1.0, 1.0, 0.0, 0.0, 1.0, 0.0, \"forest\"],\n",
    "        [1.0, 0.0, 0.0, 0.0, 1.0, 1.0, 0.0, 0.0, 1.0, 1.0, 1.0, 0.0, 1.0, 0.0, 0.0, 0.0, \"forest\"],\n",
    "        [0.0, 0.0, 0.0, 1.0, 0.0, 0.0, 1.0, 1.0, 0.0, 1.0, 1.0, 1.0, 0.0, 0.0, 0.0, 1.0, \"forest\"]\n",
    "    ],\n",
    "    \"hills\": [\n",
    "        [0.0, 0.0, 0.0, 0.0, 0.0, 0.0, 1.0, 0.0, 0.0, 1.0, 1.0, 1.0, 1.0, 1.0, 1.0, 1.0, \"hills\"],\n",
    "        [0.0, 0.0, 0.0, 0.0, 0.0, 1.0, 0.0, 0.0, 1.0, 1.0, 1.0, 0.0, 1.0, 1.0, 1.0, 1.0, \"hills\"],\n",
    "        [0.0, 0.0, 0.0, 0.0, 1.0, 0.0, 0.0, 0.0, 1.0, 1.0, 0.0, 0.0, 1.0, 1.0, 1.0, 0.0, \"hills\"],\n",
    "        [0.0, 0.0, 0.0, 0.0, 0.0, 0.0, 0.0, 1.0, 0.0, 0.0, 1.0, 1.0, 0.0, 1.0, 1.0, 1.0, \"hills\"]\n",
    "    ],\n",
    "    \"swamp\": [\n",
    "        [0.0, 0.0, 0.0, 0.0, 0.0, 0.0, 0.0, 0.0, 1.0, 0.0, 1.0, 0.0, 1.0, 1.0, 1.0, 1.0, \"swamp\"],\n",
    "        [0.0, 0.0, 0.0, 0.0, 0.0, 0.0, 0.0, 0.0, 0.0, 1.0, 0.0, 1.0, 1.0, 1.0, 1.0, 1.0, \"swamp\"]        \n",
    "    ]\n",
    "}"
   ]
  },
  {
   "cell_type": "markdown",
   "metadata": {},
   "source": [
    "Let's create a function that allows us to view any of these:"
   ]
  },
  {
   "cell_type": "code",
   "execution_count": 4,
   "metadata": {
    "collapsed": true
   },
   "outputs": [],
   "source": [
    "def view_sensor_image( data):\n",
    "    figure = plt.figure(figsize=(4,4))\n",
    "    axes = figure.add_subplot(1, 1, 1)\n",
    "    pixels = np.array([255 - p * 255 for p in data[:-1]], dtype='uint8')\n",
    "    pixels = pixels.reshape((4, 4))\n",
    "    axes.set_title( \"Left Camera:\" + data[-1])\n",
    "    axes.imshow(pixels, cmap='gray', interpolation='None')\n",
    "    plt.show()\n",
    "    plt.close()"
   ]
  },
  {
   "cell_type": "markdown",
   "metadata": {},
   "source": [
    "\"I think that I shall never see a thing so lovely as a tree.\""
   ]
  },
  {
   "cell_type": "code",
   "execution_count": 5,
   "metadata": {
    "collapsed": false
   },
   "outputs": [
    {
     "data": {
      "image/png": "[encoded data removed]",
      "text/plain": [
       "<matplotlib.figure.Figure at 0x7ff64462b6d0>"
      ]
     },
     "metadata": {},
     "output_type": "display_data"
    }
   ],
   "source": [
    "view_sensor_image( clean_data[ \"forest\"][0])"
   ]
  },
  {
   "cell_type": "code",
   "execution_count": 6,
   "metadata": {
    "collapsed": false
   },
   "outputs": [
    {
     "data": {
      "image/png": "[encoded data removed]",
      "text/plain": [
       "<matplotlib.figure.Figure at 0x7ff644401410>"
      ]
     },
     "metadata": {},
     "output_type": "display_data"
    }
   ],
   "source": [
    "view_sensor_image( clean_data[\"swamp\"][0])"
   ]
  },
  {
   "cell_type": "markdown",
   "metadata": {},
   "source": [
    "The data that comes in, however, is noisy. The values are never exactly 0 and 1. In order to mimic this we need a `blur` function.\n",
    "\n",
    "We will assume that noise is normally distributed. For values that should be 0, the noisy values are distributed $N(0.10, 0.05)$. For values should be 1, the noisy values are distributed $N(0.9, 0.10)$."
   ]
  },
  {
   "cell_type": "code",
   "execution_count": 7,
   "metadata": {
    "collapsed": true
   },
   "outputs": [],
   "source": [
    "def blur( data):\n",
    "    def apply_noise( value):\n",
    "        if value < 0.5:\n",
    "            v = random.gauss( 0.10, 0.05)\n",
    "            if v < 0.0:\n",
    "                return 0.0\n",
    "            if v > 0.75:\n",
    "                return 0.75\n",
    "            return v\n",
    "        else:\n",
    "            v = random.gauss( 0.90, 0.10)\n",
    "            if v < 0.25:\n",
    "                return 0.25\n",
    "            if v > 1.00:\n",
    "                return 1.00\n",
    "            return v\n",
    "    noisy_readings = [apply_noise( v) for v in data[0:-1]]\n",
    "    return noisy_readings + [data[-1]]"
   ]
  },
  {
   "cell_type": "markdown",
   "metadata": {},
   "source": [
    "We can see how this affects what the agent *actually* sees."
   ]
  },
  {
   "cell_type": "code",
   "execution_count": 8,
   "metadata": {
    "collapsed": false
   },
   "outputs": [
    {
     "data": {
      "image/png": "[encoded data removed]",
      "text/plain": [
       "<matplotlib.figure.Figure at 0x7ff64436e3d0>"
      ]
     },
     "metadata": {},
     "output_type": "display_data"
    }
   ],
   "source": [
    "view_sensor_image( blur( clean_data[\"swamp\"][0]))"
   ]
  },
  {
   "cell_type": "markdown",
   "metadata": {},
   "source": [
    "You are going to want to write four (4) functions:\n",
    "\n",
    "1. `generate_data`\n",
    "2. `learn_model`\n",
    "3. `apply_model`\n",
    "4. `generate_validation_curves`\n",
    "\n",
    "\n",
    "### `generate_data`\n",
    "\n",
    "With the clean examples and the `blur` function, we have an unlimited amount of data for training and testing our classifier, an ANN that determines if a sensor image is hills, swamp, forest or plains.\n",
    "\n",
    "In classification, there is a general problem called the \"unbalanced class problem\". In general, we want our training data to have the same number of classes for each class. This means you should probably generate training data with, say, 100 of each type.\n",
    "\n",
    "But what do we do about the class label with the neural network?\n",
    "\n",
    "In this case, we can do \"one hot\". Instead of `generate_data` outputing a single 0 or 1, it should output a vector of 0's and 1's so that $y$ is now a vector as well as $x$. We can use the first position for hill, the second for swamp, the third for forest and the fourth for plains:\n",
    "\n",
    "```\n",
    "[0, 1, 0, 0]\n",
    "```\n",
    "\n",
    "what am I? swamp.\n",
    "\n",
    "Unlike logistic regression, you should set the *biases* inside the neural network (the implict $x_0$ = 1) because there are going to be lot of them (one for every hidden and output node).\n",
    "\n",
    "`generate_data` now only needs to take how many you want of each class:\n",
    "\n",
    "`generate_data( clean_data, 100)`\n",
    "\n",
    "generates 100 hills, 100 swamp, 100 forest, 100 plains and transforms $y$ into the respective \"one hot\" encoding.\n",
    "\n",
    "### `learn_model`\n",
    "\n",
    "`learn_model` is the function that takes in training data and actually learns the ANN. If you're up to it, you can implement a vectorized version using Numpy but you might start with the loopy version first.\n",
    "\n",
    "*In the lecture, I mentioned that you usually should mean normalize your data but you don't need to do that in this case because the data is already on the range 0-1.*\n",
    "\n",
    "You should add a parameter to indicate how many nodes the hidden layer should have.\n",
    "\n",
    "When verbose is True, you should print out the error so you can see that it is getting smaller.\n",
    "\n",
    "When developing your algorithm, you need to watch the error so you'll set verbose=True to start. You should print it out every iteration and make sure it is declining. You'll have to experiment with both epsilon and alpha; and it doesn't hurt to make alpha adaptive (if the error increases, make alpha = alpha / 10).\n",
    "\n",
    "When you know that your algorithm is working, change your code so that the error is printed out only every 1,000 iterations (it takes a lot of iterations for this problem to converge, depending on your parameter values--start early).\n",
    "\n",
    "`learn_model` returns the neural network. The hidden layer will be one vector of thetas for each hidden node. And the output layer will have its own thetas, one for each output (4 in this case). Return it as a Tuple: (List of List, List of List).\n",
    "\n",
    "### `apply_model`\n",
    "\n",
    "`apply_model` takes the ANN (the model) and either labeled or unlabeled data. If the data is unlabeled, it will return predictions for each observation as a List of Tuples of the inferred value (0 or 1) and the actual probability (so something like (1, 0.73) or (0, 0.19) so you have [(0, 0.30), (1, 0.98), (0, 0.87), (0, 0.12)]. Note that unlike the logistic regression, the threshold for 1 is not 0.5 but which value is largest (0.98 in this case).\n",
    "\n",
    "If the data is labeled, you will return a List of List of Tuples of the actual value (0 or 1) and the predicted value (0 or 1). For a single data point, you'll have the pairs of actual values [(0, 1), (0, 0), (0, 0), (1, 0)] is a misclassification and [(0, 0), (0, 0), (1, 1), (0, 0)] will be a correct classification. Then you have a List of *those*, one for each observation.\n",
    "\n",
    "### `generate_validation_curves`\n",
    "\n",
    "The `generate_validation_curves` is going to be a bit different than the confusion matrix version last week. It should take the information required to plot validation curves over the train and test sets for the specified parameter values.\n",
    "\n",
    "So basically, you have:\n",
    "\n",
    "1. generate training set\n",
    "2. generate test set\n",
    "3. loop over [2, 4, 8]\n",
    "    1. train model and apply to train data, calculate error rate.\n",
    "    2. apply to test data and calculae error rate.\n",
    "    3. plot both curves.\n",
    "\n",
    "The net results should be one plot of 2 curves over 3 parameter values. Please state in a markdown field afterwards which number of hidden nodes had the lowest error rate.\n",
    "\n",
    "**As always when working with Lists or Lists of Lists, be very careful when you are modifying these items in place that this is what you intend (and not to be modifying a copy)**"
   ]
  },
  {
   "cell_type": "markdown",
   "metadata": {},
   "source": [
    "---"
   ]
  },
  {
   "cell_type": "code",
   "execution_count": 9,
   "metadata": {
    "collapsed": true
   },
   "outputs": [],
   "source": [
    "terrainList = ['hills', 'swamp' ,'forest' , 'plains']\n",
    "\n",
    "def sigm(x):\n",
    "    return 1.0 / ( 1 + np.exp(-x) )\n",
    "\n",
    "def mmult(*args):\n",
    "    return reduce(np.multiply, args)\n",
    "\n",
    "def feedForward(x, wtHidd, wtOut):\n",
    "    yHatHidd = np.vstack(( sigm(wtHidd * x), np.matrix(1) ))\n",
    "    yHat = sigm(wtOut * yHatHidd)\n",
    "    return yHatHidd, yHat"
   ]
  },
  {
   "cell_type": "markdown",
   "metadata": {},
   "source": [
    "---\n",
    "\n",
    "Put your helper functions above here.\n",
    "\n",
    "## Main Functions"
   ]
  },
  {
   "cell_type": "markdown",
   "metadata": {},
   "source": [
    "Use `generate_data` to generate 10 blurred \"hills\" examples with balanced (same number of) \"non hills\" examples to see that the function is working."
   ]
  },
  {
   "cell_type": "code",
   "execution_count": 10,
   "metadata": {
    "collapsed": false
   },
   "outputs": [
    {
     "name": "stdout",
     "output_type": "stream",
     "text": [
      "[[ 0.          0.16049019  0.10311244  0.          0.11196324  0.14947093\n",
      "   0.09760424  0.14988364  0.13769946  0.05574752  0.0657569   0.08749137\n",
      "   0.97839418  1.          0.91523632  1.          1.          0.          0.\n",
      "   0.          1.        ]]\n",
      "[[ 0.          0.09585814  0.0967895   0.16044108  0.81778187  0.04126375\n",
      "   0.09557997  0.17520627  0.95670734  0.96654332  0.05633241  0.14709099\n",
      "   0.80427243  0.96388033  0.8768291   0.08754392  1.          1.          0.\n",
      "   0.          0.        ]]\n",
      "[[ 0.12663393  0.08562711  0.01810438  0.96965028  0.10234209  0.17674279\n",
      "   0.9142603   0.91236265  0.17151024  1.          0.92766122  1.\n",
      "   0.15727298  0.06402734  0.04018302  0.78174197  1.          0.          0.\n",
      "   1.          0.        ]]\n",
      "[[ 0.          0.          0.09089722  0.12762877  0.08876559  0.08931093\n",
      "   0.10414845  0.16655549  0.13224067  0.94234359  0.11099685  0.72607978\n",
      "   0.96223307  0.77002567  0.82737625  0.89308158  1.          0.          1.\n",
      "   0.          0.        ]]\n",
      "[[ 0.17629057  0.04394863  0.0593669   0.12658977  0.          0.19458736\n",
      "   0.01366329  0.12007461  1.          0.07491557  1.          0.12656236\n",
      "   0.82138877  0.91929686  0.6254462   0.75071185  1.          0.          1.\n",
      "   0.          0.        ]]\n",
      "[[ 0.06193317  1.          0.0851781   0.01985387  1.          1.\n",
      "   0.9011095   0.16759375  0.77660461  0.91526553  0.69159038  1.\n",
      "   0.10755897  1.          0.09807555  0.14971161  1.          0.          0.\n",
      "   1.          0.        ]]\n",
      "[[ 0.12132554  0.128856    0.20807123  0.11366984  0.10603495  0.0545572\n",
      "   0.07564137  0.09018241  0.10884724  0.11021913  0.11136256  0.06412879\n",
      "   0.91126186  0.63668745  0.78421825  0.99856831  1.          0.          0.\n",
      "   0.          1.        ]]\n",
      "[[ 0.20240321  0.01958682  0.10325347  0.08605893  0.82817123  0.06246578\n",
      "   0.16513268  0.08439122  1.          0.91898476  0.07919191  0.16634003\n",
      "   0.79439536  0.94120917  0.95502151  0.11853798  1.          1.          0.\n",
      "   0.          0.        ]]\n",
      "[[ 0.16852814  0.74119581  0.02959926  0.09435299  0.98793539  0.94114314\n",
      "   0.78043429  0.13359734  0.84704644  0.80094421  0.62380063  0.86096546\n",
      "   0.16403416  0.92443769  0.15946031  0.12704826  1.          0.          0.\n",
      "   1.          0.        ]]\n",
      "[[ 0.0420892   0.06393801  0.05805377  0.15207811  0.08332787  0.17573346\n",
      "   0.13276722  0.16652181  0.09583954  0.02300612  0.1568722   0.18089857\n",
      "   0.83711782  1.          0.85439929  0.96039127  1.          0.          0.\n",
      "   0.          1.        ]]\n",
      "[[ 0.03624148  0.0648274   0.19730404  0.12701724  0.04070023  0.06957784\n",
      "   0.16638459  0.02482232  0.09203017  0.09997973  0.05861954  0.10948855\n",
      "   0.96460854  1.          0.87474262  1.          1.          0.          0.\n",
      "   0.          1.        ]]\n",
      "[[ 0.7138357   0.0568995   0.12920191  0.07590745  1.          0.63770393\n",
      "   0.15228329  0.15519506  0.92919851  0.77947987  0.9399439   0.08175295\n",
      "   0.8053431   0.04728166  0.13085398  0.08153295  1.          0.          0.\n",
      "   1.          0.        ]]\n",
      "[[ 0.095345    0.02185118  0.06226923  0.06620551  0.71607597  0.0745916\n",
      "   0.09283438  0.01718504  0.90672274  0.98657882  0.1700694   0.0460907\n",
      "   0.90450926  1.          1.          0.1249337   1.          1.          0.\n",
      "   0.          0.        ]]\n",
      "[[ 0.12310759  0.12665874  0.02880817  0.17162081  0.0053894   0.05903433\n",
      "   0.19175414  0.15885329  0.04890775  0.10008905  0.17519381  0.08203426\n",
      "   0.74061872  0.86379516  1.          0.82203733  1.          0.          0.\n",
      "   0.          1.        ]]\n",
      "[[ 0.16496026  0.13915556  0.17428104  0.94730755  0.13857978  0.161205\n",
      "   0.67663597  0.80795526  0.14833038  1.          0.81643238  0.92318341\n",
      "   0.13166577  0.14862234  0.13767628  0.91019643  1.          0.          0.\n",
      "   1.          0.        ]]\n",
      "[[ 0.14078955  0.11759095  0.07944942  0.09923113  0.15253701  0.05774905\n",
      "   0.02790751  0.14293069  0.88705206  0.02994117  0.85774493  0.16116815\n",
      "   0.94191408  0.90615301  1.          0.92820266  1.          0.          1.\n",
      "   0.          0.        ]]\n",
      "[[ 0.00411404  0.00191495  0.05998524  0.0101168   0.09631901  0.04085239\n",
      "   0.1514195   0.15900786  0.05410562  0.89801474  0.18621967  0.98445822\n",
      "   0.82790207  0.89352777  0.93441074  0.85511072  1.          0.          1.\n",
      "   0.          0.        ]]\n",
      "[[ 0.13823994  0.09555572  0.02910691  0.13301924  0.13150361  0.1778532\n",
      "   0.01086917  0.03553995  0.0655617   0.78895476  0.14376791  0.95821495\n",
      "   0.83325243  1.          0.91502407  1.          1.          0.          1.\n",
      "   0.          0.        ]]\n",
      "[[ 0.01425867  0.89130903  0.03594547  0.17006438  0.78429661  0.86124852\n",
      "   1.          0.14786104  0.95593044  0.91508942  1.          0.67103269\n",
      "   0.1168511   0.99091216  0.0419496   0.09978292  1.          0.          0.\n",
      "   1.          0.        ]]\n",
      "[[ 0.1421134   0.00952481  0.18072756  0.05905504  0.12172798  0.13516477\n",
      "   0.1128548   0.05123522  0.13608016  0.13170889  0.18222453  0.11495435\n",
      "   0.87204036  0.75949654  0.86180819  0.74437318  1.          0.          0.\n",
      "   0.          1.        ]]\n",
      "[[ 0.10147887  0.09092976  0.14078463  0.16142705  0.10943587  0.08973987\n",
      "   0.03578116  0.09136272  0.06476462  0.89006022  0.11200353  1.\n",
      "   0.92694582  0.94292152  0.94747835  1.          1.          0.          1.\n",
      "   0.          0.        ]]\n",
      "[[ 0.13522659  0.03748388  0.09425307  0.08471648  0.10801932  1.\n",
      "   0.05400877  0.11310454  0.89343475  0.85625654  0.90222492  0.          1.\n",
      "   0.85891333  0.93123613  1.          1.          1.          0.          0.\n",
      "   0.        ]]\n",
      "[[ 0.18846906  0.06783927  0.10274455  0.029735    0.91798394  0.\n",
      "   0.13458334  0.12029943  0.8851162   0.91179434  0.00841797  0.09477797\n",
      "   1.          0.90792181  0.91258169  0.03648268  1.          1.          0.\n",
      "   0.          0.        ]]\n",
      "[[ 0.17772467  0.05235311  0.0787875   0.05476301  0.09428204  0.19280444\n",
      "   0.08384844  1.          0.          0.0899845   0.91025966  0.82596792\n",
      "   0.0991981   1.          0.83956545  0.87339125  1.          1.          0.\n",
      "   0.          0.        ]]\n",
      "[[ 0.10139211  0.03353427  0.71966569  0.13992674  0.06502516  0.89482648\n",
      "   0.74534511  1.          0.76236742  0.85045056  0.9722812   0.76772638\n",
      "   0.13657067  0.07629569  0.91853016  0.16520897  1.          0.          0.\n",
      "   1.          0.        ]]\n",
      "[[ 0.18768233  0.18903372  0.11030512  0.11434015  0.16268042  0.06478264\n",
      "   0.10068931  0.05093467  0.18566806  0.          0.00184037  0.12941127\n",
      "   0.96783121  0.98572504  0.99763858  0.83780083  1.          0.          0.\n",
      "   0.          1.        ]]\n",
      "[[ 0.10072668  0.07969572  0.10587866  0.          0.05490703  0.10461563\n",
      "   0.16726034  0.8115634   0.07423045  0.18293318  1.          0.90635798\n",
      "   0.13692172  1.          0.95710859  0.80617788  1.          1.          0.\n",
      "   0.          0.        ]]\n",
      "[[ 0.0572422   0.02044015  0.05003902  0.14280165  0.10917696  0.17292066\n",
      "   0.15254236  0.02627817  0.08533126  0.14797929  0.19177344  0.12589088\n",
      "   0.78704084  0.88618195  0.94925278  0.96526641  1.          0.          0.\n",
      "   0.          1.        ]]\n",
      "[[ 0.10586522  0.10215075  0.02928177  0.0321707   0.17705688  0.05480557\n",
      "   0.14579622  0.16457036  0.10974595  0.11945811  0.16062444  0.07971456\n",
      "   0.9689577   0.75720212  0.9454504   0.67311274  1.          0.          0.\n",
      "   0.          1.        ]]\n",
      "[[ 0.03738797  0.16524498  0.15113361  0.08285293  0.07994464  0.14972674\n",
      "   0.11535355  0.21437968  0.02461209  0.99850495  0.06409746  1.\n",
      "   0.81499173  0.84567527  0.85408074  0.7749555   1.          0.          1.\n",
      "   0.          0.        ]]\n",
      "[[ 0.10663226  0.17277061  0.0769718   0.02146573  0.12460511  0.14224928\n",
      "   0.18054775  0.95284477  0.02235051  0.14943567  0.85563238  0.89643314\n",
      "   0.06229752  0.84732451  0.85828932  0.87465484  1.          1.          0.\n",
      "   0.          0.        ]]\n",
      "[[ 0.03086989  0.17208176  0.05168853  0.10447995  0.04320977  0.11825759\n",
      "   0.06303941  0.11545476  0.13784902  0.00255652  0.19660468  0.07365019\n",
      "   0.98208948  0.81925943  0.93774269  0.90365445  1.          0.          0.\n",
      "   0.          1.        ]]\n",
      "[[ 0.09392031  0.06136381  0.75283114  0.14463178  0.10272413  0.8184858\n",
      "   0.95519667  1.          1.          0.89899322  0.91590087  1.\n",
      "   0.04986162  0.10504474  0.98999973  0.04274661  1.          0.          0.\n",
      "   1.          0.        ]]\n",
      "[[ 0.86914613  0.06965912  0.11494879  0.12720449  0.79525833  0.90650633\n",
      "   0.11740151  0.01175738  0.85552714  0.79477992  0.9433184   0.04251072\n",
      "   0.82376749  0.12697201  0.          0.11886085  1.          0.          0.\n",
      "   1.          0.        ]]\n",
      "[[ 0.01788274  0.08095351  0.11231499  0.          0.06538236  0.09725878\n",
      "   0.09101426  0.05661052  0.16724223  0.86279164  0.22944477  1.\n",
      "   0.74347459  0.94312175  0.92742949  0.95582573  1.          0.          1.\n",
      "   0.          0.        ]]\n",
      "[[  1.54358000e-01   6.82035008e-02   1.25591740e-01   1.64247802e-01\n",
      "    7.68943071e-04   3.00521549e-02   2.49042703e-02   1.24071782e-01\n",
      "    1.33844226e-01   8.29266177e-01   1.04333738e-01   8.65812396e-01\n",
      "    8.95434550e-01   9.71408332e-01   1.00000000e+00   8.40250544e-01\n",
      "    1.00000000e+00   0.00000000e+00   1.00000000e+00   0.00000000e+00\n",
      "    0.00000000e+00]]\n",
      "[[ 0.12155864  0.9245698   0.12876571  0.21594101  0.77020706  0.8319392\n",
      "   0.88670683  0.11906425  0.99126392  1.          0.99225183  0.67902334\n",
      "   0.08450083  0.77699578  0.10490823  0.11506529  1.          0.          0.\n",
      "   1.          0.        ]]\n",
      "[[ 0.14843009  0.14375486  0.04222418  0.11911613  0.09884878  0.10034209\n",
      "   0.81754132  0.13414403  0.10557155  0.95515054  1.          0.98812085\n",
      "   0.89034509  0.9544076   0.92350728  0.86753089  1.          1.          0.\n",
      "   0.          0.        ]]\n",
      "[[ 0.01513985  0.21561513  0.18570821  0.09990564  0.11453565  0.13810514\n",
      "   0.93506572  0.13672913  0.0617962   0.71518219  0.97401338  0.95980407\n",
      "   0.95719527  0.87584653  0.8373099   0.86133174  1.          1.          0.\n",
      "   0.          0.        ]]\n",
      "[[ 0.11089418  0.15720306  0.10967387  0.13153117  0.08430316  0.1041763\n",
      "   0.07016157  0.14644134  0.11773542  1.          0.08983271  0.85802037\n",
      "   0.79312263  0.83517146  0.90147606  0.9824469   1.          0.          1.\n",
      "   0.          0.        ]]\n"
     ]
    }
   ],
   "source": [
    "################################################################################\n",
    "def generate_data( data, n):\n",
    "    out = list()\n",
    "    for idx,tp in enumerate(terrainList):\n",
    "        for c in xrange(n):\n",
    "            x = blur(data[tp][random.randrange(len(data[tp]))])\n",
    "            y = [1 if i==idx else 0 for i in xrange(4)]\n",
    "            out.append(np.matrix( x[:-1] + [1] + y ))\n",
    "    random.shuffle(out)\n",
    "    return out\n",
    "\n",
    "results = generate_data( clean_data, 10)\n",
    "for result in results:\n",
    "    print result"
   ]
  },
  {
   "cell_type": "markdown",
   "metadata": {},
   "source": [
    "Use `learn_model` to learn a ANN model for classifying sensor images as hills, swamps, plains or forest. Use your `generate_data` function to generate a training set with 100 examples for each. **Set Verbose to True**"
   ]
  },
  {
   "cell_type": "code",
   "execution_count": 11,
   "metadata": {
    "collapsed": false,
    "scrolled": false
   },
   "outputs": [
    {
     "name": "stdout",
     "output_type": "stream",
     "text": [
      "Round #0, RMSE: 0.092303, alpha: 2.000000\n",
      "Final round #5, RMSE: 0.101994, alpha: 1.333333\n"
     ]
    }
   ],
   "source": [
    "def ffbp(data, wtHidd, wtOut, a):\n",
    "    x, y = np.split( data.T, [-4])\n",
    "    #print wtHidd * x\n",
    "    yHatHidd, yHat = feedForward(x, wtHidd, wtOut)\n",
    "    \n",
    "    err = y-yHat\n",
    "    deltaOut = mmult(err, 1-yHat, yHat)\n",
    "    outChg = (a * deltaOut) * yHatHidd.T\n",
    "    \n",
    "    deltaHidd = mmult(1-yHatHidd, yHatHidd, (deltaOut.T * wtOut).T)\n",
    "    hiddChg = (a * deltaHidd[:-1]) * x.T\n",
    "    \n",
    "    return outChg, hiddChg, np.linalg.norm(err)/math.sqrt(y.size), err\n",
    "################################################################################\n",
    "\n",
    "def initTheta(dataDim, nHidd, nOut, xMax):\n",
    "    hidden = (np.random.rand(nHidd, dataDim-nOut)) *xMax / (dataDim-nOut)\n",
    "    outter = (np.random.rand(nOut, nHidd+1)) * xMax / nHidd\n",
    "    return np.matrix(hidden), np.matrix(outter)\n",
    "\n",
    "def learn_model( data, nHidd, alpha, eps, verbose=False):\n",
    "    wtHidd, wtOut = initTheta(data[0].shape[1], nHidd, 4, 0.5)\n",
    "    #wtHidd = np.matrix(np.random.rand(nHidd, data[0].shape[1]-nO#ut) / nHidd)\n",
    "    #wtOut = np.matrix(np.random.rand(nOut, nHidd+1))\n",
    "    \n",
    "    #print wtHidd * data[0].T[:-4]\n",
    "    #print wtOut * np.vstack(( sigm(wtHidd * data[0].T[:-4]), np.matrix(1) ))\n",
    "    \n",
    "    rd = 0\n",
    "    RMSEdiff = np.zeros(10)\n",
    "    RMSE, lastRMSE = 1, 0\n",
    "    while abs(RMSE-lastRMSE) > eps and rd<10 and RMSE>0.05:\n",
    "        lastRMSE = RMSE\n",
    "        for n,d in enumerate(data):\n",
    "            wtOutChg, wtHiddChg, RMSE, err = ffbp(d, wtHidd, wtOut, alpha)\n",
    "            wtOut, wtHidd = (wtOut+wtOutChg, wtHidd+wtHiddChg) # update weights\n",
    "        RMSEdiff = np.hstack( (RMSE-lastRMSE, RMSEdiff[:-1]) )\n",
    "        if (RMSEdiff>0).sum() > 3 and alpha > 0.05:\n",
    "            alpha = (alpha/1.5)\n",
    "        if (RMSEdiff[:5] > 0).sum() > 3:\n",
    "            break\n",
    "        \n",
    "        if rd%10==0 and verbose: # print every 50\n",
    "            print('Round #%u, RMSE: %f, alpha: %f'%(rd,RMSE,alpha))\n",
    "        rd += 1\n",
    "        \n",
    "    print('Final round #%u, RMSE: %f, alpha: %f' % (rd-1,RMSE, alpha) )\n",
    "    return wtHidd.tolist(), wtOut.tolist()\n",
    "\n",
    "\n",
    "train_data = generate_data( clean_data, 100)\n",
    "model = learn_model( train_data, 2, 2, 1e-7, True)"
   ]
  },
  {
   "cell_type": "markdown",
   "metadata": {},
   "source": [
    "Use `generate_data` to generate 100 blurred examples of each terrain and use this as your test data. Print out the first 10 results, one per line."
   ]
  },
  {
   "cell_type": "code",
   "execution_count": 12,
   "metadata": {
    "collapsed": false
   },
   "outputs": [
    {
     "name": "stdout",
     "output_type": "stream",
     "text": [
      "[[ 0.18751495  0.11776331  0.03540578  0.12175536  0.06581321  0.11003249\n",
      "   0.07087239  0.14917897  0.85828348  0.13196549  0.91394696  0.\n",
      "   0.83439826  0.90109589  0.93409178  0.92251678  1.          0.          1.\n",
      "   0.          0.        ]]\n",
      "[[ 0.03342064  0.13564127  0.07124922  0.15146216  0.05848653  0.13110934\n",
      "   0.12020286  0.01415881  0.99488992  0.00533245  1.          0.04427141\n",
      "   0.98888326  0.87537617  0.95977306  0.69940699  1.          0.          1.\n",
      "   0.          0.        ]]\n",
      "[[ 0.11016684  0.07803465  0.05024349  0.05714789  0.10080561  0.14528489\n",
      "   0.14309282  0.06923325  0.19424936  0.06784195  0.16181771  0.08245469\n",
      "   0.93075564  1.          1.          0.8455788   1.          0.          0.\n",
      "   0.          1.        ]]\n",
      "[[ 0.08788884  0.14064584  0.10020714  0.18058859  0.18723385  0.\n",
      "   0.77431086  0.10672468  0.08241978  0.84671008  0.8094103   0.84098403\n",
      "   0.87850265  1.          0.76261287  0.95063496  1.          1.          0.\n",
      "   0.          0.        ]]\n",
      "[[ 0.08154235  0.04088941  0.12679118  0.07276437  0.84251975  0.05256526\n",
      "   0.02915968  0.01740276  0.92974878  1.          0.17361102  0.07202648\n",
      "   0.9688091   0.83830338  1.          0.11483567  1.          1.          0.\n",
      "   0.          0.        ]]\n",
      "[[ 0.06650618  0.1594923   0.13378395  0.0571367   0.06135329  0.05571733\n",
      "   0.15765165  0.82180356  0.07298901  0.06049852  0.84228868  1.\n",
      "   0.11663483  0.98423677  0.97749337  0.8352034   1.          1.          0.\n",
      "   0.          0.        ]]\n",
      "[[ 0.06448992  0.06057676  0.10299568  0.04947575  0.16157127  0.04548465\n",
      "   0.2280149   0.98793744  0.04816864  0.12123013  0.9015201   0.84484751\n",
      "   0.1556288   0.92186965  0.64022064  0.95310495  1.          1.          0.\n",
      "   0.          0.        ]]\n",
      "[[ 0.09820715  0.07343395  0.14838761  0.13025073  0.05648841  0.15005369\n",
      "   0.08308816  0.14721154  0.11288377  0.79195055  0.          0.91501157\n",
      "   0.71255622  0.91580005  0.87559054  1.          1.          0.          1.\n",
      "   0.          0.        ]]\n",
      "[[ 0.07693093  0.04491173  0.16865278  0.9825186   0.02773574  0.13986187\n",
      "   0.84733876  0.83036984  0.09254276  0.83989942  0.8286698   0.83446107\n",
      "   0.02153733  0.11672713  0.09238688  0.75631166  1.          0.          0.\n",
      "   1.          0.        ]]\n",
      "[[ 0.12926019  0.10548972  0.05620288  0.01920679  0.11786748  0.88190865\n",
      "   0.19662158  0.14786622  0.82580953  0.81184902  0.69782973  0.1599638\n",
      "   0.84809965  0.86659005  1.          0.78498032  1.          1.          0.\n",
      "   0.          0.        ]]\n",
      "0\n"
     ]
    }
   ],
   "source": [
    "test_data = generate_data( clean_data, 100)\n",
    "for x in xrange(10):\n",
    "    print test_data[x]\n",
    "\n",
    "\n",
    "def apply_model( model, test_data, labeled=False):\n",
    "    wtHidd, wtOut = np.matrix(model[0]), np.matrix(model[1])\n",
    "    categ, prob, actual = list(), list(), list()\n",
    "    for n, d in enumerate(test_data):\n",
    "        x, y = np.split( d.T, [-4])\n",
    "        yHat = feedForward(x, wtHidd, wtOut)[1]\n",
    "        prob.append(yHat.max())\n",
    "        categ.append(yHat.argmax())\n",
    "        actual.append(y.argmax())\n",
    "        \n",
    "    if labeled:\n",
    "        return zip(categ, actual)\n",
    "    else:\n",
    "        return zip(categ, prob)\n",
    "\n",
    "\n",
    "results = apply_model( model, test_data)\n",
    "#print results\n",
    "print sum([1 if x[0]==x[1] else 0 for x in results])"
   ]
  },
  {
   "cell_type": "markdown",
   "metadata": {},
   "source": [
    "Now that you're pretty sure your algorithm works (the error rate during training is going down, and you can evaluate `apply_model` results for its error rate, learn validation curves:"
   ]
  },
  {
   "cell_type": "code",
   "execution_count": 13,
   "metadata": {
    "collapsed": true
   },
   "outputs": [],
   "source": [
    "def generate_validation_curves(hyperParm, data):\n",
    "    plt.plot(hyperParm, zip(*data)[0], label='Training Data')\n",
    "    plt.plot(hyperParm, zip(*data)[1], label='Testing Data')\n",
    "    plt.legend(loc=0)\n",
    "    plt.axis([min(hyperParm)-0.2, max(hyperParm)+0.2, 0, 1.05])\n",
    "    plt.show()\n",
    "    "
   ]
  },
  {
   "cell_type": "code",
   "execution_count": 14,
   "metadata": {
    "collapsed": false
   },
   "outputs": [
    {
     "name": "stdout",
     "output_type": "stream",
     "text": [
      "Final round #9, RMSE: 0.180066, alpha: 2.000000\n",
      "Final round #4, RMSE: 0.043773, alpha: 2.000000\n",
      "Final round #4, RMSE: 0.043797, alpha: 2.000000\n",
      "Final round #4, RMSE: 0.044415, alpha: 2.000000\n",
      "Final round #4, RMSE: 0.042590, alpha: 2.000000\n"
     ]
    },
    {
     "data": {
      "image/png": "[encoded data removed]",
      "text/plain": [
       "<matplotlib.figure.Figure at 0x7ff6443f3c50>"
      ]
     },
     "metadata": {},
     "output_type": "display_data"
    }
   ],
   "source": [
    "################################################################################\n",
    "def errorRate(labeldResult):\n",
    "    discord = sum([1 if pred!=act else 0 for pred,act in labeldResult])\n",
    "    return discord / (len(labeldResult)+0.0)\n",
    "\n",
    "train = generate_data( clean_data, 100)\n",
    "test  = generate_data( clean_data, 100)\n",
    "\n",
    "hyperParm = [2, 3, 4, 6, 8]\n",
    "valCurveData = list()\n",
    "for n in hyperParm:\n",
    "    model = learn_model( train, n, 2, 1e-7, False)\n",
    "    train_results = apply_model( model, train, True)\n",
    "    test_results = apply_model( model, test, True)\n",
    "    valCurveData.append(( errorRate(train_results),errorRate(test_results) ))\n",
    "\n",
    "generate_validation_curves(hyperParm, valCurveData)"
   ]
  },
  {
   "cell_type": "markdown",
   "metadata": {},
   "source": [
    "which number of hidden nodes is best? same"
   ]
  }
 ],
 "metadata": {
  "kernelspec": {
   "display_name": "Python 2",
   "language": "python",
   "name": "python2"
  },
  "language_info": {
   "codemirror_mode": {
    "name": "ipython",
    "version": 2
   },
   "file_extension": ".py",
   "mimetype": "text/x-python",
   "name": "python",
   "nbconvert_exporter": "python",
   "pygments_lexer": "ipython2",
   "version": "2.7.12"
  }
 },
 "nbformat": 4,
 "nbformat_minor": 1
}
