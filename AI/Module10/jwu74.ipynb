{
 "cells": [
  {
   "cell_type": "code",
   "execution_count": 1,
   "metadata": {
    "collapsed": true
   },
   "outputs": [],
   "source": [
    "%matplotlib inline"
   ]
  },
  {
   "cell_type": "markdown",
   "metadata": {},
   "source": [
    "# Module 10 - Programming Assignment (Summer)\n",
    "\n",
    "## Directions\n",
    "\n",
    "There are general instructions on Blackboard and in the Syllabus for Programming Assignments. This Notebook also has instructions specific to this assignment. Read all the instructions carefully and make sure you understand them. Please ask questions on the discussion boards or email me at `EN605.445@gmail.com` if you do not understand something.\n",
    "\n",
    "<div style=\"background: mistyrose; color: firebrick; border: 2px solid darkred; padding: 5px; margin: 10px;\">\n",
    "You must follow the directions *exactly* or you will get a 0 on the assignment.\n",
    "</div>\n",
    "\n",
    "You must submit *only* your IPython notebook to Blackboard. It should be cleanly executed and named:\n",
    "\n",
    "```\n",
    "<jhed_id>.ipynb\n",
    "```\n",
    "\n",
    "An HTML version of the notebook will be generated and graded and the notebook will be used only for reference. To see what the HTML version of your notebook will look like, apply the following command:\n",
    "\n",
    "> ipython nbconvert <jhed_id>.ipynb\n",
    "\n",
    "or use the File menu."
   ]
  },
  {
   "cell_type": "markdown",
   "metadata": {},
   "source": [
    "# The Problem\n",
    "\n",
    "Last week we left our agent with a simple logistic regression that it could use to classify a picture from its cheap visual \"sensor\" as hills or not hills. We *could* make a logistic regression for each train type (hills/not hills, plains/not plains, swamp/not swamp, forest/not forest) and pick the one with the largest probability but that's exactly the kind of a problem a Multi-Layer Perceptron (MLP) Artificial Neural Network (ANN) was designed to solve.\n",
    "\n",
    "Here are the \"pure\" images again:"
   ]
  },
  {
   "cell_type": "code",
   "execution_count": 2,
   "metadata": {
    "collapsed": false
   },
   "outputs": [
    {
     "data": {
      "image/png": "[encoded data removed]",
      "text/plain": [
       "<matplotlib.figure.Figure at 0x7fc2da524250>"
      ]
     },
     "metadata": {},
     "output_type": "display_data"
    }
   ],
   "source": [
    "import numpy as np\n",
    "import matplotlib.pyplot as plt\n",
    "import random, math\n",
    "\n",
    "plain =  [0.0, 0.0, 0.0, 0.0,0.0, 0.0, 0.0, 0.0,0.0, 0.0, 0.0, 0.0,1.0, 1.0, 1.0, 1.0]\n",
    "forest = [0.0, 1.0, 0.0, 0.0,1.0, 1.0, 1.0, 0.0,1.0, 1.0, 1.0, 1.0,0.0, 1.0, 0.0, 0.0]\n",
    "hills =  [0.0, 0.0, 0.0, 0.0,0.0, 0.0, 1.0, 0.0,0.0, 1.0, 1.0, 1.0,1.0, 1.0, 1.0, 1.0]\n",
    "swamp =  [0.0, 0.0, 0.0, 0.0,0.0, 0.0, 0.0, 0.0,1.0, 0.0, 1.0, 0.0,1.0, 1.0, 1.0, 1.0]\n",
    "\n",
    "figure = plt.figure(figsize=(20,6))\n",
    "\n",
    "axes = figure.add_subplot(1, 3, 1)\n",
    "pixels = np.array([255 - p * 255 for p in plain], dtype='uint8')\n",
    "pixels = pixels.reshape((4, 4))\n",
    "axes.set_title( \"Left Camera\")\n",
    "axes.imshow(pixels, cmap='gray', interpolation='None')\n",
    "\n",
    "axes = figure.add_subplot(1, 3, 2)\n",
    "pixels = np.array([255 - p * 255 for p in forest], dtype='uint8')\n",
    "pixels = pixels.reshape((4, 4))\n",
    "axes.set_title( \"Front Camera\")\n",
    "axes.imshow(pixels, cmap='gray', interpolation='None')\n",
    "\n",
    "axes = figure.add_subplot(1, 3, 3)\n",
    "pixels = np.array([255 - p * 255 for p in hills], dtype='uint8')\n",
    "pixels = pixels.reshape((4, 4))\n",
    "axes.set_title( \"Right Camera\")\n",
    "axes.imshow(pixels, cmap='gray', interpolation='None')\n",
    "\n",
    "plt.show()\n",
    "plt.close()"
   ]
  },
  {
   "cell_type": "markdown",
   "metadata": {},
   "source": [
    "which would be plains, forest and hills respectively.\n",
    "\n",
    "## The Assignment\n",
    "\n",
    "For this programming assignment your tasks are:\n",
    "\n",
    "1. Write an ANN regression that simply determines what kind of terrain it is. This is a multi-class problem.\n",
    "2. You will also evaluate your model for at least 3 different numbers of nodes in the hidden layer (2, 4, 8) and determine which one has the lowest *error rate*.\n",
    "\n",
    "For a starting point, you can refer to **module-10-pseudocode.pdf** and the Self-Check."
   ]
  },
  {
   "cell_type": "markdown",
   "metadata": {},
   "source": [
    "## Data\n",
    "\n",
    "As before, we have clean examples of the different types of terrain but based on the location, the registration can be a bit off for some of the types and the visual sensor is often blurry.\n",
    "\n",
    "Here are the clean examples with different registrations: "
   ]
  },
  {
   "cell_type": "code",
   "execution_count": 3,
   "metadata": {
    "collapsed": true
   },
   "outputs": [],
   "source": [
    "clean_data = {\n",
    "    \"plains\": [\n",
    "        [0.0, 0.0, 0.0, 0.0, 0.0, 0.0, 0.0, 0.0, 0.0, 0.0, 0.0, 0.0, 1.0, 1.0, 1.0, 1.0, \"plains\"]\n",
    "    ],\n",
    "    \"forest\": [\n",
    "        [0.0, 1.0, 0.0, 0.0, 1.0, 1.0, 1.0, 0.0, 1.0, 1.0, 1.0, 1.0, 0.0, 1.0, 0.0, 0.0, \"forest\"],\n",
    "        [0.0, 0.0, 1.0, 0.0, 0.0, 1.0, 1.0, 1.0, 1.0, 1.0, 1.0, 1.0, 0.0, 0.0, 1.0, 0.0, \"forest\"],\n",
    "        [1.0, 0.0, 0.0, 0.0, 1.0, 1.0, 0.0, 0.0, 1.0, 1.0, 1.0, 0.0, 1.0, 0.0, 0.0, 0.0, \"forest\"],\n",
    "        [0.0, 0.0, 0.0, 1.0, 0.0, 0.0, 1.0, 1.0, 0.0, 1.0, 1.0, 1.0, 0.0, 0.0, 0.0, 1.0, \"forest\"]\n",
    "    ],\n",
    "    \"hills\": [\n",
    "        [0.0, 0.0, 0.0, 0.0, 0.0, 0.0, 1.0, 0.0, 0.0, 1.0, 1.0, 1.0, 1.0, 1.0, 1.0, 1.0, \"hills\"],\n",
    "        [0.0, 0.0, 0.0, 0.0, 0.0, 1.0, 0.0, 0.0, 1.0, 1.0, 1.0, 0.0, 1.0, 1.0, 1.0, 1.0, \"hills\"],\n",
    "        [0.0, 0.0, 0.0, 0.0, 1.0, 0.0, 0.0, 0.0, 1.0, 1.0, 0.0, 0.0, 1.0, 1.0, 1.0, 0.0, \"hills\"],\n",
    "        [0.0, 0.0, 0.0, 0.0, 0.0, 0.0, 0.0, 1.0, 0.0, 0.0, 1.0, 1.0, 0.0, 1.0, 1.0, 1.0, \"hills\"]\n",
    "    ],\n",
    "    \"swamp\": [\n",
    "        [0.0, 0.0, 0.0, 0.0, 0.0, 0.0, 0.0, 0.0, 1.0, 0.0, 1.0, 0.0, 1.0, 1.0, 1.0, 1.0, \"swamp\"],\n",
    "        [0.0, 0.0, 0.0, 0.0, 0.0, 0.0, 0.0, 0.0, 0.0, 1.0, 0.0, 1.0, 1.0, 1.0, 1.0, 1.0, \"swamp\"]        \n",
    "    ]\n",
    "}"
   ]
  },
  {
   "cell_type": "markdown",
   "metadata": {},
   "source": [
    "Let's create a function that allows us to view any of these:"
   ]
  },
  {
   "cell_type": "code",
   "execution_count": 4,
   "metadata": {
    "collapsed": true
   },
   "outputs": [],
   "source": [
    "def view_sensor_image( data):\n",
    "    figure = plt.figure(figsize=(4,4))\n",
    "    axes = figure.add_subplot(1, 1, 1)\n",
    "    pixels = np.array([255 - p * 255 for p in data[:-1]], dtype='uint8')\n",
    "    pixels = pixels.reshape((4, 4))\n",
    "    axes.set_title( \"Left Camera:\" + data[-1])\n",
    "    axes.imshow(pixels, cmap='gray', interpolation='None')\n",
    "    plt.show()\n",
    "    plt.close()"
   ]
  },
  {
   "cell_type": "markdown",
   "metadata": {},
   "source": [
    "\"I think that I shall never see a thing so lovely as a tree.\""
   ]
  },
  {
   "cell_type": "code",
   "execution_count": 5,
   "metadata": {
    "collapsed": false
   },
   "outputs": [
    {
     "data": {
      "image/png": "[encoded data removed]",
      "text/plain": [
       "<matplotlib.figure.Figure at 0x7fc2da030ad0>"
      ]
     },
     "metadata": {},
     "output_type": "display_data"
    }
   ],
   "source": [
    "view_sensor_image( clean_data[ \"forest\"][0])"
   ]
  },
  {
   "cell_type": "code",
   "execution_count": 6,
   "metadata": {
    "collapsed": false
   },
   "outputs": [
    {
     "data": {
      "image/png": "[encoded data removed]",
      "text/plain": [
       "<matplotlib.figure.Figure at 0x7fc2da2fc110>"
      ]
     },
     "metadata": {},
     "output_type": "display_data"
    }
   ],
   "source": [
    "view_sensor_image( clean_data[\"swamp\"][0])"
   ]
  },
  {
   "cell_type": "markdown",
   "metadata": {},
   "source": [
    "The data that comes in, however, is noisy. The values are never exactly 0 and 1. In order to mimic this we need a `blur` function.\n",
    "\n",
    "We will assume that noise is normally distributed. For values that should be 0, the noisy values are distributed $N(0.10, 0.05)$. For values should be 1, the noisy values are distributed $N(0.9, 0.10)$."
   ]
  },
  {
   "cell_type": "code",
   "execution_count": 7,
   "metadata": {
    "collapsed": true
   },
   "outputs": [],
   "source": [
    "def blur( data):\n",
    "    def apply_noise( value):\n",
    "        if value < 0.5:\n",
    "            v = random.gauss( 0.10, 0.05)\n",
    "            if v < 0.0:\n",
    "                return 0.0\n",
    "            if v > 0.75:\n",
    "                return 0.75\n",
    "            return v\n",
    "        else:\n",
    "            v = random.gauss( 0.90, 0.10)\n",
    "            if v < 0.25:\n",
    "                return 0.25\n",
    "            if v > 1.00:\n",
    "                return 1.00\n",
    "            return v\n",
    "    noisy_readings = [apply_noise( v) for v in data[0:-1]]\n",
    "    return noisy_readings + [data[-1]]"
   ]
  },
  {
   "cell_type": "markdown",
   "metadata": {},
   "source": [
    "We can see how this affects what the agent *actually* sees."
   ]
  },
  {
   "cell_type": "code",
   "execution_count": 8,
   "metadata": {
    "collapsed": false
   },
   "outputs": [
    {
     "data": {
      "image/png": "[encoded data removed]",
      "text/plain": [
       "<matplotlib.figure.Figure at 0x7fc2da239350>"
      ]
     },
     "metadata": {},
     "output_type": "display_data"
    }
   ],
   "source": [
    "view_sensor_image( blur( clean_data[\"swamp\"][0]))"
   ]
  },
  {
   "cell_type": "markdown",
   "metadata": {},
   "source": [
    "You are going to want to write four (4) functions:\n",
    "\n",
    "1. `generate_data`\n",
    "2. `learn_model`\n",
    "3. `apply_model`\n",
    "4. `generate_validation_curves`\n",
    "\n",
    "\n",
    "### `generate_data`\n",
    "\n",
    "With the clean examples and the `blur` function, we have an unlimited amount of data for training and testing our classifier, an ANN that determines if a sensor image is hills, swamp, forest or plains.\n",
    "\n",
    "In classification, there is a general problem called the \"unbalanced class problem\". In general, we want our training data to have the same number of classes for each class. This means you should probably generate training data with, say, 100 of each type.\n",
    "\n",
    "But what do we do about the class label with the neural network?\n",
    "\n",
    "In this case, we can do \"one hot\". Instead of `generate_data` outputing a single 0 or 1, it should output a vector of 0's and 1's so that $y$ is now a vector as well as $x$. We can use the first position for hill, the second for swamp, the third for forest and the fourth for plains:\n",
    "\n",
    "```\n",
    "[0, 1, 0, 0]\n",
    "```\n",
    "\n",
    "what am I? swamp.\n",
    "\n",
    "Unlike logistic regression, you should set the *biases* inside the neural network (the implict $x_0$ = 1) because there are going to be lot of them (one for every hidden and output node).\n",
    "\n",
    "`generate_data` now only needs to take how many you want of each class:\n",
    "\n",
    "`generate_data( clean_data, 100)`\n",
    "\n",
    "generates 100 hills, 100 swamp, 100 forest, 100 plains and transforms $y$ into the respective \"one hot\" encoding.\n",
    "\n",
    "### `learn_model`\n",
    "\n",
    "`learn_model` is the function that takes in training data and actually learns the ANN. If you're up to it, you can implement a vectorized version using Numpy but you might start with the loopy version first.\n",
    "\n",
    "*In the lecture, I mentioned that you usually should mean normalize your data but you don't need to do that in this case because the data is already on the range 0-1.*\n",
    "\n",
    "You should add a parameter to indicate how many nodes the hidden layer should have.\n",
    "\n",
    "When verbose is True, you should print out the error so you can see that it is getting smaller.\n",
    "\n",
    "When developing your algorithm, you need to watch the error so you'll set verbose=True to start. You should print it out every iteration and make sure it is declining. You'll have to experiment with both epsilon and alpha; and it doesn't hurt to make alpha adaptive (if the error increases, make alpha = alpha / 10).\n",
    "\n",
    "When you know that your algorithm is working, change your code so that the error is printed out only every 1,000 iterations (it takes a lot of iterations for this problem to converge, depending on your parameter values--start early).\n",
    "\n",
    "`learn_model` returns the neural network. The hidden layer will be one vector of thetas for each hidden node. And the output layer will have its own thetas, one for each output (4 in this case). Return it as a Tuple: (List of List, List of List).\n",
    "\n",
    "### `apply_model`\n",
    "\n",
    "`apply_model` takes the ANN (the model) and either labeled or unlabeled data. If the data is unlabeled, it will return predictions for each observation as a List of Tuples of the inferred value (0 or 1) and the actual probability (so something like (1, 0.73) or (0, 0.19) so you have [(0, 0.30), (1, 0.98), (0, 0.87), (0, 0.12)]. Note that unlike the logistic regression, the threshold for 1 is not 0.5 but which value is largest (0.98 in this case).\n",
    "\n",
    "If the data is labeled, you will return a List of List of Tuples of the actual value (0 or 1) and the predicted value (0 or 1). For a single data point, you'll have the pairs of actual values [(0, 1), (0, 0), (0, 0), (1, 0)] is a misclassification and [(0, 0), (0, 0), (1, 1), (0, 0)] will be a correct classification. Then you have a List of *those*, one for each observation.\n",
    "\n",
    "### `generate_validation_curves`\n",
    "\n",
    "The `generate_validation_curves` is going to be a bit different than the confusion matrix version last week. It should take the information required to plot validation curves over the train and test sets for the specified parameter values.\n",
    "\n",
    "So basically, you have:\n",
    "\n",
    "1. generate training set\n",
    "2. generate test set\n",
    "3. loop over [2, 4, 8]\n",
    "    1. train model and apply to train data, calculate error rate.\n",
    "    2. apply to test data and calculae error rate.\n",
    "    3. plot both curves.\n",
    "\n",
    "The net results should be one plot of 2 curves over 3 parameter values. Please state in a markdown field afterwards which number of hidden nodes had the lowest error rate.\n",
    "\n",
    "**As always when working with Lists or Lists of Lists, be very careful when you are modifying these items in place that this is what you intend (and not to be modifying a copy)**"
   ]
  },
  {
   "cell_type": "markdown",
   "metadata": {},
   "source": [
    "---\n",
    "## Helper Functions\n",
    "\n",
    "**sigm(x)**  \n",
    "Given a matrix x , calculate the logistic function for each element of the matrix.  \n",
    "$$ \\hat{y}= \\frac{1}{1+e^{-\\mathbf{-x}}} $$\n",
    "\n",
    "**mmult(\\*args)**  \n",
    "Perform element-wise multiplication of the matrices $x[n]$ in the the parameter such that the elements of the output matrix $m_{i,j}$:\n",
    "\n",
    "$$m_{i,j} = \\prod_{n} x[n]_{i,j}$$\n",
    "\n",
    "**feedForward(x, wtHidd, wtOut)**  \n",
    "Given hidden and output layer weights and in matrix form, calculate the $\\hat{y}$ for the hidden nodes and output nodes through matrix multiplication. \n",
    "$$\\hat{y} =logistic[{\\sum_i{\\theta_i x_i}}]$$\n",
    "\n",
    "Returns the output in matrix format.\n",
    "\n",
    "**ffbp(data, wtHidd, wtOut, a)**  \n",
    "The algorithm performs feed-forward back-propagation algorithm. Takes as input a matrix array of input vectors, where the first n elements are the value of the input nodes with a 1 for bias, and the last elements are the actual values. The algorithm first performs the two-layer feedforward. With the error, it calculates the changes to the weights of the output layer and hidden layer. Returns the change to the weights as well as the errors of the network such that:\n",
    "\n",
    "$$\\delta^o = \\hat{y} (1-\\hat{y}) (y-\\hat{y})$$\n",
    "$$\\delta^o = \\hat{y} (1-\\hat{y}) \\sum_i{\\theta^{i,o} \\delta^{i,o}}$$\n",
    "$$Err(\\mathbf{x},\\mathbf{\\theta},\\mathbf{y})=-\\frac{1}{n}\\sum_i\ty_i\tlog(\\hat{y_i}) + (1\t- y_i)log(1\t- \\hat{y_i})$$\n",
    "\n",
    "**initTheta(dataDim, nHidd, nOut, xMax)**  \n",
    "Initialize the weights such that the output of the individual nodes land between -5 and 5 so that the gradients are not flat.\n",
    "\n",
    "**errorRate(labeldResult)**  \n",
    "Given an input of labeled result data, calculate the error rate where the predicated classification is different from the actual classification. $$\\frac{\\sum_i^n{I_{[c\\neq\\hat{c}]}(\\theta,x)}}{n}$$"
   ]
  },
  {
   "cell_type": "code",
   "execution_count": 9,
   "metadata": {
    "collapsed": true
   },
   "outputs": [],
   "source": [
    "terrainList = ['hills', 'swamp' ,'forest' , 'plains']\n",
    "\n",
    "def sigm(x):\n",
    "    return 1.0 / ( 1 + np.exp(-x) )\n",
    "\n",
    "def mmult(*args):\n",
    "    return reduce(np.multiply, args)\n",
    "\n",
    "def feedForward(x, wtHidd, wtOut):\n",
    "    yHatHidd = np.vstack(( sigm(wtHidd * x), np.matrix(1) ))\n",
    "    yHat = sigm(wtOut * yHatHidd)\n",
    "    return yHatHidd, yHat\n",
    "\n",
    "def ffbp(data, wtHidd, wtOut, a):\n",
    "    x, y = np.split( data.T, [-4])\n",
    "    yHatHidd, yHat = feedForward(x, wtHidd, wtOut)\n",
    "    \n",
    "    deltaOut = mmult(y-yHat, 1-yHat, yHat)\n",
    "    outChg = (a * deltaOut) * yHatHidd.T\n",
    "    \n",
    "    deltaHidd = mmult(1-yHatHidd, yHatHidd, (deltaOut.T * wtOut).T)\n",
    "    hiddChg = (a * deltaHidd[:-1]) * x.T\n",
    "    err = -(y.T*np.log(yHat) + (1-y).T*np.log(1-yHat)) / len(y)\n",
    "    \n",
    "    return outChg, hiddChg, float(err)\n",
    "\n",
    "def initTheta(dataDim, nHidd, nOut, xMax):\n",
    "    hidden = (np.random.rand(nHidd, dataDim-nOut)) *xMax / (dataDim-nOut)\n",
    "    outter = (np.random.rand(nOut, nHidd+1)) * xMax / nHidd\n",
    "    return np.matrix(hidden), np.matrix(outter)\n",
    "\n",
    "def errorRate(labeldResult):\n",
    "    discord = sum([1 if pred!=act else 0 for pred,act in labeldResult])\n",
    "    return discord / (len(labeldResult)+0.0)"
   ]
  },
  {
   "cell_type": "markdown",
   "metadata": {},
   "source": [
    "---\n",
    "\n",
    "Put your helper functions above here.\n",
    "\n",
    "## Main Functions"
   ]
  },
  {
   "cell_type": "markdown",
   "metadata": {},
   "source": [
    "Use `generate_data` to generate 10 blurred \"hills\" examples with balanced (same number of) \"non hills\" examples to see that the function is working.\n",
    "\n",
    "**generate_data( data, n)**  \n",
    "Generate n blurred data points for each category of terrains by randomly choosing instances of data points within that category. Shuffle the results so that the terrains are randomly distributed."
   ]
  },
  {
   "cell_type": "code",
   "execution_count": 10,
   "metadata": {
    "collapsed": false
   },
   "outputs": [
    {
     "name": "stdout",
     "output_type": "stream",
     "text": [
      "[[ 0.07816084  0.05568035  0.11798945  0.04177141  0.02667341  0.08287283\n",
      "   0.79886617  0.14286324  0.12435166  0.80063875  0.82674614  0.93316699\n",
      "   1.          0.78507538  0.89670375  0.75913367  1.          1.          0.\n",
      "   0.          0.        ]]\n",
      "[[ 0.05928444  0.03368247  0.07393702  0.1062142   0.06799432  0.14766701\n",
      "   0.07735414  0.11263209  0.93383582  0.08901511  1.          0.14611399\n",
      "   0.94602592  0.74984311  0.98018801  0.95215234  1.          0.          1.\n",
      "   0.          0.        ]]\n",
      "[[ 0.03051399  0.09379177  0.12118087  0.08548744  0.14175614  0.02933583\n",
      "   0.10208636  0.15409446  0.07295571  0.02224191  0.07520018  0.12614161\n",
      "   0.88437739  0.85251149  0.85561854  0.77077151  1.          0.          0.\n",
      "   0.          1.        ]]\n",
      "[[ 0.12116669  0.03308374  0.14359761  0.06809919  0.11959726  0.0562735\n",
      "   0.11869147  0.0248035   0.13490882  0.15121583  0.13448605  0.12050358\n",
      "   0.93626667  1.          0.7536046   1.          1.          0.          0.\n",
      "   0.          1.        ]]\n",
      "[[ 0.08504401  0.19504668  0.04260081  0.09198581  0.1068198   0.14786577\n",
      "   0.81935584  0.12189831  0.1326648   0.8174065   0.81259526  0.95551189\n",
      "   1.          0.81807828  0.59349569  1.          1.          1.          0.\n",
      "   0.          0.        ]]\n",
      "[[ 0.          0.24382153  0.05579484  0.04237407  0.16738103  0.14129254\n",
      "   0.07466116  1.          0.13966059  0.14246563  0.79982249  0.75825079\n",
      "   0.11656643  0.92918983  0.86438889  0.89494486  1.          1.          0.\n",
      "   0.          0.        ]]\n",
      "[[ 0.10492669  0.09534134  0.0893588   0.24195118  0.04719365  0.01656132\n",
      "   0.04548497  0.89312375  0.07568607  0.03061959  0.89811813  0.88085171\n",
      "   0.06180986  1.          0.7582104   0.88923273  1.          1.          0.\n",
      "   0.          0.        ]]\n",
      "[[ 0.20388392  0.16660367  0.14672745  0.          0.13967779  0.0699684\n",
      "   0.14927651  0.07610592  0.89107804  0.10592692  0.86414605  0.08033506\n",
      "   0.85611174  1.          1.          0.84140486  1.          0.          1.\n",
      "   0.          0.        ]]\n",
      "[[ 0.08258586  1.          0.0311795   0.10108457  1.          0.94625258\n",
      "   0.99476332  0.09314231  0.84532356  0.83157423  0.87488526  0.96276687\n",
      "   0.1401116   0.75497502  0.11888049  0.14198969  1.          0.          0.\n",
      "   1.          0.        ]]\n",
      "[[ 0.10541283  0.11498984  0.01905177  0.13068267  0.0920664   0.09622517\n",
      "   0.14707841  1.          0.15433888  0.14918099  0.8835859   1.\n",
      "   0.10692978  0.90295558  0.97329535  0.85704591  1.          1.          0.\n",
      "   0.          0.        ]]\n",
      "[[ 0.09902445  0.13916006  0.07346251  0.0233417   0.14544324  0.09134713\n",
      "   0.          0.16323863  0.14139066  0.11871013  0.04337926  0.12187851\n",
      "   0.96242288  0.86848767  0.96502035  0.79978079  1.          0.          0.\n",
      "   0.          1.        ]]\n",
      "[[ 1.          0.09233207  0.11388166  0.13863713  0.91529392  1.\n",
      "   0.06344675  0.02906746  0.82308035  0.85185982  0.73408189  0.06455397\n",
      "   0.87932166  0.06380184  0.23817273  0.13516042  1.          0.          0.\n",
      "   1.          0.        ]]\n",
      "[[ 0.06162894  0.05889055  0.1403195   0.79125563  0.10890703  0.0454434\n",
      "   1.          0.91185426  0.09032721  0.92016366  0.85470486  0.8771419\n",
      "   0.09557836  0.06879754  0.06039338  0.87377157  1.          0.          0.\n",
      "   1.          0.        ]]\n",
      "[[ 0.08937179  0.06543885  0.94474955  0.11194316  0.04577686  0.69750214\n",
      "   0.76104616  0.94198786  0.84908481  0.82982548  1.          1.\n",
      "   0.07187735  0.13936767  0.94611235  0.06965054  1.          0.          0.\n",
      "   1.          0.        ]]\n",
      "[[ 0.14791125  0.18777776  0.15778356  0.06158221  0.06649967  0.86629161\n",
      "   0.          0.16108373  0.58140638  0.83250961  0.90344266  0.10810245\n",
      "   1.          0.81049253  0.91690727  0.80667152  1.          1.          0.\n",
      "   0.          0.        ]]\n",
      "[[ 0.07194214  0.15799172  0.08727127  0.13607657  0.11421641  0.93694691\n",
      "   0.07818979  0.17976095  0.8504278   1.          1.          0.11277091\n",
      "   0.83944373  1.          1.          0.9504749   1.          1.          0.\n",
      "   0.          0.        ]]\n",
      "[[ 0.05351418  1.          0.10323512  0.04757227  1.          0.99647602\n",
      "   0.93065318  0.05458779  0.85545328  1.          1.          0.90311488\n",
      "   0.          0.79124963  0.12009479  0.12177104  1.          0.          0.\n",
      "   1.          0.        ]]\n",
      "[[ 0.15558538  0.08831743  0.1029053   0.          0.11908225  0.\n",
      "   0.99247185  0.08766586  0.09626857  1.          0.68658464  1.\n",
      "   0.84457763  0.96460852  0.80743939  0.86524604  1.          1.          0.\n",
      "   0.          0.        ]]\n",
      "[[ 0.06656844  0.12104317  0.020584    0.21607433  0.05834031  0.06795972\n",
      "   0.10866709  0.07387473  0.0904116   0.07718772  0.18001555  0.1721637\n",
      "   0.7318558   0.85257962  0.79285689  0.96615978  1.          0.          0.\n",
      "   0.          1.        ]]\n",
      "[[ 0.11263199  0.18342287  0.08332341  0.17771333  0.09544449  0.11123087\n",
      "   0.14671625  0.0964838   0.12430647  0.0993384   0.18785252  0.06586041\n",
      "   1.          0.88955057  0.79253841  0.99500359  1.          0.          0.\n",
      "   0.          1.        ]]\n",
      "[[ 0.09274876  0.05362253  0.01896788  0.06484735  0.06117763  0.13123822\n",
      "   0.13288304  0.06841438  0.06494538  0.10817402  0.06768652  0.12032049\n",
      "   0.92307249  1.          0.95557381  0.88803307  1.          0.          0.\n",
      "   0.          1.        ]]\n",
      "[[ 0.11701465  0.07779742  0.93419326  0.07815066  0.1162571   0.77252396\n",
      "   0.86232532  0.9573756   0.80121961  0.92366632  0.78582665  0.75153255\n",
      "   0.11348207  0.02101544  0.84552605  0.07158695  1.          0.          0.\n",
      "   1.          0.        ]]\n",
      "[[  1.39280183e-01   1.23894642e-01   3.87088140e-02   1.26239389e-01\n",
      "    5.69907675e-02   0.00000000e+00   9.00111622e-04   1.06337041e-02\n",
      "    3.63337037e-02   6.86480006e-02   0.00000000e+00   6.16909213e-02\n",
      "    8.34451585e-01   9.49454934e-01   9.89047697e-01   7.48951087e-01\n",
      "    1.00000000e+00   0.00000000e+00   0.00000000e+00   0.00000000e+00\n",
      "    1.00000000e+00]]\n",
      "[[ 0.02917693  0.13932825  0.10390145  0.01975379  0.08024618  0.20965111\n",
      "   0.07622225  0.13941572  0.85581021  0.11721353  0.80020123  0.0704993\n",
      "   1.          1.          0.74689516  0.9509817   1.          0.          1.\n",
      "   0.          0.        ]]\n",
      "[[ 0.06339781  0.2370959   0.72661078  0.09101851  0.11059145  0.99493089\n",
      "   0.95880369  0.99109423  1.          1.          0.92281544  0.89426808\n",
      "   0.00488358  0.05457453  1.          0.11679793  1.          0.          0.\n",
      "   1.          0.        ]]\n",
      "[[ 0.10243531  0.05662909  0.1597862   0.10506549  0.08302742  0.11488549\n",
      "   0.06523448  0.02794671  0.11524766  0.93768109  0.1799074   0.92140157\n",
      "   0.71380419  0.82234384  0.97594251  0.88601036  1.          0.          1.\n",
      "   0.          0.        ]]\n",
      "[[ 0.10695096  0.12094234  0.          0.10070868  0.12655755  0.14412767\n",
      "   0.15285872  0.07137989  0.8141815   0.11566363  0.83707381  0.09800594\n",
      "   0.65517276  1.          0.91744561  0.80102588  1.          0.          1.\n",
      "   0.          0.        ]]\n",
      "[[ 0.02154049  0.07649698  0.03187013  0.12567789  0.0688084   0.0630734\n",
      "   0.13919203  0.1733857   0.83473801  0.01335979  0.98557197  0.\n",
      "   0.82480337  1.          0.90427443  0.93385151  1.          0.          1.\n",
      "   0.          0.        ]]\n",
      "[[  1.47223746e-01   5.42639455e-02   9.25776974e-02   3.34799280e-02\n",
      "    9.75919043e-04   1.26921387e-01   2.72905101e-02   1.34029691e-01\n",
      "    6.25326476e-01   1.68628340e-01   8.13125919e-01   8.66770780e-02\n",
      "    9.55344011e-01   8.43202445e-01   9.11270813e-01   7.37848665e-01\n",
      "    1.00000000e+00   0.00000000e+00   1.00000000e+00   0.00000000e+00\n",
      "    0.00000000e+00]]\n",
      "[[ 0.78801148  0.05978861  0.01693527  0.11581129  0.85467225  0.91345725\n",
      "   0.19831163  0.25871541  1.          1.          0.84934925  0.17044328\n",
      "   1.          0.14175253  0.13669525  0.04737896  1.          0.          0.\n",
      "   1.          0.        ]]\n",
      "[[ 0.06365343  0.791105    0.12805482  0.17168728  0.86543123  0.84224057\n",
      "   1.          0.14409368  0.926087    0.88149489  0.93638573  0.8883158\n",
      "   0.11974028  0.9222253   0.03873127  0.08624913  1.          0.          0.\n",
      "   1.          0.        ]]\n",
      "[[ 0.1422161   0.1051321   0.01958087  0.15761754  0.06542148  0.06793193\n",
      "   0.          0.07896435  0.15114176  0.05402103  0.08078209  0.17656804\n",
      "   0.91117646  0.79550448  0.84584078  0.7998312   1.          0.          0.\n",
      "   0.          1.        ]]\n",
      "[[ 0.0863558   0.10141932  0.15136119  0.09166791  0.08583148  0.08919172\n",
      "   0.10131431  0.04198678  0.85604828  0.10372273  1.          0.13626611\n",
      "   0.93577782  0.77867249  0.81190009  1.          1.          0.          1.\n",
      "   0.          0.        ]]\n",
      "[[ 0.11070557  0.06021516  0.14072853  0.14942754  0.1338083   0.00361186\n",
      "   0.26542015  0.11303243  0.08951187  0.91569533  0.07642514  0.71211575\n",
      "   0.88819053  1.          0.92896264  1.          1.          0.          1.\n",
      "   0.          0.        ]]\n",
      "[[ 0.08271117  0.17040255  0.12074051  0.67346387  0.14638025  0.11805191\n",
      "   0.98721227  0.77664618  0.00536676  0.82497877  0.79837989  0.82547474\n",
      "   0.08222012  0.07335646  0.12998465  0.78708811  1.          0.          0.\n",
      "   1.          0.        ]]\n",
      "[[ 0.05737327  0.12633312  0.05772807  0.05497107  0.08296804  0.09951777\n",
      "   0.08218496  0.10793388  1.          0.20697372  1.          0.11364613\n",
      "   0.75272063  1.          0.97451439  0.9232932   1.          0.          1.\n",
      "   0.          0.        ]]\n",
      "[[ 0.08984175  0.16126558  0.13771581  0.14481693  0.09662391  0.12557425\n",
      "   0.05239938  0.94643041  0.11089817  0.14550802  0.91093741  0.77479427\n",
      "   0.10480465  0.89414802  0.91300571  0.94413239  1.          1.          0.\n",
      "   0.          0.        ]]\n",
      "[[ 0.1222588   0.02760966  0.07264692  0.13741827  0.08140194  0.16129896\n",
      "   0.09514041  0.14319244  0.06473823  0.0541926   0.05925138  0.09540375\n",
      "   0.9208716   0.91335455  0.81934328  0.91069817  1.          0.          0.\n",
      "   0.          1.        ]]\n",
      "[[ 0.02205756  0.14097483  0.10619692  0.09961302  0.07448677  0.1174011\n",
      "   0.14123674  0.17382987  0.06593148  0.05198877  0.04769596  0.18922012\n",
      "   0.96614727  0.82668683  0.88738776  1.          1.          0.          0.\n",
      "   0.          1.        ]]\n",
      "[[ 0.20449524  0.07837125  0.10420023  0.13880991  0.10113632  0.85088394\n",
      "   0.09778646  0.12862552  0.91639267  0.92435804  0.77718973  0.09342113\n",
      "   0.98562409  0.87901752  0.93807194  0.95629125  1.          1.          0.\n",
      "   0.          0.        ]]\n"
     ]
    }
   ],
   "source": [
    "def generate_data( data, n):\n",
    "    out = list()\n",
    "    for idx,tp in enumerate(terrainList):\n",
    "        for c in xrange(n):\n",
    "            x = blur(data[tp][random.randrange(len(data[tp]))])\n",
    "            y = [1 if i==idx else 0 for i in xrange(4)]\n",
    "            out.append(np.matrix( x[:-1] + [1] + y ))\n",
    "    random.shuffle(out)\n",
    "    return out\n",
    "\n",
    "results = generate_data( clean_data, 10)\n",
    "for result in results:\n",
    "    print result"
   ]
  },
  {
   "cell_type": "markdown",
   "metadata": {},
   "source": [
    "Use `learn_model` to learn a ANN model for classifying sensor images as hills, swamps, plains or forest. Use your `generate_data` function to generate a training set with 100 examples for each. **Set Verbose to True**\n",
    "\n",
    "**learn_model( data, nHidd, alpha, eps, verbose=False)**  \n",
    "Train the neural network by adjusting hidden and output layer weights. The program performs the feed-foward back-propagation algorithm by looping through all the data points in the data set. The algorithm runs until either\n",
    "1. the successive errors is less than $\\epsilon$ as specified in the parameter\n",
    "1. less than 20 rounds of training has happened\n",
    "1. error reaches less than 0.02\n",
    "1. less than 3 error increases in the last 5 rounds\n",
    "\n",
    "$\\alpha$ gets divided by 1.5 if there are more than 3 error increases in the last 5 rounds as long as $\\alpha$ is more than 0.05.\n",
    "\n",
    "If `verbose` is set to True, it prints the error and $\\alpha$ every 5 rounds.\n"
   ]
  },
  {
   "cell_type": "code",
   "execution_count": 11,
   "metadata": {
    "collapsed": false,
    "scrolled": false
   },
   "outputs": [
    {
     "name": "stdout",
     "output_type": "stream",
     "text": [
      "Round #0, error: 0.103195, alpha: 2.000000\n",
      "Round #5, error: 0.059938, alpha: 2.000000\n",
      "Round #10, error: 0.092054, alpha: 2.000000\n",
      "Round #15, error: 0.086839, alpha: 0.888889\n",
      "Final round #19, error: 0.067616, alpha: 0.263374\n"
     ]
    }
   ],
   "source": [
    "def learn_model( data, nHidd, alpha, eps, verbose=False):\n",
    "    wtHidd, wtOut = initTheta(data[0].shape[1], nHidd, 4, 0.5)\n",
    "\n",
    "    rd = 0\n",
    "    errDiff = np.zeros(10)\n",
    "    err, lastErr = 1, 0\n",
    "    while abs(err-lastErr) > eps and rd<30 and err>0.02 and \\\n",
    "        (errDiff[:5] > 0).sum() <= 3:\n",
    "        lastErr = err\n",
    "        for n,d in enumerate(data):\n",
    "            wtOutChg, wtHiddChg, err = ffbp(d, wtHidd, wtOut, alpha)\n",
    "            wtOut, wtHidd = (wtOut+wtOutChg, wtHidd+wtHiddChg) # update weights\n",
    "        errDiff = np.hstack( (err-lastErr, errDiff[:-1]) )\n",
    "        if (errDiff>0).sum() > 3 and alpha > 0.05:\n",
    "            alpha = (alpha/1.5)\n",
    "        \n",
    "        if rd%5==0 and verbose: # print every 50\n",
    "            print('Round #%u, error: %f, alpha: %f'%(rd,err,alpha))\n",
    "        rd += 1\n",
    "        \n",
    "    print('Final round #%u, error: %f, alpha: %f' % (rd,err, alpha) )\n",
    "    return wtHidd.tolist(), wtOut.tolist()\n",
    "\n",
    "\n",
    "train_data = generate_data( clean_data, 100)\n",
    "model = learn_model( train_data, 2, 2, 1e-7, True)"
   ]
  },
  {
   "cell_type": "markdown",
   "metadata": {},
   "source": [
    "Use `generate_data` to generate 100 blurred examples of each terrain and use this as your test data. Print out the first 10 results, one per line.\n",
    "\n",
    "**apply_model( model, test_data, labeled=False)**  \n",
    "Given two sets of $\\theta$, calculate the predicted output layer $\\hat{y}$ from the input data. For each set of outputs, find the index of the highest probability and the calssification of the terrain based on it. If `labeled` is false, it returns tuples of predicated classification as well as the highest probability. If labeled, then return tuples of actual classification and predicted classification."
   ]
  },
  {
   "cell_type": "code",
   "execution_count": 12,
   "metadata": {
    "collapsed": false
   },
   "outputs": [
    {
     "name": "stdout",
     "output_type": "stream",
     "text": [
      "[[ 0.22229888  0.14102788  0.07236336  0.05422195  0.0441275   0.15366904\n",
      "   1.          0.07720752  0.0112161   0.91324961  0.94207268  0.84130131\n",
      "   0.92804405  0.91940683  0.91658458  0.95905144  1.          1.          0.\n",
      "   0.          0.        ]]\n",
      "[[ 0.07927123  0.15000461  0.04932453  0.08896673  0.1785252   0.03080604\n",
      "   0.07787041  0.0592698   0.83915941  0.14600686  0.92881395  0.02352398\n",
      "   0.85559033  1.          0.9926231   0.97240795  1.          0.          1.\n",
      "   0.          0.        ]]\n",
      "[[ 0.16636736  0.06008912  0.17966122  0.26393172  0.10286862  0.10236926\n",
      "   0.10104248  0.08866445  0.04882229  0.01043191  0.13468809  0.09749608\n",
      "   0.7954086   0.83460157  0.85887267  0.76154223  1.          0.          0.\n",
      "   0.          1.        ]]\n",
      "[[ 0.18346198  0.17180483  0.04878709  0.08448029  0.15966097  0.11932429\n",
      "   0.07039341  0.13673704  0.15713047  0.03636245  0.05861221  0.06902607\n",
      "   0.95591848  0.94146373  0.78857355  0.95377103  1.          0.          0.\n",
      "   0.          1.        ]]\n",
      "[[ 0.03447127  0.0959661   0.1068395   0.18961439  0.83119624  0.05299729\n",
      "   0.05977671  0.16179218  1.          1.          0.10829582  0.15901587\n",
      "   0.86587137  0.85430452  0.98781962  0.08571163  1.          1.          0.\n",
      "   0.          0.        ]]\n",
      "[[ 0.04029444  0.05162064  0.00348548  0.05904194  0.12972296  0.16988275\n",
      "   0.11339715  0.93624526  0.10797823  0.05471335  0.88156581  0.9692407\n",
      "   0.07302701  0.94115054  0.87025591  0.80527923  1.          1.          0.\n",
      "   0.          0.        ]]\n",
      "[[ 0.11874464  0.06229584  0.06276769  0.01085453  0.11764716  0.12532389\n",
      "   0.06224726  0.09227885  0.1092301   0.12188113  0.01842193  0.10383152\n",
      "   0.83786216  0.89728346  0.86830672  0.87915811  1.          0.          0.\n",
      "   0.          1.        ]]\n",
      "[[ 0.10232878  0.12521995  0.05819614  0.0975349   0.13690154  0.14650213\n",
      "   0.08942885  0.09205126  0.93971136  0.0766305   0.88128382  0.09438617\n",
      "   0.7344164   0.93330055  1.          0.90350381  1.          0.          1.\n",
      "   0.          0.        ]]\n",
      "[[ 0.04747448  0.12909517  0.09322914  0.          0.98328421  0.14356232\n",
      "   0.11049933  0.13166695  0.83377876  0.8412022   0.16295759  0.0938208\n",
      "   0.72549179  0.87895021  0.76490966  0.05951987  1.          1.          0.\n",
      "   0.          0.        ]]\n",
      "[[ 0.05023658  0.17104342  0.16418333  0.8980116   0.12684505  0.13206119\n",
      "   0.86915445  0.79999679  0.10462094  0.87533156  0.90087939  0.77013911\n",
      "   0.07300486  0.04442898  0.1187123   0.7127217   1.          0.          0.\n",
      "   1.          0.        ]]\n",
      "0\n"
     ]
    }
   ],
   "source": [
    "test_data = generate_data( clean_data, 100)\n",
    "for x in xrange(10):\n",
    "    print test_data[x]\n",
    "\n",
    "\n",
    "def apply_model( model, test_data, labeled=False):\n",
    "    wtHidd, wtOut = np.matrix(model[0]), np.matrix(model[1])\n",
    "    categ, prob, actual = list(), list(), list()\n",
    "    for n, d in enumerate(test_data):\n",
    "        x, y = np.split( d.T, [-4])\n",
    "        yHat = feedForward(x, wtHidd, wtOut)[1]\n",
    "        prob.append(yHat.max())\n",
    "        categ.append(yHat.argmax())\n",
    "        actual.append(y.argmax())\n",
    "        \n",
    "    if labeled:\n",
    "        return zip(categ, actual)\n",
    "    else:\n",
    "        return zip(categ, prob)\n",
    "\n",
    "\n",
    "results = apply_model( model, test_data)\n",
    "#print results\n",
    "print sum([1 if x[0]==x[1] else 0 for x in results])"
   ]
  },
  {
   "cell_type": "markdown",
   "metadata": {},
   "source": [
    "Now that you're pretty sure your algorithm works (the error rate during training is going down, and you can evaluate `apply_model` results for its error rate, learn validation curves:\n",
    "\n",
    "**generate_validation_curves(hyperParm, data)**  \n",
    "Plots the validation curves for both training and testing data. The `hyperParm` input is the number of nodes in the hidden layer. The function plots both the training error rate and the testing error rate."
   ]
  },
  {
   "cell_type": "code",
   "execution_count": 13,
   "metadata": {
    "collapsed": true
   },
   "outputs": [],
   "source": [
    "def generate_validation_curves(hyperParm, data):\n",
    "    plt.plot(hyperParm, zip(*data)[0], label='Training Data')\n",
    "    plt.plot(hyperParm, zip(*data)[1], label='Testing Data')\n",
    "    plt.legend(loc=0)\n",
    "    plt.axis([min(hyperParm)-0.2, max(hyperParm)+0.2, -0.1, 1.05])\n",
    "    plt.show()\n",
    "    "
   ]
  },
  {
   "cell_type": "code",
   "execution_count": 14,
   "metadata": {
    "collapsed": false
   },
   "outputs": [
    {
     "name": "stdout",
     "output_type": "stream",
     "text": [
      "Final round #8, error: 0.051651, alpha: 1.333333\n",
      "Final round #7, error: 0.019238, alpha: 2.000000\n",
      "Final round #6, error: 0.018590, alpha: 2.000000\n",
      "Final round #7, error: 0.018848, alpha: 2.000000\n",
      "Final round #5, error: 0.019129, alpha: 2.000000\n"
     ]
    },
    {
     "data": {
      "image/png": "[encoded data removed]",
      "text/plain": [
       "<matplotlib.figure.Figure at 0x7fc2da3c2b50>"
      ]
     },
     "metadata": {},
     "output_type": "display_data"
    }
   ],
   "source": [
    "train = generate_data( clean_data, 100)\n",
    "test  = generate_data( clean_data, 100)\n",
    "\n",
    "hyperParm = [2, 3, 4, 6, 8]\n",
    "valCurveData = list()\n",
    "for n in hyperParm:\n",
    "    model = learn_model( train, n, 2, 1e-7, False)\n",
    "    train_results = apply_model( model, train, True)\n",
    "    test_results = apply_model( model, test, True)\n",
    "    valCurveData.append(( errorRate(train_results),errorRate(test_results) ))\n",
    "\n",
    "generate_validation_curves(hyperParm, valCurveData)"
   ]
  },
  {
   "cell_type": "markdown",
   "metadata": {},
   "source": [
    "which number of hidden nodes is best? generally the more the better"
   ]
  }
 ],
 "metadata": {
  "kernelspec": {
   "display_name": "Python 2",
   "language": "python",
   "name": "python2"
  },
  "language_info": {
   "codemirror_mode": {
    "name": "ipython",
    "version": 2
   },
   "file_extension": ".py",
   "mimetype": "text/x-python",
   "name": "python",
   "nbconvert_exporter": "python",
   "pygments_lexer": "ipython2",
   "version": "2.7.12"
  }
 },
 "nbformat": 4,
 "nbformat_minor": 1
}
