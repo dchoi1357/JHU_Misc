{
 "cells": [
  {
   "cell_type": "markdown",
   "metadata": {},
   "source": [
    "# Module 7 - Programming Assignment\n",
    "\n",
    "## Directions\n",
    "\n",
    "There are general instructions on Blackboard and in the Syllabus for Programming Assignments. This Notebook also has instructions specific to this assignment. Read all the instructions carefully and make sure you understand them. Please ask questions on the discussion boards or email me at `EN605.445@gmail.com` if you do not understand something.\n",
    "\n",
    "<div style=\"background: mistyrose; color: firebrick; border: 2px solid darkred; padding: 5px; margin: 10px;\">\n",
    "You must follow the directions *exactly* or you will get a 0 on the assignment.\n",
    "</div>\n",
    "\n",
    "You must submit a zip file of your assignment and associated files (if there are any) to Blackboard. The zip file will be named after you JHED ID: `<jhed_id>.zip`. It will not include any other information. Inside this zip file should be the following directory structure:\n",
    "\n",
    "```\n",
    "<jhed_id>\n",
    "    |\n",
    "    +--module-01-programming.ipynb\n",
    "    +--module-01-programming.html\n",
    "    +--(any other files)\n",
    "```\n",
    "\n",
    "For example, do not name  your directory `programming_assignment_01` and do not name your directory `smith122_pr1` or any else. It must be only your JHED ID.\n",
    "\n",
    "Imports here if needed."
   ]
  },
  {
   "cell_type": "code",
   "execution_count": 1,
   "metadata": {
    "collapsed": true
   },
   "outputs": [],
   "source": [
    "import copy"
   ]
  },
  {
   "cell_type": "markdown",
   "metadata": {},
   "source": [
    "# Forward Planner\n",
    "\n",
    "## Unify\n",
    "\n",
    "Use the accompanying `unification.py` file for unification. For this assignment, you're almost certainly going to want to be able to:\n",
    "\n",
    "1. specify the problem in terms of S-expressions.\n",
    "2. parse them.\n",
    "3. work with the parsed versions.\n",
    "\n",
    "`parse` and `unification` work exactly like the programming assignment for last time."
   ]
  },
  {
   "cell_type": "code",
   "execution_count": 2,
   "metadata": {
    "collapsed": false
   },
   "outputs": [],
   "source": [
    "from unification import parse, unification"
   ]
  },
  {
   "cell_type": "markdown",
   "metadata": {},
   "source": [
    "## Forward Planner\n",
    "\n",
    "In this assigment, you're going to implement a Forward Planner. What does that mean? If you look in your book, you will not find pseudocode for a forward planner. It just says \"use state space search\" but this is less than helpful and it's a bit more complicated than that. **(but please please do not try to implement STRIPS or GraphPlan...that is wrong).**\n",
    "\n",
    "At a high level, a forward planner takes the current state of the world $S_0$ and attempts to derive a plan, basically by Depth First Search. We have all the ingredients we said we would need in Module 1: states, actions, a transition function and a goal test. We have a set of predicates that describe a state (and therefore all possible states), we have actions and we have, at least, an implicit transition function: applying an action in a state causes the state to change as described by the add and delete lists.\n",
    "\n",
    "Let's say we have a drill that's an item, two places such as home and store, and we know that I'm at home and the drill is at the store and I want to go buy a drill (have it be at home). We might represent that as:\n",
    "\n",
    "<code>\n",
    "start_state = [\n",
    "    \"(item Drill)\",\n",
    "    \"(place Home)\",\n",
    "    \"(place Store)\",\n",
    "    \"(agent Me)\",\n",
    "    \"(at Me Home)\",\n",
    "    \"(at Drill Store)\"\n",
    "]\n",
    "</code>\n",
    "\n",
    "And we have a goal state:\n",
    "\n",
    "<code>\n",
    "goal = [\n",
    "    \"(item Drill)\",\n",
    "    \"(place Home)\",\n",
    "    \"(place Store)\",\n",
    "    \"(agent Me)\",\n",
    "    \"(at Me Home)\",\n",
    "    \"(at Drill Me)\"\n",
    "]\n",
    "</code>\n",
    "\n",
    "The actions/operators are:\n",
    "\n",
    "<code>\n",
    "actions = {\n",
    "    \"drive\": {\n",
    "        \"action\": \"(drive ?agent ?from ?to)\",\n",
    "        \"conditions\": [\n",
    "            \"(agent ?agent)\",\n",
    "            \"(place ?from)\",\n",
    "            \"(place ?to)\",\n",
    "            \"(at ?agent ?from)\"\n",
    "        ],\n",
    "        \"add\": [\n",
    "            \"(at ?agent ?to)\"\n",
    "        ],\n",
    "        \"delete\": [\n",
    "            \"(at ?agent ?from)\"\n",
    "        ]\n",
    "    },\n",
    "    \"buy\": {\n",
    "        \"action\": \"(buy ?purchaser ?seller ?item)\",\n",
    "        \"conditions\": [\n",
    "            \"(item ?item)\",\n",
    "            \"(place ?seller)\",\n",
    "            \"(agent ?purchaser)\",\n",
    "            \"(at ?item ?seller)\",\n",
    "            \"(at ?purchaser ?seller)\"\n",
    "        ],\n",
    "        \"add\": [\n",
    "            \"(at ?item ?purchaser)\"\n",
    "        ],\n",
    "        \"delete\": [\n",
    "            \"(at ?item ?seller)\"\n",
    "        ]\n",
    "    }\n",
    "}\n",
    "</code>\n",
    "\n",
    "These will all need to be parsed from s-expressions to the underlying Python representation before you can use them. You might as well do it at the start of your algorithm, once. The order of the conditions is *not* arbitrary. It is much, much better for the unification and backtracking if you have the \"type\" predicates (item, place, agent) before the more complex ones. Trust me on this.\n",
    "\n",
    "As for the algorithm itself, there is going to be an *outer* level of search and an *inner* level of search.\n",
    "\n",
    "The *outer* level of search that is exactly what I describe here: you have a state, you generate successor states by applying actions to the current state, you examine those successor states as we did at the first week of the semester and if one is the goal you stop, if you see a repeat state, you put it on the explored list (you should implement graph search not tree search). What could be simpler?\n",
    "\n",
    "It turns out the Devil is in the details. There is an *inner* level of search hidden in \"you generate successor states by applying actions to the current state\". Where?\n",
    "\n",
    "How do you know if an action applies in a state? Only if the preconditions successfully unify with the current state. That seems easy enough...you check each predicate in the conditions to see if it unifies with the current state and if it does, you use the substitution list on the action, the add and delete lists and create the successor state based on them.\n",
    "\n",
    "Except for one small problem...there may be more than one way to unify an action with the current state. You must essentially search for all successful unifications of the candidate action and the current state. This is where my question through the semester appliesm, \"how would you modify state space search to return all the paths to the goal?\"\n",
    "\n",
    "Unification can be seen as state space search by trying to unify the first precondition with the current state, progressively working your way through the precondition list. If you fail at any point, you may need to backtrack because there might have been another unification of that predicate that would succeed. Similarly, as already mentioned, there may be more than one.\n",
    "\n",
    "So...by using unification and a properly defined <code>successors</code> function, you should be able to apply graph based search to the problem and return a \"path\" through the states from the initial state to the goal. You'll definitely want to use graph-based search since <code>( drive Me Store), (drive Me Home), (drive Me Store), (drive Me Home), (drive Me Store), (buy Me Store Drill), (drive Me Home)</code> is a valid plan.\n",
    "\n",
    "Your function should return the plan...but if you pass an extra debug=True parameter, it should also return the intermediate *states* as well as the actions.\n",
    "\n",
    "-----"
   ]
  },
  {
   "cell_type": "markdown",
   "metadata": {},
   "source": [
    "### Helper Functions ###\n",
    "\n",
    "**applySubs(xprsn, sub)**  \n",
    "This function applies the substitution to the expression in the argument. The algorithm goes over each parts of the expression, and replace any variable with a constant if the variable has a substitution. If the part of the expression is another nested expression, it recurs into it and apply the same substitution.\n",
    "\n",
    "**parseAll(ls)**  \n",
    "The function serves as a general purpose parser. It recursively parses both nested list and dictionaries with a stopping point of a string. It is used to parse state, goals, and all sub-elements of actions (e.g. preconditions, adds, deletes).\n",
    "\n",
    "**deParser(expr)**  \n",
    "Recursive de-parser of expressions. The function returns the S-expression form of the input.\n",
    "\n",
    "**setifyState(state)**  \n",
    "Encode the current state as a set. The function first de-parses all elements of the state into S-expressions, and store these S-expressions as sets. This will allow two states to be easily compared, as two states are equal if and only if the two sets of statuses are the same.\n",
    "\n",
    "**multiVarSameSub(estab, new)**  \n",
    "This function checks if two substitutions assign any two different variables to the same object. The function first constructs an inverse dictionary (which is 1-to-1 since substitution are 1-to-1) of the `estab` input and looks through all assignments of `new` to ensure that the variable assignment are different. This function is used to detect inconsistent assignments during action instantiation.\n",
    "\n",
    "**actionInstances(inConds, state)**  \n",
    "The function instantiates actions based on the input state and preconditions of the action schema. The function performs a depth-first search by matching preconditions with the states. It tries the first condition, attempts to match it with all the preconditions, and for every matched preconditions, it starts a branch. This continues on until all preconditions are matched with a state. \n",
    "\n",
    "Once the process is over, it returns all different actions as substitution schemes that maps each variable to a specific constant.\n",
    "\n",
    "**updateState(states, action, subs)**  \n",
    "The function takes a state as an input, a specific action as a dictionary, with key of `'add'` and `'delete'`, and a substitution as a instantiated action, and returns the updated state. The function first applies the substitution scheme to the `'add'` and `'delete'`, and adjust the state accordingly.\n",
    "\n",
    "**reprPlan(path, plan, debug)**  \n",
    "The function returns a string that lists the instantiated actions and the terminal state, and if `debug` is True, also prints the starting and intermediate states."
   ]
  },
  {
   "cell_type": "code",
   "execution_count": 3,
   "metadata": {
    "collapsed": false
   },
   "outputs": [],
   "source": [
    "def applySubs(expr, sub):\n",
    "    return [applySubs(t,sub) if type(t)==list \\\n",
    "            else sub[t] if t in sub else t for t in expr]\n",
    "\n",
    "def parseAll(ls):\n",
    "    if type(ls) == str:\n",
    "        return parse(ls)\n",
    "    elif type(ls) == list:\n",
    "        return [parseAll(l) for l in ls]\n",
    "    elif type(ls) == dict:\n",
    "        return dict([(k,parseAll(ls[k])) for k in ls])\n",
    "    else:\n",
    "        raise TypeError('Cannot parse type: ' + repr(type(ls)))\n",
    "\n",
    "def deParse(expr):\n",
    "    tmp = [e if type(e)==str else deParse(e) for e in expr]\n",
    "    return '(' + ' '.join(tmp) + ')'\n",
    "\n",
    "def setifyState(state):\n",
    "    return set([deParse(st) for st in state])\n",
    "\n",
    "def multiVarSameSub(estab, new):\n",
    "    invEstab = dict((v, k) for k, v in estab.items())\n",
    "    return any([invEstab[v]!=k for k,v in new.items() if v in invEstab])\n",
    "\n",
    "def actionInstances(inConds, state):\n",
    "    acts = list()\n",
    "    if len(inConds) > len(state):\n",
    "        return acts # must have more states than preconditions\n",
    "    p = [( {}, copy.deepcopy(inConds))]\n",
    "    while len(p) > 0:\n",
    "        sub, conds = p.pop()\n",
    "        for n,s in enumerate(state):\n",
    "            tmp = unification(conds[0],s)\n",
    "            if tmp != False and not multiVarSameSub(sub,tmp):\n",
    "                tmp.update(sub)\n",
    "                if len(conds) == 1:\n",
    "                    acts.append(tmp)\n",
    "                else:\n",
    "                    p.append((tmp, [applySubs(c,tmp) for c in conds[1:]]))\n",
    "    return acts\n",
    "\n",
    "def updateState(states, action, subs):\n",
    "    adds = applySubs(action['add'], subs)\n",
    "    dels = applySubs(action['delete'], subs)\n",
    "    return [st for st in states if st not in dels] + adds\n",
    "\n",
    "def reprPlan(path, plan, debug):\n",
    "    out = []\n",
    "    for n,pl in enumerate(plan):\n",
    "        if debug:\n",
    "            out.append('State: %s'%[deParse(st) for st in path[n]])\n",
    "        out.append('Action: %s'%deParse(pl))\n",
    "    out.append('Final state: %s'%[deParse(st) for st in path[-1]])\n",
    "    return '\\n'.join(out)"
   ]
  },
  {
   "cell_type": "markdown",
   "metadata": {},
   "source": [
    "(you can just overwrite that one and add as many others as you need). Remember to follow the **Guidelines**.\n",
    "\n",
    "\n",
    "-----\n",
    "\n",
    "So you need to implement `forward_planner` as described above. `start_state`, `goal` and `actions` should all have the layout above and be s-expressions.\n",
    "\n",
    "Your implementation should return the plan as a **List of instantiated actions**. If `debug=True`, you should print out the intermediate states of the plan as well."
   ]
  },
  {
   "cell_type": "markdown",
   "metadata": {},
   "source": [
    "### Main Program ###\n",
    "\n",
    "**successors(state, actions, explored)**  \n",
    "The function gives the successor states of the current state based on the `actions` input. The functino uses the `actionInstances(...)` function and for all actions which does not lead to a state that is already explored, it returns the new state, the substitution schemes, as well as the text veresion of the instantiated action.\n",
    "\n",
    "**forward_planner( start_state, goal, actions, debug=False)**  \n",
    "The main program. It performs a depth-first search by starting with the `start_state`, obtaining the successors, and pushing the successors onto a stack. It repeats until a plan which leads to the goal state is found. The program then calls that `reprPlan(...)` function and returns the result.\n",
    "\n",
    "The program first parses the starting state and the actions dictionary into usable form. It stores goal as a set, so that the various states could be made into set and check if the goal had been reached. If the program fails to find a solution, it returns `None`."
   ]
  },
  {
   "cell_type": "code",
   "execution_count": 4,
   "metadata": {
    "collapsed": false
   },
   "outputs": [],
   "source": [
    "def successors(state, actions, explored):\n",
    "    out = list()\n",
    "    for a in actions:\n",
    "        subs = actionInstances(actions[a]['conditions'], state)\n",
    "        # print subs\n",
    "        if len(subs) > 0:\n",
    "            newStates = [updateState(state, actions[a], s) for s in subs]\n",
    "            actionTxts = [applySubs(actions[a]['action'], s) for s in subs]\n",
    "            out.extend( zip(newStates, subs, actionTxts) )\n",
    "    return [(st,u,a) for st,u,a in out if setifyState(st) not in explored]\n",
    "\n",
    "\n",
    "def forward_planner( start_state, goal, actions, debug=False):\n",
    "    start_state,actions = parseAll(start_state), parseAll(actions)\n",
    "    goal = setifyState(parseAll(goal))\n",
    "    \n",
    "    explored = []\n",
    "    s = [([start_state], [])]    \n",
    "    while len(s) > 0:\n",
    "        (path, plan) = s.pop()\n",
    "        state = path[-1] # most recent element on path is the current state\n",
    "        if goal == setifyState(state):\n",
    "            return reprPlan(path, plan, debug)\n",
    "        explored.append(setifyState(state))\n",
    "        instances = successors(state, actions, explored)\n",
    "        for st, sub, txt in instances:\n",
    "            s.append((path+[st], plan+[txt]))\n",
    "    \n",
    "    return None # failed to find solution"
   ]
  },
  {
   "cell_type": "markdown",
   "metadata": {},
   "source": [
    "You will be solving the problem from above. Here is the start state:"
   ]
  },
  {
   "cell_type": "code",
   "execution_count": 5,
   "metadata": {
    "collapsed": false
   },
   "outputs": [],
   "source": [
    "start_state = [\n",
    "    \"(item Drill)\",\n",
    "    \"(place Home)\",\n",
    "    \"(place Store)\",\n",
    "    \"(agent Me)\",\n",
    "    \"(at Me Home)\",\n",
    "    \"(at Drill Store)\"\n",
    "]"
   ]
  },
  {
   "cell_type": "markdown",
   "metadata": {},
   "source": [
    "The goal state:"
   ]
  },
  {
   "cell_type": "code",
   "execution_count": 6,
   "metadata": {
    "collapsed": true
   },
   "outputs": [],
   "source": [
    "goal = [\n",
    "    \"(item Drill)\",\n",
    "    \"(place Home)\",\n",
    "    \"(place Store)\",\n",
    "    \"(agent Me)\",\n",
    "    \"(at Me Home)\",\n",
    "    \"(at Drill Me)\"\n",
    "]"
   ]
  },
  {
   "cell_type": "markdown",
   "metadata": {},
   "source": [
    "and the actions/operators:"
   ]
  },
  {
   "cell_type": "code",
   "execution_count": 7,
   "metadata": {
    "collapsed": false
   },
   "outputs": [],
   "source": [
    "actions = {\n",
    "    \"drive\": {\n",
    "        \"action\": \"(drive ?agent ?from ?to)\",\n",
    "        \"conditions\": [\n",
    "            \"(agent ?agent)\",\n",
    "            \"(place ?from)\",\n",
    "            \"(place ?to)\",\n",
    "            \"(at ?agent ?from)\"\n",
    "        ],\n",
    "        \"add\": [\n",
    "            \"(at ?agent ?to)\"\n",
    "        ],\n",
    "        \"delete\": [\n",
    "            \"(at ?agent ?from)\"\n",
    "        ]\n",
    "    },\n",
    "    \"buy\": {\n",
    "        \"action\": \"(buy ?purchaser ?seller ?item)\",\n",
    "        \"conditions\": [\n",
    "            \"(item ?item)\",\n",
    "            \"(place ?seller)\",\n",
    "            \"(agent ?purchaser)\",\n",
    "            \"(at ?item ?seller)\",\n",
    "            \"(at ?purchaser ?seller)\"\n",
    "        ],\n",
    "        \"add\": [\n",
    "            \"(at ?item ?purchaser)\"\n",
    "        ],\n",
    "        \"delete\": [\n",
    "            \"(at ?item ?seller)\"\n",
    "        ]\n",
    "    }\n",
    "}"
   ]
  },
  {
   "cell_type": "code",
   "execution_count": 8,
   "metadata": {
    "collapsed": false
   },
   "outputs": [
    {
     "name": "stdout",
     "output_type": "stream",
     "text": [
      "Action: (drive Me Home Store)\n",
      "Action: (buy Me Store Drill)\n",
      "Action: (drive Me Store Home)\n",
      "Final state: ['(item Drill)', '(place Home)', '(place Store)', '(agent Me)', '(at Drill Me)', '(at Me Home)']\n"
     ]
    }
   ],
   "source": [
    "plan = forward_planner( start_state, goal, actions)\n",
    "print plan"
   ]
  },
  {
   "cell_type": "code",
   "execution_count": 9,
   "metadata": {
    "collapsed": false
   },
   "outputs": [
    {
     "name": "stdout",
     "output_type": "stream",
     "text": [
      "State: ['(item Drill)', '(place Home)', '(place Store)', '(agent Me)', '(at Me Home)', '(at Drill Store)']\n",
      "Action: (drive Me Home Store)\n",
      "State: ['(item Drill)', '(place Home)', '(place Store)', '(agent Me)', '(at Drill Store)', '(at Me Store)']\n",
      "Action: (buy Me Store Drill)\n",
      "State: ['(item Drill)', '(place Home)', '(place Store)', '(agent Me)', '(at Me Store)', '(at Drill Me)']\n",
      "Action: (drive Me Store Home)\n",
      "Final state: ['(item Drill)', '(place Home)', '(place Store)', '(agent Me)', '(at Drill Me)', '(at Me Home)']\n"
     ]
    }
   ],
   "source": [
    "plan_with_states = forward_planner( start_state, goal, actions, debug=True)\n",
    "print plan_with_states"
   ]
  },
  {
   "cell_type": "markdown",
   "metadata": {},
   "source": [
    "### Own test ###\n",
    "\n",
    "Using class example, check to see if program can solve the problem."
   ]
  },
  {
   "cell_type": "code",
   "execution_count": 10,
   "metadata": {
    "collapsed": false
   },
   "outputs": [],
   "source": [
    "actions2 = {\n",
    "     \"pick_up\": {\n",
    "        \"action\": \"(pick_up ?x)\",\n",
    "        \"conditions\": [\n",
    "            \"(on_table ?x)\",\n",
    "            \"(clear ?x)\",\n",
    "            \"(handempty)\"\n",
    "        ],\n",
    "        \"add\": [\n",
    "            \"(holding ?x)\"\n",
    "        ],\n",
    "        \"delete\": [\n",
    "            \"(on_table ?x)\",\n",
    "            \"(clear ?x)\",\n",
    "            \"(handempty)\"\n",
    "        ]\n",
    "    },\n",
    "    \"put_down\": {\n",
    "        \"action\": \"(put_down ?x)\",\n",
    "        \"conditions\": [\n",
    "            \"(holding ?x)\"\n",
    "        ],\n",
    "        \"add\": [\n",
    "            \"(on_table ?x)\",\n",
    "            \"(clear ?x)\",\n",
    "            \"(handempty)\"\n",
    "        ],\n",
    "        \"delete\": [\n",
    "            \"(holding ?x)\"\n",
    "        ]\n",
    "    },\n",
    "    \"stack\": {\n",
    "        \"action\": \"(stack ?x ?y)\",\n",
    "        \"conditions\": [\n",
    "            \"(holding ?x)\",\n",
    "            \"(clear ?y)\"\n",
    "        ],\n",
    "        \"add\": [\n",
    "            \"(on ?x ?y)\",\n",
    "            \"(clear ?x)\",\n",
    "            \"(handempty)\"\n",
    "        ],\n",
    "        \"delete\": [\n",
    "            \"(holding ?x)\",\n",
    "            \"(clear ?y)\"\n",
    "        ]\n",
    "    },\n",
    "    \"unstack\": {\n",
    "        \"action\": \"(unstack ?x ?y)\",\n",
    "        \"conditions\": [\n",
    "            \"(on ?x ?y)\",\n",
    "            \"(clear ?x)\",\n",
    "            \"(handempty)\"\n",
    "        ],\n",
    "        \"add\": [\n",
    "            \"(holding ?x)\",\n",
    "            \"(clear ?y)\"\n",
    "        ],\n",
    "        \"delete\": [\n",
    "            \"(clear ?x)\",\n",
    "            \"(on ?x ?y)\",\n",
    "            \"(handempty)\"\n",
    "        ]\n",
    "    }\n",
    "}"
   ]
  },
  {
   "cell_type": "code",
   "execution_count": 11,
   "metadata": {
    "collapsed": true
   },
   "outputs": [],
   "source": [
    "start2 = [\n",
    "    \"(on_table B)\",\n",
    "    \"(on_table A)\",\n",
    "    \"(on C A)\",\n",
    "    \"(clear B)\",\n",
    "    \"(clear C)\",\n",
    "    \"(handempty)\"\n",
    "]\n",
    "\n",
    "goal2 = goal = [\n",
    "    \"(on A C)\",\n",
    "    \"(on C B)\",\n",
    "    \"(clear A)\",\n",
    "    \"(handempty)\",\n",
    "    \"(on_table B)\",\n",
    "]"
   ]
  },
  {
   "cell_type": "code",
   "execution_count": 12,
   "metadata": {
    "collapsed": false
   },
   "outputs": [
    {
     "name": "stdout",
     "output_type": "stream",
     "text": [
      "State: ['(on_table B)', '(on_table A)', '(on C A)', '(clear B)', '(clear C)', '(handempty)']\n",
      "Action: (unstack C A)\n",
      "State: ['(on_table B)', '(on_table A)', '(clear B)', '(holding C)', '(clear A)']\n",
      "Action: (stack C B)\n",
      "State: ['(on_table B)', '(on_table A)', '(clear A)', '(on C B)', '(clear C)', '(handempty)']\n",
      "Action: (pick_up A)\n",
      "State: ['(on_table B)', '(on C B)', '(clear C)', '(holding A)']\n",
      "Action: (stack A C)\n",
      "Final state: ['(on_table B)', '(on C B)', '(on A C)', '(clear A)', '(handempty)']\n"
     ]
    }
   ],
   "source": [
    "plan2 = forward_planner( start2, goal2, actions2, True)\n",
    "print plan2"
   ]
  }
 ],
 "metadata": {
  "kernelspec": {
   "display_name": "Python 2",
   "language": "python",
   "name": "python2"
  },
  "language_info": {
   "codemirror_mode": {
    "name": "ipython",
    "version": 2
   },
   "file_extension": ".py",
   "mimetype": "text/x-python",
   "name": "python",
   "nbconvert_exporter": "python",
   "pygments_lexer": "ipython2",
   "version": "2.7.12"
  }
 },
 "nbformat": 4,
 "nbformat_minor": 0
}
