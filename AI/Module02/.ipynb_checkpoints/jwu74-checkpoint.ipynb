{
 "cells": [
  {
   "cell_type": "markdown",
   "metadata": {},
   "source": [
    "# Module 2 - Programming Assignment\n",
    "\n",
    "## Directions\n",
    "\n",
    "There are general instructions on Blackboard and in the Syllabus for Programming Assignments. This Notebook also has instructions specific to this assignment. Read all the instructions carefully and make sure you understand them. Please ask questions on the discussion boards or email me at `EN605.445@gmail.com` if you do not understand something.\n",
    "\n",
    "<div style=\"background: mistyrose; color: firebrick; border: 2px solid darkred; padding: 5px; margin: 10px;\">\n",
    "You must follow the directions *exactly* or you will get a 0 on the assignment.\n",
    "</div>\n",
    "\n",
    "You must submit a zip file of your assignment and associated files (if there are any) to Blackboard. The zip file will be named after you JHED ID: `<jhed_id>.zip`. It will not include any other information. Inside this zip file should be the following directory structure:\n",
    "\n",
    "```\n",
    "<jhed_id>\n",
    "    |\n",
    "    +--module-02-programming.ipynb\n",
    "    +--module-02-programming.html\n",
    "    +--(any other files)\n",
    "```\n",
    "\n",
    "For example, do not name  your directory `programming_assignment_01` and do not name your directory `smith122_pr1` or any else. It must be only your JHED ID."
   ]
  },
  {
   "cell_type": "markdown",
   "metadata": {},
   "source": [
    "## Solving Normal Form Games\n",
    "\n",
    "Add whatever additional imports you require here. Stick with the standard libraries and those required by the class. The import gives you access to these functions: http://ipython.org/ipythondoc/stable/api/generated/IPython.core.display.html (Copy this link) Which, among other things, will permit you to display HTML as the result of evaluated code (see HTML() or display_html())."
   ]
  },
  {
   "cell_type": "code",
   "execution_count": 114,
   "metadata": {
    "collapsed": true
   },
   "outputs": [],
   "source": [
    "from IPython.core.display import *\n",
    "import copy\n",
    "from sys import maxint"
   ]
  },
  {
   "cell_type": "markdown",
   "metadata": {},
   "source": [
    "In the lecture we talked about the Prisoner's Dilemma game, shown here in Normal Form:\n",
    "\n",
    "Player 1 / Player 2  | Defect | Cooperate\n",
    "------------- | ------------- | -------------\n",
    "Defect  | -5, -5 | -1, -10\n",
    "Cooperate  | -10, -1 | -2, -2\n",
    "\n",
    "where the payoff to Player 1 is the left number and the payoff to Player 2 is the right number. We can represent each payoff cell as a Tuple: `(-5, -5)`, for example. We can represent each row as a List of Tuples: `[(-5, -5), (-1, -10)]` would be the first row and the entire table as a List of Lists:"
   ]
  },
  {
   "cell_type": "code",
   "execution_count": 25,
   "metadata": {
    "collapsed": false
   },
   "outputs": [
    {
     "name": "stdout",
     "output_type": "stream",
     "text": [
      "[[(-5, -5), (-1, -10)], [(-10, -1), (-2, -2)]]\n"
     ]
    }
   ],
   "source": [
    "prisoners_dilemma = [\n",
    " [( -5, -5), (-1,-10)],\n",
    " [(-10, -1), (-2, -2)]]\n",
    "\n",
    "print(prisoners_dilemma)\n",
    "\n",
    "\n"
   ]
  },
  {
   "cell_type": "markdown",
   "metadata": {},
   "source": [
    "in which case the strategies are represented by indices into the List of Lists. For example, `(Defect, Cooperate)` for the above game becomes `prisoners_dilemma[ 0][ 1]` and returns the payoff `(-1, -10)` because 0 is the first row of the table (\"Defect\" for Player 1) and 1 is the 2nd column of the row (\"Cooperate\" for Player 2).\n",
    "\n",
    "For this assignment, you are going write a function that uses Successive Elimination of Dominated Strategies (SEDS) to find the **pure strategy** Nash Equilibrium of a Normal Form Game. The function is called `solve_game`:\n",
    "\n",
    "```python\n",
    "def solve_game( game, weak=False):\n",
    "    pass # returns strategy indices of Nash equilibrium or None.\n",
    "```\n",
    "\n",
    "and it takes two parameters: the game, in a format that we described earlier and an optional boolean flag that controls whether the algorithm considers only **strongly dominated strategies** (the default will be false) or whether it should consider **weakly dominated strategies** as well.\n",
    "\n",
    "It should work with game matrices of any size and it will return the **strategy indices** of the Nash Equilibrium. If there is no **pure strategy** equilibrium that can be found using SEDS, return `None`.\n",
    "\n",
    "\n",
    "<div style=\"background: mistyrose; color: firebrick; border: 2px solid darkred; padding: 5px; margin: 10px;\">\n",
    "Do not return the payoff. That's not useful. Return the strategy indices. Failure to do so will result in a failing grade.\n",
    "</div>\n",
    "\n",
    "As before, you must provide your implementation in the space below, one Markdown cell for documentation and one Code cell for implementation, one function and assertations per Codecell.\n",
    "\n",
    "\n",
    "---"
   ]
  },
  {
   "cell_type": "markdown",
   "metadata": {},
   "source": [
    "**getUtil(utilMat, playerNum, stratNum)**\n",
    "\n",
    "Given a 2-player utility matrix (represented by list of lists), get the utility of playing a specific strategy for a specific player. All numbers are 0-indexed (i.e. first player has playerNum=0, strategy 1 has stratNum=0)"
   ]
  },
  {
   "cell_type": "code",
   "execution_count": 316,
   "metadata": {
    "collapsed": true
   },
   "outputs": [],
   "source": [
    "def getUtil(utilMat, playerNum, stratNum):\n",
    "    if playerNum == 0:\n",
    "        return [x[playerNum] for x in utilMat[stratNum]]\n",
    "    elif playerNum == 1:\n",
    "        return [x[stratNum][playerNum] for x in utilMat]\n",
    "    else:\n",
    "        raise ValueError('Only two players available.')"
   ]
  },
  {
   "cell_type": "markdown",
   "metadata": {},
   "source": [
    "**dominates(util1, util2, weak=False)**\n",
    "\n",
    "Given two utilities (as list of int), returns whether the first utility dominates the second utility. The third argument is optional and denotes whether to return weakly or strongly dominating."
   ]
  },
  {
   "cell_type": "code",
   "execution_count": null,
   "metadata": {
    "collapsed": true
   },
   "outputs": [],
   "source": [
    "def dominates(util1, util2, weak=False):\n",
    "    diff = [x-y for x,y in zip(util1,util2)]\n",
    "    if weak:\n",
    "        return all([x>=0 for x in diff]) and any([x>0 for x in diff])\n",
    "    else:\n",
    "        return all([x>0 for x in diff])"
   ]
  },
  {
   "cell_type": "markdown",
   "metadata": {},
   "source": [
    "**findDominated(utilMat, playerNum, weak=False)**\n",
    "\n",
    "Given a utility matrix (represented by list of lists) and a player number (0-indexed), return the list of dominated strategies as a set of indices (0-indexed) of strategies. If no strategy is dominated, returns an empty set. Optional third input denotes whether to consider weak dominance."
   ]
  },
  {
   "cell_type": "code",
   "execution_count": 330,
   "metadata": {
    "collapsed": true
   },
   "outputs": [],
   "source": [
    "def findDominated(utilMat, playerNum, weak=False):\n",
    "    # dimension of a player's strategy (i.e. num of strategies available)\n",
    "    dim = (playerNum==0)*len(utilMat) + (playerNum==1)*len(utilMat[0])\n",
    "    # get all utils for the this player\n",
    "    utils = [getUtil(utilMat, playerNum, x) for x in range(dim)] \n",
    "    dominatedList = set()\n",
    "    \n",
    "    for i in range(dim):\n",
    "        for j in range(dim): # compare utils of other strats to this one\n",
    "            if i==j: # don't compare strategy to itself\n",
    "                continue\n",
    "            if dominates(utils[j], utils[i], weak):\n",
    "                dominatedList.add(i) # add to list\n",
    "                break # stop checking since already dominated by one strat\n",
    "                \n",
    "    if dominatedList:\n",
    "        return dominatedList\n",
    "    else:\n",
    "        return set() # no strategy is dominated, return empty"
   ]
  },
  {
   "cell_type": "markdown",
   "metadata": {},
   "source": [
    "** removeUtil(utilMat, playerNum, strats) **\n",
    "\n",
    "Given a utility matrix (represented by list of lists), remove specified strategies for a specific player and returns the resulting utility matrix with the remaining strategies. All numbers are 0-indexed."
   ]
  },
  {
   "cell_type": "code",
   "execution_count": 331,
   "metadata": {
    "collapsed": true
   },
   "outputs": [],
   "source": [
    "def removeUtil(utilMat, playerNum, strats):\n",
    "    if type(strats) is int: # if received int as input, put in set of 1 int\n",
    "        strats = {strats}\n",
    "    if playerNum == 0:\n",
    "        return [x for n,x in enumerate(utilMat) if n not in strats]\n",
    "    elif playerNum == 1:\n",
    "        return [[y for n,y in enumerate(x) if n not in strats] for x in utilMat]\n",
    "    else:\n",
    "        raise ValueError('Only two players available.')"
   ]
  },
  {
   "cell_type": "markdown",
   "metadata": {},
   "source": [
    "** removeStrategies(utilMat, strats) **\n",
    "\n",
    "Given a utility matrix of a game, return the remaining strategies with the specified list of strategies removed. The strategies are a list of two sets where the elements of the sets are the strategies to be removed. The first set corresponds to player 1, and etc."
   ]
  },
  {
   "cell_type": "code",
   "execution_count": 315,
   "metadata": {
    "collapsed": false
   },
   "outputs": [],
   "source": [
    "def removeStrategies(utilMat, strats):\n",
    "    dim = [len(utilMat), len(utilMat[0])]\n",
    "    out = [list(), list()]\n",
    "    out[0] = [x for x in range(dim[0]) if x not in strats[0]]\n",
    "    out[1] = [x for x in range(dim[1]) if x not in strats[1]]\n",
    "    return out"
   ]
  },
  {
   "cell_type": "markdown",
   "metadata": {},
   "source": [
    "\n",
    "---"
   ]
  },
  {
   "cell_type": "markdown",
   "metadata": {},
   "source": [
    "** Main Program **\n",
    "\n",
    "The program takes an input of a game represented by utility matrix and an optional input of whether to consider weak dominance. The program implements SEDS to solve a game and returns the pure strategy Nash equilbrium as a tuple.\n",
    "\n",
    "The program first loop through "
   ]
  },
  {
   "cell_type": "code",
   "execution_count": 322,
   "metadata": {
    "collapsed": false
   },
   "outputs": [],
   "source": [
    "def solve_game(game, weak=False):\n",
    "    utils = copy.deepcopy(game) # deep copy to prevent modification\n",
    "    \n",
    "    dominatedFound = [True, True]\n",
    "    removedStrats = [set(), set()] # set of strategies removed for both players\n",
    "    while any(dominatedFound): # if any dominated strats found last iteration\n",
    "        for n in range(2):\n",
    "            toRemove = findDominated(utils, n, weak)\n",
    "            # print toRemove\n",
    "            dominatedFound[n] = len(toRemove) > 0\n",
    "            if dominatedFound[n]:\n",
    "                removedStrats[n].update(toRemove)\n",
    "                utils = removeUtil(utils, n, toRemove)\n",
    "\n",
    "    remainStrats = removeStrategies(game, removedStrats)\n",
    "\n",
    "    if all([len(x)==1 for x in remainStrats]): # if only 1 strat for each player\n",
    "        return zip(*remainStrats)[0] # return strategy as equilibrium\n",
    "    else:\n",
    "        return None"
   ]
  },
  {
   "cell_type": "markdown",
   "metadata": {},
   "source": [
    "In order to test your function you must describe three (3) test cases, each of which is a 3x3 two player game. You must indicate the solution."
   ]
  },
  {
   "cell_type": "markdown",
   "metadata": {},
   "source": [
    "### Test Game 1. Create a 3x3 two player game\n",
    "\n",
    "**that can only be solved using the Successive Elimintation of Strongly Dominated Strategies**\n",
    "\n",
    "Player 1 / Player 2  | 0 | 1 | 2\n",
    "---- | ---- | ----\n",
    "0  | 6,1 | 7,2 | 2,8\n",
    "1  | 3,3 | 4,4 | 0,4\n",
    "2  | 8,7 | 9,2 | 4,4\n",
    "\n",
    "**Solution:** (2,0)"
   ]
  },
  {
   "cell_type": "code",
   "execution_count": 332,
   "metadata": {
    "collapsed": false
   },
   "outputs": [],
   "source": [
    "# A game that can be solved by Successive Elimination of STRONGLY Dominated Strategies of at least 3x3\n",
    "test_game_1 = [\n",
    " [(6,1), (7,2), (2,8)],\n",
    " [(3,3), (4,4), (0,4)],\n",
    " [(8,7), (9,2), (4,4)]\n",
    "]\n",
    "\n",
    "solution = solve_game(test_game_1)"
   ]
  },
  {
   "cell_type": "code",
   "execution_count": 293,
   "metadata": {
    "collapsed": false
   },
   "outputs": [],
   "source": [
    "assert solution == (2,0) # insert your solution from above."
   ]
  },
  {
   "cell_type": "markdown",
   "metadata": {},
   "source": [
    "### Test Game 2. Create a 3x3 two player game\n",
    "\n",
    "**that can only be solved using the Successive Elimintation of Weakly Dominated Strategies**\n",
    "\n",
    "Player 1 / Player 2  | 0 | 1 | 2\n",
    "---- | ---- | ----\n",
    "0  | 9,1 | 4,2 | 2,8\n",
    "1  | 3,3 | 3,4 | 0,3\n",
    "2  | 8,7 | 4,2 | 2,4\n",
    "\n",
    "**Solution:** (0,2)"
   ]
  },
  {
   "cell_type": "code",
   "execution_count": 306,
   "metadata": {
    "collapsed": false
   },
   "outputs": [],
   "source": [
    "test_game_2 = [\n",
    " [(9,1), (4,2), (2,8)],\n",
    " [(3,3), (3,4), (0,3)],\n",
    " [(8,7), (4,2), (2,4)]\n",
    "]\n",
    "\n",
    "strong_solution = solve_game( test_game_2)\n",
    "weak_solution = solve_game( test_game_2, weak=True)"
   ]
  },
  {
   "cell_type": "code",
   "execution_count": 307,
   "metadata": {
    "collapsed": false
   },
   "outputs": [],
   "source": [
    "assert strong_solution == None\n",
    "assert weak_solution == (0,2) # insert your solution from above."
   ]
  },
  {
   "cell_type": "markdown",
   "metadata": {},
   "source": [
    "### Test Game 3. Create a 3x3 two player game\n",
    "\n",
    "**that cannot be solved using the Successive Elimintation of Dominated Strategies at all**\n",
    "\n",
    "Player 1 / Player 2  | 0 | 1 | 2\n",
    "---- | ---- | ----\n",
    "0  | 9,1 | 4,2 | 2,8\n",
    "1  | 3,3 | 3,4 | 0,3\n",
    "2  | 8,7 | 4,2 | 4,4\n",
    "\n",
    "**Solution:** None"
   ]
  },
  {
   "cell_type": "code",
   "execution_count": 309,
   "metadata": {
    "collapsed": false
   },
   "outputs": [],
   "source": [
    "test_game_3 = [\n",
    " [(9,1), (4,2), (2,8)],\n",
    " [(3,3), (3,4), (0,3)],\n",
    " [(8,7), (4,2), (4,4)]\n",
    "]\n",
    "\n",
    "strong_solution = solve_game( test_game_3)\n",
    "weak_solution = solve_game( test_game_3, weak=True)"
   ]
  },
  {
   "cell_type": "code",
   "execution_count": 302,
   "metadata": {
    "collapsed": true
   },
   "outputs": [],
   "source": [
    "assert strong_solution == None\n",
    "assert weak_solution == None"
   ]
  }
 ],
 "metadata": {
  "kernelspec": {
   "display_name": "Python 2",
   "language": "python",
   "name": "python2"
  },
  "language_info": {
   "codemirror_mode": {
    "name": "ipython",
    "version": 2
   },
   "file_extension": ".py",
   "mimetype": "text/x-python",
   "name": "python",
   "nbconvert_exporter": "python",
   "pygments_lexer": "ipython2",
   "version": "2.7.12"
  }
 },
 "nbformat": 4,
 "nbformat_minor": 0
}
