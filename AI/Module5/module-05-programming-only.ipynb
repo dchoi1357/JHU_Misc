{
 "cells": [
  {
   "cell_type": "markdown",
   "metadata": {},
   "source": [
    "# Module 5 - Programming Assignment\n",
    "\n",
    "## Directions\n",
    "\n",
    "There are general instructions on Blackboard and in the Syllabus for Programming Assignments. This Notebook also has instructions specific to this assignment. Read all the instructions carefully and make sure you understand them. Please ask questions on the discussion boards or email me at `EN605.445@gmail.com` if you do not understand something.\n",
    "\n",
    "<div style=\"background: mistyrose; color: firebrick; border: 2px solid darkred; padding: 5px; margin: 10px;\">\n",
    "You must follow the directions *exactly* or you will get a 0 on the assignment.\n",
    "</div>\n",
    "\n",
    "You must submit a zip file of your assignment and associated files (if there are any) to Blackboard. The zip file will be named after you JHED ID: `<jhed_id>.zip`. It will not include any other information. Inside this zip file should be the following directory structure:\n",
    "\n",
    "```\n",
    "<jhed_id>\n",
    "    |\n",
    "    +--module-05-programming.ipynb\n",
    "    +--module-05-programming.html\n",
    "    +--(any other files)\n",
    "```\n",
    "\n",
    "For example, do not name  your directory `programming_assignment_01` and do not name your directory `smith122_pr1` or any else. It must be only your JHED ID."
   ]
  },
  {
   "cell_type": "code",
   "execution_count": 5,
   "metadata": {
    "collapsed": true
   },
   "outputs": [],
   "source": [
    "from IPython.core.display import *\n",
    "from StringIO import StringIO\n",
    "from random import random, gauss, randrange\n",
    "import bisect"
   ]
  },
  {
   "cell_type": "markdown",
   "metadata": {},
   "source": [
    "## Local Search - Genetic Algorithm\n",
    "\n",
    "For this assignment we're going to use the Genetic Algorithm to find the solution to a shifted Sphere Function in 10 dimensions, $x$, where the range of $x_i$ in each dimension is (-5.12 to 5.12). Here a \"solution\" means the vector $x$ that minimizes the function. The Sphere Function is:\n",
    "\n",
    "$$f(x)=\\sum x^2_i$$\n",
    "\n",
    "We are going to shift it over 0.5 in every dimension:\n",
    "\n",
    "$$f(x) = \\sum (x_i - 0.5)^2$$\n",
    "\n",
    "where $n = 10$.\n",
    "\n",
    "As this *is* a minimization problem you'll need to use the trick described in the lecture to turn the shifted Sphere Function into an appropriate fitness function (which is always looking for a *maximum* value)."
   ]
  },
  {
   "cell_type": "markdown",
   "metadata": {},
   "source": [
    "## Binary GA\n",
    "\n",
    "You are going to solve the problem two different ways. First, using the traditional (or \"Canonical\") Genetic Algorithm that encodes numeric values as binary strings (you don't have to represent them literally as strings but they are general lists or strings of only 0 or 1).\n",
    "\n",
    "There are many different ways to affect this encoding. For this assignment, the easiest is probably to use a 10 bit binary encoding for each $x_i$. This gives each $x_i$ a potential value of 0 to 1024 which can be mapped to (-5.12, 5.12) by subtracting 512 and dividing by 100.\n",
    "\n",
    "All the GA operators will be as described in the lecture.\n",
    "\n",
    "**Important**\n",
    "\n",
    "Please remember that there is a difference between the *genotype* and the *phenotype*. The GA operates on the *genotype* (the encoding) and does not respect the boundaries of the phenotype (the decoding). So, for example, do **not** use a List of Lists to represent an individual. It should be a *single* List of 10 x 10 or 100 bits. In general, crossover and mutation have no idea what those bits represent."
   ]
  },
  {
   "cell_type": "markdown",
   "metadata": {},
   "source": [
    "## Real Valued GA\n",
    "\n",
    "For the real valued GA, you can represent each $x_i$ as a float in the range (-5.12, 5.12) but you will need to create a new mutation operator that applies gaussian noise. Python's random number generator for the normal distribution is called `gauss` and is found in the random module:\n",
    "\n",
    "```\n",
    "from random import gauss, random\n",
    "```\n",
    "\n",
    "You may need to experiment a bit with the standard deviation of the noise but the mean will be 0.0."
   ]
  },
  {
   "cell_type": "markdown",
   "metadata": {},
   "source": [
    "## GA\n",
    "\n",
    "The Genetic Algorithm itself will have the same basic structure in each case: create a population, evaluate it, select parents, apply crossover and mutation, repeat until the number of desired generations have been generated. The easiest way to accomplish this in \"Functional\" Python would be to use Higher Order Functions.\n",
    "\n",
    "\n",
    "\n",
    "Your code should print out the best individual of each generation including the generation number, genotype (the representation), phenotype (the actual value), the fitness (based on your fitness function transformation) and the function value (for the shifted sphere) if passed a DEBUG=True flag.\n",
    "\n",
    "The GA has a lot of parameters: mutation rate, crossover rate, population size, dimensions (given for this problem), number of generations.  You can put all of those and your fitness function in a `Dict` in which case you need to implement:\n",
    "\n",
    "```python\n",
    "def binary_ga( parameters):\n",
    "  pass\n",
    "```\n",
    "\n",
    "and\n",
    "\n",
    "```python\n",
    "def real_ga( parameters):\n",
    "  pass\n",
    "```\n",
    "\n",
    "Remember that you need to transform the sphere function into a legit fitness function. Since you also need the sphere function, I would suggest that your parameters Dict includes something like:\n",
    "\n",
    "```python\n",
    "parameters = {\n",
    "   \"f\": lambda xs: sphere( 0.5, xs),\n",
    "   \"minimization\": True\n",
    "   # put other parameters in here.\n",
    "}\n",
    "```\n",
    "\n",
    "and then have your code check for \"minimization\" and create an entry for \"fitness\" that is appropriate."
   ]
  },
  {
   "cell_type": "code",
   "execution_count": 6,
   "metadata": {
    "collapsed": false
   },
   "outputs": [],
   "source": [
    "def sphere( shift, xs):\n",
    "    return sum( [(x - shift)**2 for x in xs])"
   ]
  },
  {
   "cell_type": "code",
   "execution_count": 4,
   "metadata": {
    "collapsed": false
   },
   "outputs": [
    {
     "data": {
      "text/plain": [
       "113.42720000000001"
      ]
     },
     "execution_count": 4,
     "metadata": {},
     "output_type": "execute_result"
    }
   ],
   "source": [
    "sphere( 0.5, [1.0, 2.0, -3.4, 5.0, -1.2, 3.23, 2.87, -4.23, 3.82, -4.61])"
   ]
  },
  {
   "cell_type": "markdown",
   "metadata": {},
   "source": [
    "\n",
    "-----"
   ]
  },
  {
   "cell_type": "markdown",
   "metadata": {},
   "source": [
    "### Common Helper Functions ###"
   ]
  },
  {
   "cell_type": "code",
   "execution_count": 7,
   "metadata": {
    "collapsed": false
   },
   "outputs": [],
   "source": [
    "def crossover(parents1, parents2):\n",
    "    pt = randrange(len(parents1))\n",
    "    return parents1[:pt] + parents2[pt:]\n",
    "\n",
    "def crossover2(parents1, parents2):\n",
    "    pt = randrange(len(parents1))\n",
    "    return (parents1[:pt]+parents2[pt:], parents2[:pt]+parents1[pt:])\n",
    "\n",
    "def cumsum(L):\n",
    "    total = 0\n",
    "    for l in L:\n",
    "        total += l\n",
    "        yield total\n",
    "\n",
    "def pickParents(fitness, nParents):\n",
    "    total = 0\n",
    "    cumFitness = list(cumsum(fitness))\n",
    "    rands = [random()*cumFitness[-1] for n in xrange(nParents)] # list of rands\n",
    "    return [bisect.bisect_left(cumFitness,r) for r in rands]"
   ]
  },
  {
   "cell_type": "markdown",
   "metadata": {},
   "source": [
    "-----\n",
    "\n",
    "## Binary GA ##"
   ]
  },
  {
   "cell_type": "markdown",
   "metadata": {},
   "source": [
    "### Binary GA Helper Functions###"
   ]
  },
  {
   "cell_type": "code",
   "execution_count": 8,
   "metadata": {
    "collapsed": true
   },
   "outputs": [],
   "source": [
    "def getDecimals(genes):\n",
    "    bins = [genes[n:n+10] for n in xrange(0,len(genes),10)]\n",
    "    return [(int(x,2)-511)/100.0 for x in bins]\n",
    "\n",
    "def mutateBinary(genes):\n",
    "    i = randrange(len(genes))\n",
    "    genes = genes[:i] + ('0' if genes[i]=='1' else '1') + genes[i+1:]\n",
    "    return genes\n",
    "\n",
    "def printGenInfoBin(genNum, genes, fitness, maxVal):\n",
    "    out = 'Gen #%u best gene: %s\\n' + \\\n",
    "        '\\tx-values: %s,\\n\\tfitness: %.4f, sphere value: %.4f\\n'\n",
    "    binary = [genes[n:n+10] for n in xrange(0,len(genes),10)]\n",
    "    xVal = getDecimals(genes)\n",
    "    sp = maxVal - fitness\n",
    "    print out % (genNum, repr(binary), repr(xVal), fitness, sp) "
   ]
  },
  {
   "cell_type": "markdown",
   "metadata": {},
   "source": [
    "### Binary GA Main Program ###"
   ]
  },
  {
   "cell_type": "code",
   "execution_count": 38,
   "metadata": {
    "collapsed": false
   },
   "outputs": [],
   "source": [
    "def binary_ga(pm, DEBUG=False):\n",
    "    pop = [[format(randrange(2**pm['nBits']-1), '#012b')[2:] \\\n",
    "            for x in xrange(10)] for y in xrange(pm['popSize'])]\n",
    "    pop = [''.join(p) for p in pop]\n",
    "    maxVal = pm['f']([-5.12 for x in xrange(10)])\n",
    "    \n",
    "    for gen in xrange(pm['nGeneration']):\n",
    "        fitness = [maxVal - pm['f'](getDecimals(genes)) for genes in pop]\n",
    "        \n",
    "        if DEBUG:\n",
    "            best = fitness.index(max(fitness))\n",
    "            printGenInfoBin(gen, pop[best], fitness[best], maxVal)\n",
    "        \n",
    "        idx = pickParents(fitness, pm['popSize']*2)\n",
    "        nextGen = list()\n",
    "        for n in xrange(pm['popSize']):\n",
    "            child = crossover(pop[idx[n]], pop[idx[-n]])\n",
    "            if random() < pm['mutateProb']:\n",
    "                mutateBinary(child)\n",
    "            nextGen.append(child)\n",
    "        pop = nextGen\n",
    "    \n",
    "    fitness = [maxVal - pm['f'](getDecimals(genes)) for genes in pop]\n",
    "    best = fitness.index(max(fitness))\n",
    "    printGenInfoBin(pm['nGeneration'], pop[best], fitness[best], maxVal)\n",
    "    return getDecimals(pop[best])"
   ]
  },
  {
   "cell_type": "code",
   "execution_count": 40,
   "metadata": {
    "collapsed": false
   },
   "outputs": [
    {
     "name": "stdout",
     "output_type": "stream",
     "text": [
      "Gen #0 best gene: ['1000000000', '0110001001', '0111000101', '1001101100', '1000000100', '1000011000', '1000000111', '1000011010', '0110001010', '0101100001']\n",
      "\tx-values: [0.01, -1.18, -0.58, 1.09, 0.05, 0.25, 0.08, 0.27, -1.17, -1.58],\n",
      "\tfitness: 303.6574, sphere value: 12.1866\n",
      "\n",
      "Gen #1 best gene: ['0011110011', '0111000101', '0111000000', '0111110000', '0101001100', '1000110010', '0111110111', '1001100110', '1000111001', '0110000101']\n",
      "\tx-values: [-2.68, -0.58, -0.63, -0.15, -1.79, 0.51, -0.08, 1.03, 0.58, -1.22],\n",
      "\tfitness: 294.0395, sphere value: 21.8045\n",
      "\n",
      "Gen #2 best gene: ['1010001100', '1001001001', '1010000111', '1011111111', '1101001000', '1010011111', '1001001010', '1001111010', '1000110101', '1101001001']\n",
      "\tx-values: [1.41, 0.74, 1.36, 2.56, 3.29, 1.6, 0.75, 1.23, 0.54, 3.3],\n",
      "\tfitness: 292.5440, sphere value: 23.3000\n",
      "\n",
      "Gen #3 best gene: ['1001000001', '1010110011', '1001000000', '1011000111', '0110111100', '0110110111', '0101110000', '1000001001', '1001110001', '0100101001']\n",
      "\tx-values: [0.66, 1.8, 0.65, 2.0, -0.67, -0.72, -1.43, 0.1, 1.14, -2.14],\n",
      "\tfitness: 297.7345, sphere value: 18.1095\n",
      "\n",
      "Gen #4 best gene: ['1011000010', '1000110111', '0110110010', '0111110001', '0111101001', '1100010000', '1001100110', '1000011000', '1000100101', '0111011100']\n",
      "\tx-values: [1.95, 0.56, -0.77, -0.14, -0.22, 2.73, 1.03, 0.25, 0.38, -0.35],\n",
      "\tfitness: 305.1438, sphere value: 10.7002\n",
      "\n",
      "Gen #5 best gene: ['1001001111', '1011010101', '1001000000', '1011000111', '0110111100', '0110110111', '0101110000', '1000001001', '1011010110', '1000001111']\n",
      "\tx-values: [0.8, 2.14, 0.65, 2.0, -0.67, -0.72, -1.43, 0.1, 2.15, 0.16],\n",
      "\tfitness: 301.2116, sphere value: 14.6324\n",
      "\n",
      "Gen #6 best gene: ['1010000001', '1001110111', '1010001001', '1010011110', '0101110010', '0110110000', '0111011111', '0111000101', '1101100001', '1001101011']\n",
      "\tx-values: [1.3, 1.2, 1.38, 1.59, -1.41, -0.79, -0.32, -0.58, 3.54, 1.08],\n",
      "\tfitness: 296.0225, sphere value: 19.8215\n",
      "\n",
      "Gen #7 best gene: ['0111100111', '1010010000', '0110111011', '0111011110', '0111110001', '1010110100', '0110100100', '0110100110', '1011001111', '1001010010']\n",
      "\tx-values: [-0.24, 1.45, -0.68, -0.33, -0.14, 1.81, -0.91, -0.89, 2.08, 0.83],\n",
      "\tfitness: 303.6614, sphere value: 12.1826\n",
      "\n",
      "Gen #8 best gene: ['0111100111', '1010010000', '0110111011', '0111011110', '0111110001', '1010110100', '0110100100', '0110100110', '1011001111', '1001010010']\n",
      "\tx-values: [-0.24, 1.45, -0.68, -0.33, -0.14, 1.81, -0.91, -0.89, 2.08, 0.83],\n",
      "\tfitness: 303.6614, sphere value: 12.1826\n",
      "\n",
      "Gen #9 best gene: ['1001111001', '1101101101', '1000100010', '0111100000', '1010000101', '1100100001', '1001001000', '0110111010', '1000010100', '1000001001']\n",
      "\tx-values: [1.22, 3.66, 0.35, -0.31, 1.34, 2.9, 0.73, -0.69, 0.21, 0.1],\n",
      "\tfitness: 296.4827, sphere value: 19.3613\n",
      "\n",
      "Gen #10 best gene: ['0100111000', '0111111011', '1001000000', '1011000111', '0110111111', '0110111111', '1000001011', '0111011000', '1011100011', '0111110000']\n",
      "\tx-values: [-1.99, -0.04, 0.65, 2.0, -0.64, -0.64, 0.12, -0.39, 2.28, -0.15],\n",
      "\tfitness: 299.9532, sphere value: 15.8908\n",
      "\n",
      "Gen #11 best gene: ['1000111000', '0111111011', '1001000000', '1011000111', '0110111111', '0110111111', '1000001011', '0111011000', '1011100011', '0111110000']\n",
      "\tx-values: [0.57, -0.04, 0.65, 2.0, -0.64, -0.64, 0.12, -0.39, 2.28, -0.15],\n",
      "\tfitness: 306.1484, sphere value: 9.6956\n",
      "\n",
      "Gen #12 best gene: ['0110101000', '0111111011', '1001000000', '1011000111', '0110111111', '0110111111', '1000001011', '0111110100', '0110001011', '0111101000']\n",
      "\tx-values: [-0.87, -0.04, 0.65, 2.0, -0.64, -0.64, 0.12, -0.11, -1.16, -0.23],\n",
      "\tfitness: 304.9988, sphere value: 10.8452\n",
      "\n",
      "Gen #13 best gene: ['1001111101', '1001110100', '1100010000', '0110011110', '1000001101', '1000011011', '0111001010', '1000001101', '1001100001', '1001100011']\n",
      "\tx-values: [1.26, 1.17, 2.73, -0.97, 0.14, 0.28, -0.53, 0.14, 0.98, 1.0],\n",
      "\tfitness: 305.8348, sphere value: 10.0092\n",
      "\n",
      "Gen #14 best gene: ['1000001101', '0111001101', '1001001100', '1011110000', '1001101011', '1010110000', '1000011011', '0111011010', '0101011101', '1001110111']\n",
      "\tx-values: [0.14, -0.5, 0.77, 2.41, 1.08, 1.77, 0.28, -0.37, -1.62, 1.2],\n",
      "\tfitness: 303.2544, sphere value: 12.5896\n",
      "\n",
      "Gen #15 best gene: ['1000001011', '0101111000', '0111001011', '1001101111', '0110111100', '0110110111', '0101110000', '1000101000', '1010100010', '1000010011']\n",
      "\tx-values: [0.12, -1.35, -0.52, 1.12, -0.67, -0.72, -1.43, 0.41, 1.63, 0.2],\n",
      "\tfitness: 302.8951, sphere value: 12.9489\n",
      "\n",
      "Gen #16 best gene: ['1001111000', '0101011000', '0111101000', '1000110111', '1001101001', '0110111101', '1011001001', '0111111000', '1011100011', '1001110011']\n",
      "\tx-values: [1.21, -1.67, -0.23, 0.56, 1.06, -0.66, 2.02, -0.07, 2.28, 1.16],\n",
      "\tfitness: 302.1960, sphere value: 13.6480\n",
      "\n",
      "Gen #17 best gene: ['1001111000', '0101011000', '0111101000', '1000110111', '1001101001', '0110111101', '1011001001', '0111111000', '1011100011', '1000110101']\n",
      "\tx-values: [1.21, -1.67, -0.23, 0.56, 1.06, -0.66, 2.02, -0.07, 2.28, 0.54],\n",
      "\tfitness: 302.6300, sphere value: 13.2140\n",
      "\n",
      "Gen #18 best gene: ['0110100010', '1011001010', '0111111010', '0110011000', '1001101100', '1000110010', '0111110111', '1001100110', '1000100000', '1000001111']\n",
      "\tx-values: [-0.93, 2.03, -0.05, -1.03, 1.09, 0.51, -0.08, 1.03, 0.33, 0.16],\n",
      "\tfitness: 307.7048, sphere value: 8.1392\n",
      "\n",
      "Gen #19 best gene: ['0110101100', '1010111001', '1001101000', '1000110111', '1000110010', '1001110111', '0111001011', '1000010010', '0101100110', '0111001101']\n",
      "\tx-values: [-0.83, 1.86, 1.05, 0.56, 0.51, 1.2, -0.52, 0.19, -1.53, -0.5],\n",
      "\tfitness: 305.1719, sphere value: 10.6721\n",
      "\n",
      "Gen #20 best gene: ['0110010101', '0101111101', '1001001100', '1000110111', '1001101001', '0110111101', '1011001111', '1001111100', '1010011011', '1000110111']\n",
      "\tx-values: [-1.06, -1.3, 0.77, 0.56, 1.06, -0.66, 2.08, 1.25, 1.56, 0.56],\n",
      "\tfitness: 304.2486, sphere value: 11.5954\n",
      "\n"
     ]
    }
   ],
   "source": [
    "## Traditional GA\n",
    "\n",
    "param = {\n",
    "    \"f\": lambda xs: sphere( 0.5, xs),\n",
    "    \"minimization\": True,\n",
    "    \"popSize\": 1000,\n",
    "    \"mutateProb\": 0.10,\n",
    "    \"nGeneration\": 20,\n",
    "    \"nBits\": 10,\n",
    "}\n",
    "\n",
    "bestX =  binary_ga( param, True)"
   ]
  },
  {
   "cell_type": "markdown",
   "metadata": {},
   "source": [
    "---\n",
    "\n",
    "## Real Value GA ##"
   ]
  },
  {
   "cell_type": "markdown",
   "metadata": {},
   "source": [
    "### Real Value GA Helper Functions ###"
   ]
  },
  {
   "cell_type": "code",
   "execution_count": 40,
   "metadata": {
    "collapsed": true
   },
   "outputs": [],
   "source": [
    "def mutateReal(genes, sigma, xMax):\n",
    "    i = randrange(len(genes))\n",
    "    genes[i] = min( max(genes[i]*gauss(0,sigma), -xMax) , xMax)\n",
    "    return genes"
   ]
  },
  {
   "cell_type": "markdown",
   "metadata": {},
   "source": [
    "### Real Value GA Main Program ###"
   ]
  },
  {
   "cell_type": "code",
   "execution_count": 45,
   "metadata": {
    "collapsed": true
   },
   "outputs": [],
   "source": [
    "def real_ga(pm):\n",
    "    pop = [[random()*2*pm['xRange'] - pm['xRange'] for x in xrange(10)] \\\n",
    "           for y in xrange(pm['popSize'])]\n",
    "    maxVal = pm['f']([-5.12 for x in xrange(10)])\n",
    "    \n",
    "    for genCount in xrange(pm['nGeneration']):\n",
    "        fitness = [maxVal - pm['f'](genes) for genes in pop]\n",
    "        idx = pickParents(fitness, pm['popSize']*2)\n",
    "        nextGen = list()\n",
    "        for n in xrange(pm['popSize']):\n",
    "            child = crossover(pop[idx[n]], pop[idx[-n]])\n",
    "            if random() < pm['mutateProb']:\n",
    "                mutateReal(child, pm['sigma'], pm['xRange'])\n",
    "            nextGen.append(child)\n",
    "        pop = nextGen\n",
    "    \n",
    "    fitness = [maxVal - pm['f'](genes) for genes in pop]\n",
    "    return pop[fitness.index(max(fitness))]"
   ]
  },
  {
   "cell_type": "code",
   "execution_count": 60,
   "metadata": {
    "collapsed": false
   },
   "outputs": [
    {
     "name": "stdout",
     "output_type": "stream",
     "text": [
      "('0.9012', '[0.415, -0.139, 0.831, 0.426, 0.638, 0.034, 0.839, 0.513, 0.628, 0.4]')\n"
     ]
    }
   ],
   "source": [
    "## Real Valued GA\n",
    "\n",
    "param2 = {\n",
    "    \"f\": lambda xs: sphere( 0.5, xs),\n",
    "    \"minimization\": True,\n",
    "    \"popSize\": 1000,\n",
    "    \"mutateProb\": 0.10,\n",
    "    \"nGeneration\": 100,\n",
    "    \"nBits\": 10,\n",
    "    \"xRange\": 5.12,\n",
    "    \"sigma\": 2\n",
    "}\n",
    "\n",
    "best2 = real_ga( param2)\n",
    "tmp = '[' + ', '.join('%.3f' % f for f in best2)[:-2] + ']'\n",
    "print('%.4f'%param['f'](best2), tmp)"
   ]
  }
 ],
 "metadata": {
  "kernelspec": {
   "display_name": "Python 2",
   "language": "python",
   "name": "python2"
  },
  "language_info": {
   "codemirror_mode": {
    "name": "ipython",
    "version": 2
   },
   "file_extension": ".py",
   "mimetype": "text/x-python",
   "name": "python",
   "nbconvert_exporter": "python",
   "pygments_lexer": "ipython2",
   "version": "2.7.12"
  }
 },
 "nbformat": 4,
 "nbformat_minor": 0
}
