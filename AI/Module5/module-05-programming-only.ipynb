{
 "cells": [
  {
   "cell_type": "markdown",
   "metadata": {},
   "source": [
    "# Module 5 - Programming Assignment\n",
    "\n",
    "## Directions\n",
    "\n",
    "There are general instructions on Blackboard and in the Syllabus for Programming Assignments. This Notebook also has instructions specific to this assignment. Read all the instructions carefully and make sure you understand them. Please ask questions on the discussion boards or email me at `EN605.445@gmail.com` if you do not understand something.\n",
    "\n",
    "<div style=\"background: mistyrose; color: firebrick; border: 2px solid darkred; padding: 5px; margin: 10px;\">\n",
    "You must follow the directions *exactly* or you will get a 0 on the assignment.\n",
    "</div>\n",
    "\n",
    "You must submit a zip file of your assignment and associated files (if there are any) to Blackboard. The zip file will be named after you JHED ID: `<jhed_id>.zip`. It will not include any other information. Inside this zip file should be the following directory structure:\n",
    "\n",
    "```\n",
    "<jhed_id>\n",
    "    |\n",
    "    +--module-05-programming.ipynb\n",
    "    +--module-05-programming.html\n",
    "    +--(any other files)\n",
    "```\n",
    "\n",
    "For example, do not name  your directory `programming_assignment_01` and do not name your directory `smith122_pr1` or any else. It must be only your JHED ID."
   ]
  },
  {
   "cell_type": "code",
   "execution_count": 1,
   "metadata": {
    "collapsed": true
   },
   "outputs": [],
   "source": [
    "from IPython.core.display import *\n",
    "from StringIO import StringIO\n",
    "from random import random, gauss, randrange\n",
    "import bisect, sys"
   ]
  },
  {
   "cell_type": "markdown",
   "metadata": {},
   "source": [
    "## Local Search - Genetic Algorithm\n",
    "\n",
    "For this assignment we're going to use the Genetic Algorithm to find the solution to a shifted Sphere Function in 10 dimensions, $x$, where the range of $x_i$ in each dimension is (-5.12 to 5.12). Here a \"solution\" means the vector $x$ that minimizes the function. The Sphere Function is:\n",
    "\n",
    "$$f(x)=\\sum x^2_i$$\n",
    "\n",
    "We are going to shift it over 0.5 in every dimension:\n",
    "\n",
    "$$f(x) = \\sum (x_i - 0.5)^2$$\n",
    "\n",
    "where $n = 10$.\n",
    "\n",
    "As this *is* a minimization problem you'll need to use the trick described in the lecture to turn the shifted Sphere Function into an appropriate fitness function (which is always looking for a *maximum* value)."
   ]
  },
  {
   "cell_type": "markdown",
   "metadata": {},
   "source": [
    "## Binary GA\n",
    "\n",
    "You are going to solve the problem two different ways. First, using the traditional (or \"Canonical\") Genetic Algorithm that encodes numeric values as binary strings (you don't have to represent them literally as strings but they are general lists or strings of only 0 or 1).\n",
    "\n",
    "There are many different ways to affect this encoding. For this assignment, the easiest is probably to use a 10 bit binary encoding for each $x_i$. This gives each $x_i$ a potential value of 0 to 1024 which can be mapped to (-5.12, 5.12) by subtracting 512 and dividing by 100.\n",
    "\n",
    "All the GA operators will be as described in the lecture.\n",
    "\n",
    "**Important**\n",
    "\n",
    "Please remember that there is a difference between the *genotype* and the *phenotype*. The GA operates on the *genotype* (the encoding) and does not respect the boundaries of the phenotype (the decoding). So, for example, do **not** use a List of Lists to represent an individual. It should be a *single* List of 10 x 10 or 100 bits. In general, crossover and mutation have no idea what those bits represent."
   ]
  },
  {
   "cell_type": "markdown",
   "metadata": {},
   "source": [
    "## Real Valued GA\n",
    "\n",
    "For the real valued GA, you can represent each $x_i$ as a float in the range (-5.12, 5.12) but you will need to create a new mutation operator that applies gaussian noise. Python's random number generator for the normal distribution is called `gauss` and is found in the random module:\n",
    "\n",
    "```\n",
    "from random import gauss, random\n",
    "```\n",
    "\n",
    "You may need to experiment a bit with the standard deviation of the noise but the mean will be 0.0."
   ]
  },
  {
   "cell_type": "markdown",
   "metadata": {},
   "source": [
    "## GA\n",
    "\n",
    "The Genetic Algorithm itself will have the same basic structure in each case: create a population, evaluate it, select parents, apply crossover and mutation, repeat until the number of desired generations have been generated. The easiest way to accomplish this in \"Functional\" Python would be to use Higher Order Functions.\n",
    "\n",
    "\n",
    "\n",
    "Your code should print out the best individual of each generation including the generation number, genotype (the representation), phenotype (the actual value), the fitness (based on your fitness function transformation) and the function value (for the shifted sphere) if passed a DEBUG=True flag.\n",
    "\n",
    "The GA has a lot of parameters: mutation rate, crossover rate, population size, dimensions (given for this problem), number of generations.  You can put all of those and your fitness function in a `Dict` in which case you need to implement:\n",
    "\n",
    "```python\n",
    "def binary_ga( parameters):\n",
    "  pass\n",
    "```\n",
    "\n",
    "and\n",
    "\n",
    "```python\n",
    "def real_ga( parameters):\n",
    "  pass\n",
    "```\n",
    "\n",
    "Remember that you need to transform the sphere function into a legit fitness function. Since you also need the sphere function, I would suggest that your parameters Dict includes something like:\n",
    "\n",
    "```python\n",
    "parameters = {\n",
    "   \"f\": lambda xs: sphere( 0.5, xs),\n",
    "   \"minimization\": True\n",
    "   # put other parameters in here.\n",
    "}\n",
    "```\n",
    "\n",
    "and then have your code check for \"minimization\" and create an entry for \"fitness\" that is appropriate."
   ]
  },
  {
   "cell_type": "code",
   "execution_count": 2,
   "metadata": {
    "collapsed": false
   },
   "outputs": [],
   "source": [
    "def sphere( shift, xs):\n",
    "    return sum( [(x - shift)**2 for x in xs])"
   ]
  },
  {
   "cell_type": "code",
   "execution_count": 3,
   "metadata": {
    "collapsed": false
   },
   "outputs": [
    {
     "data": {
      "text/plain": [
       "113.42720000000001"
      ]
     },
     "execution_count": 3,
     "metadata": {},
     "output_type": "execute_result"
    }
   ],
   "source": [
    "sphere( 0.5, [1.0, 2.0, -3.4, 5.0, -1.2, 3.23, 2.87, -4.23, 3.82, -4.61])"
   ]
  },
  {
   "cell_type": "markdown",
   "metadata": {},
   "source": [
    "\n",
    "-----"
   ]
  },
  {
   "cell_type": "markdown",
   "metadata": {},
   "source": [
    "### Common Helper Functions ###\n",
    "\n",
    "** crossover(parents1, parents2) **\n",
    "\n",
    "** cumsum(L) **\n",
    "\n",
    "** pickParents(fitness, nParents) **"
   ]
  },
  {
   "cell_type": "code",
   "execution_count": 4,
   "metadata": {
    "collapsed": false
   },
   "outputs": [],
   "source": [
    "def crossover(parents1, parents2):\n",
    "    pt = randrange(len(parents1))\n",
    "    return parents1[:pt] + parents2[pt:]\n",
    "\n",
    "def cumsum(L):\n",
    "    total = 0\n",
    "    for l in L:\n",
    "        total += l\n",
    "        yield total\n",
    "        \n",
    "def pickParents(fitness, nParents):\n",
    "    avgFit = sum(fitness) / len(fitness) # avg fitness\n",
    "    tmp = [(n,f) for n,f in enumerate(fitness) if f>avgFit]\n",
    "    if len(tmp) > 5:\n",
    "        idx,eligible = zip(*tmp)\n",
    "    else:\n",
    "        idx,eligible = range(len(fitness)),fitness\n",
    "    cumFit = list(cumsum( eligible ))\n",
    "    rands = [random()*cumFit[-1] for n in xrange(nParents)]\n",
    "    return [idx[bisect.bisect_left(cumFit,r)] for r in rands]\n",
    "\n",
    "def fitFn(pm, genes):\n",
    "    return pm['maxVal'] - pm['f']( pm['pheno'](genes) )\n",
    "\n",
    "def updateBest(pop, fitness, bestGene, bestFit, pm):\n",
    "    iterBestIdx = fitness.index(max(fitness))\n",
    "    if fitness[iterBestIdx] > bestFit:\n",
    "        bestGene = pop[iterBestIdx]\n",
    "        bestFit = fitness[iterBestIdx]\n",
    "    return bestGene, bestFit, pop[iterBestIdx], fitness[iterBestIdx]\n",
    "\n",
    "def printGenInfo(genNum, gene, fit, pm):\n",
    "    out = 'Gen %s best gene: %s\\n' + \\\n",
    "        '\\tx-values: %s \\n\\tfitness: %.4f, sphere value: %.4f\\n'\n",
    "    pheno = pm['repr'](gene)\n",
    "    xVal = pm['pheno'](gene)\n",
    "    xRepr = '[' + ', '.join('%.3g' % f for f in xVal)[:-2] + ']'\n",
    "    sp = pm['f'](xVal)\n",
    "    print out % (str(genNum), str(pheno), str(xRepr), fit, sp)"
   ]
  },
  {
   "cell_type": "markdown",
   "metadata": {},
   "source": [
    "### Genetic Algorithm  Main Program ###"
   ]
  },
  {
   "cell_type": "code",
   "execution_count": null,
   "metadata": {
    "collapsed": true
   },
   "outputs": [],
   "source": [
    "def geneticAlgo(pm, DEBUG=False):\n",
    "    pop = pm['initFn'](pm)\n",
    "    \n",
    "    bestGene,bestFit = None,-sys.maxsize # initialize best \n",
    "    for gen in xrange(pm['nGeneration']):\n",
    "        fitness = [fitFn(pm, genes) for genes in pop]\n",
    "        bestGene,bestFit,g,f = updateBest(pop, fitness, bestGene, bestFit, pm)\n",
    "        \n",
    "        if DEBUG and gen%pm['printEvery']==0:\n",
    "            printGenInfo(gen, g, f, pm)\n",
    "        idx = pickParents(fitness, pm['popSize']*2)\n",
    "        nextGen = list()\n",
    "        for n in xrange(pm['popSize']):\n",
    "            child = crossover(pop[idx[n]], pop[idx[-n]])\n",
    "            if random() < pm['mutateProb']:\n",
    "                pm['mutateFn'](child, pm)\n",
    "            nextGen.append(child)\n",
    "        pop = nextGen\n",
    "    \n",
    "    bestGene,bestFit,g,f = updateBest(pop, fitness, bestGene, bestFit, pm)\n",
    "    printGenInfo('final', bestGene, bestFit, pm)\n",
    "    return pm['pheno'](bestGene)"
   ]
  },
  {
   "cell_type": "markdown",
   "metadata": {},
   "source": [
    "-----\n",
    "\n",
    "## Binary GA ##"
   ]
  },
  {
   "cell_type": "markdown",
   "metadata": {},
   "source": [
    "### Binary GA Helper Functions###"
   ]
  },
  {
   "cell_type": "code",
   "execution_count": 5,
   "metadata": {
    "collapsed": true
   },
   "outputs": [],
   "source": [
    "def getDecimals(genes):\n",
    "    bins = [genes[n:n+10] for n in xrange(0,len(genes),10)]\n",
    "    return [(int(x,2)-511)/100.0 for x in bins]\n",
    "\n",
    "def mutateBinary(genes, pm):\n",
    "    i = randrange(len(genes))\n",
    "    genes = genes[:i] + ('0' if genes[i]=='1' else '1') + genes[i+1:]\n",
    "    return genes\n",
    "\n",
    "def initBinGA(pm):\n",
    "    tmp = [[format(randrange(2**pm['nBits']-1), '#012b')[2:] \\\n",
    "            for x in xrange(10)] for y in xrange(pm['popSize'])]\n",
    "    return [''.join(p) for p in tmp]"
   ]
  },
  {
   "cell_type": "markdown",
   "metadata": {},
   "source": [
    "### Binary GA Parameters and Run ###"
   ]
  },
  {
   "cell_type": "code",
   "execution_count": 7,
   "metadata": {
    "collapsed": false
   },
   "outputs": [
    {
     "name": "stdout",
     "output_type": "stream",
     "text": [
      "Gen 0 best gene: ['0101100010', '1011111110', '1000111001', '0111000111', '0111101110', '1000110111', '0011100101', '1010001010', '0111110111', '0111010010']\n",
      "\tx-values: [-1.57, 2.55, 0.58, -0.56, -0.17, 0.56, -2.82, 1.39, -0.08, -0.] \n",
      "\tfitness: 292.7207, sphere value: 23.1233\n",
      "\n",
      "Gen 10 best gene: ['1001001011', '1000100101', '1000111101', '0110110111', '1000011011', '0111100011', '1000011011', '1000111000', '1001001100', '1000110011']\n",
      "\tx-values: [0.76, 0.38, 0.62, -0.72, 0.28, -0.28, 0.28, 0.57, 0.77, 0.] \n",
      "\tfitness: 313.4758, sphere value: 2.3682\n",
      "\n",
      "Gen 20 best gene: ['1001000000', '1000110000', '1001000100', '1000100011', '1001100010', '1000000101', '1000011011', '0111110011', '1001001100', '1000111000']\n",
      "\tx-values: [0.65, 0.49, 0.69, 0.36, 0.99, 0.06, 0.28, -0.12, 0.77, 0.] \n",
      "\tfitness: 314.8214, sphere value: 1.0226\n",
      "\n",
      "Gen 30 best gene: ['1001000011', '1000100101', '1000100110', '1001100010', '1000100010', '1000111101', '1000110111', '1000101011', '1000010111', '1000110000']\n",
      "\tx-values: [0.68, 0.38, 0.39, 0.99, 0.35, 0.62, 0.56, 0.44, 0.24, 0.] \n",
      "\tfitness: 315.4332, sphere value: 0.4108\n",
      "\n",
      "Gen 40 best gene: ['1001000001', '1000110000', '1000111010', '1000100010', '1000100110', '1000100011', '1000110101', '1000011000', '1000011011', '1000010001']\n",
      "\tx-values: [0.66, 0.49, 0.59, 0.35, 0.39, 0.36, 0.54, 0.25, 0.28, 0.] \n",
      "\tfitness: 315.5411, sphere value: 0.3029\n",
      "\n",
      "Gen 50 best gene: ['1000110100', '1000101011', '1000111100', '1000100010', '1000100011', '1000111011', '1000110101', '1000101001', '1000110111', '1000110010']\n",
      "\tx-values: [0.53, 0.44, 0.61, 0.35, 0.36, 0.6, 0.54, 0.42, 0.56, 0.] \n",
      "\tfitness: 315.7636, sphere value: 0.0804\n",
      "\n",
      "Gen 60 best gene: ['1000110101', '1000110000', '1000101111', '1000110010', '1000101101', '1000110110', '1000110001', '1000101001', '1000110111', '1000110001']\n",
      "\tx-values: [0.54, 0.49, 0.48, 0.51, 0.46, 0.55, 0.5, 0.42, 0.56, 0] \n",
      "\tfitness: 315.8277, sphere value: 0.0163\n",
      "\n",
      "Gen 70 best gene: ['1000110001', '1000110001', '1000110010', '1000110011', '1000110001', '1000110011', '1000110001', '1000110001', '1000110001', '1000110010']\n",
      "\tx-values: [0.5, 0.5, 0.51, 0.52, 0.5, 0.52, 0.5, 0.5, 0.5, 0.] \n",
      "\tfitness: 315.8430, sphere value: 0.0010\n",
      "\n",
      "Gen 80 best gene: ['1000110001', '1000110000', '1000110001', '1000110010', '1000110001', '1000110001', '1000110001', '1000110001', '1000110001', '1000110010']\n",
      "\tx-values: [0.5, 0.49, 0.5, 0.51, 0.5, 0.5, 0.5, 0.5, 0.5, 0.] \n",
      "\tfitness: 315.8437, sphere value: 0.0003\n",
      "\n",
      "Gen 90 best gene: ['1000110001', '1000110001', '1000110001', '1000110010', '1000110001', '1000110001', '1000110001', '1000110001', '1000110001', '1000110001']\n",
      "\tx-values: [0.5, 0.5, 0.5, 0.51, 0.5, 0.5, 0.5, 0.5, 0.5, 0] \n",
      "\tfitness: 315.8439, sphere value: 0.0001\n",
      "\n",
      "Gen final best gene: ['1000110001', '1000110001', '1000110001', '1000110010', '1000110001', '1000110001', '1000110001', '1000110001', '1000110001', '1000110001']\n",
      "\tx-values: [0.5, 0.5, 0.5, 0.51, 0.5, 0.5, 0.5, 0.5, 0.5, 0] \n",
      "\tfitness: 315.8439, sphere value: 0.0001\n",
      "\n"
     ]
    }
   ],
   "source": [
    "## Traditional GA\n",
    "\n",
    "param = {\n",
    "    \"f\": lambda xs: sphere( 0.5, xs),\n",
    "    \"popSize\": 1000,\n",
    "    \"mutateProb\": 0.05,\n",
    "    \"nGeneration\": 100,\n",
    "    \"nBits\": 10,\n",
    "    \"maxVal\": sphere(0.5, [-5.12 for x in xrange(10)]),\n",
    "    \"pheno\" : lambda x: getDecimals(x),\n",
    "    \"initFn\": initBinGA, \n",
    "    \"mutateFn\": mutateBinary,\n",
    "    \"repr\": lambda x: [x[n:n+10] for n in xrange(0,len(x),10)],\n",
    "    \"printEvery\": 10\n",
    "}\n",
    "\n",
    "bestX =  geneticAlgo( param, True)"
   ]
  },
  {
   "cell_type": "markdown",
   "metadata": {},
   "source": [
    "---\n",
    "\n",
    "## Real Value GA ##"
   ]
  },
  {
   "cell_type": "markdown",
   "metadata": {},
   "source": [
    "### Real Value GA Helper Functions ###"
   ]
  },
  {
   "cell_type": "code",
   "execution_count": 9,
   "metadata": {
    "collapsed": true
   },
   "outputs": [],
   "source": [
    "def mutateReal(genes, p):\n",
    "    i = randrange(len(genes))\n",
    "    genes[i] = min( max(genes[i]*gauss(0,p['sigma']),-p['xMax']) , p['xMax'])\n",
    "    return genes\n",
    "\n",
    "def initRealGA(pm):\n",
    "    return [[random()*2*pm['xMax'] - pm['xMax'] for x in xrange(10)] \\\n",
    "           for y in xrange(pm['popSize'])]"
   ]
  },
  {
   "cell_type": "code",
   "execution_count": 10,
   "metadata": {
    "collapsed": false
   },
   "outputs": [
    {
     "name": "stdout",
     "output_type": "stream",
     "text": [
      "Gen final best gene: [0.443, 0.473, 0.501, 0.519, 0.461, 0.512, 0.550, 0.435, 0.502, 0.5]\n",
      "\tx-values: [0.443, 0.473, 0.501, 0.519, 0.461, 0.512, 0.55, 0.435, 0.502, 0.5] \n",
      "\tfitness: 315.8309, sphere value: 0.0131\n",
      "\n"
     ]
    }
   ],
   "source": [
    "## Real Valued GA\n",
    "\n",
    "param2 = {\n",
    "    \"f\": lambda xs: sphere( 0.5, xs),\n",
    "    \"popSize\": 1000,\n",
    "    \"mutateProb\": 0.01,\n",
    "    \"nGeneration\": 100,\n",
    "    \"nBits\": 10,\n",
    "    \"maxVal\": sphere(0.5, [-5.12 for x in xrange(10)]),\n",
    "    \"sigma\": 0.5,\n",
    "    \"xMax\": 5.12,\n",
    "    \n",
    "    \"pheno\" : lambda x: x,\n",
    "    \"initFn\": initRealGA, \n",
    "    \"mutateFn\": mutateReal,\n",
    "    \"repr\": lambda x: '[' + ', '.join('%.3f' % f for f in x)[:-2] + ']',\n",
    "    \"printEvery\": 10\n",
    "    \n",
    "}\n",
    "\n",
    "bestXreal = geneticAlgo( param2, False)"
   ]
  }
 ],
 "metadata": {
  "kernelspec": {
   "display_name": "Python 2",
   "language": "python",
   "name": "python2"
  },
  "language_info": {
   "codemirror_mode": {
    "name": "ipython",
    "version": 2
   },
   "file_extension": ".py",
   "mimetype": "text/x-python",
   "name": "python",
   "nbconvert_exporter": "python",
   "pygments_lexer": "ipython2",
   "version": "2.7.12"
  }
 },
 "nbformat": 4,
 "nbformat_minor": 0
}
